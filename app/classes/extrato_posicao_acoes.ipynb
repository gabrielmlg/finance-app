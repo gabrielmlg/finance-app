{
 "cells": [
  {
   "cell_type": "code",
   "execution_count": 1,
   "metadata": {},
   "outputs": [],
   "source": [
    "from model import Posicao, Extrato\n",
    "from views import FundoInvestimento, Acao, FundoImobiliario\n",
    "#from controllers import MainController\n",
    "import numpy as np\n",
    "import pandas as pd \n",
    "from datetime import datetime\n",
    "\n",
    "import plotly.graph_objs as go\n",
    "\n",
    "# Config\n",
    "pd.options.display.float_format = '{:,.2f}'.format\n",
    "pd.set_option('display.max_columns', None)\n",
    "pd.set_option('display.max_rows', None)\n",
    "pd.set_option('display.width', None)\n",
    "pd.set_option('display.max_colwidth', None)"
   ]
  },
  {
   "cell_type": "code",
   "execution_count": 2,
   "metadata": {},
   "outputs": [
    {
     "name": "stderr",
     "output_type": "stream",
     "text": [
      "/Users/gabriellopes/Documents/finance-app/app/classes/model.py:286: SettingWithCopyWarning: \n",
      "A value is trying to be set on a copy of a slice from a DataFrame.\n",
      "Try using .loc[row_indexer,col_indexer] = value instead\n",
      "\n",
      "See the caveats in the documentation: https://pandas.pydata.org/pandas-docs/stable/user_guide/indexing.html#returning-a-view-versus-a-copy\n",
      "  self.aportes_fi_hist['Nome'] = self.aportes_fi_hist['Descricao'].apply(self.__map_fi)\n",
      "/Users/gabriellopes/Documents/finance-app/app/classes/model.py:295: SettingWithCopyWarning: \n",
      "A value is trying to be set on a copy of a slice from a DataFrame.\n",
      "Try using .loc[row_indexer,col_indexer] = value instead\n",
      "\n",
      "See the caveats in the documentation: https://pandas.pydata.org/pandas-docs/stable/user_guide/indexing.html#returning-a-view-versus-a-copy\n",
      "  self.ir_fi_hist['Nome'] = self.ir_fi_hist['Descricao'].apply(self.__map_fi)\n"
     ]
    }
   ],
   "source": [
    "posicao_model = Posicao() \n",
    "posicao_model.load_data()\n",
    "extrato = Extrato(2010, 2020)\n",
    "fundo_investimento = FundoInvestimento(\n",
    "    posicao=posicao_model.fis, \n",
    "    extrato=extrato.extrato_fis\n",
    ")\n",
    "acoes = Acao(posicao=posicao_model.acoes, extrato=extrato.df)\n",
    "fiis = FundoImobiliario(posicao=posicao_model.fiis, extrato=extrato.df)"
   ]
  },
  {
   "cell_type": "markdown",
   "metadata": {},
   "source": [
    "**Mapeado todos os FIs**\n",
    "\n",
    "Verifica se existe FI no extrato não mapeado"
   ]
  },
  {
   "cell_type": "code",
   "execution_count": 3,
   "metadata": {
    "scrolled": true
   },
   "outputs": [
    {
     "data": {
      "text/html": [
       "<div>\n",
       "<style scoped>\n",
       "    .dataframe tbody tr th:only-of-type {\n",
       "        vertical-align: middle;\n",
       "    }\n",
       "\n",
       "    .dataframe tbody tr th {\n",
       "        vertical-align: top;\n",
       "    }\n",
       "\n",
       "    .dataframe thead th {\n",
       "        text-align: right;\n",
       "    }\n",
       "</style>\n",
       "<table border=\"1\" class=\"dataframe\">\n",
       "  <thead>\n",
       "    <tr style=\"text-align: right;\">\n",
       "      <th></th>\n",
       "      <th>Liq</th>\n",
       "      <th>Mov</th>\n",
       "      <th>Descricao</th>\n",
       "      <th>Valor</th>\n",
       "      <th>Saldo</th>\n",
       "      <th>ano</th>\n",
       "      <th>mes</th>\n",
       "      <th>Nome</th>\n",
       "    </tr>\n",
       "  </thead>\n",
       "  <tbody>\n",
       "  </tbody>\n",
       "</table>\n",
       "</div>"
      ],
      "text/plain": [
       "Empty DataFrame\n",
       "Columns: [Liq, Mov, Descricao, Valor, Saldo, ano, mes, Nome]\n",
       "Index: []"
      ]
     },
     "execution_count": 3,
     "metadata": {},
     "output_type": "execute_result"
    }
   ],
   "source": [
    "#fundo_investimento.extrato[fundo_investimento.extrato['Nome'].str.contains('unknown')].head()\n",
    "extrato.aportes_fi_hist[extrato.aportes_fi_hist['Nome'] == 'unknown']"
   ]
  },
  {
   "cell_type": "code",
   "execution_count": null,
   "metadata": {},
   "outputs": [],
   "source": [
    "resumo_ = fundo_investimento.resumo(2010, 2020)\n",
    "\n",
    "resumo_.head()\n",
    "\n",
    "display(resumo_[resumo_['Nome'] == 'Bahia AM Maraú FIC de FIM'])"
   ]
  },
  {
   "cell_type": "code",
   "execution_count": null,
   "metadata": {},
   "outputs": [],
   "source": [
    "resumo_.head(1)"
   ]
  },
  {
   "cell_type": "code",
   "execution_count": null,
   "metadata": {},
   "outputs": [],
   "source": [
    "df_pos = fundo_investimento.calcula_rentabilidade(2010, 2020)\n",
    "\n",
    "df_pos['Data'] = df_pos['Data'].astype(np.datetime64)\n",
    "\n",
    "start = datetime(2010, 1, 1)\n",
    "end = datetime(int(datetime.now().year), 12, 31)\n",
    "ix_date = pd.date_range(start, end, freq='M')\n",
    "df_ixDate = pd.DataFrame(ix_date, columns=['Data'])\n",
    "df_ixDate['ano'] = df_ixDate['Data'].dt.year\n",
    "df_ixDate['mes'] = df_ixDate['Data'].dt.month\n",
    "\n",
    "df_tmp = pd.DataFrame([], columns=df_pos.columns)\n",
    "\n",
    "for fi in df_pos['Nome'].unique():\n",
    "    df_pos_ = df_ixDate.merge(df_pos[df_pos['Nome'] ==  fi], \n",
    "                                    how='left', \n",
    "                                    left_on=['ano', 'mes'], \n",
    "                                    right_on=['ano', 'mes']).reset_index().fillna(0)\n",
    "    df_pos_['Nome'] = fi\n",
    "    df_pos_['mes'] = df_pos_['Data_x'].dt.month\n",
    "    df_pos_['ano'] = df_pos_['Data_x'].dt.year\n",
    "    df_pos_['data_posicao'] = df_pos_['Data_x']\n",
    "    df_tmp = df_tmp.append(df_pos_)\n",
    "\n",
    "\n",
    "display(df_tmp[df_tmp['Nome'] == 'AZ Quest Multi FIC FIM'])"
   ]
  },
  {
   "cell_type": "code",
   "execution_count": null,
   "metadata": {},
   "outputs": [],
   "source": [
    "resumo_fi = fundo_investimento.resumo(2010, 2020)"
   ]
  },
  {
   "cell_type": "code",
   "execution_count": null,
   "metadata": {},
   "outputs": [],
   "source": [
    "#display(resumo_fi[resumo_fi['Nome'] == 'Icatu Vanguarda Pré-Fixado FIRF '].sum())\n",
    "\n",
    "display(resumo_fi[resumo_fi['Nome'] == 'Icatu Vanguarda Pré-Fixado FIRF '])"
   ]
  },
  {
   "cell_type": "code",
   "execution_count": null,
   "metadata": {},
   "outputs": [],
   "source": [
    "resumo_fi.head(1)"
   ]
  },
  {
   "cell_type": "code",
   "execution_count": null,
   "metadata": {},
   "outputs": [],
   "source": [
    "start = datetime(resumo_fi['ano'].min(), 1, 1)\n",
    "end = datetime(resumo_fi['ano'].max(), 12, 1)\n",
    "\n",
    "print('De: {} até {}'.format(start, end))"
   ]
  },
  {
   "cell_type": "code",
   "execution_count": null,
   "metadata": {},
   "outputs": [],
   "source": [
    "resumo_fi['Nome'].unique()"
   ]
  },
  {
   "cell_type": "code",
   "execution_count": null,
   "metadata": {},
   "outputs": [],
   "source": [
    "fundo_investimento.extrato.head()"
   ]
  },
  {
   "cell_type": "code",
   "execution_count": null,
   "metadata": {},
   "outputs": [],
   "source": [
    "display(resumo_fi.sort_values(['ano', 'mes'], ascending=False).head(2))\n",
    "resumo_fi[resumo_fi['Nome'] == 'Azul Quantitativo FIM']"
   ]
  },
  {
   "cell_type": "code",
   "execution_count": null,
   "metadata": {},
   "outputs": [],
   "source": [
    "df_pos[df_pos['Nome'] == 'Bahia AM Maraú FIC de FIM']"
   ]
  },
  {
   "cell_type": "code",
   "execution_count": null,
   "metadata": {},
   "outputs": [],
   "source": [
    "extrato.aportes_xp"
   ]
  },
  {
   "cell_type": "code",
   "execution_count": null,
   "metadata": {},
   "outputs": [],
   "source": []
  }
 ],
 "metadata": {
  "kernelspec": {
   "display_name": "Python 3",
   "language": "python",
   "name": "python3"
  },
  "language_info": {
   "codemirror_mode": {
    "name": "ipython",
    "version": 3
   },
   "file_extension": ".py",
   "mimetype": "text/x-python",
   "name": "python",
   "nbconvert_exporter": "python",
   "pygments_lexer": "ipython3",
   "version": "3.8.5"
  }
 },
 "nbformat": 4,
 "nbformat_minor": 4
}
