{
 "cells": [
  {
   "cell_type": "code",
   "execution_count": 1,
   "metadata": {},
   "outputs": [],
   "source": [
    "from model import Posicao, Extrato, AwsModel\n",
    "from views import FundoInvestimento, Acao, FundoImobiliario\n",
    "from controllers import MainController\n",
    "import numpy as np\n",
    "import pandas as pd \n",
    "from datetime import datetime\n",
    "import os\n",
    "\n",
    "import plotly.graph_objs as go\n",
    "\n",
    "# Config\n",
    "pd.options.display.float_format = '{:,.2f}'.format\n",
    "pd.set_option('display.max_columns', None)\n",
    "pd.set_option('display.max_rows', None)\n",
    "pd.set_option('display.width', None)\n",
    "pd.set_option('display.max_colwidth', None)"
   ]
  },
  {
   "cell_type": "code",
   "execution_count": 2,
   "metadata": {
    "scrolled": true
   },
   "outputs": [
    {
     "name": "stdout",
     "output_type": "stream",
     "text": [
      "WARNING *** file size (60570) not 512 + multiple of sector size (512)\n",
      "WARNING *** file size (71838) not 512 + multiple of sector size (512)\n",
      "WARNING *** file size (71834) not 512 + multiple of sector size (512)\n",
      "WARNING *** file size (69788) not 512 + multiple of sector size (512)\n",
      "WARNING *** file size (60570) not 512 + multiple of sector size (512)\n",
      "WARNING *** file size (60570) not 512 + multiple of sector size (512)\n",
      "WARNING *** file size (60572) not 512 + multiple of sector size (512)\n",
      "WARNING *** file size (59548) not 512 + multiple of sector size (512)\n",
      "WARNING *** file size (59546) not 512 + multiple of sector size (512)\n",
      "WARNING *** file size (59546) not 512 + multiple of sector size (512)\n",
      "WARNING *** file size (59546) not 512 + multiple of sector size (512)\n",
      "WARNING *** file size (59548) not 512 + multiple of sector size (512)\n",
      "WARNING *** file size (59546) not 512 + multiple of sector size (512)\n",
      "WARNING *** file size (59548) not 512 + multiple of sector size (512)\n",
      "WARNING *** file size (59546) not 512 + multiple of sector size (512)\n",
      "WARNING *** file size (59546) not 512 + multiple of sector size (512)\n",
      "WARNING *** file size (59548) not 512 + multiple of sector size (512)\n",
      "WARNING *** file size (78490) not 512 + multiple of sector size (512)\n",
      "WARNING *** file size (59548) not 512 + multiple of sector size (512)\n",
      "WARNING *** file size (59548) not 512 + multiple of sector size (512)\n",
      "WARNING *** file size (59548) not 512 + multiple of sector size (512)\n",
      "WARNING *** file size (58524) not 512 + multiple of sector size (512)\n",
      "WARNING *** file size (58522) not 512 + multiple of sector size (512)\n",
      "WARNING *** file size (58522) not 512 + multiple of sector size (512)\n",
      "WARNING *** file size (60572) not 512 + multiple of sector size (512)\n",
      "WARNING *** file size (60570) not 512 + multiple of sector size (512)\n",
      "WARNING *** file size (58526) not 512 + multiple of sector size (512)\n",
      "WARNING *** file size (59034) not 512 + multiple of sector size (512)\n",
      "WARNING *** file size (75418) not 512 + multiple of sector size (512)\n",
      "WARNING *** file size (65692) not 512 + multiple of sector size (512)\n",
      "WARNING *** file size (57498) not 512 + multiple of sector size (512)\n",
      "WARNING *** file size (57500) not 512 + multiple of sector size (512)\n",
      "WARNING *** file size (55452) not 512 + multiple of sector size (512)\n",
      "WARNING *** file size (59470) not 512 + multiple of sector size (512)\n",
      "WARNING *** file size (54430) not 512 + multiple of sector size (512)\n",
      "WARNING *** file size (54428) not 512 + multiple of sector size (512)\n",
      "WARNING *** file size (54426) not 512 + multiple of sector size (512)\n",
      "WARNING *** file size (54426) not 512 + multiple of sector size (512)\n",
      "WARNING *** file size (54428) not 512 + multiple of sector size (512)\n",
      "WARNING *** file size (54426) not 512 + multiple of sector size (512)\n",
      "WARNING *** file size (77466) not 512 + multiple of sector size (512)\n",
      "WARNING *** file size (66716) not 512 + multiple of sector size (512)\n",
      "WARNING *** file size (54428) not 512 + multiple of sector size (512)\n",
      "WARNING *** file size (49820) not 512 + multiple of sector size (512)\n",
      "WARNING *** file size (49820) not 512 + multiple of sector size (512)\n",
      "WARNING *** file size (49822) not 512 + multiple of sector size (512)\n",
      "WARNING *** file size (75420) not 512 + multiple of sector size (512)\n",
      "WARNING *** file size (60572) not 512 + multiple of sector size (512)\n",
      "WARNING *** file size (72346) not 512 + multiple of sector size (512)\n",
      "WARNING *** file size (49820) not 512 + multiple of sector size (512)\n",
      "WARNING *** file size (49820) not 512 + multiple of sector size (512)\n",
      "WARNING *** file size (49820) not 512 + multiple of sector size (512)\n",
      "WARNING *** file size (49818) not 512 + multiple of sector size (512)\n",
      "WARNING *** file size (65696) not 512 + multiple of sector size (512)\n",
      "WARNING *** file size (70812) not 512 + multiple of sector size (512)\n",
      "WARNING *** file size (65180) not 512 + multiple of sector size (512)\n",
      "WARNING *** file size (60572) not 512 + multiple of sector size (512)\n",
      "WARNING *** file size (56476) not 512 + multiple of sector size (512)\n",
      "WARNING *** file size (56474) not 512 + multiple of sector size (512)\n",
      "WARNING *** file size (56476) not 512 + multiple of sector size (512)\n",
      "WARNING *** file size (56474) not 512 + multiple of sector size (512)\n",
      "WARNING *** file size (56476) not 512 + multiple of sector size (512)\n",
      "WARNING *** file size (56474) not 512 + multiple of sector size (512)\n",
      "WARNING *** file size (56474) not 512 + multiple of sector size (512)\n",
      "WARNING *** file size (57500) not 512 + multiple of sector size (512)\n",
      "WARNING *** file size (56480) not 512 + multiple of sector size (512)\n",
      "WARNING *** file size (56476) not 512 + multiple of sector size (512)\n",
      "WARNING *** file size (60572) not 512 + multiple of sector size (512)\n",
      "WARNING *** file size (60574) not 512 + multiple of sector size (512)\n",
      "WARNING *** file size (56988) not 512 + multiple of sector size (512)\n",
      "WARNING *** file size (56474) not 512 + multiple of sector size (512)\n",
      "WARNING *** file size (56474) not 512 + multiple of sector size (512)\n",
      "WARNING *** file size (56474) not 512 + multiple of sector size (512)\n",
      "WARNING *** file size (55452) not 512 + multiple of sector size (512)\n",
      "WARNING *** file size (55450) not 512 + multiple of sector size (512)\n",
      "WARNING *** file size (60572) not 512 + multiple of sector size (512)\n",
      "WARNING *** file size (59550) not 512 + multiple of sector size (512)\n",
      "WARNING *** file size (74908) not 512 + multiple of sector size (512)\n",
      "WARNING *** file size (76956) not 512 + multiple of sector size (512)\n",
      "WARNING *** file size (83612) not 512 + multiple of sector size (512)\n"
     ]
    },
    {
     "name": "stderr",
     "output_type": "stream",
     "text": [
      "/Users/gabriellopes/opt/anaconda3/lib/python3.8/site-packages/pandas/core/indexing.py:1596: SettingWithCopyWarning: \n",
      "A value is trying to be set on a copy of a slice from a DataFrame.\n",
      "Try using .loc[row_indexer,col_indexer] = value instead\n",
      "\n",
      "See the caveats in the documentation: https://pandas.pydata.org/pandas-docs/stable/user_guide/indexing.html#returning-a-view-versus-a-copy\n",
      "  self.obj[key] = _infer_fill_value(value)\n",
      "/Users/gabriellopes/opt/anaconda3/lib/python3.8/site-packages/pandas/core/indexing.py:1745: SettingWithCopyWarning: \n",
      "A value is trying to be set on a copy of a slice from a DataFrame.\n",
      "Try using .loc[row_indexer,col_indexer] = value instead\n",
      "\n",
      "See the caveats in the documentation: https://pandas.pydata.org/pandas-docs/stable/user_guide/indexing.html#returning-a-view-versus-a-copy\n",
      "  isetter(ilocs[0], value)\n"
     ]
    }
   ],
   "source": [
    "main_controller = MainController()"
   ]
  },
  {
   "cell_type": "code",
   "execution_count": 3,
   "metadata": {},
   "outputs": [],
   "source": [
    "df_tmp = main_controller.get_revenue_dataset()"
   ]
  },
  {
   "cell_type": "code",
   "execution_count": 4,
   "metadata": {},
   "outputs": [
    {
     "data": {
      "text/html": [
       "<div>\n",
       "<style scoped>\n",
       "    .dataframe tbody tr th:only-of-type {\n",
       "        vertical-align: middle;\n",
       "    }\n",
       "\n",
       "    .dataframe tbody tr th {\n",
       "        vertical-align: top;\n",
       "    }\n",
       "\n",
       "    .dataframe thead th {\n",
       "        text-align: right;\n",
       "    }\n",
       "</style>\n",
       "<table border=\"1\" class=\"dataframe\">\n",
       "  <thead>\n",
       "    <tr style=\"text-align: right;\">\n",
       "      <th></th>\n",
       "      <th>Data</th>\n",
       "      <th>ano</th>\n",
       "      <th>mes</th>\n",
       "      <th>financeiro</th>\n",
       "      <th>aporte</th>\n",
       "      <th>retirada</th>\n",
       "      <th>rendimento</th>\n",
       "      <th>%</th>\n",
       "      <th>renda_acum</th>\n",
       "      <th>aporte_acum</th>\n",
       "      <th>retirada_acum</th>\n",
       "      <th>investido</th>\n",
       "      <th>% renda_acum</th>\n",
       "    </tr>\n",
       "  </thead>\n",
       "  <tbody>\n",
       "    <tr>\n",
       "      <th>48</th>\n",
       "      <td>2014-01-31</td>\n",
       "      <td>2014</td>\n",
       "      <td>1</td>\n",
       "      <td>0.00</td>\n",
       "      <td>5,000.00</td>\n",
       "      <td>0.00</td>\n",
       "      <td>0.00</td>\n",
       "      <td>0.00</td>\n",
       "      <td>0.00</td>\n",
       "      <td>22,600.00</td>\n",
       "      <td>0.00</td>\n",
       "      <td>22,600.00</td>\n",
       "      <td>0.00</td>\n",
       "    </tr>\n",
       "    <tr>\n",
       "      <th>49</th>\n",
       "      <td>2014-02-28</td>\n",
       "      <td>2014</td>\n",
       "      <td>2</td>\n",
       "      <td>0.00</td>\n",
       "      <td>0.00</td>\n",
       "      <td>0.00</td>\n",
       "      <td>0.00</td>\n",
       "      <td>0.00</td>\n",
       "      <td>0.00</td>\n",
       "      <td>22,600.00</td>\n",
       "      <td>0.00</td>\n",
       "      <td>22,600.00</td>\n",
       "      <td>0.00</td>\n",
       "    </tr>\n",
       "    <tr>\n",
       "      <th>50</th>\n",
       "      <td>2014-03-31</td>\n",
       "      <td>2014</td>\n",
       "      <td>3</td>\n",
       "      <td>0.00</td>\n",
       "      <td>0.00</td>\n",
       "      <td>0.00</td>\n",
       "      <td>0.00</td>\n",
       "      <td>0.00</td>\n",
       "      <td>0.00</td>\n",
       "      <td>22,600.00</td>\n",
       "      <td>0.00</td>\n",
       "      <td>22,600.00</td>\n",
       "      <td>0.00</td>\n",
       "    </tr>\n",
       "    <tr>\n",
       "      <th>51</th>\n",
       "      <td>2014-04-30</td>\n",
       "      <td>2014</td>\n",
       "      <td>4</td>\n",
       "      <td>0.00</td>\n",
       "      <td>885.17</td>\n",
       "      <td>0.00</td>\n",
       "      <td>0.00</td>\n",
       "      <td>0.00</td>\n",
       "      <td>0.00</td>\n",
       "      <td>23,485.17</td>\n",
       "      <td>0.00</td>\n",
       "      <td>23,485.17</td>\n",
       "      <td>0.00</td>\n",
       "    </tr>\n",
       "    <tr>\n",
       "      <th>52</th>\n",
       "      <td>2014-05-31</td>\n",
       "      <td>2014</td>\n",
       "      <td>5</td>\n",
       "      <td>0.00</td>\n",
       "      <td>0.00</td>\n",
       "      <td>0.00</td>\n",
       "      <td>0.00</td>\n",
       "      <td>0.00</td>\n",
       "      <td>0.00</td>\n",
       "      <td>23,485.17</td>\n",
       "      <td>0.00</td>\n",
       "      <td>23,485.17</td>\n",
       "      <td>0.00</td>\n",
       "    </tr>\n",
       "  </tbody>\n",
       "</table>\n",
       "</div>"
      ],
      "text/plain": [
       "         Data   ano  mes  financeiro   aporte  retirada  rendimento    %  \\\n",
       "48 2014-01-31  2014    1        0.00 5,000.00      0.00        0.00 0.00   \n",
       "49 2014-02-28  2014    2        0.00     0.00      0.00        0.00 0.00   \n",
       "50 2014-03-31  2014    3        0.00     0.00      0.00        0.00 0.00   \n",
       "51 2014-04-30  2014    4        0.00   885.17      0.00        0.00 0.00   \n",
       "52 2014-05-31  2014    5        0.00     0.00      0.00        0.00 0.00   \n",
       "\n",
       "    renda_acum  aporte_acum  retirada_acum  investido  % renda_acum  \n",
       "48        0.00    22,600.00           0.00  22,600.00          0.00  \n",
       "49        0.00    22,600.00           0.00  22,600.00          0.00  \n",
       "50        0.00    22,600.00           0.00  22,600.00          0.00  \n",
       "51        0.00    23,485.17           0.00  23,485.17          0.00  \n",
       "52        0.00    23,485.17           0.00  23,485.17          0.00  "
      ]
     },
     "execution_count": 4,
     "metadata": {},
     "output_type": "execute_result"
    }
   ],
   "source": [
    "df_tmp.head()"
   ]
  },
  {
   "cell_type": "code",
   "execution_count": 5,
   "metadata": {},
   "outputs": [],
   "source": [
    "df_stock_revenue = main_controller.stock_revenue_chart()"
   ]
  },
  {
   "cell_type": "code",
   "execution_count": 6,
   "metadata": {},
   "outputs": [
    {
     "data": {
      "text/html": [
       "<div>\n",
       "<style scoped>\n",
       "    .dataframe tbody tr th:only-of-type {\n",
       "        vertical-align: middle;\n",
       "    }\n",
       "\n",
       "    .dataframe tbody tr th {\n",
       "        vertical-align: top;\n",
       "    }\n",
       "\n",
       "    .dataframe thead th {\n",
       "        text-align: right;\n",
       "    }\n",
       "</style>\n",
       "<table border=\"1\" class=\"dataframe\">\n",
       "  <thead>\n",
       "    <tr style=\"text-align: right;\">\n",
       "      <th></th>\n",
       "      <th>Data</th>\n",
       "      <th>ano</th>\n",
       "      <th>mes</th>\n",
       "      <th>financeiro</th>\n",
       "      <th>aporte</th>\n",
       "      <th>retirada</th>\n",
       "      <th>rendimento</th>\n",
       "      <th>%</th>\n",
       "      <th>renda_acum</th>\n",
       "      <th>aporte_acum</th>\n",
       "      <th>retirada_acum</th>\n",
       "      <th>investido</th>\n",
       "      <th>% renda_acum</th>\n",
       "    </tr>\n",
       "  </thead>\n",
       "  <tbody>\n",
       "    <tr>\n",
       "      <th>48</th>\n",
       "      <td>2014-01-31</td>\n",
       "      <td>2014</td>\n",
       "      <td>1</td>\n",
       "      <td>0.00</td>\n",
       "      <td>0.00</td>\n",
       "      <td>0.00</td>\n",
       "      <td>0.00</td>\n",
       "      <td>0.00</td>\n",
       "      <td>0.00</td>\n",
       "      <td>0.00</td>\n",
       "      <td>0.00</td>\n",
       "      <td>0.00</td>\n",
       "      <td>0.00</td>\n",
       "    </tr>\n",
       "    <tr>\n",
       "      <th>49</th>\n",
       "      <td>2014-02-28</td>\n",
       "      <td>2014</td>\n",
       "      <td>2</td>\n",
       "      <td>0.00</td>\n",
       "      <td>0.00</td>\n",
       "      <td>0.00</td>\n",
       "      <td>0.00</td>\n",
       "      <td>0.00</td>\n",
       "      <td>0.00</td>\n",
       "      <td>0.00</td>\n",
       "      <td>0.00</td>\n",
       "      <td>0.00</td>\n",
       "      <td>0.00</td>\n",
       "    </tr>\n",
       "    <tr>\n",
       "      <th>50</th>\n",
       "      <td>2014-03-31</td>\n",
       "      <td>2014</td>\n",
       "      <td>3</td>\n",
       "      <td>0.00</td>\n",
       "      <td>0.00</td>\n",
       "      <td>0.00</td>\n",
       "      <td>0.00</td>\n",
       "      <td>0.00</td>\n",
       "      <td>0.00</td>\n",
       "      <td>0.00</td>\n",
       "      <td>0.00</td>\n",
       "      <td>0.00</td>\n",
       "      <td>0.00</td>\n",
       "    </tr>\n",
       "    <tr>\n",
       "      <th>51</th>\n",
       "      <td>2014-04-30</td>\n",
       "      <td>2014</td>\n",
       "      <td>4</td>\n",
       "      <td>0.00</td>\n",
       "      <td>0.00</td>\n",
       "      <td>0.00</td>\n",
       "      <td>0.00</td>\n",
       "      <td>0.00</td>\n",
       "      <td>0.00</td>\n",
       "      <td>0.00</td>\n",
       "      <td>0.00</td>\n",
       "      <td>0.00</td>\n",
       "      <td>0.00</td>\n",
       "    </tr>\n",
       "    <tr>\n",
       "      <th>52</th>\n",
       "      <td>2014-05-31</td>\n",
       "      <td>2014</td>\n",
       "      <td>5</td>\n",
       "      <td>0.00</td>\n",
       "      <td>0.00</td>\n",
       "      <td>0.00</td>\n",
       "      <td>0.00</td>\n",
       "      <td>0.00</td>\n",
       "      <td>0.00</td>\n",
       "      <td>0.00</td>\n",
       "      <td>0.00</td>\n",
       "      <td>0.00</td>\n",
       "      <td>0.00</td>\n",
       "    </tr>\n",
       "  </tbody>\n",
       "</table>\n",
       "</div>"
      ],
      "text/plain": [
       "         Data   ano  mes  financeiro  aporte  retirada  rendimento    %  \\\n",
       "48 2014-01-31  2014    1        0.00    0.00      0.00        0.00 0.00   \n",
       "49 2014-02-28  2014    2        0.00    0.00      0.00        0.00 0.00   \n",
       "50 2014-03-31  2014    3        0.00    0.00      0.00        0.00 0.00   \n",
       "51 2014-04-30  2014    4        0.00    0.00      0.00        0.00 0.00   \n",
       "52 2014-05-31  2014    5        0.00    0.00      0.00        0.00 0.00   \n",
       "\n",
       "    renda_acum  aporte_acum  retirada_acum  investido  % renda_acum  \n",
       "48        0.00         0.00           0.00       0.00          0.00  \n",
       "49        0.00         0.00           0.00       0.00          0.00  \n",
       "50        0.00         0.00           0.00       0.00          0.00  \n",
       "51        0.00         0.00           0.00       0.00          0.00  \n",
       "52        0.00         0.00           0.00       0.00          0.00  "
      ]
     },
     "execution_count": 6,
     "metadata": {},
     "output_type": "execute_result"
    }
   ],
   "source": [
    "df_stock_revenue.head()"
   ]
  },
  {
   "cell_type": "code",
   "execution_count": 7,
   "metadata": {},
   "outputs": [
    {
     "data": {
      "text/html": [
       "<div>\n",
       "<style scoped>\n",
       "    .dataframe tbody tr th:only-of-type {\n",
       "        vertical-align: middle;\n",
       "    }\n",
       "\n",
       "    .dataframe tbody tr th {\n",
       "        vertical-align: top;\n",
       "    }\n",
       "\n",
       "    .dataframe thead th {\n",
       "        text-align: right;\n",
       "    }\n",
       "</style>\n",
       "<table border=\"1\" class=\"dataframe\">\n",
       "  <thead>\n",
       "    <tr style=\"text-align: right;\">\n",
       "      <th></th>\n",
       "      <th>Ativo</th>\n",
       "      <th>Data</th>\n",
       "      <th>ano</th>\n",
       "      <th>mes</th>\n",
       "      <th>financeiro</th>\n",
       "      <th>aporte</th>\n",
       "      <th>retirada</th>\n",
       "      <th>rendimento</th>\n",
       "      <th>%</th>\n",
       "      <th>renda_acum</th>\n",
       "      <th>aporte_acum</th>\n",
       "      <th>retirada_acum</th>\n",
       "      <th>investido</th>\n",
       "      <th>% renda_acum</th>\n",
       "    </tr>\n",
       "  </thead>\n",
       "  <tbody>\n",
       "    <tr>\n",
       "      <th>48</th>\n",
       "      <td>AMZO34</td>\n",
       "      <td>2014-01-31</td>\n",
       "      <td>2014</td>\n",
       "      <td>1</td>\n",
       "      <td>0.00</td>\n",
       "      <td>0.00</td>\n",
       "      <td>0.00</td>\n",
       "      <td>0.00</td>\n",
       "      <td>0.00</td>\n",
       "      <td>0.00</td>\n",
       "      <td>0.00</td>\n",
       "      <td>0.00</td>\n",
       "      <td>0.00</td>\n",
       "      <td>0.00</td>\n",
       "    </tr>\n",
       "    <tr>\n",
       "      <th>49</th>\n",
       "      <td>AMZO34</td>\n",
       "      <td>2014-02-28</td>\n",
       "      <td>2014</td>\n",
       "      <td>2</td>\n",
       "      <td>0.00</td>\n",
       "      <td>0.00</td>\n",
       "      <td>0.00</td>\n",
       "      <td>0.00</td>\n",
       "      <td>0.00</td>\n",
       "      <td>0.00</td>\n",
       "      <td>0.00</td>\n",
       "      <td>0.00</td>\n",
       "      <td>0.00</td>\n",
       "      <td>0.00</td>\n",
       "    </tr>\n",
       "    <tr>\n",
       "      <th>50</th>\n",
       "      <td>AMZO34</td>\n",
       "      <td>2014-03-31</td>\n",
       "      <td>2014</td>\n",
       "      <td>3</td>\n",
       "      <td>0.00</td>\n",
       "      <td>0.00</td>\n",
       "      <td>0.00</td>\n",
       "      <td>0.00</td>\n",
       "      <td>0.00</td>\n",
       "      <td>0.00</td>\n",
       "      <td>0.00</td>\n",
       "      <td>0.00</td>\n",
       "      <td>0.00</td>\n",
       "      <td>0.00</td>\n",
       "    </tr>\n",
       "    <tr>\n",
       "      <th>51</th>\n",
       "      <td>AMZO34</td>\n",
       "      <td>2014-04-30</td>\n",
       "      <td>2014</td>\n",
       "      <td>4</td>\n",
       "      <td>0.00</td>\n",
       "      <td>0.00</td>\n",
       "      <td>0.00</td>\n",
       "      <td>0.00</td>\n",
       "      <td>0.00</td>\n",
       "      <td>0.00</td>\n",
       "      <td>0.00</td>\n",
       "      <td>0.00</td>\n",
       "      <td>0.00</td>\n",
       "      <td>0.00</td>\n",
       "    </tr>\n",
       "    <tr>\n",
       "      <th>52</th>\n",
       "      <td>AMZO34</td>\n",
       "      <td>2014-05-31</td>\n",
       "      <td>2014</td>\n",
       "      <td>5</td>\n",
       "      <td>0.00</td>\n",
       "      <td>0.00</td>\n",
       "      <td>0.00</td>\n",
       "      <td>0.00</td>\n",
       "      <td>0.00</td>\n",
       "      <td>0.00</td>\n",
       "      <td>0.00</td>\n",
       "      <td>0.00</td>\n",
       "      <td>0.00</td>\n",
       "      <td>0.00</td>\n",
       "    </tr>\n",
       "  </tbody>\n",
       "</table>\n",
       "</div>"
      ],
      "text/plain": [
       "     Ativo       Data   ano  mes  financeiro  aporte  retirada  rendimento  \\\n",
       "48  AMZO34 2014-01-31  2014    1        0.00    0.00      0.00        0.00   \n",
       "49  AMZO34 2014-02-28  2014    2        0.00    0.00      0.00        0.00   \n",
       "50  AMZO34 2014-03-31  2014    3        0.00    0.00      0.00        0.00   \n",
       "51  AMZO34 2014-04-30  2014    4        0.00    0.00      0.00        0.00   \n",
       "52  AMZO34 2014-05-31  2014    5        0.00    0.00      0.00        0.00   \n",
       "\n",
       "      %  renda_acum  aporte_acum  retirada_acum  investido  % renda_acum  \n",
       "48 0.00        0.00         0.00           0.00       0.00          0.00  \n",
       "49 0.00        0.00         0.00           0.00       0.00          0.00  \n",
       "50 0.00        0.00         0.00           0.00       0.00          0.00  \n",
       "51 0.00        0.00         0.00           0.00       0.00          0.00  \n",
       "52 0.00        0.00         0.00           0.00       0.00          0.00  "
      ]
     },
     "execution_count": 7,
     "metadata": {},
     "output_type": "execute_result"
    }
   ],
   "source": [
    "df1 = main_controller.acoes.resumo[main_controller.acoes.resumo['Data'] <= '2020-12-31'].groupby(['Papel', 'Data', 'ano', 'mes'])\\\n",
    "        .agg(financeiro=('Financeiro', 'sum'), \n",
    "            aporte=('aporte', 'sum'), \n",
    "            retirada=('retirada', 'sum'), \n",
    "            rendimento=('rendimento', 'sum'))\\\n",
    "        .reset_index()\\\n",
    "        .rename(columns={'Papel': 'Ativo'})\n",
    "df1['Tipo'] = 'Ação'\n",
    "\n",
    "df2 = main_controller.fiis.resumo[main_controller.fiis.resumo['Data'] <= '2020-12-31'].groupby(['Papel', 'Data', 'ano', 'mes'])\\\n",
    "            .agg(financeiro=('Financeiro', 'sum'), \n",
    "                aporte=('aporte', 'sum'), \n",
    "                retirada=('retirada', 'sum'), \n",
    "                rendimento=('rendimento', 'sum'))\\\n",
    "            .reset_index()\\\n",
    "            .rename(columns={'Papel': 'Ativo'})\n",
    "\n",
    "df3 = main_controller.fi.resumo[main_controller.fi.resumo['data_posicao'] <= '2020-12-31'].groupby(['Nome', 'data_posicao', 'ano', 'mes'])\\\n",
    "            .agg(financeiro=('Total Bruto', 'sum'), \n",
    "                aporte=('aporte', 'sum'), \n",
    "                retirada=('retirada', 'sum'), \n",
    "                rendimento=('rendimento', 'sum'))\\\n",
    "            .reset_index()\\\n",
    "            .rename(columns={'data_posicao': 'Data', \n",
    "                            'Nome': 'Ativo'})      \n",
    "\n",
    "df_graph1 = df1.append(df2, ignore_index=True).append(df3, ignore_index=True)\n",
    "df_graph1 = df_graph1.groupby(['Ativo', 'Data', 'ano', 'mes'])\\\n",
    "        .agg(financeiro=('financeiro', 'sum'), \n",
    "            aporte=('aporte', 'sum'), \n",
    "            retirada=('retirada', 'sum'), \n",
    "            rendimento=('rendimento', 'sum'))\\\n",
    "        .reset_index().fillna(0)\n",
    "\n",
    "df_graph1['%'] = df_graph1['rendimento'] / df_graph1['financeiro'] * 100\n",
    "df_graph1['renda_acum'] = df_graph1['rendimento'].cumsum()\n",
    "df_graph1['aporte_acum'] = df_graph1['aporte'].cumsum()\n",
    "df_graph1['retirada_acum'] = df_graph1['retirada'].cumsum()\n",
    "df_graph1['investido'] = df_graph1['aporte_acum'] - df_graph1['retirada_acum']\n",
    "df_graph1['% renda_acum'] = df_graph1['rendimento'].cumsum() / (df_graph1['investido']) * 100  \n",
    "df_graph1 = df_graph1.fillna(0)\n",
    "df_graph1 = df_graph1[(df_graph1['Data'] >= '2014-01-01')]\n",
    "\n",
    "df_graph1.head()"
   ]
  },
  {
   "cell_type": "code",
   "execution_count": 8,
   "metadata": {},
   "outputs": [
    {
     "data": {
      "text/html": [
       "<div>\n",
       "<style scoped>\n",
       "    .dataframe tbody tr th:only-of-type {\n",
       "        vertical-align: middle;\n",
       "    }\n",
       "\n",
       "    .dataframe tbody tr th {\n",
       "        vertical-align: top;\n",
       "    }\n",
       "\n",
       "    .dataframe thead th {\n",
       "        text-align: right;\n",
       "    }\n",
       "</style>\n",
       "<table border=\"1\" class=\"dataframe\">\n",
       "  <thead>\n",
       "    <tr style=\"text-align: right;\">\n",
       "      <th></th>\n",
       "      <th>Ativo</th>\n",
       "      <th>total_aporte</th>\n",
       "      <th>total_retirada</th>\n",
       "    </tr>\n",
       "  </thead>\n",
       "  <tbody>\n",
       "    <tr>\n",
       "      <th>0</th>\n",
       "      <td>AMZO34</td>\n",
       "      <td>5,011.20</td>\n",
       "      <td>0.00</td>\n",
       "    </tr>\n",
       "    <tr>\n",
       "      <th>1</th>\n",
       "      <td>AZ Quest Multi FIC FIM</td>\n",
       "      <td>15,000.00</td>\n",
       "      <td>18,591.84</td>\n",
       "    </tr>\n",
       "    <tr>\n",
       "      <th>2</th>\n",
       "      <td>Azul Quantitativo FIM</td>\n",
       "      <td>0.00</td>\n",
       "      <td>17,824.47</td>\n",
       "    </tr>\n",
       "    <tr>\n",
       "      <th>3</th>\n",
       "      <td>BCFF11</td>\n",
       "      <td>36,164.40</td>\n",
       "      <td>0.00</td>\n",
       "    </tr>\n",
       "    <tr>\n",
       "      <th>4</th>\n",
       "      <td>BNP Paribas Inflação FI RF</td>\n",
       "      <td>10,300.00</td>\n",
       "      <td>10,168.14</td>\n",
       "    </tr>\n",
       "    <tr>\n",
       "      <th>5</th>\n",
       "      <td>BPAC11</td>\n",
       "      <td>7,190.00</td>\n",
       "      <td>15,500.00</td>\n",
       "    </tr>\n",
       "    <tr>\n",
       "      <th>6</th>\n",
       "      <td>Bahia AM Maraú FIC de FIM</td>\n",
       "      <td>73,000.00</td>\n",
       "      <td>0.00</td>\n",
       "    </tr>\n",
       "    <tr>\n",
       "      <th>7</th>\n",
       "      <td>CASH3</td>\n",
       "      <td>3,030.00</td>\n",
       "      <td>0.00</td>\n",
       "    </tr>\n",
       "    <tr>\n",
       "      <th>8</th>\n",
       "      <td>CNES11</td>\n",
       "      <td>885.17</td>\n",
       "      <td>0.00</td>\n",
       "    </tr>\n",
       "    <tr>\n",
       "      <th>9</th>\n",
       "      <td>COGN3</td>\n",
       "      <td>7,044.00</td>\n",
       "      <td>0.00</td>\n",
       "    </tr>\n",
       "    <tr>\n",
       "      <th>10</th>\n",
       "      <td>EGIE3</td>\n",
       "      <td>9,068.00</td>\n",
       "      <td>0.00</td>\n",
       "    </tr>\n",
       "    <tr>\n",
       "      <th>11</th>\n",
       "      <td>Equitas Selection FIC FIA</td>\n",
       "      <td>19,900.00</td>\n",
       "      <td>0.00</td>\n",
       "    </tr>\n",
       "    <tr>\n",
       "      <th>12</th>\n",
       "      <td>HGLG11</td>\n",
       "      <td>2,330.55</td>\n",
       "      <td>0.00</td>\n",
       "    </tr>\n",
       "    <tr>\n",
       "      <th>13</th>\n",
       "      <td>IBFF11</td>\n",
       "      <td>5,155.00</td>\n",
       "      <td>0.00</td>\n",
       "    </tr>\n",
       "    <tr>\n",
       "      <th>14</th>\n",
       "      <td>ITSA4</td>\n",
       "      <td>22,505.00</td>\n",
       "      <td>0.00</td>\n",
       "    </tr>\n",
       "    <tr>\n",
       "      <th>15</th>\n",
       "      <td>Icatu Vanguarda Pré-Fixado FIRF</td>\n",
       "      <td>31,700.00</td>\n",
       "      <td>30,765.77</td>\n",
       "    </tr>\n",
       "    <tr>\n",
       "      <th>16</th>\n",
       "      <td>JHSF3</td>\n",
       "      <td>12,944.00</td>\n",
       "      <td>7,300.00</td>\n",
       "    </tr>\n",
       "    <tr>\n",
       "      <th>17</th>\n",
       "      <td>MGLU3</td>\n",
       "      <td>27,600.00</td>\n",
       "      <td>17,150.00</td>\n",
       "    </tr>\n",
       "    <tr>\n",
       "      <th>18</th>\n",
       "      <td>MSFT34</td>\n",
       "      <td>2,396.50</td>\n",
       "      <td>0.00</td>\n",
       "    </tr>\n",
       "    <tr>\n",
       "      <th>19</th>\n",
       "      <td>Mauá Macro FIC FIM</td>\n",
       "      <td>23,500.00</td>\n",
       "      <td>0.00</td>\n",
       "    </tr>\n",
       "    <tr>\n",
       "      <th>20</th>\n",
       "      <td>Mirae Asset Multimercado</td>\n",
       "      <td>16,000.00</td>\n",
       "      <td>19,122.71</td>\n",
       "    </tr>\n",
       "    <tr>\n",
       "      <th>21</th>\n",
       "      <td>NP Hedge FIC FIM</td>\n",
       "      <td>5,000.00</td>\n",
       "      <td>5,144.33</td>\n",
       "    </tr>\n",
       "    <tr>\n",
       "      <th>22</th>\n",
       "      <td>NVDC34</td>\n",
       "      <td>5,109.30</td>\n",
       "      <td>0.00</td>\n",
       "    </tr>\n",
       "    <tr>\n",
       "      <th>23</th>\n",
       "      <td>OULG11</td>\n",
       "      <td>5,677.50</td>\n",
       "      <td>0.00</td>\n",
       "    </tr>\n",
       "    <tr>\n",
       "      <th>24</th>\n",
       "      <td>PETR4</td>\n",
       "      <td>5,444.00</td>\n",
       "      <td>0.00</td>\n",
       "    </tr>\n",
       "    <tr>\n",
       "      <th>25</th>\n",
       "      <td>PFIZ34</td>\n",
       "      <td>1,040.00</td>\n",
       "      <td>0.00</td>\n",
       "    </tr>\n",
       "    <tr>\n",
       "      <th>26</th>\n",
       "      <td>Polo Norte I FIC FIM</td>\n",
       "      <td>30,000.00</td>\n",
       "      <td>0.00</td>\n",
       "    </tr>\n",
       "    <tr>\n",
       "      <th>27</th>\n",
       "      <td>RNGO11</td>\n",
       "      <td>4,110.61</td>\n",
       "      <td>0.00</td>\n",
       "    </tr>\n",
       "    <tr>\n",
       "      <th>28</th>\n",
       "      <td>TBOF11</td>\n",
       "      <td>5,200.00</td>\n",
       "      <td>5,199.00</td>\n",
       "    </tr>\n",
       "    <tr>\n",
       "      <th>29</th>\n",
       "      <td>TSLA34</td>\n",
       "      <td>3,622.50</td>\n",
       "      <td>0.00</td>\n",
       "    </tr>\n",
       "    <tr>\n",
       "      <th>30</th>\n",
       "      <td>WEGE3</td>\n",
       "      <td>10,095.00</td>\n",
       "      <td>0.00</td>\n",
       "    </tr>\n",
       "    <tr>\n",
       "      <th>31</th>\n",
       "      <td>XP Absoluto Consumo FIA</td>\n",
       "      <td>0.00</td>\n",
       "      <td>2,306.74</td>\n",
       "    </tr>\n",
       "    <tr>\n",
       "      <th>32</th>\n",
       "      <td>XP Long Short FIC FIM</td>\n",
       "      <td>15,000.00</td>\n",
       "      <td>0.00</td>\n",
       "    </tr>\n",
       "    <tr>\n",
       "      <th>33</th>\n",
       "      <td>XP Macro FIM</td>\n",
       "      <td>29,500.00</td>\n",
       "      <td>30,153.06</td>\n",
       "    </tr>\n",
       "    <tr>\n",
       "      <th>34</th>\n",
       "      <td>XPLG11</td>\n",
       "      <td>6,348.50</td>\n",
       "      <td>0.00</td>\n",
       "    </tr>\n",
       "    <tr>\n",
       "      <th>35</th>\n",
       "      <td>XPLG13</td>\n",
       "      <td>0.00</td>\n",
       "      <td>0.00</td>\n",
       "    </tr>\n",
       "  </tbody>\n",
       "</table>\n",
       "</div>"
      ],
      "text/plain": [
       "                               Ativo  total_aporte  total_retirada\n",
       "0                             AMZO34      5,011.20            0.00\n",
       "1             AZ Quest Multi FIC FIM     15,000.00       18,591.84\n",
       "2              Azul Quantitativo FIM          0.00       17,824.47\n",
       "3                             BCFF11     36,164.40            0.00\n",
       "4         BNP Paribas Inflação FI RF     10,300.00       10,168.14\n",
       "5                             BPAC11      7,190.00       15,500.00\n",
       "6          Bahia AM Maraú FIC de FIM     73,000.00            0.00\n",
       "7                              CASH3      3,030.00            0.00\n",
       "8                             CNES11        885.17            0.00\n",
       "9                              COGN3      7,044.00            0.00\n",
       "10                             EGIE3      9,068.00            0.00\n",
       "11         Equitas Selection FIC FIA     19,900.00            0.00\n",
       "12                            HGLG11      2,330.55            0.00\n",
       "13                            IBFF11      5,155.00            0.00\n",
       "14                             ITSA4     22,505.00            0.00\n",
       "15  Icatu Vanguarda Pré-Fixado FIRF      31,700.00       30,765.77\n",
       "16                             JHSF3     12,944.00        7,300.00\n",
       "17                             MGLU3     27,600.00       17,150.00\n",
       "18                            MSFT34      2,396.50            0.00\n",
       "19                Mauá Macro FIC FIM     23,500.00            0.00\n",
       "20         Mirae Asset Multimercado      16,000.00       19,122.71\n",
       "21                  NP Hedge FIC FIM      5,000.00        5,144.33\n",
       "22                            NVDC34      5,109.30            0.00\n",
       "23                            OULG11      5,677.50            0.00\n",
       "24                             PETR4      5,444.00            0.00\n",
       "25                            PFIZ34      1,040.00            0.00\n",
       "26              Polo Norte I FIC FIM     30,000.00            0.00\n",
       "27                            RNGO11      4,110.61            0.00\n",
       "28                            TBOF11      5,200.00        5,199.00\n",
       "29                            TSLA34      3,622.50            0.00\n",
       "30                             WEGE3     10,095.00            0.00\n",
       "31           XP Absoluto Consumo FIA          0.00        2,306.74\n",
       "32             XP Long Short FIC FIM     15,000.00            0.00\n",
       "33                      XP Macro FIM     29,500.00       30,153.06\n",
       "34                            XPLG11      6,348.50            0.00\n",
       "35                            XPLG13          0.00            0.00"
      ]
     },
     "execution_count": 8,
     "metadata": {},
     "output_type": "execute_result"
    }
   ],
   "source": [
    "df_graph1.groupby('Ativo').agg(total_aporte=('aporte', 'sum'), \n",
    "                              total_retirada=('retirada', 'sum')).reset_index()"
   ]
  },
  {
   "cell_type": "code",
   "execution_count": 9,
   "metadata": {},
   "outputs": [],
   "source": [
    "\n",
    "df1 = main_controller.acoes.resumo[main_controller.acoes.resumo['Data'] <= '2020-12-31']\\\n",
    "        .groupby(['Papel', 'Data', 'ano', 'mes'])\\\n",
    "        .agg(financeiro=('Financeiro', 'sum'), \n",
    "            aporte=('aporte', 'sum'), \n",
    "            retirada=('retirada', 'sum'), \n",
    "            rendimento=('rendimento', 'sum'))\\\n",
    "        .reset_index()\\\n",
    "        .rename(columns={'Papel': 'Nome'})\n",
    "df1['Tipo'] = 'Ação'\n",
    "\n",
    "df2 = main_controller.fiis.resumo[main_controller.fiis.resumo['Data'] <= '2020-12-31']\\\n",
    "        .groupby(['Papel', 'Data', 'ano', 'mes'])\\\n",
    "        .agg(financeiro=('Financeiro', 'sum'), \n",
    "            aporte=('aporte', 'sum'), \n",
    "            retirada=('retirada', 'sum'), \n",
    "            rendimento=('rendimento', 'sum'))\\\n",
    "        .reset_index()\\\n",
    "        .rename(columns={'Papel': 'Nome'})\n",
    "df2['Tipo'] = 'FII'\n",
    "\n",
    "df3 = main_controller.fi.resumo[main_controller.fi.resumo['data_posicao'] <= '2020-12-31']\\\n",
    "        .groupby(['Nome', 'data_posicao', 'ano', 'mes'])\\\n",
    "        .agg(financeiro=('Total Bruto', 'sum'), \n",
    "            aporte=('aporte', 'sum'), \n",
    "            retirada=('retirada', 'sum'), \n",
    "            rendimento=('rendimento', 'sum'))\\\n",
    "        .reset_index()\\\n",
    "        .rename(columns={'data_posicao': 'Data'})\n",
    "df3['Tipo'] = 'FI'\n",
    "\n",
    "df_graph1 = df1.append(df2, ignore_index=True).append(df3, ignore_index=True)\n",
    "\n",
    "df_graph1 = df_graph1.groupby(['Tipo', 'Nome', 'Data', 'ano', 'mes'])\\\n",
    "        .agg(financeiro=('financeiro', 'sum'), \n",
    "            aporte=('aporte', 'sum'), \n",
    "            retirada=('retirada', 'sum'), \n",
    "            rendimento=('rendimento', 'sum'))\\\n",
    "        .reset_index().fillna(0)\n",
    "\n",
    "df_graph1['%'] = df_graph1['rendimento'] / df_graph1['financeiro'] * 100\n",
    "df_graph1['renda_acum'] = df_graph1['rendimento'].cumsum()\n",
    "df_graph1['aporte_acum'] = df_graph1['aporte'].cumsum()\n",
    "df_graph1['retirada_acum'] = df_graph1['retirada'].cumsum()\n",
    "df_graph1['investido'] = df_graph1['aporte_acum'] - df_graph1['retirada_acum']\n",
    "df_graph1['% renda_acum'] = df_graph1['rendimento'].cumsum() / (df_graph1['investido']) * 100  \n",
    "df_graph1 = df_graph1.fillna(0)\n",
    "df_graph1 = df_graph1[(df_graph1['Data'] >= '2014-01-01')]\n",
    "\n",
    "\n",
    "df_graph2 = df_graph1.groupby(['Tipo', 'Nome'])\\\n",
    "                    .agg(rendimento=('rendimento', 'sum'),\n",
    "                         aporte=('aporte', 'sum'), \n",
    "                         retirada=('retirada', 'sum')).reset_index()\n",
    "\n",
    "df_graph2['rendimento'] = df_graph2['rendimento'].astype(np.int)"
   ]
  },
  {
   "cell_type": "code",
   "execution_count": 10,
   "metadata": {},
   "outputs": [
    {
     "data": {
      "text/html": [
       "<div>\n",
       "<style scoped>\n",
       "    .dataframe tbody tr th:only-of-type {\n",
       "        vertical-align: middle;\n",
       "    }\n",
       "\n",
       "    .dataframe tbody tr th {\n",
       "        vertical-align: top;\n",
       "    }\n",
       "\n",
       "    .dataframe thead th {\n",
       "        text-align: right;\n",
       "    }\n",
       "</style>\n",
       "<table border=\"1\" class=\"dataframe\">\n",
       "  <thead>\n",
       "    <tr style=\"text-align: right;\">\n",
       "      <th></th>\n",
       "      <th>Tipo</th>\n",
       "      <th>Nome</th>\n",
       "      <th>Data</th>\n",
       "      <th>ano</th>\n",
       "      <th>mes</th>\n",
       "      <th>financeiro</th>\n",
       "      <th>aporte</th>\n",
       "      <th>retirada</th>\n",
       "      <th>rendimento</th>\n",
       "      <th>%</th>\n",
       "      <th>renda_acum</th>\n",
       "      <th>aporte_acum</th>\n",
       "      <th>retirada_acum</th>\n",
       "      <th>investido</th>\n",
       "      <th>% renda_acum</th>\n",
       "    </tr>\n",
       "  </thead>\n",
       "  <tbody>\n",
       "    <tr>\n",
       "      <th>48</th>\n",
       "      <td>Ação</td>\n",
       "      <td>AMZO34</td>\n",
       "      <td>2014-01-31</td>\n",
       "      <td>2014</td>\n",
       "      <td>1</td>\n",
       "      <td>0.00</td>\n",
       "      <td>0.00</td>\n",
       "      <td>0.00</td>\n",
       "      <td>0.00</td>\n",
       "      <td>0.00</td>\n",
       "      <td>0.00</td>\n",
       "      <td>0.00</td>\n",
       "      <td>0.00</td>\n",
       "      <td>0.00</td>\n",
       "      <td>0.00</td>\n",
       "    </tr>\n",
       "    <tr>\n",
       "      <th>49</th>\n",
       "      <td>Ação</td>\n",
       "      <td>AMZO34</td>\n",
       "      <td>2014-02-28</td>\n",
       "      <td>2014</td>\n",
       "      <td>2</td>\n",
       "      <td>0.00</td>\n",
       "      <td>0.00</td>\n",
       "      <td>0.00</td>\n",
       "      <td>0.00</td>\n",
       "      <td>0.00</td>\n",
       "      <td>0.00</td>\n",
       "      <td>0.00</td>\n",
       "      <td>0.00</td>\n",
       "      <td>0.00</td>\n",
       "      <td>0.00</td>\n",
       "    </tr>\n",
       "    <tr>\n",
       "      <th>50</th>\n",
       "      <td>Ação</td>\n",
       "      <td>AMZO34</td>\n",
       "      <td>2014-03-31</td>\n",
       "      <td>2014</td>\n",
       "      <td>3</td>\n",
       "      <td>0.00</td>\n",
       "      <td>0.00</td>\n",
       "      <td>0.00</td>\n",
       "      <td>0.00</td>\n",
       "      <td>0.00</td>\n",
       "      <td>0.00</td>\n",
       "      <td>0.00</td>\n",
       "      <td>0.00</td>\n",
       "      <td>0.00</td>\n",
       "      <td>0.00</td>\n",
       "    </tr>\n",
       "    <tr>\n",
       "      <th>51</th>\n",
       "      <td>Ação</td>\n",
       "      <td>AMZO34</td>\n",
       "      <td>2014-04-30</td>\n",
       "      <td>2014</td>\n",
       "      <td>4</td>\n",
       "      <td>0.00</td>\n",
       "      <td>0.00</td>\n",
       "      <td>0.00</td>\n",
       "      <td>0.00</td>\n",
       "      <td>0.00</td>\n",
       "      <td>0.00</td>\n",
       "      <td>0.00</td>\n",
       "      <td>0.00</td>\n",
       "      <td>0.00</td>\n",
       "      <td>0.00</td>\n",
       "    </tr>\n",
       "    <tr>\n",
       "      <th>52</th>\n",
       "      <td>Ação</td>\n",
       "      <td>AMZO34</td>\n",
       "      <td>2014-05-31</td>\n",
       "      <td>2014</td>\n",
       "      <td>5</td>\n",
       "      <td>0.00</td>\n",
       "      <td>0.00</td>\n",
       "      <td>0.00</td>\n",
       "      <td>0.00</td>\n",
       "      <td>0.00</td>\n",
       "      <td>0.00</td>\n",
       "      <td>0.00</td>\n",
       "      <td>0.00</td>\n",
       "      <td>0.00</td>\n",
       "      <td>0.00</td>\n",
       "    </tr>\n",
       "  </tbody>\n",
       "</table>\n",
       "</div>"
      ],
      "text/plain": [
       "    Tipo    Nome       Data   ano  mes  financeiro  aporte  retirada  \\\n",
       "48  Ação  AMZO34 2014-01-31  2014    1        0.00    0.00      0.00   \n",
       "49  Ação  AMZO34 2014-02-28  2014    2        0.00    0.00      0.00   \n",
       "50  Ação  AMZO34 2014-03-31  2014    3        0.00    0.00      0.00   \n",
       "51  Ação  AMZO34 2014-04-30  2014    4        0.00    0.00      0.00   \n",
       "52  Ação  AMZO34 2014-05-31  2014    5        0.00    0.00      0.00   \n",
       "\n",
       "    rendimento    %  renda_acum  aporte_acum  retirada_acum  investido  \\\n",
       "48        0.00 0.00        0.00         0.00           0.00       0.00   \n",
       "49        0.00 0.00        0.00         0.00           0.00       0.00   \n",
       "50        0.00 0.00        0.00         0.00           0.00       0.00   \n",
       "51        0.00 0.00        0.00         0.00           0.00       0.00   \n",
       "52        0.00 0.00        0.00         0.00           0.00       0.00   \n",
       "\n",
       "    % renda_acum  \n",
       "48          0.00  \n",
       "49          0.00  \n",
       "50          0.00  \n",
       "51          0.00  \n",
       "52          0.00  "
      ]
     },
     "execution_count": 10,
     "metadata": {},
     "output_type": "execute_result"
    }
   ],
   "source": [
    "df_graph1.head()"
   ]
  },
  {
   "cell_type": "code",
   "execution_count": 11,
   "metadata": {},
   "outputs": [
    {
     "data": {
      "text/html": [
       "<div>\n",
       "<style scoped>\n",
       "    .dataframe tbody tr th:only-of-type {\n",
       "        vertical-align: middle;\n",
       "    }\n",
       "\n",
       "    .dataframe tbody tr th {\n",
       "        vertical-align: top;\n",
       "    }\n",
       "\n",
       "    .dataframe thead th {\n",
       "        text-align: right;\n",
       "    }\n",
       "</style>\n",
       "<table border=\"1\" class=\"dataframe\">\n",
       "  <thead>\n",
       "    <tr style=\"text-align: right;\">\n",
       "      <th></th>\n",
       "      <th>Tipo</th>\n",
       "      <th>aporte</th>\n",
       "      <th>retirada</th>\n",
       "      <th>investido</th>\n",
       "    </tr>\n",
       "  </thead>\n",
       "  <tbody>\n",
       "    <tr>\n",
       "      <th>0</th>\n",
       "      <td>Ação</td>\n",
       "      <td>122,099.50</td>\n",
       "      <td>39,950.00</td>\n",
       "      <td>82,149.50</td>\n",
       "    </tr>\n",
       "    <tr>\n",
       "      <th>1</th>\n",
       "      <td>FI</td>\n",
       "      <td>268,900.00</td>\n",
       "      <td>134,077.06</td>\n",
       "      <td>134,822.94</td>\n",
       "    </tr>\n",
       "    <tr>\n",
       "      <th>2</th>\n",
       "      <td>FII</td>\n",
       "      <td>65,871.73</td>\n",
       "      <td>5,199.00</td>\n",
       "      <td>60,672.73</td>\n",
       "    </tr>\n",
       "  </tbody>\n",
       "</table>\n",
       "</div>"
      ],
      "text/plain": [
       "   Tipo     aporte   retirada  investido\n",
       "0  Ação 122,099.50  39,950.00  82,149.50\n",
       "1    FI 268,900.00 134,077.06 134,822.94\n",
       "2   FII  65,871.73   5,199.00  60,672.73"
      ]
     },
     "execution_count": 11,
     "metadata": {},
     "output_type": "execute_result"
    }
   ],
   "source": [
    "df_pie = df_graph1\\\n",
    "                    .groupby('Tipo')\\\n",
    "                    .agg(aporte=('aporte', 'sum'), \n",
    "                          retirada=('retirada', 'sum'))\\\n",
    "                    .reset_index()\n",
    "\n",
    "df_pie['investido'] = df_pie['aporte'] - df_pie['retirada']\n",
    "\n",
    "df_pie"
   ]
  },
  {
   "cell_type": "code",
   "execution_count": 22,
   "metadata": {},
   "outputs": [
    {
     "data": {
      "application/vnd.plotly.v1+json": {
       "config": {
        "plotlyServerURL": "https://plot.ly"
       },
       "data": [
        {
         "hole": 0.3,
         "labels": [
          "Ação",
          "FI",
          "FII"
         ],
         "type": "pie",
         "values": [
          82149.5,
          134822.94,
          60672.729999999996
         ]
        }
       ],
       "layout": {
        "margin": {
         "b": 20,
         "l": 20,
         "r": 20,
         "t": 20
        },
        "showlegend": false,
        "template": {
         "data": {
          "bar": [
           {
            "error_x": {
             "color": "#2a3f5f"
            },
            "error_y": {
             "color": "#2a3f5f"
            },
            "marker": {
             "line": {
              "color": "white",
              "width": 0.5
             }
            },
            "type": "bar"
           }
          ],
          "barpolar": [
           {
            "marker": {
             "line": {
              "color": "white",
              "width": 0.5
             }
            },
            "type": "barpolar"
           }
          ],
          "carpet": [
           {
            "aaxis": {
             "endlinecolor": "#2a3f5f",
             "gridcolor": "#C8D4E3",
             "linecolor": "#C8D4E3",
             "minorgridcolor": "#C8D4E3",
             "startlinecolor": "#2a3f5f"
            },
            "baxis": {
             "endlinecolor": "#2a3f5f",
             "gridcolor": "#C8D4E3",
             "linecolor": "#C8D4E3",
             "minorgridcolor": "#C8D4E3",
             "startlinecolor": "#2a3f5f"
            },
            "type": "carpet"
           }
          ],
          "choropleth": [
           {
            "colorbar": {
             "outlinewidth": 0,
             "ticks": ""
            },
            "type": "choropleth"
           }
          ],
          "contour": [
           {
            "colorbar": {
             "outlinewidth": 0,
             "ticks": ""
            },
            "colorscale": [
             [
              0,
              "#0d0887"
             ],
             [
              0.1111111111111111,
              "#46039f"
             ],
             [
              0.2222222222222222,
              "#7201a8"
             ],
             [
              0.3333333333333333,
              "#9c179e"
             ],
             [
              0.4444444444444444,
              "#bd3786"
             ],
             [
              0.5555555555555556,
              "#d8576b"
             ],
             [
              0.6666666666666666,
              "#ed7953"
             ],
             [
              0.7777777777777778,
              "#fb9f3a"
             ],
             [
              0.8888888888888888,
              "#fdca26"
             ],
             [
              1,
              "#f0f921"
             ]
            ],
            "type": "contour"
           }
          ],
          "contourcarpet": [
           {
            "colorbar": {
             "outlinewidth": 0,
             "ticks": ""
            },
            "type": "contourcarpet"
           }
          ],
          "heatmap": [
           {
            "colorbar": {
             "outlinewidth": 0,
             "ticks": ""
            },
            "colorscale": [
             [
              0,
              "#0d0887"
             ],
             [
              0.1111111111111111,
              "#46039f"
             ],
             [
              0.2222222222222222,
              "#7201a8"
             ],
             [
              0.3333333333333333,
              "#9c179e"
             ],
             [
              0.4444444444444444,
              "#bd3786"
             ],
             [
              0.5555555555555556,
              "#d8576b"
             ],
             [
              0.6666666666666666,
              "#ed7953"
             ],
             [
              0.7777777777777778,
              "#fb9f3a"
             ],
             [
              0.8888888888888888,
              "#fdca26"
             ],
             [
              1,
              "#f0f921"
             ]
            ],
            "type": "heatmap"
           }
          ],
          "heatmapgl": [
           {
            "colorbar": {
             "outlinewidth": 0,
             "ticks": ""
            },
            "colorscale": [
             [
              0,
              "#0d0887"
             ],
             [
              0.1111111111111111,
              "#46039f"
             ],
             [
              0.2222222222222222,
              "#7201a8"
             ],
             [
              0.3333333333333333,
              "#9c179e"
             ],
             [
              0.4444444444444444,
              "#bd3786"
             ],
             [
              0.5555555555555556,
              "#d8576b"
             ],
             [
              0.6666666666666666,
              "#ed7953"
             ],
             [
              0.7777777777777778,
              "#fb9f3a"
             ],
             [
              0.8888888888888888,
              "#fdca26"
             ],
             [
              1,
              "#f0f921"
             ]
            ],
            "type": "heatmapgl"
           }
          ],
          "histogram": [
           {
            "marker": {
             "colorbar": {
              "outlinewidth": 0,
              "ticks": ""
             }
            },
            "type": "histogram"
           }
          ],
          "histogram2d": [
           {
            "colorbar": {
             "outlinewidth": 0,
             "ticks": ""
            },
            "colorscale": [
             [
              0,
              "#0d0887"
             ],
             [
              0.1111111111111111,
              "#46039f"
             ],
             [
              0.2222222222222222,
              "#7201a8"
             ],
             [
              0.3333333333333333,
              "#9c179e"
             ],
             [
              0.4444444444444444,
              "#bd3786"
             ],
             [
              0.5555555555555556,
              "#d8576b"
             ],
             [
              0.6666666666666666,
              "#ed7953"
             ],
             [
              0.7777777777777778,
              "#fb9f3a"
             ],
             [
              0.8888888888888888,
              "#fdca26"
             ],
             [
              1,
              "#f0f921"
             ]
            ],
            "type": "histogram2d"
           }
          ],
          "histogram2dcontour": [
           {
            "colorbar": {
             "outlinewidth": 0,
             "ticks": ""
            },
            "colorscale": [
             [
              0,
              "#0d0887"
             ],
             [
              0.1111111111111111,
              "#46039f"
             ],
             [
              0.2222222222222222,
              "#7201a8"
             ],
             [
              0.3333333333333333,
              "#9c179e"
             ],
             [
              0.4444444444444444,
              "#bd3786"
             ],
             [
              0.5555555555555556,
              "#d8576b"
             ],
             [
              0.6666666666666666,
              "#ed7953"
             ],
             [
              0.7777777777777778,
              "#fb9f3a"
             ],
             [
              0.8888888888888888,
              "#fdca26"
             ],
             [
              1,
              "#f0f921"
             ]
            ],
            "type": "histogram2dcontour"
           }
          ],
          "mesh3d": [
           {
            "colorbar": {
             "outlinewidth": 0,
             "ticks": ""
            },
            "type": "mesh3d"
           }
          ],
          "parcoords": [
           {
            "line": {
             "colorbar": {
              "outlinewidth": 0,
              "ticks": ""
             }
            },
            "type": "parcoords"
           }
          ],
          "pie": [
           {
            "automargin": true,
            "type": "pie"
           }
          ],
          "scatter": [
           {
            "marker": {
             "colorbar": {
              "outlinewidth": 0,
              "ticks": ""
             }
            },
            "type": "scatter"
           }
          ],
          "scatter3d": [
           {
            "line": {
             "colorbar": {
              "outlinewidth": 0,
              "ticks": ""
             }
            },
            "marker": {
             "colorbar": {
              "outlinewidth": 0,
              "ticks": ""
             }
            },
            "type": "scatter3d"
           }
          ],
          "scattercarpet": [
           {
            "marker": {
             "colorbar": {
              "outlinewidth": 0,
              "ticks": ""
             }
            },
            "type": "scattercarpet"
           }
          ],
          "scattergeo": [
           {
            "marker": {
             "colorbar": {
              "outlinewidth": 0,
              "ticks": ""
             }
            },
            "type": "scattergeo"
           }
          ],
          "scattergl": [
           {
            "marker": {
             "colorbar": {
              "outlinewidth": 0,
              "ticks": ""
             }
            },
            "type": "scattergl"
           }
          ],
          "scattermapbox": [
           {
            "marker": {
             "colorbar": {
              "outlinewidth": 0,
              "ticks": ""
             }
            },
            "type": "scattermapbox"
           }
          ],
          "scatterpolar": [
           {
            "marker": {
             "colorbar": {
              "outlinewidth": 0,
              "ticks": ""
             }
            },
            "type": "scatterpolar"
           }
          ],
          "scatterpolargl": [
           {
            "marker": {
             "colorbar": {
              "outlinewidth": 0,
              "ticks": ""
             }
            },
            "type": "scatterpolargl"
           }
          ],
          "scatterternary": [
           {
            "marker": {
             "colorbar": {
              "outlinewidth": 0,
              "ticks": ""
             }
            },
            "type": "scatterternary"
           }
          ],
          "surface": [
           {
            "colorbar": {
             "outlinewidth": 0,
             "ticks": ""
            },
            "colorscale": [
             [
              0,
              "#0d0887"
             ],
             [
              0.1111111111111111,
              "#46039f"
             ],
             [
              0.2222222222222222,
              "#7201a8"
             ],
             [
              0.3333333333333333,
              "#9c179e"
             ],
             [
              0.4444444444444444,
              "#bd3786"
             ],
             [
              0.5555555555555556,
              "#d8576b"
             ],
             [
              0.6666666666666666,
              "#ed7953"
             ],
             [
              0.7777777777777778,
              "#fb9f3a"
             ],
             [
              0.8888888888888888,
              "#fdca26"
             ],
             [
              1,
              "#f0f921"
             ]
            ],
            "type": "surface"
           }
          ],
          "table": [
           {
            "cells": {
             "fill": {
              "color": "#EBF0F8"
             },
             "line": {
              "color": "white"
             }
            },
            "header": {
             "fill": {
              "color": "#C8D4E3"
             },
             "line": {
              "color": "white"
             }
            },
            "type": "table"
           }
          ]
         },
         "layout": {
          "annotationdefaults": {
           "arrowcolor": "#2a3f5f",
           "arrowhead": 0,
           "arrowwidth": 1
          },
          "autotypenumbers": "strict",
          "coloraxis": {
           "colorbar": {
            "outlinewidth": 0,
            "ticks": ""
           }
          },
          "colorscale": {
           "diverging": [
            [
             0,
             "#8e0152"
            ],
            [
             0.1,
             "#c51b7d"
            ],
            [
             0.2,
             "#de77ae"
            ],
            [
             0.3,
             "#f1b6da"
            ],
            [
             0.4,
             "#fde0ef"
            ],
            [
             0.5,
             "#f7f7f7"
            ],
            [
             0.6,
             "#e6f5d0"
            ],
            [
             0.7,
             "#b8e186"
            ],
            [
             0.8,
             "#7fbc41"
            ],
            [
             0.9,
             "#4d9221"
            ],
            [
             1,
             "#276419"
            ]
           ],
           "sequential": [
            [
             0,
             "#0d0887"
            ],
            [
             0.1111111111111111,
             "#46039f"
            ],
            [
             0.2222222222222222,
             "#7201a8"
            ],
            [
             0.3333333333333333,
             "#9c179e"
            ],
            [
             0.4444444444444444,
             "#bd3786"
            ],
            [
             0.5555555555555556,
             "#d8576b"
            ],
            [
             0.6666666666666666,
             "#ed7953"
            ],
            [
             0.7777777777777778,
             "#fb9f3a"
            ],
            [
             0.8888888888888888,
             "#fdca26"
            ],
            [
             1,
             "#f0f921"
            ]
           ],
           "sequentialminus": [
            [
             0,
             "#0d0887"
            ],
            [
             0.1111111111111111,
             "#46039f"
            ],
            [
             0.2222222222222222,
             "#7201a8"
            ],
            [
             0.3333333333333333,
             "#9c179e"
            ],
            [
             0.4444444444444444,
             "#bd3786"
            ],
            [
             0.5555555555555556,
             "#d8576b"
            ],
            [
             0.6666666666666666,
             "#ed7953"
            ],
            [
             0.7777777777777778,
             "#fb9f3a"
            ],
            [
             0.8888888888888888,
             "#fdca26"
            ],
            [
             1,
             "#f0f921"
            ]
           ]
          },
          "colorway": [
           "#636efa",
           "#EF553B",
           "#00cc96",
           "#ab63fa",
           "#FFA15A",
           "#19d3f3",
           "#FF6692",
           "#B6E880",
           "#FF97FF",
           "#FECB52"
          ],
          "font": {
           "color": "#2a3f5f"
          },
          "geo": {
           "bgcolor": "white",
           "lakecolor": "white",
           "landcolor": "white",
           "showlakes": true,
           "showland": true,
           "subunitcolor": "#C8D4E3"
          },
          "hoverlabel": {
           "align": "left"
          },
          "hovermode": "closest",
          "mapbox": {
           "style": "light"
          },
          "paper_bgcolor": "white",
          "plot_bgcolor": "white",
          "polar": {
           "angularaxis": {
            "gridcolor": "#EBF0F8",
            "linecolor": "#EBF0F8",
            "ticks": ""
           },
           "bgcolor": "white",
           "radialaxis": {
            "gridcolor": "#EBF0F8",
            "linecolor": "#EBF0F8",
            "ticks": ""
           }
          },
          "scene": {
           "xaxis": {
            "backgroundcolor": "white",
            "gridcolor": "#DFE8F3",
            "gridwidth": 2,
            "linecolor": "#EBF0F8",
            "showbackground": true,
            "ticks": "",
            "zerolinecolor": "#EBF0F8"
           },
           "yaxis": {
            "backgroundcolor": "white",
            "gridcolor": "#DFE8F3",
            "gridwidth": 2,
            "linecolor": "#EBF0F8",
            "showbackground": true,
            "ticks": "",
            "zerolinecolor": "#EBF0F8"
           },
           "zaxis": {
            "backgroundcolor": "white",
            "gridcolor": "#DFE8F3",
            "gridwidth": 2,
            "linecolor": "#EBF0F8",
            "showbackground": true,
            "ticks": "",
            "zerolinecolor": "#EBF0F8"
           }
          },
          "shapedefaults": {
           "line": {
            "color": "#2a3f5f"
           }
          },
          "ternary": {
           "aaxis": {
            "gridcolor": "#DFE8F3",
            "linecolor": "#A2B1C6",
            "ticks": ""
           },
           "baxis": {
            "gridcolor": "#DFE8F3",
            "linecolor": "#A2B1C6",
            "ticks": ""
           },
           "bgcolor": "white",
           "caxis": {
            "gridcolor": "#DFE8F3",
            "linecolor": "#A2B1C6",
            "ticks": ""
           }
          },
          "title": {
           "x": 0.05
          },
          "xaxis": {
           "automargin": true,
           "gridcolor": "#EBF0F8",
           "linecolor": "#EBF0F8",
           "ticks": "",
           "title": {
            "standoff": 15
           },
           "zerolinecolor": "#EBF0F8",
           "zerolinewidth": 2
          },
          "yaxis": {
           "automargin": true,
           "gridcolor": "#EBF0F8",
           "linecolor": "#EBF0F8",
           "ticks": "",
           "title": {
            "standoff": 15
           },
           "zerolinecolor": "#EBF0F8",
           "zerolinewidth": 2
          }
         }
        }
       }
      },
      "text/html": [
       "<div>                            <div id=\"ce71824a-b99f-489c-a894-7745e880504c\" class=\"plotly-graph-div\" style=\"height:525px; width:100%;\"></div>            <script type=\"text/javascript\">                require([\"plotly\"], function(Plotly) {                    window.PLOTLYENV=window.PLOTLYENV || {};                                    if (document.getElementById(\"ce71824a-b99f-489c-a894-7745e880504c\")) {                    Plotly.newPlot(                        \"ce71824a-b99f-489c-a894-7745e880504c\",                        [{\"hole\": 0.3, \"labels\": [\"A\\u00e7\\u00e3o\", \"FI\", \"FII\"], \"type\": \"pie\", \"values\": [82149.5, 134822.94, 60672.729999999996]}],                        {\"margin\": {\"b\": 20, \"l\": 20, \"r\": 20, \"t\": 20}, \"showlegend\": false, \"template\": {\"data\": {\"bar\": [{\"error_x\": {\"color\": \"#2a3f5f\"}, \"error_y\": {\"color\": \"#2a3f5f\"}, \"marker\": {\"line\": {\"color\": \"white\", \"width\": 0.5}}, \"type\": \"bar\"}], \"barpolar\": [{\"marker\": {\"line\": {\"color\": \"white\", \"width\": 0.5}}, \"type\": \"barpolar\"}], \"carpet\": [{\"aaxis\": {\"endlinecolor\": \"#2a3f5f\", \"gridcolor\": \"#C8D4E3\", \"linecolor\": \"#C8D4E3\", \"minorgridcolor\": \"#C8D4E3\", \"startlinecolor\": \"#2a3f5f\"}, \"baxis\": {\"endlinecolor\": \"#2a3f5f\", \"gridcolor\": \"#C8D4E3\", \"linecolor\": \"#C8D4E3\", \"minorgridcolor\": \"#C8D4E3\", \"startlinecolor\": \"#2a3f5f\"}, \"type\": \"carpet\"}], \"choropleth\": [{\"colorbar\": {\"outlinewidth\": 0, \"ticks\": \"\"}, \"type\": \"choropleth\"}], \"contour\": [{\"colorbar\": {\"outlinewidth\": 0, \"ticks\": \"\"}, \"colorscale\": [[0.0, \"#0d0887\"], [0.1111111111111111, \"#46039f\"], [0.2222222222222222, \"#7201a8\"], [0.3333333333333333, \"#9c179e\"], [0.4444444444444444, \"#bd3786\"], [0.5555555555555556, \"#d8576b\"], [0.6666666666666666, \"#ed7953\"], [0.7777777777777778, \"#fb9f3a\"], [0.8888888888888888, \"#fdca26\"], [1.0, \"#f0f921\"]], \"type\": \"contour\"}], \"contourcarpet\": [{\"colorbar\": {\"outlinewidth\": 0, \"ticks\": \"\"}, \"type\": \"contourcarpet\"}], \"heatmap\": [{\"colorbar\": {\"outlinewidth\": 0, \"ticks\": \"\"}, \"colorscale\": [[0.0, \"#0d0887\"], [0.1111111111111111, \"#46039f\"], [0.2222222222222222, \"#7201a8\"], [0.3333333333333333, \"#9c179e\"], [0.4444444444444444, \"#bd3786\"], [0.5555555555555556, \"#d8576b\"], [0.6666666666666666, \"#ed7953\"], [0.7777777777777778, \"#fb9f3a\"], [0.8888888888888888, \"#fdca26\"], [1.0, \"#f0f921\"]], \"type\": \"heatmap\"}], \"heatmapgl\": [{\"colorbar\": {\"outlinewidth\": 0, \"ticks\": \"\"}, \"colorscale\": [[0.0, \"#0d0887\"], [0.1111111111111111, \"#46039f\"], [0.2222222222222222, \"#7201a8\"], [0.3333333333333333, \"#9c179e\"], [0.4444444444444444, \"#bd3786\"], [0.5555555555555556, \"#d8576b\"], [0.6666666666666666, \"#ed7953\"], [0.7777777777777778, \"#fb9f3a\"], [0.8888888888888888, \"#fdca26\"], [1.0, \"#f0f921\"]], \"type\": \"heatmapgl\"}], \"histogram\": [{\"marker\": {\"colorbar\": {\"outlinewidth\": 0, \"ticks\": \"\"}}, \"type\": \"histogram\"}], \"histogram2d\": [{\"colorbar\": {\"outlinewidth\": 0, \"ticks\": \"\"}, \"colorscale\": [[0.0, \"#0d0887\"], [0.1111111111111111, \"#46039f\"], [0.2222222222222222, \"#7201a8\"], [0.3333333333333333, \"#9c179e\"], [0.4444444444444444, \"#bd3786\"], [0.5555555555555556, \"#d8576b\"], [0.6666666666666666, \"#ed7953\"], [0.7777777777777778, \"#fb9f3a\"], [0.8888888888888888, \"#fdca26\"], [1.0, \"#f0f921\"]], \"type\": \"histogram2d\"}], \"histogram2dcontour\": [{\"colorbar\": {\"outlinewidth\": 0, \"ticks\": \"\"}, \"colorscale\": [[0.0, \"#0d0887\"], [0.1111111111111111, \"#46039f\"], [0.2222222222222222, \"#7201a8\"], [0.3333333333333333, \"#9c179e\"], [0.4444444444444444, \"#bd3786\"], [0.5555555555555556, \"#d8576b\"], [0.6666666666666666, \"#ed7953\"], [0.7777777777777778, \"#fb9f3a\"], [0.8888888888888888, \"#fdca26\"], [1.0, \"#f0f921\"]], \"type\": \"histogram2dcontour\"}], \"mesh3d\": [{\"colorbar\": {\"outlinewidth\": 0, \"ticks\": \"\"}, \"type\": \"mesh3d\"}], \"parcoords\": [{\"line\": {\"colorbar\": {\"outlinewidth\": 0, \"ticks\": \"\"}}, \"type\": \"parcoords\"}], \"pie\": [{\"automargin\": true, \"type\": \"pie\"}], \"scatter\": [{\"marker\": {\"colorbar\": {\"outlinewidth\": 0, \"ticks\": \"\"}}, \"type\": \"scatter\"}], \"scatter3d\": [{\"line\": {\"colorbar\": {\"outlinewidth\": 0, \"ticks\": \"\"}}, \"marker\": {\"colorbar\": {\"outlinewidth\": 0, \"ticks\": \"\"}}, \"type\": \"scatter3d\"}], \"scattercarpet\": [{\"marker\": {\"colorbar\": {\"outlinewidth\": 0, \"ticks\": \"\"}}, \"type\": \"scattercarpet\"}], \"scattergeo\": [{\"marker\": {\"colorbar\": {\"outlinewidth\": 0, \"ticks\": \"\"}}, \"type\": \"scattergeo\"}], \"scattergl\": [{\"marker\": {\"colorbar\": {\"outlinewidth\": 0, \"ticks\": \"\"}}, \"type\": \"scattergl\"}], \"scattermapbox\": [{\"marker\": {\"colorbar\": {\"outlinewidth\": 0, \"ticks\": \"\"}}, \"type\": \"scattermapbox\"}], \"scatterpolar\": [{\"marker\": {\"colorbar\": {\"outlinewidth\": 0, \"ticks\": \"\"}}, \"type\": \"scatterpolar\"}], \"scatterpolargl\": [{\"marker\": {\"colorbar\": {\"outlinewidth\": 0, \"ticks\": \"\"}}, \"type\": \"scatterpolargl\"}], \"scatterternary\": [{\"marker\": {\"colorbar\": {\"outlinewidth\": 0, \"ticks\": \"\"}}, \"type\": \"scatterternary\"}], \"surface\": [{\"colorbar\": {\"outlinewidth\": 0, \"ticks\": \"\"}, \"colorscale\": [[0.0, \"#0d0887\"], [0.1111111111111111, \"#46039f\"], [0.2222222222222222, \"#7201a8\"], [0.3333333333333333, \"#9c179e\"], [0.4444444444444444, \"#bd3786\"], [0.5555555555555556, \"#d8576b\"], [0.6666666666666666, \"#ed7953\"], [0.7777777777777778, \"#fb9f3a\"], [0.8888888888888888, \"#fdca26\"], [1.0, \"#f0f921\"]], \"type\": \"surface\"}], \"table\": [{\"cells\": {\"fill\": {\"color\": \"#EBF0F8\"}, \"line\": {\"color\": \"white\"}}, \"header\": {\"fill\": {\"color\": \"#C8D4E3\"}, \"line\": {\"color\": \"white\"}}, \"type\": \"table\"}]}, \"layout\": {\"annotationdefaults\": {\"arrowcolor\": \"#2a3f5f\", \"arrowhead\": 0, \"arrowwidth\": 1}, \"autotypenumbers\": \"strict\", \"coloraxis\": {\"colorbar\": {\"outlinewidth\": 0, \"ticks\": \"\"}}, \"colorscale\": {\"diverging\": [[0, \"#8e0152\"], [0.1, \"#c51b7d\"], [0.2, \"#de77ae\"], [0.3, \"#f1b6da\"], [0.4, \"#fde0ef\"], [0.5, \"#f7f7f7\"], [0.6, \"#e6f5d0\"], [0.7, \"#b8e186\"], [0.8, \"#7fbc41\"], [0.9, \"#4d9221\"], [1, \"#276419\"]], \"sequential\": [[0.0, \"#0d0887\"], [0.1111111111111111, \"#46039f\"], [0.2222222222222222, \"#7201a8\"], [0.3333333333333333, \"#9c179e\"], [0.4444444444444444, \"#bd3786\"], [0.5555555555555556, \"#d8576b\"], [0.6666666666666666, \"#ed7953\"], [0.7777777777777778, \"#fb9f3a\"], [0.8888888888888888, \"#fdca26\"], [1.0, \"#f0f921\"]], \"sequentialminus\": [[0.0, \"#0d0887\"], [0.1111111111111111, \"#46039f\"], [0.2222222222222222, \"#7201a8\"], [0.3333333333333333, \"#9c179e\"], [0.4444444444444444, \"#bd3786\"], [0.5555555555555556, \"#d8576b\"], [0.6666666666666666, \"#ed7953\"], [0.7777777777777778, \"#fb9f3a\"], [0.8888888888888888, \"#fdca26\"], [1.0, \"#f0f921\"]]}, \"colorway\": [\"#636efa\", \"#EF553B\", \"#00cc96\", \"#ab63fa\", \"#FFA15A\", \"#19d3f3\", \"#FF6692\", \"#B6E880\", \"#FF97FF\", \"#FECB52\"], \"font\": {\"color\": \"#2a3f5f\"}, \"geo\": {\"bgcolor\": \"white\", \"lakecolor\": \"white\", \"landcolor\": \"white\", \"showlakes\": true, \"showland\": true, \"subunitcolor\": \"#C8D4E3\"}, \"hoverlabel\": {\"align\": \"left\"}, \"hovermode\": \"closest\", \"mapbox\": {\"style\": \"light\"}, \"paper_bgcolor\": \"white\", \"plot_bgcolor\": \"white\", \"polar\": {\"angularaxis\": {\"gridcolor\": \"#EBF0F8\", \"linecolor\": \"#EBF0F8\", \"ticks\": \"\"}, \"bgcolor\": \"white\", \"radialaxis\": {\"gridcolor\": \"#EBF0F8\", \"linecolor\": \"#EBF0F8\", \"ticks\": \"\"}}, \"scene\": {\"xaxis\": {\"backgroundcolor\": \"white\", \"gridcolor\": \"#DFE8F3\", \"gridwidth\": 2, \"linecolor\": \"#EBF0F8\", \"showbackground\": true, \"ticks\": \"\", \"zerolinecolor\": \"#EBF0F8\"}, \"yaxis\": {\"backgroundcolor\": \"white\", \"gridcolor\": \"#DFE8F3\", \"gridwidth\": 2, \"linecolor\": \"#EBF0F8\", \"showbackground\": true, \"ticks\": \"\", \"zerolinecolor\": \"#EBF0F8\"}, \"zaxis\": {\"backgroundcolor\": \"white\", \"gridcolor\": \"#DFE8F3\", \"gridwidth\": 2, \"linecolor\": \"#EBF0F8\", \"showbackground\": true, \"ticks\": \"\", \"zerolinecolor\": \"#EBF0F8\"}}, \"shapedefaults\": {\"line\": {\"color\": \"#2a3f5f\"}}, \"ternary\": {\"aaxis\": {\"gridcolor\": \"#DFE8F3\", \"linecolor\": \"#A2B1C6\", \"ticks\": \"\"}, \"baxis\": {\"gridcolor\": \"#DFE8F3\", \"linecolor\": \"#A2B1C6\", \"ticks\": \"\"}, \"bgcolor\": \"white\", \"caxis\": {\"gridcolor\": \"#DFE8F3\", \"linecolor\": \"#A2B1C6\", \"ticks\": \"\"}}, \"title\": {\"x\": 0.05}, \"xaxis\": {\"automargin\": true, \"gridcolor\": \"#EBF0F8\", \"linecolor\": \"#EBF0F8\", \"ticks\": \"\", \"title\": {\"standoff\": 15}, \"zerolinecolor\": \"#EBF0F8\", \"zerolinewidth\": 2}, \"yaxis\": {\"automargin\": true, \"gridcolor\": \"#EBF0F8\", \"linecolor\": \"#EBF0F8\", \"ticks\": \"\", \"title\": {\"standoff\": 15}, \"zerolinecolor\": \"#EBF0F8\", \"zerolinewidth\": 2}}}},                        {\"responsive\": true}                    ).then(function(){\n",
       "                            \n",
       "var gd = document.getElementById('ce71824a-b99f-489c-a894-7745e880504c');\n",
       "var x = new MutationObserver(function (mutations, observer) {{\n",
       "        var display = window.getComputedStyle(gd).display;\n",
       "        if (!display || display === 'none') {{\n",
       "            console.log([gd, 'removed!']);\n",
       "            Plotly.purge(gd);\n",
       "            observer.disconnect();\n",
       "        }}\n",
       "}});\n",
       "\n",
       "// Listen for the removal of the full notebook cells\n",
       "var notebookContainer = gd.closest('#notebook-container');\n",
       "if (notebookContainer) {{\n",
       "    x.observe(notebookContainer, {childList: true});\n",
       "}}\n",
       "\n",
       "// Listen for the clearing of the current output cell\n",
       "var outputEl = gd.closest('.output');\n",
       "if (outputEl) {{\n",
       "    x.observe(outputEl, {childList: true});\n",
       "}}\n",
       "\n",
       "                        })                };                });            </script>        </div>"
      ]
     },
     "metadata": {},
     "output_type": "display_data"
    }
   ],
   "source": [
    "labels = df_pie['Tipo']\n",
    "values = df_pie['investido']\n",
    "\n",
    "# Use `hole` to create a donut-like pie chart\n",
    "fig = go.Figure(data=[go.Pie(labels=labels, values=values, hole=.3)])\n",
    "\n",
    "fig.update_layout(\n",
    "    showlegend=False, \n",
    "    margin=dict(l=20, r=20, t=20, b=20), \n",
    "    template='plotly_white', \n",
    ")\n",
    "\n",
    "fig.show()"
   ]
  },
  {
   "cell_type": "code",
   "execution_count": 13,
   "metadata": {},
   "outputs": [
    {
     "data": {
      "application/vnd.plotly.v1+json": {
       "config": {
        "plotlyServerURL": "https://plot.ly"
       },
       "data": [
        {
         "branchvalues": "total",
         "customdata": [
          [
           "Ação"
          ],
          [
           "FII"
          ],
          [
           "FII"
          ],
          [
           "FI"
          ],
          [
           "Ação"
          ],
          [
           "FII"
          ],
          [
           "Ação"
          ],
          [
           "Ação"
          ],
          [
           "Ação"
          ],
          [
           "FI"
          ],
          [
           "FII"
          ],
          [
           "FI"
          ],
          [
           "FI"
          ],
          [
           "FI"
          ],
          [
           "Ação"
          ],
          [
           "FI"
          ],
          [
           "Ação"
          ],
          [
           "Ação"
          ],
          [
           "FII"
          ],
          [
           "FI"
          ],
          [
           "Ação"
          ],
          [
           "FI"
          ],
          [
           "Ação"
          ],
          [
           "Ação"
          ],
          [
           "FI"
          ],
          [
           "Ação"
          ],
          [
           "FI"
          ],
          [
           "FII"
          ],
          [
           "FII"
          ],
          [
           "FII"
          ],
          [
           "Ação"
          ],
          [
           "Ação"
          ],
          [
           "FI"
          ],
          [
           "FI"
          ],
          [
           "FI"
          ],
          [
           "FII"
          ],
          [
           "Ação"
          ],
          [
           "FI"
          ],
          [
           "FII"
          ]
         ],
         "domain": {
          "x": [
           0,
           1
          ],
          "y": [
           0,
           1
          ]
         },
         "hovertemplate": "labels=%{label}<br>count=%{value}<br>parent=%{parent}<br>id=%{id}<br>Tipo=%{customdata[0]}<extra></extra>",
         "ids": [
          "Ação/AMZO34",
          "FII/IBFF11",
          "FII/HGLG11",
          "FI/Equitas Selection FIC FIA",
          "Ação/EGIE3",
          "FII/CNES11",
          "Ação/CASH3",
          "Ação/COGN3",
          "Ação/BPAC11",
          "FI/BNP Paribas Inflação FI RF",
          "FII/BCFF11",
          "FI/Azul Quantitativo FIM",
          "FI/AZ Quest Multi FIC FIM",
          "FI/Bahia AM Maraú FIC de FIM",
          "Ação/NVDC34",
          "FI/Polo Norte I FIC FIM",
          "Ação/PFIZ34",
          "Ação/PETR4",
          "FII/OULG11",
          "FI/NP Hedge FIC FIM",
          "Ação/MGLU3",
          "FI/Mauá Macro FIC FIM",
          "Ação/MSFT34",
          "Ação/JHSF3",
          "FI/Icatu Vanguarda Pré-Fixado FIRF ",
          "Ação/ITSA4",
          "FI/Mirae Asset Multimercado ",
          "FII/XPLG11",
          "FII/RNGO11",
          "FII/TBOF11",
          "Ação/TSLA34",
          "Ação/WEGE3",
          "FI/XP Absoluto Consumo FIA",
          "FI/XP Long Short FIC FIM",
          "FI/XP Macro FIM",
          "FII/XPLG13",
          "Ação",
          "FI",
          "FII"
         ],
         "labels": [
          "AMZO34",
          "IBFF11",
          "HGLG11",
          "Equitas Selection FIC FIA",
          "EGIE3",
          "CNES11",
          "CASH3",
          "COGN3",
          "BPAC11",
          "BNP Paribas Inflação FI RF",
          "BCFF11",
          "Azul Quantitativo FIM",
          "AZ Quest Multi FIC FIM",
          "Bahia AM Maraú FIC de FIM",
          "NVDC34",
          "Polo Norte I FIC FIM",
          "PFIZ34",
          "PETR4",
          "OULG11",
          "NP Hedge FIC FIM",
          "MGLU3",
          "Mauá Macro FIC FIM",
          "MSFT34",
          "JHSF3",
          "Icatu Vanguarda Pré-Fixado FIRF ",
          "ITSA4",
          "Mirae Asset Multimercado ",
          "XPLG11",
          "RNGO11",
          "TBOF11",
          "TSLA34",
          "WEGE3",
          "XP Absoluto Consumo FIA",
          "XP Long Short FIC FIM",
          "XP Macro FIM",
          "XPLG13",
          "Ação",
          "FI",
          "FII"
         ],
         "marker": {
          "colors": [
           "rgb(102, 197, 204)",
           "rgb(246, 207, 113)",
           "rgb(246, 207, 113)",
           "rgb(248, 156, 116)",
           "rgb(102, 197, 204)",
           "rgb(246, 207, 113)",
           "rgb(102, 197, 204)",
           "rgb(102, 197, 204)",
           "rgb(102, 197, 204)",
           "rgb(248, 156, 116)",
           "rgb(246, 207, 113)",
           "rgb(248, 156, 116)",
           "rgb(248, 156, 116)",
           "rgb(248, 156, 116)",
           "rgb(102, 197, 204)",
           "rgb(248, 156, 116)",
           "rgb(102, 197, 204)",
           "rgb(102, 197, 204)",
           "rgb(246, 207, 113)",
           "rgb(248, 156, 116)",
           "rgb(102, 197, 204)",
           "rgb(248, 156, 116)",
           "rgb(102, 197, 204)",
           "rgb(102, 197, 204)",
           "rgb(248, 156, 116)",
           "rgb(102, 197, 204)",
           "rgb(248, 156, 116)",
           "rgb(246, 207, 113)",
           "rgb(246, 207, 113)",
           "rgb(246, 207, 113)",
           "rgb(102, 197, 204)",
           "rgb(102, 197, 204)",
           "rgb(248, 156, 116)",
           "rgb(248, 156, 116)",
           "rgb(248, 156, 116)",
           "rgb(246, 207, 113)",
           "rgb(102, 197, 204)",
           "rgb(248, 156, 116)",
           "rgb(246, 207, 113)"
          ]
         },
         "maxdepth": -1,
         "name": "",
         "parents": [
          "Ação",
          "FII",
          "FII",
          "FI",
          "Ação",
          "FII",
          "Ação",
          "Ação",
          "Ação",
          "FI",
          "FII",
          "FI",
          "FI",
          "FI",
          "Ação",
          "FI",
          "Ação",
          "Ação",
          "FII",
          "FI",
          "Ação",
          "FI",
          "Ação",
          "Ação",
          "FI",
          "Ação",
          "FI",
          "FII",
          "FII",
          "FII",
          "Ação",
          "Ação",
          "FI",
          "FI",
          "FI",
          "FII",
          "",
          "",
          ""
         ],
         "type": "sunburst",
         "values": [
          1,
          1,
          1,
          1,
          1,
          1,
          1,
          1,
          1,
          1,
          1,
          1,
          1,
          1,
          1,
          1,
          1,
          1,
          1,
          1,
          1,
          1,
          1,
          1,
          1,
          1,
          1,
          1,
          1,
          1,
          1,
          1,
          1,
          1,
          1,
          1,
          14,
          13,
          9
         ]
        }
       ],
       "layout": {
        "legend": {
         "tracegroupgap": 0
        },
        "margin": {
         "t": 60
        },
        "sunburstcolorway": [
         "rgb(102, 197, 204)",
         "rgb(246, 207, 113)",
         "rgb(248, 156, 116)",
         "rgb(220, 176, 242)",
         "rgb(135, 197, 95)",
         "rgb(158, 185, 243)",
         "rgb(254, 136, 177)",
         "rgb(201, 219, 116)",
         "rgb(139, 224, 164)",
         "rgb(180, 151, 231)",
         "rgb(179, 179, 179)"
        ],
        "template": {
         "data": {
          "bar": [
           {
            "error_x": {
             "color": "#2a3f5f"
            },
            "error_y": {
             "color": "#2a3f5f"
            },
            "marker": {
             "line": {
              "color": "#E5ECF6",
              "width": 0.5
             }
            },
            "type": "bar"
           }
          ],
          "barpolar": [
           {
            "marker": {
             "line": {
              "color": "#E5ECF6",
              "width": 0.5
             }
            },
            "type": "barpolar"
           }
          ],
          "carpet": [
           {
            "aaxis": {
             "endlinecolor": "#2a3f5f",
             "gridcolor": "white",
             "linecolor": "white",
             "minorgridcolor": "white",
             "startlinecolor": "#2a3f5f"
            },
            "baxis": {
             "endlinecolor": "#2a3f5f",
             "gridcolor": "white",
             "linecolor": "white",
             "minorgridcolor": "white",
             "startlinecolor": "#2a3f5f"
            },
            "type": "carpet"
           }
          ],
          "choropleth": [
           {
            "colorbar": {
             "outlinewidth": 0,
             "ticks": ""
            },
            "type": "choropleth"
           }
          ],
          "contour": [
           {
            "colorbar": {
             "outlinewidth": 0,
             "ticks": ""
            },
            "colorscale": [
             [
              0,
              "#0d0887"
             ],
             [
              0.1111111111111111,
              "#46039f"
             ],
             [
              0.2222222222222222,
              "#7201a8"
             ],
             [
              0.3333333333333333,
              "#9c179e"
             ],
             [
              0.4444444444444444,
              "#bd3786"
             ],
             [
              0.5555555555555556,
              "#d8576b"
             ],
             [
              0.6666666666666666,
              "#ed7953"
             ],
             [
              0.7777777777777778,
              "#fb9f3a"
             ],
             [
              0.8888888888888888,
              "#fdca26"
             ],
             [
              1,
              "#f0f921"
             ]
            ],
            "type": "contour"
           }
          ],
          "contourcarpet": [
           {
            "colorbar": {
             "outlinewidth": 0,
             "ticks": ""
            },
            "type": "contourcarpet"
           }
          ],
          "heatmap": [
           {
            "colorbar": {
             "outlinewidth": 0,
             "ticks": ""
            },
            "colorscale": [
             [
              0,
              "#0d0887"
             ],
             [
              0.1111111111111111,
              "#46039f"
             ],
             [
              0.2222222222222222,
              "#7201a8"
             ],
             [
              0.3333333333333333,
              "#9c179e"
             ],
             [
              0.4444444444444444,
              "#bd3786"
             ],
             [
              0.5555555555555556,
              "#d8576b"
             ],
             [
              0.6666666666666666,
              "#ed7953"
             ],
             [
              0.7777777777777778,
              "#fb9f3a"
             ],
             [
              0.8888888888888888,
              "#fdca26"
             ],
             [
              1,
              "#f0f921"
             ]
            ],
            "type": "heatmap"
           }
          ],
          "heatmapgl": [
           {
            "colorbar": {
             "outlinewidth": 0,
             "ticks": ""
            },
            "colorscale": [
             [
              0,
              "#0d0887"
             ],
             [
              0.1111111111111111,
              "#46039f"
             ],
             [
              0.2222222222222222,
              "#7201a8"
             ],
             [
              0.3333333333333333,
              "#9c179e"
             ],
             [
              0.4444444444444444,
              "#bd3786"
             ],
             [
              0.5555555555555556,
              "#d8576b"
             ],
             [
              0.6666666666666666,
              "#ed7953"
             ],
             [
              0.7777777777777778,
              "#fb9f3a"
             ],
             [
              0.8888888888888888,
              "#fdca26"
             ],
             [
              1,
              "#f0f921"
             ]
            ],
            "type": "heatmapgl"
           }
          ],
          "histogram": [
           {
            "marker": {
             "colorbar": {
              "outlinewidth": 0,
              "ticks": ""
             }
            },
            "type": "histogram"
           }
          ],
          "histogram2d": [
           {
            "colorbar": {
             "outlinewidth": 0,
             "ticks": ""
            },
            "colorscale": [
             [
              0,
              "#0d0887"
             ],
             [
              0.1111111111111111,
              "#46039f"
             ],
             [
              0.2222222222222222,
              "#7201a8"
             ],
             [
              0.3333333333333333,
              "#9c179e"
             ],
             [
              0.4444444444444444,
              "#bd3786"
             ],
             [
              0.5555555555555556,
              "#d8576b"
             ],
             [
              0.6666666666666666,
              "#ed7953"
             ],
             [
              0.7777777777777778,
              "#fb9f3a"
             ],
             [
              0.8888888888888888,
              "#fdca26"
             ],
             [
              1,
              "#f0f921"
             ]
            ],
            "type": "histogram2d"
           }
          ],
          "histogram2dcontour": [
           {
            "colorbar": {
             "outlinewidth": 0,
             "ticks": ""
            },
            "colorscale": [
             [
              0,
              "#0d0887"
             ],
             [
              0.1111111111111111,
              "#46039f"
             ],
             [
              0.2222222222222222,
              "#7201a8"
             ],
             [
              0.3333333333333333,
              "#9c179e"
             ],
             [
              0.4444444444444444,
              "#bd3786"
             ],
             [
              0.5555555555555556,
              "#d8576b"
             ],
             [
              0.6666666666666666,
              "#ed7953"
             ],
             [
              0.7777777777777778,
              "#fb9f3a"
             ],
             [
              0.8888888888888888,
              "#fdca26"
             ],
             [
              1,
              "#f0f921"
             ]
            ],
            "type": "histogram2dcontour"
           }
          ],
          "mesh3d": [
           {
            "colorbar": {
             "outlinewidth": 0,
             "ticks": ""
            },
            "type": "mesh3d"
           }
          ],
          "parcoords": [
           {
            "line": {
             "colorbar": {
              "outlinewidth": 0,
              "ticks": ""
             }
            },
            "type": "parcoords"
           }
          ],
          "pie": [
           {
            "automargin": true,
            "type": "pie"
           }
          ],
          "scatter": [
           {
            "marker": {
             "colorbar": {
              "outlinewidth": 0,
              "ticks": ""
             }
            },
            "type": "scatter"
           }
          ],
          "scatter3d": [
           {
            "line": {
             "colorbar": {
              "outlinewidth": 0,
              "ticks": ""
             }
            },
            "marker": {
             "colorbar": {
              "outlinewidth": 0,
              "ticks": ""
             }
            },
            "type": "scatter3d"
           }
          ],
          "scattercarpet": [
           {
            "marker": {
             "colorbar": {
              "outlinewidth": 0,
              "ticks": ""
             }
            },
            "type": "scattercarpet"
           }
          ],
          "scattergeo": [
           {
            "marker": {
             "colorbar": {
              "outlinewidth": 0,
              "ticks": ""
             }
            },
            "type": "scattergeo"
           }
          ],
          "scattergl": [
           {
            "marker": {
             "colorbar": {
              "outlinewidth": 0,
              "ticks": ""
             }
            },
            "type": "scattergl"
           }
          ],
          "scattermapbox": [
           {
            "marker": {
             "colorbar": {
              "outlinewidth": 0,
              "ticks": ""
             }
            },
            "type": "scattermapbox"
           }
          ],
          "scatterpolar": [
           {
            "marker": {
             "colorbar": {
              "outlinewidth": 0,
              "ticks": ""
             }
            },
            "type": "scatterpolar"
           }
          ],
          "scatterpolargl": [
           {
            "marker": {
             "colorbar": {
              "outlinewidth": 0,
              "ticks": ""
             }
            },
            "type": "scatterpolargl"
           }
          ],
          "scatterternary": [
           {
            "marker": {
             "colorbar": {
              "outlinewidth": 0,
              "ticks": ""
             }
            },
            "type": "scatterternary"
           }
          ],
          "surface": [
           {
            "colorbar": {
             "outlinewidth": 0,
             "ticks": ""
            },
            "colorscale": [
             [
              0,
              "#0d0887"
             ],
             [
              0.1111111111111111,
              "#46039f"
             ],
             [
              0.2222222222222222,
              "#7201a8"
             ],
             [
              0.3333333333333333,
              "#9c179e"
             ],
             [
              0.4444444444444444,
              "#bd3786"
             ],
             [
              0.5555555555555556,
              "#d8576b"
             ],
             [
              0.6666666666666666,
              "#ed7953"
             ],
             [
              0.7777777777777778,
              "#fb9f3a"
             ],
             [
              0.8888888888888888,
              "#fdca26"
             ],
             [
              1,
              "#f0f921"
             ]
            ],
            "type": "surface"
           }
          ],
          "table": [
           {
            "cells": {
             "fill": {
              "color": "#EBF0F8"
             },
             "line": {
              "color": "white"
             }
            },
            "header": {
             "fill": {
              "color": "#C8D4E3"
             },
             "line": {
              "color": "white"
             }
            },
            "type": "table"
           }
          ]
         },
         "layout": {
          "annotationdefaults": {
           "arrowcolor": "#2a3f5f",
           "arrowhead": 0,
           "arrowwidth": 1
          },
          "autotypenumbers": "strict",
          "coloraxis": {
           "colorbar": {
            "outlinewidth": 0,
            "ticks": ""
           }
          },
          "colorscale": {
           "diverging": [
            [
             0,
             "#8e0152"
            ],
            [
             0.1,
             "#c51b7d"
            ],
            [
             0.2,
             "#de77ae"
            ],
            [
             0.3,
             "#f1b6da"
            ],
            [
             0.4,
             "#fde0ef"
            ],
            [
             0.5,
             "#f7f7f7"
            ],
            [
             0.6,
             "#e6f5d0"
            ],
            [
             0.7,
             "#b8e186"
            ],
            [
             0.8,
             "#7fbc41"
            ],
            [
             0.9,
             "#4d9221"
            ],
            [
             1,
             "#276419"
            ]
           ],
           "sequential": [
            [
             0,
             "#0d0887"
            ],
            [
             0.1111111111111111,
             "#46039f"
            ],
            [
             0.2222222222222222,
             "#7201a8"
            ],
            [
             0.3333333333333333,
             "#9c179e"
            ],
            [
             0.4444444444444444,
             "#bd3786"
            ],
            [
             0.5555555555555556,
             "#d8576b"
            ],
            [
             0.6666666666666666,
             "#ed7953"
            ],
            [
             0.7777777777777778,
             "#fb9f3a"
            ],
            [
             0.8888888888888888,
             "#fdca26"
            ],
            [
             1,
             "#f0f921"
            ]
           ],
           "sequentialminus": [
            [
             0,
             "#0d0887"
            ],
            [
             0.1111111111111111,
             "#46039f"
            ],
            [
             0.2222222222222222,
             "#7201a8"
            ],
            [
             0.3333333333333333,
             "#9c179e"
            ],
            [
             0.4444444444444444,
             "#bd3786"
            ],
            [
             0.5555555555555556,
             "#d8576b"
            ],
            [
             0.6666666666666666,
             "#ed7953"
            ],
            [
             0.7777777777777778,
             "#fb9f3a"
            ],
            [
             0.8888888888888888,
             "#fdca26"
            ],
            [
             1,
             "#f0f921"
            ]
           ]
          },
          "colorway": [
           "#636efa",
           "#EF553B",
           "#00cc96",
           "#ab63fa",
           "#FFA15A",
           "#19d3f3",
           "#FF6692",
           "#B6E880",
           "#FF97FF",
           "#FECB52"
          ],
          "font": {
           "color": "#2a3f5f"
          },
          "geo": {
           "bgcolor": "white",
           "lakecolor": "white",
           "landcolor": "#E5ECF6",
           "showlakes": true,
           "showland": true,
           "subunitcolor": "white"
          },
          "hoverlabel": {
           "align": "left"
          },
          "hovermode": "closest",
          "mapbox": {
           "style": "light"
          },
          "paper_bgcolor": "white",
          "plot_bgcolor": "#E5ECF6",
          "polar": {
           "angularaxis": {
            "gridcolor": "white",
            "linecolor": "white",
            "ticks": ""
           },
           "bgcolor": "#E5ECF6",
           "radialaxis": {
            "gridcolor": "white",
            "linecolor": "white",
            "ticks": ""
           }
          },
          "scene": {
           "xaxis": {
            "backgroundcolor": "#E5ECF6",
            "gridcolor": "white",
            "gridwidth": 2,
            "linecolor": "white",
            "showbackground": true,
            "ticks": "",
            "zerolinecolor": "white"
           },
           "yaxis": {
            "backgroundcolor": "#E5ECF6",
            "gridcolor": "white",
            "gridwidth": 2,
            "linecolor": "white",
            "showbackground": true,
            "ticks": "",
            "zerolinecolor": "white"
           },
           "zaxis": {
            "backgroundcolor": "#E5ECF6",
            "gridcolor": "white",
            "gridwidth": 2,
            "linecolor": "white",
            "showbackground": true,
            "ticks": "",
            "zerolinecolor": "white"
           }
          },
          "shapedefaults": {
           "line": {
            "color": "#2a3f5f"
           }
          },
          "ternary": {
           "aaxis": {
            "gridcolor": "white",
            "linecolor": "white",
            "ticks": ""
           },
           "baxis": {
            "gridcolor": "white",
            "linecolor": "white",
            "ticks": ""
           },
           "bgcolor": "#E5ECF6",
           "caxis": {
            "gridcolor": "white",
            "linecolor": "white",
            "ticks": ""
           }
          },
          "title": {
           "x": 0.05
          },
          "xaxis": {
           "automargin": true,
           "gridcolor": "white",
           "linecolor": "white",
           "ticks": "",
           "title": {
            "standoff": 15
           },
           "zerolinecolor": "white",
           "zerolinewidth": 2
          },
          "yaxis": {
           "automargin": true,
           "gridcolor": "white",
           "linecolor": "white",
           "ticks": "",
           "title": {
            "standoff": 15
           },
           "zerolinecolor": "white",
           "zerolinewidth": 2
          }
         }
        }
       }
      },
      "text/html": [
       "<div>                            <div id=\"6f3a81c2-9c51-418a-a51d-14733e87305f\" class=\"plotly-graph-div\" style=\"height:525px; width:100%;\"></div>            <script type=\"text/javascript\">                require([\"plotly\"], function(Plotly) {                    window.PLOTLYENV=window.PLOTLYENV || {};                                    if (document.getElementById(\"6f3a81c2-9c51-418a-a51d-14733e87305f\")) {                    Plotly.newPlot(                        \"6f3a81c2-9c51-418a-a51d-14733e87305f\",                        [{\"branchvalues\": \"total\", \"customdata\": [[\"A\\u00e7\\u00e3o\"], [\"FII\"], [\"FII\"], [\"FI\"], [\"A\\u00e7\\u00e3o\"], [\"FII\"], [\"A\\u00e7\\u00e3o\"], [\"A\\u00e7\\u00e3o\"], [\"A\\u00e7\\u00e3o\"], [\"FI\"], [\"FII\"], [\"FI\"], [\"FI\"], [\"FI\"], [\"A\\u00e7\\u00e3o\"], [\"FI\"], [\"A\\u00e7\\u00e3o\"], [\"A\\u00e7\\u00e3o\"], [\"FII\"], [\"FI\"], [\"A\\u00e7\\u00e3o\"], [\"FI\"], [\"A\\u00e7\\u00e3o\"], [\"A\\u00e7\\u00e3o\"], [\"FI\"], [\"A\\u00e7\\u00e3o\"], [\"FI\"], [\"FII\"], [\"FII\"], [\"FII\"], [\"A\\u00e7\\u00e3o\"], [\"A\\u00e7\\u00e3o\"], [\"FI\"], [\"FI\"], [\"FI\"], [\"FII\"], [\"A\\u00e7\\u00e3o\"], [\"FI\"], [\"FII\"]], \"domain\": {\"x\": [0.0, 1.0], \"y\": [0.0, 1.0]}, \"hovertemplate\": \"labels=%{label}<br>count=%{value}<br>parent=%{parent}<br>id=%{id}<br>Tipo=%{customdata[0]}<extra></extra>\", \"ids\": [\"A\\u00e7\\u00e3o/AMZO34\", \"FII/IBFF11\", \"FII/HGLG11\", \"FI/Equitas Selection FIC FIA\", \"A\\u00e7\\u00e3o/EGIE3\", \"FII/CNES11\", \"A\\u00e7\\u00e3o/CASH3\", \"A\\u00e7\\u00e3o/COGN3\", \"A\\u00e7\\u00e3o/BPAC11\", \"FI/BNP Paribas Infla\\u00e7\\u00e3o FI RF\", \"FII/BCFF11\", \"FI/Azul Quantitativo FIM\", \"FI/AZ Quest Multi FIC FIM\", \"FI/Bahia AM Mara\\u00fa FIC de FIM\", \"A\\u00e7\\u00e3o/NVDC34\", \"FI/Polo Norte I FIC FIM\", \"A\\u00e7\\u00e3o/PFIZ34\", \"A\\u00e7\\u00e3o/PETR4\", \"FII/OULG11\", \"FI/NP Hedge FIC FIM\", \"A\\u00e7\\u00e3o/MGLU3\", \"FI/Mau\\u00e1 Macro FIC FIM\", \"A\\u00e7\\u00e3o/MSFT34\", \"A\\u00e7\\u00e3o/JHSF3\", \"FI/Icatu Vanguarda Pr\\u00e9-Fixado FIRF \", \"A\\u00e7\\u00e3o/ITSA4\", \"FI/Mirae Asset Multimercado \", \"FII/XPLG11\", \"FII/RNGO11\", \"FII/TBOF11\", \"A\\u00e7\\u00e3o/TSLA34\", \"A\\u00e7\\u00e3o/WEGE3\", \"FI/XP Absoluto Consumo FIA\", \"FI/XP Long Short FIC FIM\", \"FI/XP Macro FIM\", \"FII/XPLG13\", \"A\\u00e7\\u00e3o\", \"FI\", \"FII\"], \"labels\": [\"AMZO34\", \"IBFF11\", \"HGLG11\", \"Equitas Selection FIC FIA\", \"EGIE3\", \"CNES11\", \"CASH3\", \"COGN3\", \"BPAC11\", \"BNP Paribas Infla\\u00e7\\u00e3o FI RF\", \"BCFF11\", \"Azul Quantitativo FIM\", \"AZ Quest Multi FIC FIM\", \"Bahia AM Mara\\u00fa FIC de FIM\", \"NVDC34\", \"Polo Norte I FIC FIM\", \"PFIZ34\", \"PETR4\", \"OULG11\", \"NP Hedge FIC FIM\", \"MGLU3\", \"Mau\\u00e1 Macro FIC FIM\", \"MSFT34\", \"JHSF3\", \"Icatu Vanguarda Pr\\u00e9-Fixado FIRF \", \"ITSA4\", \"Mirae Asset Multimercado \", \"XPLG11\", \"RNGO11\", \"TBOF11\", \"TSLA34\", \"WEGE3\", \"XP Absoluto Consumo FIA\", \"XP Long Short FIC FIM\", \"XP Macro FIM\", \"XPLG13\", \"A\\u00e7\\u00e3o\", \"FI\", \"FII\"], \"marker\": {\"colors\": [\"rgb(102, 197, 204)\", \"rgb(246, 207, 113)\", \"rgb(246, 207, 113)\", \"rgb(248, 156, 116)\", \"rgb(102, 197, 204)\", \"rgb(246, 207, 113)\", \"rgb(102, 197, 204)\", \"rgb(102, 197, 204)\", \"rgb(102, 197, 204)\", \"rgb(248, 156, 116)\", \"rgb(246, 207, 113)\", \"rgb(248, 156, 116)\", \"rgb(248, 156, 116)\", \"rgb(248, 156, 116)\", \"rgb(102, 197, 204)\", \"rgb(248, 156, 116)\", \"rgb(102, 197, 204)\", \"rgb(102, 197, 204)\", \"rgb(246, 207, 113)\", \"rgb(248, 156, 116)\", \"rgb(102, 197, 204)\", \"rgb(248, 156, 116)\", \"rgb(102, 197, 204)\", \"rgb(102, 197, 204)\", \"rgb(248, 156, 116)\", \"rgb(102, 197, 204)\", \"rgb(248, 156, 116)\", \"rgb(246, 207, 113)\", \"rgb(246, 207, 113)\", \"rgb(246, 207, 113)\", \"rgb(102, 197, 204)\", \"rgb(102, 197, 204)\", \"rgb(248, 156, 116)\", \"rgb(248, 156, 116)\", \"rgb(248, 156, 116)\", \"rgb(246, 207, 113)\", \"rgb(102, 197, 204)\", \"rgb(248, 156, 116)\", \"rgb(246, 207, 113)\"]}, \"maxdepth\": -1, \"name\": \"\", \"parents\": [\"A\\u00e7\\u00e3o\", \"FII\", \"FII\", \"FI\", \"A\\u00e7\\u00e3o\", \"FII\", \"A\\u00e7\\u00e3o\", \"A\\u00e7\\u00e3o\", \"A\\u00e7\\u00e3o\", \"FI\", \"FII\", \"FI\", \"FI\", \"FI\", \"A\\u00e7\\u00e3o\", \"FI\", \"A\\u00e7\\u00e3o\", \"A\\u00e7\\u00e3o\", \"FII\", \"FI\", \"A\\u00e7\\u00e3o\", \"FI\", \"A\\u00e7\\u00e3o\", \"A\\u00e7\\u00e3o\", \"FI\", \"A\\u00e7\\u00e3o\", \"FI\", \"FII\", \"FII\", \"FII\", \"A\\u00e7\\u00e3o\", \"A\\u00e7\\u00e3o\", \"FI\", \"FI\", \"FI\", \"FII\", \"\", \"\", \"\"], \"type\": \"sunburst\", \"values\": [1, 1, 1, 1, 1, 1, 1, 1, 1, 1, 1, 1, 1, 1, 1, 1, 1, 1, 1, 1, 1, 1, 1, 1, 1, 1, 1, 1, 1, 1, 1, 1, 1, 1, 1, 1, 14, 13, 9]}],                        {\"legend\": {\"tracegroupgap\": 0}, \"margin\": {\"t\": 60}, \"sunburstcolorway\": [\"rgb(102, 197, 204)\", \"rgb(246, 207, 113)\", \"rgb(248, 156, 116)\", \"rgb(220, 176, 242)\", \"rgb(135, 197, 95)\", \"rgb(158, 185, 243)\", \"rgb(254, 136, 177)\", \"rgb(201, 219, 116)\", \"rgb(139, 224, 164)\", \"rgb(180, 151, 231)\", \"rgb(179, 179, 179)\"], \"template\": {\"data\": {\"bar\": [{\"error_x\": {\"color\": \"#2a3f5f\"}, \"error_y\": {\"color\": \"#2a3f5f\"}, \"marker\": {\"line\": {\"color\": \"#E5ECF6\", \"width\": 0.5}}, \"type\": \"bar\"}], \"barpolar\": [{\"marker\": {\"line\": {\"color\": \"#E5ECF6\", \"width\": 0.5}}, \"type\": \"barpolar\"}], \"carpet\": [{\"aaxis\": {\"endlinecolor\": \"#2a3f5f\", \"gridcolor\": \"white\", \"linecolor\": \"white\", \"minorgridcolor\": \"white\", \"startlinecolor\": \"#2a3f5f\"}, \"baxis\": {\"endlinecolor\": \"#2a3f5f\", \"gridcolor\": \"white\", \"linecolor\": \"white\", \"minorgridcolor\": \"white\", \"startlinecolor\": \"#2a3f5f\"}, \"type\": \"carpet\"}], \"choropleth\": [{\"colorbar\": {\"outlinewidth\": 0, \"ticks\": \"\"}, \"type\": \"choropleth\"}], \"contour\": [{\"colorbar\": {\"outlinewidth\": 0, \"ticks\": \"\"}, \"colorscale\": [[0.0, \"#0d0887\"], [0.1111111111111111, \"#46039f\"], [0.2222222222222222, \"#7201a8\"], [0.3333333333333333, \"#9c179e\"], [0.4444444444444444, \"#bd3786\"], [0.5555555555555556, \"#d8576b\"], [0.6666666666666666, \"#ed7953\"], [0.7777777777777778, \"#fb9f3a\"], [0.8888888888888888, \"#fdca26\"], [1.0, \"#f0f921\"]], \"type\": \"contour\"}], \"contourcarpet\": [{\"colorbar\": {\"outlinewidth\": 0, \"ticks\": \"\"}, \"type\": \"contourcarpet\"}], \"heatmap\": [{\"colorbar\": {\"outlinewidth\": 0, \"ticks\": \"\"}, \"colorscale\": [[0.0, \"#0d0887\"], [0.1111111111111111, \"#46039f\"], [0.2222222222222222, \"#7201a8\"], [0.3333333333333333, \"#9c179e\"], [0.4444444444444444, \"#bd3786\"], [0.5555555555555556, \"#d8576b\"], [0.6666666666666666, \"#ed7953\"], [0.7777777777777778, \"#fb9f3a\"], [0.8888888888888888, \"#fdca26\"], [1.0, \"#f0f921\"]], \"type\": \"heatmap\"}], \"heatmapgl\": [{\"colorbar\": {\"outlinewidth\": 0, \"ticks\": \"\"}, \"colorscale\": [[0.0, \"#0d0887\"], [0.1111111111111111, \"#46039f\"], [0.2222222222222222, \"#7201a8\"], [0.3333333333333333, \"#9c179e\"], [0.4444444444444444, \"#bd3786\"], [0.5555555555555556, \"#d8576b\"], [0.6666666666666666, \"#ed7953\"], [0.7777777777777778, \"#fb9f3a\"], [0.8888888888888888, \"#fdca26\"], [1.0, \"#f0f921\"]], \"type\": \"heatmapgl\"}], \"histogram\": [{\"marker\": {\"colorbar\": {\"outlinewidth\": 0, \"ticks\": \"\"}}, \"type\": \"histogram\"}], \"histogram2d\": [{\"colorbar\": {\"outlinewidth\": 0, \"ticks\": \"\"}, \"colorscale\": [[0.0, \"#0d0887\"], [0.1111111111111111, \"#46039f\"], [0.2222222222222222, \"#7201a8\"], [0.3333333333333333, \"#9c179e\"], [0.4444444444444444, \"#bd3786\"], [0.5555555555555556, \"#d8576b\"], [0.6666666666666666, \"#ed7953\"], [0.7777777777777778, \"#fb9f3a\"], [0.8888888888888888, \"#fdca26\"], [1.0, \"#f0f921\"]], \"type\": \"histogram2d\"}], \"histogram2dcontour\": [{\"colorbar\": {\"outlinewidth\": 0, \"ticks\": \"\"}, \"colorscale\": [[0.0, \"#0d0887\"], [0.1111111111111111, \"#46039f\"], [0.2222222222222222, \"#7201a8\"], [0.3333333333333333, \"#9c179e\"], [0.4444444444444444, \"#bd3786\"], [0.5555555555555556, \"#d8576b\"], [0.6666666666666666, \"#ed7953\"], [0.7777777777777778, \"#fb9f3a\"], [0.8888888888888888, \"#fdca26\"], [1.0, \"#f0f921\"]], \"type\": \"histogram2dcontour\"}], \"mesh3d\": [{\"colorbar\": {\"outlinewidth\": 0, \"ticks\": \"\"}, \"type\": \"mesh3d\"}], \"parcoords\": [{\"line\": {\"colorbar\": {\"outlinewidth\": 0, \"ticks\": \"\"}}, \"type\": \"parcoords\"}], \"pie\": [{\"automargin\": true, \"type\": \"pie\"}], \"scatter\": [{\"marker\": {\"colorbar\": {\"outlinewidth\": 0, \"ticks\": \"\"}}, \"type\": \"scatter\"}], \"scatter3d\": [{\"line\": {\"colorbar\": {\"outlinewidth\": 0, \"ticks\": \"\"}}, \"marker\": {\"colorbar\": {\"outlinewidth\": 0, \"ticks\": \"\"}}, \"type\": \"scatter3d\"}], \"scattercarpet\": [{\"marker\": {\"colorbar\": {\"outlinewidth\": 0, \"ticks\": \"\"}}, \"type\": \"scattercarpet\"}], \"scattergeo\": [{\"marker\": {\"colorbar\": {\"outlinewidth\": 0, \"ticks\": \"\"}}, \"type\": \"scattergeo\"}], \"scattergl\": [{\"marker\": {\"colorbar\": {\"outlinewidth\": 0, \"ticks\": \"\"}}, \"type\": \"scattergl\"}], \"scattermapbox\": [{\"marker\": {\"colorbar\": {\"outlinewidth\": 0, \"ticks\": \"\"}}, \"type\": \"scattermapbox\"}], \"scatterpolar\": [{\"marker\": {\"colorbar\": {\"outlinewidth\": 0, \"ticks\": \"\"}}, \"type\": \"scatterpolar\"}], \"scatterpolargl\": [{\"marker\": {\"colorbar\": {\"outlinewidth\": 0, \"ticks\": \"\"}}, \"type\": \"scatterpolargl\"}], \"scatterternary\": [{\"marker\": {\"colorbar\": {\"outlinewidth\": 0, \"ticks\": \"\"}}, \"type\": \"scatterternary\"}], \"surface\": [{\"colorbar\": {\"outlinewidth\": 0, \"ticks\": \"\"}, \"colorscale\": [[0.0, \"#0d0887\"], [0.1111111111111111, \"#46039f\"], [0.2222222222222222, \"#7201a8\"], [0.3333333333333333, \"#9c179e\"], [0.4444444444444444, \"#bd3786\"], [0.5555555555555556, \"#d8576b\"], [0.6666666666666666, \"#ed7953\"], [0.7777777777777778, \"#fb9f3a\"], [0.8888888888888888, \"#fdca26\"], [1.0, \"#f0f921\"]], \"type\": \"surface\"}], \"table\": [{\"cells\": {\"fill\": {\"color\": \"#EBF0F8\"}, \"line\": {\"color\": \"white\"}}, \"header\": {\"fill\": {\"color\": \"#C8D4E3\"}, \"line\": {\"color\": \"white\"}}, \"type\": \"table\"}]}, \"layout\": {\"annotationdefaults\": {\"arrowcolor\": \"#2a3f5f\", \"arrowhead\": 0, \"arrowwidth\": 1}, \"autotypenumbers\": \"strict\", \"coloraxis\": {\"colorbar\": {\"outlinewidth\": 0, \"ticks\": \"\"}}, \"colorscale\": {\"diverging\": [[0, \"#8e0152\"], [0.1, \"#c51b7d\"], [0.2, \"#de77ae\"], [0.3, \"#f1b6da\"], [0.4, \"#fde0ef\"], [0.5, \"#f7f7f7\"], [0.6, \"#e6f5d0\"], [0.7, \"#b8e186\"], [0.8, \"#7fbc41\"], [0.9, \"#4d9221\"], [1, \"#276419\"]], \"sequential\": [[0.0, \"#0d0887\"], [0.1111111111111111, \"#46039f\"], [0.2222222222222222, \"#7201a8\"], [0.3333333333333333, \"#9c179e\"], [0.4444444444444444, \"#bd3786\"], [0.5555555555555556, \"#d8576b\"], [0.6666666666666666, \"#ed7953\"], [0.7777777777777778, \"#fb9f3a\"], [0.8888888888888888, \"#fdca26\"], [1.0, \"#f0f921\"]], \"sequentialminus\": [[0.0, \"#0d0887\"], [0.1111111111111111, \"#46039f\"], [0.2222222222222222, \"#7201a8\"], [0.3333333333333333, \"#9c179e\"], [0.4444444444444444, \"#bd3786\"], [0.5555555555555556, \"#d8576b\"], [0.6666666666666666, \"#ed7953\"], [0.7777777777777778, \"#fb9f3a\"], [0.8888888888888888, \"#fdca26\"], [1.0, \"#f0f921\"]]}, \"colorway\": [\"#636efa\", \"#EF553B\", \"#00cc96\", \"#ab63fa\", \"#FFA15A\", \"#19d3f3\", \"#FF6692\", \"#B6E880\", \"#FF97FF\", \"#FECB52\"], \"font\": {\"color\": \"#2a3f5f\"}, \"geo\": {\"bgcolor\": \"white\", \"lakecolor\": \"white\", \"landcolor\": \"#E5ECF6\", \"showlakes\": true, \"showland\": true, \"subunitcolor\": \"white\"}, \"hoverlabel\": {\"align\": \"left\"}, \"hovermode\": \"closest\", \"mapbox\": {\"style\": \"light\"}, \"paper_bgcolor\": \"white\", \"plot_bgcolor\": \"#E5ECF6\", \"polar\": {\"angularaxis\": {\"gridcolor\": \"white\", \"linecolor\": \"white\", \"ticks\": \"\"}, \"bgcolor\": \"#E5ECF6\", \"radialaxis\": {\"gridcolor\": \"white\", \"linecolor\": \"white\", \"ticks\": \"\"}}, \"scene\": {\"xaxis\": {\"backgroundcolor\": \"#E5ECF6\", \"gridcolor\": \"white\", \"gridwidth\": 2, \"linecolor\": \"white\", \"showbackground\": true, \"ticks\": \"\", \"zerolinecolor\": \"white\"}, \"yaxis\": {\"backgroundcolor\": \"#E5ECF6\", \"gridcolor\": \"white\", \"gridwidth\": 2, \"linecolor\": \"white\", \"showbackground\": true, \"ticks\": \"\", \"zerolinecolor\": \"white\"}, \"zaxis\": {\"backgroundcolor\": \"#E5ECF6\", \"gridcolor\": \"white\", \"gridwidth\": 2, \"linecolor\": \"white\", \"showbackground\": true, \"ticks\": \"\", \"zerolinecolor\": \"white\"}}, \"shapedefaults\": {\"line\": {\"color\": \"#2a3f5f\"}}, \"ternary\": {\"aaxis\": {\"gridcolor\": \"white\", \"linecolor\": \"white\", \"ticks\": \"\"}, \"baxis\": {\"gridcolor\": \"white\", \"linecolor\": \"white\", \"ticks\": \"\"}, \"bgcolor\": \"#E5ECF6\", \"caxis\": {\"gridcolor\": \"white\", \"linecolor\": \"white\", \"ticks\": \"\"}}, \"title\": {\"x\": 0.05}, \"xaxis\": {\"automargin\": true, \"gridcolor\": \"white\", \"linecolor\": \"white\", \"ticks\": \"\", \"title\": {\"standoff\": 15}, \"zerolinecolor\": \"white\", \"zerolinewidth\": 2}, \"yaxis\": {\"automargin\": true, \"gridcolor\": \"white\", \"linecolor\": \"white\", \"ticks\": \"\", \"title\": {\"standoff\": 15}, \"zerolinecolor\": \"white\", \"zerolinewidth\": 2}}}},                        {\"responsive\": true}                    ).then(function(){\n",
       "                            \n",
       "var gd = document.getElementById('6f3a81c2-9c51-418a-a51d-14733e87305f');\n",
       "var x = new MutationObserver(function (mutations, observer) {{\n",
       "        var display = window.getComputedStyle(gd).display;\n",
       "        if (!display || display === 'none') {{\n",
       "            console.log([gd, 'removed!']);\n",
       "            Plotly.purge(gd);\n",
       "            observer.disconnect();\n",
       "        }}\n",
       "}});\n",
       "\n",
       "// Listen for the removal of the full notebook cells\n",
       "var notebookContainer = gd.closest('#notebook-container');\n",
       "if (notebookContainer) {{\n",
       "    x.observe(notebookContainer, {childList: true});\n",
       "}}\n",
       "\n",
       "// Listen for the clearing of the current output cell\n",
       "var outputEl = gd.closest('.output');\n",
       "if (outputEl) {{\n",
       "    x.observe(outputEl, {childList: true});\n",
       "}}\n",
       "\n",
       "                        })                };                });            </script>        </div>"
      ]
     },
     "metadata": {},
     "output_type": "display_data"
    }
   ],
   "source": [
    "import plotly.express as px\n",
    "df = px.data.tips()\n",
    "fig = px.sunburst(data_frame=df_graph2, \n",
    "                  path=['Tipo', 'Nome'],\n",
    "                  color='Tipo',\n",
    "                  color_discrete_sequence=px.colors.qualitative.Pastel, \n",
    "                  maxdepth=-1)\n",
    "fig.show()"
   ]
  },
  {
   "cell_type": "code",
   "execution_count": 14,
   "metadata": {},
   "outputs": [
    {
     "ename": "NameError",
     "evalue": "name 'fi' is not defined",
     "output_type": "error",
     "traceback": [
      "\u001b[0;31m---------------------------------------------------------------------------\u001b[0m",
      "\u001b[0;31mNameError\u001b[0m                                 Traceback (most recent call last)",
      "\u001b[0;32m<ipython-input-14-7305ec069232>\u001b[0m in \u001b[0;36m<module>\u001b[0;34m\u001b[0m\n\u001b[0;32m----> 1\u001b[0;31m \u001b[0mfi_resumo\u001b[0m \u001b[0;34m=\u001b[0m \u001b[0mfi\u001b[0m\u001b[0;34m.\u001b[0m\u001b[0mresumo\u001b[0m\u001b[0;34m\u001b[0m\u001b[0;34m\u001b[0m\u001b[0m\n\u001b[0m\u001b[1;32m      2\u001b[0m \u001b[0macoes_resumo\u001b[0m \u001b[0;34m=\u001b[0m \u001b[0macoes\u001b[0m\u001b[0;34m.\u001b[0m\u001b[0mresumo\u001b[0m\u001b[0;34m[\u001b[0m\u001b[0macoes\u001b[0m\u001b[0;34m.\u001b[0m\u001b[0mresumo\u001b[0m\u001b[0;34m[\u001b[0m\u001b[0;34m'Data'\u001b[0m\u001b[0;34m]\u001b[0m \u001b[0;34m<=\u001b[0m \u001b[0;34m'2020-12-31'\u001b[0m\u001b[0;34m]\u001b[0m\u001b[0;34m\u001b[0m\u001b[0;34m\u001b[0m\u001b[0m\n\u001b[1;32m      3\u001b[0m \u001b[0mfiis_resumo\u001b[0m \u001b[0;34m=\u001b[0m \u001b[0mfiis\u001b[0m\u001b[0;34m.\u001b[0m\u001b[0mresumo\u001b[0m\u001b[0;34m[\u001b[0m\u001b[0mfiis\u001b[0m\u001b[0;34m.\u001b[0m\u001b[0mresumo\u001b[0m\u001b[0;34m[\u001b[0m\u001b[0;34m'Data'\u001b[0m\u001b[0;34m]\u001b[0m \u001b[0;34m<=\u001b[0m \u001b[0;34m'2020-12-31'\u001b[0m\u001b[0;34m]\u001b[0m\u001b[0;34m\u001b[0m\u001b[0;34m\u001b[0m\u001b[0m\n",
      "\u001b[0;31mNameError\u001b[0m: name 'fi' is not defined"
     ]
    }
   ],
   "source": [
    "fi_resumo = fi.resumo\n",
    "acoes_resumo = acoes.resumo[acoes.resumo['Data'] <= '2020-12-31']\n",
    "fiis_resumo = fiis.resumo[fiis.resumo['Data'] <= '2020-12-31']"
   ]
  },
  {
   "cell_type": "code",
   "execution_count": null,
   "metadata": {},
   "outputs": [],
   "source": [
    "display(fi_resumo.head())\n",
    "display(acoes_resumo.head())\n",
    "display(fiis_resumo.head())"
   ]
  },
  {
   "cell_type": "markdown",
   "metadata": {},
   "source": [
    "**Mapeado todos os FIs**\n",
    "\n",
    "Verifica se existe FI no extrato não mapeado"
   ]
  },
  {
   "cell_type": "code",
   "execution_count": null,
   "metadata": {
    "scrolled": true
   },
   "outputs": [],
   "source": [
    "#fundo_investimento.extrato[fundo_investimento.extrato['Nome'].str.contains('unknown')].head()\n",
    "#extrato.aportes_fi_hist[extrato.aportes_fi_hist['Nome'] == 'unknown']"
   ]
  },
  {
   "cell_type": "markdown",
   "metadata": {},
   "source": [
    "## Analise FIs"
   ]
  },
  {
   "cell_type": "code",
   "execution_count": null,
   "metadata": {},
   "outputs": [],
   "source": [
    "resumo_fi = fundo_investimento.resumo"
   ]
  },
  {
   "cell_type": "code",
   "execution_count": null,
   "metadata": {},
   "outputs": [],
   "source": [
    "print('Resumo por Fi:')\n",
    "\n",
    "tmp = resumo_fi[resumo_fi['data_posicao'] <= '2020-12-31']\\\n",
    "        .groupby(['Nome'])\\\n",
    "        .agg(posicao=('Total Bruto', 'last'), \n",
    "             total_aporte=('aporte', 'sum'), \n",
    "             total_rendimento=('rendimento', 'sum'), \n",
    "             total_retirada=('retirada', 'sum')).reset_index()\n",
    "\n",
    "tmp.sort_values(['total_rendimento'], ascending=False)"
   ]
  },
  {
   "cell_type": "markdown",
   "metadata": {},
   "source": [
    "## Analise Ações"
   ]
  },
  {
   "cell_type": "code",
   "execution_count": null,
   "metadata": {},
   "outputs": [],
   "source": [
    "resumo_acoes = acoes.calcula_resumo(2010, 2020)"
   ]
  },
  {
   "cell_type": "code",
   "execution_count": null,
   "metadata": {},
   "outputs": [],
   "source": [
    "resumo_papel = resumo_acoes[resumo_acoes['Data'] <= '2020-12-31']\\\n",
    "        .groupby(['Papel'])\\\n",
    "        .agg(total_financeiro=('Financeiro', 'last'), \n",
    "            total_aporte=('aporte', 'sum'),\n",
    "            total_retirada=('retirada', 'sum'),\n",
    "            total_rendimento=('rendimento', 'sum')).reset_index()\n",
    "\n",
    "resumo_papel['%'] = resumo_papel['total_rendimento'] / resumo_papel['total_aporte'] * 100\n",
    "\n",
    "resumo_papel.sort_values('total_rendimento', ascending=False)"
   ]
  },
  {
   "cell_type": "markdown",
   "metadata": {},
   "source": [
    "## FIIs"
   ]
  },
  {
   "cell_type": "code",
   "execution_count": null,
   "metadata": {},
   "outputs": [],
   "source": [
    "resumo_fiis = fiis.calcula_resumo(2010, 2020)"
   ]
  },
  {
   "cell_type": "code",
   "execution_count": null,
   "metadata": {},
   "outputs": [],
   "source": [
    "resfiis_papel = resumo_fiis[resumo_fiis['Data'] <= '2020-12-31']\\\n",
    "        .groupby(['Papel'])\\\n",
    "        .agg(total_financeiro=('Financeiro', 'last'), \n",
    "            total_aporte=('aporte', 'sum'),\n",
    "            total_retirada=('retirada', 'sum'),\n",
    "            total_rendimento=('rendimento', 'sum')).reset_index()\n",
    "\n",
    "resfiis_papel['%'] = resfiis_papel['total_rendimento'] / resfiis_papel['total_aporte'] * 100\n",
    "\n",
    "resfiis_papel.sort_values('total_rendimento', ascending=False)"
   ]
  },
  {
   "cell_type": "markdown",
   "metadata": {},
   "source": [
    "## Grafico de rendimento"
   ]
  },
  {
   "cell_type": "code",
   "execution_count": null,
   "metadata": {},
   "outputs": [],
   "source": [
    "df1 = resumo_acoes[resumo_acoes['Data'] <= '2020-12-31'].groupby(['Data', 'ano', 'mes'])\\\n",
    "        .agg(financeiro=('Financeiro', 'sum'), \n",
    "            aporte=('aporte', 'sum'), \n",
    "            retirada=('retirada', 'sum'), \n",
    "            rendimento=('rendimento', 'sum'))\\\n",
    "        .reset_index()"
   ]
  },
  {
   "cell_type": "code",
   "execution_count": null,
   "metadata": {},
   "outputs": [],
   "source": [
    "df2 = resumo_fiis[resumo_fiis['Data'] <= '2020-12-31'].groupby(['Data', 'ano', 'mes'])\\\n",
    "        .agg(financeiro=('Financeiro', 'sum'), \n",
    "            aporte=('aporte', 'sum'), \n",
    "            retirada=('retirada', 'sum'), \n",
    "            rendimento=('rendimento', 'sum'))\\\n",
    "        .reset_index()"
   ]
  },
  {
   "cell_type": "code",
   "execution_count": null,
   "metadata": {},
   "outputs": [],
   "source": [
    "df3 = resumo_fi[resumo_fi['data_posicao'] <= '2020-12-31'].groupby(['data_posicao', 'ano', 'mes'])\\\n",
    "        .agg(financeiro=('Total Bruto', 'sum'), \n",
    "            aporte=('aporte', 'sum'), \n",
    "            retirada=('retirada', 'sum'), \n",
    "            rendimento=('rendimento', 'sum'))\\\n",
    "        .reset_index()\\\n",
    "        .rename(columns={'data_posicao': 'Data'})"
   ]
  },
  {
   "cell_type": "code",
   "execution_count": null,
   "metadata": {},
   "outputs": [],
   "source": [
    "df_graph1 = df1.append(df2, ignore_index=True).append(df3, ignore_index=True)\n",
    "\n",
    "df_graph1 = df_graph1.groupby(['Data', 'ano', 'mes'])\\\n",
    "        .agg(financeiro=('financeiro', 'sum'), \n",
    "            aporte=('aporte', 'sum'), \n",
    "            retirada=('retirada', 'sum'), \n",
    "            rendimento=('rendimento', 'sum'))\\\n",
    "        .reset_index().fillna(0)\n",
    "\n",
    "df_graph1['%'] = df_graph1['rendimento'] / df_graph1['financeiro'] * 100\n",
    "df_graph1['renda_acum'] = df_graph1['rendimento'].cumsum()\n",
    "df_graph1['aporte_acum'] = df_graph1['aporte'].cumsum()\n",
    "df_graph1['retirada_acum'] = df_graph1['retirada'].cumsum()\n",
    "df_graph1['investido'] = df_graph1['aporte_acum'] - df_graph1['retirada_acum']\n",
    "df_graph1['% renda_acum'] = df_graph1['rendimento'].cumsum() / (df_graph1['investido']) * 100"
   ]
  },
  {
   "cell_type": "code",
   "execution_count": null,
   "metadata": {},
   "outputs": [],
   "source": [
    "df_graph1.fillna(0)"
   ]
  },
  {
   "cell_type": "code",
   "execution_count": null,
   "metadata": {},
   "outputs": [],
   "source": [
    "df_graph1.tail(1)"
   ]
  },
  {
   "cell_type": "code",
   "execution_count": null,
   "metadata": {},
   "outputs": [],
   "source": [
    "def create_graph1(df):\n",
    "\n",
    "    fig = go.Figure()\n",
    "    data = []\n",
    "\n",
    "    fig.add_trace(\n",
    "        go.Scatter(x=df['Data'],\n",
    "                y=df['%'],\n",
    "                mode='lines',\n",
    "                name='% Rendimento',\n",
    "                textposition='top center',\n",
    "                text=df['%'].apply(lambda x: f'{x:,.2f}%'),\n",
    "                marker=dict(size=7),\n",
    "                line=dict(color='rgb(115,115,115)', width=1.8),\n",
    "                opacity=.8))  \n",
    "\n",
    "    fig.update_xaxes(\n",
    "        rangeslider_visible=True,\n",
    "        rangeselector=dict(\n",
    "            buttons=list([\n",
    "                dict(count=1, label=\"1m\", step=\"month\", stepmode=\"backward\"),\n",
    "                dict(count=6, label=\"6m\", step=\"month\", stepmode=\"backward\"),\n",
    "                dict(count=1, label=\"YTD\", step=\"year\", stepmode=\"todate\"),\n",
    "                dict(count=1, label=\"1y\", step=\"year\", stepmode=\"backward\"),\n",
    "                dict(step=\"all\")\n",
    "            ])\n",
    "        )\n",
    "    )\n",
    "\n",
    "    fig.update_layout(\n",
    "        template='plotly_white', \n",
    "        legend_orientation='h', \n",
    "        #height=600, \n",
    "        #width=1000, \n",
    "        title={\n",
    "            'y':0.9,\n",
    "            'xanchor': 'left',\n",
    "            'yanchor': 'top'}\n",
    "        \n",
    "    )\n",
    "\n",
    "\n",
    "    fig.show()"
   ]
  },
  {
   "cell_type": "code",
   "execution_count": null,
   "metadata": {},
   "outputs": [],
   "source": [
    "create_graph1(df_graph1[(df_graph1['Data'] >= '2014-01-01')].sort_values('Data'))"
   ]
  },
  {
   "cell_type": "code",
   "execution_count": null,
   "metadata": {},
   "outputs": [],
   "source": [
    "def create_graph3(df):\n",
    "\n",
    "    fig = go.Figure()\n",
    "    data = []\n",
    "\n",
    "    fig.add_trace(\n",
    "        go.Scatter(x=df['Data'],\n",
    "                y=df['% renda_acum'],\n",
    "                mode='lines',\n",
    "                name='% Rendimento',\n",
    "                textposition='top center',\n",
    "                text=df['% renda_acum'].apply(lambda x: f'{x:,.2f}%'),\n",
    "                marker=dict(size=7),\n",
    "                line=dict(color='rgb(115,115,115)', width=1.8),\n",
    "                opacity=.8))\n",
    "\n",
    "    fig.update_xaxes(\n",
    "        rangeslider_visible=True,\n",
    "        rangeselector=dict(\n",
    "            buttons=list([\n",
    "                dict(count=1, label=\"1m\", step=\"month\", stepmode=\"backward\"),\n",
    "                dict(count=6, label=\"6m\", step=\"month\", stepmode=\"backward\"),\n",
    "                dict(count=1, label=\"YTD\", step=\"year\", stepmode=\"todate\"),\n",
    "                dict(count=1, label=\"1y\", step=\"year\", stepmode=\"backward\"),\n",
    "                dict(step=\"all\")\n",
    "            ])\n",
    "        )\n",
    "    )\n",
    "\n",
    "    fig.update_layout(\n",
    "        template='plotly_white', \n",
    "        legend_orientation='h', \n",
    "        #height=600, \n",
    "        #width=1000, \n",
    "        title={\n",
    "            'y':0.9,\n",
    "            'xanchor': 'left',\n",
    "            'yanchor': 'top'}\n",
    "        \n",
    "    )\n",
    "\n",
    "\n",
    "    fig.show()\n",
    "    \n",
    "create_graph3(df_graph1[df_graph1['Data'] >= '2014-01-01'].sort_values('Data'))"
   ]
  },
  {
   "cell_type": "code",
   "execution_count": null,
   "metadata": {},
   "outputs": [],
   "source": [
    "def create_graph2(df):\n",
    "\n",
    "    fig = go.Figure()\n",
    "    data = []\n",
    "\n",
    "    fig.add_trace(\n",
    "        go.Scatter(x=df['Data'],\n",
    "            y=df['renda_acum'],\n",
    "            mode='lines',\n",
    "            name = 'Rendimento Acumulado',\n",
    "            text=df['renda_acum'].apply(lambda x: f'{x/1000:,.0f}K'),\n",
    "            #textposition='outside',\n",
    "            line=dict(color='rgb(115,115,115)'), \n",
    "            line_shape='linear'\n",
    "            ))            \n",
    "    \n",
    "    fig.update_xaxes(\n",
    "        rangeslider_visible=True,\n",
    "        rangeselector=dict(\n",
    "            buttons=list([\n",
    "                dict(count=1, label=\"1m\", step=\"month\", stepmode=\"backward\"),\n",
    "                dict(count=6, label=\"6m\", step=\"month\", stepmode=\"backward\"),\n",
    "                dict(count=1, label=\"YTD\", step=\"year\", stepmode=\"todate\"),\n",
    "                dict(count=1, label=\"1y\", step=\"year\", stepmode=\"backward\"),\n",
    "                dict(step=\"all\")\n",
    "            ])\n",
    "        )\n",
    "    )\n",
    "\n",
    "    fig.update_layout(\n",
    "        template='plotly_white', \n",
    "        legend_orientation='h', \n",
    "        #height=600, \n",
    "        #width=1000, \n",
    "        title={\n",
    "            'y':0.9,\n",
    "            'xanchor': 'left',\n",
    "            'yanchor': 'top'}\n",
    "        \n",
    "    )\n",
    "\n",
    "\n",
    "    fig.show()"
   ]
  },
  {
   "cell_type": "code",
   "execution_count": null,
   "metadata": {},
   "outputs": [],
   "source": [
    "create_graph2(df_graph1[df_graph1['Data'] >= '2014-01-01'].sort_values('Data'))"
   ]
  },
  {
   "cell_type": "code",
   "execution_count": null,
   "metadata": {},
   "outputs": [],
   "source": [
    "import plotly.express as px\n",
    "\n",
    "df_tmp = df_graph1[df_graph1['Data'] >= '2014-01-01'].sort_values('Data')\n",
    "\n",
    "fig = px.line(df_tmp, x='Data', y='renda_acum', title='Time Series with Range Slider and Selectors')\n",
    "\n",
    "fig.update_xaxes(\n",
    "    rangeslider_visible=True,\n",
    "    rangeselector=dict(\n",
    "        buttons=list([\n",
    "            dict(count=1, label=\"1m\", step=\"month\", stepmode=\"backward\"),\n",
    "            dict(count=6, label=\"6m\", step=\"month\", stepmode=\"backward\"),\n",
    "            dict(count=1, label=\"YTD\", step=\"year\", stepmode=\"todate\"),\n",
    "            dict(count=1, label=\"1y\", step=\"year\", stepmode=\"backward\"),\n",
    "            dict(step=\"all\")\n",
    "        ])\n",
    "    )\n",
    ")\n",
    "fig.show()"
   ]
  },
  {
   "cell_type": "code",
   "execution_count": null,
   "metadata": {},
   "outputs": [],
   "source": []
  }
 ],
 "metadata": {
  "kernelspec": {
   "display_name": "Python 3",
   "language": "python",
   "name": "python3"
  },
  "language_info": {
   "codemirror_mode": {
    "name": "ipython",
    "version": 3
   },
   "file_extension": ".py",
   "mimetype": "text/x-python",
   "name": "python",
   "nbconvert_exporter": "python",
   "pygments_lexer": "ipython3",
   "version": "3.8.5"
  }
 },
 "nbformat": 4,
 "nbformat_minor": 4
}
