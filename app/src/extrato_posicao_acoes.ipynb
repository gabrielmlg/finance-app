{
 "cells": [
  {
   "cell_type": "code",
   "execution_count": 1,
   "metadata": {},
   "outputs": [],
   "source": [
    "from model import Posicao, Extrato, AwsModel\n",
    "from views import FundoInvestimento, Acao, FundoImobiliario\n",
    "#from controllers import MainController\n",
    "import numpy as np\n",
    "import pandas as pd \n",
    "from datetime import datetime\n",
    "import os\n",
    "\n",
    "import plotly.graph_objs as go\n",
    "\n",
    "# Config\n",
    "pd.options.display.float_format = '{:,.2f}'.format\n",
    "pd.set_option('display.max_columns', None)\n",
    "pd.set_option('display.max_rows', None)\n",
    "pd.set_option('display.width', None)\n",
    "pd.set_option('display.max_colwidth', None)"
   ]
  },
  {
   "cell_type": "code",
   "execution_count": 33,
   "metadata": {},
   "outputs": [
    {
     "data": {
      "text/plain": [
       "'username'"
      ]
     },
     "execution_count": 33,
     "metadata": {},
     "output_type": "execute_result"
    }
   ],
   "source": [
    "#print(os.environ.get('$AWS_ACCESS_KEY_ID'))\n",
    "os.environ['TESTE_CHAVE_GABRIEL'] = 'username'\n",
    "\n",
    "\n",
    "os.getenv('TESTE_CHAVE_GABRIEL')"
   ]
  },
  {
   "cell_type": "code",
   "execution_count": 21,
   "metadata": {},
   "outputs": [
    {
     "name": "stdout",
     "output_type": "stream",
     "text": [
      "WARNING *** file size (60570) not 512 + multiple of sector size (512)\n",
      "WARNING *** file size (71838) not 512 + multiple of sector size (512)\n",
      "WARNING *** file size (71834) not 512 + multiple of sector size (512)\n",
      "WARNING *** file size (69788) not 512 + multiple of sector size (512)\n",
      "WARNING *** file size (60570) not 512 + multiple of sector size (512)\n",
      "WARNING *** file size (60570) not 512 + multiple of sector size (512)\n",
      "WARNING *** file size (60572) not 512 + multiple of sector size (512)\n",
      "WARNING *** file size (59548) not 512 + multiple of sector size (512)\n",
      "WARNING *** file size (59546) not 512 + multiple of sector size (512)\n",
      "WARNING *** file size (59546) not 512 + multiple of sector size (512)\n",
      "WARNING *** file size (59546) not 512 + multiple of sector size (512)\n",
      "WARNING *** file size (59548) not 512 + multiple of sector size (512)\n",
      "WARNING *** file size (59546) not 512 + multiple of sector size (512)\n",
      "WARNING *** file size (59548) not 512 + multiple of sector size (512)\n",
      "WARNING *** file size (59546) not 512 + multiple of sector size (512)\n",
      "WARNING *** file size (59546) not 512 + multiple of sector size (512)\n",
      "WARNING *** file size (59548) not 512 + multiple of sector size (512)\n",
      "WARNING *** file size (78490) not 512 + multiple of sector size (512)\n",
      "WARNING *** file size (59548) not 512 + multiple of sector size (512)\n",
      "WARNING *** file size (59548) not 512 + multiple of sector size (512)\n",
      "WARNING *** file size (59548) not 512 + multiple of sector size (512)\n",
      "WARNING *** file size (58524) not 512 + multiple of sector size (512)\n",
      "WARNING *** file size (58522) not 512 + multiple of sector size (512)\n",
      "WARNING *** file size (58522) not 512 + multiple of sector size (512)\n",
      "WARNING *** file size (60572) not 512 + multiple of sector size (512)\n",
      "WARNING *** file size (60570) not 512 + multiple of sector size (512)\n",
      "WARNING *** file size (58526) not 512 + multiple of sector size (512)\n",
      "WARNING *** file size (59034) not 512 + multiple of sector size (512)\n",
      "WARNING *** file size (75418) not 512 + multiple of sector size (512)\n",
      "WARNING *** file size (65692) not 512 + multiple of sector size (512)\n",
      "WARNING *** file size (57498) not 512 + multiple of sector size (512)\n",
      "WARNING *** file size (57500) not 512 + multiple of sector size (512)\n",
      "WARNING *** file size (55452) not 512 + multiple of sector size (512)\n",
      "WARNING *** file size (59470) not 512 + multiple of sector size (512)\n",
      "WARNING *** file size (54430) not 512 + multiple of sector size (512)\n",
      "WARNING *** file size (54428) not 512 + multiple of sector size (512)\n",
      "WARNING *** file size (54426) not 512 + multiple of sector size (512)\n",
      "WARNING *** file size (54426) not 512 + multiple of sector size (512)\n",
      "WARNING *** file size (54428) not 512 + multiple of sector size (512)\n",
      "WARNING *** file size (54426) not 512 + multiple of sector size (512)\n",
      "WARNING *** file size (77466) not 512 + multiple of sector size (512)\n",
      "WARNING *** file size (66716) not 512 + multiple of sector size (512)\n",
      "WARNING *** file size (54428) not 512 + multiple of sector size (512)\n",
      "WARNING *** file size (49820) not 512 + multiple of sector size (512)\n",
      "WARNING *** file size (49820) not 512 + multiple of sector size (512)\n",
      "WARNING *** file size (49822) not 512 + multiple of sector size (512)\n",
      "WARNING *** file size (75420) not 512 + multiple of sector size (512)\n",
      "WARNING *** file size (60572) not 512 + multiple of sector size (512)\n",
      "WARNING *** file size (72346) not 512 + multiple of sector size (512)\n",
      "WARNING *** file size (49820) not 512 + multiple of sector size (512)\n",
      "WARNING *** file size (49820) not 512 + multiple of sector size (512)\n",
      "WARNING *** file size (49820) not 512 + multiple of sector size (512)\n",
      "WARNING *** file size (49818) not 512 + multiple of sector size (512)\n",
      "WARNING *** file size (65696) not 512 + multiple of sector size (512)\n",
      "WARNING *** file size (70812) not 512 + multiple of sector size (512)\n",
      "WARNING *** file size (65180) not 512 + multiple of sector size (512)\n",
      "WARNING *** file size (60572) not 512 + multiple of sector size (512)\n",
      "WARNING *** file size (56476) not 512 + multiple of sector size (512)\n",
      "WARNING *** file size (56474) not 512 + multiple of sector size (512)\n",
      "WARNING *** file size (56476) not 512 + multiple of sector size (512)\n",
      "WARNING *** file size (56474) not 512 + multiple of sector size (512)\n",
      "WARNING *** file size (56476) not 512 + multiple of sector size (512)\n",
      "WARNING *** file size (56474) not 512 + multiple of sector size (512)\n",
      "WARNING *** file size (56474) not 512 + multiple of sector size (512)\n",
      "WARNING *** file size (57500) not 512 + multiple of sector size (512)\n",
      "WARNING *** file size (56480) not 512 + multiple of sector size (512)\n",
      "WARNING *** file size (56476) not 512 + multiple of sector size (512)\n",
      "WARNING *** file size (60572) not 512 + multiple of sector size (512)\n",
      "WARNING *** file size (60574) not 512 + multiple of sector size (512)\n",
      "WARNING *** file size (56988) not 512 + multiple of sector size (512)\n",
      "WARNING *** file size (56474) not 512 + multiple of sector size (512)\n",
      "WARNING *** file size (56474) not 512 + multiple of sector size (512)\n",
      "WARNING *** file size (56474) not 512 + multiple of sector size (512)\n",
      "WARNING *** file size (55452) not 512 + multiple of sector size (512)\n",
      "WARNING *** file size (55450) not 512 + multiple of sector size (512)\n",
      "WARNING *** file size (60572) not 512 + multiple of sector size (512)\n",
      "WARNING *** file size (59550) not 512 + multiple of sector size (512)\n",
      "WARNING *** file size (74908) not 512 + multiple of sector size (512)\n",
      "WARNING *** file size (76956) not 512 + multiple of sector size (512)\n"
     ]
    },
    {
     "name": "stderr",
     "output_type": "stream",
     "text": [
      "/Users/gabriellopes/opt/anaconda3/lib/python3.8/site-packages/pandas/core/indexing.py:1596: SettingWithCopyWarning: \n",
      "A value is trying to be set on a copy of a slice from a DataFrame.\n",
      "Try using .loc[row_indexer,col_indexer] = value instead\n",
      "\n",
      "See the caveats in the documentation: https://pandas.pydata.org/pandas-docs/stable/user_guide/indexing.html#returning-a-view-versus-a-copy\n",
      "  self.obj[key] = _infer_fill_value(value)\n",
      "/Users/gabriellopes/opt/anaconda3/lib/python3.8/site-packages/pandas/core/indexing.py:1745: SettingWithCopyWarning: \n",
      "A value is trying to be set on a copy of a slice from a DataFrame.\n",
      "Try using .loc[row_indexer,col_indexer] = value instead\n",
      "\n",
      "See the caveats in the documentation: https://pandas.pydata.org/pandas-docs/stable/user_guide/indexing.html#returning-a-view-versus-a-copy\n",
      "  isetter(ilocs[0], value)\n"
     ]
    }
   ],
   "source": [
    "aws_model = AwsModel()\n",
    "aws_model.load_data_s3()\n",
    "\n",
    "# model\n",
    "posicao = Posicao(aws_model.df_list_pos)\n",
    "extrato = Extrato(2010, 2020, aws_model.extrato, aws_model.extrato_bolsa)\n",
    "\n",
    "# view\n",
    "fundo_investimento = FundoInvestimento(\n",
    "    posicao=posicao.fis, \n",
    "    extrato=extrato.extrato_fis\n",
    ")\n",
    "acoes = Acao(posicao=posicao.acoes, extrato=extrato.extrato_acoes)\n",
    "fiis = FundoImobiliario(posicao=posicao.fiis, extrato=extrato.extrato_fiis)"
   ]
  },
  {
   "cell_type": "markdown",
   "metadata": {},
   "source": [
    "**Mapeado todos os FIs**\n",
    "\n",
    "Verifica se existe FI no extrato não mapeado"
   ]
  },
  {
   "cell_type": "code",
   "execution_count": 6,
   "metadata": {
    "scrolled": true
   },
   "outputs": [],
   "source": [
    "#fundo_investimento.extrato[fundo_investimento.extrato['Nome'].str.contains('unknown')].head()\n",
    "#extrato.aportes_fi_hist[extrato.aportes_fi_hist['Nome'] == 'unknown']"
   ]
  },
  {
   "cell_type": "markdown",
   "metadata": {},
   "source": [
    "## Analise FIs"
   ]
  },
  {
   "cell_type": "code",
   "execution_count": 29,
   "metadata": {},
   "outputs": [],
   "source": [
    "resumo_fi = fundo_investimento.resumo"
   ]
  },
  {
   "cell_type": "code",
   "execution_count": 34,
   "metadata": {},
   "outputs": [
    {
     "name": "stdout",
     "output_type": "stream",
     "text": [
      "Resumo por Fi:\n"
     ]
    },
    {
     "data": {
      "text/html": [
       "<div>\n",
       "<style scoped>\n",
       "    .dataframe tbody tr th:only-of-type {\n",
       "        vertical-align: middle;\n",
       "    }\n",
       "\n",
       "    .dataframe tbody tr th {\n",
       "        vertical-align: top;\n",
       "    }\n",
       "\n",
       "    .dataframe thead th {\n",
       "        text-align: right;\n",
       "    }\n",
       "</style>\n",
       "<table border=\"1\" class=\"dataframe\">\n",
       "  <thead>\n",
       "    <tr style=\"text-align: right;\">\n",
       "      <th></th>\n",
       "      <th>Nome</th>\n",
       "      <th>posicao</th>\n",
       "      <th>total_aporte</th>\n",
       "      <th>total_rendimento</th>\n",
       "      <th>total_retirada</th>\n",
       "    </tr>\n",
       "  </thead>\n",
       "  <tbody>\n",
       "    <tr>\n",
       "      <th>3</th>\n",
       "      <td>Bahia AM Maraú FIC de FIM</td>\n",
       "      <td>85,897.97</td>\n",
       "      <td>73,000.00</td>\n",
       "      <td>12,897.97</td>\n",
       "      <td>0.00</td>\n",
       "    </tr>\n",
       "    <tr>\n",
       "      <th>6</th>\n",
       "      <td>Mauá Macro FIC FIM</td>\n",
       "      <td>28,882.28</td>\n",
       "      <td>23,500.00</td>\n",
       "      <td>5,382.28</td>\n",
       "      <td>0.00</td>\n",
       "    </tr>\n",
       "    <tr>\n",
       "      <th>11</th>\n",
       "      <td>XP Long Short FIC FIM</td>\n",
       "      <td>0.00</td>\n",
       "      <td>15,000.00</td>\n",
       "      <td>4,822.42</td>\n",
       "      <td>0.00</td>\n",
       "    </tr>\n",
       "    <tr>\n",
       "      <th>0</th>\n",
       "      <td>AZ Quest Multi FIC FIM</td>\n",
       "      <td>0.00</td>\n",
       "      <td>15,000.00</td>\n",
       "      <td>3,591.84</td>\n",
       "      <td>18,591.84</td>\n",
       "    </tr>\n",
       "    <tr>\n",
       "      <th>9</th>\n",
       "      <td>Polo Norte I FIC FIM</td>\n",
       "      <td>33,556.88</td>\n",
       "      <td>30,000.00</td>\n",
       "      <td>3,556.88</td>\n",
       "      <td>0.00</td>\n",
       "    </tr>\n",
       "    <tr>\n",
       "      <th>7</th>\n",
       "      <td>Mirae Asset Multimercado</td>\n",
       "      <td>0.00</td>\n",
       "      <td>16,000.00</td>\n",
       "      <td>3,122.71</td>\n",
       "      <td>19,122.71</td>\n",
       "    </tr>\n",
       "    <tr>\n",
       "      <th>1</th>\n",
       "      <td>Azul Quantitativo FIM</td>\n",
       "      <td>0.00</td>\n",
       "      <td>15,200.00</td>\n",
       "      <td>2,624.47</td>\n",
       "      <td>17,824.47</td>\n",
       "    </tr>\n",
       "    <tr>\n",
       "      <th>8</th>\n",
       "      <td>NP Hedge FIC FIM</td>\n",
       "      <td>0.00</td>\n",
       "      <td>5,000.00</td>\n",
       "      <td>144.33</td>\n",
       "      <td>5,144.33</td>\n",
       "    </tr>\n",
       "    <tr>\n",
       "      <th>10</th>\n",
       "      <td>XP Absoluto Consumo FIA</td>\n",
       "      <td>0.00</td>\n",
       "      <td>2,400.00</td>\n",
       "      <td>-93.26</td>\n",
       "      <td>2,306.74</td>\n",
       "    </tr>\n",
       "    <tr>\n",
       "      <th>2</th>\n",
       "      <td>BNP Paribas Inflação FI RF</td>\n",
       "      <td>0.00</td>\n",
       "      <td>10,300.00</td>\n",
       "      <td>-131.86</td>\n",
       "      <td>10,168.14</td>\n",
       "    </tr>\n",
       "    <tr>\n",
       "      <th>5</th>\n",
       "      <td>Icatu Vanguarda Pré-Fixado FIRF</td>\n",
       "      <td>0.00</td>\n",
       "      <td>31,700.00</td>\n",
       "      <td>-934.23</td>\n",
       "      <td>30,765.77</td>\n",
       "    </tr>\n",
       "    <tr>\n",
       "      <th>4</th>\n",
       "      <td>Equitas Selection FIC FIA</td>\n",
       "      <td>18,743.86</td>\n",
       "      <td>19,900.00</td>\n",
       "      <td>-1,156.14</td>\n",
       "      <td>0.00</td>\n",
       "    </tr>\n",
       "    <tr>\n",
       "      <th>12</th>\n",
       "      <td>XP Macro FIM</td>\n",
       "      <td>0.00</td>\n",
       "      <td>29,500.00</td>\n",
       "      <td>-9,346.94</td>\n",
       "      <td>30,153.06</td>\n",
       "    </tr>\n",
       "  </tbody>\n",
       "</table>\n",
       "</div>"
      ],
      "text/plain": [
       "                                Nome   posicao  total_aporte  \\\n",
       "3          Bahia AM Maraú FIC de FIM 85,897.97     73,000.00   \n",
       "6                 Mauá Macro FIC FIM 28,882.28     23,500.00   \n",
       "11             XP Long Short FIC FIM      0.00     15,000.00   \n",
       "0             AZ Quest Multi FIC FIM      0.00     15,000.00   \n",
       "9               Polo Norte I FIC FIM 33,556.88     30,000.00   \n",
       "7          Mirae Asset Multimercado       0.00     16,000.00   \n",
       "1              Azul Quantitativo FIM      0.00     15,200.00   \n",
       "8                   NP Hedge FIC FIM      0.00      5,000.00   \n",
       "10           XP Absoluto Consumo FIA      0.00      2,400.00   \n",
       "2         BNP Paribas Inflação FI RF      0.00     10,300.00   \n",
       "5   Icatu Vanguarda Pré-Fixado FIRF       0.00     31,700.00   \n",
       "4          Equitas Selection FIC FIA 18,743.86     19,900.00   \n",
       "12                      XP Macro FIM      0.00     29,500.00   \n",
       "\n",
       "    total_rendimento  total_retirada  \n",
       "3          12,897.97            0.00  \n",
       "6           5,382.28            0.00  \n",
       "11          4,822.42            0.00  \n",
       "0           3,591.84       18,591.84  \n",
       "9           3,556.88            0.00  \n",
       "7           3,122.71       19,122.71  \n",
       "1           2,624.47       17,824.47  \n",
       "8             144.33        5,144.33  \n",
       "10            -93.26        2,306.74  \n",
       "2            -131.86       10,168.14  \n",
       "5            -934.23       30,765.77  \n",
       "4          -1,156.14            0.00  \n",
       "12         -9,346.94       30,153.06  "
      ]
     },
     "execution_count": 34,
     "metadata": {},
     "output_type": "execute_result"
    }
   ],
   "source": [
    "print('Resumo por Fi:')\n",
    "\n",
    "tmp = resumo_fi[resumo_fi['data_posicao'] <= '2020-12-31']\\\n",
    "        .groupby(['Nome'])\\\n",
    "        .agg(posicao=('Total Bruto', 'last'), \n",
    "             total_aporte=('aporte', 'sum'), \n",
    "             total_rendimento=('rendimento', 'sum'), \n",
    "             total_retirada=('retirada', 'sum')).reset_index()\n",
    "\n",
    "tmp.sort_values(['total_rendimento'], ascending=False)"
   ]
  },
  {
   "cell_type": "markdown",
   "metadata": {},
   "source": [
    "## Analise Ações"
   ]
  },
  {
   "cell_type": "code",
   "execution_count": 35,
   "metadata": {},
   "outputs": [],
   "source": [
    "resumo_acoes = acoes.calcula_resumo(2010, 2020)"
   ]
  },
  {
   "cell_type": "code",
   "execution_count": 36,
   "metadata": {},
   "outputs": [
    {
     "data": {
      "text/html": [
       "<div>\n",
       "<style scoped>\n",
       "    .dataframe tbody tr th:only-of-type {\n",
       "        vertical-align: middle;\n",
       "    }\n",
       "\n",
       "    .dataframe tbody tr th {\n",
       "        vertical-align: top;\n",
       "    }\n",
       "\n",
       "    .dataframe thead th {\n",
       "        text-align: right;\n",
       "    }\n",
       "</style>\n",
       "<table border=\"1\" class=\"dataframe\">\n",
       "  <thead>\n",
       "    <tr style=\"text-align: right;\">\n",
       "      <th></th>\n",
       "      <th>Papel</th>\n",
       "      <th>total_financeiro</th>\n",
       "      <th>total_aporte</th>\n",
       "      <th>total_retirada</th>\n",
       "      <th>total_rendimento</th>\n",
       "      <th>%</th>\n",
       "    </tr>\n",
       "  </thead>\n",
       "  <tbody>\n",
       "    <tr>\n",
       "      <th>5</th>\n",
       "      <td>MGLU3</td>\n",
       "      <td>74,816.00</td>\n",
       "      <td>27,600.00</td>\n",
       "      <td>0.00</td>\n",
       "      <td>47,216.00</td>\n",
       "      <td>171.07</td>\n",
       "    </tr>\n",
       "    <tr>\n",
       "      <th>8</th>\n",
       "      <td>WEGE3</td>\n",
       "      <td>22,071.00</td>\n",
       "      <td>10,095.00</td>\n",
       "      <td>0.00</td>\n",
       "      <td>11,976.00</td>\n",
       "      <td>118.63</td>\n",
       "    </tr>\n",
       "    <tr>\n",
       "      <th>0</th>\n",
       "      <td>BPAC11</td>\n",
       "      <td>2,059.72</td>\n",
       "      <td>7,190.00</td>\n",
       "      <td>15,500.00</td>\n",
       "      <td>10,369.72</td>\n",
       "      <td>144.22</td>\n",
       "    </tr>\n",
       "    <tr>\n",
       "      <th>6</th>\n",
       "      <td>PETR4</td>\n",
       "      <td>9,960.00</td>\n",
       "      <td>5,444.00</td>\n",
       "      <td>0.00</td>\n",
       "      <td>4,516.00</td>\n",
       "      <td>82.95</td>\n",
       "    </tr>\n",
       "    <tr>\n",
       "      <th>3</th>\n",
       "      <td>ITSA4</td>\n",
       "      <td>25,344.00</td>\n",
       "      <td>22,505.00</td>\n",
       "      <td>0.00</td>\n",
       "      <td>2,839.00</td>\n",
       "      <td>12.61</td>\n",
       "    </tr>\n",
       "    <tr>\n",
       "      <th>7</th>\n",
       "      <td>TSLA34</td>\n",
       "      <td>4,772.50</td>\n",
       "      <td>3,622.50</td>\n",
       "      <td>0.00</td>\n",
       "      <td>1,150.00</td>\n",
       "      <td>31.75</td>\n",
       "    </tr>\n",
       "    <tr>\n",
       "      <th>2</th>\n",
       "      <td>EGIE3</td>\n",
       "      <td>8,468.00</td>\n",
       "      <td>9,068.00</td>\n",
       "      <td>0.00</td>\n",
       "      <td>-600.00</td>\n",
       "      <td>-6.62</td>\n",
       "    </tr>\n",
       "    <tr>\n",
       "      <th>4</th>\n",
       "      <td>JHSF3</td>\n",
       "      <td>4,404.00</td>\n",
       "      <td>12,944.00</td>\n",
       "      <td>7,300.00</td>\n",
       "      <td>-1,240.00</td>\n",
       "      <td>-9.58</td>\n",
       "    </tr>\n",
       "    <tr>\n",
       "      <th>1</th>\n",
       "      <td>COGN3</td>\n",
       "      <td>5,628.00</td>\n",
       "      <td>7,044.00</td>\n",
       "      <td>0.00</td>\n",
       "      <td>-1,416.00</td>\n",
       "      <td>-20.10</td>\n",
       "    </tr>\n",
       "  </tbody>\n",
       "</table>\n",
       "</div>"
      ],
      "text/plain": [
       "    Papel  total_financeiro  total_aporte  total_retirada  total_rendimento  \\\n",
       "5   MGLU3         74,816.00     27,600.00            0.00         47,216.00   \n",
       "8   WEGE3         22,071.00     10,095.00            0.00         11,976.00   \n",
       "0  BPAC11          2,059.72      7,190.00       15,500.00         10,369.72   \n",
       "6   PETR4          9,960.00      5,444.00            0.00          4,516.00   \n",
       "3   ITSA4         25,344.00     22,505.00            0.00          2,839.00   \n",
       "7  TSLA34          4,772.50      3,622.50            0.00          1,150.00   \n",
       "2   EGIE3          8,468.00      9,068.00            0.00           -600.00   \n",
       "4   JHSF3          4,404.00     12,944.00        7,300.00         -1,240.00   \n",
       "1   COGN3          5,628.00      7,044.00            0.00         -1,416.00   \n",
       "\n",
       "       %  \n",
       "5 171.07  \n",
       "8 118.63  \n",
       "0 144.22  \n",
       "6  82.95  \n",
       "3  12.61  \n",
       "7  31.75  \n",
       "2  -6.62  \n",
       "4  -9.58  \n",
       "1 -20.10  "
      ]
     },
     "execution_count": 36,
     "metadata": {},
     "output_type": "execute_result"
    }
   ],
   "source": [
    "resumo_papel = resumo_acoes[resumo_acoes['Data'] <= '2020-12-31']\\\n",
    "        .groupby(['Papel'])\\\n",
    "        .agg(total_financeiro=('Financeiro', 'last'), \n",
    "            total_aporte=('aporte', 'sum'),\n",
    "            total_retirada=('retirada', 'sum'),\n",
    "            total_rendimento=('rendimento', 'sum')).reset_index()\n",
    "\n",
    "resumo_papel['%'] = resumo_papel['total_rendimento'] / resumo_papel['total_aporte'] * 100\n",
    "\n",
    "resumo_papel.sort_values('total_rendimento', ascending=False)"
   ]
  },
  {
   "cell_type": "markdown",
   "metadata": {},
   "source": [
    "## FIIs"
   ]
  },
  {
   "cell_type": "code",
   "execution_count": 37,
   "metadata": {},
   "outputs": [],
   "source": [
    "resumo_fiis = fiis.calcula_resumo(2010, 2020)"
   ]
  },
  {
   "cell_type": "code",
   "execution_count": 38,
   "metadata": {},
   "outputs": [
    {
     "data": {
      "text/html": [
       "<div>\n",
       "<style scoped>\n",
       "    .dataframe tbody tr th:only-of-type {\n",
       "        vertical-align: middle;\n",
       "    }\n",
       "\n",
       "    .dataframe tbody tr th {\n",
       "        vertical-align: top;\n",
       "    }\n",
       "\n",
       "    .dataframe thead th {\n",
       "        text-align: right;\n",
       "    }\n",
       "</style>\n",
       "<table border=\"1\" class=\"dataframe\">\n",
       "  <thead>\n",
       "    <tr style=\"text-align: right;\">\n",
       "      <th></th>\n",
       "      <th>Papel</th>\n",
       "      <th>total_financeiro</th>\n",
       "      <th>total_aporte</th>\n",
       "      <th>total_retirada</th>\n",
       "      <th>total_rendimento</th>\n",
       "      <th>%</th>\n",
       "    </tr>\n",
       "  </thead>\n",
       "  <tbody>\n",
       "    <tr>\n",
       "      <th>0</th>\n",
       "      <td>BCFF11</td>\n",
       "      <td>31,838.76</td>\n",
       "      <td>31,025.60</td>\n",
       "      <td>0.00</td>\n",
       "      <td>813.16</td>\n",
       "      <td>2.62</td>\n",
       "    </tr>\n",
       "    <tr>\n",
       "      <th>2</th>\n",
       "      <td>HGLG11</td>\n",
       "      <td>2,503.80</td>\n",
       "      <td>2,330.55</td>\n",
       "      <td>0.00</td>\n",
       "      <td>173.25</td>\n",
       "      <td>7.43</td>\n",
       "    </tr>\n",
       "    <tr>\n",
       "      <th>6</th>\n",
       "      <td>TBOF11</td>\n",
       "      <td>0.00</td>\n",
       "      <td>5,200.00</td>\n",
       "      <td>5,199.00</td>\n",
       "      <td>-1.00</td>\n",
       "      <td>-0.02</td>\n",
       "    </tr>\n",
       "    <tr>\n",
       "      <th>1</th>\n",
       "      <td>CNES11</td>\n",
       "      <td>712.36</td>\n",
       "      <td>885.17</td>\n",
       "      <td>0.00</td>\n",
       "      <td>-172.81</td>\n",
       "      <td>-19.52</td>\n",
       "    </tr>\n",
       "    <tr>\n",
       "      <th>5</th>\n",
       "      <td>RNGO11</td>\n",
       "      <td>3,483.90</td>\n",
       "      <td>4,110.61</td>\n",
       "      <td>0.00</td>\n",
       "      <td>-626.71</td>\n",
       "      <td>-15.25</td>\n",
       "    </tr>\n",
       "    <tr>\n",
       "      <th>4</th>\n",
       "      <td>OULG11</td>\n",
       "      <td>4,443.00</td>\n",
       "      <td>5,677.50</td>\n",
       "      <td>0.00</td>\n",
       "      <td>-1,234.50</td>\n",
       "      <td>-21.74</td>\n",
       "    </tr>\n",
       "    <tr>\n",
       "      <th>3</th>\n",
       "      <td>IBFF11</td>\n",
       "      <td>3,850.00</td>\n",
       "      <td>5,155.00</td>\n",
       "      <td>0.00</td>\n",
       "      <td>-1,305.00</td>\n",
       "      <td>-25.32</td>\n",
       "    </tr>\n",
       "  </tbody>\n",
       "</table>\n",
       "</div>"
      ],
      "text/plain": [
       "    Papel  total_financeiro  total_aporte  total_retirada  total_rendimento  \\\n",
       "0  BCFF11         31,838.76     31,025.60            0.00            813.16   \n",
       "2  HGLG11          2,503.80      2,330.55            0.00            173.25   \n",
       "6  TBOF11              0.00      5,200.00        5,199.00             -1.00   \n",
       "1  CNES11            712.36        885.17            0.00           -172.81   \n",
       "5  RNGO11          3,483.90      4,110.61            0.00           -626.71   \n",
       "4  OULG11          4,443.00      5,677.50            0.00         -1,234.50   \n",
       "3  IBFF11          3,850.00      5,155.00            0.00         -1,305.00   \n",
       "\n",
       "       %  \n",
       "0   2.62  \n",
       "2   7.43  \n",
       "6  -0.02  \n",
       "1 -19.52  \n",
       "5 -15.25  \n",
       "4 -21.74  \n",
       "3 -25.32  "
      ]
     },
     "execution_count": 38,
     "metadata": {},
     "output_type": "execute_result"
    }
   ],
   "source": [
    "resfiis_papel = resumo_fiis[resumo_fiis['Data'] <= '2020-12-31']\\\n",
    "        .groupby(['Papel'])\\\n",
    "        .agg(total_financeiro=('Financeiro', 'last'), \n",
    "            total_aporte=('aporte', 'sum'),\n",
    "            total_retirada=('retirada', 'sum'),\n",
    "            total_rendimento=('rendimento', 'sum')).reset_index()\n",
    "\n",
    "resfiis_papel['%'] = resfiis_papel['total_rendimento'] / resfiis_papel['total_aporte'] * 100\n",
    "\n",
    "resfiis_papel.sort_values('total_rendimento', ascending=False)"
   ]
  },
  {
   "cell_type": "markdown",
   "metadata": {},
   "source": [
    "## Grafico de rendimento"
   ]
  },
  {
   "cell_type": "code",
   "execution_count": 77,
   "metadata": {},
   "outputs": [],
   "source": [
    "df1 = resumo_acoes[resumo_acoes['Data'] <= '2020-12-31'].groupby(['Data', 'ano', 'mes'])\\\n",
    "        .agg(financeiro=('Financeiro', 'sum'), \n",
    "            aporte=('aporte', 'sum'), \n",
    "            retirada=('retirada', 'sum'), \n",
    "            rendimento=('rendimento', 'sum'))\\\n",
    "        .reset_index()"
   ]
  },
  {
   "cell_type": "code",
   "execution_count": 78,
   "metadata": {},
   "outputs": [],
   "source": [
    "df2 = resumo_fiis[resumo_fiis['Data'] <= '2020-12-31'].groupby(['Data', 'ano', 'mes'])\\\n",
    "        .agg(financeiro=('Financeiro', 'sum'), \n",
    "            aporte=('aporte', 'sum'), \n",
    "            retirada=('retirada', 'sum'), \n",
    "            rendimento=('rendimento', 'sum'))\\\n",
    "        .reset_index()"
   ]
  },
  {
   "cell_type": "code",
   "execution_count": 79,
   "metadata": {},
   "outputs": [],
   "source": [
    "df3 = resumo_fi[resumo_fi['data_posicao'] <= '2020-12-31'].groupby(['data_posicao', 'ano', 'mes'])\\\n",
    "        .agg(financeiro=('Total Bruto', 'sum'), \n",
    "            aporte=('aporte', 'sum'), \n",
    "            retirada=('retirada', 'sum'), \n",
    "            rendimento=('rendimento', 'sum'))\\\n",
    "        .reset_index()\\\n",
    "        .rename(columns={'data_posicao': 'Data'})"
   ]
  },
  {
   "cell_type": "code",
   "execution_count": 171,
   "metadata": {},
   "outputs": [],
   "source": [
    "df_graph1 = df1.append(df2, ignore_index=True).append(df3, ignore_index=True)\n",
    "\n",
    "df_graph1 = df_graph1.groupby(['Data', 'ano', 'mes'])\\\n",
    "        .agg(financeiro=('financeiro', 'sum'), \n",
    "            aporte=('aporte', 'sum'), \n",
    "            retirada=('retirada', 'sum'), \n",
    "            rendimento=('rendimento', 'sum'))\\\n",
    "        .reset_index().fillna(0)\n",
    "\n",
    "df_graph1['%'] = df_graph1['rendimento'] / df_graph1['financeiro'] * 100\n",
    "df_graph1['renda_acum'] = df_graph1['rendimento'].cumsum()\n",
    "df_graph1['aporte_acum'] = df_graph1['aporte'].cumsum()\n",
    "df_graph1['retirada_acum'] = df_graph1['retirada'].cumsum()\n",
    "df_graph1['investido'] = df_graph1['aporte_acum'] - df_graph1['retirada_acum']\n",
    "df_graph1['% renda_acum'] = df_graph1['rendimento'].cumsum() / (df_graph1['investido']) * 100"
   ]
  },
  {
   "cell_type": "code",
   "execution_count": 172,
   "metadata": {},
   "outputs": [
    {
     "data": {
      "text/html": [
       "<div>\n",
       "<style scoped>\n",
       "    .dataframe tbody tr th:only-of-type {\n",
       "        vertical-align: middle;\n",
       "    }\n",
       "\n",
       "    .dataframe tbody tr th {\n",
       "        vertical-align: top;\n",
       "    }\n",
       "\n",
       "    .dataframe thead th {\n",
       "        text-align: right;\n",
       "    }\n",
       "</style>\n",
       "<table border=\"1\" class=\"dataframe\">\n",
       "  <thead>\n",
       "    <tr style=\"text-align: right;\">\n",
       "      <th></th>\n",
       "      <th>Data</th>\n",
       "      <th>ano</th>\n",
       "      <th>mes</th>\n",
       "      <th>financeiro</th>\n",
       "      <th>aporte</th>\n",
       "      <th>retirada</th>\n",
       "      <th>rendimento</th>\n",
       "      <th>%</th>\n",
       "      <th>renda_acum</th>\n",
       "      <th>aporte_acum</th>\n",
       "      <th>retirada_acum</th>\n",
       "      <th>investido</th>\n",
       "      <th>% renda_acum</th>\n",
       "    </tr>\n",
       "  </thead>\n",
       "  <tbody>\n",
       "    <tr>\n",
       "      <th>0</th>\n",
       "      <td>2010-01-31</td>\n",
       "      <td>2010</td>\n",
       "      <td>1</td>\n",
       "      <td>0.00</td>\n",
       "      <td>0.00</td>\n",
       "      <td>0.00</td>\n",
       "      <td>0.00</td>\n",
       "      <td>0.00</td>\n",
       "      <td>0.00</td>\n",
       "      <td>0.00</td>\n",
       "      <td>0.00</td>\n",
       "      <td>0.00</td>\n",
       "      <td>0.00</td>\n",
       "    </tr>\n",
       "    <tr>\n",
       "      <th>1</th>\n",
       "      <td>2010-02-28</td>\n",
       "      <td>2010</td>\n",
       "      <td>2</td>\n",
       "      <td>0.00</td>\n",
       "      <td>0.00</td>\n",
       "      <td>0.00</td>\n",
       "      <td>0.00</td>\n",
       "      <td>0.00</td>\n",
       "      <td>0.00</td>\n",
       "      <td>0.00</td>\n",
       "      <td>0.00</td>\n",
       "      <td>0.00</td>\n",
       "      <td>0.00</td>\n",
       "    </tr>\n",
       "    <tr>\n",
       "      <th>2</th>\n",
       "      <td>2010-03-31</td>\n",
       "      <td>2010</td>\n",
       "      <td>3</td>\n",
       "      <td>0.00</td>\n",
       "      <td>0.00</td>\n",
       "      <td>0.00</td>\n",
       "      <td>0.00</td>\n",
       "      <td>0.00</td>\n",
       "      <td>0.00</td>\n",
       "      <td>0.00</td>\n",
       "      <td>0.00</td>\n",
       "      <td>0.00</td>\n",
       "      <td>0.00</td>\n",
       "    </tr>\n",
       "    <tr>\n",
       "      <th>3</th>\n",
       "      <td>2010-04-30</td>\n",
       "      <td>2010</td>\n",
       "      <td>4</td>\n",
       "      <td>0.00</td>\n",
       "      <td>0.00</td>\n",
       "      <td>0.00</td>\n",
       "      <td>0.00</td>\n",
       "      <td>0.00</td>\n",
       "      <td>0.00</td>\n",
       "      <td>0.00</td>\n",
       "      <td>0.00</td>\n",
       "      <td>0.00</td>\n",
       "      <td>0.00</td>\n",
       "    </tr>\n",
       "    <tr>\n",
       "      <th>4</th>\n",
       "      <td>2010-05-31</td>\n",
       "      <td>2010</td>\n",
       "      <td>5</td>\n",
       "      <td>0.00</td>\n",
       "      <td>0.00</td>\n",
       "      <td>0.00</td>\n",
       "      <td>0.00</td>\n",
       "      <td>0.00</td>\n",
       "      <td>0.00</td>\n",
       "      <td>0.00</td>\n",
       "      <td>0.00</td>\n",
       "      <td>0.00</td>\n",
       "      <td>0.00</td>\n",
       "    </tr>\n",
       "    <tr>\n",
       "      <th>5</th>\n",
       "      <td>2010-06-30</td>\n",
       "      <td>2010</td>\n",
       "      <td>6</td>\n",
       "      <td>0.00</td>\n",
       "      <td>0.00</td>\n",
       "      <td>0.00</td>\n",
       "      <td>0.00</td>\n",
       "      <td>0.00</td>\n",
       "      <td>0.00</td>\n",
       "      <td>0.00</td>\n",
       "      <td>0.00</td>\n",
       "      <td>0.00</td>\n",
       "      <td>0.00</td>\n",
       "    </tr>\n",
       "    <tr>\n",
       "      <th>6</th>\n",
       "      <td>2010-07-31</td>\n",
       "      <td>2010</td>\n",
       "      <td>7</td>\n",
       "      <td>0.00</td>\n",
       "      <td>0.00</td>\n",
       "      <td>0.00</td>\n",
       "      <td>0.00</td>\n",
       "      <td>0.00</td>\n",
       "      <td>0.00</td>\n",
       "      <td>0.00</td>\n",
       "      <td>0.00</td>\n",
       "      <td>0.00</td>\n",
       "      <td>0.00</td>\n",
       "    </tr>\n",
       "    <tr>\n",
       "      <th>7</th>\n",
       "      <td>2010-08-31</td>\n",
       "      <td>2010</td>\n",
       "      <td>8</td>\n",
       "      <td>0.00</td>\n",
       "      <td>0.00</td>\n",
       "      <td>0.00</td>\n",
       "      <td>0.00</td>\n",
       "      <td>0.00</td>\n",
       "      <td>0.00</td>\n",
       "      <td>0.00</td>\n",
       "      <td>0.00</td>\n",
       "      <td>0.00</td>\n",
       "      <td>0.00</td>\n",
       "    </tr>\n",
       "    <tr>\n",
       "      <th>8</th>\n",
       "      <td>2010-09-30</td>\n",
       "      <td>2010</td>\n",
       "      <td>9</td>\n",
       "      <td>0.00</td>\n",
       "      <td>0.00</td>\n",
       "      <td>0.00</td>\n",
       "      <td>0.00</td>\n",
       "      <td>0.00</td>\n",
       "      <td>0.00</td>\n",
       "      <td>0.00</td>\n",
       "      <td>0.00</td>\n",
       "      <td>0.00</td>\n",
       "      <td>0.00</td>\n",
       "    </tr>\n",
       "    <tr>\n",
       "      <th>9</th>\n",
       "      <td>2010-10-31</td>\n",
       "      <td>2010</td>\n",
       "      <td>10</td>\n",
       "      <td>0.00</td>\n",
       "      <td>0.00</td>\n",
       "      <td>0.00</td>\n",
       "      <td>0.00</td>\n",
       "      <td>0.00</td>\n",
       "      <td>0.00</td>\n",
       "      <td>0.00</td>\n",
       "      <td>0.00</td>\n",
       "      <td>0.00</td>\n",
       "      <td>0.00</td>\n",
       "    </tr>\n",
       "    <tr>\n",
       "      <th>10</th>\n",
       "      <td>2010-11-30</td>\n",
       "      <td>2010</td>\n",
       "      <td>11</td>\n",
       "      <td>0.00</td>\n",
       "      <td>0.00</td>\n",
       "      <td>0.00</td>\n",
       "      <td>0.00</td>\n",
       "      <td>0.00</td>\n",
       "      <td>0.00</td>\n",
       "      <td>0.00</td>\n",
       "      <td>0.00</td>\n",
       "      <td>0.00</td>\n",
       "      <td>0.00</td>\n",
       "    </tr>\n",
       "    <tr>\n",
       "      <th>11</th>\n",
       "      <td>2010-12-31</td>\n",
       "      <td>2010</td>\n",
       "      <td>12</td>\n",
       "      <td>0.00</td>\n",
       "      <td>0.00</td>\n",
       "      <td>0.00</td>\n",
       "      <td>0.00</td>\n",
       "      <td>0.00</td>\n",
       "      <td>0.00</td>\n",
       "      <td>0.00</td>\n",
       "      <td>0.00</td>\n",
       "      <td>0.00</td>\n",
       "      <td>0.00</td>\n",
       "    </tr>\n",
       "    <tr>\n",
       "      <th>12</th>\n",
       "      <td>2011-01-31</td>\n",
       "      <td>2011</td>\n",
       "      <td>1</td>\n",
       "      <td>0.00</td>\n",
       "      <td>0.00</td>\n",
       "      <td>0.00</td>\n",
       "      <td>0.00</td>\n",
       "      <td>0.00</td>\n",
       "      <td>0.00</td>\n",
       "      <td>0.00</td>\n",
       "      <td>0.00</td>\n",
       "      <td>0.00</td>\n",
       "      <td>0.00</td>\n",
       "    </tr>\n",
       "    <tr>\n",
       "      <th>13</th>\n",
       "      <td>2011-02-28</td>\n",
       "      <td>2011</td>\n",
       "      <td>2</td>\n",
       "      <td>0.00</td>\n",
       "      <td>0.00</td>\n",
       "      <td>0.00</td>\n",
       "      <td>0.00</td>\n",
       "      <td>0.00</td>\n",
       "      <td>0.00</td>\n",
       "      <td>0.00</td>\n",
       "      <td>0.00</td>\n",
       "      <td>0.00</td>\n",
       "      <td>0.00</td>\n",
       "    </tr>\n",
       "    <tr>\n",
       "      <th>14</th>\n",
       "      <td>2011-03-31</td>\n",
       "      <td>2011</td>\n",
       "      <td>3</td>\n",
       "      <td>0.00</td>\n",
       "      <td>0.00</td>\n",
       "      <td>0.00</td>\n",
       "      <td>0.00</td>\n",
       "      <td>0.00</td>\n",
       "      <td>0.00</td>\n",
       "      <td>0.00</td>\n",
       "      <td>0.00</td>\n",
       "      <td>0.00</td>\n",
       "      <td>0.00</td>\n",
       "    </tr>\n",
       "    <tr>\n",
       "      <th>15</th>\n",
       "      <td>2011-04-30</td>\n",
       "      <td>2011</td>\n",
       "      <td>4</td>\n",
       "      <td>0.00</td>\n",
       "      <td>0.00</td>\n",
       "      <td>0.00</td>\n",
       "      <td>0.00</td>\n",
       "      <td>0.00</td>\n",
       "      <td>0.00</td>\n",
       "      <td>0.00</td>\n",
       "      <td>0.00</td>\n",
       "      <td>0.00</td>\n",
       "      <td>0.00</td>\n",
       "    </tr>\n",
       "    <tr>\n",
       "      <th>16</th>\n",
       "      <td>2011-05-31</td>\n",
       "      <td>2011</td>\n",
       "      <td>5</td>\n",
       "      <td>0.00</td>\n",
       "      <td>0.00</td>\n",
       "      <td>0.00</td>\n",
       "      <td>0.00</td>\n",
       "      <td>0.00</td>\n",
       "      <td>0.00</td>\n",
       "      <td>0.00</td>\n",
       "      <td>0.00</td>\n",
       "      <td>0.00</td>\n",
       "      <td>0.00</td>\n",
       "    </tr>\n",
       "    <tr>\n",
       "      <th>17</th>\n",
       "      <td>2011-06-30</td>\n",
       "      <td>2011</td>\n",
       "      <td>6</td>\n",
       "      <td>0.00</td>\n",
       "      <td>0.00</td>\n",
       "      <td>0.00</td>\n",
       "      <td>0.00</td>\n",
       "      <td>0.00</td>\n",
       "      <td>0.00</td>\n",
       "      <td>0.00</td>\n",
       "      <td>0.00</td>\n",
       "      <td>0.00</td>\n",
       "      <td>0.00</td>\n",
       "    </tr>\n",
       "    <tr>\n",
       "      <th>18</th>\n",
       "      <td>2011-07-31</td>\n",
       "      <td>2011</td>\n",
       "      <td>7</td>\n",
       "      <td>0.00</td>\n",
       "      <td>0.00</td>\n",
       "      <td>0.00</td>\n",
       "      <td>0.00</td>\n",
       "      <td>0.00</td>\n",
       "      <td>0.00</td>\n",
       "      <td>0.00</td>\n",
       "      <td>0.00</td>\n",
       "      <td>0.00</td>\n",
       "      <td>0.00</td>\n",
       "    </tr>\n",
       "    <tr>\n",
       "      <th>19</th>\n",
       "      <td>2011-08-31</td>\n",
       "      <td>2011</td>\n",
       "      <td>8</td>\n",
       "      <td>0.00</td>\n",
       "      <td>0.00</td>\n",
       "      <td>0.00</td>\n",
       "      <td>0.00</td>\n",
       "      <td>0.00</td>\n",
       "      <td>0.00</td>\n",
       "      <td>0.00</td>\n",
       "      <td>0.00</td>\n",
       "      <td>0.00</td>\n",
       "      <td>0.00</td>\n",
       "    </tr>\n",
       "    <tr>\n",
       "      <th>20</th>\n",
       "      <td>2011-09-30</td>\n",
       "      <td>2011</td>\n",
       "      <td>9</td>\n",
       "      <td>0.00</td>\n",
       "      <td>0.00</td>\n",
       "      <td>0.00</td>\n",
       "      <td>0.00</td>\n",
       "      <td>0.00</td>\n",
       "      <td>0.00</td>\n",
       "      <td>0.00</td>\n",
       "      <td>0.00</td>\n",
       "      <td>0.00</td>\n",
       "      <td>0.00</td>\n",
       "    </tr>\n",
       "    <tr>\n",
       "      <th>21</th>\n",
       "      <td>2011-10-31</td>\n",
       "      <td>2011</td>\n",
       "      <td>10</td>\n",
       "      <td>0.00</td>\n",
       "      <td>0.00</td>\n",
       "      <td>0.00</td>\n",
       "      <td>0.00</td>\n",
       "      <td>0.00</td>\n",
       "      <td>0.00</td>\n",
       "      <td>0.00</td>\n",
       "      <td>0.00</td>\n",
       "      <td>0.00</td>\n",
       "      <td>0.00</td>\n",
       "    </tr>\n",
       "    <tr>\n",
       "      <th>22</th>\n",
       "      <td>2011-11-30</td>\n",
       "      <td>2011</td>\n",
       "      <td>11</td>\n",
       "      <td>0.00</td>\n",
       "      <td>0.00</td>\n",
       "      <td>0.00</td>\n",
       "      <td>0.00</td>\n",
       "      <td>0.00</td>\n",
       "      <td>0.00</td>\n",
       "      <td>0.00</td>\n",
       "      <td>0.00</td>\n",
       "      <td>0.00</td>\n",
       "      <td>0.00</td>\n",
       "    </tr>\n",
       "    <tr>\n",
       "      <th>23</th>\n",
       "      <td>2011-12-31</td>\n",
       "      <td>2011</td>\n",
       "      <td>12</td>\n",
       "      <td>0.00</td>\n",
       "      <td>0.00</td>\n",
       "      <td>0.00</td>\n",
       "      <td>0.00</td>\n",
       "      <td>0.00</td>\n",
       "      <td>0.00</td>\n",
       "      <td>0.00</td>\n",
       "      <td>0.00</td>\n",
       "      <td>0.00</td>\n",
       "      <td>0.00</td>\n",
       "    </tr>\n",
       "    <tr>\n",
       "      <th>24</th>\n",
       "      <td>2012-01-31</td>\n",
       "      <td>2012</td>\n",
       "      <td>1</td>\n",
       "      <td>0.00</td>\n",
       "      <td>0.00</td>\n",
       "      <td>0.00</td>\n",
       "      <td>0.00</td>\n",
       "      <td>0.00</td>\n",
       "      <td>0.00</td>\n",
       "      <td>0.00</td>\n",
       "      <td>0.00</td>\n",
       "      <td>0.00</td>\n",
       "      <td>0.00</td>\n",
       "    </tr>\n",
       "    <tr>\n",
       "      <th>25</th>\n",
       "      <td>2012-02-29</td>\n",
       "      <td>2012</td>\n",
       "      <td>2</td>\n",
       "      <td>0.00</td>\n",
       "      <td>0.00</td>\n",
       "      <td>0.00</td>\n",
       "      <td>0.00</td>\n",
       "      <td>0.00</td>\n",
       "      <td>0.00</td>\n",
       "      <td>0.00</td>\n",
       "      <td>0.00</td>\n",
       "      <td>0.00</td>\n",
       "      <td>0.00</td>\n",
       "    </tr>\n",
       "    <tr>\n",
       "      <th>26</th>\n",
       "      <td>2012-03-31</td>\n",
       "      <td>2012</td>\n",
       "      <td>3</td>\n",
       "      <td>0.00</td>\n",
       "      <td>0.00</td>\n",
       "      <td>0.00</td>\n",
       "      <td>0.00</td>\n",
       "      <td>0.00</td>\n",
       "      <td>0.00</td>\n",
       "      <td>0.00</td>\n",
       "      <td>0.00</td>\n",
       "      <td>0.00</td>\n",
       "      <td>0.00</td>\n",
       "    </tr>\n",
       "    <tr>\n",
       "      <th>27</th>\n",
       "      <td>2012-04-30</td>\n",
       "      <td>2012</td>\n",
       "      <td>4</td>\n",
       "      <td>0.00</td>\n",
       "      <td>0.00</td>\n",
       "      <td>0.00</td>\n",
       "      <td>0.00</td>\n",
       "      <td>0.00</td>\n",
       "      <td>0.00</td>\n",
       "      <td>0.00</td>\n",
       "      <td>0.00</td>\n",
       "      <td>0.00</td>\n",
       "      <td>0.00</td>\n",
       "    </tr>\n",
       "    <tr>\n",
       "      <th>28</th>\n",
       "      <td>2012-05-31</td>\n",
       "      <td>2012</td>\n",
       "      <td>5</td>\n",
       "      <td>0.00</td>\n",
       "      <td>0.00</td>\n",
       "      <td>0.00</td>\n",
       "      <td>0.00</td>\n",
       "      <td>0.00</td>\n",
       "      <td>0.00</td>\n",
       "      <td>0.00</td>\n",
       "      <td>0.00</td>\n",
       "      <td>0.00</td>\n",
       "      <td>0.00</td>\n",
       "    </tr>\n",
       "    <tr>\n",
       "      <th>29</th>\n",
       "      <td>2012-06-30</td>\n",
       "      <td>2012</td>\n",
       "      <td>6</td>\n",
       "      <td>0.00</td>\n",
       "      <td>0.00</td>\n",
       "      <td>0.00</td>\n",
       "      <td>0.00</td>\n",
       "      <td>0.00</td>\n",
       "      <td>0.00</td>\n",
       "      <td>0.00</td>\n",
       "      <td>0.00</td>\n",
       "      <td>0.00</td>\n",
       "      <td>0.00</td>\n",
       "    </tr>\n",
       "    <tr>\n",
       "      <th>30</th>\n",
       "      <td>2012-07-31</td>\n",
       "      <td>2012</td>\n",
       "      <td>7</td>\n",
       "      <td>0.00</td>\n",
       "      <td>0.00</td>\n",
       "      <td>0.00</td>\n",
       "      <td>0.00</td>\n",
       "      <td>0.00</td>\n",
       "      <td>0.00</td>\n",
       "      <td>0.00</td>\n",
       "      <td>0.00</td>\n",
       "      <td>0.00</td>\n",
       "      <td>0.00</td>\n",
       "    </tr>\n",
       "    <tr>\n",
       "      <th>31</th>\n",
       "      <td>2012-08-31</td>\n",
       "      <td>2012</td>\n",
       "      <td>8</td>\n",
       "      <td>0.00</td>\n",
       "      <td>0.00</td>\n",
       "      <td>0.00</td>\n",
       "      <td>0.00</td>\n",
       "      <td>0.00</td>\n",
       "      <td>0.00</td>\n",
       "      <td>0.00</td>\n",
       "      <td>0.00</td>\n",
       "      <td>0.00</td>\n",
       "      <td>0.00</td>\n",
       "    </tr>\n",
       "    <tr>\n",
       "      <th>32</th>\n",
       "      <td>2012-09-30</td>\n",
       "      <td>2012</td>\n",
       "      <td>9</td>\n",
       "      <td>0.00</td>\n",
       "      <td>0.00</td>\n",
       "      <td>0.00</td>\n",
       "      <td>0.00</td>\n",
       "      <td>0.00</td>\n",
       "      <td>0.00</td>\n",
       "      <td>0.00</td>\n",
       "      <td>0.00</td>\n",
       "      <td>0.00</td>\n",
       "      <td>0.00</td>\n",
       "    </tr>\n",
       "    <tr>\n",
       "      <th>33</th>\n",
       "      <td>2012-10-31</td>\n",
       "      <td>2012</td>\n",
       "      <td>10</td>\n",
       "      <td>0.00</td>\n",
       "      <td>0.00</td>\n",
       "      <td>0.00</td>\n",
       "      <td>0.00</td>\n",
       "      <td>0.00</td>\n",
       "      <td>0.00</td>\n",
       "      <td>0.00</td>\n",
       "      <td>0.00</td>\n",
       "      <td>0.00</td>\n",
       "      <td>0.00</td>\n",
       "    </tr>\n",
       "    <tr>\n",
       "      <th>34</th>\n",
       "      <td>2012-11-30</td>\n",
       "      <td>2012</td>\n",
       "      <td>11</td>\n",
       "      <td>0.00</td>\n",
       "      <td>0.00</td>\n",
       "      <td>0.00</td>\n",
       "      <td>0.00</td>\n",
       "      <td>0.00</td>\n",
       "      <td>0.00</td>\n",
       "      <td>0.00</td>\n",
       "      <td>0.00</td>\n",
       "      <td>0.00</td>\n",
       "      <td>0.00</td>\n",
       "    </tr>\n",
       "    <tr>\n",
       "      <th>35</th>\n",
       "      <td>2012-12-31</td>\n",
       "      <td>2012</td>\n",
       "      <td>12</td>\n",
       "      <td>0.00</td>\n",
       "      <td>0.00</td>\n",
       "      <td>0.00</td>\n",
       "      <td>0.00</td>\n",
       "      <td>0.00</td>\n",
       "      <td>0.00</td>\n",
       "      <td>0.00</td>\n",
       "      <td>0.00</td>\n",
       "      <td>0.00</td>\n",
       "      <td>0.00</td>\n",
       "    </tr>\n",
       "    <tr>\n",
       "      <th>36</th>\n",
       "      <td>2013-01-31</td>\n",
       "      <td>2013</td>\n",
       "      <td>1</td>\n",
       "      <td>0.00</td>\n",
       "      <td>1,700.00</td>\n",
       "      <td>0.00</td>\n",
       "      <td>0.00</td>\n",
       "      <td>0.00</td>\n",
       "      <td>0.00</td>\n",
       "      <td>1,700.00</td>\n",
       "      <td>0.00</td>\n",
       "      <td>1,700.00</td>\n",
       "      <td>0.00</td>\n",
       "    </tr>\n",
       "    <tr>\n",
       "      <th>37</th>\n",
       "      <td>2013-02-28</td>\n",
       "      <td>2013</td>\n",
       "      <td>2</td>\n",
       "      <td>0.00</td>\n",
       "      <td>0.00</td>\n",
       "      <td>0.00</td>\n",
       "      <td>0.00</td>\n",
       "      <td>0.00</td>\n",
       "      <td>0.00</td>\n",
       "      <td>1,700.00</td>\n",
       "      <td>0.00</td>\n",
       "      <td>1,700.00</td>\n",
       "      <td>0.00</td>\n",
       "    </tr>\n",
       "    <tr>\n",
       "      <th>38</th>\n",
       "      <td>2013-03-31</td>\n",
       "      <td>2013</td>\n",
       "      <td>3</td>\n",
       "      <td>0.00</td>\n",
       "      <td>0.00</td>\n",
       "      <td>0.00</td>\n",
       "      <td>0.00</td>\n",
       "      <td>0.00</td>\n",
       "      <td>0.00</td>\n",
       "      <td>1,700.00</td>\n",
       "      <td>0.00</td>\n",
       "      <td>1,700.00</td>\n",
       "      <td>0.00</td>\n",
       "    </tr>\n",
       "    <tr>\n",
       "      <th>39</th>\n",
       "      <td>2013-04-30</td>\n",
       "      <td>2013</td>\n",
       "      <td>4</td>\n",
       "      <td>0.00</td>\n",
       "      <td>0.00</td>\n",
       "      <td>0.00</td>\n",
       "      <td>0.00</td>\n",
       "      <td>0.00</td>\n",
       "      <td>0.00</td>\n",
       "      <td>1,700.00</td>\n",
       "      <td>0.00</td>\n",
       "      <td>1,700.00</td>\n",
       "      <td>0.00</td>\n",
       "    </tr>\n",
       "    <tr>\n",
       "      <th>40</th>\n",
       "      <td>2013-05-31</td>\n",
       "      <td>2013</td>\n",
       "      <td>5</td>\n",
       "      <td>0.00</td>\n",
       "      <td>700.00</td>\n",
       "      <td>0.00</td>\n",
       "      <td>0.00</td>\n",
       "      <td>0.00</td>\n",
       "      <td>0.00</td>\n",
       "      <td>2,400.00</td>\n",
       "      <td>0.00</td>\n",
       "      <td>2,400.00</td>\n",
       "      <td>0.00</td>\n",
       "    </tr>\n",
       "    <tr>\n",
       "      <th>41</th>\n",
       "      <td>2013-06-30</td>\n",
       "      <td>2013</td>\n",
       "      <td>6</td>\n",
       "      <td>0.00</td>\n",
       "      <td>5,000.00</td>\n",
       "      <td>0.00</td>\n",
       "      <td>0.00</td>\n",
       "      <td>0.00</td>\n",
       "      <td>0.00</td>\n",
       "      <td>7,400.00</td>\n",
       "      <td>0.00</td>\n",
       "      <td>7,400.00</td>\n",
       "      <td>0.00</td>\n",
       "    </tr>\n",
       "    <tr>\n",
       "      <th>42</th>\n",
       "      <td>2013-07-31</td>\n",
       "      <td>2013</td>\n",
       "      <td>7</td>\n",
       "      <td>0.00</td>\n",
       "      <td>0.00</td>\n",
       "      <td>0.00</td>\n",
       "      <td>0.00</td>\n",
       "      <td>0.00</td>\n",
       "      <td>0.00</td>\n",
       "      <td>7,400.00</td>\n",
       "      <td>0.00</td>\n",
       "      <td>7,400.00</td>\n",
       "      <td>0.00</td>\n",
       "    </tr>\n",
       "    <tr>\n",
       "      <th>43</th>\n",
       "      <td>2013-08-31</td>\n",
       "      <td>2013</td>\n",
       "      <td>8</td>\n",
       "      <td>0.00</td>\n",
       "      <td>10,200.00</td>\n",
       "      <td>0.00</td>\n",
       "      <td>0.00</td>\n",
       "      <td>0.00</td>\n",
       "      <td>0.00</td>\n",
       "      <td>17,600.00</td>\n",
       "      <td>0.00</td>\n",
       "      <td>17,600.00</td>\n",
       "      <td>0.00</td>\n",
       "    </tr>\n",
       "    <tr>\n",
       "      <th>44</th>\n",
       "      <td>2013-09-30</td>\n",
       "      <td>2013</td>\n",
       "      <td>9</td>\n",
       "      <td>0.00</td>\n",
       "      <td>0.00</td>\n",
       "      <td>0.00</td>\n",
       "      <td>0.00</td>\n",
       "      <td>0.00</td>\n",
       "      <td>0.00</td>\n",
       "      <td>17,600.00</td>\n",
       "      <td>0.00</td>\n",
       "      <td>17,600.00</td>\n",
       "      <td>0.00</td>\n",
       "    </tr>\n",
       "    <tr>\n",
       "      <th>45</th>\n",
       "      <td>2013-10-31</td>\n",
       "      <td>2013</td>\n",
       "      <td>10</td>\n",
       "      <td>0.00</td>\n",
       "      <td>0.00</td>\n",
       "      <td>0.00</td>\n",
       "      <td>0.00</td>\n",
       "      <td>0.00</td>\n",
       "      <td>0.00</td>\n",
       "      <td>17,600.00</td>\n",
       "      <td>0.00</td>\n",
       "      <td>17,600.00</td>\n",
       "      <td>0.00</td>\n",
       "    </tr>\n",
       "    <tr>\n",
       "      <th>46</th>\n",
       "      <td>2013-11-30</td>\n",
       "      <td>2013</td>\n",
       "      <td>11</td>\n",
       "      <td>0.00</td>\n",
       "      <td>0.00</td>\n",
       "      <td>0.00</td>\n",
       "      <td>0.00</td>\n",
       "      <td>0.00</td>\n",
       "      <td>0.00</td>\n",
       "      <td>17,600.00</td>\n",
       "      <td>0.00</td>\n",
       "      <td>17,600.00</td>\n",
       "      <td>0.00</td>\n",
       "    </tr>\n",
       "    <tr>\n",
       "      <th>47</th>\n",
       "      <td>2013-12-31</td>\n",
       "      <td>2013</td>\n",
       "      <td>12</td>\n",
       "      <td>0.00</td>\n",
       "      <td>0.00</td>\n",
       "      <td>0.00</td>\n",
       "      <td>0.00</td>\n",
       "      <td>0.00</td>\n",
       "      <td>0.00</td>\n",
       "      <td>17,600.00</td>\n",
       "      <td>0.00</td>\n",
       "      <td>17,600.00</td>\n",
       "      <td>0.00</td>\n",
       "    </tr>\n",
       "    <tr>\n",
       "      <th>48</th>\n",
       "      <td>2014-01-31</td>\n",
       "      <td>2014</td>\n",
       "      <td>1</td>\n",
       "      <td>0.00</td>\n",
       "      <td>5,000.00</td>\n",
       "      <td>0.00</td>\n",
       "      <td>0.00</td>\n",
       "      <td>0.00</td>\n",
       "      <td>0.00</td>\n",
       "      <td>22,600.00</td>\n",
       "      <td>0.00</td>\n",
       "      <td>22,600.00</td>\n",
       "      <td>0.00</td>\n",
       "    </tr>\n",
       "    <tr>\n",
       "      <th>49</th>\n",
       "      <td>2014-02-28</td>\n",
       "      <td>2014</td>\n",
       "      <td>2</td>\n",
       "      <td>0.00</td>\n",
       "      <td>0.00</td>\n",
       "      <td>0.00</td>\n",
       "      <td>0.00</td>\n",
       "      <td>0.00</td>\n",
       "      <td>0.00</td>\n",
       "      <td>22,600.00</td>\n",
       "      <td>0.00</td>\n",
       "      <td>22,600.00</td>\n",
       "      <td>0.00</td>\n",
       "    </tr>\n",
       "    <tr>\n",
       "      <th>50</th>\n",
       "      <td>2014-03-31</td>\n",
       "      <td>2014</td>\n",
       "      <td>3</td>\n",
       "      <td>0.00</td>\n",
       "      <td>0.00</td>\n",
       "      <td>0.00</td>\n",
       "      <td>0.00</td>\n",
       "      <td>0.00</td>\n",
       "      <td>0.00</td>\n",
       "      <td>22,600.00</td>\n",
       "      <td>0.00</td>\n",
       "      <td>22,600.00</td>\n",
       "      <td>0.00</td>\n",
       "    </tr>\n",
       "    <tr>\n",
       "      <th>51</th>\n",
       "      <td>2014-04-30</td>\n",
       "      <td>2014</td>\n",
       "      <td>4</td>\n",
       "      <td>0.00</td>\n",
       "      <td>885.17</td>\n",
       "      <td>0.00</td>\n",
       "      <td>0.00</td>\n",
       "      <td>0.00</td>\n",
       "      <td>0.00</td>\n",
       "      <td>23,485.17</td>\n",
       "      <td>0.00</td>\n",
       "      <td>23,485.17</td>\n",
       "      <td>0.00</td>\n",
       "    </tr>\n",
       "    <tr>\n",
       "      <th>52</th>\n",
       "      <td>2014-05-31</td>\n",
       "      <td>2014</td>\n",
       "      <td>5</td>\n",
       "      <td>0.00</td>\n",
       "      <td>0.00</td>\n",
       "      <td>0.00</td>\n",
       "      <td>0.00</td>\n",
       "      <td>0.00</td>\n",
       "      <td>0.00</td>\n",
       "      <td>23,485.17</td>\n",
       "      <td>0.00</td>\n",
       "      <td>23,485.17</td>\n",
       "      <td>0.00</td>\n",
       "    </tr>\n",
       "    <tr>\n",
       "      <th>53</th>\n",
       "      <td>2014-06-30</td>\n",
       "      <td>2014</td>\n",
       "      <td>6</td>\n",
       "      <td>0.00</td>\n",
       "      <td>0.00</td>\n",
       "      <td>0.00</td>\n",
       "      <td>0.00</td>\n",
       "      <td>0.00</td>\n",
       "      <td>0.00</td>\n",
       "      <td>23,485.17</td>\n",
       "      <td>0.00</td>\n",
       "      <td>23,485.17</td>\n",
       "      <td>0.00</td>\n",
       "    </tr>\n",
       "    <tr>\n",
       "      <th>54</th>\n",
       "      <td>2014-07-31</td>\n",
       "      <td>2014</td>\n",
       "      <td>7</td>\n",
       "      <td>35,900.31</td>\n",
       "      <td>9,310.61</td>\n",
       "      <td>0.00</td>\n",
       "      <td>3,104.53</td>\n",
       "      <td>8.65</td>\n",
       "      <td>3,104.53</td>\n",
       "      <td>32,795.78</td>\n",
       "      <td>0.00</td>\n",
       "      <td>32,795.78</td>\n",
       "      <td>9.47</td>\n",
       "    </tr>\n",
       "    <tr>\n",
       "      <th>55</th>\n",
       "      <td>2014-08-31</td>\n",
       "      <td>2014</td>\n",
       "      <td>8</td>\n",
       "      <td>36,335.62</td>\n",
       "      <td>0.00</td>\n",
       "      <td>0.00</td>\n",
       "      <td>435.31</td>\n",
       "      <td>1.20</td>\n",
       "      <td>3,539.84</td>\n",
       "      <td>32,795.78</td>\n",
       "      <td>0.00</td>\n",
       "      <td>32,795.78</td>\n",
       "      <td>10.79</td>\n",
       "    </tr>\n",
       "    <tr>\n",
       "      <th>56</th>\n",
       "      <td>2014-09-30</td>\n",
       "      <td>2014</td>\n",
       "      <td>9</td>\n",
       "      <td>37,000.06</td>\n",
       "      <td>0.00</td>\n",
       "      <td>0.00</td>\n",
       "      <td>664.44</td>\n",
       "      <td>1.80</td>\n",
       "      <td>4,204.28</td>\n",
       "      <td>32,795.78</td>\n",
       "      <td>0.00</td>\n",
       "      <td>32,795.78</td>\n",
       "      <td>12.82</td>\n",
       "    </tr>\n",
       "    <tr>\n",
       "      <th>57</th>\n",
       "      <td>2014-10-31</td>\n",
       "      <td>2014</td>\n",
       "      <td>10</td>\n",
       "      <td>36,655.59</td>\n",
       "      <td>0.00</td>\n",
       "      <td>0.00</td>\n",
       "      <td>-344.47</td>\n",
       "      <td>-0.94</td>\n",
       "      <td>3,859.81</td>\n",
       "      <td>32,795.78</td>\n",
       "      <td>0.00</td>\n",
       "      <td>32,795.78</td>\n",
       "      <td>11.77</td>\n",
       "    </tr>\n",
       "    <tr>\n",
       "      <th>58</th>\n",
       "      <td>2014-11-30</td>\n",
       "      <td>2014</td>\n",
       "      <td>11</td>\n",
       "      <td>36,150.16</td>\n",
       "      <td>0.00</td>\n",
       "      <td>0.00</td>\n",
       "      <td>-505.43</td>\n",
       "      <td>-1.40</td>\n",
       "      <td>3,354.38</td>\n",
       "      <td>32,795.78</td>\n",
       "      <td>0.00</td>\n",
       "      <td>32,795.78</td>\n",
       "      <td>10.23</td>\n",
       "    </tr>\n",
       "    <tr>\n",
       "      <th>59</th>\n",
       "      <td>2014-12-31</td>\n",
       "      <td>2014</td>\n",
       "      <td>12</td>\n",
       "      <td>35,494.68</td>\n",
       "      <td>0.00</td>\n",
       "      <td>0.00</td>\n",
       "      <td>-655.48</td>\n",
       "      <td>-1.85</td>\n",
       "      <td>2,698.90</td>\n",
       "      <td>32,795.78</td>\n",
       "      <td>0.00</td>\n",
       "      <td>32,795.78</td>\n",
       "      <td>8.23</td>\n",
       "    </tr>\n",
       "    <tr>\n",
       "      <th>60</th>\n",
       "      <td>2015-01-31</td>\n",
       "      <td>2015</td>\n",
       "      <td>1</td>\n",
       "      <td>40,803.28</td>\n",
       "      <td>5,000.00</td>\n",
       "      <td>0.00</td>\n",
       "      <td>308.60</td>\n",
       "      <td>0.76</td>\n",
       "      <td>3,007.50</td>\n",
       "      <td>37,795.78</td>\n",
       "      <td>0.00</td>\n",
       "      <td>37,795.78</td>\n",
       "      <td>7.96</td>\n",
       "    </tr>\n",
       "    <tr>\n",
       "      <th>61</th>\n",
       "      <td>2015-02-28</td>\n",
       "      <td>2015</td>\n",
       "      <td>2</td>\n",
       "      <td>40,185.80</td>\n",
       "      <td>5,300.00</td>\n",
       "      <td>5,144.33</td>\n",
       "      <td>-773.15</td>\n",
       "      <td>-1.92</td>\n",
       "      <td>2,234.35</td>\n",
       "      <td>43,095.78</td>\n",
       "      <td>5,144.33</td>\n",
       "      <td>37,951.45</td>\n",
       "      <td>5.89</td>\n",
       "    </tr>\n",
       "    <tr>\n",
       "      <th>62</th>\n",
       "      <td>2015-03-31</td>\n",
       "      <td>2015</td>\n",
       "      <td>3</td>\n",
       "      <td>40,466.74</td>\n",
       "      <td>0.00</td>\n",
       "      <td>0.00</td>\n",
       "      <td>280.94</td>\n",
       "      <td>0.69</td>\n",
       "      <td>2,515.29</td>\n",
       "      <td>43,095.78</td>\n",
       "      <td>5,144.33</td>\n",
       "      <td>37,951.45</td>\n",
       "      <td>6.63</td>\n",
       "    </tr>\n",
       "    <tr>\n",
       "      <th>63</th>\n",
       "      <td>2015-04-30</td>\n",
       "      <td>2015</td>\n",
       "      <td>4</td>\n",
       "      <td>41,409.24</td>\n",
       "      <td>0.00</td>\n",
       "      <td>0.00</td>\n",
       "      <td>942.50</td>\n",
       "      <td>2.28</td>\n",
       "      <td>3,457.79</td>\n",
       "      <td>43,095.78</td>\n",
       "      <td>5,144.33</td>\n",
       "      <td>37,951.45</td>\n",
       "      <td>9.11</td>\n",
       "    </tr>\n",
       "    <tr>\n",
       "      <th>64</th>\n",
       "      <td>2015-05-31</td>\n",
       "      <td>2015</td>\n",
       "      <td>5</td>\n",
       "      <td>42,203.48</td>\n",
       "      <td>0.00</td>\n",
       "      <td>0.00</td>\n",
       "      <td>794.24</td>\n",
       "      <td>1.88</td>\n",
       "      <td>4,252.03</td>\n",
       "      <td>43,095.78</td>\n",
       "      <td>5,144.33</td>\n",
       "      <td>37,951.45</td>\n",
       "      <td>11.20</td>\n",
       "    </tr>\n",
       "    <tr>\n",
       "      <th>65</th>\n",
       "      <td>2015-06-30</td>\n",
       "      <td>2015</td>\n",
       "      <td>6</td>\n",
       "      <td>41,769.46</td>\n",
       "      <td>0.00</td>\n",
       "      <td>0.00</td>\n",
       "      <td>-434.02</td>\n",
       "      <td>-1.04</td>\n",
       "      <td>3,818.01</td>\n",
       "      <td>43,095.78</td>\n",
       "      <td>5,144.33</td>\n",
       "      <td>37,951.45</td>\n",
       "      <td>10.06</td>\n",
       "    </tr>\n",
       "    <tr>\n",
       "      <th>66</th>\n",
       "      <td>2015-07-31</td>\n",
       "      <td>2015</td>\n",
       "      <td>7</td>\n",
       "      <td>41,671.94</td>\n",
       "      <td>0.00</td>\n",
       "      <td>0.00</td>\n",
       "      <td>-97.52</td>\n",
       "      <td>-0.23</td>\n",
       "      <td>3,720.49</td>\n",
       "      <td>43,095.78</td>\n",
       "      <td>5,144.33</td>\n",
       "      <td>37,951.45</td>\n",
       "      <td>9.80</td>\n",
       "    </tr>\n",
       "    <tr>\n",
       "      <th>67</th>\n",
       "      <td>2015-08-31</td>\n",
       "      <td>2015</td>\n",
       "      <td>8</td>\n",
       "      <td>41,218.42</td>\n",
       "      <td>0.00</td>\n",
       "      <td>0.00</td>\n",
       "      <td>-453.52</td>\n",
       "      <td>-1.10</td>\n",
       "      <td>3,266.97</td>\n",
       "      <td>43,095.78</td>\n",
       "      <td>5,144.33</td>\n",
       "      <td>37,951.45</td>\n",
       "      <td>8.61</td>\n",
       "    </tr>\n",
       "    <tr>\n",
       "      <th>68</th>\n",
       "      <td>2015-09-30</td>\n",
       "      <td>2015</td>\n",
       "      <td>9</td>\n",
       "      <td>5,173.30</td>\n",
       "      <td>0.00</td>\n",
       "      <td>35,498.35</td>\n",
       "      <td>-546.77</td>\n",
       "      <td>-10.57</td>\n",
       "      <td>2,720.20</td>\n",
       "      <td>43,095.78</td>\n",
       "      <td>40,642.68</td>\n",
       "      <td>2,453.10</td>\n",
       "      <td>110.89</td>\n",
       "    </tr>\n",
       "    <tr>\n",
       "      <th>69</th>\n",
       "      <td>2015-10-31</td>\n",
       "      <td>2015</td>\n",
       "      <td>10</td>\n",
       "      <td>5,161.95</td>\n",
       "      <td>0.00</td>\n",
       "      <td>0.00</td>\n",
       "      <td>-11.35</td>\n",
       "      <td>-0.22</td>\n",
       "      <td>2,708.85</td>\n",
       "      <td>43,095.78</td>\n",
       "      <td>40,642.68</td>\n",
       "      <td>2,453.10</td>\n",
       "      <td>110.43</td>\n",
       "    </tr>\n",
       "    <tr>\n",
       "      <th>70</th>\n",
       "      <td>2015-11-30</td>\n",
       "      <td>2015</td>\n",
       "      <td>11</td>\n",
       "      <td>5,316.14</td>\n",
       "      <td>0.00</td>\n",
       "      <td>0.00</td>\n",
       "      <td>154.19</td>\n",
       "      <td>2.90</td>\n",
       "      <td>2,863.04</td>\n",
       "      <td>43,095.78</td>\n",
       "      <td>40,642.68</td>\n",
       "      <td>2,453.10</td>\n",
       "      <td>116.71</td>\n",
       "    </tr>\n",
       "    <tr>\n",
       "      <th>71</th>\n",
       "      <td>2015-12-31</td>\n",
       "      <td>2015</td>\n",
       "      <td>12</td>\n",
       "      <td>5,114.00</td>\n",
       "      <td>0.00</td>\n",
       "      <td>0.00</td>\n",
       "      <td>-202.14</td>\n",
       "      <td>-3.95</td>\n",
       "      <td>2,660.90</td>\n",
       "      <td>43,095.78</td>\n",
       "      <td>40,642.68</td>\n",
       "      <td>2,453.10</td>\n",
       "      <td>108.47</td>\n",
       "    </tr>\n",
       "    <tr>\n",
       "      <th>72</th>\n",
       "      <td>2016-01-31</td>\n",
       "      <td>2016</td>\n",
       "      <td>1</td>\n",
       "      <td>4,911.00</td>\n",
       "      <td>0.00</td>\n",
       "      <td>0.00</td>\n",
       "      <td>-203.00</td>\n",
       "      <td>-4.13</td>\n",
       "      <td>2,457.90</td>\n",
       "      <td>43,095.78</td>\n",
       "      <td>40,642.68</td>\n",
       "      <td>2,453.10</td>\n",
       "      <td>100.20</td>\n",
       "    </tr>\n",
       "    <tr>\n",
       "      <th>73</th>\n",
       "      <td>2016-02-29</td>\n",
       "      <td>2016</td>\n",
       "      <td>2</td>\n",
       "      <td>4,722.78</td>\n",
       "      <td>0.00</td>\n",
       "      <td>0.00</td>\n",
       "      <td>-188.22</td>\n",
       "      <td>-3.99</td>\n",
       "      <td>2,269.68</td>\n",
       "      <td>43,095.78</td>\n",
       "      <td>40,642.68</td>\n",
       "      <td>2,453.10</td>\n",
       "      <td>92.52</td>\n",
       "    </tr>\n",
       "    <tr>\n",
       "      <th>74</th>\n",
       "      <td>2016-03-31</td>\n",
       "      <td>2016</td>\n",
       "      <td>3</td>\n",
       "      <td>5,159.97</td>\n",
       "      <td>0.00</td>\n",
       "      <td>0.00</td>\n",
       "      <td>437.19</td>\n",
       "      <td>8.47</td>\n",
       "      <td>2,706.87</td>\n",
       "      <td>43,095.78</td>\n",
       "      <td>40,642.68</td>\n",
       "      <td>2,453.10</td>\n",
       "      <td>110.34</td>\n",
       "    </tr>\n",
       "    <tr>\n",
       "      <th>75</th>\n",
       "      <td>2016-04-30</td>\n",
       "      <td>2016</td>\n",
       "      <td>4</td>\n",
       "      <td>37,025.65</td>\n",
       "      <td>31,000.00</td>\n",
       "      <td>0.00</td>\n",
       "      <td>865.68</td>\n",
       "      <td>2.34</td>\n",
       "      <td>3,572.55</td>\n",
       "      <td>74,095.78</td>\n",
       "      <td>40,642.68</td>\n",
       "      <td>33,453.10</td>\n",
       "      <td>10.68</td>\n",
       "    </tr>\n",
       "    <tr>\n",
       "      <th>76</th>\n",
       "      <td>2016-05-31</td>\n",
       "      <td>2016</td>\n",
       "      <td>5</td>\n",
       "      <td>37,658.50</td>\n",
       "      <td>0.00</td>\n",
       "      <td>0.00</td>\n",
       "      <td>632.85</td>\n",
       "      <td>1.68</td>\n",
       "      <td>4,205.40</td>\n",
       "      <td>74,095.78</td>\n",
       "      <td>40,642.68</td>\n",
       "      <td>33,453.10</td>\n",
       "      <td>12.57</td>\n",
       "    </tr>\n",
       "    <tr>\n",
       "      <th>77</th>\n",
       "      <td>2016-06-30</td>\n",
       "      <td>2016</td>\n",
       "      <td>6</td>\n",
       "      <td>37,828.72</td>\n",
       "      <td>0.00</td>\n",
       "      <td>0.00</td>\n",
       "      <td>170.22</td>\n",
       "      <td>0.45</td>\n",
       "      <td>4,375.62</td>\n",
       "      <td>74,095.78</td>\n",
       "      <td>40,642.68</td>\n",
       "      <td>33,453.10</td>\n",
       "      <td>13.08</td>\n",
       "    </tr>\n",
       "    <tr>\n",
       "      <th>78</th>\n",
       "      <td>2016-07-31</td>\n",
       "      <td>2016</td>\n",
       "      <td>7</td>\n",
       "      <td>38,673.13</td>\n",
       "      <td>0.00</td>\n",
       "      <td>0.00</td>\n",
       "      <td>844.41</td>\n",
       "      <td>2.18</td>\n",
       "      <td>5,220.03</td>\n",
       "      <td>74,095.78</td>\n",
       "      <td>40,642.68</td>\n",
       "      <td>33,453.10</td>\n",
       "      <td>15.60</td>\n",
       "    </tr>\n",
       "    <tr>\n",
       "      <th>79</th>\n",
       "      <td>2016-08-31</td>\n",
       "      <td>2016</td>\n",
       "      <td>8</td>\n",
       "      <td>38,992.45</td>\n",
       "      <td>0.00</td>\n",
       "      <td>0.00</td>\n",
       "      <td>319.32</td>\n",
       "      <td>0.82</td>\n",
       "      <td>5,539.35</td>\n",
       "      <td>74,095.78</td>\n",
       "      <td>40,642.68</td>\n",
       "      <td>33,453.10</td>\n",
       "      <td>16.56</td>\n",
       "    </tr>\n",
       "    <tr>\n",
       "      <th>80</th>\n",
       "      <td>2016-09-30</td>\n",
       "      <td>2016</td>\n",
       "      <td>9</td>\n",
       "      <td>39,182.56</td>\n",
       "      <td>0.00</td>\n",
       "      <td>0.00</td>\n",
       "      <td>190.11</td>\n",
       "      <td>0.49</td>\n",
       "      <td>5,729.46</td>\n",
       "      <td>74,095.78</td>\n",
       "      <td>40,642.68</td>\n",
       "      <td>33,453.10</td>\n",
       "      <td>17.13</td>\n",
       "    </tr>\n",
       "    <tr>\n",
       "      <th>81</th>\n",
       "      <td>2016-10-31</td>\n",
       "      <td>2016</td>\n",
       "      <td>10</td>\n",
       "      <td>40,013.25</td>\n",
       "      <td>0.00</td>\n",
       "      <td>0.00</td>\n",
       "      <td>830.69</td>\n",
       "      <td>2.08</td>\n",
       "      <td>6,560.15</td>\n",
       "      <td>74,095.78</td>\n",
       "      <td>40,642.68</td>\n",
       "      <td>33,453.10</td>\n",
       "      <td>19.61</td>\n",
       "    </tr>\n",
       "    <tr>\n",
       "      <th>82</th>\n",
       "      <td>2016-11-30</td>\n",
       "      <td>2016</td>\n",
       "      <td>11</td>\n",
       "      <td>48,538.19</td>\n",
       "      <td>8,400.00</td>\n",
       "      <td>0.00</td>\n",
       "      <td>124.94</td>\n",
       "      <td>0.26</td>\n",
       "      <td>6,685.09</td>\n",
       "      <td>82,495.78</td>\n",
       "      <td>40,642.68</td>\n",
       "      <td>41,853.10</td>\n",
       "      <td>15.97</td>\n",
       "    </tr>\n",
       "    <tr>\n",
       "      <th>83</th>\n",
       "      <td>2016-12-31</td>\n",
       "      <td>2016</td>\n",
       "      <td>12</td>\n",
       "      <td>49,083.66</td>\n",
       "      <td>0.00</td>\n",
       "      <td>0.00</td>\n",
       "      <td>545.47</td>\n",
       "      <td>1.11</td>\n",
       "      <td>7,230.56</td>\n",
       "      <td>82,495.78</td>\n",
       "      <td>40,642.68</td>\n",
       "      <td>41,853.10</td>\n",
       "      <td>17.28</td>\n",
       "    </tr>\n",
       "    <tr>\n",
       "      <th>84</th>\n",
       "      <td>2017-01-31</td>\n",
       "      <td>2017</td>\n",
       "      <td>1</td>\n",
       "      <td>50,190.28</td>\n",
       "      <td>0.00</td>\n",
       "      <td>0.00</td>\n",
       "      <td>1,106.62</td>\n",
       "      <td>2.20</td>\n",
       "      <td>8,337.18</td>\n",
       "      <td>82,495.78</td>\n",
       "      <td>40,642.68</td>\n",
       "      <td>41,853.10</td>\n",
       "      <td>19.92</td>\n",
       "    </tr>\n",
       "    <tr>\n",
       "      <th>85</th>\n",
       "      <td>2017-02-28</td>\n",
       "      <td>2017</td>\n",
       "      <td>2</td>\n",
       "      <td>51,521.82</td>\n",
       "      <td>0.00</td>\n",
       "      <td>0.00</td>\n",
       "      <td>1,331.54</td>\n",
       "      <td>2.58</td>\n",
       "      <td>9,668.72</td>\n",
       "      <td>82,495.78</td>\n",
       "      <td>40,642.68</td>\n",
       "      <td>41,853.10</td>\n",
       "      <td>23.10</td>\n",
       "    </tr>\n",
       "    <tr>\n",
       "      <th>86</th>\n",
       "      <td>2017-03-31</td>\n",
       "      <td>2017</td>\n",
       "      <td>3</td>\n",
       "      <td>81,372.98</td>\n",
       "      <td>30,100.00</td>\n",
       "      <td>0.00</td>\n",
       "      <td>-248.84</td>\n",
       "      <td>-0.31</td>\n",
       "      <td>9,419.88</td>\n",
       "      <td>112,595.78</td>\n",
       "      <td>40,642.68</td>\n",
       "      <td>71,953.10</td>\n",
       "      <td>13.09</td>\n",
       "    </tr>\n",
       "    <tr>\n",
       "      <th>87</th>\n",
       "      <td>2017-04-30</td>\n",
       "      <td>2017</td>\n",
       "      <td>4</td>\n",
       "      <td>81,714.32</td>\n",
       "      <td>0.00</td>\n",
       "      <td>0.00</td>\n",
       "      <td>341.34</td>\n",
       "      <td>0.42</td>\n",
       "      <td>9,761.22</td>\n",
       "      <td>112,595.78</td>\n",
       "      <td>40,642.68</td>\n",
       "      <td>71,953.10</td>\n",
       "      <td>13.57</td>\n",
       "    </tr>\n",
       "    <tr>\n",
       "      <th>88</th>\n",
       "      <td>2017-05-31</td>\n",
       "      <td>2017</td>\n",
       "      <td>5</td>\n",
       "      <td>80,233.10</td>\n",
       "      <td>0.00</td>\n",
       "      <td>0.00</td>\n",
       "      <td>-1,481.22</td>\n",
       "      <td>-1.85</td>\n",
       "      <td>8,280.00</td>\n",
       "      <td>112,595.78</td>\n",
       "      <td>40,642.68</td>\n",
       "      <td>71,953.10</td>\n",
       "      <td>11.51</td>\n",
       "    </tr>\n",
       "    <tr>\n",
       "      <th>89</th>\n",
       "      <td>2017-06-30</td>\n",
       "      <td>2017</td>\n",
       "      <td>6</td>\n",
       "      <td>80,914.56</td>\n",
       "      <td>0.00</td>\n",
       "      <td>0.00</td>\n",
       "      <td>681.46</td>\n",
       "      <td>0.84</td>\n",
       "      <td>8,961.46</td>\n",
       "      <td>112,595.78</td>\n",
       "      <td>40,642.68</td>\n",
       "      <td>71,953.10</td>\n",
       "      <td>12.45</td>\n",
       "    </tr>\n",
       "    <tr>\n",
       "      <th>90</th>\n",
       "      <td>2017-07-31</td>\n",
       "      <td>2017</td>\n",
       "      <td>7</td>\n",
       "      <td>82,270.01</td>\n",
       "      <td>0.00</td>\n",
       "      <td>0.00</td>\n",
       "      <td>1,355.45</td>\n",
       "      <td>1.65</td>\n",
       "      <td>10,316.91</td>\n",
       "      <td>112,595.78</td>\n",
       "      <td>40,642.68</td>\n",
       "      <td>71,953.10</td>\n",
       "      <td>14.34</td>\n",
       "    </tr>\n",
       "    <tr>\n",
       "      <th>91</th>\n",
       "      <td>2017-08-31</td>\n",
       "      <td>2017</td>\n",
       "      <td>8</td>\n",
       "      <td>83,512.24</td>\n",
       "      <td>0.00</td>\n",
       "      <td>0.00</td>\n",
       "      <td>1,242.23</td>\n",
       "      <td>1.49</td>\n",
       "      <td>11,559.14</td>\n",
       "      <td>112,595.78</td>\n",
       "      <td>40,642.68</td>\n",
       "      <td>71,953.10</td>\n",
       "      <td>16.06</td>\n",
       "    </tr>\n",
       "    <tr>\n",
       "      <th>92</th>\n",
       "      <td>2017-09-30</td>\n",
       "      <td>2017</td>\n",
       "      <td>9</td>\n",
       "      <td>85,339.26</td>\n",
       "      <td>0.00</td>\n",
       "      <td>0.00</td>\n",
       "      <td>1,827.02</td>\n",
       "      <td>2.14</td>\n",
       "      <td>13,386.16</td>\n",
       "      <td>112,595.78</td>\n",
       "      <td>40,642.68</td>\n",
       "      <td>71,953.10</td>\n",
       "      <td>18.60</td>\n",
       "    </tr>\n",
       "    <tr>\n",
       "      <th>93</th>\n",
       "      <td>2017-10-31</td>\n",
       "      <td>2017</td>\n",
       "      <td>10</td>\n",
       "      <td>158,158.58</td>\n",
       "      <td>73,000.00</td>\n",
       "      <td>0.00</td>\n",
       "      <td>-180.68</td>\n",
       "      <td>-0.11</td>\n",
       "      <td>13,205.48</td>\n",
       "      <td>185,595.78</td>\n",
       "      <td>40,642.68</td>\n",
       "      <td>144,953.10</td>\n",
       "      <td>9.11</td>\n",
       "    </tr>\n",
       "    <tr>\n",
       "      <th>94</th>\n",
       "      <td>2017-11-30</td>\n",
       "      <td>2017</td>\n",
       "      <td>11</td>\n",
       "      <td>157,329.41</td>\n",
       "      <td>0.00</td>\n",
       "      <td>0.00</td>\n",
       "      <td>-829.17</td>\n",
       "      <td>-0.53</td>\n",
       "      <td>12,376.31</td>\n",
       "      <td>185,595.78</td>\n",
       "      <td>40,642.68</td>\n",
       "      <td>144,953.10</td>\n",
       "      <td>8.54</td>\n",
       "    </tr>\n",
       "    <tr>\n",
       "      <th>95</th>\n",
       "      <td>2017-12-31</td>\n",
       "      <td>2017</td>\n",
       "      <td>12</td>\n",
       "      <td>158,921.54</td>\n",
       "      <td>0.00</td>\n",
       "      <td>0.00</td>\n",
       "      <td>1,592.13</td>\n",
       "      <td>1.00</td>\n",
       "      <td>13,968.44</td>\n",
       "      <td>185,595.78</td>\n",
       "      <td>40,642.68</td>\n",
       "      <td>144,953.10</td>\n",
       "      <td>9.64</td>\n",
       "    </tr>\n",
       "    <tr>\n",
       "      <th>96</th>\n",
       "      <td>2018-01-31</td>\n",
       "      <td>2018</td>\n",
       "      <td>1</td>\n",
       "      <td>162,542.20</td>\n",
       "      <td>0.00</td>\n",
       "      <td>0.00</td>\n",
       "      <td>3,620.66</td>\n",
       "      <td>2.23</td>\n",
       "      <td>17,589.10</td>\n",
       "      <td>185,595.78</td>\n",
       "      <td>40,642.68</td>\n",
       "      <td>144,953.10</td>\n",
       "      <td>12.13</td>\n",
       "    </tr>\n",
       "    <tr>\n",
       "      <th>97</th>\n",
       "      <td>2018-02-28</td>\n",
       "      <td>2018</td>\n",
       "      <td>2</td>\n",
       "      <td>164,695.06</td>\n",
       "      <td>0.00</td>\n",
       "      <td>0.00</td>\n",
       "      <td>2,152.86</td>\n",
       "      <td>1.31</td>\n",
       "      <td>19,741.96</td>\n",
       "      <td>185,595.78</td>\n",
       "      <td>40,642.68</td>\n",
       "      <td>144,953.10</td>\n",
       "      <td>13.62</td>\n",
       "    </tr>\n",
       "    <tr>\n",
       "      <th>98</th>\n",
       "      <td>2018-03-31</td>\n",
       "      <td>2018</td>\n",
       "      <td>3</td>\n",
       "      <td>167,275.18</td>\n",
       "      <td>0.00</td>\n",
       "      <td>0.00</td>\n",
       "      <td>2,580.12</td>\n",
       "      <td>1.54</td>\n",
       "      <td>22,322.08</td>\n",
       "      <td>185,595.78</td>\n",
       "      <td>40,642.68</td>\n",
       "      <td>144,953.10</td>\n",
       "      <td>15.40</td>\n",
       "    </tr>\n",
       "    <tr>\n",
       "      <th>99</th>\n",
       "      <td>2018-04-30</td>\n",
       "      <td>2018</td>\n",
       "      <td>4</td>\n",
       "      <td>168,072.22</td>\n",
       "      <td>19,500.00</td>\n",
       "      <td>19,122.71</td>\n",
       "      <td>419.75</td>\n",
       "      <td>0.25</td>\n",
       "      <td>22,741.83</td>\n",
       "      <td>205,095.78</td>\n",
       "      <td>59,765.39</td>\n",
       "      <td>145,330.39</td>\n",
       "      <td>15.65</td>\n",
       "    </tr>\n",
       "    <tr>\n",
       "      <th>100</th>\n",
       "      <td>2018-05-31</td>\n",
       "      <td>2018</td>\n",
       "      <td>5</td>\n",
       "      <td>164,267.03</td>\n",
       "      <td>0.00</td>\n",
       "      <td>0.00</td>\n",
       "      <td>-3,805.19</td>\n",
       "      <td>-2.32</td>\n",
       "      <td>18,936.64</td>\n",
       "      <td>205,095.78</td>\n",
       "      <td>59,765.39</td>\n",
       "      <td>145,330.39</td>\n",
       "      <td>13.03</td>\n",
       "    </tr>\n",
       "    <tr>\n",
       "      <th>101</th>\n",
       "      <td>2018-06-30</td>\n",
       "      <td>2018</td>\n",
       "      <td>6</td>\n",
       "      <td>156,262.99</td>\n",
       "      <td>10,000.00</td>\n",
       "      <td>18,995.54</td>\n",
       "      <td>-9,008.50</td>\n",
       "      <td>-5.76</td>\n",
       "      <td>9,928.14</td>\n",
       "      <td>215,095.78</td>\n",
       "      <td>78,760.93</td>\n",
       "      <td>136,334.85</td>\n",
       "      <td>7.28</td>\n",
       "    </tr>\n",
       "    <tr>\n",
       "      <th>102</th>\n",
       "      <td>2018-07-31</td>\n",
       "      <td>2018</td>\n",
       "      <td>7</td>\n",
       "      <td>157,099.18</td>\n",
       "      <td>0.00</td>\n",
       "      <td>0.00</td>\n",
       "      <td>836.19</td>\n",
       "      <td>0.53</td>\n",
       "      <td>10,764.33</td>\n",
       "      <td>215,095.78</td>\n",
       "      <td>78,760.93</td>\n",
       "      <td>136,334.85</td>\n",
       "      <td>7.90</td>\n",
       "    </tr>\n",
       "    <tr>\n",
       "      <th>103</th>\n",
       "      <td>2018-08-31</td>\n",
       "      <td>2018</td>\n",
       "      <td>8</td>\n",
       "      <td>157,399.87</td>\n",
       "      <td>0.00</td>\n",
       "      <td>0.00</td>\n",
       "      <td>300.69</td>\n",
       "      <td>0.19</td>\n",
       "      <td>11,065.02</td>\n",
       "      <td>215,095.78</td>\n",
       "      <td>78,760.93</td>\n",
       "      <td>136,334.85</td>\n",
       "      <td>8.12</td>\n",
       "    </tr>\n",
       "    <tr>\n",
       "      <th>104</th>\n",
       "      <td>2018-09-30</td>\n",
       "      <td>2018</td>\n",
       "      <td>9</td>\n",
       "      <td>158,093.00</td>\n",
       "      <td>0.00</td>\n",
       "      <td>0.00</td>\n",
       "      <td>693.13</td>\n",
       "      <td>0.44</td>\n",
       "      <td>11,758.15</td>\n",
       "      <td>215,095.78</td>\n",
       "      <td>78,760.93</td>\n",
       "      <td>136,334.85</td>\n",
       "      <td>8.62</td>\n",
       "    </tr>\n",
       "    <tr>\n",
       "      <th>105</th>\n",
       "      <td>2018-10-31</td>\n",
       "      <td>2018</td>\n",
       "      <td>10</td>\n",
       "      <td>159,359.84</td>\n",
       "      <td>0.00</td>\n",
       "      <td>0.00</td>\n",
       "      <td>1,266.84</td>\n",
       "      <td>0.79</td>\n",
       "      <td>13,024.99</td>\n",
       "      <td>215,095.78</td>\n",
       "      <td>78,760.93</td>\n",
       "      <td>136,334.85</td>\n",
       "      <td>9.55</td>\n",
       "    </tr>\n",
       "    <tr>\n",
       "      <th>106</th>\n",
       "      <td>2018-11-30</td>\n",
       "      <td>2018</td>\n",
       "      <td>11</td>\n",
       "      <td>159,069.68</td>\n",
       "      <td>0.00</td>\n",
       "      <td>0.00</td>\n",
       "      <td>-290.16</td>\n",
       "      <td>-0.18</td>\n",
       "      <td>12,734.83</td>\n",
       "      <td>215,095.78</td>\n",
       "      <td>78,760.93</td>\n",
       "      <td>136,334.85</td>\n",
       "      <td>9.34</td>\n",
       "    </tr>\n",
       "    <tr>\n",
       "      <th>107</th>\n",
       "      <td>2018-12-31</td>\n",
       "      <td>2018</td>\n",
       "      <td>12</td>\n",
       "      <td>189,469.13</td>\n",
       "      <td>30,000.00</td>\n",
       "      <td>0.00</td>\n",
       "      <td>399.45</td>\n",
       "      <td>0.21</td>\n",
       "      <td>13,134.28</td>\n",
       "      <td>245,095.78</td>\n",
       "      <td>78,760.93</td>\n",
       "      <td>166,334.85</td>\n",
       "      <td>7.90</td>\n",
       "    </tr>\n",
       "    <tr>\n",
       "      <th>108</th>\n",
       "      <td>2019-01-31</td>\n",
       "      <td>2019</td>\n",
       "      <td>1</td>\n",
       "      <td>193,890.89</td>\n",
       "      <td>0.00</td>\n",
       "      <td>0.00</td>\n",
       "      <td>4,421.76</td>\n",
       "      <td>2.28</td>\n",
       "      <td>17,556.04</td>\n",
       "      <td>245,095.78</td>\n",
       "      <td>78,760.93</td>\n",
       "      <td>166,334.85</td>\n",
       "      <td>10.55</td>\n",
       "    </tr>\n",
       "    <tr>\n",
       "      <th>109</th>\n",
       "      <td>2019-02-28</td>\n",
       "      <td>2019</td>\n",
       "      <td>2</td>\n",
       "      <td>193,553.11</td>\n",
       "      <td>0.00</td>\n",
       "      <td>0.00</td>\n",
       "      <td>-337.78</td>\n",
       "      <td>-0.17</td>\n",
       "      <td>17,218.26</td>\n",
       "      <td>245,095.78</td>\n",
       "      <td>78,760.93</td>\n",
       "      <td>166,334.85</td>\n",
       "      <td>10.35</td>\n",
       "    </tr>\n",
       "    <tr>\n",
       "      <th>110</th>\n",
       "      <td>2019-03-31</td>\n",
       "      <td>2019</td>\n",
       "      <td>3</td>\n",
       "      <td>193,290.88</td>\n",
       "      <td>0.00</td>\n",
       "      <td>0.00</td>\n",
       "      <td>-262.23</td>\n",
       "      <td>-0.14</td>\n",
       "      <td>16,956.03</td>\n",
       "      <td>245,095.78</td>\n",
       "      <td>78,760.93</td>\n",
       "      <td>166,334.85</td>\n",
       "      <td>10.19</td>\n",
       "    </tr>\n",
       "    <tr>\n",
       "      <th>111</th>\n",
       "      <td>2019-04-30</td>\n",
       "      <td>2019</td>\n",
       "      <td>4</td>\n",
       "      <td>193,389.15</td>\n",
       "      <td>0.00</td>\n",
       "      <td>0.00</td>\n",
       "      <td>98.27</td>\n",
       "      <td>0.05</td>\n",
       "      <td>17,054.30</td>\n",
       "      <td>245,095.78</td>\n",
       "      <td>78,760.93</td>\n",
       "      <td>166,334.85</td>\n",
       "      <td>10.25</td>\n",
       "    </tr>\n",
       "    <tr>\n",
       "      <th>112</th>\n",
       "      <td>2019-05-31</td>\n",
       "      <td>2019</td>\n",
       "      <td>5</td>\n",
       "      <td>193,218.80</td>\n",
       "      <td>0.00</td>\n",
       "      <td>0.00</td>\n",
       "      <td>-170.35</td>\n",
       "      <td>-0.09</td>\n",
       "      <td>16,883.95</td>\n",
       "      <td>245,095.78</td>\n",
       "      <td>78,760.93</td>\n",
       "      <td>166,334.85</td>\n",
       "      <td>10.15</td>\n",
       "    </tr>\n",
       "    <tr>\n",
       "      <th>113</th>\n",
       "      <td>2019-06-30</td>\n",
       "      <td>2019</td>\n",
       "      <td>6</td>\n",
       "      <td>196,105.22</td>\n",
       "      <td>0.00</td>\n",
       "      <td>0.00</td>\n",
       "      <td>2,886.42</td>\n",
       "      <td>1.47</td>\n",
       "      <td>19,770.37</td>\n",
       "      <td>245,095.78</td>\n",
       "      <td>78,760.93</td>\n",
       "      <td>166,334.85</td>\n",
       "      <td>11.89</td>\n",
       "    </tr>\n",
       "    <tr>\n",
       "      <th>114</th>\n",
       "      <td>2019-07-31</td>\n",
       "      <td>2019</td>\n",
       "      <td>7</td>\n",
       "      <td>196,318.05</td>\n",
       "      <td>0.00</td>\n",
       "      <td>0.00</td>\n",
       "      <td>212.83</td>\n",
       "      <td>0.11</td>\n",
       "      <td>19,983.20</td>\n",
       "      <td>245,095.78</td>\n",
       "      <td>78,760.93</td>\n",
       "      <td>166,334.85</td>\n",
       "      <td>12.01</td>\n",
       "    </tr>\n",
       "    <tr>\n",
       "      <th>115</th>\n",
       "      <td>2019-08-31</td>\n",
       "      <td>2019</td>\n",
       "      <td>8</td>\n",
       "      <td>196,207.29</td>\n",
       "      <td>0.00</td>\n",
       "      <td>0.00</td>\n",
       "      <td>-110.76</td>\n",
       "      <td>-0.06</td>\n",
       "      <td>19,872.44</td>\n",
       "      <td>245,095.78</td>\n",
       "      <td>78,760.93</td>\n",
       "      <td>166,334.85</td>\n",
       "      <td>11.95</td>\n",
       "    </tr>\n",
       "    <tr>\n",
       "      <th>116</th>\n",
       "      <td>2019-09-30</td>\n",
       "      <td>2019</td>\n",
       "      <td>9</td>\n",
       "      <td>247,881.31</td>\n",
       "      <td>47,500.00</td>\n",
       "      <td>0.00</td>\n",
       "      <td>4,174.02</td>\n",
       "      <td>1.68</td>\n",
       "      <td>24,046.46</td>\n",
       "      <td>292,595.78</td>\n",
       "      <td>78,760.93</td>\n",
       "      <td>213,834.85</td>\n",
       "      <td>11.25</td>\n",
       "    </tr>\n",
       "    <tr>\n",
       "      <th>117</th>\n",
       "      <td>2019-10-31</td>\n",
       "      <td>2019</td>\n",
       "      <td>10</td>\n",
       "      <td>258,174.89</td>\n",
       "      <td>0.00</td>\n",
       "      <td>0.00</td>\n",
       "      <td>10,293.58</td>\n",
       "      <td>3.99</td>\n",
       "      <td>34,340.04</td>\n",
       "      <td>292,595.78</td>\n",
       "      <td>78,760.93</td>\n",
       "      <td>213,834.85</td>\n",
       "      <td>16.06</td>\n",
       "    </tr>\n",
       "    <tr>\n",
       "      <th>118</th>\n",
       "      <td>2019-11-30</td>\n",
       "      <td>2019</td>\n",
       "      <td>11</td>\n",
       "      <td>257,591.35</td>\n",
       "      <td>0.00</td>\n",
       "      <td>0.00</td>\n",
       "      <td>-583.54</td>\n",
       "      <td>-0.23</td>\n",
       "      <td>33,756.50</td>\n",
       "      <td>292,595.78</td>\n",
       "      <td>78,760.93</td>\n",
       "      <td>213,834.85</td>\n",
       "      <td>15.79</td>\n",
       "    </tr>\n",
       "    <tr>\n",
       "      <th>119</th>\n",
       "      <td>2019-12-31</td>\n",
       "      <td>2019</td>\n",
       "      <td>12</td>\n",
       "      <td>266,956.73</td>\n",
       "      <td>0.00</td>\n",
       "      <td>0.00</td>\n",
       "      <td>9,365.38</td>\n",
       "      <td>3.51</td>\n",
       "      <td>43,121.88</td>\n",
       "      <td>292,595.78</td>\n",
       "      <td>78,760.93</td>\n",
       "      <td>213,834.85</td>\n",
       "      <td>20.17</td>\n",
       "    </tr>\n",
       "    <tr>\n",
       "      <th>120</th>\n",
       "      <td>2020-01-31</td>\n",
       "      <td>2020</td>\n",
       "      <td>1</td>\n",
       "      <td>298,788.56</td>\n",
       "      <td>23,776.50</td>\n",
       "      <td>0.00</td>\n",
       "      <td>8,055.33</td>\n",
       "      <td>2.70</td>\n",
       "      <td>51,177.21</td>\n",
       "      <td>316,372.28</td>\n",
       "      <td>78,760.93</td>\n",
       "      <td>237,611.35</td>\n",
       "      <td>21.54</td>\n",
       "    </tr>\n",
       "    <tr>\n",
       "      <th>121</th>\n",
       "      <td>2020-02-29</td>\n",
       "      <td>2020</td>\n",
       "      <td>2</td>\n",
       "      <td>288,707.93</td>\n",
       "      <td>0.00</td>\n",
       "      <td>0.00</td>\n",
       "      <td>-10,080.63</td>\n",
       "      <td>-3.49</td>\n",
       "      <td>41,096.58</td>\n",
       "      <td>316,372.28</td>\n",
       "      <td>78,760.93</td>\n",
       "      <td>237,611.35</td>\n",
       "      <td>17.30</td>\n",
       "    </tr>\n",
       "    <tr>\n",
       "      <th>122</th>\n",
       "      <td>2020-03-31</td>\n",
       "      <td>2020</td>\n",
       "      <td>3</td>\n",
       "      <td>254,381.38</td>\n",
       "      <td>22,729.00</td>\n",
       "      <td>18,591.84</td>\n",
       "      <td>-38,463.71</td>\n",
       "      <td>-15.12</td>\n",
       "      <td>2,632.87</td>\n",
       "      <td>339,101.28</td>\n",
       "      <td>97,352.77</td>\n",
       "      <td>241,748.51</td>\n",
       "      <td>1.09</td>\n",
       "    </tr>\n",
       "    <tr>\n",
       "      <th>123</th>\n",
       "      <td>2020-04-30</td>\n",
       "      <td>2020</td>\n",
       "      <td>4</td>\n",
       "      <td>273,523.05</td>\n",
       "      <td>0.00</td>\n",
       "      <td>0.00</td>\n",
       "      <td>19,141.67</td>\n",
       "      <td>7.00</td>\n",
       "      <td>21,774.54</td>\n",
       "      <td>339,101.28</td>\n",
       "      <td>97,352.77</td>\n",
       "      <td>241,748.51</td>\n",
       "      <td>9.01</td>\n",
       "    </tr>\n",
       "    <tr>\n",
       "      <th>124</th>\n",
       "      <td>2020-05-31</td>\n",
       "      <td>2020</td>\n",
       "      <td>5</td>\n",
       "      <td>299,698.76</td>\n",
       "      <td>8,395.60</td>\n",
       "      <td>0.00</td>\n",
       "      <td>17,780.11</td>\n",
       "      <td>5.93</td>\n",
       "      <td>39,554.65</td>\n",
       "      <td>347,496.88</td>\n",
       "      <td>97,352.77</td>\n",
       "      <td>250,144.11</td>\n",
       "      <td>15.81</td>\n",
       "    </tr>\n",
       "    <tr>\n",
       "      <th>125</th>\n",
       "      <td>2020-06-30</td>\n",
       "      <td>2020</td>\n",
       "      <td>6</td>\n",
       "      <td>311,160.24</td>\n",
       "      <td>0.00</td>\n",
       "      <td>15,500.00</td>\n",
       "      <td>26,961.48</td>\n",
       "      <td>8.66</td>\n",
       "      <td>66,516.13</td>\n",
       "      <td>347,496.88</td>\n",
       "      <td>112,852.77</td>\n",
       "      <td>234,644.11</td>\n",
       "      <td>28.35</td>\n",
       "    </tr>\n",
       "    <tr>\n",
       "      <th>126</th>\n",
       "      <td>2020-07-31</td>\n",
       "      <td>2020</td>\n",
       "      <td>7</td>\n",
       "      <td>344,785.17</td>\n",
       "      <td>13,700.00</td>\n",
       "      <td>0.00</td>\n",
       "      <td>19,924.93</td>\n",
       "      <td>5.78</td>\n",
       "      <td>86,441.06</td>\n",
       "      <td>361,196.88</td>\n",
       "      <td>112,852.77</td>\n",
       "      <td>248,344.11</td>\n",
       "      <td>34.81</td>\n",
       "    </tr>\n",
       "    <tr>\n",
       "      <th>127</th>\n",
       "      <td>2020-08-31</td>\n",
       "      <td>2020</td>\n",
       "      <td>8</td>\n",
       "      <td>358,006.92</td>\n",
       "      <td>41,074.55</td>\n",
       "      <td>11,157.52</td>\n",
       "      <td>3,127.14</td>\n",
       "      <td>0.87</td>\n",
       "      <td>89,568.20</td>\n",
       "      <td>402,271.43</td>\n",
       "      <td>124,010.29</td>\n",
       "      <td>278,261.14</td>\n",
       "      <td>32.19</td>\n",
       "    </tr>\n",
       "    <tr>\n",
       "      <th>128</th>\n",
       "      <td>2020-09-30</td>\n",
       "      <td>2020</td>\n",
       "      <td>9</td>\n",
       "      <td>353,265.69</td>\n",
       "      <td>13,323.00</td>\n",
       "      <td>7,300.00</td>\n",
       "      <td>-10,764.23</td>\n",
       "      <td>-3.05</td>\n",
       "      <td>78,803.97</td>\n",
       "      <td>415,594.43</td>\n",
       "      <td>131,310.29</td>\n",
       "      <td>284,284.14</td>\n",
       "      <td>27.72</td>\n",
       "    </tr>\n",
       "    <tr>\n",
       "      <th>129</th>\n",
       "      <td>2020-10-31</td>\n",
       "      <td>2020</td>\n",
       "      <td>10</td>\n",
       "      <td>356,122.41</td>\n",
       "      <td>27,180.00</td>\n",
       "      <td>30,765.77</td>\n",
       "      <td>6,442.49</td>\n",
       "      <td>1.81</td>\n",
       "      <td>85,246.46</td>\n",
       "      <td>442,774.43</td>\n",
       "      <td>162,076.06</td>\n",
       "      <td>280,698.37</td>\n",
       "      <td>30.37</td>\n",
       "    </tr>\n",
       "    <tr>\n",
       "      <th>130</th>\n",
       "      <td>2020-12-31</td>\n",
       "      <td>2020</td>\n",
       "      <td>11</td>\n",
       "      <td>371,436.03</td>\n",
       "      <td>3,622.50</td>\n",
       "      <td>0.00</td>\n",
       "      <td>11,691.12</td>\n",
       "      <td>3.15</td>\n",
       "      <td>96,937.58</td>\n",
       "      <td>446,396.93</td>\n",
       "      <td>162,076.06</td>\n",
       "      <td>284,320.87</td>\n",
       "      <td>34.09</td>\n",
       "    </tr>\n",
       "  </tbody>\n",
       "</table>\n",
       "</div>"
      ],
      "text/plain": [
       "          Data   ano  mes  financeiro    aporte  retirada  rendimento      %  \\\n",
       "0   2010-01-31  2010    1        0.00      0.00      0.00        0.00   0.00   \n",
       "1   2010-02-28  2010    2        0.00      0.00      0.00        0.00   0.00   \n",
       "2   2010-03-31  2010    3        0.00      0.00      0.00        0.00   0.00   \n",
       "3   2010-04-30  2010    4        0.00      0.00      0.00        0.00   0.00   \n",
       "4   2010-05-31  2010    5        0.00      0.00      0.00        0.00   0.00   \n",
       "5   2010-06-30  2010    6        0.00      0.00      0.00        0.00   0.00   \n",
       "6   2010-07-31  2010    7        0.00      0.00      0.00        0.00   0.00   \n",
       "7   2010-08-31  2010    8        0.00      0.00      0.00        0.00   0.00   \n",
       "8   2010-09-30  2010    9        0.00      0.00      0.00        0.00   0.00   \n",
       "9   2010-10-31  2010   10        0.00      0.00      0.00        0.00   0.00   \n",
       "10  2010-11-30  2010   11        0.00      0.00      0.00        0.00   0.00   \n",
       "11  2010-12-31  2010   12        0.00      0.00      0.00        0.00   0.00   \n",
       "12  2011-01-31  2011    1        0.00      0.00      0.00        0.00   0.00   \n",
       "13  2011-02-28  2011    2        0.00      0.00      0.00        0.00   0.00   \n",
       "14  2011-03-31  2011    3        0.00      0.00      0.00        0.00   0.00   \n",
       "15  2011-04-30  2011    4        0.00      0.00      0.00        0.00   0.00   \n",
       "16  2011-05-31  2011    5        0.00      0.00      0.00        0.00   0.00   \n",
       "17  2011-06-30  2011    6        0.00      0.00      0.00        0.00   0.00   \n",
       "18  2011-07-31  2011    7        0.00      0.00      0.00        0.00   0.00   \n",
       "19  2011-08-31  2011    8        0.00      0.00      0.00        0.00   0.00   \n",
       "20  2011-09-30  2011    9        0.00      0.00      0.00        0.00   0.00   \n",
       "21  2011-10-31  2011   10        0.00      0.00      0.00        0.00   0.00   \n",
       "22  2011-11-30  2011   11        0.00      0.00      0.00        0.00   0.00   \n",
       "23  2011-12-31  2011   12        0.00      0.00      0.00        0.00   0.00   \n",
       "24  2012-01-31  2012    1        0.00      0.00      0.00        0.00   0.00   \n",
       "25  2012-02-29  2012    2        0.00      0.00      0.00        0.00   0.00   \n",
       "26  2012-03-31  2012    3        0.00      0.00      0.00        0.00   0.00   \n",
       "27  2012-04-30  2012    4        0.00      0.00      0.00        0.00   0.00   \n",
       "28  2012-05-31  2012    5        0.00      0.00      0.00        0.00   0.00   \n",
       "29  2012-06-30  2012    6        0.00      0.00      0.00        0.00   0.00   \n",
       "30  2012-07-31  2012    7        0.00      0.00      0.00        0.00   0.00   \n",
       "31  2012-08-31  2012    8        0.00      0.00      0.00        0.00   0.00   \n",
       "32  2012-09-30  2012    9        0.00      0.00      0.00        0.00   0.00   \n",
       "33  2012-10-31  2012   10        0.00      0.00      0.00        0.00   0.00   \n",
       "34  2012-11-30  2012   11        0.00      0.00      0.00        0.00   0.00   \n",
       "35  2012-12-31  2012   12        0.00      0.00      0.00        0.00   0.00   \n",
       "36  2013-01-31  2013    1        0.00  1,700.00      0.00        0.00   0.00   \n",
       "37  2013-02-28  2013    2        0.00      0.00      0.00        0.00   0.00   \n",
       "38  2013-03-31  2013    3        0.00      0.00      0.00        0.00   0.00   \n",
       "39  2013-04-30  2013    4        0.00      0.00      0.00        0.00   0.00   \n",
       "40  2013-05-31  2013    5        0.00    700.00      0.00        0.00   0.00   \n",
       "41  2013-06-30  2013    6        0.00  5,000.00      0.00        0.00   0.00   \n",
       "42  2013-07-31  2013    7        0.00      0.00      0.00        0.00   0.00   \n",
       "43  2013-08-31  2013    8        0.00 10,200.00      0.00        0.00   0.00   \n",
       "44  2013-09-30  2013    9        0.00      0.00      0.00        0.00   0.00   \n",
       "45  2013-10-31  2013   10        0.00      0.00      0.00        0.00   0.00   \n",
       "46  2013-11-30  2013   11        0.00      0.00      0.00        0.00   0.00   \n",
       "47  2013-12-31  2013   12        0.00      0.00      0.00        0.00   0.00   \n",
       "48  2014-01-31  2014    1        0.00  5,000.00      0.00        0.00   0.00   \n",
       "49  2014-02-28  2014    2        0.00      0.00      0.00        0.00   0.00   \n",
       "50  2014-03-31  2014    3        0.00      0.00      0.00        0.00   0.00   \n",
       "51  2014-04-30  2014    4        0.00    885.17      0.00        0.00   0.00   \n",
       "52  2014-05-31  2014    5        0.00      0.00      0.00        0.00   0.00   \n",
       "53  2014-06-30  2014    6        0.00      0.00      0.00        0.00   0.00   \n",
       "54  2014-07-31  2014    7   35,900.31  9,310.61      0.00    3,104.53   8.65   \n",
       "55  2014-08-31  2014    8   36,335.62      0.00      0.00      435.31   1.20   \n",
       "56  2014-09-30  2014    9   37,000.06      0.00      0.00      664.44   1.80   \n",
       "57  2014-10-31  2014   10   36,655.59      0.00      0.00     -344.47  -0.94   \n",
       "58  2014-11-30  2014   11   36,150.16      0.00      0.00     -505.43  -1.40   \n",
       "59  2014-12-31  2014   12   35,494.68      0.00      0.00     -655.48  -1.85   \n",
       "60  2015-01-31  2015    1   40,803.28  5,000.00      0.00      308.60   0.76   \n",
       "61  2015-02-28  2015    2   40,185.80  5,300.00  5,144.33     -773.15  -1.92   \n",
       "62  2015-03-31  2015    3   40,466.74      0.00      0.00      280.94   0.69   \n",
       "63  2015-04-30  2015    4   41,409.24      0.00      0.00      942.50   2.28   \n",
       "64  2015-05-31  2015    5   42,203.48      0.00      0.00      794.24   1.88   \n",
       "65  2015-06-30  2015    6   41,769.46      0.00      0.00     -434.02  -1.04   \n",
       "66  2015-07-31  2015    7   41,671.94      0.00      0.00      -97.52  -0.23   \n",
       "67  2015-08-31  2015    8   41,218.42      0.00      0.00     -453.52  -1.10   \n",
       "68  2015-09-30  2015    9    5,173.30      0.00 35,498.35     -546.77 -10.57   \n",
       "69  2015-10-31  2015   10    5,161.95      0.00      0.00      -11.35  -0.22   \n",
       "70  2015-11-30  2015   11    5,316.14      0.00      0.00      154.19   2.90   \n",
       "71  2015-12-31  2015   12    5,114.00      0.00      0.00     -202.14  -3.95   \n",
       "72  2016-01-31  2016    1    4,911.00      0.00      0.00     -203.00  -4.13   \n",
       "73  2016-02-29  2016    2    4,722.78      0.00      0.00     -188.22  -3.99   \n",
       "74  2016-03-31  2016    3    5,159.97      0.00      0.00      437.19   8.47   \n",
       "75  2016-04-30  2016    4   37,025.65 31,000.00      0.00      865.68   2.34   \n",
       "76  2016-05-31  2016    5   37,658.50      0.00      0.00      632.85   1.68   \n",
       "77  2016-06-30  2016    6   37,828.72      0.00      0.00      170.22   0.45   \n",
       "78  2016-07-31  2016    7   38,673.13      0.00      0.00      844.41   2.18   \n",
       "79  2016-08-31  2016    8   38,992.45      0.00      0.00      319.32   0.82   \n",
       "80  2016-09-30  2016    9   39,182.56      0.00      0.00      190.11   0.49   \n",
       "81  2016-10-31  2016   10   40,013.25      0.00      0.00      830.69   2.08   \n",
       "82  2016-11-30  2016   11   48,538.19  8,400.00      0.00      124.94   0.26   \n",
       "83  2016-12-31  2016   12   49,083.66      0.00      0.00      545.47   1.11   \n",
       "84  2017-01-31  2017    1   50,190.28      0.00      0.00    1,106.62   2.20   \n",
       "85  2017-02-28  2017    2   51,521.82      0.00      0.00    1,331.54   2.58   \n",
       "86  2017-03-31  2017    3   81,372.98 30,100.00      0.00     -248.84  -0.31   \n",
       "87  2017-04-30  2017    4   81,714.32      0.00      0.00      341.34   0.42   \n",
       "88  2017-05-31  2017    5   80,233.10      0.00      0.00   -1,481.22  -1.85   \n",
       "89  2017-06-30  2017    6   80,914.56      0.00      0.00      681.46   0.84   \n",
       "90  2017-07-31  2017    7   82,270.01      0.00      0.00    1,355.45   1.65   \n",
       "91  2017-08-31  2017    8   83,512.24      0.00      0.00    1,242.23   1.49   \n",
       "92  2017-09-30  2017    9   85,339.26      0.00      0.00    1,827.02   2.14   \n",
       "93  2017-10-31  2017   10  158,158.58 73,000.00      0.00     -180.68  -0.11   \n",
       "94  2017-11-30  2017   11  157,329.41      0.00      0.00     -829.17  -0.53   \n",
       "95  2017-12-31  2017   12  158,921.54      0.00      0.00    1,592.13   1.00   \n",
       "96  2018-01-31  2018    1  162,542.20      0.00      0.00    3,620.66   2.23   \n",
       "97  2018-02-28  2018    2  164,695.06      0.00      0.00    2,152.86   1.31   \n",
       "98  2018-03-31  2018    3  167,275.18      0.00      0.00    2,580.12   1.54   \n",
       "99  2018-04-30  2018    4  168,072.22 19,500.00 19,122.71      419.75   0.25   \n",
       "100 2018-05-31  2018    5  164,267.03      0.00      0.00   -3,805.19  -2.32   \n",
       "101 2018-06-30  2018    6  156,262.99 10,000.00 18,995.54   -9,008.50  -5.76   \n",
       "102 2018-07-31  2018    7  157,099.18      0.00      0.00      836.19   0.53   \n",
       "103 2018-08-31  2018    8  157,399.87      0.00      0.00      300.69   0.19   \n",
       "104 2018-09-30  2018    9  158,093.00      0.00      0.00      693.13   0.44   \n",
       "105 2018-10-31  2018   10  159,359.84      0.00      0.00    1,266.84   0.79   \n",
       "106 2018-11-30  2018   11  159,069.68      0.00      0.00     -290.16  -0.18   \n",
       "107 2018-12-31  2018   12  189,469.13 30,000.00      0.00      399.45   0.21   \n",
       "108 2019-01-31  2019    1  193,890.89      0.00      0.00    4,421.76   2.28   \n",
       "109 2019-02-28  2019    2  193,553.11      0.00      0.00     -337.78  -0.17   \n",
       "110 2019-03-31  2019    3  193,290.88      0.00      0.00     -262.23  -0.14   \n",
       "111 2019-04-30  2019    4  193,389.15      0.00      0.00       98.27   0.05   \n",
       "112 2019-05-31  2019    5  193,218.80      0.00      0.00     -170.35  -0.09   \n",
       "113 2019-06-30  2019    6  196,105.22      0.00      0.00    2,886.42   1.47   \n",
       "114 2019-07-31  2019    7  196,318.05      0.00      0.00      212.83   0.11   \n",
       "115 2019-08-31  2019    8  196,207.29      0.00      0.00     -110.76  -0.06   \n",
       "116 2019-09-30  2019    9  247,881.31 47,500.00      0.00    4,174.02   1.68   \n",
       "117 2019-10-31  2019   10  258,174.89      0.00      0.00   10,293.58   3.99   \n",
       "118 2019-11-30  2019   11  257,591.35      0.00      0.00     -583.54  -0.23   \n",
       "119 2019-12-31  2019   12  266,956.73      0.00      0.00    9,365.38   3.51   \n",
       "120 2020-01-31  2020    1  298,788.56 23,776.50      0.00    8,055.33   2.70   \n",
       "121 2020-02-29  2020    2  288,707.93      0.00      0.00  -10,080.63  -3.49   \n",
       "122 2020-03-31  2020    3  254,381.38 22,729.00 18,591.84  -38,463.71 -15.12   \n",
       "123 2020-04-30  2020    4  273,523.05      0.00      0.00   19,141.67   7.00   \n",
       "124 2020-05-31  2020    5  299,698.76  8,395.60      0.00   17,780.11   5.93   \n",
       "125 2020-06-30  2020    6  311,160.24      0.00 15,500.00   26,961.48   8.66   \n",
       "126 2020-07-31  2020    7  344,785.17 13,700.00      0.00   19,924.93   5.78   \n",
       "127 2020-08-31  2020    8  358,006.92 41,074.55 11,157.52    3,127.14   0.87   \n",
       "128 2020-09-30  2020    9  353,265.69 13,323.00  7,300.00  -10,764.23  -3.05   \n",
       "129 2020-10-31  2020   10  356,122.41 27,180.00 30,765.77    6,442.49   1.81   \n",
       "130 2020-12-31  2020   11  371,436.03  3,622.50      0.00   11,691.12   3.15   \n",
       "\n",
       "     renda_acum  aporte_acum  retirada_acum  investido  % renda_acum  \n",
       "0          0.00         0.00           0.00       0.00          0.00  \n",
       "1          0.00         0.00           0.00       0.00          0.00  \n",
       "2          0.00         0.00           0.00       0.00          0.00  \n",
       "3          0.00         0.00           0.00       0.00          0.00  \n",
       "4          0.00         0.00           0.00       0.00          0.00  \n",
       "5          0.00         0.00           0.00       0.00          0.00  \n",
       "6          0.00         0.00           0.00       0.00          0.00  \n",
       "7          0.00         0.00           0.00       0.00          0.00  \n",
       "8          0.00         0.00           0.00       0.00          0.00  \n",
       "9          0.00         0.00           0.00       0.00          0.00  \n",
       "10         0.00         0.00           0.00       0.00          0.00  \n",
       "11         0.00         0.00           0.00       0.00          0.00  \n",
       "12         0.00         0.00           0.00       0.00          0.00  \n",
       "13         0.00         0.00           0.00       0.00          0.00  \n",
       "14         0.00         0.00           0.00       0.00          0.00  \n",
       "15         0.00         0.00           0.00       0.00          0.00  \n",
       "16         0.00         0.00           0.00       0.00          0.00  \n",
       "17         0.00         0.00           0.00       0.00          0.00  \n",
       "18         0.00         0.00           0.00       0.00          0.00  \n",
       "19         0.00         0.00           0.00       0.00          0.00  \n",
       "20         0.00         0.00           0.00       0.00          0.00  \n",
       "21         0.00         0.00           0.00       0.00          0.00  \n",
       "22         0.00         0.00           0.00       0.00          0.00  \n",
       "23         0.00         0.00           0.00       0.00          0.00  \n",
       "24         0.00         0.00           0.00       0.00          0.00  \n",
       "25         0.00         0.00           0.00       0.00          0.00  \n",
       "26         0.00         0.00           0.00       0.00          0.00  \n",
       "27         0.00         0.00           0.00       0.00          0.00  \n",
       "28         0.00         0.00           0.00       0.00          0.00  \n",
       "29         0.00         0.00           0.00       0.00          0.00  \n",
       "30         0.00         0.00           0.00       0.00          0.00  \n",
       "31         0.00         0.00           0.00       0.00          0.00  \n",
       "32         0.00         0.00           0.00       0.00          0.00  \n",
       "33         0.00         0.00           0.00       0.00          0.00  \n",
       "34         0.00         0.00           0.00       0.00          0.00  \n",
       "35         0.00         0.00           0.00       0.00          0.00  \n",
       "36         0.00     1,700.00           0.00   1,700.00          0.00  \n",
       "37         0.00     1,700.00           0.00   1,700.00          0.00  \n",
       "38         0.00     1,700.00           0.00   1,700.00          0.00  \n",
       "39         0.00     1,700.00           0.00   1,700.00          0.00  \n",
       "40         0.00     2,400.00           0.00   2,400.00          0.00  \n",
       "41         0.00     7,400.00           0.00   7,400.00          0.00  \n",
       "42         0.00     7,400.00           0.00   7,400.00          0.00  \n",
       "43         0.00    17,600.00           0.00  17,600.00          0.00  \n",
       "44         0.00    17,600.00           0.00  17,600.00          0.00  \n",
       "45         0.00    17,600.00           0.00  17,600.00          0.00  \n",
       "46         0.00    17,600.00           0.00  17,600.00          0.00  \n",
       "47         0.00    17,600.00           0.00  17,600.00          0.00  \n",
       "48         0.00    22,600.00           0.00  22,600.00          0.00  \n",
       "49         0.00    22,600.00           0.00  22,600.00          0.00  \n",
       "50         0.00    22,600.00           0.00  22,600.00          0.00  \n",
       "51         0.00    23,485.17           0.00  23,485.17          0.00  \n",
       "52         0.00    23,485.17           0.00  23,485.17          0.00  \n",
       "53         0.00    23,485.17           0.00  23,485.17          0.00  \n",
       "54     3,104.53    32,795.78           0.00  32,795.78          9.47  \n",
       "55     3,539.84    32,795.78           0.00  32,795.78         10.79  \n",
       "56     4,204.28    32,795.78           0.00  32,795.78         12.82  \n",
       "57     3,859.81    32,795.78           0.00  32,795.78         11.77  \n",
       "58     3,354.38    32,795.78           0.00  32,795.78         10.23  \n",
       "59     2,698.90    32,795.78           0.00  32,795.78          8.23  \n",
       "60     3,007.50    37,795.78           0.00  37,795.78          7.96  \n",
       "61     2,234.35    43,095.78       5,144.33  37,951.45          5.89  \n",
       "62     2,515.29    43,095.78       5,144.33  37,951.45          6.63  \n",
       "63     3,457.79    43,095.78       5,144.33  37,951.45          9.11  \n",
       "64     4,252.03    43,095.78       5,144.33  37,951.45         11.20  \n",
       "65     3,818.01    43,095.78       5,144.33  37,951.45         10.06  \n",
       "66     3,720.49    43,095.78       5,144.33  37,951.45          9.80  \n",
       "67     3,266.97    43,095.78       5,144.33  37,951.45          8.61  \n",
       "68     2,720.20    43,095.78      40,642.68   2,453.10        110.89  \n",
       "69     2,708.85    43,095.78      40,642.68   2,453.10        110.43  \n",
       "70     2,863.04    43,095.78      40,642.68   2,453.10        116.71  \n",
       "71     2,660.90    43,095.78      40,642.68   2,453.10        108.47  \n",
       "72     2,457.90    43,095.78      40,642.68   2,453.10        100.20  \n",
       "73     2,269.68    43,095.78      40,642.68   2,453.10         92.52  \n",
       "74     2,706.87    43,095.78      40,642.68   2,453.10        110.34  \n",
       "75     3,572.55    74,095.78      40,642.68  33,453.10         10.68  \n",
       "76     4,205.40    74,095.78      40,642.68  33,453.10         12.57  \n",
       "77     4,375.62    74,095.78      40,642.68  33,453.10         13.08  \n",
       "78     5,220.03    74,095.78      40,642.68  33,453.10         15.60  \n",
       "79     5,539.35    74,095.78      40,642.68  33,453.10         16.56  \n",
       "80     5,729.46    74,095.78      40,642.68  33,453.10         17.13  \n",
       "81     6,560.15    74,095.78      40,642.68  33,453.10         19.61  \n",
       "82     6,685.09    82,495.78      40,642.68  41,853.10         15.97  \n",
       "83     7,230.56    82,495.78      40,642.68  41,853.10         17.28  \n",
       "84     8,337.18    82,495.78      40,642.68  41,853.10         19.92  \n",
       "85     9,668.72    82,495.78      40,642.68  41,853.10         23.10  \n",
       "86     9,419.88   112,595.78      40,642.68  71,953.10         13.09  \n",
       "87     9,761.22   112,595.78      40,642.68  71,953.10         13.57  \n",
       "88     8,280.00   112,595.78      40,642.68  71,953.10         11.51  \n",
       "89     8,961.46   112,595.78      40,642.68  71,953.10         12.45  \n",
       "90    10,316.91   112,595.78      40,642.68  71,953.10         14.34  \n",
       "91    11,559.14   112,595.78      40,642.68  71,953.10         16.06  \n",
       "92    13,386.16   112,595.78      40,642.68  71,953.10         18.60  \n",
       "93    13,205.48   185,595.78      40,642.68 144,953.10          9.11  \n",
       "94    12,376.31   185,595.78      40,642.68 144,953.10          8.54  \n",
       "95    13,968.44   185,595.78      40,642.68 144,953.10          9.64  \n",
       "96    17,589.10   185,595.78      40,642.68 144,953.10         12.13  \n",
       "97    19,741.96   185,595.78      40,642.68 144,953.10         13.62  \n",
       "98    22,322.08   185,595.78      40,642.68 144,953.10         15.40  \n",
       "99    22,741.83   205,095.78      59,765.39 145,330.39         15.65  \n",
       "100   18,936.64   205,095.78      59,765.39 145,330.39         13.03  \n",
       "101    9,928.14   215,095.78      78,760.93 136,334.85          7.28  \n",
       "102   10,764.33   215,095.78      78,760.93 136,334.85          7.90  \n",
       "103   11,065.02   215,095.78      78,760.93 136,334.85          8.12  \n",
       "104   11,758.15   215,095.78      78,760.93 136,334.85          8.62  \n",
       "105   13,024.99   215,095.78      78,760.93 136,334.85          9.55  \n",
       "106   12,734.83   215,095.78      78,760.93 136,334.85          9.34  \n",
       "107   13,134.28   245,095.78      78,760.93 166,334.85          7.90  \n",
       "108   17,556.04   245,095.78      78,760.93 166,334.85         10.55  \n",
       "109   17,218.26   245,095.78      78,760.93 166,334.85         10.35  \n",
       "110   16,956.03   245,095.78      78,760.93 166,334.85         10.19  \n",
       "111   17,054.30   245,095.78      78,760.93 166,334.85         10.25  \n",
       "112   16,883.95   245,095.78      78,760.93 166,334.85         10.15  \n",
       "113   19,770.37   245,095.78      78,760.93 166,334.85         11.89  \n",
       "114   19,983.20   245,095.78      78,760.93 166,334.85         12.01  \n",
       "115   19,872.44   245,095.78      78,760.93 166,334.85         11.95  \n",
       "116   24,046.46   292,595.78      78,760.93 213,834.85         11.25  \n",
       "117   34,340.04   292,595.78      78,760.93 213,834.85         16.06  \n",
       "118   33,756.50   292,595.78      78,760.93 213,834.85         15.79  \n",
       "119   43,121.88   292,595.78      78,760.93 213,834.85         20.17  \n",
       "120   51,177.21   316,372.28      78,760.93 237,611.35         21.54  \n",
       "121   41,096.58   316,372.28      78,760.93 237,611.35         17.30  \n",
       "122    2,632.87   339,101.28      97,352.77 241,748.51          1.09  \n",
       "123   21,774.54   339,101.28      97,352.77 241,748.51          9.01  \n",
       "124   39,554.65   347,496.88      97,352.77 250,144.11         15.81  \n",
       "125   66,516.13   347,496.88     112,852.77 234,644.11         28.35  \n",
       "126   86,441.06   361,196.88     112,852.77 248,344.11         34.81  \n",
       "127   89,568.20   402,271.43     124,010.29 278,261.14         32.19  \n",
       "128   78,803.97   415,594.43     131,310.29 284,284.14         27.72  \n",
       "129   85,246.46   442,774.43     162,076.06 280,698.37         30.37  \n",
       "130   96,937.58   446,396.93     162,076.06 284,320.87         34.09  "
      ]
     },
     "execution_count": 172,
     "metadata": {},
     "output_type": "execute_result"
    }
   ],
   "source": [
    "df_graph1.fillna(0)"
   ]
  },
  {
   "cell_type": "code",
   "execution_count": 173,
   "metadata": {},
   "outputs": [
    {
     "data": {
      "text/html": [
       "<div>\n",
       "<style scoped>\n",
       "    .dataframe tbody tr th:only-of-type {\n",
       "        vertical-align: middle;\n",
       "    }\n",
       "\n",
       "    .dataframe tbody tr th {\n",
       "        vertical-align: top;\n",
       "    }\n",
       "\n",
       "    .dataframe thead th {\n",
       "        text-align: right;\n",
       "    }\n",
       "</style>\n",
       "<table border=\"1\" class=\"dataframe\">\n",
       "  <thead>\n",
       "    <tr style=\"text-align: right;\">\n",
       "      <th></th>\n",
       "      <th>Data</th>\n",
       "      <th>ano</th>\n",
       "      <th>mes</th>\n",
       "      <th>financeiro</th>\n",
       "      <th>aporte</th>\n",
       "      <th>retirada</th>\n",
       "      <th>rendimento</th>\n",
       "      <th>%</th>\n",
       "      <th>renda_acum</th>\n",
       "      <th>aporte_acum</th>\n",
       "      <th>retirada_acum</th>\n",
       "      <th>investido</th>\n",
       "      <th>% renda_acum</th>\n",
       "    </tr>\n",
       "  </thead>\n",
       "  <tbody>\n",
       "    <tr>\n",
       "      <th>130</th>\n",
       "      <td>2020-12-31</td>\n",
       "      <td>2020</td>\n",
       "      <td>11</td>\n",
       "      <td>371,436.03</td>\n",
       "      <td>3,622.50</td>\n",
       "      <td>0.00</td>\n",
       "      <td>11,691.12</td>\n",
       "      <td>3.15</td>\n",
       "      <td>96,937.58</td>\n",
       "      <td>446,396.93</td>\n",
       "      <td>162,076.06</td>\n",
       "      <td>284,320.87</td>\n",
       "      <td>34.09</td>\n",
       "    </tr>\n",
       "  </tbody>\n",
       "</table>\n",
       "</div>"
      ],
      "text/plain": [
       "          Data   ano  mes  financeiro   aporte  retirada  rendimento    %  \\\n",
       "130 2020-12-31  2020   11  371,436.03 3,622.50      0.00   11,691.12 3.15   \n",
       "\n",
       "     renda_acum  aporte_acum  retirada_acum  investido  % renda_acum  \n",
       "130   96,937.58   446,396.93     162,076.06 284,320.87         34.09  "
      ]
     },
     "execution_count": 173,
     "metadata": {},
     "output_type": "execute_result"
    }
   ],
   "source": [
    "df_graph1.tail(1)"
   ]
  },
  {
   "cell_type": "code",
   "execution_count": 229,
   "metadata": {},
   "outputs": [],
   "source": [
    "def create_graph1(df):\n",
    "\n",
    "    fig = go.Figure()\n",
    "    data = []\n",
    "\n",
    "    fig.add_trace(\n",
    "        go.Scatter(x=df['Data'],\n",
    "                y=df['%'],\n",
    "                mode='lines',\n",
    "                name='% Rendimento',\n",
    "                textposition='top center',\n",
    "                text=df['%'].apply(lambda x: f'{x:,.2f}%'),\n",
    "                marker=dict(size=7),\n",
    "                line=dict(color='rgb(115,115,115)', width=1.8),\n",
    "                opacity=.8))  \n",
    "\n",
    "    fig.update_xaxes(\n",
    "        rangeslider_visible=True,\n",
    "        rangeselector=dict(\n",
    "            buttons=list([\n",
    "                dict(count=1, label=\"1m\", step=\"month\", stepmode=\"backward\"),\n",
    "                dict(count=6, label=\"6m\", step=\"month\", stepmode=\"backward\"),\n",
    "                dict(count=1, label=\"YTD\", step=\"year\", stepmode=\"todate\"),\n",
    "                dict(count=1, label=\"1y\", step=\"year\", stepmode=\"backward\"),\n",
    "                dict(step=\"all\")\n",
    "            ])\n",
    "        )\n",
    "    )\n",
    "\n",
    "    fig.update_layout(\n",
    "        template='plotly_white', \n",
    "        legend_orientation='h', \n",
    "        #height=600, \n",
    "        #width=1000, \n",
    "        title={\n",
    "            'y':0.9,\n",
    "            'xanchor': 'left',\n",
    "            'yanchor': 'top'}\n",
    "        \n",
    "    )\n",
    "\n",
    "\n",
    "    fig.show()"
   ]
  },
  {
   "cell_type": "code",
   "execution_count": 230,
   "metadata": {},
   "outputs": [
    {
     "data": {
      "application/vnd.plotly.v1+json": {
       "config": {
        "plotlyServerURL": "https://plot.ly"
       },
       "data": [
        {
         "line": {
          "color": "rgb(115,115,115)",
          "width": 1.8
         },
         "marker": {
          "size": 7
         },
         "mode": "lines",
         "name": "% Rendimento",
         "opacity": 0.8,
         "text": [
          "nan%",
          "nan%",
          "nan%",
          "nan%",
          "nan%",
          "nan%",
          "8.65%",
          "1.20%",
          "1.80%",
          "-0.94%",
          "-1.40%",
          "-1.85%",
          "0.76%",
          "-1.92%",
          "0.69%",
          "2.28%",
          "1.88%",
          "-1.04%",
          "-0.23%",
          "-1.10%",
          "-10.57%",
          "-0.22%",
          "2.90%",
          "-3.95%",
          "-4.13%",
          "-3.99%",
          "8.47%",
          "2.34%",
          "1.68%",
          "0.45%",
          "2.18%",
          "0.82%",
          "0.49%",
          "2.08%",
          "0.26%",
          "1.11%",
          "2.20%",
          "2.58%",
          "-0.31%",
          "0.42%",
          "-1.85%",
          "0.84%",
          "1.65%",
          "1.49%",
          "2.14%",
          "-0.11%",
          "-0.53%",
          "1.00%",
          "2.23%",
          "1.31%",
          "1.54%",
          "0.25%",
          "-2.32%",
          "-5.76%",
          "0.53%",
          "0.19%",
          "0.44%",
          "0.79%",
          "-0.18%",
          "0.21%",
          "2.28%",
          "-0.17%",
          "-0.14%",
          "0.05%",
          "-0.09%",
          "1.47%",
          "0.11%",
          "-0.06%",
          "1.68%",
          "3.99%",
          "-0.23%",
          "3.51%",
          "2.70%",
          "-3.49%",
          "-15.12%",
          "7.00%",
          "5.93%",
          "8.66%",
          "5.78%",
          "0.87%",
          "-3.05%",
          "1.81%",
          "3.15%"
         ],
         "textposition": "top center",
         "type": "scatter",
         "x": [
          "2014-01-31T00:00:00",
          "2014-02-28T00:00:00",
          "2014-03-31T00:00:00",
          "2014-04-30T00:00:00",
          "2014-05-31T00:00:00",
          "2014-06-30T00:00:00",
          "2014-07-31T00:00:00",
          "2014-08-31T00:00:00",
          "2014-09-30T00:00:00",
          "2014-10-31T00:00:00",
          "2014-11-30T00:00:00",
          "2014-12-31T00:00:00",
          "2015-01-31T00:00:00",
          "2015-02-28T00:00:00",
          "2015-03-31T00:00:00",
          "2015-04-30T00:00:00",
          "2015-05-31T00:00:00",
          "2015-06-30T00:00:00",
          "2015-07-31T00:00:00",
          "2015-08-31T00:00:00",
          "2015-09-30T00:00:00",
          "2015-10-31T00:00:00",
          "2015-11-30T00:00:00",
          "2015-12-31T00:00:00",
          "2016-01-31T00:00:00",
          "2016-02-29T00:00:00",
          "2016-03-31T00:00:00",
          "2016-04-30T00:00:00",
          "2016-05-31T00:00:00",
          "2016-06-30T00:00:00",
          "2016-07-31T00:00:00",
          "2016-08-31T00:00:00",
          "2016-09-30T00:00:00",
          "2016-10-31T00:00:00",
          "2016-11-30T00:00:00",
          "2016-12-31T00:00:00",
          "2017-01-31T00:00:00",
          "2017-02-28T00:00:00",
          "2017-03-31T00:00:00",
          "2017-04-30T00:00:00",
          "2017-05-31T00:00:00",
          "2017-06-30T00:00:00",
          "2017-07-31T00:00:00",
          "2017-08-31T00:00:00",
          "2017-09-30T00:00:00",
          "2017-10-31T00:00:00",
          "2017-11-30T00:00:00",
          "2017-12-31T00:00:00",
          "2018-01-31T00:00:00",
          "2018-02-28T00:00:00",
          "2018-03-31T00:00:00",
          "2018-04-30T00:00:00",
          "2018-05-31T00:00:00",
          "2018-06-30T00:00:00",
          "2018-07-31T00:00:00",
          "2018-08-31T00:00:00",
          "2018-09-30T00:00:00",
          "2018-10-31T00:00:00",
          "2018-11-30T00:00:00",
          "2018-12-31T00:00:00",
          "2019-01-31T00:00:00",
          "2019-02-28T00:00:00",
          "2019-03-31T00:00:00",
          "2019-04-30T00:00:00",
          "2019-05-31T00:00:00",
          "2019-06-30T00:00:00",
          "2019-07-31T00:00:00",
          "2019-08-31T00:00:00",
          "2019-09-30T00:00:00",
          "2019-10-31T00:00:00",
          "2019-11-30T00:00:00",
          "2019-12-31T00:00:00",
          "2020-01-31T00:00:00",
          "2020-02-29T00:00:00",
          "2020-03-31T00:00:00",
          "2020-04-30T00:00:00",
          "2020-05-31T00:00:00",
          "2020-06-30T00:00:00",
          "2020-07-31T00:00:00",
          "2020-08-31T00:00:00",
          "2020-09-30T00:00:00",
          "2020-10-31T00:00:00",
          "2020-12-31T00:00:00"
         ],
         "y": [
          null,
          null,
          null,
          null,
          null,
          null,
          8.64764120421244,
          1.19802551876093,
          1.7957808717067016,
          -0.9397475255479487,
          -1.398140423168247,
          -1.8466992800047801,
          0.7563117474869582,
          -1.923938306565992,
          0.6942491537494765,
          2.2760620576470343,
          1.881930115715575,
          -1.0390845368841224,
          -0.2340183826334993,
          -1.1002847755930423,
          -10.569075831674203,
          -0.21987814682436607,
          2.9004127054592264,
          -3.9526789206100887,
          -4.133577682753003,
          -3.985364552234062,
          8.472723678626037,
          2.3380548349590096,
          1.6804970989285228,
          0.44997557411406186,
          2.1834539898891,
          0.8189277667856263,
          0.48519034999244526,
          2.0760373126401843,
          0.2574055604463227,
          1.1113066955479678,
          2.204849225786353,
          2.584419572134677,
          -0.3058017538499891,
          0.4177236009551351,
          -1.8461457926965323,
          0.8421970038519645,
          1.647562702374777,
          1.4874825534556375,
          2.1408903709734504,
          -0.11423977124731385,
          -0.527027972710247,
          1.001833986758491,
          2.227519991731379,
          1.3071794624562518,
          1.5424404266072298,
          0.24974383036053446,
          -2.3164660613879713,
          -5.76496072422523,
          0.5322688507985827,
          0.19103573592532044,
          0.43843180912501256,
          0.7949556174253223,
          -0.18241062658830057,
          0.21082590076810823,
          2.280540359580585,
          -0.17451540819984976,
          -0.13566599727829415,
          0.050814639807868135,
          -0.08816429871213173,
          1.4718731097519988,
          0.10841081602022457,
          -0.05645050191559539,
          1.6838784658673918,
          3.9870569907088953,
          -0.22653711003882632,
          3.5082014976734257,
          2.6959967945225225,
          -3.4916359935108163,
          -15.120489557844207,
          6.998192656889427,
          5.9326605155123096,
          8.664821700870265,
          5.778940550140251,
          0.8734859091550486,
          -3.0470635288697268,
          1.809066157897786,
          3.147546025623846
         ]
        }
       ],
       "layout": {
        "legend": {
         "orientation": "h"
        },
        "template": {
         "data": {
          "bar": [
           {
            "error_x": {
             "color": "#2a3f5f"
            },
            "error_y": {
             "color": "#2a3f5f"
            },
            "marker": {
             "line": {
              "color": "white",
              "width": 0.5
             }
            },
            "type": "bar"
           }
          ],
          "barpolar": [
           {
            "marker": {
             "line": {
              "color": "white",
              "width": 0.5
             }
            },
            "type": "barpolar"
           }
          ],
          "carpet": [
           {
            "aaxis": {
             "endlinecolor": "#2a3f5f",
             "gridcolor": "#C8D4E3",
             "linecolor": "#C8D4E3",
             "minorgridcolor": "#C8D4E3",
             "startlinecolor": "#2a3f5f"
            },
            "baxis": {
             "endlinecolor": "#2a3f5f",
             "gridcolor": "#C8D4E3",
             "linecolor": "#C8D4E3",
             "minorgridcolor": "#C8D4E3",
             "startlinecolor": "#2a3f5f"
            },
            "type": "carpet"
           }
          ],
          "choropleth": [
           {
            "colorbar": {
             "outlinewidth": 0,
             "ticks": ""
            },
            "type": "choropleth"
           }
          ],
          "contour": [
           {
            "colorbar": {
             "outlinewidth": 0,
             "ticks": ""
            },
            "colorscale": [
             [
              0,
              "#0d0887"
             ],
             [
              0.1111111111111111,
              "#46039f"
             ],
             [
              0.2222222222222222,
              "#7201a8"
             ],
             [
              0.3333333333333333,
              "#9c179e"
             ],
             [
              0.4444444444444444,
              "#bd3786"
             ],
             [
              0.5555555555555556,
              "#d8576b"
             ],
             [
              0.6666666666666666,
              "#ed7953"
             ],
             [
              0.7777777777777778,
              "#fb9f3a"
             ],
             [
              0.8888888888888888,
              "#fdca26"
             ],
             [
              1,
              "#f0f921"
             ]
            ],
            "type": "contour"
           }
          ],
          "contourcarpet": [
           {
            "colorbar": {
             "outlinewidth": 0,
             "ticks": ""
            },
            "type": "contourcarpet"
           }
          ],
          "heatmap": [
           {
            "colorbar": {
             "outlinewidth": 0,
             "ticks": ""
            },
            "colorscale": [
             [
              0,
              "#0d0887"
             ],
             [
              0.1111111111111111,
              "#46039f"
             ],
             [
              0.2222222222222222,
              "#7201a8"
             ],
             [
              0.3333333333333333,
              "#9c179e"
             ],
             [
              0.4444444444444444,
              "#bd3786"
             ],
             [
              0.5555555555555556,
              "#d8576b"
             ],
             [
              0.6666666666666666,
              "#ed7953"
             ],
             [
              0.7777777777777778,
              "#fb9f3a"
             ],
             [
              0.8888888888888888,
              "#fdca26"
             ],
             [
              1,
              "#f0f921"
             ]
            ],
            "type": "heatmap"
           }
          ],
          "heatmapgl": [
           {
            "colorbar": {
             "outlinewidth": 0,
             "ticks": ""
            },
            "colorscale": [
             [
              0,
              "#0d0887"
             ],
             [
              0.1111111111111111,
              "#46039f"
             ],
             [
              0.2222222222222222,
              "#7201a8"
             ],
             [
              0.3333333333333333,
              "#9c179e"
             ],
             [
              0.4444444444444444,
              "#bd3786"
             ],
             [
              0.5555555555555556,
              "#d8576b"
             ],
             [
              0.6666666666666666,
              "#ed7953"
             ],
             [
              0.7777777777777778,
              "#fb9f3a"
             ],
             [
              0.8888888888888888,
              "#fdca26"
             ],
             [
              1,
              "#f0f921"
             ]
            ],
            "type": "heatmapgl"
           }
          ],
          "histogram": [
           {
            "marker": {
             "colorbar": {
              "outlinewidth": 0,
              "ticks": ""
             }
            },
            "type": "histogram"
           }
          ],
          "histogram2d": [
           {
            "colorbar": {
             "outlinewidth": 0,
             "ticks": ""
            },
            "colorscale": [
             [
              0,
              "#0d0887"
             ],
             [
              0.1111111111111111,
              "#46039f"
             ],
             [
              0.2222222222222222,
              "#7201a8"
             ],
             [
              0.3333333333333333,
              "#9c179e"
             ],
             [
              0.4444444444444444,
              "#bd3786"
             ],
             [
              0.5555555555555556,
              "#d8576b"
             ],
             [
              0.6666666666666666,
              "#ed7953"
             ],
             [
              0.7777777777777778,
              "#fb9f3a"
             ],
             [
              0.8888888888888888,
              "#fdca26"
             ],
             [
              1,
              "#f0f921"
             ]
            ],
            "type": "histogram2d"
           }
          ],
          "histogram2dcontour": [
           {
            "colorbar": {
             "outlinewidth": 0,
             "ticks": ""
            },
            "colorscale": [
             [
              0,
              "#0d0887"
             ],
             [
              0.1111111111111111,
              "#46039f"
             ],
             [
              0.2222222222222222,
              "#7201a8"
             ],
             [
              0.3333333333333333,
              "#9c179e"
             ],
             [
              0.4444444444444444,
              "#bd3786"
             ],
             [
              0.5555555555555556,
              "#d8576b"
             ],
             [
              0.6666666666666666,
              "#ed7953"
             ],
             [
              0.7777777777777778,
              "#fb9f3a"
             ],
             [
              0.8888888888888888,
              "#fdca26"
             ],
             [
              1,
              "#f0f921"
             ]
            ],
            "type": "histogram2dcontour"
           }
          ],
          "mesh3d": [
           {
            "colorbar": {
             "outlinewidth": 0,
             "ticks": ""
            },
            "type": "mesh3d"
           }
          ],
          "parcoords": [
           {
            "line": {
             "colorbar": {
              "outlinewidth": 0,
              "ticks": ""
             }
            },
            "type": "parcoords"
           }
          ],
          "pie": [
           {
            "automargin": true,
            "type": "pie"
           }
          ],
          "scatter": [
           {
            "marker": {
             "colorbar": {
              "outlinewidth": 0,
              "ticks": ""
             }
            },
            "type": "scatter"
           }
          ],
          "scatter3d": [
           {
            "line": {
             "colorbar": {
              "outlinewidth": 0,
              "ticks": ""
             }
            },
            "marker": {
             "colorbar": {
              "outlinewidth": 0,
              "ticks": ""
             }
            },
            "type": "scatter3d"
           }
          ],
          "scattercarpet": [
           {
            "marker": {
             "colorbar": {
              "outlinewidth": 0,
              "ticks": ""
             }
            },
            "type": "scattercarpet"
           }
          ],
          "scattergeo": [
           {
            "marker": {
             "colorbar": {
              "outlinewidth": 0,
              "ticks": ""
             }
            },
            "type": "scattergeo"
           }
          ],
          "scattergl": [
           {
            "marker": {
             "colorbar": {
              "outlinewidth": 0,
              "ticks": ""
             }
            },
            "type": "scattergl"
           }
          ],
          "scattermapbox": [
           {
            "marker": {
             "colorbar": {
              "outlinewidth": 0,
              "ticks": ""
             }
            },
            "type": "scattermapbox"
           }
          ],
          "scatterpolar": [
           {
            "marker": {
             "colorbar": {
              "outlinewidth": 0,
              "ticks": ""
             }
            },
            "type": "scatterpolar"
           }
          ],
          "scatterpolargl": [
           {
            "marker": {
             "colorbar": {
              "outlinewidth": 0,
              "ticks": ""
             }
            },
            "type": "scatterpolargl"
           }
          ],
          "scatterternary": [
           {
            "marker": {
             "colorbar": {
              "outlinewidth": 0,
              "ticks": ""
             }
            },
            "type": "scatterternary"
           }
          ],
          "surface": [
           {
            "colorbar": {
             "outlinewidth": 0,
             "ticks": ""
            },
            "colorscale": [
             [
              0,
              "#0d0887"
             ],
             [
              0.1111111111111111,
              "#46039f"
             ],
             [
              0.2222222222222222,
              "#7201a8"
             ],
             [
              0.3333333333333333,
              "#9c179e"
             ],
             [
              0.4444444444444444,
              "#bd3786"
             ],
             [
              0.5555555555555556,
              "#d8576b"
             ],
             [
              0.6666666666666666,
              "#ed7953"
             ],
             [
              0.7777777777777778,
              "#fb9f3a"
             ],
             [
              0.8888888888888888,
              "#fdca26"
             ],
             [
              1,
              "#f0f921"
             ]
            ],
            "type": "surface"
           }
          ],
          "table": [
           {
            "cells": {
             "fill": {
              "color": "#EBF0F8"
             },
             "line": {
              "color": "white"
             }
            },
            "header": {
             "fill": {
              "color": "#C8D4E3"
             },
             "line": {
              "color": "white"
             }
            },
            "type": "table"
           }
          ]
         },
         "layout": {
          "annotationdefaults": {
           "arrowcolor": "#2a3f5f",
           "arrowhead": 0,
           "arrowwidth": 1
          },
          "autotypenumbers": "strict",
          "coloraxis": {
           "colorbar": {
            "outlinewidth": 0,
            "ticks": ""
           }
          },
          "colorscale": {
           "diverging": [
            [
             0,
             "#8e0152"
            ],
            [
             0.1,
             "#c51b7d"
            ],
            [
             0.2,
             "#de77ae"
            ],
            [
             0.3,
             "#f1b6da"
            ],
            [
             0.4,
             "#fde0ef"
            ],
            [
             0.5,
             "#f7f7f7"
            ],
            [
             0.6,
             "#e6f5d0"
            ],
            [
             0.7,
             "#b8e186"
            ],
            [
             0.8,
             "#7fbc41"
            ],
            [
             0.9,
             "#4d9221"
            ],
            [
             1,
             "#276419"
            ]
           ],
           "sequential": [
            [
             0,
             "#0d0887"
            ],
            [
             0.1111111111111111,
             "#46039f"
            ],
            [
             0.2222222222222222,
             "#7201a8"
            ],
            [
             0.3333333333333333,
             "#9c179e"
            ],
            [
             0.4444444444444444,
             "#bd3786"
            ],
            [
             0.5555555555555556,
             "#d8576b"
            ],
            [
             0.6666666666666666,
             "#ed7953"
            ],
            [
             0.7777777777777778,
             "#fb9f3a"
            ],
            [
             0.8888888888888888,
             "#fdca26"
            ],
            [
             1,
             "#f0f921"
            ]
           ],
           "sequentialminus": [
            [
             0,
             "#0d0887"
            ],
            [
             0.1111111111111111,
             "#46039f"
            ],
            [
             0.2222222222222222,
             "#7201a8"
            ],
            [
             0.3333333333333333,
             "#9c179e"
            ],
            [
             0.4444444444444444,
             "#bd3786"
            ],
            [
             0.5555555555555556,
             "#d8576b"
            ],
            [
             0.6666666666666666,
             "#ed7953"
            ],
            [
             0.7777777777777778,
             "#fb9f3a"
            ],
            [
             0.8888888888888888,
             "#fdca26"
            ],
            [
             1,
             "#f0f921"
            ]
           ]
          },
          "colorway": [
           "#636efa",
           "#EF553B",
           "#00cc96",
           "#ab63fa",
           "#FFA15A",
           "#19d3f3",
           "#FF6692",
           "#B6E880",
           "#FF97FF",
           "#FECB52"
          ],
          "font": {
           "color": "#2a3f5f"
          },
          "geo": {
           "bgcolor": "white",
           "lakecolor": "white",
           "landcolor": "white",
           "showlakes": true,
           "showland": true,
           "subunitcolor": "#C8D4E3"
          },
          "hoverlabel": {
           "align": "left"
          },
          "hovermode": "closest",
          "mapbox": {
           "style": "light"
          },
          "paper_bgcolor": "white",
          "plot_bgcolor": "white",
          "polar": {
           "angularaxis": {
            "gridcolor": "#EBF0F8",
            "linecolor": "#EBF0F8",
            "ticks": ""
           },
           "bgcolor": "white",
           "radialaxis": {
            "gridcolor": "#EBF0F8",
            "linecolor": "#EBF0F8",
            "ticks": ""
           }
          },
          "scene": {
           "xaxis": {
            "backgroundcolor": "white",
            "gridcolor": "#DFE8F3",
            "gridwidth": 2,
            "linecolor": "#EBF0F8",
            "showbackground": true,
            "ticks": "",
            "zerolinecolor": "#EBF0F8"
           },
           "yaxis": {
            "backgroundcolor": "white",
            "gridcolor": "#DFE8F3",
            "gridwidth": 2,
            "linecolor": "#EBF0F8",
            "showbackground": true,
            "ticks": "",
            "zerolinecolor": "#EBF0F8"
           },
           "zaxis": {
            "backgroundcolor": "white",
            "gridcolor": "#DFE8F3",
            "gridwidth": 2,
            "linecolor": "#EBF0F8",
            "showbackground": true,
            "ticks": "",
            "zerolinecolor": "#EBF0F8"
           }
          },
          "shapedefaults": {
           "line": {
            "color": "#2a3f5f"
           }
          },
          "ternary": {
           "aaxis": {
            "gridcolor": "#DFE8F3",
            "linecolor": "#A2B1C6",
            "ticks": ""
           },
           "baxis": {
            "gridcolor": "#DFE8F3",
            "linecolor": "#A2B1C6",
            "ticks": ""
           },
           "bgcolor": "white",
           "caxis": {
            "gridcolor": "#DFE8F3",
            "linecolor": "#A2B1C6",
            "ticks": ""
           }
          },
          "title": {
           "x": 0.05
          },
          "xaxis": {
           "automargin": true,
           "gridcolor": "#EBF0F8",
           "linecolor": "#EBF0F8",
           "ticks": "",
           "title": {
            "standoff": 15
           },
           "zerolinecolor": "#EBF0F8",
           "zerolinewidth": 2
          },
          "yaxis": {
           "automargin": true,
           "gridcolor": "#EBF0F8",
           "linecolor": "#EBF0F8",
           "ticks": "",
           "title": {
            "standoff": 15
           },
           "zerolinecolor": "#EBF0F8",
           "zerolinewidth": 2
          }
         }
        },
        "title": {
         "xanchor": "left",
         "y": 0.9,
         "yanchor": "top"
        },
        "xaxis": {
         "rangeselector": {
          "buttons": [
           {
            "count": 1,
            "label": "1m",
            "step": "month",
            "stepmode": "backward"
           },
           {
            "count": 6,
            "label": "6m",
            "step": "month",
            "stepmode": "backward"
           },
           {
            "count": 1,
            "label": "YTD",
            "step": "year",
            "stepmode": "todate"
           },
           {
            "count": 1,
            "label": "1y",
            "step": "year",
            "stepmode": "backward"
           },
           {
            "step": "all"
           }
          ]
         },
         "rangeslider": {
          "visible": true
         }
        }
       }
      },
      "text/html": [
       "<div>                            <div id=\"89eb337e-b72d-4a6c-b2e0-5c25239ec938\" class=\"plotly-graph-div\" style=\"height:525px; width:100%;\"></div>            <script type=\"text/javascript\">                require([\"plotly\"], function(Plotly) {                    window.PLOTLYENV=window.PLOTLYENV || {};                                    if (document.getElementById(\"89eb337e-b72d-4a6c-b2e0-5c25239ec938\")) {                    Plotly.newPlot(                        \"89eb337e-b72d-4a6c-b2e0-5c25239ec938\",                        [{\"line\": {\"color\": \"rgb(115,115,115)\", \"width\": 1.8}, \"marker\": {\"size\": 7}, \"mode\": \"lines\", \"name\": \"% Rendimento\", \"opacity\": 0.8, \"text\": [\"nan%\", \"nan%\", \"nan%\", \"nan%\", \"nan%\", \"nan%\", \"8.65%\", \"1.20%\", \"1.80%\", \"-0.94%\", \"-1.40%\", \"-1.85%\", \"0.76%\", \"-1.92%\", \"0.69%\", \"2.28%\", \"1.88%\", \"-1.04%\", \"-0.23%\", \"-1.10%\", \"-10.57%\", \"-0.22%\", \"2.90%\", \"-3.95%\", \"-4.13%\", \"-3.99%\", \"8.47%\", \"2.34%\", \"1.68%\", \"0.45%\", \"2.18%\", \"0.82%\", \"0.49%\", \"2.08%\", \"0.26%\", \"1.11%\", \"2.20%\", \"2.58%\", \"-0.31%\", \"0.42%\", \"-1.85%\", \"0.84%\", \"1.65%\", \"1.49%\", \"2.14%\", \"-0.11%\", \"-0.53%\", \"1.00%\", \"2.23%\", \"1.31%\", \"1.54%\", \"0.25%\", \"-2.32%\", \"-5.76%\", \"0.53%\", \"0.19%\", \"0.44%\", \"0.79%\", \"-0.18%\", \"0.21%\", \"2.28%\", \"-0.17%\", \"-0.14%\", \"0.05%\", \"-0.09%\", \"1.47%\", \"0.11%\", \"-0.06%\", \"1.68%\", \"3.99%\", \"-0.23%\", \"3.51%\", \"2.70%\", \"-3.49%\", \"-15.12%\", \"7.00%\", \"5.93%\", \"8.66%\", \"5.78%\", \"0.87%\", \"-3.05%\", \"1.81%\", \"3.15%\"], \"textposition\": \"top center\", \"type\": \"scatter\", \"x\": [\"2014-01-31T00:00:00\", \"2014-02-28T00:00:00\", \"2014-03-31T00:00:00\", \"2014-04-30T00:00:00\", \"2014-05-31T00:00:00\", \"2014-06-30T00:00:00\", \"2014-07-31T00:00:00\", \"2014-08-31T00:00:00\", \"2014-09-30T00:00:00\", \"2014-10-31T00:00:00\", \"2014-11-30T00:00:00\", \"2014-12-31T00:00:00\", \"2015-01-31T00:00:00\", \"2015-02-28T00:00:00\", \"2015-03-31T00:00:00\", \"2015-04-30T00:00:00\", \"2015-05-31T00:00:00\", \"2015-06-30T00:00:00\", \"2015-07-31T00:00:00\", \"2015-08-31T00:00:00\", \"2015-09-30T00:00:00\", \"2015-10-31T00:00:00\", \"2015-11-30T00:00:00\", \"2015-12-31T00:00:00\", \"2016-01-31T00:00:00\", \"2016-02-29T00:00:00\", \"2016-03-31T00:00:00\", \"2016-04-30T00:00:00\", \"2016-05-31T00:00:00\", \"2016-06-30T00:00:00\", \"2016-07-31T00:00:00\", \"2016-08-31T00:00:00\", \"2016-09-30T00:00:00\", \"2016-10-31T00:00:00\", \"2016-11-30T00:00:00\", \"2016-12-31T00:00:00\", \"2017-01-31T00:00:00\", \"2017-02-28T00:00:00\", \"2017-03-31T00:00:00\", \"2017-04-30T00:00:00\", \"2017-05-31T00:00:00\", \"2017-06-30T00:00:00\", \"2017-07-31T00:00:00\", \"2017-08-31T00:00:00\", \"2017-09-30T00:00:00\", \"2017-10-31T00:00:00\", \"2017-11-30T00:00:00\", \"2017-12-31T00:00:00\", \"2018-01-31T00:00:00\", \"2018-02-28T00:00:00\", \"2018-03-31T00:00:00\", \"2018-04-30T00:00:00\", \"2018-05-31T00:00:00\", \"2018-06-30T00:00:00\", \"2018-07-31T00:00:00\", \"2018-08-31T00:00:00\", \"2018-09-30T00:00:00\", \"2018-10-31T00:00:00\", \"2018-11-30T00:00:00\", \"2018-12-31T00:00:00\", \"2019-01-31T00:00:00\", \"2019-02-28T00:00:00\", \"2019-03-31T00:00:00\", \"2019-04-30T00:00:00\", \"2019-05-31T00:00:00\", \"2019-06-30T00:00:00\", \"2019-07-31T00:00:00\", \"2019-08-31T00:00:00\", \"2019-09-30T00:00:00\", \"2019-10-31T00:00:00\", \"2019-11-30T00:00:00\", \"2019-12-31T00:00:00\", \"2020-01-31T00:00:00\", \"2020-02-29T00:00:00\", \"2020-03-31T00:00:00\", \"2020-04-30T00:00:00\", \"2020-05-31T00:00:00\", \"2020-06-30T00:00:00\", \"2020-07-31T00:00:00\", \"2020-08-31T00:00:00\", \"2020-09-30T00:00:00\", \"2020-10-31T00:00:00\", \"2020-12-31T00:00:00\"], \"y\": [null, null, null, null, null, null, 8.64764120421244, 1.19802551876093, 1.7957808717067016, -0.9397475255479487, -1.398140423168247, -1.8466992800047801, 0.7563117474869582, -1.923938306565992, 0.6942491537494765, 2.2760620576470343, 1.881930115715575, -1.0390845368841224, -0.2340183826334993, -1.1002847755930423, -10.569075831674203, -0.21987814682436607, 2.9004127054592264, -3.9526789206100887, -4.133577682753003, -3.985364552234062, 8.472723678626037, 2.3380548349590096, 1.6804970989285228, 0.44997557411406186, 2.1834539898891, 0.8189277667856263, 0.48519034999244526, 2.0760373126401843, 0.2574055604463227, 1.1113066955479678, 2.204849225786353, 2.584419572134677, -0.3058017538499891, 0.4177236009551351, -1.8461457926965323, 0.8421970038519645, 1.647562702374777, 1.4874825534556375, 2.1408903709734504, -0.11423977124731385, -0.527027972710247, 1.001833986758491, 2.227519991731379, 1.3071794624562518, 1.5424404266072298, 0.24974383036053446, -2.3164660613879713, -5.76496072422523, 0.5322688507985827, 0.19103573592532044, 0.43843180912501256, 0.7949556174253223, -0.18241062658830057, 0.21082590076810823, 2.280540359580585, -0.17451540819984976, -0.13566599727829415, 0.050814639807868135, -0.08816429871213173, 1.4718731097519988, 0.10841081602022457, -0.05645050191559539, 1.6838784658673918, 3.9870569907088953, -0.22653711003882632, 3.5082014976734257, 2.6959967945225225, -3.4916359935108163, -15.120489557844207, 6.998192656889427, 5.9326605155123096, 8.664821700870265, 5.778940550140251, 0.8734859091550486, -3.0470635288697268, 1.809066157897786, 3.147546025623846]}],                        {\"legend\": {\"orientation\": \"h\"}, \"template\": {\"data\": {\"bar\": [{\"error_x\": {\"color\": \"#2a3f5f\"}, \"error_y\": {\"color\": \"#2a3f5f\"}, \"marker\": {\"line\": {\"color\": \"white\", \"width\": 0.5}}, \"type\": \"bar\"}], \"barpolar\": [{\"marker\": {\"line\": {\"color\": \"white\", \"width\": 0.5}}, \"type\": \"barpolar\"}], \"carpet\": [{\"aaxis\": {\"endlinecolor\": \"#2a3f5f\", \"gridcolor\": \"#C8D4E3\", \"linecolor\": \"#C8D4E3\", \"minorgridcolor\": \"#C8D4E3\", \"startlinecolor\": \"#2a3f5f\"}, \"baxis\": {\"endlinecolor\": \"#2a3f5f\", \"gridcolor\": \"#C8D4E3\", \"linecolor\": \"#C8D4E3\", \"minorgridcolor\": \"#C8D4E3\", \"startlinecolor\": \"#2a3f5f\"}, \"type\": \"carpet\"}], \"choropleth\": [{\"colorbar\": {\"outlinewidth\": 0, \"ticks\": \"\"}, \"type\": \"choropleth\"}], \"contour\": [{\"colorbar\": {\"outlinewidth\": 0, \"ticks\": \"\"}, \"colorscale\": [[0.0, \"#0d0887\"], [0.1111111111111111, \"#46039f\"], [0.2222222222222222, \"#7201a8\"], [0.3333333333333333, \"#9c179e\"], [0.4444444444444444, \"#bd3786\"], [0.5555555555555556, \"#d8576b\"], [0.6666666666666666, \"#ed7953\"], [0.7777777777777778, \"#fb9f3a\"], [0.8888888888888888, \"#fdca26\"], [1.0, \"#f0f921\"]], \"type\": \"contour\"}], \"contourcarpet\": [{\"colorbar\": {\"outlinewidth\": 0, \"ticks\": \"\"}, \"type\": \"contourcarpet\"}], \"heatmap\": [{\"colorbar\": {\"outlinewidth\": 0, \"ticks\": \"\"}, \"colorscale\": [[0.0, \"#0d0887\"], [0.1111111111111111, \"#46039f\"], [0.2222222222222222, \"#7201a8\"], [0.3333333333333333, \"#9c179e\"], [0.4444444444444444, \"#bd3786\"], [0.5555555555555556, \"#d8576b\"], [0.6666666666666666, \"#ed7953\"], [0.7777777777777778, \"#fb9f3a\"], [0.8888888888888888, \"#fdca26\"], [1.0, \"#f0f921\"]], \"type\": \"heatmap\"}], \"heatmapgl\": [{\"colorbar\": {\"outlinewidth\": 0, \"ticks\": \"\"}, \"colorscale\": [[0.0, \"#0d0887\"], [0.1111111111111111, \"#46039f\"], [0.2222222222222222, \"#7201a8\"], [0.3333333333333333, \"#9c179e\"], [0.4444444444444444, \"#bd3786\"], [0.5555555555555556, \"#d8576b\"], [0.6666666666666666, \"#ed7953\"], [0.7777777777777778, \"#fb9f3a\"], [0.8888888888888888, \"#fdca26\"], [1.0, \"#f0f921\"]], \"type\": \"heatmapgl\"}], \"histogram\": [{\"marker\": {\"colorbar\": {\"outlinewidth\": 0, \"ticks\": \"\"}}, \"type\": \"histogram\"}], \"histogram2d\": [{\"colorbar\": {\"outlinewidth\": 0, \"ticks\": \"\"}, \"colorscale\": [[0.0, \"#0d0887\"], [0.1111111111111111, \"#46039f\"], [0.2222222222222222, \"#7201a8\"], [0.3333333333333333, \"#9c179e\"], [0.4444444444444444, \"#bd3786\"], [0.5555555555555556, \"#d8576b\"], [0.6666666666666666, \"#ed7953\"], [0.7777777777777778, \"#fb9f3a\"], [0.8888888888888888, \"#fdca26\"], [1.0, \"#f0f921\"]], \"type\": \"histogram2d\"}], \"histogram2dcontour\": [{\"colorbar\": {\"outlinewidth\": 0, \"ticks\": \"\"}, \"colorscale\": [[0.0, \"#0d0887\"], [0.1111111111111111, \"#46039f\"], [0.2222222222222222, \"#7201a8\"], [0.3333333333333333, \"#9c179e\"], [0.4444444444444444, \"#bd3786\"], [0.5555555555555556, \"#d8576b\"], [0.6666666666666666, \"#ed7953\"], [0.7777777777777778, \"#fb9f3a\"], [0.8888888888888888, \"#fdca26\"], [1.0, \"#f0f921\"]], \"type\": \"histogram2dcontour\"}], \"mesh3d\": [{\"colorbar\": {\"outlinewidth\": 0, \"ticks\": \"\"}, \"type\": \"mesh3d\"}], \"parcoords\": [{\"line\": {\"colorbar\": {\"outlinewidth\": 0, \"ticks\": \"\"}}, \"type\": \"parcoords\"}], \"pie\": [{\"automargin\": true, \"type\": \"pie\"}], \"scatter\": [{\"marker\": {\"colorbar\": {\"outlinewidth\": 0, \"ticks\": \"\"}}, \"type\": \"scatter\"}], \"scatter3d\": [{\"line\": {\"colorbar\": {\"outlinewidth\": 0, \"ticks\": \"\"}}, \"marker\": {\"colorbar\": {\"outlinewidth\": 0, \"ticks\": \"\"}}, \"type\": \"scatter3d\"}], \"scattercarpet\": [{\"marker\": {\"colorbar\": {\"outlinewidth\": 0, \"ticks\": \"\"}}, \"type\": \"scattercarpet\"}], \"scattergeo\": [{\"marker\": {\"colorbar\": {\"outlinewidth\": 0, \"ticks\": \"\"}}, \"type\": \"scattergeo\"}], \"scattergl\": [{\"marker\": {\"colorbar\": {\"outlinewidth\": 0, \"ticks\": \"\"}}, \"type\": \"scattergl\"}], \"scattermapbox\": [{\"marker\": {\"colorbar\": {\"outlinewidth\": 0, \"ticks\": \"\"}}, \"type\": \"scattermapbox\"}], \"scatterpolar\": [{\"marker\": {\"colorbar\": {\"outlinewidth\": 0, \"ticks\": \"\"}}, \"type\": \"scatterpolar\"}], \"scatterpolargl\": [{\"marker\": {\"colorbar\": {\"outlinewidth\": 0, \"ticks\": \"\"}}, \"type\": \"scatterpolargl\"}], \"scatterternary\": [{\"marker\": {\"colorbar\": {\"outlinewidth\": 0, \"ticks\": \"\"}}, \"type\": \"scatterternary\"}], \"surface\": [{\"colorbar\": {\"outlinewidth\": 0, \"ticks\": \"\"}, \"colorscale\": [[0.0, \"#0d0887\"], [0.1111111111111111, \"#46039f\"], [0.2222222222222222, \"#7201a8\"], [0.3333333333333333, \"#9c179e\"], [0.4444444444444444, \"#bd3786\"], [0.5555555555555556, \"#d8576b\"], [0.6666666666666666, \"#ed7953\"], [0.7777777777777778, \"#fb9f3a\"], [0.8888888888888888, \"#fdca26\"], [1.0, \"#f0f921\"]], \"type\": \"surface\"}], \"table\": [{\"cells\": {\"fill\": {\"color\": \"#EBF0F8\"}, \"line\": {\"color\": \"white\"}}, \"header\": {\"fill\": {\"color\": \"#C8D4E3\"}, \"line\": {\"color\": \"white\"}}, \"type\": \"table\"}]}, \"layout\": {\"annotationdefaults\": {\"arrowcolor\": \"#2a3f5f\", \"arrowhead\": 0, \"arrowwidth\": 1}, \"autotypenumbers\": \"strict\", \"coloraxis\": {\"colorbar\": {\"outlinewidth\": 0, \"ticks\": \"\"}}, \"colorscale\": {\"diverging\": [[0, \"#8e0152\"], [0.1, \"#c51b7d\"], [0.2, \"#de77ae\"], [0.3, \"#f1b6da\"], [0.4, \"#fde0ef\"], [0.5, \"#f7f7f7\"], [0.6, \"#e6f5d0\"], [0.7, \"#b8e186\"], [0.8, \"#7fbc41\"], [0.9, \"#4d9221\"], [1, \"#276419\"]], \"sequential\": [[0.0, \"#0d0887\"], [0.1111111111111111, \"#46039f\"], [0.2222222222222222, \"#7201a8\"], [0.3333333333333333, \"#9c179e\"], [0.4444444444444444, \"#bd3786\"], [0.5555555555555556, \"#d8576b\"], [0.6666666666666666, \"#ed7953\"], [0.7777777777777778, \"#fb9f3a\"], [0.8888888888888888, \"#fdca26\"], [1.0, \"#f0f921\"]], \"sequentialminus\": [[0.0, \"#0d0887\"], [0.1111111111111111, \"#46039f\"], [0.2222222222222222, \"#7201a8\"], [0.3333333333333333, \"#9c179e\"], [0.4444444444444444, \"#bd3786\"], [0.5555555555555556, \"#d8576b\"], [0.6666666666666666, \"#ed7953\"], [0.7777777777777778, \"#fb9f3a\"], [0.8888888888888888, \"#fdca26\"], [1.0, \"#f0f921\"]]}, \"colorway\": [\"#636efa\", \"#EF553B\", \"#00cc96\", \"#ab63fa\", \"#FFA15A\", \"#19d3f3\", \"#FF6692\", \"#B6E880\", \"#FF97FF\", \"#FECB52\"], \"font\": {\"color\": \"#2a3f5f\"}, \"geo\": {\"bgcolor\": \"white\", \"lakecolor\": \"white\", \"landcolor\": \"white\", \"showlakes\": true, \"showland\": true, \"subunitcolor\": \"#C8D4E3\"}, \"hoverlabel\": {\"align\": \"left\"}, \"hovermode\": \"closest\", \"mapbox\": {\"style\": \"light\"}, \"paper_bgcolor\": \"white\", \"plot_bgcolor\": \"white\", \"polar\": {\"angularaxis\": {\"gridcolor\": \"#EBF0F8\", \"linecolor\": \"#EBF0F8\", \"ticks\": \"\"}, \"bgcolor\": \"white\", \"radialaxis\": {\"gridcolor\": \"#EBF0F8\", \"linecolor\": \"#EBF0F8\", \"ticks\": \"\"}}, \"scene\": {\"xaxis\": {\"backgroundcolor\": \"white\", \"gridcolor\": \"#DFE8F3\", \"gridwidth\": 2, \"linecolor\": \"#EBF0F8\", \"showbackground\": true, \"ticks\": \"\", \"zerolinecolor\": \"#EBF0F8\"}, \"yaxis\": {\"backgroundcolor\": \"white\", \"gridcolor\": \"#DFE8F3\", \"gridwidth\": 2, \"linecolor\": \"#EBF0F8\", \"showbackground\": true, \"ticks\": \"\", \"zerolinecolor\": \"#EBF0F8\"}, \"zaxis\": {\"backgroundcolor\": \"white\", \"gridcolor\": \"#DFE8F3\", \"gridwidth\": 2, \"linecolor\": \"#EBF0F8\", \"showbackground\": true, \"ticks\": \"\", \"zerolinecolor\": \"#EBF0F8\"}}, \"shapedefaults\": {\"line\": {\"color\": \"#2a3f5f\"}}, \"ternary\": {\"aaxis\": {\"gridcolor\": \"#DFE8F3\", \"linecolor\": \"#A2B1C6\", \"ticks\": \"\"}, \"baxis\": {\"gridcolor\": \"#DFE8F3\", \"linecolor\": \"#A2B1C6\", \"ticks\": \"\"}, \"bgcolor\": \"white\", \"caxis\": {\"gridcolor\": \"#DFE8F3\", \"linecolor\": \"#A2B1C6\", \"ticks\": \"\"}}, \"title\": {\"x\": 0.05}, \"xaxis\": {\"automargin\": true, \"gridcolor\": \"#EBF0F8\", \"linecolor\": \"#EBF0F8\", \"ticks\": \"\", \"title\": {\"standoff\": 15}, \"zerolinecolor\": \"#EBF0F8\", \"zerolinewidth\": 2}, \"yaxis\": {\"automargin\": true, \"gridcolor\": \"#EBF0F8\", \"linecolor\": \"#EBF0F8\", \"ticks\": \"\", \"title\": {\"standoff\": 15}, \"zerolinecolor\": \"#EBF0F8\", \"zerolinewidth\": 2}}}, \"title\": {\"xanchor\": \"left\", \"y\": 0.9, \"yanchor\": \"top\"}, \"xaxis\": {\"rangeselector\": {\"buttons\": [{\"count\": 1, \"label\": \"1m\", \"step\": \"month\", \"stepmode\": \"backward\"}, {\"count\": 6, \"label\": \"6m\", \"step\": \"month\", \"stepmode\": \"backward\"}, {\"count\": 1, \"label\": \"YTD\", \"step\": \"year\", \"stepmode\": \"todate\"}, {\"count\": 1, \"label\": \"1y\", \"step\": \"year\", \"stepmode\": \"backward\"}, {\"step\": \"all\"}]}, \"rangeslider\": {\"visible\": true}}},                        {\"responsive\": true}                    ).then(function(){\n",
       "                            \n",
       "var gd = document.getElementById('89eb337e-b72d-4a6c-b2e0-5c25239ec938');\n",
       "var x = new MutationObserver(function (mutations, observer) {{\n",
       "        var display = window.getComputedStyle(gd).display;\n",
       "        if (!display || display === 'none') {{\n",
       "            console.log([gd, 'removed!']);\n",
       "            Plotly.purge(gd);\n",
       "            observer.disconnect();\n",
       "        }}\n",
       "}});\n",
       "\n",
       "// Listen for the removal of the full notebook cells\n",
       "var notebookContainer = gd.closest('#notebook-container');\n",
       "if (notebookContainer) {{\n",
       "    x.observe(notebookContainer, {childList: true});\n",
       "}}\n",
       "\n",
       "// Listen for the clearing of the current output cell\n",
       "var outputEl = gd.closest('.output');\n",
       "if (outputEl) {{\n",
       "    x.observe(outputEl, {childList: true});\n",
       "}}\n",
       "\n",
       "                        })                };                });            </script>        </div>"
      ]
     },
     "metadata": {},
     "output_type": "display_data"
    }
   ],
   "source": [
    "create_graph1(df_graph1[(df_graph1['Data'] >= '2014-01-01')].sort_values('Data'))"
   ]
  },
  {
   "cell_type": "code",
   "execution_count": 212,
   "metadata": {},
   "outputs": [
    {
     "data": {
      "application/vnd.plotly.v1+json": {
       "config": {
        "plotlyServerURL": "https://plot.ly"
       },
       "data": [
        {
         "line": {
          "color": "rgb(115,115,115)",
          "width": 1.8
         },
         "marker": {
          "size": 7
         },
         "mode": "lines",
         "name": "% Rendimento",
         "opacity": 0.8,
         "text": [
          "0.00%",
          "0.00%",
          "0.00%",
          "0.00%",
          "0.00%",
          "0.00%",
          "9.47%",
          "10.79%",
          "12.82%",
          "11.77%",
          "10.23%",
          "8.23%",
          "7.96%",
          "5.89%",
          "6.63%",
          "9.11%",
          "11.20%",
          "10.06%",
          "9.80%",
          "8.61%",
          "110.89%",
          "110.43%",
          "116.71%",
          "108.47%",
          "100.20%",
          "92.52%",
          "110.34%",
          "10.68%",
          "12.57%",
          "13.08%",
          "15.60%",
          "16.56%",
          "17.13%",
          "19.61%",
          "15.97%",
          "17.28%",
          "19.92%",
          "23.10%",
          "13.09%",
          "13.57%",
          "11.51%",
          "12.45%",
          "14.34%",
          "16.06%",
          "18.60%",
          "9.11%",
          "8.54%",
          "9.64%",
          "12.13%",
          "13.62%",
          "15.40%",
          "15.65%",
          "13.03%",
          "7.28%",
          "7.90%",
          "8.12%",
          "8.62%",
          "9.55%",
          "9.34%",
          "7.90%",
          "10.55%",
          "10.35%",
          "10.19%",
          "10.25%",
          "10.15%",
          "11.89%",
          "12.01%",
          "11.95%",
          "11.25%",
          "16.06%",
          "15.79%",
          "20.17%",
          "21.54%",
          "17.30%",
          "1.09%",
          "9.01%",
          "15.81%",
          "28.35%",
          "34.81%",
          "32.19%",
          "27.72%",
          "30.37%",
          "34.09%"
         ],
         "textposition": "top center",
         "type": "scatter",
         "x": [
          "2014-01-31T00:00:00",
          "2014-02-28T00:00:00",
          "2014-03-31T00:00:00",
          "2014-04-30T00:00:00",
          "2014-05-31T00:00:00",
          "2014-06-30T00:00:00",
          "2014-07-31T00:00:00",
          "2014-08-31T00:00:00",
          "2014-09-30T00:00:00",
          "2014-10-31T00:00:00",
          "2014-11-30T00:00:00",
          "2014-12-31T00:00:00",
          "2015-01-31T00:00:00",
          "2015-02-28T00:00:00",
          "2015-03-31T00:00:00",
          "2015-04-30T00:00:00",
          "2015-05-31T00:00:00",
          "2015-06-30T00:00:00",
          "2015-07-31T00:00:00",
          "2015-08-31T00:00:00",
          "2015-09-30T00:00:00",
          "2015-10-31T00:00:00",
          "2015-11-30T00:00:00",
          "2015-12-31T00:00:00",
          "2016-01-31T00:00:00",
          "2016-02-29T00:00:00",
          "2016-03-31T00:00:00",
          "2016-04-30T00:00:00",
          "2016-05-31T00:00:00",
          "2016-06-30T00:00:00",
          "2016-07-31T00:00:00",
          "2016-08-31T00:00:00",
          "2016-09-30T00:00:00",
          "2016-10-31T00:00:00",
          "2016-11-30T00:00:00",
          "2016-12-31T00:00:00",
          "2017-01-31T00:00:00",
          "2017-02-28T00:00:00",
          "2017-03-31T00:00:00",
          "2017-04-30T00:00:00",
          "2017-05-31T00:00:00",
          "2017-06-30T00:00:00",
          "2017-07-31T00:00:00",
          "2017-08-31T00:00:00",
          "2017-09-30T00:00:00",
          "2017-10-31T00:00:00",
          "2017-11-30T00:00:00",
          "2017-12-31T00:00:00",
          "2018-01-31T00:00:00",
          "2018-02-28T00:00:00",
          "2018-03-31T00:00:00",
          "2018-04-30T00:00:00",
          "2018-05-31T00:00:00",
          "2018-06-30T00:00:00",
          "2018-07-31T00:00:00",
          "2018-08-31T00:00:00",
          "2018-09-30T00:00:00",
          "2018-10-31T00:00:00",
          "2018-11-30T00:00:00",
          "2018-12-31T00:00:00",
          "2019-01-31T00:00:00",
          "2019-02-28T00:00:00",
          "2019-03-31T00:00:00",
          "2019-04-30T00:00:00",
          "2019-05-31T00:00:00",
          "2019-06-30T00:00:00",
          "2019-07-31T00:00:00",
          "2019-08-31T00:00:00",
          "2019-09-30T00:00:00",
          "2019-10-31T00:00:00",
          "2019-11-30T00:00:00",
          "2019-12-31T00:00:00",
          "2020-01-31T00:00:00",
          "2020-02-29T00:00:00",
          "2020-03-31T00:00:00",
          "2020-04-30T00:00:00",
          "2020-05-31T00:00:00",
          "2020-06-30T00:00:00",
          "2020-07-31T00:00:00",
          "2020-08-31T00:00:00",
          "2020-09-30T00:00:00",
          "2020-10-31T00:00:00",
          "2020-12-31T00:00:00"
         ],
         "y": [
          0,
          0,
          0,
          0,
          0,
          0,
          9.466248401471162,
          10.793583808648549,
          12.819576177178899,
          11.76922762623728,
          10.228084223031141,
          8.229412442698425,
          7.957237554033806,
          5.887390336864605,
          6.627651907898125,
          9.111087982145614,
          11.203867045923152,
          10.06024802741398,
          9.803288148410669,
          8.608287693882588,
          110.88826382944043,
          110.42558395499584,
          116.71110024051212,
          108.47091435326742,
          100.1956707839062,
          92.52293016998911,
          110.3448697566346,
          10.67927934929798,
          12.571032281014316,
          13.079864048473835,
          15.604024739112365,
          16.558555111484438,
          17.126843252194863,
          19.60999130125459,
          15.97274753841412,
          17.27604406842026,
          19.92010149785799,
          23.10156236933465,
          13.091694450968758,
          13.566086798206056,
          11.507495854938844,
          12.454585000507278,
          14.338381529079362,
          16.064825559982825,
          18.604007332554122,
          9.110174256362919,
          8.538147856099666,
          9.636523813564523,
          12.134338624010109,
          13.619550047567108,
          15.399518878864962,
          15.648365080421234,
          13.030062053779663,
          7.282173266776615,
          7.89550874189541,
          8.116061300540538,
          8.624463957674797,
          9.553676114361078,
          9.340847186174333,
          7.896288721215064,
          10.55463722725574,
          10.351564930620366,
          10.193913061514168,
          10.252992683132845,
          10.150578787307651,
          11.88588560966027,
          12.013838350772547,
          11.94724977958618,
          11.245341907551548,
          16.059140967901158,
          15.786248125597858,
          20.165973881245264,
          21.53820093189993,
          17.295714198837718,
          1.0890946132408437,
          9.007104118242548,
          15.81274490132908,
          28.347666600282444,
          34.80697005457468,
          32.188540591762106,
          27.720142952751424,
          30.369417535271047,
          34.09443000086487
         ]
        }
       ],
       "layout": {
        "legend": {
         "orientation": "h"
        },
        "template": {
         "data": {
          "bar": [
           {
            "error_x": {
             "color": "#2a3f5f"
            },
            "error_y": {
             "color": "#2a3f5f"
            },
            "marker": {
             "line": {
              "color": "white",
              "width": 0.5
             }
            },
            "type": "bar"
           }
          ],
          "barpolar": [
           {
            "marker": {
             "line": {
              "color": "white",
              "width": 0.5
             }
            },
            "type": "barpolar"
           }
          ],
          "carpet": [
           {
            "aaxis": {
             "endlinecolor": "#2a3f5f",
             "gridcolor": "#C8D4E3",
             "linecolor": "#C8D4E3",
             "minorgridcolor": "#C8D4E3",
             "startlinecolor": "#2a3f5f"
            },
            "baxis": {
             "endlinecolor": "#2a3f5f",
             "gridcolor": "#C8D4E3",
             "linecolor": "#C8D4E3",
             "minorgridcolor": "#C8D4E3",
             "startlinecolor": "#2a3f5f"
            },
            "type": "carpet"
           }
          ],
          "choropleth": [
           {
            "colorbar": {
             "outlinewidth": 0,
             "ticks": ""
            },
            "type": "choropleth"
           }
          ],
          "contour": [
           {
            "colorbar": {
             "outlinewidth": 0,
             "ticks": ""
            },
            "colorscale": [
             [
              0,
              "#0d0887"
             ],
             [
              0.1111111111111111,
              "#46039f"
             ],
             [
              0.2222222222222222,
              "#7201a8"
             ],
             [
              0.3333333333333333,
              "#9c179e"
             ],
             [
              0.4444444444444444,
              "#bd3786"
             ],
             [
              0.5555555555555556,
              "#d8576b"
             ],
             [
              0.6666666666666666,
              "#ed7953"
             ],
             [
              0.7777777777777778,
              "#fb9f3a"
             ],
             [
              0.8888888888888888,
              "#fdca26"
             ],
             [
              1,
              "#f0f921"
             ]
            ],
            "type": "contour"
           }
          ],
          "contourcarpet": [
           {
            "colorbar": {
             "outlinewidth": 0,
             "ticks": ""
            },
            "type": "contourcarpet"
           }
          ],
          "heatmap": [
           {
            "colorbar": {
             "outlinewidth": 0,
             "ticks": ""
            },
            "colorscale": [
             [
              0,
              "#0d0887"
             ],
             [
              0.1111111111111111,
              "#46039f"
             ],
             [
              0.2222222222222222,
              "#7201a8"
             ],
             [
              0.3333333333333333,
              "#9c179e"
             ],
             [
              0.4444444444444444,
              "#bd3786"
             ],
             [
              0.5555555555555556,
              "#d8576b"
             ],
             [
              0.6666666666666666,
              "#ed7953"
             ],
             [
              0.7777777777777778,
              "#fb9f3a"
             ],
             [
              0.8888888888888888,
              "#fdca26"
             ],
             [
              1,
              "#f0f921"
             ]
            ],
            "type": "heatmap"
           }
          ],
          "heatmapgl": [
           {
            "colorbar": {
             "outlinewidth": 0,
             "ticks": ""
            },
            "colorscale": [
             [
              0,
              "#0d0887"
             ],
             [
              0.1111111111111111,
              "#46039f"
             ],
             [
              0.2222222222222222,
              "#7201a8"
             ],
             [
              0.3333333333333333,
              "#9c179e"
             ],
             [
              0.4444444444444444,
              "#bd3786"
             ],
             [
              0.5555555555555556,
              "#d8576b"
             ],
             [
              0.6666666666666666,
              "#ed7953"
             ],
             [
              0.7777777777777778,
              "#fb9f3a"
             ],
             [
              0.8888888888888888,
              "#fdca26"
             ],
             [
              1,
              "#f0f921"
             ]
            ],
            "type": "heatmapgl"
           }
          ],
          "histogram": [
           {
            "marker": {
             "colorbar": {
              "outlinewidth": 0,
              "ticks": ""
             }
            },
            "type": "histogram"
           }
          ],
          "histogram2d": [
           {
            "colorbar": {
             "outlinewidth": 0,
             "ticks": ""
            },
            "colorscale": [
             [
              0,
              "#0d0887"
             ],
             [
              0.1111111111111111,
              "#46039f"
             ],
             [
              0.2222222222222222,
              "#7201a8"
             ],
             [
              0.3333333333333333,
              "#9c179e"
             ],
             [
              0.4444444444444444,
              "#bd3786"
             ],
             [
              0.5555555555555556,
              "#d8576b"
             ],
             [
              0.6666666666666666,
              "#ed7953"
             ],
             [
              0.7777777777777778,
              "#fb9f3a"
             ],
             [
              0.8888888888888888,
              "#fdca26"
             ],
             [
              1,
              "#f0f921"
             ]
            ],
            "type": "histogram2d"
           }
          ],
          "histogram2dcontour": [
           {
            "colorbar": {
             "outlinewidth": 0,
             "ticks": ""
            },
            "colorscale": [
             [
              0,
              "#0d0887"
             ],
             [
              0.1111111111111111,
              "#46039f"
             ],
             [
              0.2222222222222222,
              "#7201a8"
             ],
             [
              0.3333333333333333,
              "#9c179e"
             ],
             [
              0.4444444444444444,
              "#bd3786"
             ],
             [
              0.5555555555555556,
              "#d8576b"
             ],
             [
              0.6666666666666666,
              "#ed7953"
             ],
             [
              0.7777777777777778,
              "#fb9f3a"
             ],
             [
              0.8888888888888888,
              "#fdca26"
             ],
             [
              1,
              "#f0f921"
             ]
            ],
            "type": "histogram2dcontour"
           }
          ],
          "mesh3d": [
           {
            "colorbar": {
             "outlinewidth": 0,
             "ticks": ""
            },
            "type": "mesh3d"
           }
          ],
          "parcoords": [
           {
            "line": {
             "colorbar": {
              "outlinewidth": 0,
              "ticks": ""
             }
            },
            "type": "parcoords"
           }
          ],
          "pie": [
           {
            "automargin": true,
            "type": "pie"
           }
          ],
          "scatter": [
           {
            "marker": {
             "colorbar": {
              "outlinewidth": 0,
              "ticks": ""
             }
            },
            "type": "scatter"
           }
          ],
          "scatter3d": [
           {
            "line": {
             "colorbar": {
              "outlinewidth": 0,
              "ticks": ""
             }
            },
            "marker": {
             "colorbar": {
              "outlinewidth": 0,
              "ticks": ""
             }
            },
            "type": "scatter3d"
           }
          ],
          "scattercarpet": [
           {
            "marker": {
             "colorbar": {
              "outlinewidth": 0,
              "ticks": ""
             }
            },
            "type": "scattercarpet"
           }
          ],
          "scattergeo": [
           {
            "marker": {
             "colorbar": {
              "outlinewidth": 0,
              "ticks": ""
             }
            },
            "type": "scattergeo"
           }
          ],
          "scattergl": [
           {
            "marker": {
             "colorbar": {
              "outlinewidth": 0,
              "ticks": ""
             }
            },
            "type": "scattergl"
           }
          ],
          "scattermapbox": [
           {
            "marker": {
             "colorbar": {
              "outlinewidth": 0,
              "ticks": ""
             }
            },
            "type": "scattermapbox"
           }
          ],
          "scatterpolar": [
           {
            "marker": {
             "colorbar": {
              "outlinewidth": 0,
              "ticks": ""
             }
            },
            "type": "scatterpolar"
           }
          ],
          "scatterpolargl": [
           {
            "marker": {
             "colorbar": {
              "outlinewidth": 0,
              "ticks": ""
             }
            },
            "type": "scatterpolargl"
           }
          ],
          "scatterternary": [
           {
            "marker": {
             "colorbar": {
              "outlinewidth": 0,
              "ticks": ""
             }
            },
            "type": "scatterternary"
           }
          ],
          "surface": [
           {
            "colorbar": {
             "outlinewidth": 0,
             "ticks": ""
            },
            "colorscale": [
             [
              0,
              "#0d0887"
             ],
             [
              0.1111111111111111,
              "#46039f"
             ],
             [
              0.2222222222222222,
              "#7201a8"
             ],
             [
              0.3333333333333333,
              "#9c179e"
             ],
             [
              0.4444444444444444,
              "#bd3786"
             ],
             [
              0.5555555555555556,
              "#d8576b"
             ],
             [
              0.6666666666666666,
              "#ed7953"
             ],
             [
              0.7777777777777778,
              "#fb9f3a"
             ],
             [
              0.8888888888888888,
              "#fdca26"
             ],
             [
              1,
              "#f0f921"
             ]
            ],
            "type": "surface"
           }
          ],
          "table": [
           {
            "cells": {
             "fill": {
              "color": "#EBF0F8"
             },
             "line": {
              "color": "white"
             }
            },
            "header": {
             "fill": {
              "color": "#C8D4E3"
             },
             "line": {
              "color": "white"
             }
            },
            "type": "table"
           }
          ]
         },
         "layout": {
          "annotationdefaults": {
           "arrowcolor": "#2a3f5f",
           "arrowhead": 0,
           "arrowwidth": 1
          },
          "autotypenumbers": "strict",
          "coloraxis": {
           "colorbar": {
            "outlinewidth": 0,
            "ticks": ""
           }
          },
          "colorscale": {
           "diverging": [
            [
             0,
             "#8e0152"
            ],
            [
             0.1,
             "#c51b7d"
            ],
            [
             0.2,
             "#de77ae"
            ],
            [
             0.3,
             "#f1b6da"
            ],
            [
             0.4,
             "#fde0ef"
            ],
            [
             0.5,
             "#f7f7f7"
            ],
            [
             0.6,
             "#e6f5d0"
            ],
            [
             0.7,
             "#b8e186"
            ],
            [
             0.8,
             "#7fbc41"
            ],
            [
             0.9,
             "#4d9221"
            ],
            [
             1,
             "#276419"
            ]
           ],
           "sequential": [
            [
             0,
             "#0d0887"
            ],
            [
             0.1111111111111111,
             "#46039f"
            ],
            [
             0.2222222222222222,
             "#7201a8"
            ],
            [
             0.3333333333333333,
             "#9c179e"
            ],
            [
             0.4444444444444444,
             "#bd3786"
            ],
            [
             0.5555555555555556,
             "#d8576b"
            ],
            [
             0.6666666666666666,
             "#ed7953"
            ],
            [
             0.7777777777777778,
             "#fb9f3a"
            ],
            [
             0.8888888888888888,
             "#fdca26"
            ],
            [
             1,
             "#f0f921"
            ]
           ],
           "sequentialminus": [
            [
             0,
             "#0d0887"
            ],
            [
             0.1111111111111111,
             "#46039f"
            ],
            [
             0.2222222222222222,
             "#7201a8"
            ],
            [
             0.3333333333333333,
             "#9c179e"
            ],
            [
             0.4444444444444444,
             "#bd3786"
            ],
            [
             0.5555555555555556,
             "#d8576b"
            ],
            [
             0.6666666666666666,
             "#ed7953"
            ],
            [
             0.7777777777777778,
             "#fb9f3a"
            ],
            [
             0.8888888888888888,
             "#fdca26"
            ],
            [
             1,
             "#f0f921"
            ]
           ]
          },
          "colorway": [
           "#636efa",
           "#EF553B",
           "#00cc96",
           "#ab63fa",
           "#FFA15A",
           "#19d3f3",
           "#FF6692",
           "#B6E880",
           "#FF97FF",
           "#FECB52"
          ],
          "font": {
           "color": "#2a3f5f"
          },
          "geo": {
           "bgcolor": "white",
           "lakecolor": "white",
           "landcolor": "white",
           "showlakes": true,
           "showland": true,
           "subunitcolor": "#C8D4E3"
          },
          "hoverlabel": {
           "align": "left"
          },
          "hovermode": "closest",
          "mapbox": {
           "style": "light"
          },
          "paper_bgcolor": "white",
          "plot_bgcolor": "white",
          "polar": {
           "angularaxis": {
            "gridcolor": "#EBF0F8",
            "linecolor": "#EBF0F8",
            "ticks": ""
           },
           "bgcolor": "white",
           "radialaxis": {
            "gridcolor": "#EBF0F8",
            "linecolor": "#EBF0F8",
            "ticks": ""
           }
          },
          "scene": {
           "xaxis": {
            "backgroundcolor": "white",
            "gridcolor": "#DFE8F3",
            "gridwidth": 2,
            "linecolor": "#EBF0F8",
            "showbackground": true,
            "ticks": "",
            "zerolinecolor": "#EBF0F8"
           },
           "yaxis": {
            "backgroundcolor": "white",
            "gridcolor": "#DFE8F3",
            "gridwidth": 2,
            "linecolor": "#EBF0F8",
            "showbackground": true,
            "ticks": "",
            "zerolinecolor": "#EBF0F8"
           },
           "zaxis": {
            "backgroundcolor": "white",
            "gridcolor": "#DFE8F3",
            "gridwidth": 2,
            "linecolor": "#EBF0F8",
            "showbackground": true,
            "ticks": "",
            "zerolinecolor": "#EBF0F8"
           }
          },
          "shapedefaults": {
           "line": {
            "color": "#2a3f5f"
           }
          },
          "ternary": {
           "aaxis": {
            "gridcolor": "#DFE8F3",
            "linecolor": "#A2B1C6",
            "ticks": ""
           },
           "baxis": {
            "gridcolor": "#DFE8F3",
            "linecolor": "#A2B1C6",
            "ticks": ""
           },
           "bgcolor": "white",
           "caxis": {
            "gridcolor": "#DFE8F3",
            "linecolor": "#A2B1C6",
            "ticks": ""
           }
          },
          "title": {
           "x": 0.05
          },
          "xaxis": {
           "automargin": true,
           "gridcolor": "#EBF0F8",
           "linecolor": "#EBF0F8",
           "ticks": "",
           "title": {
            "standoff": 15
           },
           "zerolinecolor": "#EBF0F8",
           "zerolinewidth": 2
          },
          "yaxis": {
           "automargin": true,
           "gridcolor": "#EBF0F8",
           "linecolor": "#EBF0F8",
           "ticks": "",
           "title": {
            "standoff": 15
           },
           "zerolinecolor": "#EBF0F8",
           "zerolinewidth": 2
          }
         }
        },
        "title": {
         "xanchor": "left",
         "y": 0.9,
         "yanchor": "top"
        },
        "xaxis": {
         "rangeselector": {
          "buttons": [
           {
            "count": 1,
            "label": "1m",
            "step": "month",
            "stepmode": "backward"
           },
           {
            "count": 6,
            "label": "6m",
            "step": "month",
            "stepmode": "backward"
           },
           {
            "count": 1,
            "label": "YTD",
            "step": "year",
            "stepmode": "todate"
           },
           {
            "count": 1,
            "label": "1y",
            "step": "year",
            "stepmode": "backward"
           },
           {
            "step": "all"
           }
          ]
         },
         "rangeslider": {
          "visible": true
         }
        }
       }
      },
      "text/html": [
       "<div>                            <div id=\"1f843670-2632-4ad2-bf5f-c80b4eb46212\" class=\"plotly-graph-div\" style=\"height:525px; width:100%;\"></div>            <script type=\"text/javascript\">                require([\"plotly\"], function(Plotly) {                    window.PLOTLYENV=window.PLOTLYENV || {};                                    if (document.getElementById(\"1f843670-2632-4ad2-bf5f-c80b4eb46212\")) {                    Plotly.newPlot(                        \"1f843670-2632-4ad2-bf5f-c80b4eb46212\",                        [{\"line\": {\"color\": \"rgb(115,115,115)\", \"width\": 1.8}, \"marker\": {\"size\": 7}, \"mode\": \"lines\", \"name\": \"% Rendimento\", \"opacity\": 0.8, \"text\": [\"0.00%\", \"0.00%\", \"0.00%\", \"0.00%\", \"0.00%\", \"0.00%\", \"9.47%\", \"10.79%\", \"12.82%\", \"11.77%\", \"10.23%\", \"8.23%\", \"7.96%\", \"5.89%\", \"6.63%\", \"9.11%\", \"11.20%\", \"10.06%\", \"9.80%\", \"8.61%\", \"110.89%\", \"110.43%\", \"116.71%\", \"108.47%\", \"100.20%\", \"92.52%\", \"110.34%\", \"10.68%\", \"12.57%\", \"13.08%\", \"15.60%\", \"16.56%\", \"17.13%\", \"19.61%\", \"15.97%\", \"17.28%\", \"19.92%\", \"23.10%\", \"13.09%\", \"13.57%\", \"11.51%\", \"12.45%\", \"14.34%\", \"16.06%\", \"18.60%\", \"9.11%\", \"8.54%\", \"9.64%\", \"12.13%\", \"13.62%\", \"15.40%\", \"15.65%\", \"13.03%\", \"7.28%\", \"7.90%\", \"8.12%\", \"8.62%\", \"9.55%\", \"9.34%\", \"7.90%\", \"10.55%\", \"10.35%\", \"10.19%\", \"10.25%\", \"10.15%\", \"11.89%\", \"12.01%\", \"11.95%\", \"11.25%\", \"16.06%\", \"15.79%\", \"20.17%\", \"21.54%\", \"17.30%\", \"1.09%\", \"9.01%\", \"15.81%\", \"28.35%\", \"34.81%\", \"32.19%\", \"27.72%\", \"30.37%\", \"34.09%\"], \"textposition\": \"top center\", \"type\": \"scatter\", \"x\": [\"2014-01-31T00:00:00\", \"2014-02-28T00:00:00\", \"2014-03-31T00:00:00\", \"2014-04-30T00:00:00\", \"2014-05-31T00:00:00\", \"2014-06-30T00:00:00\", \"2014-07-31T00:00:00\", \"2014-08-31T00:00:00\", \"2014-09-30T00:00:00\", \"2014-10-31T00:00:00\", \"2014-11-30T00:00:00\", \"2014-12-31T00:00:00\", \"2015-01-31T00:00:00\", \"2015-02-28T00:00:00\", \"2015-03-31T00:00:00\", \"2015-04-30T00:00:00\", \"2015-05-31T00:00:00\", \"2015-06-30T00:00:00\", \"2015-07-31T00:00:00\", \"2015-08-31T00:00:00\", \"2015-09-30T00:00:00\", \"2015-10-31T00:00:00\", \"2015-11-30T00:00:00\", \"2015-12-31T00:00:00\", \"2016-01-31T00:00:00\", \"2016-02-29T00:00:00\", \"2016-03-31T00:00:00\", \"2016-04-30T00:00:00\", \"2016-05-31T00:00:00\", \"2016-06-30T00:00:00\", \"2016-07-31T00:00:00\", \"2016-08-31T00:00:00\", \"2016-09-30T00:00:00\", \"2016-10-31T00:00:00\", \"2016-11-30T00:00:00\", \"2016-12-31T00:00:00\", \"2017-01-31T00:00:00\", \"2017-02-28T00:00:00\", \"2017-03-31T00:00:00\", \"2017-04-30T00:00:00\", \"2017-05-31T00:00:00\", \"2017-06-30T00:00:00\", \"2017-07-31T00:00:00\", \"2017-08-31T00:00:00\", \"2017-09-30T00:00:00\", \"2017-10-31T00:00:00\", \"2017-11-30T00:00:00\", \"2017-12-31T00:00:00\", \"2018-01-31T00:00:00\", \"2018-02-28T00:00:00\", \"2018-03-31T00:00:00\", \"2018-04-30T00:00:00\", \"2018-05-31T00:00:00\", \"2018-06-30T00:00:00\", \"2018-07-31T00:00:00\", \"2018-08-31T00:00:00\", \"2018-09-30T00:00:00\", \"2018-10-31T00:00:00\", \"2018-11-30T00:00:00\", \"2018-12-31T00:00:00\", \"2019-01-31T00:00:00\", \"2019-02-28T00:00:00\", \"2019-03-31T00:00:00\", \"2019-04-30T00:00:00\", \"2019-05-31T00:00:00\", \"2019-06-30T00:00:00\", \"2019-07-31T00:00:00\", \"2019-08-31T00:00:00\", \"2019-09-30T00:00:00\", \"2019-10-31T00:00:00\", \"2019-11-30T00:00:00\", \"2019-12-31T00:00:00\", \"2020-01-31T00:00:00\", \"2020-02-29T00:00:00\", \"2020-03-31T00:00:00\", \"2020-04-30T00:00:00\", \"2020-05-31T00:00:00\", \"2020-06-30T00:00:00\", \"2020-07-31T00:00:00\", \"2020-08-31T00:00:00\", \"2020-09-30T00:00:00\", \"2020-10-31T00:00:00\", \"2020-12-31T00:00:00\"], \"y\": [0.0, 0.0, 0.0, 0.0, 0.0, 0.0, 9.466248401471162, 10.793583808648549, 12.819576177178899, 11.76922762623728, 10.228084223031141, 8.229412442698425, 7.957237554033806, 5.887390336864605, 6.627651907898125, 9.111087982145614, 11.203867045923152, 10.06024802741398, 9.803288148410669, 8.608287693882588, 110.88826382944043, 110.42558395499584, 116.71110024051212, 108.47091435326742, 100.1956707839062, 92.52293016998911, 110.3448697566346, 10.67927934929798, 12.571032281014316, 13.079864048473835, 15.604024739112365, 16.558555111484438, 17.126843252194863, 19.60999130125459, 15.97274753841412, 17.27604406842026, 19.92010149785799, 23.10156236933465, 13.091694450968758, 13.566086798206056, 11.507495854938844, 12.454585000507278, 14.338381529079362, 16.064825559982825, 18.604007332554122, 9.110174256362919, 8.538147856099666, 9.636523813564523, 12.134338624010109, 13.619550047567108, 15.399518878864962, 15.648365080421234, 13.030062053779663, 7.282173266776615, 7.89550874189541, 8.116061300540538, 8.624463957674797, 9.553676114361078, 9.340847186174333, 7.896288721215064, 10.55463722725574, 10.351564930620366, 10.193913061514168, 10.252992683132845, 10.150578787307651, 11.88588560966027, 12.013838350772547, 11.94724977958618, 11.245341907551548, 16.059140967901158, 15.786248125597858, 20.165973881245264, 21.53820093189993, 17.295714198837718, 1.0890946132408437, 9.007104118242548, 15.81274490132908, 28.347666600282444, 34.80697005457468, 32.188540591762106, 27.720142952751424, 30.369417535271047, 34.09443000086487]}],                        {\"legend\": {\"orientation\": \"h\"}, \"template\": {\"data\": {\"bar\": [{\"error_x\": {\"color\": \"#2a3f5f\"}, \"error_y\": {\"color\": \"#2a3f5f\"}, \"marker\": {\"line\": {\"color\": \"white\", \"width\": 0.5}}, \"type\": \"bar\"}], \"barpolar\": [{\"marker\": {\"line\": {\"color\": \"white\", \"width\": 0.5}}, \"type\": \"barpolar\"}], \"carpet\": [{\"aaxis\": {\"endlinecolor\": \"#2a3f5f\", \"gridcolor\": \"#C8D4E3\", \"linecolor\": \"#C8D4E3\", \"minorgridcolor\": \"#C8D4E3\", \"startlinecolor\": \"#2a3f5f\"}, \"baxis\": {\"endlinecolor\": \"#2a3f5f\", \"gridcolor\": \"#C8D4E3\", \"linecolor\": \"#C8D4E3\", \"minorgridcolor\": \"#C8D4E3\", \"startlinecolor\": \"#2a3f5f\"}, \"type\": \"carpet\"}], \"choropleth\": [{\"colorbar\": {\"outlinewidth\": 0, \"ticks\": \"\"}, \"type\": \"choropleth\"}], \"contour\": [{\"colorbar\": {\"outlinewidth\": 0, \"ticks\": \"\"}, \"colorscale\": [[0.0, \"#0d0887\"], [0.1111111111111111, \"#46039f\"], [0.2222222222222222, \"#7201a8\"], [0.3333333333333333, \"#9c179e\"], [0.4444444444444444, \"#bd3786\"], [0.5555555555555556, \"#d8576b\"], [0.6666666666666666, \"#ed7953\"], [0.7777777777777778, \"#fb9f3a\"], [0.8888888888888888, \"#fdca26\"], [1.0, \"#f0f921\"]], \"type\": \"contour\"}], \"contourcarpet\": [{\"colorbar\": {\"outlinewidth\": 0, \"ticks\": \"\"}, \"type\": \"contourcarpet\"}], \"heatmap\": [{\"colorbar\": {\"outlinewidth\": 0, \"ticks\": \"\"}, \"colorscale\": [[0.0, \"#0d0887\"], [0.1111111111111111, \"#46039f\"], [0.2222222222222222, \"#7201a8\"], [0.3333333333333333, \"#9c179e\"], [0.4444444444444444, \"#bd3786\"], [0.5555555555555556, \"#d8576b\"], [0.6666666666666666, \"#ed7953\"], [0.7777777777777778, \"#fb9f3a\"], [0.8888888888888888, \"#fdca26\"], [1.0, \"#f0f921\"]], \"type\": \"heatmap\"}], \"heatmapgl\": [{\"colorbar\": {\"outlinewidth\": 0, \"ticks\": \"\"}, \"colorscale\": [[0.0, \"#0d0887\"], [0.1111111111111111, \"#46039f\"], [0.2222222222222222, \"#7201a8\"], [0.3333333333333333, \"#9c179e\"], [0.4444444444444444, \"#bd3786\"], [0.5555555555555556, \"#d8576b\"], [0.6666666666666666, \"#ed7953\"], [0.7777777777777778, \"#fb9f3a\"], [0.8888888888888888, \"#fdca26\"], [1.0, \"#f0f921\"]], \"type\": \"heatmapgl\"}], \"histogram\": [{\"marker\": {\"colorbar\": {\"outlinewidth\": 0, \"ticks\": \"\"}}, \"type\": \"histogram\"}], \"histogram2d\": [{\"colorbar\": {\"outlinewidth\": 0, \"ticks\": \"\"}, \"colorscale\": [[0.0, \"#0d0887\"], [0.1111111111111111, \"#46039f\"], [0.2222222222222222, \"#7201a8\"], [0.3333333333333333, \"#9c179e\"], [0.4444444444444444, \"#bd3786\"], [0.5555555555555556, \"#d8576b\"], [0.6666666666666666, \"#ed7953\"], [0.7777777777777778, \"#fb9f3a\"], [0.8888888888888888, \"#fdca26\"], [1.0, \"#f0f921\"]], \"type\": \"histogram2d\"}], \"histogram2dcontour\": [{\"colorbar\": {\"outlinewidth\": 0, \"ticks\": \"\"}, \"colorscale\": [[0.0, \"#0d0887\"], [0.1111111111111111, \"#46039f\"], [0.2222222222222222, \"#7201a8\"], [0.3333333333333333, \"#9c179e\"], [0.4444444444444444, \"#bd3786\"], [0.5555555555555556, \"#d8576b\"], [0.6666666666666666, \"#ed7953\"], [0.7777777777777778, \"#fb9f3a\"], [0.8888888888888888, \"#fdca26\"], [1.0, \"#f0f921\"]], \"type\": \"histogram2dcontour\"}], \"mesh3d\": [{\"colorbar\": {\"outlinewidth\": 0, \"ticks\": \"\"}, \"type\": \"mesh3d\"}], \"parcoords\": [{\"line\": {\"colorbar\": {\"outlinewidth\": 0, \"ticks\": \"\"}}, \"type\": \"parcoords\"}], \"pie\": [{\"automargin\": true, \"type\": \"pie\"}], \"scatter\": [{\"marker\": {\"colorbar\": {\"outlinewidth\": 0, \"ticks\": \"\"}}, \"type\": \"scatter\"}], \"scatter3d\": [{\"line\": {\"colorbar\": {\"outlinewidth\": 0, \"ticks\": \"\"}}, \"marker\": {\"colorbar\": {\"outlinewidth\": 0, \"ticks\": \"\"}}, \"type\": \"scatter3d\"}], \"scattercarpet\": [{\"marker\": {\"colorbar\": {\"outlinewidth\": 0, \"ticks\": \"\"}}, \"type\": \"scattercarpet\"}], \"scattergeo\": [{\"marker\": {\"colorbar\": {\"outlinewidth\": 0, \"ticks\": \"\"}}, \"type\": \"scattergeo\"}], \"scattergl\": [{\"marker\": {\"colorbar\": {\"outlinewidth\": 0, \"ticks\": \"\"}}, \"type\": \"scattergl\"}], \"scattermapbox\": [{\"marker\": {\"colorbar\": {\"outlinewidth\": 0, \"ticks\": \"\"}}, \"type\": \"scattermapbox\"}], \"scatterpolar\": [{\"marker\": {\"colorbar\": {\"outlinewidth\": 0, \"ticks\": \"\"}}, \"type\": \"scatterpolar\"}], \"scatterpolargl\": [{\"marker\": {\"colorbar\": {\"outlinewidth\": 0, \"ticks\": \"\"}}, \"type\": \"scatterpolargl\"}], \"scatterternary\": [{\"marker\": {\"colorbar\": {\"outlinewidth\": 0, \"ticks\": \"\"}}, \"type\": \"scatterternary\"}], \"surface\": [{\"colorbar\": {\"outlinewidth\": 0, \"ticks\": \"\"}, \"colorscale\": [[0.0, \"#0d0887\"], [0.1111111111111111, \"#46039f\"], [0.2222222222222222, \"#7201a8\"], [0.3333333333333333, \"#9c179e\"], [0.4444444444444444, \"#bd3786\"], [0.5555555555555556, \"#d8576b\"], [0.6666666666666666, \"#ed7953\"], [0.7777777777777778, \"#fb9f3a\"], [0.8888888888888888, \"#fdca26\"], [1.0, \"#f0f921\"]], \"type\": \"surface\"}], \"table\": [{\"cells\": {\"fill\": {\"color\": \"#EBF0F8\"}, \"line\": {\"color\": \"white\"}}, \"header\": {\"fill\": {\"color\": \"#C8D4E3\"}, \"line\": {\"color\": \"white\"}}, \"type\": \"table\"}]}, \"layout\": {\"annotationdefaults\": {\"arrowcolor\": \"#2a3f5f\", \"arrowhead\": 0, \"arrowwidth\": 1}, \"autotypenumbers\": \"strict\", \"coloraxis\": {\"colorbar\": {\"outlinewidth\": 0, \"ticks\": \"\"}}, \"colorscale\": {\"diverging\": [[0, \"#8e0152\"], [0.1, \"#c51b7d\"], [0.2, \"#de77ae\"], [0.3, \"#f1b6da\"], [0.4, \"#fde0ef\"], [0.5, \"#f7f7f7\"], [0.6, \"#e6f5d0\"], [0.7, \"#b8e186\"], [0.8, \"#7fbc41\"], [0.9, \"#4d9221\"], [1, \"#276419\"]], \"sequential\": [[0.0, \"#0d0887\"], [0.1111111111111111, \"#46039f\"], [0.2222222222222222, \"#7201a8\"], [0.3333333333333333, \"#9c179e\"], [0.4444444444444444, \"#bd3786\"], [0.5555555555555556, \"#d8576b\"], [0.6666666666666666, \"#ed7953\"], [0.7777777777777778, \"#fb9f3a\"], [0.8888888888888888, \"#fdca26\"], [1.0, \"#f0f921\"]], \"sequentialminus\": [[0.0, \"#0d0887\"], [0.1111111111111111, \"#46039f\"], [0.2222222222222222, \"#7201a8\"], [0.3333333333333333, \"#9c179e\"], [0.4444444444444444, \"#bd3786\"], [0.5555555555555556, \"#d8576b\"], [0.6666666666666666, \"#ed7953\"], [0.7777777777777778, \"#fb9f3a\"], [0.8888888888888888, \"#fdca26\"], [1.0, \"#f0f921\"]]}, \"colorway\": [\"#636efa\", \"#EF553B\", \"#00cc96\", \"#ab63fa\", \"#FFA15A\", \"#19d3f3\", \"#FF6692\", \"#B6E880\", \"#FF97FF\", \"#FECB52\"], \"font\": {\"color\": \"#2a3f5f\"}, \"geo\": {\"bgcolor\": \"white\", \"lakecolor\": \"white\", \"landcolor\": \"white\", \"showlakes\": true, \"showland\": true, \"subunitcolor\": \"#C8D4E3\"}, \"hoverlabel\": {\"align\": \"left\"}, \"hovermode\": \"closest\", \"mapbox\": {\"style\": \"light\"}, \"paper_bgcolor\": \"white\", \"plot_bgcolor\": \"white\", \"polar\": {\"angularaxis\": {\"gridcolor\": \"#EBF0F8\", \"linecolor\": \"#EBF0F8\", \"ticks\": \"\"}, \"bgcolor\": \"white\", \"radialaxis\": {\"gridcolor\": \"#EBF0F8\", \"linecolor\": \"#EBF0F8\", \"ticks\": \"\"}}, \"scene\": {\"xaxis\": {\"backgroundcolor\": \"white\", \"gridcolor\": \"#DFE8F3\", \"gridwidth\": 2, \"linecolor\": \"#EBF0F8\", \"showbackground\": true, \"ticks\": \"\", \"zerolinecolor\": \"#EBF0F8\"}, \"yaxis\": {\"backgroundcolor\": \"white\", \"gridcolor\": \"#DFE8F3\", \"gridwidth\": 2, \"linecolor\": \"#EBF0F8\", \"showbackground\": true, \"ticks\": \"\", \"zerolinecolor\": \"#EBF0F8\"}, \"zaxis\": {\"backgroundcolor\": \"white\", \"gridcolor\": \"#DFE8F3\", \"gridwidth\": 2, \"linecolor\": \"#EBF0F8\", \"showbackground\": true, \"ticks\": \"\", \"zerolinecolor\": \"#EBF0F8\"}}, \"shapedefaults\": {\"line\": {\"color\": \"#2a3f5f\"}}, \"ternary\": {\"aaxis\": {\"gridcolor\": \"#DFE8F3\", \"linecolor\": \"#A2B1C6\", \"ticks\": \"\"}, \"baxis\": {\"gridcolor\": \"#DFE8F3\", \"linecolor\": \"#A2B1C6\", \"ticks\": \"\"}, \"bgcolor\": \"white\", \"caxis\": {\"gridcolor\": \"#DFE8F3\", \"linecolor\": \"#A2B1C6\", \"ticks\": \"\"}}, \"title\": {\"x\": 0.05}, \"xaxis\": {\"automargin\": true, \"gridcolor\": \"#EBF0F8\", \"linecolor\": \"#EBF0F8\", \"ticks\": \"\", \"title\": {\"standoff\": 15}, \"zerolinecolor\": \"#EBF0F8\", \"zerolinewidth\": 2}, \"yaxis\": {\"automargin\": true, \"gridcolor\": \"#EBF0F8\", \"linecolor\": \"#EBF0F8\", \"ticks\": \"\", \"title\": {\"standoff\": 15}, \"zerolinecolor\": \"#EBF0F8\", \"zerolinewidth\": 2}}}, \"title\": {\"xanchor\": \"left\", \"y\": 0.9, \"yanchor\": \"top\"}, \"xaxis\": {\"rangeselector\": {\"buttons\": [{\"count\": 1, \"label\": \"1m\", \"step\": \"month\", \"stepmode\": \"backward\"}, {\"count\": 6, \"label\": \"6m\", \"step\": \"month\", \"stepmode\": \"backward\"}, {\"count\": 1, \"label\": \"YTD\", \"step\": \"year\", \"stepmode\": \"todate\"}, {\"count\": 1, \"label\": \"1y\", \"step\": \"year\", \"stepmode\": \"backward\"}, {\"step\": \"all\"}]}, \"rangeslider\": {\"visible\": true}}},                        {\"responsive\": true}                    ).then(function(){\n",
       "                            \n",
       "var gd = document.getElementById('1f843670-2632-4ad2-bf5f-c80b4eb46212');\n",
       "var x = new MutationObserver(function (mutations, observer) {{\n",
       "        var display = window.getComputedStyle(gd).display;\n",
       "        if (!display || display === 'none') {{\n",
       "            console.log([gd, 'removed!']);\n",
       "            Plotly.purge(gd);\n",
       "            observer.disconnect();\n",
       "        }}\n",
       "}});\n",
       "\n",
       "// Listen for the removal of the full notebook cells\n",
       "var notebookContainer = gd.closest('#notebook-container');\n",
       "if (notebookContainer) {{\n",
       "    x.observe(notebookContainer, {childList: true});\n",
       "}}\n",
       "\n",
       "// Listen for the clearing of the current output cell\n",
       "var outputEl = gd.closest('.output');\n",
       "if (outputEl) {{\n",
       "    x.observe(outputEl, {childList: true});\n",
       "}}\n",
       "\n",
       "                        })                };                });            </script>        </div>"
      ]
     },
     "metadata": {},
     "output_type": "display_data"
    }
   ],
   "source": [
    "def create_graph3(df):\n",
    "\n",
    "    fig = go.Figure()\n",
    "    data = []\n",
    "\n",
    "    fig.add_trace(\n",
    "        go.Scatter(x=df['Data'],\n",
    "                y=df['% renda_acum'],\n",
    "                mode='lines',\n",
    "                name='% Rendimento',\n",
    "                textposition='top center',\n",
    "                text=df['% renda_acum'].apply(lambda x: f'{x:,.2f}%'),\n",
    "                marker=dict(size=7),\n",
    "                line=dict(color='rgb(115,115,115)', width=1.8),\n",
    "                opacity=.8))\n",
    "\n",
    "    fig.update_xaxes(\n",
    "        rangeslider_visible=True,\n",
    "        rangeselector=dict(\n",
    "            buttons=list([\n",
    "                dict(count=1, label=\"1m\", step=\"month\", stepmode=\"backward\"),\n",
    "                dict(count=6, label=\"6m\", step=\"month\", stepmode=\"backward\"),\n",
    "                dict(count=1, label=\"YTD\", step=\"year\", stepmode=\"todate\"),\n",
    "                dict(count=1, label=\"1y\", step=\"year\", stepmode=\"backward\"),\n",
    "                dict(step=\"all\")\n",
    "            ])\n",
    "        )\n",
    "    )\n",
    "\n",
    "    fig.update_layout(\n",
    "        template='plotly_white', \n",
    "        legend_orientation='h', \n",
    "        #height=600, \n",
    "        #width=1000, \n",
    "        title={\n",
    "            'y':0.9,\n",
    "            'xanchor': 'left',\n",
    "            'yanchor': 'top'}\n",
    "        \n",
    "    )\n",
    "\n",
    "\n",
    "    fig.show()\n",
    "    \n",
    "create_graph3(df_graph1[df_graph1['Data'] >= '2014-01-01'].sort_values('Data'))"
   ]
  },
  {
   "cell_type": "code",
   "execution_count": 231,
   "metadata": {},
   "outputs": [],
   "source": [
    "def create_graph2(df):\n",
    "\n",
    "    fig = go.Figure()\n",
    "    data = []\n",
    "\n",
    "    fig.add_trace(\n",
    "        go.Scatter(x=df['Data'],\n",
    "            y=df['renda_acum'],\n",
    "            mode='lines',\n",
    "            name = 'Rendimento Acumulado',\n",
    "            text=df['renda_acum'].apply(lambda x: f'{x/1000:,.0f}K'),\n",
    "            #textposition='outside',\n",
    "            line=dict(color='rgb(115,115,115)'), \n",
    "            line_shape='linear'\n",
    "            ))            \n",
    "    \n",
    "    fig.update_xaxes(\n",
    "        rangeslider_visible=True,\n",
    "        rangeselector=dict(\n",
    "            buttons=list([\n",
    "                dict(count=1, label=\"1m\", step=\"month\", stepmode=\"backward\"),\n",
    "                dict(count=6, label=\"6m\", step=\"month\", stepmode=\"backward\"),\n",
    "                dict(count=1, label=\"YTD\", step=\"year\", stepmode=\"todate\"),\n",
    "                dict(count=1, label=\"1y\", step=\"year\", stepmode=\"backward\"),\n",
    "                dict(step=\"all\")\n",
    "            ])\n",
    "        )\n",
    "    )\n",
    "\n",
    "    fig.update_layout(\n",
    "        template='plotly_white', \n",
    "        legend_orientation='h', \n",
    "        #height=600, \n",
    "        #width=1000, \n",
    "        title={\n",
    "            'y':0.9,\n",
    "            'xanchor': 'left',\n",
    "            'yanchor': 'top'}\n",
    "        \n",
    "    )\n",
    "\n",
    "\n",
    "    fig.show()"
   ]
  },
  {
   "cell_type": "code",
   "execution_count": 232,
   "metadata": {},
   "outputs": [
    {
     "data": {
      "application/vnd.plotly.v1+json": {
       "config": {
        "plotlyServerURL": "https://plot.ly"
       },
       "data": [
        {
         "line": {
          "color": "rgb(115,115,115)",
          "shape": "linear"
         },
         "mode": "lines",
         "name": "Rendimento Acumulado",
         "text": [
          "0K",
          "0K",
          "0K",
          "0K",
          "0K",
          "0K",
          "3K",
          "4K",
          "4K",
          "4K",
          "3K",
          "3K",
          "3K",
          "2K",
          "3K",
          "3K",
          "4K",
          "4K",
          "4K",
          "3K",
          "3K",
          "3K",
          "3K",
          "3K",
          "2K",
          "2K",
          "3K",
          "4K",
          "4K",
          "4K",
          "5K",
          "6K",
          "6K",
          "7K",
          "7K",
          "7K",
          "8K",
          "10K",
          "9K",
          "10K",
          "8K",
          "9K",
          "10K",
          "12K",
          "13K",
          "13K",
          "12K",
          "14K",
          "18K",
          "20K",
          "22K",
          "23K",
          "19K",
          "10K",
          "11K",
          "11K",
          "12K",
          "13K",
          "13K",
          "13K",
          "18K",
          "17K",
          "17K",
          "17K",
          "17K",
          "20K",
          "20K",
          "20K",
          "24K",
          "34K",
          "34K",
          "43K",
          "51K",
          "41K",
          "3K",
          "22K",
          "40K",
          "67K",
          "86K",
          "90K",
          "79K",
          "85K",
          "97K"
         ],
         "type": "scatter",
         "x": [
          "2014-01-31T00:00:00",
          "2014-02-28T00:00:00",
          "2014-03-31T00:00:00",
          "2014-04-30T00:00:00",
          "2014-05-31T00:00:00",
          "2014-06-30T00:00:00",
          "2014-07-31T00:00:00",
          "2014-08-31T00:00:00",
          "2014-09-30T00:00:00",
          "2014-10-31T00:00:00",
          "2014-11-30T00:00:00",
          "2014-12-31T00:00:00",
          "2015-01-31T00:00:00",
          "2015-02-28T00:00:00",
          "2015-03-31T00:00:00",
          "2015-04-30T00:00:00",
          "2015-05-31T00:00:00",
          "2015-06-30T00:00:00",
          "2015-07-31T00:00:00",
          "2015-08-31T00:00:00",
          "2015-09-30T00:00:00",
          "2015-10-31T00:00:00",
          "2015-11-30T00:00:00",
          "2015-12-31T00:00:00",
          "2016-01-31T00:00:00",
          "2016-02-29T00:00:00",
          "2016-03-31T00:00:00",
          "2016-04-30T00:00:00",
          "2016-05-31T00:00:00",
          "2016-06-30T00:00:00",
          "2016-07-31T00:00:00",
          "2016-08-31T00:00:00",
          "2016-09-30T00:00:00",
          "2016-10-31T00:00:00",
          "2016-11-30T00:00:00",
          "2016-12-31T00:00:00",
          "2017-01-31T00:00:00",
          "2017-02-28T00:00:00",
          "2017-03-31T00:00:00",
          "2017-04-30T00:00:00",
          "2017-05-31T00:00:00",
          "2017-06-30T00:00:00",
          "2017-07-31T00:00:00",
          "2017-08-31T00:00:00",
          "2017-09-30T00:00:00",
          "2017-10-31T00:00:00",
          "2017-11-30T00:00:00",
          "2017-12-31T00:00:00",
          "2018-01-31T00:00:00",
          "2018-02-28T00:00:00",
          "2018-03-31T00:00:00",
          "2018-04-30T00:00:00",
          "2018-05-31T00:00:00",
          "2018-06-30T00:00:00",
          "2018-07-31T00:00:00",
          "2018-08-31T00:00:00",
          "2018-09-30T00:00:00",
          "2018-10-31T00:00:00",
          "2018-11-30T00:00:00",
          "2018-12-31T00:00:00",
          "2019-01-31T00:00:00",
          "2019-02-28T00:00:00",
          "2019-03-31T00:00:00",
          "2019-04-30T00:00:00",
          "2019-05-31T00:00:00",
          "2019-06-30T00:00:00",
          "2019-07-31T00:00:00",
          "2019-08-31T00:00:00",
          "2019-09-30T00:00:00",
          "2019-10-31T00:00:00",
          "2019-11-30T00:00:00",
          "2019-12-31T00:00:00",
          "2020-01-31T00:00:00",
          "2020-02-29T00:00:00",
          "2020-03-31T00:00:00",
          "2020-04-30T00:00:00",
          "2020-05-31T00:00:00",
          "2020-06-30T00:00:00",
          "2020-07-31T00:00:00",
          "2020-08-31T00:00:00",
          "2020-09-30T00:00:00",
          "2020-10-31T00:00:00",
          "2020-12-31T00:00:00"
         ],
         "y": [
          0,
          0,
          0,
          0,
          0,
          0,
          3104.5299999999993,
          3539.8399999999992,
          4204.280000000002,
          3859.8100000000004,
          3354.380000000002,
          2698.9000000000015,
          3007.499999999998,
          2234.3500000000017,
          2515.2900000000027,
          3457.790000000002,
          4252.030000000002,
          3818.010000000003,
          3720.4900000000007,
          3266.970000000003,
          2720.2000000000016,
          2708.8500000000013,
          2863.0400000000013,
          2660.9000000000015,
          2457.9000000000015,
          2269.6800000000017,
          2706.8700000000017,
          3572.550000000002,
          4205.4,
          4375.620000000001,
          5220.029999999999,
          5539.35,
          5729.46,
          6560.149999999999,
          6685.09,
          7230.5599999999995,
          8337.180000000002,
          9668.720000000001,
          9419.880000000001,
          9761.220000000003,
          8280.000000000002,
          8961.460000000003,
          10316.910000000002,
          11559.140000000003,
          13386.16,
          13205.48,
          12376.310000000007,
          13968.439999999997,
          17589.1,
          19741.96,
          22322.08000000001,
          22741.829999999994,
          18936.639999999996,
          9928.139999999998,
          10764.329999999994,
          11065.019999999991,
          11758.149999999998,
          13024.990000000003,
          12734.829999999998,
          13134.279999999995,
          17556.039999999994,
          17218.25999999999,
          16956.03,
          17054.299999999996,
          16883.95,
          19770.37,
          19983.19999999999,
          19872.440000000002,
          24046.459999999995,
          34340.03999999999,
          33756.49999999999,
          43121.88,
          51177.21000000001,
          41096.579999999994,
          2632.8700000000026,
          21774.54,
          39554.65,
          66516.13,
          86441.06,
          89568.19999999998,
          78803.97,
          85246.46,
          96937.58
         ]
        }
       ],
       "layout": {
        "legend": {
         "orientation": "h"
        },
        "template": {
         "data": {
          "bar": [
           {
            "error_x": {
             "color": "#2a3f5f"
            },
            "error_y": {
             "color": "#2a3f5f"
            },
            "marker": {
             "line": {
              "color": "white",
              "width": 0.5
             }
            },
            "type": "bar"
           }
          ],
          "barpolar": [
           {
            "marker": {
             "line": {
              "color": "white",
              "width": 0.5
             }
            },
            "type": "barpolar"
           }
          ],
          "carpet": [
           {
            "aaxis": {
             "endlinecolor": "#2a3f5f",
             "gridcolor": "#C8D4E3",
             "linecolor": "#C8D4E3",
             "minorgridcolor": "#C8D4E3",
             "startlinecolor": "#2a3f5f"
            },
            "baxis": {
             "endlinecolor": "#2a3f5f",
             "gridcolor": "#C8D4E3",
             "linecolor": "#C8D4E3",
             "minorgridcolor": "#C8D4E3",
             "startlinecolor": "#2a3f5f"
            },
            "type": "carpet"
           }
          ],
          "choropleth": [
           {
            "colorbar": {
             "outlinewidth": 0,
             "ticks": ""
            },
            "type": "choropleth"
           }
          ],
          "contour": [
           {
            "colorbar": {
             "outlinewidth": 0,
             "ticks": ""
            },
            "colorscale": [
             [
              0,
              "#0d0887"
             ],
             [
              0.1111111111111111,
              "#46039f"
             ],
             [
              0.2222222222222222,
              "#7201a8"
             ],
             [
              0.3333333333333333,
              "#9c179e"
             ],
             [
              0.4444444444444444,
              "#bd3786"
             ],
             [
              0.5555555555555556,
              "#d8576b"
             ],
             [
              0.6666666666666666,
              "#ed7953"
             ],
             [
              0.7777777777777778,
              "#fb9f3a"
             ],
             [
              0.8888888888888888,
              "#fdca26"
             ],
             [
              1,
              "#f0f921"
             ]
            ],
            "type": "contour"
           }
          ],
          "contourcarpet": [
           {
            "colorbar": {
             "outlinewidth": 0,
             "ticks": ""
            },
            "type": "contourcarpet"
           }
          ],
          "heatmap": [
           {
            "colorbar": {
             "outlinewidth": 0,
             "ticks": ""
            },
            "colorscale": [
             [
              0,
              "#0d0887"
             ],
             [
              0.1111111111111111,
              "#46039f"
             ],
             [
              0.2222222222222222,
              "#7201a8"
             ],
             [
              0.3333333333333333,
              "#9c179e"
             ],
             [
              0.4444444444444444,
              "#bd3786"
             ],
             [
              0.5555555555555556,
              "#d8576b"
             ],
             [
              0.6666666666666666,
              "#ed7953"
             ],
             [
              0.7777777777777778,
              "#fb9f3a"
             ],
             [
              0.8888888888888888,
              "#fdca26"
             ],
             [
              1,
              "#f0f921"
             ]
            ],
            "type": "heatmap"
           }
          ],
          "heatmapgl": [
           {
            "colorbar": {
             "outlinewidth": 0,
             "ticks": ""
            },
            "colorscale": [
             [
              0,
              "#0d0887"
             ],
             [
              0.1111111111111111,
              "#46039f"
             ],
             [
              0.2222222222222222,
              "#7201a8"
             ],
             [
              0.3333333333333333,
              "#9c179e"
             ],
             [
              0.4444444444444444,
              "#bd3786"
             ],
             [
              0.5555555555555556,
              "#d8576b"
             ],
             [
              0.6666666666666666,
              "#ed7953"
             ],
             [
              0.7777777777777778,
              "#fb9f3a"
             ],
             [
              0.8888888888888888,
              "#fdca26"
             ],
             [
              1,
              "#f0f921"
             ]
            ],
            "type": "heatmapgl"
           }
          ],
          "histogram": [
           {
            "marker": {
             "colorbar": {
              "outlinewidth": 0,
              "ticks": ""
             }
            },
            "type": "histogram"
           }
          ],
          "histogram2d": [
           {
            "colorbar": {
             "outlinewidth": 0,
             "ticks": ""
            },
            "colorscale": [
             [
              0,
              "#0d0887"
             ],
             [
              0.1111111111111111,
              "#46039f"
             ],
             [
              0.2222222222222222,
              "#7201a8"
             ],
             [
              0.3333333333333333,
              "#9c179e"
             ],
             [
              0.4444444444444444,
              "#bd3786"
             ],
             [
              0.5555555555555556,
              "#d8576b"
             ],
             [
              0.6666666666666666,
              "#ed7953"
             ],
             [
              0.7777777777777778,
              "#fb9f3a"
             ],
             [
              0.8888888888888888,
              "#fdca26"
             ],
             [
              1,
              "#f0f921"
             ]
            ],
            "type": "histogram2d"
           }
          ],
          "histogram2dcontour": [
           {
            "colorbar": {
             "outlinewidth": 0,
             "ticks": ""
            },
            "colorscale": [
             [
              0,
              "#0d0887"
             ],
             [
              0.1111111111111111,
              "#46039f"
             ],
             [
              0.2222222222222222,
              "#7201a8"
             ],
             [
              0.3333333333333333,
              "#9c179e"
             ],
             [
              0.4444444444444444,
              "#bd3786"
             ],
             [
              0.5555555555555556,
              "#d8576b"
             ],
             [
              0.6666666666666666,
              "#ed7953"
             ],
             [
              0.7777777777777778,
              "#fb9f3a"
             ],
             [
              0.8888888888888888,
              "#fdca26"
             ],
             [
              1,
              "#f0f921"
             ]
            ],
            "type": "histogram2dcontour"
           }
          ],
          "mesh3d": [
           {
            "colorbar": {
             "outlinewidth": 0,
             "ticks": ""
            },
            "type": "mesh3d"
           }
          ],
          "parcoords": [
           {
            "line": {
             "colorbar": {
              "outlinewidth": 0,
              "ticks": ""
             }
            },
            "type": "parcoords"
           }
          ],
          "pie": [
           {
            "automargin": true,
            "type": "pie"
           }
          ],
          "scatter": [
           {
            "marker": {
             "colorbar": {
              "outlinewidth": 0,
              "ticks": ""
             }
            },
            "type": "scatter"
           }
          ],
          "scatter3d": [
           {
            "line": {
             "colorbar": {
              "outlinewidth": 0,
              "ticks": ""
             }
            },
            "marker": {
             "colorbar": {
              "outlinewidth": 0,
              "ticks": ""
             }
            },
            "type": "scatter3d"
           }
          ],
          "scattercarpet": [
           {
            "marker": {
             "colorbar": {
              "outlinewidth": 0,
              "ticks": ""
             }
            },
            "type": "scattercarpet"
           }
          ],
          "scattergeo": [
           {
            "marker": {
             "colorbar": {
              "outlinewidth": 0,
              "ticks": ""
             }
            },
            "type": "scattergeo"
           }
          ],
          "scattergl": [
           {
            "marker": {
             "colorbar": {
              "outlinewidth": 0,
              "ticks": ""
             }
            },
            "type": "scattergl"
           }
          ],
          "scattermapbox": [
           {
            "marker": {
             "colorbar": {
              "outlinewidth": 0,
              "ticks": ""
             }
            },
            "type": "scattermapbox"
           }
          ],
          "scatterpolar": [
           {
            "marker": {
             "colorbar": {
              "outlinewidth": 0,
              "ticks": ""
             }
            },
            "type": "scatterpolar"
           }
          ],
          "scatterpolargl": [
           {
            "marker": {
             "colorbar": {
              "outlinewidth": 0,
              "ticks": ""
             }
            },
            "type": "scatterpolargl"
           }
          ],
          "scatterternary": [
           {
            "marker": {
             "colorbar": {
              "outlinewidth": 0,
              "ticks": ""
             }
            },
            "type": "scatterternary"
           }
          ],
          "surface": [
           {
            "colorbar": {
             "outlinewidth": 0,
             "ticks": ""
            },
            "colorscale": [
             [
              0,
              "#0d0887"
             ],
             [
              0.1111111111111111,
              "#46039f"
             ],
             [
              0.2222222222222222,
              "#7201a8"
             ],
             [
              0.3333333333333333,
              "#9c179e"
             ],
             [
              0.4444444444444444,
              "#bd3786"
             ],
             [
              0.5555555555555556,
              "#d8576b"
             ],
             [
              0.6666666666666666,
              "#ed7953"
             ],
             [
              0.7777777777777778,
              "#fb9f3a"
             ],
             [
              0.8888888888888888,
              "#fdca26"
             ],
             [
              1,
              "#f0f921"
             ]
            ],
            "type": "surface"
           }
          ],
          "table": [
           {
            "cells": {
             "fill": {
              "color": "#EBF0F8"
             },
             "line": {
              "color": "white"
             }
            },
            "header": {
             "fill": {
              "color": "#C8D4E3"
             },
             "line": {
              "color": "white"
             }
            },
            "type": "table"
           }
          ]
         },
         "layout": {
          "annotationdefaults": {
           "arrowcolor": "#2a3f5f",
           "arrowhead": 0,
           "arrowwidth": 1
          },
          "autotypenumbers": "strict",
          "coloraxis": {
           "colorbar": {
            "outlinewidth": 0,
            "ticks": ""
           }
          },
          "colorscale": {
           "diverging": [
            [
             0,
             "#8e0152"
            ],
            [
             0.1,
             "#c51b7d"
            ],
            [
             0.2,
             "#de77ae"
            ],
            [
             0.3,
             "#f1b6da"
            ],
            [
             0.4,
             "#fde0ef"
            ],
            [
             0.5,
             "#f7f7f7"
            ],
            [
             0.6,
             "#e6f5d0"
            ],
            [
             0.7,
             "#b8e186"
            ],
            [
             0.8,
             "#7fbc41"
            ],
            [
             0.9,
             "#4d9221"
            ],
            [
             1,
             "#276419"
            ]
           ],
           "sequential": [
            [
             0,
             "#0d0887"
            ],
            [
             0.1111111111111111,
             "#46039f"
            ],
            [
             0.2222222222222222,
             "#7201a8"
            ],
            [
             0.3333333333333333,
             "#9c179e"
            ],
            [
             0.4444444444444444,
             "#bd3786"
            ],
            [
             0.5555555555555556,
             "#d8576b"
            ],
            [
             0.6666666666666666,
             "#ed7953"
            ],
            [
             0.7777777777777778,
             "#fb9f3a"
            ],
            [
             0.8888888888888888,
             "#fdca26"
            ],
            [
             1,
             "#f0f921"
            ]
           ],
           "sequentialminus": [
            [
             0,
             "#0d0887"
            ],
            [
             0.1111111111111111,
             "#46039f"
            ],
            [
             0.2222222222222222,
             "#7201a8"
            ],
            [
             0.3333333333333333,
             "#9c179e"
            ],
            [
             0.4444444444444444,
             "#bd3786"
            ],
            [
             0.5555555555555556,
             "#d8576b"
            ],
            [
             0.6666666666666666,
             "#ed7953"
            ],
            [
             0.7777777777777778,
             "#fb9f3a"
            ],
            [
             0.8888888888888888,
             "#fdca26"
            ],
            [
             1,
             "#f0f921"
            ]
           ]
          },
          "colorway": [
           "#636efa",
           "#EF553B",
           "#00cc96",
           "#ab63fa",
           "#FFA15A",
           "#19d3f3",
           "#FF6692",
           "#B6E880",
           "#FF97FF",
           "#FECB52"
          ],
          "font": {
           "color": "#2a3f5f"
          },
          "geo": {
           "bgcolor": "white",
           "lakecolor": "white",
           "landcolor": "white",
           "showlakes": true,
           "showland": true,
           "subunitcolor": "#C8D4E3"
          },
          "hoverlabel": {
           "align": "left"
          },
          "hovermode": "closest",
          "mapbox": {
           "style": "light"
          },
          "paper_bgcolor": "white",
          "plot_bgcolor": "white",
          "polar": {
           "angularaxis": {
            "gridcolor": "#EBF0F8",
            "linecolor": "#EBF0F8",
            "ticks": ""
           },
           "bgcolor": "white",
           "radialaxis": {
            "gridcolor": "#EBF0F8",
            "linecolor": "#EBF0F8",
            "ticks": ""
           }
          },
          "scene": {
           "xaxis": {
            "backgroundcolor": "white",
            "gridcolor": "#DFE8F3",
            "gridwidth": 2,
            "linecolor": "#EBF0F8",
            "showbackground": true,
            "ticks": "",
            "zerolinecolor": "#EBF0F8"
           },
           "yaxis": {
            "backgroundcolor": "white",
            "gridcolor": "#DFE8F3",
            "gridwidth": 2,
            "linecolor": "#EBF0F8",
            "showbackground": true,
            "ticks": "",
            "zerolinecolor": "#EBF0F8"
           },
           "zaxis": {
            "backgroundcolor": "white",
            "gridcolor": "#DFE8F3",
            "gridwidth": 2,
            "linecolor": "#EBF0F8",
            "showbackground": true,
            "ticks": "",
            "zerolinecolor": "#EBF0F8"
           }
          },
          "shapedefaults": {
           "line": {
            "color": "#2a3f5f"
           }
          },
          "ternary": {
           "aaxis": {
            "gridcolor": "#DFE8F3",
            "linecolor": "#A2B1C6",
            "ticks": ""
           },
           "baxis": {
            "gridcolor": "#DFE8F3",
            "linecolor": "#A2B1C6",
            "ticks": ""
           },
           "bgcolor": "white",
           "caxis": {
            "gridcolor": "#DFE8F3",
            "linecolor": "#A2B1C6",
            "ticks": ""
           }
          },
          "title": {
           "x": 0.05
          },
          "xaxis": {
           "automargin": true,
           "gridcolor": "#EBF0F8",
           "linecolor": "#EBF0F8",
           "ticks": "",
           "title": {
            "standoff": 15
           },
           "zerolinecolor": "#EBF0F8",
           "zerolinewidth": 2
          },
          "yaxis": {
           "automargin": true,
           "gridcolor": "#EBF0F8",
           "linecolor": "#EBF0F8",
           "ticks": "",
           "title": {
            "standoff": 15
           },
           "zerolinecolor": "#EBF0F8",
           "zerolinewidth": 2
          }
         }
        },
        "title": {
         "xanchor": "left",
         "y": 0.9,
         "yanchor": "top"
        },
        "xaxis": {
         "rangeselector": {
          "buttons": [
           {
            "count": 1,
            "label": "1m",
            "step": "month",
            "stepmode": "backward"
           },
           {
            "count": 6,
            "label": "6m",
            "step": "month",
            "stepmode": "backward"
           },
           {
            "count": 1,
            "label": "YTD",
            "step": "year",
            "stepmode": "todate"
           },
           {
            "count": 1,
            "label": "1y",
            "step": "year",
            "stepmode": "backward"
           },
           {
            "step": "all"
           }
          ]
         },
         "rangeslider": {
          "visible": true
         }
        }
       }
      },
      "text/html": [
       "<div>                            <div id=\"4aa7576f-055b-494c-8800-852b174e8053\" class=\"plotly-graph-div\" style=\"height:525px; width:100%;\"></div>            <script type=\"text/javascript\">                require([\"plotly\"], function(Plotly) {                    window.PLOTLYENV=window.PLOTLYENV || {};                                    if (document.getElementById(\"4aa7576f-055b-494c-8800-852b174e8053\")) {                    Plotly.newPlot(                        \"4aa7576f-055b-494c-8800-852b174e8053\",                        [{\"line\": {\"color\": \"rgb(115,115,115)\", \"shape\": \"linear\"}, \"mode\": \"lines\", \"name\": \"Rendimento Acumulado\", \"text\": [\"0K\", \"0K\", \"0K\", \"0K\", \"0K\", \"0K\", \"3K\", \"4K\", \"4K\", \"4K\", \"3K\", \"3K\", \"3K\", \"2K\", \"3K\", \"3K\", \"4K\", \"4K\", \"4K\", \"3K\", \"3K\", \"3K\", \"3K\", \"3K\", \"2K\", \"2K\", \"3K\", \"4K\", \"4K\", \"4K\", \"5K\", \"6K\", \"6K\", \"7K\", \"7K\", \"7K\", \"8K\", \"10K\", \"9K\", \"10K\", \"8K\", \"9K\", \"10K\", \"12K\", \"13K\", \"13K\", \"12K\", \"14K\", \"18K\", \"20K\", \"22K\", \"23K\", \"19K\", \"10K\", \"11K\", \"11K\", \"12K\", \"13K\", \"13K\", \"13K\", \"18K\", \"17K\", \"17K\", \"17K\", \"17K\", \"20K\", \"20K\", \"20K\", \"24K\", \"34K\", \"34K\", \"43K\", \"51K\", \"41K\", \"3K\", \"22K\", \"40K\", \"67K\", \"86K\", \"90K\", \"79K\", \"85K\", \"97K\"], \"type\": \"scatter\", \"x\": [\"2014-01-31T00:00:00\", \"2014-02-28T00:00:00\", \"2014-03-31T00:00:00\", \"2014-04-30T00:00:00\", \"2014-05-31T00:00:00\", \"2014-06-30T00:00:00\", \"2014-07-31T00:00:00\", \"2014-08-31T00:00:00\", \"2014-09-30T00:00:00\", \"2014-10-31T00:00:00\", \"2014-11-30T00:00:00\", \"2014-12-31T00:00:00\", \"2015-01-31T00:00:00\", \"2015-02-28T00:00:00\", \"2015-03-31T00:00:00\", \"2015-04-30T00:00:00\", \"2015-05-31T00:00:00\", \"2015-06-30T00:00:00\", \"2015-07-31T00:00:00\", \"2015-08-31T00:00:00\", \"2015-09-30T00:00:00\", \"2015-10-31T00:00:00\", \"2015-11-30T00:00:00\", \"2015-12-31T00:00:00\", \"2016-01-31T00:00:00\", \"2016-02-29T00:00:00\", \"2016-03-31T00:00:00\", \"2016-04-30T00:00:00\", \"2016-05-31T00:00:00\", \"2016-06-30T00:00:00\", \"2016-07-31T00:00:00\", \"2016-08-31T00:00:00\", \"2016-09-30T00:00:00\", \"2016-10-31T00:00:00\", \"2016-11-30T00:00:00\", \"2016-12-31T00:00:00\", \"2017-01-31T00:00:00\", \"2017-02-28T00:00:00\", \"2017-03-31T00:00:00\", \"2017-04-30T00:00:00\", \"2017-05-31T00:00:00\", \"2017-06-30T00:00:00\", \"2017-07-31T00:00:00\", \"2017-08-31T00:00:00\", \"2017-09-30T00:00:00\", \"2017-10-31T00:00:00\", \"2017-11-30T00:00:00\", \"2017-12-31T00:00:00\", \"2018-01-31T00:00:00\", \"2018-02-28T00:00:00\", \"2018-03-31T00:00:00\", \"2018-04-30T00:00:00\", \"2018-05-31T00:00:00\", \"2018-06-30T00:00:00\", \"2018-07-31T00:00:00\", \"2018-08-31T00:00:00\", \"2018-09-30T00:00:00\", \"2018-10-31T00:00:00\", \"2018-11-30T00:00:00\", \"2018-12-31T00:00:00\", \"2019-01-31T00:00:00\", \"2019-02-28T00:00:00\", \"2019-03-31T00:00:00\", \"2019-04-30T00:00:00\", \"2019-05-31T00:00:00\", \"2019-06-30T00:00:00\", \"2019-07-31T00:00:00\", \"2019-08-31T00:00:00\", \"2019-09-30T00:00:00\", \"2019-10-31T00:00:00\", \"2019-11-30T00:00:00\", \"2019-12-31T00:00:00\", \"2020-01-31T00:00:00\", \"2020-02-29T00:00:00\", \"2020-03-31T00:00:00\", \"2020-04-30T00:00:00\", \"2020-05-31T00:00:00\", \"2020-06-30T00:00:00\", \"2020-07-31T00:00:00\", \"2020-08-31T00:00:00\", \"2020-09-30T00:00:00\", \"2020-10-31T00:00:00\", \"2020-12-31T00:00:00\"], \"y\": [0.0, 0.0, 0.0, 0.0, 0.0, 0.0, 3104.5299999999993, 3539.8399999999992, 4204.280000000002, 3859.8100000000004, 3354.380000000002, 2698.9000000000015, 3007.499999999998, 2234.3500000000017, 2515.2900000000027, 3457.790000000002, 4252.030000000002, 3818.010000000003, 3720.4900000000007, 3266.970000000003, 2720.2000000000016, 2708.8500000000013, 2863.0400000000013, 2660.9000000000015, 2457.9000000000015, 2269.6800000000017, 2706.8700000000017, 3572.550000000002, 4205.4, 4375.620000000001, 5220.029999999999, 5539.35, 5729.46, 6560.149999999999, 6685.09, 7230.5599999999995, 8337.180000000002, 9668.720000000001, 9419.880000000001, 9761.220000000003, 8280.000000000002, 8961.460000000003, 10316.910000000002, 11559.140000000003, 13386.16, 13205.48, 12376.310000000007, 13968.439999999997, 17589.1, 19741.96, 22322.08000000001, 22741.829999999994, 18936.639999999996, 9928.139999999998, 10764.329999999994, 11065.019999999991, 11758.149999999998, 13024.990000000003, 12734.829999999998, 13134.279999999995, 17556.039999999994, 17218.25999999999, 16956.03, 17054.299999999996, 16883.95, 19770.37, 19983.19999999999, 19872.440000000002, 24046.459999999995, 34340.03999999999, 33756.49999999999, 43121.88, 51177.21000000001, 41096.579999999994, 2632.8700000000026, 21774.54, 39554.65, 66516.13, 86441.06, 89568.19999999998, 78803.97, 85246.46, 96937.58]}],                        {\"legend\": {\"orientation\": \"h\"}, \"template\": {\"data\": {\"bar\": [{\"error_x\": {\"color\": \"#2a3f5f\"}, \"error_y\": {\"color\": \"#2a3f5f\"}, \"marker\": {\"line\": {\"color\": \"white\", \"width\": 0.5}}, \"type\": \"bar\"}], \"barpolar\": [{\"marker\": {\"line\": {\"color\": \"white\", \"width\": 0.5}}, \"type\": \"barpolar\"}], \"carpet\": [{\"aaxis\": {\"endlinecolor\": \"#2a3f5f\", \"gridcolor\": \"#C8D4E3\", \"linecolor\": \"#C8D4E3\", \"minorgridcolor\": \"#C8D4E3\", \"startlinecolor\": \"#2a3f5f\"}, \"baxis\": {\"endlinecolor\": \"#2a3f5f\", \"gridcolor\": \"#C8D4E3\", \"linecolor\": \"#C8D4E3\", \"minorgridcolor\": \"#C8D4E3\", \"startlinecolor\": \"#2a3f5f\"}, \"type\": \"carpet\"}], \"choropleth\": [{\"colorbar\": {\"outlinewidth\": 0, \"ticks\": \"\"}, \"type\": \"choropleth\"}], \"contour\": [{\"colorbar\": {\"outlinewidth\": 0, \"ticks\": \"\"}, \"colorscale\": [[0.0, \"#0d0887\"], [0.1111111111111111, \"#46039f\"], [0.2222222222222222, \"#7201a8\"], [0.3333333333333333, \"#9c179e\"], [0.4444444444444444, \"#bd3786\"], [0.5555555555555556, \"#d8576b\"], [0.6666666666666666, \"#ed7953\"], [0.7777777777777778, \"#fb9f3a\"], [0.8888888888888888, \"#fdca26\"], [1.0, \"#f0f921\"]], \"type\": \"contour\"}], \"contourcarpet\": [{\"colorbar\": {\"outlinewidth\": 0, \"ticks\": \"\"}, \"type\": \"contourcarpet\"}], \"heatmap\": [{\"colorbar\": {\"outlinewidth\": 0, \"ticks\": \"\"}, \"colorscale\": [[0.0, \"#0d0887\"], [0.1111111111111111, \"#46039f\"], [0.2222222222222222, \"#7201a8\"], [0.3333333333333333, \"#9c179e\"], [0.4444444444444444, \"#bd3786\"], [0.5555555555555556, \"#d8576b\"], [0.6666666666666666, \"#ed7953\"], [0.7777777777777778, \"#fb9f3a\"], [0.8888888888888888, \"#fdca26\"], [1.0, \"#f0f921\"]], \"type\": \"heatmap\"}], \"heatmapgl\": [{\"colorbar\": {\"outlinewidth\": 0, \"ticks\": \"\"}, \"colorscale\": [[0.0, \"#0d0887\"], [0.1111111111111111, \"#46039f\"], [0.2222222222222222, \"#7201a8\"], [0.3333333333333333, \"#9c179e\"], [0.4444444444444444, \"#bd3786\"], [0.5555555555555556, \"#d8576b\"], [0.6666666666666666, \"#ed7953\"], [0.7777777777777778, \"#fb9f3a\"], [0.8888888888888888, \"#fdca26\"], [1.0, \"#f0f921\"]], \"type\": \"heatmapgl\"}], \"histogram\": [{\"marker\": {\"colorbar\": {\"outlinewidth\": 0, \"ticks\": \"\"}}, \"type\": \"histogram\"}], \"histogram2d\": [{\"colorbar\": {\"outlinewidth\": 0, \"ticks\": \"\"}, \"colorscale\": [[0.0, \"#0d0887\"], [0.1111111111111111, \"#46039f\"], [0.2222222222222222, \"#7201a8\"], [0.3333333333333333, \"#9c179e\"], [0.4444444444444444, \"#bd3786\"], [0.5555555555555556, \"#d8576b\"], [0.6666666666666666, \"#ed7953\"], [0.7777777777777778, \"#fb9f3a\"], [0.8888888888888888, \"#fdca26\"], [1.0, \"#f0f921\"]], \"type\": \"histogram2d\"}], \"histogram2dcontour\": [{\"colorbar\": {\"outlinewidth\": 0, \"ticks\": \"\"}, \"colorscale\": [[0.0, \"#0d0887\"], [0.1111111111111111, \"#46039f\"], [0.2222222222222222, \"#7201a8\"], [0.3333333333333333, \"#9c179e\"], [0.4444444444444444, \"#bd3786\"], [0.5555555555555556, \"#d8576b\"], [0.6666666666666666, \"#ed7953\"], [0.7777777777777778, \"#fb9f3a\"], [0.8888888888888888, \"#fdca26\"], [1.0, \"#f0f921\"]], \"type\": \"histogram2dcontour\"}], \"mesh3d\": [{\"colorbar\": {\"outlinewidth\": 0, \"ticks\": \"\"}, \"type\": \"mesh3d\"}], \"parcoords\": [{\"line\": {\"colorbar\": {\"outlinewidth\": 0, \"ticks\": \"\"}}, \"type\": \"parcoords\"}], \"pie\": [{\"automargin\": true, \"type\": \"pie\"}], \"scatter\": [{\"marker\": {\"colorbar\": {\"outlinewidth\": 0, \"ticks\": \"\"}}, \"type\": \"scatter\"}], \"scatter3d\": [{\"line\": {\"colorbar\": {\"outlinewidth\": 0, \"ticks\": \"\"}}, \"marker\": {\"colorbar\": {\"outlinewidth\": 0, \"ticks\": \"\"}}, \"type\": \"scatter3d\"}], \"scattercarpet\": [{\"marker\": {\"colorbar\": {\"outlinewidth\": 0, \"ticks\": \"\"}}, \"type\": \"scattercarpet\"}], \"scattergeo\": [{\"marker\": {\"colorbar\": {\"outlinewidth\": 0, \"ticks\": \"\"}}, \"type\": \"scattergeo\"}], \"scattergl\": [{\"marker\": {\"colorbar\": {\"outlinewidth\": 0, \"ticks\": \"\"}}, \"type\": \"scattergl\"}], \"scattermapbox\": [{\"marker\": {\"colorbar\": {\"outlinewidth\": 0, \"ticks\": \"\"}}, \"type\": \"scattermapbox\"}], \"scatterpolar\": [{\"marker\": {\"colorbar\": {\"outlinewidth\": 0, \"ticks\": \"\"}}, \"type\": \"scatterpolar\"}], \"scatterpolargl\": [{\"marker\": {\"colorbar\": {\"outlinewidth\": 0, \"ticks\": \"\"}}, \"type\": \"scatterpolargl\"}], \"scatterternary\": [{\"marker\": {\"colorbar\": {\"outlinewidth\": 0, \"ticks\": \"\"}}, \"type\": \"scatterternary\"}], \"surface\": [{\"colorbar\": {\"outlinewidth\": 0, \"ticks\": \"\"}, \"colorscale\": [[0.0, \"#0d0887\"], [0.1111111111111111, \"#46039f\"], [0.2222222222222222, \"#7201a8\"], [0.3333333333333333, \"#9c179e\"], [0.4444444444444444, \"#bd3786\"], [0.5555555555555556, \"#d8576b\"], [0.6666666666666666, \"#ed7953\"], [0.7777777777777778, \"#fb9f3a\"], [0.8888888888888888, \"#fdca26\"], [1.0, \"#f0f921\"]], \"type\": \"surface\"}], \"table\": [{\"cells\": {\"fill\": {\"color\": \"#EBF0F8\"}, \"line\": {\"color\": \"white\"}}, \"header\": {\"fill\": {\"color\": \"#C8D4E3\"}, \"line\": {\"color\": \"white\"}}, \"type\": \"table\"}]}, \"layout\": {\"annotationdefaults\": {\"arrowcolor\": \"#2a3f5f\", \"arrowhead\": 0, \"arrowwidth\": 1}, \"autotypenumbers\": \"strict\", \"coloraxis\": {\"colorbar\": {\"outlinewidth\": 0, \"ticks\": \"\"}}, \"colorscale\": {\"diverging\": [[0, \"#8e0152\"], [0.1, \"#c51b7d\"], [0.2, \"#de77ae\"], [0.3, \"#f1b6da\"], [0.4, \"#fde0ef\"], [0.5, \"#f7f7f7\"], [0.6, \"#e6f5d0\"], [0.7, \"#b8e186\"], [0.8, \"#7fbc41\"], [0.9, \"#4d9221\"], [1, \"#276419\"]], \"sequential\": [[0.0, \"#0d0887\"], [0.1111111111111111, \"#46039f\"], [0.2222222222222222, \"#7201a8\"], [0.3333333333333333, \"#9c179e\"], [0.4444444444444444, \"#bd3786\"], [0.5555555555555556, \"#d8576b\"], [0.6666666666666666, \"#ed7953\"], [0.7777777777777778, \"#fb9f3a\"], [0.8888888888888888, \"#fdca26\"], [1.0, \"#f0f921\"]], \"sequentialminus\": [[0.0, \"#0d0887\"], [0.1111111111111111, \"#46039f\"], [0.2222222222222222, \"#7201a8\"], [0.3333333333333333, \"#9c179e\"], [0.4444444444444444, \"#bd3786\"], [0.5555555555555556, \"#d8576b\"], [0.6666666666666666, \"#ed7953\"], [0.7777777777777778, \"#fb9f3a\"], [0.8888888888888888, \"#fdca26\"], [1.0, \"#f0f921\"]]}, \"colorway\": [\"#636efa\", \"#EF553B\", \"#00cc96\", \"#ab63fa\", \"#FFA15A\", \"#19d3f3\", \"#FF6692\", \"#B6E880\", \"#FF97FF\", \"#FECB52\"], \"font\": {\"color\": \"#2a3f5f\"}, \"geo\": {\"bgcolor\": \"white\", \"lakecolor\": \"white\", \"landcolor\": \"white\", \"showlakes\": true, \"showland\": true, \"subunitcolor\": \"#C8D4E3\"}, \"hoverlabel\": {\"align\": \"left\"}, \"hovermode\": \"closest\", \"mapbox\": {\"style\": \"light\"}, \"paper_bgcolor\": \"white\", \"plot_bgcolor\": \"white\", \"polar\": {\"angularaxis\": {\"gridcolor\": \"#EBF0F8\", \"linecolor\": \"#EBF0F8\", \"ticks\": \"\"}, \"bgcolor\": \"white\", \"radialaxis\": {\"gridcolor\": \"#EBF0F8\", \"linecolor\": \"#EBF0F8\", \"ticks\": \"\"}}, \"scene\": {\"xaxis\": {\"backgroundcolor\": \"white\", \"gridcolor\": \"#DFE8F3\", \"gridwidth\": 2, \"linecolor\": \"#EBF0F8\", \"showbackground\": true, \"ticks\": \"\", \"zerolinecolor\": \"#EBF0F8\"}, \"yaxis\": {\"backgroundcolor\": \"white\", \"gridcolor\": \"#DFE8F3\", \"gridwidth\": 2, \"linecolor\": \"#EBF0F8\", \"showbackground\": true, \"ticks\": \"\", \"zerolinecolor\": \"#EBF0F8\"}, \"zaxis\": {\"backgroundcolor\": \"white\", \"gridcolor\": \"#DFE8F3\", \"gridwidth\": 2, \"linecolor\": \"#EBF0F8\", \"showbackground\": true, \"ticks\": \"\", \"zerolinecolor\": \"#EBF0F8\"}}, \"shapedefaults\": {\"line\": {\"color\": \"#2a3f5f\"}}, \"ternary\": {\"aaxis\": {\"gridcolor\": \"#DFE8F3\", \"linecolor\": \"#A2B1C6\", \"ticks\": \"\"}, \"baxis\": {\"gridcolor\": \"#DFE8F3\", \"linecolor\": \"#A2B1C6\", \"ticks\": \"\"}, \"bgcolor\": \"white\", \"caxis\": {\"gridcolor\": \"#DFE8F3\", \"linecolor\": \"#A2B1C6\", \"ticks\": \"\"}}, \"title\": {\"x\": 0.05}, \"xaxis\": {\"automargin\": true, \"gridcolor\": \"#EBF0F8\", \"linecolor\": \"#EBF0F8\", \"ticks\": \"\", \"title\": {\"standoff\": 15}, \"zerolinecolor\": \"#EBF0F8\", \"zerolinewidth\": 2}, \"yaxis\": {\"automargin\": true, \"gridcolor\": \"#EBF0F8\", \"linecolor\": \"#EBF0F8\", \"ticks\": \"\", \"title\": {\"standoff\": 15}, \"zerolinecolor\": \"#EBF0F8\", \"zerolinewidth\": 2}}}, \"title\": {\"xanchor\": \"left\", \"y\": 0.9, \"yanchor\": \"top\"}, \"xaxis\": {\"rangeselector\": {\"buttons\": [{\"count\": 1, \"label\": \"1m\", \"step\": \"month\", \"stepmode\": \"backward\"}, {\"count\": 6, \"label\": \"6m\", \"step\": \"month\", \"stepmode\": \"backward\"}, {\"count\": 1, \"label\": \"YTD\", \"step\": \"year\", \"stepmode\": \"todate\"}, {\"count\": 1, \"label\": \"1y\", \"step\": \"year\", \"stepmode\": \"backward\"}, {\"step\": \"all\"}]}, \"rangeslider\": {\"visible\": true}}},                        {\"responsive\": true}                    ).then(function(){\n",
       "                            \n",
       "var gd = document.getElementById('4aa7576f-055b-494c-8800-852b174e8053');\n",
       "var x = new MutationObserver(function (mutations, observer) {{\n",
       "        var display = window.getComputedStyle(gd).display;\n",
       "        if (!display || display === 'none') {{\n",
       "            console.log([gd, 'removed!']);\n",
       "            Plotly.purge(gd);\n",
       "            observer.disconnect();\n",
       "        }}\n",
       "}});\n",
       "\n",
       "// Listen for the removal of the full notebook cells\n",
       "var notebookContainer = gd.closest('#notebook-container');\n",
       "if (notebookContainer) {{\n",
       "    x.observe(notebookContainer, {childList: true});\n",
       "}}\n",
       "\n",
       "// Listen for the clearing of the current output cell\n",
       "var outputEl = gd.closest('.output');\n",
       "if (outputEl) {{\n",
       "    x.observe(outputEl, {childList: true});\n",
       "}}\n",
       "\n",
       "                        })                };                });            </script>        </div>"
      ]
     },
     "metadata": {},
     "output_type": "display_data"
    }
   ],
   "source": [
    "create_graph2(df_graph1[df_graph1['Data'] >= '2014-01-01'].sort_values('Data'))"
   ]
  },
  {
   "cell_type": "code",
   "execution_count": 215,
   "metadata": {},
   "outputs": [
    {
     "data": {
      "application/vnd.plotly.v1+json": {
       "config": {
        "plotlyServerURL": "https://plot.ly"
       },
       "data": [
        {
         "hovertemplate": "Data=%{x}<br>renda_acum=%{y}<extra></extra>",
         "legendgroup": "",
         "line": {
          "color": "#636efa",
          "dash": "solid"
         },
         "mode": "lines",
         "name": "",
         "orientation": "v",
         "showlegend": false,
         "type": "scatter",
         "x": [
          "2014-01-31T00:00:00",
          "2014-02-28T00:00:00",
          "2014-03-31T00:00:00",
          "2014-04-30T00:00:00",
          "2014-05-31T00:00:00",
          "2014-06-30T00:00:00",
          "2014-07-31T00:00:00",
          "2014-08-31T00:00:00",
          "2014-09-30T00:00:00",
          "2014-10-31T00:00:00",
          "2014-11-30T00:00:00",
          "2014-12-31T00:00:00",
          "2015-01-31T00:00:00",
          "2015-02-28T00:00:00",
          "2015-03-31T00:00:00",
          "2015-04-30T00:00:00",
          "2015-05-31T00:00:00",
          "2015-06-30T00:00:00",
          "2015-07-31T00:00:00",
          "2015-08-31T00:00:00",
          "2015-09-30T00:00:00",
          "2015-10-31T00:00:00",
          "2015-11-30T00:00:00",
          "2015-12-31T00:00:00",
          "2016-01-31T00:00:00",
          "2016-02-29T00:00:00",
          "2016-03-31T00:00:00",
          "2016-04-30T00:00:00",
          "2016-05-31T00:00:00",
          "2016-06-30T00:00:00",
          "2016-07-31T00:00:00",
          "2016-08-31T00:00:00",
          "2016-09-30T00:00:00",
          "2016-10-31T00:00:00",
          "2016-11-30T00:00:00",
          "2016-12-31T00:00:00",
          "2017-01-31T00:00:00",
          "2017-02-28T00:00:00",
          "2017-03-31T00:00:00",
          "2017-04-30T00:00:00",
          "2017-05-31T00:00:00",
          "2017-06-30T00:00:00",
          "2017-07-31T00:00:00",
          "2017-08-31T00:00:00",
          "2017-09-30T00:00:00",
          "2017-10-31T00:00:00",
          "2017-11-30T00:00:00",
          "2017-12-31T00:00:00",
          "2018-01-31T00:00:00",
          "2018-02-28T00:00:00",
          "2018-03-31T00:00:00",
          "2018-04-30T00:00:00",
          "2018-05-31T00:00:00",
          "2018-06-30T00:00:00",
          "2018-07-31T00:00:00",
          "2018-08-31T00:00:00",
          "2018-09-30T00:00:00",
          "2018-10-31T00:00:00",
          "2018-11-30T00:00:00",
          "2018-12-31T00:00:00",
          "2019-01-31T00:00:00",
          "2019-02-28T00:00:00",
          "2019-03-31T00:00:00",
          "2019-04-30T00:00:00",
          "2019-05-31T00:00:00",
          "2019-06-30T00:00:00",
          "2019-07-31T00:00:00",
          "2019-08-31T00:00:00",
          "2019-09-30T00:00:00",
          "2019-10-31T00:00:00",
          "2019-11-30T00:00:00",
          "2019-12-31T00:00:00",
          "2020-01-31T00:00:00",
          "2020-02-29T00:00:00",
          "2020-03-31T00:00:00",
          "2020-04-30T00:00:00",
          "2020-05-31T00:00:00",
          "2020-06-30T00:00:00",
          "2020-07-31T00:00:00",
          "2020-08-31T00:00:00",
          "2020-09-30T00:00:00",
          "2020-10-31T00:00:00",
          "2020-12-31T00:00:00"
         ],
         "xaxis": "x",
         "y": [
          0,
          0,
          0,
          0,
          0,
          0,
          3104.5299999999993,
          3539.8399999999992,
          4204.280000000002,
          3859.8100000000004,
          3354.380000000002,
          2698.9000000000015,
          3007.499999999998,
          2234.3500000000017,
          2515.2900000000027,
          3457.790000000002,
          4252.030000000002,
          3818.010000000003,
          3720.4900000000007,
          3266.970000000003,
          2720.2000000000016,
          2708.8500000000013,
          2863.0400000000013,
          2660.9000000000015,
          2457.9000000000015,
          2269.6800000000017,
          2706.8700000000017,
          3572.550000000002,
          4205.4,
          4375.620000000001,
          5220.029999999999,
          5539.35,
          5729.46,
          6560.149999999999,
          6685.09,
          7230.5599999999995,
          8337.180000000002,
          9668.720000000001,
          9419.880000000001,
          9761.220000000003,
          8280.000000000002,
          8961.460000000003,
          10316.910000000002,
          11559.140000000003,
          13386.16,
          13205.48,
          12376.310000000007,
          13968.439999999997,
          17589.1,
          19741.96,
          22322.08000000001,
          22741.829999999994,
          18936.639999999996,
          9928.139999999998,
          10764.329999999994,
          11065.019999999991,
          11758.149999999998,
          13024.990000000003,
          12734.829999999998,
          13134.279999999995,
          17556.039999999994,
          17218.25999999999,
          16956.03,
          17054.299999999996,
          16883.95,
          19770.37,
          19983.19999999999,
          19872.440000000002,
          24046.459999999995,
          34340.03999999999,
          33756.49999999999,
          43121.88,
          51177.21000000001,
          41096.579999999994,
          2632.8700000000026,
          21774.54,
          39554.65,
          66516.13,
          86441.06,
          89568.19999999998,
          78803.97,
          85246.46,
          96937.58
         ],
         "yaxis": "y"
        }
       ],
       "layout": {
        "legend": {
         "tracegroupgap": 0
        },
        "template": {
         "data": {
          "bar": [
           {
            "error_x": {
             "color": "#2a3f5f"
            },
            "error_y": {
             "color": "#2a3f5f"
            },
            "marker": {
             "line": {
              "color": "#E5ECF6",
              "width": 0.5
             }
            },
            "type": "bar"
           }
          ],
          "barpolar": [
           {
            "marker": {
             "line": {
              "color": "#E5ECF6",
              "width": 0.5
             }
            },
            "type": "barpolar"
           }
          ],
          "carpet": [
           {
            "aaxis": {
             "endlinecolor": "#2a3f5f",
             "gridcolor": "white",
             "linecolor": "white",
             "minorgridcolor": "white",
             "startlinecolor": "#2a3f5f"
            },
            "baxis": {
             "endlinecolor": "#2a3f5f",
             "gridcolor": "white",
             "linecolor": "white",
             "minorgridcolor": "white",
             "startlinecolor": "#2a3f5f"
            },
            "type": "carpet"
           }
          ],
          "choropleth": [
           {
            "colorbar": {
             "outlinewidth": 0,
             "ticks": ""
            },
            "type": "choropleth"
           }
          ],
          "contour": [
           {
            "colorbar": {
             "outlinewidth": 0,
             "ticks": ""
            },
            "colorscale": [
             [
              0,
              "#0d0887"
             ],
             [
              0.1111111111111111,
              "#46039f"
             ],
             [
              0.2222222222222222,
              "#7201a8"
             ],
             [
              0.3333333333333333,
              "#9c179e"
             ],
             [
              0.4444444444444444,
              "#bd3786"
             ],
             [
              0.5555555555555556,
              "#d8576b"
             ],
             [
              0.6666666666666666,
              "#ed7953"
             ],
             [
              0.7777777777777778,
              "#fb9f3a"
             ],
             [
              0.8888888888888888,
              "#fdca26"
             ],
             [
              1,
              "#f0f921"
             ]
            ],
            "type": "contour"
           }
          ],
          "contourcarpet": [
           {
            "colorbar": {
             "outlinewidth": 0,
             "ticks": ""
            },
            "type": "contourcarpet"
           }
          ],
          "heatmap": [
           {
            "colorbar": {
             "outlinewidth": 0,
             "ticks": ""
            },
            "colorscale": [
             [
              0,
              "#0d0887"
             ],
             [
              0.1111111111111111,
              "#46039f"
             ],
             [
              0.2222222222222222,
              "#7201a8"
             ],
             [
              0.3333333333333333,
              "#9c179e"
             ],
             [
              0.4444444444444444,
              "#bd3786"
             ],
             [
              0.5555555555555556,
              "#d8576b"
             ],
             [
              0.6666666666666666,
              "#ed7953"
             ],
             [
              0.7777777777777778,
              "#fb9f3a"
             ],
             [
              0.8888888888888888,
              "#fdca26"
             ],
             [
              1,
              "#f0f921"
             ]
            ],
            "type": "heatmap"
           }
          ],
          "heatmapgl": [
           {
            "colorbar": {
             "outlinewidth": 0,
             "ticks": ""
            },
            "colorscale": [
             [
              0,
              "#0d0887"
             ],
             [
              0.1111111111111111,
              "#46039f"
             ],
             [
              0.2222222222222222,
              "#7201a8"
             ],
             [
              0.3333333333333333,
              "#9c179e"
             ],
             [
              0.4444444444444444,
              "#bd3786"
             ],
             [
              0.5555555555555556,
              "#d8576b"
             ],
             [
              0.6666666666666666,
              "#ed7953"
             ],
             [
              0.7777777777777778,
              "#fb9f3a"
             ],
             [
              0.8888888888888888,
              "#fdca26"
             ],
             [
              1,
              "#f0f921"
             ]
            ],
            "type": "heatmapgl"
           }
          ],
          "histogram": [
           {
            "marker": {
             "colorbar": {
              "outlinewidth": 0,
              "ticks": ""
             }
            },
            "type": "histogram"
           }
          ],
          "histogram2d": [
           {
            "colorbar": {
             "outlinewidth": 0,
             "ticks": ""
            },
            "colorscale": [
             [
              0,
              "#0d0887"
             ],
             [
              0.1111111111111111,
              "#46039f"
             ],
             [
              0.2222222222222222,
              "#7201a8"
             ],
             [
              0.3333333333333333,
              "#9c179e"
             ],
             [
              0.4444444444444444,
              "#bd3786"
             ],
             [
              0.5555555555555556,
              "#d8576b"
             ],
             [
              0.6666666666666666,
              "#ed7953"
             ],
             [
              0.7777777777777778,
              "#fb9f3a"
             ],
             [
              0.8888888888888888,
              "#fdca26"
             ],
             [
              1,
              "#f0f921"
             ]
            ],
            "type": "histogram2d"
           }
          ],
          "histogram2dcontour": [
           {
            "colorbar": {
             "outlinewidth": 0,
             "ticks": ""
            },
            "colorscale": [
             [
              0,
              "#0d0887"
             ],
             [
              0.1111111111111111,
              "#46039f"
             ],
             [
              0.2222222222222222,
              "#7201a8"
             ],
             [
              0.3333333333333333,
              "#9c179e"
             ],
             [
              0.4444444444444444,
              "#bd3786"
             ],
             [
              0.5555555555555556,
              "#d8576b"
             ],
             [
              0.6666666666666666,
              "#ed7953"
             ],
             [
              0.7777777777777778,
              "#fb9f3a"
             ],
             [
              0.8888888888888888,
              "#fdca26"
             ],
             [
              1,
              "#f0f921"
             ]
            ],
            "type": "histogram2dcontour"
           }
          ],
          "mesh3d": [
           {
            "colorbar": {
             "outlinewidth": 0,
             "ticks": ""
            },
            "type": "mesh3d"
           }
          ],
          "parcoords": [
           {
            "line": {
             "colorbar": {
              "outlinewidth": 0,
              "ticks": ""
             }
            },
            "type": "parcoords"
           }
          ],
          "pie": [
           {
            "automargin": true,
            "type": "pie"
           }
          ],
          "scatter": [
           {
            "marker": {
             "colorbar": {
              "outlinewidth": 0,
              "ticks": ""
             }
            },
            "type": "scatter"
           }
          ],
          "scatter3d": [
           {
            "line": {
             "colorbar": {
              "outlinewidth": 0,
              "ticks": ""
             }
            },
            "marker": {
             "colorbar": {
              "outlinewidth": 0,
              "ticks": ""
             }
            },
            "type": "scatter3d"
           }
          ],
          "scattercarpet": [
           {
            "marker": {
             "colorbar": {
              "outlinewidth": 0,
              "ticks": ""
             }
            },
            "type": "scattercarpet"
           }
          ],
          "scattergeo": [
           {
            "marker": {
             "colorbar": {
              "outlinewidth": 0,
              "ticks": ""
             }
            },
            "type": "scattergeo"
           }
          ],
          "scattergl": [
           {
            "marker": {
             "colorbar": {
              "outlinewidth": 0,
              "ticks": ""
             }
            },
            "type": "scattergl"
           }
          ],
          "scattermapbox": [
           {
            "marker": {
             "colorbar": {
              "outlinewidth": 0,
              "ticks": ""
             }
            },
            "type": "scattermapbox"
           }
          ],
          "scatterpolar": [
           {
            "marker": {
             "colorbar": {
              "outlinewidth": 0,
              "ticks": ""
             }
            },
            "type": "scatterpolar"
           }
          ],
          "scatterpolargl": [
           {
            "marker": {
             "colorbar": {
              "outlinewidth": 0,
              "ticks": ""
             }
            },
            "type": "scatterpolargl"
           }
          ],
          "scatterternary": [
           {
            "marker": {
             "colorbar": {
              "outlinewidth": 0,
              "ticks": ""
             }
            },
            "type": "scatterternary"
           }
          ],
          "surface": [
           {
            "colorbar": {
             "outlinewidth": 0,
             "ticks": ""
            },
            "colorscale": [
             [
              0,
              "#0d0887"
             ],
             [
              0.1111111111111111,
              "#46039f"
             ],
             [
              0.2222222222222222,
              "#7201a8"
             ],
             [
              0.3333333333333333,
              "#9c179e"
             ],
             [
              0.4444444444444444,
              "#bd3786"
             ],
             [
              0.5555555555555556,
              "#d8576b"
             ],
             [
              0.6666666666666666,
              "#ed7953"
             ],
             [
              0.7777777777777778,
              "#fb9f3a"
             ],
             [
              0.8888888888888888,
              "#fdca26"
             ],
             [
              1,
              "#f0f921"
             ]
            ],
            "type": "surface"
           }
          ],
          "table": [
           {
            "cells": {
             "fill": {
              "color": "#EBF0F8"
             },
             "line": {
              "color": "white"
             }
            },
            "header": {
             "fill": {
              "color": "#C8D4E3"
             },
             "line": {
              "color": "white"
             }
            },
            "type": "table"
           }
          ]
         },
         "layout": {
          "annotationdefaults": {
           "arrowcolor": "#2a3f5f",
           "arrowhead": 0,
           "arrowwidth": 1
          },
          "autotypenumbers": "strict",
          "coloraxis": {
           "colorbar": {
            "outlinewidth": 0,
            "ticks": ""
           }
          },
          "colorscale": {
           "diverging": [
            [
             0,
             "#8e0152"
            ],
            [
             0.1,
             "#c51b7d"
            ],
            [
             0.2,
             "#de77ae"
            ],
            [
             0.3,
             "#f1b6da"
            ],
            [
             0.4,
             "#fde0ef"
            ],
            [
             0.5,
             "#f7f7f7"
            ],
            [
             0.6,
             "#e6f5d0"
            ],
            [
             0.7,
             "#b8e186"
            ],
            [
             0.8,
             "#7fbc41"
            ],
            [
             0.9,
             "#4d9221"
            ],
            [
             1,
             "#276419"
            ]
           ],
           "sequential": [
            [
             0,
             "#0d0887"
            ],
            [
             0.1111111111111111,
             "#46039f"
            ],
            [
             0.2222222222222222,
             "#7201a8"
            ],
            [
             0.3333333333333333,
             "#9c179e"
            ],
            [
             0.4444444444444444,
             "#bd3786"
            ],
            [
             0.5555555555555556,
             "#d8576b"
            ],
            [
             0.6666666666666666,
             "#ed7953"
            ],
            [
             0.7777777777777778,
             "#fb9f3a"
            ],
            [
             0.8888888888888888,
             "#fdca26"
            ],
            [
             1,
             "#f0f921"
            ]
           ],
           "sequentialminus": [
            [
             0,
             "#0d0887"
            ],
            [
             0.1111111111111111,
             "#46039f"
            ],
            [
             0.2222222222222222,
             "#7201a8"
            ],
            [
             0.3333333333333333,
             "#9c179e"
            ],
            [
             0.4444444444444444,
             "#bd3786"
            ],
            [
             0.5555555555555556,
             "#d8576b"
            ],
            [
             0.6666666666666666,
             "#ed7953"
            ],
            [
             0.7777777777777778,
             "#fb9f3a"
            ],
            [
             0.8888888888888888,
             "#fdca26"
            ],
            [
             1,
             "#f0f921"
            ]
           ]
          },
          "colorway": [
           "#636efa",
           "#EF553B",
           "#00cc96",
           "#ab63fa",
           "#FFA15A",
           "#19d3f3",
           "#FF6692",
           "#B6E880",
           "#FF97FF",
           "#FECB52"
          ],
          "font": {
           "color": "#2a3f5f"
          },
          "geo": {
           "bgcolor": "white",
           "lakecolor": "white",
           "landcolor": "#E5ECF6",
           "showlakes": true,
           "showland": true,
           "subunitcolor": "white"
          },
          "hoverlabel": {
           "align": "left"
          },
          "hovermode": "closest",
          "mapbox": {
           "style": "light"
          },
          "paper_bgcolor": "white",
          "plot_bgcolor": "#E5ECF6",
          "polar": {
           "angularaxis": {
            "gridcolor": "white",
            "linecolor": "white",
            "ticks": ""
           },
           "bgcolor": "#E5ECF6",
           "radialaxis": {
            "gridcolor": "white",
            "linecolor": "white",
            "ticks": ""
           }
          },
          "scene": {
           "xaxis": {
            "backgroundcolor": "#E5ECF6",
            "gridcolor": "white",
            "gridwidth": 2,
            "linecolor": "white",
            "showbackground": true,
            "ticks": "",
            "zerolinecolor": "white"
           },
           "yaxis": {
            "backgroundcolor": "#E5ECF6",
            "gridcolor": "white",
            "gridwidth": 2,
            "linecolor": "white",
            "showbackground": true,
            "ticks": "",
            "zerolinecolor": "white"
           },
           "zaxis": {
            "backgroundcolor": "#E5ECF6",
            "gridcolor": "white",
            "gridwidth": 2,
            "linecolor": "white",
            "showbackground": true,
            "ticks": "",
            "zerolinecolor": "white"
           }
          },
          "shapedefaults": {
           "line": {
            "color": "#2a3f5f"
           }
          },
          "ternary": {
           "aaxis": {
            "gridcolor": "white",
            "linecolor": "white",
            "ticks": ""
           },
           "baxis": {
            "gridcolor": "white",
            "linecolor": "white",
            "ticks": ""
           },
           "bgcolor": "#E5ECF6",
           "caxis": {
            "gridcolor": "white",
            "linecolor": "white",
            "ticks": ""
           }
          },
          "title": {
           "x": 0.05
          },
          "xaxis": {
           "automargin": true,
           "gridcolor": "white",
           "linecolor": "white",
           "ticks": "",
           "title": {
            "standoff": 15
           },
           "zerolinecolor": "white",
           "zerolinewidth": 2
          },
          "yaxis": {
           "automargin": true,
           "gridcolor": "white",
           "linecolor": "white",
           "ticks": "",
           "title": {
            "standoff": 15
           },
           "zerolinecolor": "white",
           "zerolinewidth": 2
          }
         }
        },
        "title": {
         "text": "Time Series with Range Slider and Selectors"
        },
        "xaxis": {
         "anchor": "y",
         "domain": [
          0,
          1
         ],
         "rangeselector": {
          "buttons": [
           {
            "count": 1,
            "label": "1m",
            "step": "month",
            "stepmode": "backward"
           },
           {
            "count": 6,
            "label": "6m",
            "step": "month",
            "stepmode": "backward"
           },
           {
            "count": 1,
            "label": "YTD",
            "step": "year",
            "stepmode": "todate"
           },
           {
            "count": 1,
            "label": "1y",
            "step": "year",
            "stepmode": "backward"
           },
           {
            "step": "all"
           }
          ]
         },
         "rangeslider": {
          "visible": true
         },
         "title": {
          "text": "Data"
         }
        },
        "yaxis": {
         "anchor": "x",
         "domain": [
          0,
          1
         ],
         "title": {
          "text": "renda_acum"
         }
        }
       }
      },
      "text/html": [
       "<div>                            <div id=\"030587f4-d65e-4d95-b6ad-f2ddc3b3cda4\" class=\"plotly-graph-div\" style=\"height:525px; width:100%;\"></div>            <script type=\"text/javascript\">                require([\"plotly\"], function(Plotly) {                    window.PLOTLYENV=window.PLOTLYENV || {};                                    if (document.getElementById(\"030587f4-d65e-4d95-b6ad-f2ddc3b3cda4\")) {                    Plotly.newPlot(                        \"030587f4-d65e-4d95-b6ad-f2ddc3b3cda4\",                        [{\"hovertemplate\": \"Data=%{x}<br>renda_acum=%{y}<extra></extra>\", \"legendgroup\": \"\", \"line\": {\"color\": \"#636efa\", \"dash\": \"solid\"}, \"mode\": \"lines\", \"name\": \"\", \"orientation\": \"v\", \"showlegend\": false, \"type\": \"scatter\", \"x\": [\"2014-01-31T00:00:00\", \"2014-02-28T00:00:00\", \"2014-03-31T00:00:00\", \"2014-04-30T00:00:00\", \"2014-05-31T00:00:00\", \"2014-06-30T00:00:00\", \"2014-07-31T00:00:00\", \"2014-08-31T00:00:00\", \"2014-09-30T00:00:00\", \"2014-10-31T00:00:00\", \"2014-11-30T00:00:00\", \"2014-12-31T00:00:00\", \"2015-01-31T00:00:00\", \"2015-02-28T00:00:00\", \"2015-03-31T00:00:00\", \"2015-04-30T00:00:00\", \"2015-05-31T00:00:00\", \"2015-06-30T00:00:00\", \"2015-07-31T00:00:00\", \"2015-08-31T00:00:00\", \"2015-09-30T00:00:00\", \"2015-10-31T00:00:00\", \"2015-11-30T00:00:00\", \"2015-12-31T00:00:00\", \"2016-01-31T00:00:00\", \"2016-02-29T00:00:00\", \"2016-03-31T00:00:00\", \"2016-04-30T00:00:00\", \"2016-05-31T00:00:00\", \"2016-06-30T00:00:00\", \"2016-07-31T00:00:00\", \"2016-08-31T00:00:00\", \"2016-09-30T00:00:00\", \"2016-10-31T00:00:00\", \"2016-11-30T00:00:00\", \"2016-12-31T00:00:00\", \"2017-01-31T00:00:00\", \"2017-02-28T00:00:00\", \"2017-03-31T00:00:00\", \"2017-04-30T00:00:00\", \"2017-05-31T00:00:00\", \"2017-06-30T00:00:00\", \"2017-07-31T00:00:00\", \"2017-08-31T00:00:00\", \"2017-09-30T00:00:00\", \"2017-10-31T00:00:00\", \"2017-11-30T00:00:00\", \"2017-12-31T00:00:00\", \"2018-01-31T00:00:00\", \"2018-02-28T00:00:00\", \"2018-03-31T00:00:00\", \"2018-04-30T00:00:00\", \"2018-05-31T00:00:00\", \"2018-06-30T00:00:00\", \"2018-07-31T00:00:00\", \"2018-08-31T00:00:00\", \"2018-09-30T00:00:00\", \"2018-10-31T00:00:00\", \"2018-11-30T00:00:00\", \"2018-12-31T00:00:00\", \"2019-01-31T00:00:00\", \"2019-02-28T00:00:00\", \"2019-03-31T00:00:00\", \"2019-04-30T00:00:00\", \"2019-05-31T00:00:00\", \"2019-06-30T00:00:00\", \"2019-07-31T00:00:00\", \"2019-08-31T00:00:00\", \"2019-09-30T00:00:00\", \"2019-10-31T00:00:00\", \"2019-11-30T00:00:00\", \"2019-12-31T00:00:00\", \"2020-01-31T00:00:00\", \"2020-02-29T00:00:00\", \"2020-03-31T00:00:00\", \"2020-04-30T00:00:00\", \"2020-05-31T00:00:00\", \"2020-06-30T00:00:00\", \"2020-07-31T00:00:00\", \"2020-08-31T00:00:00\", \"2020-09-30T00:00:00\", \"2020-10-31T00:00:00\", \"2020-12-31T00:00:00\"], \"xaxis\": \"x\", \"y\": [0.0, 0.0, 0.0, 0.0, 0.0, 0.0, 3104.5299999999993, 3539.8399999999992, 4204.280000000002, 3859.8100000000004, 3354.380000000002, 2698.9000000000015, 3007.499999999998, 2234.3500000000017, 2515.2900000000027, 3457.790000000002, 4252.030000000002, 3818.010000000003, 3720.4900000000007, 3266.970000000003, 2720.2000000000016, 2708.8500000000013, 2863.0400000000013, 2660.9000000000015, 2457.9000000000015, 2269.6800000000017, 2706.8700000000017, 3572.550000000002, 4205.4, 4375.620000000001, 5220.029999999999, 5539.35, 5729.46, 6560.149999999999, 6685.09, 7230.5599999999995, 8337.180000000002, 9668.720000000001, 9419.880000000001, 9761.220000000003, 8280.000000000002, 8961.460000000003, 10316.910000000002, 11559.140000000003, 13386.16, 13205.48, 12376.310000000007, 13968.439999999997, 17589.1, 19741.96, 22322.08000000001, 22741.829999999994, 18936.639999999996, 9928.139999999998, 10764.329999999994, 11065.019999999991, 11758.149999999998, 13024.990000000003, 12734.829999999998, 13134.279999999995, 17556.039999999994, 17218.25999999999, 16956.03, 17054.299999999996, 16883.95, 19770.37, 19983.19999999999, 19872.440000000002, 24046.459999999995, 34340.03999999999, 33756.49999999999, 43121.88, 51177.21000000001, 41096.579999999994, 2632.8700000000026, 21774.54, 39554.65, 66516.13, 86441.06, 89568.19999999998, 78803.97, 85246.46, 96937.58], \"yaxis\": \"y\"}],                        {\"legend\": {\"tracegroupgap\": 0}, \"template\": {\"data\": {\"bar\": [{\"error_x\": {\"color\": \"#2a3f5f\"}, \"error_y\": {\"color\": \"#2a3f5f\"}, \"marker\": {\"line\": {\"color\": \"#E5ECF6\", \"width\": 0.5}}, \"type\": \"bar\"}], \"barpolar\": [{\"marker\": {\"line\": {\"color\": \"#E5ECF6\", \"width\": 0.5}}, \"type\": \"barpolar\"}], \"carpet\": [{\"aaxis\": {\"endlinecolor\": \"#2a3f5f\", \"gridcolor\": \"white\", \"linecolor\": \"white\", \"minorgridcolor\": \"white\", \"startlinecolor\": \"#2a3f5f\"}, \"baxis\": {\"endlinecolor\": \"#2a3f5f\", \"gridcolor\": \"white\", \"linecolor\": \"white\", \"minorgridcolor\": \"white\", \"startlinecolor\": \"#2a3f5f\"}, \"type\": \"carpet\"}], \"choropleth\": [{\"colorbar\": {\"outlinewidth\": 0, \"ticks\": \"\"}, \"type\": \"choropleth\"}], \"contour\": [{\"colorbar\": {\"outlinewidth\": 0, \"ticks\": \"\"}, \"colorscale\": [[0.0, \"#0d0887\"], [0.1111111111111111, \"#46039f\"], [0.2222222222222222, \"#7201a8\"], [0.3333333333333333, \"#9c179e\"], [0.4444444444444444, \"#bd3786\"], [0.5555555555555556, \"#d8576b\"], [0.6666666666666666, \"#ed7953\"], [0.7777777777777778, \"#fb9f3a\"], [0.8888888888888888, \"#fdca26\"], [1.0, \"#f0f921\"]], \"type\": \"contour\"}], \"contourcarpet\": [{\"colorbar\": {\"outlinewidth\": 0, \"ticks\": \"\"}, \"type\": \"contourcarpet\"}], \"heatmap\": [{\"colorbar\": {\"outlinewidth\": 0, \"ticks\": \"\"}, \"colorscale\": [[0.0, \"#0d0887\"], [0.1111111111111111, \"#46039f\"], [0.2222222222222222, \"#7201a8\"], [0.3333333333333333, \"#9c179e\"], [0.4444444444444444, \"#bd3786\"], [0.5555555555555556, \"#d8576b\"], [0.6666666666666666, \"#ed7953\"], [0.7777777777777778, \"#fb9f3a\"], [0.8888888888888888, \"#fdca26\"], [1.0, \"#f0f921\"]], \"type\": \"heatmap\"}], \"heatmapgl\": [{\"colorbar\": {\"outlinewidth\": 0, \"ticks\": \"\"}, \"colorscale\": [[0.0, \"#0d0887\"], [0.1111111111111111, \"#46039f\"], [0.2222222222222222, \"#7201a8\"], [0.3333333333333333, \"#9c179e\"], [0.4444444444444444, \"#bd3786\"], [0.5555555555555556, \"#d8576b\"], [0.6666666666666666, \"#ed7953\"], [0.7777777777777778, \"#fb9f3a\"], [0.8888888888888888, \"#fdca26\"], [1.0, \"#f0f921\"]], \"type\": \"heatmapgl\"}], \"histogram\": [{\"marker\": {\"colorbar\": {\"outlinewidth\": 0, \"ticks\": \"\"}}, \"type\": \"histogram\"}], \"histogram2d\": [{\"colorbar\": {\"outlinewidth\": 0, \"ticks\": \"\"}, \"colorscale\": [[0.0, \"#0d0887\"], [0.1111111111111111, \"#46039f\"], [0.2222222222222222, \"#7201a8\"], [0.3333333333333333, \"#9c179e\"], [0.4444444444444444, \"#bd3786\"], [0.5555555555555556, \"#d8576b\"], [0.6666666666666666, \"#ed7953\"], [0.7777777777777778, \"#fb9f3a\"], [0.8888888888888888, \"#fdca26\"], [1.0, \"#f0f921\"]], \"type\": \"histogram2d\"}], \"histogram2dcontour\": [{\"colorbar\": {\"outlinewidth\": 0, \"ticks\": \"\"}, \"colorscale\": [[0.0, \"#0d0887\"], [0.1111111111111111, \"#46039f\"], [0.2222222222222222, \"#7201a8\"], [0.3333333333333333, \"#9c179e\"], [0.4444444444444444, \"#bd3786\"], [0.5555555555555556, \"#d8576b\"], [0.6666666666666666, \"#ed7953\"], [0.7777777777777778, \"#fb9f3a\"], [0.8888888888888888, \"#fdca26\"], [1.0, \"#f0f921\"]], \"type\": \"histogram2dcontour\"}], \"mesh3d\": [{\"colorbar\": {\"outlinewidth\": 0, \"ticks\": \"\"}, \"type\": \"mesh3d\"}], \"parcoords\": [{\"line\": {\"colorbar\": {\"outlinewidth\": 0, \"ticks\": \"\"}}, \"type\": \"parcoords\"}], \"pie\": [{\"automargin\": true, \"type\": \"pie\"}], \"scatter\": [{\"marker\": {\"colorbar\": {\"outlinewidth\": 0, \"ticks\": \"\"}}, \"type\": \"scatter\"}], \"scatter3d\": [{\"line\": {\"colorbar\": {\"outlinewidth\": 0, \"ticks\": \"\"}}, \"marker\": {\"colorbar\": {\"outlinewidth\": 0, \"ticks\": \"\"}}, \"type\": \"scatter3d\"}], \"scattercarpet\": [{\"marker\": {\"colorbar\": {\"outlinewidth\": 0, \"ticks\": \"\"}}, \"type\": \"scattercarpet\"}], \"scattergeo\": [{\"marker\": {\"colorbar\": {\"outlinewidth\": 0, \"ticks\": \"\"}}, \"type\": \"scattergeo\"}], \"scattergl\": [{\"marker\": {\"colorbar\": {\"outlinewidth\": 0, \"ticks\": \"\"}}, \"type\": \"scattergl\"}], \"scattermapbox\": [{\"marker\": {\"colorbar\": {\"outlinewidth\": 0, \"ticks\": \"\"}}, \"type\": \"scattermapbox\"}], \"scatterpolar\": [{\"marker\": {\"colorbar\": {\"outlinewidth\": 0, \"ticks\": \"\"}}, \"type\": \"scatterpolar\"}], \"scatterpolargl\": [{\"marker\": {\"colorbar\": {\"outlinewidth\": 0, \"ticks\": \"\"}}, \"type\": \"scatterpolargl\"}], \"scatterternary\": [{\"marker\": {\"colorbar\": {\"outlinewidth\": 0, \"ticks\": \"\"}}, \"type\": \"scatterternary\"}], \"surface\": [{\"colorbar\": {\"outlinewidth\": 0, \"ticks\": \"\"}, \"colorscale\": [[0.0, \"#0d0887\"], [0.1111111111111111, \"#46039f\"], [0.2222222222222222, \"#7201a8\"], [0.3333333333333333, \"#9c179e\"], [0.4444444444444444, \"#bd3786\"], [0.5555555555555556, \"#d8576b\"], [0.6666666666666666, \"#ed7953\"], [0.7777777777777778, \"#fb9f3a\"], [0.8888888888888888, \"#fdca26\"], [1.0, \"#f0f921\"]], \"type\": \"surface\"}], \"table\": [{\"cells\": {\"fill\": {\"color\": \"#EBF0F8\"}, \"line\": {\"color\": \"white\"}}, \"header\": {\"fill\": {\"color\": \"#C8D4E3\"}, \"line\": {\"color\": \"white\"}}, \"type\": \"table\"}]}, \"layout\": {\"annotationdefaults\": {\"arrowcolor\": \"#2a3f5f\", \"arrowhead\": 0, \"arrowwidth\": 1}, \"autotypenumbers\": \"strict\", \"coloraxis\": {\"colorbar\": {\"outlinewidth\": 0, \"ticks\": \"\"}}, \"colorscale\": {\"diverging\": [[0, \"#8e0152\"], [0.1, \"#c51b7d\"], [0.2, \"#de77ae\"], [0.3, \"#f1b6da\"], [0.4, \"#fde0ef\"], [0.5, \"#f7f7f7\"], [0.6, \"#e6f5d0\"], [0.7, \"#b8e186\"], [0.8, \"#7fbc41\"], [0.9, \"#4d9221\"], [1, \"#276419\"]], \"sequential\": [[0.0, \"#0d0887\"], [0.1111111111111111, \"#46039f\"], [0.2222222222222222, \"#7201a8\"], [0.3333333333333333, \"#9c179e\"], [0.4444444444444444, \"#bd3786\"], [0.5555555555555556, \"#d8576b\"], [0.6666666666666666, \"#ed7953\"], [0.7777777777777778, \"#fb9f3a\"], [0.8888888888888888, \"#fdca26\"], [1.0, \"#f0f921\"]], \"sequentialminus\": [[0.0, \"#0d0887\"], [0.1111111111111111, \"#46039f\"], [0.2222222222222222, \"#7201a8\"], [0.3333333333333333, \"#9c179e\"], [0.4444444444444444, \"#bd3786\"], [0.5555555555555556, \"#d8576b\"], [0.6666666666666666, \"#ed7953\"], [0.7777777777777778, \"#fb9f3a\"], [0.8888888888888888, \"#fdca26\"], [1.0, \"#f0f921\"]]}, \"colorway\": [\"#636efa\", \"#EF553B\", \"#00cc96\", \"#ab63fa\", \"#FFA15A\", \"#19d3f3\", \"#FF6692\", \"#B6E880\", \"#FF97FF\", \"#FECB52\"], \"font\": {\"color\": \"#2a3f5f\"}, \"geo\": {\"bgcolor\": \"white\", \"lakecolor\": \"white\", \"landcolor\": \"#E5ECF6\", \"showlakes\": true, \"showland\": true, \"subunitcolor\": \"white\"}, \"hoverlabel\": {\"align\": \"left\"}, \"hovermode\": \"closest\", \"mapbox\": {\"style\": \"light\"}, \"paper_bgcolor\": \"white\", \"plot_bgcolor\": \"#E5ECF6\", \"polar\": {\"angularaxis\": {\"gridcolor\": \"white\", \"linecolor\": \"white\", \"ticks\": \"\"}, \"bgcolor\": \"#E5ECF6\", \"radialaxis\": {\"gridcolor\": \"white\", \"linecolor\": \"white\", \"ticks\": \"\"}}, \"scene\": {\"xaxis\": {\"backgroundcolor\": \"#E5ECF6\", \"gridcolor\": \"white\", \"gridwidth\": 2, \"linecolor\": \"white\", \"showbackground\": true, \"ticks\": \"\", \"zerolinecolor\": \"white\"}, \"yaxis\": {\"backgroundcolor\": \"#E5ECF6\", \"gridcolor\": \"white\", \"gridwidth\": 2, \"linecolor\": \"white\", \"showbackground\": true, \"ticks\": \"\", \"zerolinecolor\": \"white\"}, \"zaxis\": {\"backgroundcolor\": \"#E5ECF6\", \"gridcolor\": \"white\", \"gridwidth\": 2, \"linecolor\": \"white\", \"showbackground\": true, \"ticks\": \"\", \"zerolinecolor\": \"white\"}}, \"shapedefaults\": {\"line\": {\"color\": \"#2a3f5f\"}}, \"ternary\": {\"aaxis\": {\"gridcolor\": \"white\", \"linecolor\": \"white\", \"ticks\": \"\"}, \"baxis\": {\"gridcolor\": \"white\", \"linecolor\": \"white\", \"ticks\": \"\"}, \"bgcolor\": \"#E5ECF6\", \"caxis\": {\"gridcolor\": \"white\", \"linecolor\": \"white\", \"ticks\": \"\"}}, \"title\": {\"x\": 0.05}, \"xaxis\": {\"automargin\": true, \"gridcolor\": \"white\", \"linecolor\": \"white\", \"ticks\": \"\", \"title\": {\"standoff\": 15}, \"zerolinecolor\": \"white\", \"zerolinewidth\": 2}, \"yaxis\": {\"automargin\": true, \"gridcolor\": \"white\", \"linecolor\": \"white\", \"ticks\": \"\", \"title\": {\"standoff\": 15}, \"zerolinecolor\": \"white\", \"zerolinewidth\": 2}}}, \"title\": {\"text\": \"Time Series with Range Slider and Selectors\"}, \"xaxis\": {\"anchor\": \"y\", \"domain\": [0.0, 1.0], \"rangeselector\": {\"buttons\": [{\"count\": 1, \"label\": \"1m\", \"step\": \"month\", \"stepmode\": \"backward\"}, {\"count\": 6, \"label\": \"6m\", \"step\": \"month\", \"stepmode\": \"backward\"}, {\"count\": 1, \"label\": \"YTD\", \"step\": \"year\", \"stepmode\": \"todate\"}, {\"count\": 1, \"label\": \"1y\", \"step\": \"year\", \"stepmode\": \"backward\"}, {\"step\": \"all\"}]}, \"rangeslider\": {\"visible\": true}, \"title\": {\"text\": \"Data\"}}, \"yaxis\": {\"anchor\": \"x\", \"domain\": [0.0, 1.0], \"title\": {\"text\": \"renda_acum\"}}},                        {\"responsive\": true}                    ).then(function(){\n",
       "                            \n",
       "var gd = document.getElementById('030587f4-d65e-4d95-b6ad-f2ddc3b3cda4');\n",
       "var x = new MutationObserver(function (mutations, observer) {{\n",
       "        var display = window.getComputedStyle(gd).display;\n",
       "        if (!display || display === 'none') {{\n",
       "            console.log([gd, 'removed!']);\n",
       "            Plotly.purge(gd);\n",
       "            observer.disconnect();\n",
       "        }}\n",
       "}});\n",
       "\n",
       "// Listen for the removal of the full notebook cells\n",
       "var notebookContainer = gd.closest('#notebook-container');\n",
       "if (notebookContainer) {{\n",
       "    x.observe(notebookContainer, {childList: true});\n",
       "}}\n",
       "\n",
       "// Listen for the clearing of the current output cell\n",
       "var outputEl = gd.closest('.output');\n",
       "if (outputEl) {{\n",
       "    x.observe(outputEl, {childList: true});\n",
       "}}\n",
       "\n",
       "                        })                };                });            </script>        </div>"
      ]
     },
     "metadata": {},
     "output_type": "display_data"
    }
   ],
   "source": [
    "import plotly.express as px\n",
    "\n",
    "df_tmp = df_graph1[df_graph1['Data'] >= '2014-01-01'].sort_values('Data')\n",
    "\n",
    "fig = px.line(df_tmp, x='Data', y='renda_acum', title='Time Series with Range Slider and Selectors')\n",
    "\n",
    "fig.update_xaxes(\n",
    "    rangeslider_visible=True,\n",
    "    rangeselector=dict(\n",
    "        buttons=list([\n",
    "            dict(count=1, label=\"1m\", step=\"month\", stepmode=\"backward\"),\n",
    "            dict(count=6, label=\"6m\", step=\"month\", stepmode=\"backward\"),\n",
    "            dict(count=1, label=\"YTD\", step=\"year\", stepmode=\"todate\"),\n",
    "            dict(count=1, label=\"1y\", step=\"year\", stepmode=\"backward\"),\n",
    "            dict(step=\"all\")\n",
    "        ])\n",
    "    )\n",
    ")\n",
    "fig.show()"
   ]
  },
  {
   "cell_type": "code",
   "execution_count": null,
   "metadata": {},
   "outputs": [],
   "source": []
  }
 ],
 "metadata": {
  "kernelspec": {
   "display_name": "Python 3",
   "language": "python",
   "name": "python3"
  },
  "language_info": {
   "codemirror_mode": {
    "name": "ipython",
    "version": 3
   },
   "file_extension": ".py",
   "mimetype": "text/x-python",
   "name": "python",
   "nbconvert_exporter": "python",
   "pygments_lexer": "ipython3",
   "version": "3.8.5"
  }
 },
 "nbformat": 4,
 "nbformat_minor": 4
}
