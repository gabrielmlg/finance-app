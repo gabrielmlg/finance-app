{
 "metadata": {
  "language_info": {
   "codemirror_mode": {
    "name": "ipython",
    "version": 3
   },
   "file_extension": ".py",
   "mimetype": "text/x-python",
   "name": "python",
   "nbconvert_exporter": "python",
   "pygments_lexer": "ipython3",
   "version": "3.8.5-final"
  },
  "orig_nbformat": 2,
  "kernelspec": {
   "name": "python3",
   "display_name": "Python 3.8.5 64-bit ('base': conda)",
   "metadata": {
    "interpreter": {
     "hash": "f260aad8e0a9da3315966a76ed92d132fb14228aad482d9b709cd8845a74e668"
    }
   }
  }
 },
 "nbformat": 4,
 "nbformat_minor": 2,
 "cells": [
  {
   "cell_type": "code",
   "execution_count": 1,
   "metadata": {},
   "outputs": [],
   "source": [
    "import pandas as pd\n",
    "import numpy as np\n",
    "\n",
    "from data.source import AwsClient, Position, Extract\n",
    "from data.reshape import Transform\n",
    "\n",
    "# Config\n",
    "pd.options.display.float_format = '{:,.2f}'.format\n",
    "pd.set_option('display.max_columns', None)\n",
    "pd.set_option('display.max_rows', None)"
   ]
  },
  {
   "cell_type": "code",
   "execution_count": 2,
   "metadata": {},
   "outputs": [],
   "source": []
  },
  {
   "cell_type": "code",
   "execution_count": 2,
   "metadata": {},
   "outputs": [],
   "source": [
    "aws = AwsClient()"
   ]
  },
  {
   "cell_type": "code",
   "execution_count": 3,
   "metadata": {},
   "outputs": [
    {
     "output_type": "stream",
     "name": "stdout",
     "text": [
      "WARNING *** file size (60570) not 512 + multiple of sector size (512)\n",
      "WARNING *** file size (71838) not 512 + multiple of sector size (512)\n",
      "WARNING *** file size (71834) not 512 + multiple of sector size (512)\n",
      "WARNING *** file size (69788) not 512 + multiple of sector size (512)\n",
      "WARNING *** file size (60570) not 512 + multiple of sector size (512)\n",
      "WARNING *** file size (60570) not 512 + multiple of sector size (512)\n",
      "WARNING *** file size (60572) not 512 + multiple of sector size (512)\n",
      "WARNING *** file size (59548) not 512 + multiple of sector size (512)\n",
      "WARNING *** file size (59546) not 512 + multiple of sector size (512)\n",
      "WARNING *** file size (59546) not 512 + multiple of sector size (512)\n",
      "WARNING *** file size (59546) not 512 + multiple of sector size (512)\n",
      "WARNING *** file size (59548) not 512 + multiple of sector size (512)\n",
      "WARNING *** file size (59546) not 512 + multiple of sector size (512)\n",
      "WARNING *** file size (59548) not 512 + multiple of sector size (512)\n",
      "WARNING *** file size (59546) not 512 + multiple of sector size (512)\n",
      "WARNING *** file size (59546) not 512 + multiple of sector size (512)\n",
      "WARNING *** file size (59548) not 512 + multiple of sector size (512)\n",
      "WARNING *** file size (78490) not 512 + multiple of sector size (512)\n",
      "WARNING *** file size (59548) not 512 + multiple of sector size (512)\n",
      "WARNING *** file size (59548) not 512 + multiple of sector size (512)\n",
      "WARNING *** file size (59548) not 512 + multiple of sector size (512)\n",
      "WARNING *** file size (58524) not 512 + multiple of sector size (512)\n",
      "WARNING *** file size (58522) not 512 + multiple of sector size (512)\n",
      "WARNING *** file size (58522) not 512 + multiple of sector size (512)\n",
      "WARNING *** file size (60572) not 512 + multiple of sector size (512)\n",
      "WARNING *** file size (60570) not 512 + multiple of sector size (512)\n",
      "WARNING *** file size (58526) not 512 + multiple of sector size (512)\n",
      "WARNING *** file size (59034) not 512 + multiple of sector size (512)\n",
      "WARNING *** file size (75418) not 512 + multiple of sector size (512)\n",
      "WARNING *** file size (65692) not 512 + multiple of sector size (512)\n",
      "WARNING *** file size (57498) not 512 + multiple of sector size (512)\n",
      "WARNING *** file size (57500) not 512 + multiple of sector size (512)\n",
      "WARNING *** file size (55452) not 512 + multiple of sector size (512)\n",
      "WARNING *** file size (59470) not 512 + multiple of sector size (512)\n",
      "WARNING *** file size (54430) not 512 + multiple of sector size (512)\n",
      "WARNING *** file size (54428) not 512 + multiple of sector size (512)\n",
      "WARNING *** file size (54426) not 512 + multiple of sector size (512)\n",
      "WARNING *** file size (54426) not 512 + multiple of sector size (512)\n",
      "WARNING *** file size (54428) not 512 + multiple of sector size (512)\n",
      "WARNING *** file size (54426) not 512 + multiple of sector size (512)\n",
      "WARNING *** file size (77466) not 512 + multiple of sector size (512)\n",
      "WARNING *** file size (66716) not 512 + multiple of sector size (512)\n",
      "WARNING *** file size (54428) not 512 + multiple of sector size (512)\n",
      "WARNING *** file size (49820) not 512 + multiple of sector size (512)\n",
      "WARNING *** file size (49820) not 512 + multiple of sector size (512)\n",
      "WARNING *** file size (49822) not 512 + multiple of sector size (512)\n",
      "WARNING *** file size (75420) not 512 + multiple of sector size (512)\n",
      "WARNING *** file size (60572) not 512 + multiple of sector size (512)\n",
      "WARNING *** file size (72346) not 512 + multiple of sector size (512)\n",
      "WARNING *** file size (49820) not 512 + multiple of sector size (512)\n",
      "WARNING *** file size (49820) not 512 + multiple of sector size (512)\n",
      "WARNING *** file size (49820) not 512 + multiple of sector size (512)\n",
      "WARNING *** file size (49818) not 512 + multiple of sector size (512)\n",
      "WARNING *** file size (65696) not 512 + multiple of sector size (512)\n",
      "WARNING *** file size (70812) not 512 + multiple of sector size (512)\n",
      "WARNING *** file size (65180) not 512 + multiple of sector size (512)\n",
      "WARNING *** file size (60572) not 512 + multiple of sector size (512)\n",
      "WARNING *** file size (56476) not 512 + multiple of sector size (512)\n",
      "WARNING *** file size (56474) not 512 + multiple of sector size (512)\n",
      "WARNING *** file size (56476) not 512 + multiple of sector size (512)\n",
      "WARNING *** file size (56474) not 512 + multiple of sector size (512)\n",
      "WARNING *** file size (56476) not 512 + multiple of sector size (512)\n",
      "WARNING *** file size (56474) not 512 + multiple of sector size (512)\n",
      "WARNING *** file size (56474) not 512 + multiple of sector size (512)\n",
      "WARNING *** file size (57500) not 512 + multiple of sector size (512)\n",
      "WARNING *** file size (56480) not 512 + multiple of sector size (512)\n",
      "WARNING *** file size (56476) not 512 + multiple of sector size (512)\n",
      "WARNING *** file size (60572) not 512 + multiple of sector size (512)\n",
      "WARNING *** file size (60574) not 512 + multiple of sector size (512)\n",
      "WARNING *** file size (56988) not 512 + multiple of sector size (512)\n",
      "WARNING *** file size (56474) not 512 + multiple of sector size (512)\n",
      "WARNING *** file size (56474) not 512 + multiple of sector size (512)\n",
      "WARNING *** file size (56474) not 512 + multiple of sector size (512)\n",
      "WARNING *** file size (55452) not 512 + multiple of sector size (512)\n",
      "WARNING *** file size (55450) not 512 + multiple of sector size (512)\n",
      "WARNING *** file size (60572) not 512 + multiple of sector size (512)\n",
      "WARNING *** file size (59550) not 512 + multiple of sector size (512)\n",
      "WARNING *** file size (74908) not 512 + multiple of sector size (512)\n",
      "WARNING *** file size (76956) not 512 + multiple of sector size (512)\n",
      "WARNING *** file size (83612) not 512 + multiple of sector size (512)\n",
      "WARNING *** file size (86174) not 512 + multiple of sector size (512)\n",
      "WARNING *** file size (83612) not 512 + multiple of sector size (512)\n"
     ]
    }
   ],
   "source": [
    "aws.load_data_s3()"
   ]
  },
  {
   "cell_type": "code",
   "execution_count": 4,
   "metadata": {},
   "outputs": [],
   "source": [
    "position = Position(aws.df_list_pos)"
   ]
  },
  {
   "source": [
    "## Position dataset"
   ],
   "cell_type": "markdown",
   "metadata": {}
  },
  {
   "cell_type": "code",
   "execution_count": 5,
   "metadata": {},
   "outputs": [
    {
     "output_type": "stream",
     "name": "stderr",
     "text": [
      "/Users/gabriellopes/opt/anaconda3/lib/python3.8/site-packages/pandas/core/indexing.py:1596: SettingWithCopyWarning: \nA value is trying to be set on a copy of a slice from a DataFrame.\nTry using .loc[row_indexer,col_indexer] = value instead\n\nSee the caveats in the documentation: https://pandas.pydata.org/pandas-docs/stable/user_guide/indexing.html#returning-a-view-versus-a-copy\n  self.obj[key] = value\n/Users/gabriellopes/opt/anaconda3/lib/python3.8/site-packages/pandas/core/indexing.py:1675: SettingWithCopyWarning: \nA value is trying to be set on a copy of a slice from a DataFrame.\nTry using .loc[row_indexer,col_indexer] = value instead\n\nSee the caveats in the documentation: https://pandas.pydata.org/pandas-docs/stable/user_guide/indexing.html#returning-a-view-versus-a-copy\n  self._setitem_single_column(ilocs[0], value, pi)\n"
     ]
    }
   ],
   "source": [
    "extract = Extract(2010, 2021, aws.extrato, aws.extrato_bolsa)"
   ]
  },
  {
   "cell_type": "code",
   "execution_count": 6,
   "metadata": {},
   "outputs": [
    {
     "output_type": "execute_result",
     "data": {
      "text/plain": [
       "                         Nome   ano  mes       Data  Vlr Aporte  Vlr Resgate  \\\n",
       "0      AZ Quest Multi FIC FIM  2017    3 2017-03-31   15,000.00         0.00   \n",
       "1       Azul Quantitativo FIM  2013    6 2013-06-30    5,000.00         0.00   \n",
       "2       Azul Quantitativo FIM  2013    8 2013-08-31   10,200.00         0.00   \n",
       "3  BNP Paribas Inflação FI RF  2015    1 2015-01-31    5,000.00         0.00   \n",
       "4  BNP Paribas Inflação FI RF  2015    2 2015-02-28    5,300.00         0.00   \n",
       "\n",
       "   Vlr IR  Rendimento Resgatado Tipo      Data2  \n",
       "0    0.00                  0.00   FI 2017-03-31  \n",
       "1    0.00                  0.00   FI 2013-06-30  \n",
       "2    0.00                  0.00   FI 2013-08-31  \n",
       "3    0.00                  0.00   FI 2015-01-31  \n",
       "4    0.00                  0.00   FI 2015-02-28  "
      ],
      "text/html": "<div>\n<style scoped>\n    .dataframe tbody tr th:only-of-type {\n        vertical-align: middle;\n    }\n\n    .dataframe tbody tr th {\n        vertical-align: top;\n    }\n\n    .dataframe thead th {\n        text-align: right;\n    }\n</style>\n<table border=\"1\" class=\"dataframe\">\n  <thead>\n    <tr style=\"text-align: right;\">\n      <th></th>\n      <th>Nome</th>\n      <th>ano</th>\n      <th>mes</th>\n      <th>Data</th>\n      <th>Vlr Aporte</th>\n      <th>Vlr Resgate</th>\n      <th>Vlr IR</th>\n      <th>Rendimento Resgatado</th>\n      <th>Tipo</th>\n      <th>Data2</th>\n    </tr>\n  </thead>\n  <tbody>\n    <tr>\n      <th>0</th>\n      <td>AZ Quest Multi FIC FIM</td>\n      <td>2017</td>\n      <td>3</td>\n      <td>2017-03-31</td>\n      <td>15,000.00</td>\n      <td>0.00</td>\n      <td>0.00</td>\n      <td>0.00</td>\n      <td>FI</td>\n      <td>2017-03-31</td>\n    </tr>\n    <tr>\n      <th>1</th>\n      <td>Azul Quantitativo FIM</td>\n      <td>2013</td>\n      <td>6</td>\n      <td>2013-06-30</td>\n      <td>5,000.00</td>\n      <td>0.00</td>\n      <td>0.00</td>\n      <td>0.00</td>\n      <td>FI</td>\n      <td>2013-06-30</td>\n    </tr>\n    <tr>\n      <th>2</th>\n      <td>Azul Quantitativo FIM</td>\n      <td>2013</td>\n      <td>8</td>\n      <td>2013-08-31</td>\n      <td>10,200.00</td>\n      <td>0.00</td>\n      <td>0.00</td>\n      <td>0.00</td>\n      <td>FI</td>\n      <td>2013-08-31</td>\n    </tr>\n    <tr>\n      <th>3</th>\n      <td>BNP Paribas Inflação FI RF</td>\n      <td>2015</td>\n      <td>1</td>\n      <td>2015-01-31</td>\n      <td>5,000.00</td>\n      <td>0.00</td>\n      <td>0.00</td>\n      <td>0.00</td>\n      <td>FI</td>\n      <td>2015-01-31</td>\n    </tr>\n    <tr>\n      <th>4</th>\n      <td>BNP Paribas Inflação FI RF</td>\n      <td>2015</td>\n      <td>2</td>\n      <td>2015-02-28</td>\n      <td>5,300.00</td>\n      <td>0.00</td>\n      <td>0.00</td>\n      <td>0.00</td>\n      <td>FI</td>\n      <td>2015-02-28</td>\n    </tr>\n  </tbody>\n</table>\n</div>"
     },
     "metadata": {},
     "execution_count": 6
    }
   ],
   "source": [
    "extract.extract_fis.head()"
   ]
  },
  {
   "cell_type": "code",
   "execution_count": 7,
   "metadata": {},
   "outputs": [
    {
     "output_type": "stream",
     "name": "stderr",
     "text": [
      "/Users/gabriellopes/Documents/Pessoal/dev/new-finance-app/data/reshape.py:17: SettingWithCopyWarning: \n",
      "A value is trying to be set on a copy of a slice from a DataFrame.\n",
      "Try using .loc[row_indexer,col_indexer] = value instead\n",
      "\n",
      "See the caveats in the documentation: https://pandas.pydata.org/pandas-docs/stable/user_guide/indexing.html#returning-a-view-versus-a-copy\n",
      "  df1['Tipo'] = np.where(df1['Papel'].str.contains('34'),\n",
      "/Users/gabriellopes/Documents/Pessoal/dev/new-finance-app/data/reshape.py:169: RuntimeWarning: divide by zero encountered in double_scalars\n",
      "  rend_per_ = valor / df_[df_.index == row - 1]['Financeiro'].sum() * 100\n",
      "/Users/gabriellopes/Documents/Pessoal/dev/new-finance-app/data/reshape.py:158: RuntimeWarning: divide by zero encountered in double_scalars\n",
      "  rend_per_ = rend_ / df_[df_.index <= row]['aporte'].sum() * 100\n",
      "/Users/gabriellopes/Documents/Pessoal/dev/new-finance-app/data/reshape.py:158: RuntimeWarning: divide by zero encountered in double_scalars\n",
      "  rend_per_ = rend_ / df_[df_.index <= row]['aporte'].sum() * 100\n",
      "/Users/gabriellopes/Documents/Pessoal/dev/new-finance-app/data/reshape.py:158: RuntimeWarning: divide by zero encountered in double_scalars\n",
      "  rend_per_ = rend_ / df_[df_.index <= row]['aporte'].sum() * 100\n",
      "/Users/gabriellopes/Documents/Pessoal/dev/new-finance-app/data/reshape.py:158: RuntimeWarning: divide by zero encountered in double_scalars\n",
      "  rend_per_ = rend_ / df_[df_.index <= row]['aporte'].sum() * 100\n",
      "/Users/gabriellopes/Documents/Pessoal/dev/new-finance-app/data/reshape.py:158: RuntimeWarning: divide by zero encountered in double_scalars\n",
      "  rend_per_ = rend_ / df_[df_.index <= row]['aporte'].sum() * 100\n",
      "/Users/gabriellopes/Documents/Pessoal/dev/new-finance-app/data/reshape.py:158: RuntimeWarning: divide by zero encountered in double_scalars\n",
      "  rend_per_ = rend_ / df_[df_.index <= row]['aporte'].sum() * 100\n",
      "/Users/gabriellopes/Documents/Pessoal/dev/new-finance-app/data/reshape.py:158: RuntimeWarning: divide by zero encountered in double_scalars\n",
      "  rend_per_ = rend_ / df_[df_.index <= row]['aporte'].sum() * 100\n",
      "/Users/gabriellopes/Documents/Pessoal/dev/new-finance-app/data/reshape.py:158: RuntimeWarning: divide by zero encountered in double_scalars\n",
      "  rend_per_ = rend_ / df_[df_.index <= row]['aporte'].sum() * 100\n",
      "/Users/gabriellopes/Documents/Pessoal/dev/new-finance-app/data/reshape.py:158: RuntimeWarning: divide by zero encountered in double_scalars\n",
      "  rend_per_ = rend_ / df_[df_.index <= row]['aporte'].sum() * 100\n",
      "/Users/gabriellopes/Documents/Pessoal/dev/new-finance-app/data/reshape.py:158: RuntimeWarning: divide by zero encountered in double_scalars\n",
      "  rend_per_ = rend_ / df_[df_.index <= row]['aporte'].sum() * 100\n",
      "/Users/gabriellopes/Documents/Pessoal/dev/new-finance-app/data/reshape.py:158: RuntimeWarning: divide by zero encountered in double_scalars\n",
      "  rend_per_ = rend_ / df_[df_.index <= row]['aporte'].sum() * 100\n",
      "/Users/gabriellopes/Documents/Pessoal/dev/new-finance-app/data/reshape.py:158: RuntimeWarning: divide by zero encountered in double_scalars\n",
      "  rend_per_ = rend_ / df_[df_.index <= row]['aporte'].sum() * 100\n",
      "/Users/gabriellopes/Documents/Pessoal/dev/new-finance-app/data/reshape.py:158: RuntimeWarning: divide by zero encountered in double_scalars\n",
      "  rend_per_ = rend_ / df_[df_.index <= row]['aporte'].sum() * 100\n",
      "/Users/gabriellopes/Documents/Pessoal/dev/new-finance-app/data/reshape.py:158: RuntimeWarning: divide by zero encountered in double_scalars\n",
      "  rend_per_ = rend_ / df_[df_.index <= row]['aporte'].sum() * 100\n",
      "/Users/gabriellopes/Documents/Pessoal/dev/new-finance-app/data/reshape.py:158: RuntimeWarning: divide by zero encountered in double_scalars\n",
      "  rend_per_ = rend_ / df_[df_.index <= row]['aporte'].sum() * 100\n",
      "/Users/gabriellopes/Documents/Pessoal/dev/new-finance-app/data/reshape.py:158: RuntimeWarning: divide by zero encountered in double_scalars\n",
      "  rend_per_ = rend_ / df_[df_.index <= row]['aporte'].sum() * 100\n",
      "/Users/gabriellopes/Documents/Pessoal/dev/new-finance-app/data/reshape.py:169: RuntimeWarning: divide by zero encountered in double_scalars\n",
      "  rend_per_ = valor / df_[df_.index == row - 1]['Financeiro'].sum() * 100\n",
      "/Users/gabriellopes/Documents/Pessoal/dev/new-finance-app/data/reshape.py:158: RuntimeWarning: divide by zero encountered in double_scalars\n",
      "  rend_per_ = rend_ / df_[df_.index <= row]['aporte'].sum() * 100\n",
      "/Users/gabriellopes/Documents/Pessoal/dev/new-finance-app/data/reshape.py:158: RuntimeWarning: divide by zero encountered in double_scalars\n",
      "  rend_per_ = rend_ / df_[df_.index <= row]['aporte'].sum() * 100\n",
      "/Users/gabriellopes/Documents/Pessoal/dev/new-finance-app/data/reshape.py:158: RuntimeWarning: divide by zero encountered in double_scalars\n",
      "  rend_per_ = rend_ / df_[df_.index <= row]['aporte'].sum() * 100\n",
      "/Users/gabriellopes/Documents/Pessoal/dev/new-finance-app/data/reshape.py:158: RuntimeWarning: invalid value encountered in double_scalars\n",
      "  rend_per_ = rend_ / df_[df_.index <= row]['aporte'].sum() * 100\n"
     ]
    }
   ],
   "source": [
    "transform = Transform()\n",
    "\n",
    "df = transform.resume(position, extract)"
   ]
  },
  {
   "cell_type": "code",
   "execution_count": 8,
   "metadata": {},
   "outputs": [
    {
     "output_type": "execute_result",
     "data": {
      "text/plain": [
       "array(['2017-03-31T00:00:00.000000000', '2013-06-30T00:00:00.000000000',\n",
       "       '2013-08-31T00:00:00.000000000', '2015-01-31T00:00:00.000000000',\n",
       "       '2015-02-28T00:00:00.000000000', '2017-10-31T00:00:00.000000000',\n",
       "       '2019-09-30T00:00:00.000000000', '2015-09-30T00:00:00.000000000',\n",
       "       '2020-07-31T00:00:00.000000000', '2020-08-31T00:00:00.000000000',\n",
       "       '2012-01-31T00:00:00.000000000', '2016-11-30T00:00:00.000000000',\n",
       "       '2016-04-30T00:00:00.000000000', '2014-01-31T00:00:00.000000000',\n",
       "       '2018-12-31T00:00:00.000000000', '2013-01-31T00:00:00.000000000',\n",
       "       '2013-05-31T00:00:00.000000000', '2010-10-31T00:00:00.000000000',\n",
       "       '2010-11-30T00:00:00.000000000', '2018-04-30T00:00:00.000000000',\n",
       "       '2018-06-30T00:00:00.000000000', '2020-03-31T00:00:00.000000000',\n",
       "       '2021-01-31T00:00:00.000000000', '2014-04-30T00:00:00.000000000',\n",
       "       '2015-11-30T00:00:00.000000000', '2020-10-31T00:00:00.000000000',\n",
       "       '2012-05-31T00:00:00.000000000', '2016-03-31T00:00:00.000000000',\n",
       "       '2011-02-28T00:00:00.000000000', '2013-11-30T00:00:00.000000000',\n",
       "       '2014-05-31T00:00:00.000000000', '2014-12-31T00:00:00.000000000',\n",
       "       '2015-06-30T00:00:00.000000000', '2016-12-31T00:00:00.000000000',\n",
       "       '2017-06-30T00:00:00.000000000', '2016-06-30T00:00:00.000000000',\n",
       "       '2014-06-30T00:00:00.000000000'], dtype='datetime64[ns]')"
      ]
     },
     "metadata": {},
     "execution_count": 8
    }
   ],
   "source": [
    "extract.extract_fis['Data2'].unique()"
   ]
  },
  {
   "cell_type": "code",
   "execution_count": 9,
   "metadata": {},
   "outputs": [
    {
     "output_type": "execute_result",
     "data": {
      "text/plain": [
       "0   2017-03-31\n",
       "1   2013-06-30\n",
       "2   2013-08-31\n",
       "3   2015-01-31\n",
       "4   2015-02-28\n",
       "Name: Data, dtype: datetime64[ns]"
      ]
     },
     "metadata": {},
     "execution_count": 9
    }
   ],
   "source": [
    "# Estou aqui!!! \n",
    "# Colocar o metodo na classe utils e aplicar no extract.extract_fis.\n",
    "\n",
    "import datetime \n",
    "any_date = datetime.datetime(2020, 9, 23)\n",
    "\n",
    "def last_day_of_month(date):\n",
    "    # Guaranteed to get the next month. Force any_date to 28th and then add 4 days.\n",
    "    next_month = date.replace(day=28) + datetime.timedelta(days=4)\n",
    "    \n",
    "    # Subtract all days that are over since the start of the month.\n",
    "    day = next_month - datetime.timedelta(days=next_month.day)\n",
    "    return day\n",
    "\n",
    "last_day_of_month(any_date)\n",
    "\n",
    "extract.extract_fis.head()['Data'].apply(lambda x: last_day_of_month(x))"
   ]
  },
  {
   "cell_type": "code",
   "execution_count": 10,
   "metadata": {},
   "outputs": [
    {
     "output_type": "execute_result",
     "data": {
      "text/plain": [
       "   level_0  index    Nome  Qtd Disponivel  Cotacao  Financeiro  period  mes  \\\n",
       "0        5   5.00  BPAC11          200.00    33.24    6,648.00  2020/3    3   \n",
       "1        0   0.00  BPAC11          200.00    42.30    8,460.00  2020/4    4   \n",
       "2       43  43.00  BPAC11          200.00    48.84    9,768.00  2020/5    5   \n",
       "3       53  53.00  BPAC11           78.00    49.60    1,934.40  2020/6    6   \n",
       "4       12  12.00  BPAC11           26.00    86.42    2,246.92  2020/7    7   \n",
       "\n",
       "    ano       Data  Tipo  dividendo   aporte  retirada  rendimento_resgatado  \\\n",
       "0  2020 2020-03-31  Ação       0.00 7,190.00      0.00                  0.00   \n",
       "1  2020 2020-04-30  Ação       0.00     0.00      0.00                  0.00   \n",
       "2  2020 2020-05-29  Ação       0.00     0.00      0.00                  0.00   \n",
       "3  2020 2020-06-30  Ação       0.00     0.00 15,500.00                  0.00   \n",
       "4  2020 2020-07-31  Ação       0.00     0.00      0.00                  0.00   \n",
       "\n",
       "   rendimento     %  periodo_cont  \n",
       "0     -542.00 -7.54             1  \n",
       "1    1,812.00 27.26             2  \n",
       "2    1,308.00 15.46             3  \n",
       "3    7,666.40 78.48             4  \n",
       "4      312.52 16.16             5  "
      ],
      "text/html": "<div>\n<style scoped>\n    .dataframe tbody tr th:only-of-type {\n        vertical-align: middle;\n    }\n\n    .dataframe tbody tr th {\n        vertical-align: top;\n    }\n\n    .dataframe thead th {\n        text-align: right;\n    }\n</style>\n<table border=\"1\" class=\"dataframe\">\n  <thead>\n    <tr style=\"text-align: right;\">\n      <th></th>\n      <th>level_0</th>\n      <th>index</th>\n      <th>Nome</th>\n      <th>Qtd Disponivel</th>\n      <th>Cotacao</th>\n      <th>Financeiro</th>\n      <th>period</th>\n      <th>mes</th>\n      <th>ano</th>\n      <th>Data</th>\n      <th>Tipo</th>\n      <th>dividendo</th>\n      <th>aporte</th>\n      <th>retirada</th>\n      <th>rendimento_resgatado</th>\n      <th>rendimento</th>\n      <th>%</th>\n      <th>periodo_cont</th>\n    </tr>\n  </thead>\n  <tbody>\n    <tr>\n      <th>0</th>\n      <td>5</td>\n      <td>5.00</td>\n      <td>BPAC11</td>\n      <td>200.00</td>\n      <td>33.24</td>\n      <td>6,648.00</td>\n      <td>2020/3</td>\n      <td>3</td>\n      <td>2020</td>\n      <td>2020-03-31</td>\n      <td>Ação</td>\n      <td>0.00</td>\n      <td>7,190.00</td>\n      <td>0.00</td>\n      <td>0.00</td>\n      <td>-542.00</td>\n      <td>-7.54</td>\n      <td>1</td>\n    </tr>\n    <tr>\n      <th>1</th>\n      <td>0</td>\n      <td>0.00</td>\n      <td>BPAC11</td>\n      <td>200.00</td>\n      <td>42.30</td>\n      <td>8,460.00</td>\n      <td>2020/4</td>\n      <td>4</td>\n      <td>2020</td>\n      <td>2020-04-30</td>\n      <td>Ação</td>\n      <td>0.00</td>\n      <td>0.00</td>\n      <td>0.00</td>\n      <td>0.00</td>\n      <td>1,812.00</td>\n      <td>27.26</td>\n      <td>2</td>\n    </tr>\n    <tr>\n      <th>2</th>\n      <td>43</td>\n      <td>43.00</td>\n      <td>BPAC11</td>\n      <td>200.00</td>\n      <td>48.84</td>\n      <td>9,768.00</td>\n      <td>2020/5</td>\n      <td>5</td>\n      <td>2020</td>\n      <td>2020-05-29</td>\n      <td>Ação</td>\n      <td>0.00</td>\n      <td>0.00</td>\n      <td>0.00</td>\n      <td>0.00</td>\n      <td>1,308.00</td>\n      <td>15.46</td>\n      <td>3</td>\n    </tr>\n    <tr>\n      <th>3</th>\n      <td>53</td>\n      <td>53.00</td>\n      <td>BPAC11</td>\n      <td>78.00</td>\n      <td>49.60</td>\n      <td>1,934.40</td>\n      <td>2020/6</td>\n      <td>6</td>\n      <td>2020</td>\n      <td>2020-06-30</td>\n      <td>Ação</td>\n      <td>0.00</td>\n      <td>0.00</td>\n      <td>15,500.00</td>\n      <td>0.00</td>\n      <td>7,666.40</td>\n      <td>78.48</td>\n      <td>4</td>\n    </tr>\n    <tr>\n      <th>4</th>\n      <td>12</td>\n      <td>12.00</td>\n      <td>BPAC11</td>\n      <td>26.00</td>\n      <td>86.42</td>\n      <td>2,246.92</td>\n      <td>2020/7</td>\n      <td>7</td>\n      <td>2020</td>\n      <td>2020-07-31</td>\n      <td>Ação</td>\n      <td>0.00</td>\n      <td>0.00</td>\n      <td>0.00</td>\n      <td>0.00</td>\n      <td>312.52</td>\n      <td>16.16</td>\n      <td>5</td>\n    </tr>\n  </tbody>\n</table>\n</div>"
     },
     "metadata": {},
     "execution_count": 10
    }
   ],
   "source": [
    "df.head()"
   ]
  },
  {
   "cell_type": "code",
   "execution_count": 11,
   "metadata": {},
   "outputs": [
    {
     "output_type": "execute_result",
     "data": {
      "text/plain": [
       "Empty DataFrame\n",
       "Columns: [level_0, index, Nome, Qtd Disponivel, Cotacao, Financeiro, period, mes, ano, Data, Tipo, dividendo, aporte, retirada, rendimento_resgatado, rendimento, %, periodo_cont]\n",
       "Index: []"
      ],
      "text/html": "<div>\n<style scoped>\n    .dataframe tbody tr th:only-of-type {\n        vertical-align: middle;\n    }\n\n    .dataframe tbody tr th {\n        vertical-align: top;\n    }\n\n    .dataframe thead th {\n        text-align: right;\n    }\n</style>\n<table border=\"1\" class=\"dataframe\">\n  <thead>\n    <tr style=\"text-align: right;\">\n      <th></th>\n      <th>level_0</th>\n      <th>index</th>\n      <th>Nome</th>\n      <th>Qtd Disponivel</th>\n      <th>Cotacao</th>\n      <th>Financeiro</th>\n      <th>period</th>\n      <th>mes</th>\n      <th>ano</th>\n      <th>Data</th>\n      <th>Tipo</th>\n      <th>dividendo</th>\n      <th>aporte</th>\n      <th>retirada</th>\n      <th>rendimento_resgatado</th>\n      <th>rendimento</th>\n      <th>%</th>\n      <th>periodo_cont</th>\n    </tr>\n  </thead>\n  <tbody>\n  </tbody>\n</table>\n</div>"
     },
     "metadata": {},
     "execution_count": 11
    }
   ],
   "source": [
    "df[df['Data'] == 0]"
   ]
  },
  {
   "cell_type": "code",
   "execution_count": 12,
   "metadata": {},
   "outputs": [],
   "source": [
    "df_extract = transform.transform_extract_stocks(extract)"
   ]
  },
  {
   "cell_type": "code",
   "execution_count": 13,
   "metadata": {},
   "outputs": [
    {
     "output_type": "execute_result",
     "data": {
      "text/plain": [
       "                       Nome       Data  Qtd Cotas  Valor Cota  Valor Bruto  \\\n",
       "20   AZ Quest Multi FIC FIM 2020-02-28   1,464.80       12.95    18,967.40   \n",
       "219  AZ Quest Multi FIC FIM 2020-01-31   1,464.80       12.84    18,801.04   \n",
       "\n",
       "       IR  IOF  Valor Liquido Aplicacao Pendente  Total Bruto  period  mes  \\\n",
       "20  93.33 0.00      18,874.07                  0    18,967.40  2020/2    2   \n",
       "219 68.38 0.00      18,732.66                  0    18,801.04  2020/1    1   \n",
       "\n",
       "      ano data_posicao  \n",
       "20   2020   2020-02-28  \n",
       "219  2020   2020-01-31  "
      ],
      "text/html": "<div>\n<style scoped>\n    .dataframe tbody tr th:only-of-type {\n        vertical-align: middle;\n    }\n\n    .dataframe tbody tr th {\n        vertical-align: top;\n    }\n\n    .dataframe thead th {\n        text-align: right;\n    }\n</style>\n<table border=\"1\" class=\"dataframe\">\n  <thead>\n    <tr style=\"text-align: right;\">\n      <th></th>\n      <th>Nome</th>\n      <th>Data</th>\n      <th>Qtd Cotas</th>\n      <th>Valor Cota</th>\n      <th>Valor Bruto</th>\n      <th>IR</th>\n      <th>IOF</th>\n      <th>Valor Liquido</th>\n      <th>Aplicacao Pendente</th>\n      <th>Total Bruto</th>\n      <th>period</th>\n      <th>mes</th>\n      <th>ano</th>\n      <th>data_posicao</th>\n    </tr>\n  </thead>\n  <tbody>\n    <tr>\n      <th>20</th>\n      <td>AZ Quest Multi FIC FIM</td>\n      <td>2020-02-28</td>\n      <td>1,464.80</td>\n      <td>12.95</td>\n      <td>18,967.40</td>\n      <td>93.33</td>\n      <td>0.00</td>\n      <td>18,874.07</td>\n      <td>0</td>\n      <td>18,967.40</td>\n      <td>2020/2</td>\n      <td>2</td>\n      <td>2020</td>\n      <td>2020-02-28</td>\n    </tr>\n    <tr>\n      <th>219</th>\n      <td>AZ Quest Multi FIC FIM</td>\n      <td>2020-01-31</td>\n      <td>1,464.80</td>\n      <td>12.84</td>\n      <td>18,801.04</td>\n      <td>68.38</td>\n      <td>0.00</td>\n      <td>18,732.66</td>\n      <td>0</td>\n      <td>18,801.04</td>\n      <td>2020/1</td>\n      <td>1</td>\n      <td>2020</td>\n      <td>2020-01-31</td>\n    </tr>\n  </tbody>\n</table>\n</div>"
     },
     "metadata": {},
     "execution_count": 13
    }
   ],
   "source": [
    "position.fis[\n",
    "    (position.fis['Nome'] == 'AZ Quest Multi FIC FIM') &\n",
    "    #(position.fis['mes'] == 3) &\n",
    "    (position.fis['ano'] == 2020)\n",
    "].head()"
   ]
  },
  {
   "cell_type": "code",
   "execution_count": 14,
   "metadata": {},
   "outputs": [
    {
     "output_type": "error",
     "ename": "KeyError",
     "evalue": "'Papel'",
     "traceback": [
      "\u001b[0;31m---------------------------------------------------------------------------\u001b[0m",
      "\u001b[0;31mKeyError\u001b[0m                                  Traceback (most recent call last)",
      "\u001b[0;32m~/opt/anaconda3/lib/python3.8/site-packages/pandas/core/indexes/base.py\u001b[0m in \u001b[0;36mget_loc\u001b[0;34m(self, key, method, tolerance)\u001b[0m\n\u001b[1;32m   3079\u001b[0m             \u001b[0;32mtry\u001b[0m\u001b[0;34m:\u001b[0m\u001b[0;34m\u001b[0m\u001b[0;34m\u001b[0m\u001b[0m\n\u001b[0;32m-> 3080\u001b[0;31m                 \u001b[0;32mreturn\u001b[0m \u001b[0mself\u001b[0m\u001b[0;34m.\u001b[0m\u001b[0m_engine\u001b[0m\u001b[0;34m.\u001b[0m\u001b[0mget_loc\u001b[0m\u001b[0;34m(\u001b[0m\u001b[0mcasted_key\u001b[0m\u001b[0;34m)\u001b[0m\u001b[0;34m\u001b[0m\u001b[0;34m\u001b[0m\u001b[0m\n\u001b[0m\u001b[1;32m   3081\u001b[0m             \u001b[0;32mexcept\u001b[0m \u001b[0mKeyError\u001b[0m \u001b[0;32mas\u001b[0m \u001b[0merr\u001b[0m\u001b[0;34m:\u001b[0m\u001b[0;34m\u001b[0m\u001b[0;34m\u001b[0m\u001b[0m\n",
      "\u001b[0;32mpandas/_libs/index.pyx\u001b[0m in \u001b[0;36mpandas._libs.index.IndexEngine.get_loc\u001b[0;34m()\u001b[0m\n",
      "\u001b[0;32mpandas/_libs/index.pyx\u001b[0m in \u001b[0;36mpandas._libs.index.IndexEngine.get_loc\u001b[0;34m()\u001b[0m\n",
      "\u001b[0;32mpandas/_libs/hashtable_class_helper.pxi\u001b[0m in \u001b[0;36mpandas._libs.hashtable.PyObjectHashTable.get_item\u001b[0;34m()\u001b[0m\n",
      "\u001b[0;32mpandas/_libs/hashtable_class_helper.pxi\u001b[0m in \u001b[0;36mpandas._libs.hashtable.PyObjectHashTable.get_item\u001b[0;34m()\u001b[0m\n",
      "\u001b[0;31mKeyError\u001b[0m: 'Papel'",
      "\nThe above exception was the direct cause of the following exception:\n",
      "\u001b[0;31mKeyError\u001b[0m                                  Traceback (most recent call last)",
      "\u001b[0;32m<ipython-input-14-a3364f0f63f1>\u001b[0m in \u001b[0;36m<module>\u001b[0;34m\u001b[0m\n\u001b[1;32m      1\u001b[0m \u001b[0mdf_return\u001b[0m \u001b[0;34m=\u001b[0m \u001b[0mpd\u001b[0m\u001b[0;34m.\u001b[0m\u001b[0mDataFrame\u001b[0m\u001b[0;34m(\u001b[0m\u001b[0;34m[\u001b[0m\u001b[0;34m]\u001b[0m\u001b[0;34m)\u001b[0m\u001b[0;34m\u001b[0m\u001b[0;34m\u001b[0m\u001b[0m\n\u001b[1;32m      2\u001b[0m \u001b[0;34m\u001b[0m\u001b[0m\n\u001b[0;32m----> 3\u001b[0;31m \u001b[0;32mfor\u001b[0m \u001b[0mativo\u001b[0m \u001b[0;32min\u001b[0m \u001b[0mdf\u001b[0m\u001b[0;34m[\u001b[0m\u001b[0;34m'Papel'\u001b[0m\u001b[0;34m]\u001b[0m\u001b[0;34m.\u001b[0m\u001b[0munique\u001b[0m\u001b[0;34m(\u001b[0m\u001b[0;34m)\u001b[0m\u001b[0;34m:\u001b[0m\u001b[0;34m\u001b[0m\u001b[0;34m\u001b[0m\u001b[0m\n\u001b[0m\u001b[1;32m      4\u001b[0m     \u001b[0mdf_\u001b[0m \u001b[0;34m=\u001b[0m \u001b[0mdf\u001b[0m\u001b[0;34m[\u001b[0m\u001b[0mdf\u001b[0m\u001b[0;34m[\u001b[0m\u001b[0;34m'Papel'\u001b[0m\u001b[0;34m]\u001b[0m \u001b[0;34m==\u001b[0m \u001b[0mativo\u001b[0m\u001b[0;34m]\u001b[0m\u001b[0;34m.\u001b[0m\u001b[0msort_values\u001b[0m\u001b[0;34m(\u001b[0m\u001b[0mby\u001b[0m\u001b[0;34m=\u001b[0m\u001b[0;34m[\u001b[0m\u001b[0;34m'ano'\u001b[0m\u001b[0;34m,\u001b[0m \u001b[0;34m'mes'\u001b[0m\u001b[0;34m]\u001b[0m\u001b[0;34m)\u001b[0m\u001b[0;34m.\u001b[0m\u001b[0mreset_index\u001b[0m\u001b[0;34m(\u001b[0m\u001b[0;34m)\u001b[0m\u001b[0;34m\u001b[0m\u001b[0;34m\u001b[0m\u001b[0m\n\u001b[1;32m      5\u001b[0m     \u001b[0mrendimento\u001b[0m \u001b[0;34m=\u001b[0m \u001b[0;34m[\u001b[0m\u001b[0;34m]\u001b[0m\u001b[0;34m\u001b[0m\u001b[0;34m\u001b[0m\u001b[0m\n",
      "\u001b[0;32m~/opt/anaconda3/lib/python3.8/site-packages/pandas/core/frame.py\u001b[0m in \u001b[0;36m__getitem__\u001b[0;34m(self, key)\u001b[0m\n\u001b[1;32m   3022\u001b[0m             \u001b[0;32mif\u001b[0m \u001b[0mself\u001b[0m\u001b[0;34m.\u001b[0m\u001b[0mcolumns\u001b[0m\u001b[0;34m.\u001b[0m\u001b[0mnlevels\u001b[0m \u001b[0;34m>\u001b[0m \u001b[0;36m1\u001b[0m\u001b[0;34m:\u001b[0m\u001b[0;34m\u001b[0m\u001b[0;34m\u001b[0m\u001b[0m\n\u001b[1;32m   3023\u001b[0m                 \u001b[0;32mreturn\u001b[0m \u001b[0mself\u001b[0m\u001b[0;34m.\u001b[0m\u001b[0m_getitem_multilevel\u001b[0m\u001b[0;34m(\u001b[0m\u001b[0mkey\u001b[0m\u001b[0;34m)\u001b[0m\u001b[0;34m\u001b[0m\u001b[0;34m\u001b[0m\u001b[0m\n\u001b[0;32m-> 3024\u001b[0;31m             \u001b[0mindexer\u001b[0m \u001b[0;34m=\u001b[0m \u001b[0mself\u001b[0m\u001b[0;34m.\u001b[0m\u001b[0mcolumns\u001b[0m\u001b[0;34m.\u001b[0m\u001b[0mget_loc\u001b[0m\u001b[0;34m(\u001b[0m\u001b[0mkey\u001b[0m\u001b[0;34m)\u001b[0m\u001b[0;34m\u001b[0m\u001b[0;34m\u001b[0m\u001b[0m\n\u001b[0m\u001b[1;32m   3025\u001b[0m             \u001b[0;32mif\u001b[0m \u001b[0mis_integer\u001b[0m\u001b[0;34m(\u001b[0m\u001b[0mindexer\u001b[0m\u001b[0;34m)\u001b[0m\u001b[0;34m:\u001b[0m\u001b[0;34m\u001b[0m\u001b[0;34m\u001b[0m\u001b[0m\n\u001b[1;32m   3026\u001b[0m                 \u001b[0mindexer\u001b[0m \u001b[0;34m=\u001b[0m \u001b[0;34m[\u001b[0m\u001b[0mindexer\u001b[0m\u001b[0;34m]\u001b[0m\u001b[0;34m\u001b[0m\u001b[0;34m\u001b[0m\u001b[0m\n",
      "\u001b[0;32m~/opt/anaconda3/lib/python3.8/site-packages/pandas/core/indexes/base.py\u001b[0m in \u001b[0;36mget_loc\u001b[0;34m(self, key, method, tolerance)\u001b[0m\n\u001b[1;32m   3080\u001b[0m                 \u001b[0;32mreturn\u001b[0m \u001b[0mself\u001b[0m\u001b[0;34m.\u001b[0m\u001b[0m_engine\u001b[0m\u001b[0;34m.\u001b[0m\u001b[0mget_loc\u001b[0m\u001b[0;34m(\u001b[0m\u001b[0mcasted_key\u001b[0m\u001b[0;34m)\u001b[0m\u001b[0;34m\u001b[0m\u001b[0;34m\u001b[0m\u001b[0m\n\u001b[1;32m   3081\u001b[0m             \u001b[0;32mexcept\u001b[0m \u001b[0mKeyError\u001b[0m \u001b[0;32mas\u001b[0m \u001b[0merr\u001b[0m\u001b[0;34m:\u001b[0m\u001b[0;34m\u001b[0m\u001b[0;34m\u001b[0m\u001b[0m\n\u001b[0;32m-> 3082\u001b[0;31m                 \u001b[0;32mraise\u001b[0m \u001b[0mKeyError\u001b[0m\u001b[0;34m(\u001b[0m\u001b[0mkey\u001b[0m\u001b[0;34m)\u001b[0m \u001b[0;32mfrom\u001b[0m \u001b[0merr\u001b[0m\u001b[0;34m\u001b[0m\u001b[0;34m\u001b[0m\u001b[0m\n\u001b[0m\u001b[1;32m   3083\u001b[0m \u001b[0;34m\u001b[0m\u001b[0m\n\u001b[1;32m   3084\u001b[0m         \u001b[0;32mif\u001b[0m \u001b[0mtolerance\u001b[0m \u001b[0;32mis\u001b[0m \u001b[0;32mnot\u001b[0m \u001b[0;32mNone\u001b[0m\u001b[0;34m:\u001b[0m\u001b[0;34m\u001b[0m\u001b[0;34m\u001b[0m\u001b[0m\n",
      "\u001b[0;31mKeyError\u001b[0m: 'Papel'"
     ]
    }
   ],
   "source": [
    "df_return = pd.DataFrame([])\n",
    "\n",
    "for ativo in df['Papel'].unique():\n",
    "    df_ = df[df['Papel'] == ativo].sort_values(by=['ano', 'mes']).reset_index()\n",
    "    rendimento = []\n",
    "    rendimento_percent = []\n",
    "    periodo_cont = []\n",
    "    count = 0\n",
    "\n",
    "    for row in df_.index:\n",
    "        if (df_[df_.index == row]['Financeiro'].sum() > 1) | (df_[df_.index == row]['retirada'].sum() > 1):\n",
    "            if count == 0: # primeiro rendimento\n",
    "                count += 1\n",
    "                rend_ = df_[df_.index == row]['Financeiro'].sum() - df_[df_.index <= row]['aporte'].sum()\n",
    "                rend_per_ = rend_ / df_[df_.index <= row]['aporte'].sum() * 100\n",
    "\n",
    "                rendimento.append(rend_)\n",
    "                rendimento_percent.append(rend_per_)\n",
    "                periodo_cont.append(1)\n",
    "            else:\n",
    "                count += 1\n",
    "                valor = df_[df_.index == row]['Financeiro'].sum()\\\n",
    "                            + df_[df_.index == row]['retirada'].sum()\\\n",
    "                            - df_[df_.index == row -1]['Financeiro'].sum()\\\n",
    "                            - df_[df_.index == row]['aporte'].sum()\n",
    "                rend_per_ = valor / df_[df_.index == row - 1]['Financeiro'].sum() * 100\n",
    "                rendimento.append(valor)\n",
    "                rendimento_percent.append(rend_per_)\n",
    "                periodo_cont.append(count)\n",
    "                \n",
    "        else:\n",
    "            rendimento.append(0)\n",
    "            rendimento_percent.append(0)\n",
    "            periodo_cont.append(0)\n",
    "            count = 0\n",
    "\n",
    "    df_['rendimento'] = rendimento\n",
    "    df_['rendimento_percent'] = rendimento_percent\n",
    "    df_['periodo_cont'] = periodo_cont\n",
    "    #df_['rendimento_acum'] = df_['rendimento'].cumsum()\n",
    "    df_return = df_return.append(df_)"
   ]
  },
  {
   "cell_type": "code",
   "execution_count": null,
   "metadata": {},
   "outputs": [],
   "source": []
  },
  {
   "cell_type": "code",
   "execution_count": null,
   "metadata": {},
   "outputs": [],
   "source": []
  },
  {
   "cell_type": "code",
   "execution_count": 8,
   "metadata": {},
   "outputs": [],
   "source": [
    "df2 = extract.extract_fis.rename(columns={\n",
    "    'Nome': 'Papel'#, \n",
    "    #'Vlr Aporte': 'aporte', \n",
    "    #'Vlr Resgate': 'retirada'\n",
    "})\n",
    "\n",
    "df2 = df2.groupby(['Papel', 'ano', 'mes'])\\\n",
    "        .agg(vlr_aporte=('Vlr Aporte', 'sum'), \n",
    "            vlr_resgate=('Vlr Resgate', 'sum'), \n",
    "            rendimento_resgatado=('Rendimento Resgatado', 'sum')).reset_index()\n",
    "\n",
    "df3 = df.merge(df2, \n",
    "        how='outer', \n",
    "        left_on=['ano', 'mes', 'Papel'], \n",
    "        right_on=['ano', 'mes', 'Papel']).fillna(0)\n",
    "\n",
    "df3['aporte'] = df3['vlr_aporte'] + df3['aporte']\n",
    "df3['retirada'] = df3['vlr_resgate'] + df3['retirada']\n",
    "df3.drop(columns=['vlr_aporte', 'vlr_resgate'], inplace=True)"
   ]
  },
  {
   "cell_type": "code",
   "execution_count": 9,
   "metadata": {},
   "outputs": [
    {
     "output_type": "execute_result",
     "data": {
      "text/plain": [
       "     index                   Papel  Qtd Disponivel  Cotacao  Financeiro  \\\n",
       "82   82.00                  AAPL34           16.00    72.02    1,152.32   \n",
       "100 100.00                  AAPL34           16.00    69.69    1,115.04   \n",
       "68   68.00                  AMZO34           48.00   109.30    5,246.40   \n",
       "83   83.00                  AMZO34           48.00   112.00    5,376.00   \n",
       "101 101.00                  AMZO34           48.00   110.22    5,290.56   \n",
       "560 560.00  AZ Quest Multi FIC FIM        1,516.42     9.95   15,094.10   \n",
       "556 556.00  AZ Quest Multi FIC FIM        1,516.42    10.00   15,160.90   \n",
       "552 552.00  AZ Quest Multi FIC FIM        1,516.42     9.73   14,749.34   \n",
       "548 548.00  AZ Quest Multi FIC FIM        1,516.42     9.80   14,853.49   \n",
       "544 544.00  AZ Quest Multi FIC FIM        1,516.42    10.15   15,389.53   \n",
       "540 540.00  AZ Quest Multi FIC FIM        1,516.42    10.32   15,644.93   \n",
       "536 536.00  AZ Quest Multi FIC FIM        1,516.42    10.55   16,004.66   \n",
       "531 531.00  AZ Quest Multi FIC FIM        1,516.42    10.51   15,934.88   \n",
       "526 526.00  AZ Quest Multi FIC FIM        1,503.23    10.50   15,784.72   \n",
       "521 521.00  AZ Quest Multi FIC FIM        1,503.23    10.62   15,969.51   \n",
       "509 509.00  AZ Quest Multi FIC FIM        1,503.23    10.87   16,347.11   \n",
       "504 504.00  AZ Quest Multi FIC FIM        1,503.23    11.03   16,582.00   \n",
       "499 499.00  AZ Quest Multi FIC FIM        1,503.23    11.12   16,712.40   \n",
       "494 494.00  AZ Quest Multi FIC FIM        1,503.23    11.13   16,735.42   \n",
       "489 489.00  AZ Quest Multi FIC FIM        1,491.67    11.07   16,509.69   \n",
       "484 484.00  AZ Quest Multi FIC FIM        1,491.67    11.21   16,716.87   \n",
       "479 479.00  AZ Quest Multi FIC FIM        1,491.67    11.29   16,837.61   \n",
       "474 474.00  AZ Quest Multi FIC FIM        1,491.67    11.28   16,823.70   \n",
       "469 469.00  AZ Quest Multi FIC FIM        1,491.67    11.25   16,786.05   \n",
       "464 464.00  AZ Quest Multi FIC FIM        1,491.67    11.53   17,205.80   \n",
       "724 724.00  AZ Quest Multi FIC FIM        1,481.69    11.58   17,164.88   \n",
       "718 718.00  AZ Quest Multi FIC FIM        1,481.69    11.61   17,207.34   \n",
       "694 694.00  AZ Quest Multi FIC FIM        1,481.69    11.81   17,497.00   \n",
       "651 651.00  AZ Quest Multi FIC FIM        1,481.69    11.75   17,413.09   \n",
       "618 618.00  AZ Quest Multi FIC FIM        1,481.69    11.72   17,370.50   \n",
       "\n",
       "      period  mes   ano         data_posicao  dividendo    aporte  retirada  \\\n",
       "82    2021/1    1  2021  2021-01-29 00:00:00       0.00  1,126.88      0.00   \n",
       "100   2021/2    2  2021  2021-02-26 00:00:00       0.00      0.00      0.00   \n",
       "68   2020/12   12  2020  2020-12-30 00:00:00       0.00  5,011.20      0.00   \n",
       "83    2021/1    1  2021  2021-01-29 00:00:00       0.00      0.00      0.00   \n",
       "101   2021/2    2  2021  2021-02-26 00:00:00       0.00      0.00      0.00   \n",
       "560   2017/3    3  2017  2017-03-31 00:00:00       0.00 30,000.00      0.00   \n",
       "556   2017/4    4  2017  2017-04-28 00:00:00       0.00      0.00      0.00   \n",
       "552   2017/5    5  2017  2017-05-31 00:00:00       0.00      0.00      0.00   \n",
       "548   2017/6    6  2017  2017-06-30 00:00:00       0.00      0.00      0.00   \n",
       "544   2017/7    7  2017  2017-07-31 00:00:00       0.00      0.00      0.00   \n",
       "540   2017/8    8  2017  2017-08-31 00:00:00       0.00      0.00      0.00   \n",
       "536   2017/9    9  2017  2017-09-29 00:00:00       0.00      0.00      0.00   \n",
       "531  2017/10   10  2017  2017-10-31 00:00:00       0.00      0.00      0.00   \n",
       "526  2017/11   11  2017  2017-11-30 00:00:00       0.00      0.00      0.00   \n",
       "521  2017/12   12  2017  2017-12-28 00:00:00       0.00      0.00      0.00   \n",
       "509   2018/1    1  2018  2018-01-31 00:00:00       0.00      0.00      0.00   \n",
       "504   2018/2    2  2018  2018-02-28 00:00:00       0.00      0.00      0.00   \n",
       "499   2018/3    3  2018  2018-03-29 00:00:00       0.00      0.00      0.00   \n",
       "494   2018/4    4  2018  2018-04-30 00:00:00       0.00      0.00      0.00   \n",
       "489   2018/5    5  2018  2018-05-30 00:00:00       0.00      0.00      0.00   \n",
       "484   2018/6    6  2018  2018-06-29 00:00:00       0.00      0.00      0.00   \n",
       "479   2018/7    7  2018  2018-07-31 00:00:00       0.00      0.00      0.00   \n",
       "474   2018/8    8  2018  2018-08-31 00:00:00       0.00      0.00      0.00   \n",
       "469   2018/9    9  2018  2018-09-28 00:00:00       0.00      0.00      0.00   \n",
       "464  2018/10   10  2018  2018-10-31 00:00:00       0.00      0.00      0.00   \n",
       "724  2018/11   11  2018  2018-11-30 00:00:00       0.00      0.00      0.00   \n",
       "718  2018/12   12  2018  2018-12-28 00:00:00       0.00      0.00      0.00   \n",
       "694   2019/1    1  2019  2019-01-31 00:00:00       0.00      0.00      0.00   \n",
       "651   2019/2    2  2019  2019-02-28 00:00:00       0.00      0.00      0.00   \n",
       "618   2019/3    3  2019  2019-03-29 00:00:00       0.00      0.00      0.00   \n",
       "\n",
       "     rendimento_resgatado_x  rendimento_resgatado_y  \n",
       "82                     0.00                    0.00  \n",
       "100                    0.00                    0.00  \n",
       "68                     0.00                    0.00  \n",
       "83                     0.00                    0.00  \n",
       "101                    0.00                    0.00  \n",
       "560                    0.00                    0.00  \n",
       "556                    0.00                    0.00  \n",
       "552                    0.00                    0.00  \n",
       "548                    0.00                    0.00  \n",
       "544                    0.00                    0.00  \n",
       "540                    0.00                    0.00  \n",
       "536                    0.00                    0.00  \n",
       "531                    0.00                    0.00  \n",
       "526                    0.00                    0.00  \n",
       "521                    0.00                    0.00  \n",
       "509                    0.00                    0.00  \n",
       "504                    0.00                    0.00  \n",
       "499                    0.00                    0.00  \n",
       "494                    0.00                    0.00  \n",
       "489                    0.00                    0.00  \n",
       "484                    0.00                    0.00  \n",
       "479                    0.00                    0.00  \n",
       "474                    0.00                    0.00  \n",
       "469                    0.00                    0.00  \n",
       "464                    0.00                    0.00  \n",
       "724                    0.00                    0.00  \n",
       "718                    0.00                    0.00  \n",
       "694                    0.00                    0.00  \n",
       "651                    0.00                    0.00  \n",
       "618                    0.00                    0.00  "
      ],
      "text/html": "<div>\n<style scoped>\n    .dataframe tbody tr th:only-of-type {\n        vertical-align: middle;\n    }\n\n    .dataframe tbody tr th {\n        vertical-align: top;\n    }\n\n    .dataframe thead th {\n        text-align: right;\n    }\n</style>\n<table border=\"1\" class=\"dataframe\">\n  <thead>\n    <tr style=\"text-align: right;\">\n      <th></th>\n      <th>index</th>\n      <th>Papel</th>\n      <th>Qtd Disponivel</th>\n      <th>Cotacao</th>\n      <th>Financeiro</th>\n      <th>period</th>\n      <th>mes</th>\n      <th>ano</th>\n      <th>data_posicao</th>\n      <th>dividendo</th>\n      <th>aporte</th>\n      <th>retirada</th>\n      <th>rendimento_resgatado_x</th>\n      <th>rendimento_resgatado_y</th>\n    </tr>\n  </thead>\n  <tbody>\n    <tr>\n      <th>82</th>\n      <td>82.00</td>\n      <td>AAPL34</td>\n      <td>16.00</td>\n      <td>72.02</td>\n      <td>1,152.32</td>\n      <td>2021/1</td>\n      <td>1</td>\n      <td>2021</td>\n      <td>2021-01-29 00:00:00</td>\n      <td>0.00</td>\n      <td>1,126.88</td>\n      <td>0.00</td>\n      <td>0.00</td>\n      <td>0.00</td>\n    </tr>\n    <tr>\n      <th>100</th>\n      <td>100.00</td>\n      <td>AAPL34</td>\n      <td>16.00</td>\n      <td>69.69</td>\n      <td>1,115.04</td>\n      <td>2021/2</td>\n      <td>2</td>\n      <td>2021</td>\n      <td>2021-02-26 00:00:00</td>\n      <td>0.00</td>\n      <td>0.00</td>\n      <td>0.00</td>\n      <td>0.00</td>\n      <td>0.00</td>\n    </tr>\n    <tr>\n      <th>68</th>\n      <td>68.00</td>\n      <td>AMZO34</td>\n      <td>48.00</td>\n      <td>109.30</td>\n      <td>5,246.40</td>\n      <td>2020/12</td>\n      <td>12</td>\n      <td>2020</td>\n      <td>2020-12-30 00:00:00</td>\n      <td>0.00</td>\n      <td>5,011.20</td>\n      <td>0.00</td>\n      <td>0.00</td>\n      <td>0.00</td>\n    </tr>\n    <tr>\n      <th>83</th>\n      <td>83.00</td>\n      <td>AMZO34</td>\n      <td>48.00</td>\n      <td>112.00</td>\n      <td>5,376.00</td>\n      <td>2021/1</td>\n      <td>1</td>\n      <td>2021</td>\n      <td>2021-01-29 00:00:00</td>\n      <td>0.00</td>\n      <td>0.00</td>\n      <td>0.00</td>\n      <td>0.00</td>\n      <td>0.00</td>\n    </tr>\n    <tr>\n      <th>101</th>\n      <td>101.00</td>\n      <td>AMZO34</td>\n      <td>48.00</td>\n      <td>110.22</td>\n      <td>5,290.56</td>\n      <td>2021/2</td>\n      <td>2</td>\n      <td>2021</td>\n      <td>2021-02-26 00:00:00</td>\n      <td>0.00</td>\n      <td>0.00</td>\n      <td>0.00</td>\n      <td>0.00</td>\n      <td>0.00</td>\n    </tr>\n    <tr>\n      <th>560</th>\n      <td>560.00</td>\n      <td>AZ Quest Multi FIC FIM</td>\n      <td>1,516.42</td>\n      <td>9.95</td>\n      <td>15,094.10</td>\n      <td>2017/3</td>\n      <td>3</td>\n      <td>2017</td>\n      <td>2017-03-31 00:00:00</td>\n      <td>0.00</td>\n      <td>30,000.00</td>\n      <td>0.00</td>\n      <td>0.00</td>\n      <td>0.00</td>\n    </tr>\n    <tr>\n      <th>556</th>\n      <td>556.00</td>\n      <td>AZ Quest Multi FIC FIM</td>\n      <td>1,516.42</td>\n      <td>10.00</td>\n      <td>15,160.90</td>\n      <td>2017/4</td>\n      <td>4</td>\n      <td>2017</td>\n      <td>2017-04-28 00:00:00</td>\n      <td>0.00</td>\n      <td>0.00</td>\n      <td>0.00</td>\n      <td>0.00</td>\n      <td>0.00</td>\n    </tr>\n    <tr>\n      <th>552</th>\n      <td>552.00</td>\n      <td>AZ Quest Multi FIC FIM</td>\n      <td>1,516.42</td>\n      <td>9.73</td>\n      <td>14,749.34</td>\n      <td>2017/5</td>\n      <td>5</td>\n      <td>2017</td>\n      <td>2017-05-31 00:00:00</td>\n      <td>0.00</td>\n      <td>0.00</td>\n      <td>0.00</td>\n      <td>0.00</td>\n      <td>0.00</td>\n    </tr>\n    <tr>\n      <th>548</th>\n      <td>548.00</td>\n      <td>AZ Quest Multi FIC FIM</td>\n      <td>1,516.42</td>\n      <td>9.80</td>\n      <td>14,853.49</td>\n      <td>2017/6</td>\n      <td>6</td>\n      <td>2017</td>\n      <td>2017-06-30 00:00:00</td>\n      <td>0.00</td>\n      <td>0.00</td>\n      <td>0.00</td>\n      <td>0.00</td>\n      <td>0.00</td>\n    </tr>\n    <tr>\n      <th>544</th>\n      <td>544.00</td>\n      <td>AZ Quest Multi FIC FIM</td>\n      <td>1,516.42</td>\n      <td>10.15</td>\n      <td>15,389.53</td>\n      <td>2017/7</td>\n      <td>7</td>\n      <td>2017</td>\n      <td>2017-07-31 00:00:00</td>\n      <td>0.00</td>\n      <td>0.00</td>\n      <td>0.00</td>\n      <td>0.00</td>\n      <td>0.00</td>\n    </tr>\n    <tr>\n      <th>540</th>\n      <td>540.00</td>\n      <td>AZ Quest Multi FIC FIM</td>\n      <td>1,516.42</td>\n      <td>10.32</td>\n      <td>15,644.93</td>\n      <td>2017/8</td>\n      <td>8</td>\n      <td>2017</td>\n      <td>2017-08-31 00:00:00</td>\n      <td>0.00</td>\n      <td>0.00</td>\n      <td>0.00</td>\n      <td>0.00</td>\n      <td>0.00</td>\n    </tr>\n    <tr>\n      <th>536</th>\n      <td>536.00</td>\n      <td>AZ Quest Multi FIC FIM</td>\n      <td>1,516.42</td>\n      <td>10.55</td>\n      <td>16,004.66</td>\n      <td>2017/9</td>\n      <td>9</td>\n      <td>2017</td>\n      <td>2017-09-29 00:00:00</td>\n      <td>0.00</td>\n      <td>0.00</td>\n      <td>0.00</td>\n      <td>0.00</td>\n      <td>0.00</td>\n    </tr>\n    <tr>\n      <th>531</th>\n      <td>531.00</td>\n      <td>AZ Quest Multi FIC FIM</td>\n      <td>1,516.42</td>\n      <td>10.51</td>\n      <td>15,934.88</td>\n      <td>2017/10</td>\n      <td>10</td>\n      <td>2017</td>\n      <td>2017-10-31 00:00:00</td>\n      <td>0.00</td>\n      <td>0.00</td>\n      <td>0.00</td>\n      <td>0.00</td>\n      <td>0.00</td>\n    </tr>\n    <tr>\n      <th>526</th>\n      <td>526.00</td>\n      <td>AZ Quest Multi FIC FIM</td>\n      <td>1,503.23</td>\n      <td>10.50</td>\n      <td>15,784.72</td>\n      <td>2017/11</td>\n      <td>11</td>\n      <td>2017</td>\n      <td>2017-11-30 00:00:00</td>\n      <td>0.00</td>\n      <td>0.00</td>\n      <td>0.00</td>\n      <td>0.00</td>\n      <td>0.00</td>\n    </tr>\n    <tr>\n      <th>521</th>\n      <td>521.00</td>\n      <td>AZ Quest Multi FIC FIM</td>\n      <td>1,503.23</td>\n      <td>10.62</td>\n      <td>15,969.51</td>\n      <td>2017/12</td>\n      <td>12</td>\n      <td>2017</td>\n      <td>2017-12-28 00:00:00</td>\n      <td>0.00</td>\n      <td>0.00</td>\n      <td>0.00</td>\n      <td>0.00</td>\n      <td>0.00</td>\n    </tr>\n    <tr>\n      <th>509</th>\n      <td>509.00</td>\n      <td>AZ Quest Multi FIC FIM</td>\n      <td>1,503.23</td>\n      <td>10.87</td>\n      <td>16,347.11</td>\n      <td>2018/1</td>\n      <td>1</td>\n      <td>2018</td>\n      <td>2018-01-31 00:00:00</td>\n      <td>0.00</td>\n      <td>0.00</td>\n      <td>0.00</td>\n      <td>0.00</td>\n      <td>0.00</td>\n    </tr>\n    <tr>\n      <th>504</th>\n      <td>504.00</td>\n      <td>AZ Quest Multi FIC FIM</td>\n      <td>1,503.23</td>\n      <td>11.03</td>\n      <td>16,582.00</td>\n      <td>2018/2</td>\n      <td>2</td>\n      <td>2018</td>\n      <td>2018-02-28 00:00:00</td>\n      <td>0.00</td>\n      <td>0.00</td>\n      <td>0.00</td>\n      <td>0.00</td>\n      <td>0.00</td>\n    </tr>\n    <tr>\n      <th>499</th>\n      <td>499.00</td>\n      <td>AZ Quest Multi FIC FIM</td>\n      <td>1,503.23</td>\n      <td>11.12</td>\n      <td>16,712.40</td>\n      <td>2018/3</td>\n      <td>3</td>\n      <td>2018</td>\n      <td>2018-03-29 00:00:00</td>\n      <td>0.00</td>\n      <td>0.00</td>\n      <td>0.00</td>\n      <td>0.00</td>\n      <td>0.00</td>\n    </tr>\n    <tr>\n      <th>494</th>\n      <td>494.00</td>\n      <td>AZ Quest Multi FIC FIM</td>\n      <td>1,503.23</td>\n      <td>11.13</td>\n      <td>16,735.42</td>\n      <td>2018/4</td>\n      <td>4</td>\n      <td>2018</td>\n      <td>2018-04-30 00:00:00</td>\n      <td>0.00</td>\n      <td>0.00</td>\n      <td>0.00</td>\n      <td>0.00</td>\n      <td>0.00</td>\n    </tr>\n    <tr>\n      <th>489</th>\n      <td>489.00</td>\n      <td>AZ Quest Multi FIC FIM</td>\n      <td>1,491.67</td>\n      <td>11.07</td>\n      <td>16,509.69</td>\n      <td>2018/5</td>\n      <td>5</td>\n      <td>2018</td>\n      <td>2018-05-30 00:00:00</td>\n      <td>0.00</td>\n      <td>0.00</td>\n      <td>0.00</td>\n      <td>0.00</td>\n      <td>0.00</td>\n    </tr>\n    <tr>\n      <th>484</th>\n      <td>484.00</td>\n      <td>AZ Quest Multi FIC FIM</td>\n      <td>1,491.67</td>\n      <td>11.21</td>\n      <td>16,716.87</td>\n      <td>2018/6</td>\n      <td>6</td>\n      <td>2018</td>\n      <td>2018-06-29 00:00:00</td>\n      <td>0.00</td>\n      <td>0.00</td>\n      <td>0.00</td>\n      <td>0.00</td>\n      <td>0.00</td>\n    </tr>\n    <tr>\n      <th>479</th>\n      <td>479.00</td>\n      <td>AZ Quest Multi FIC FIM</td>\n      <td>1,491.67</td>\n      <td>11.29</td>\n      <td>16,837.61</td>\n      <td>2018/7</td>\n      <td>7</td>\n      <td>2018</td>\n      <td>2018-07-31 00:00:00</td>\n      <td>0.00</td>\n      <td>0.00</td>\n      <td>0.00</td>\n      <td>0.00</td>\n      <td>0.00</td>\n    </tr>\n    <tr>\n      <th>474</th>\n      <td>474.00</td>\n      <td>AZ Quest Multi FIC FIM</td>\n      <td>1,491.67</td>\n      <td>11.28</td>\n      <td>16,823.70</td>\n      <td>2018/8</td>\n      <td>8</td>\n      <td>2018</td>\n      <td>2018-08-31 00:00:00</td>\n      <td>0.00</td>\n      <td>0.00</td>\n      <td>0.00</td>\n      <td>0.00</td>\n      <td>0.00</td>\n    </tr>\n    <tr>\n      <th>469</th>\n      <td>469.00</td>\n      <td>AZ Quest Multi FIC FIM</td>\n      <td>1,491.67</td>\n      <td>11.25</td>\n      <td>16,786.05</td>\n      <td>2018/9</td>\n      <td>9</td>\n      <td>2018</td>\n      <td>2018-09-28 00:00:00</td>\n      <td>0.00</td>\n      <td>0.00</td>\n      <td>0.00</td>\n      <td>0.00</td>\n      <td>0.00</td>\n    </tr>\n    <tr>\n      <th>464</th>\n      <td>464.00</td>\n      <td>AZ Quest Multi FIC FIM</td>\n      <td>1,491.67</td>\n      <td>11.53</td>\n      <td>17,205.80</td>\n      <td>2018/10</td>\n      <td>10</td>\n      <td>2018</td>\n      <td>2018-10-31 00:00:00</td>\n      <td>0.00</td>\n      <td>0.00</td>\n      <td>0.00</td>\n      <td>0.00</td>\n      <td>0.00</td>\n    </tr>\n    <tr>\n      <th>724</th>\n      <td>724.00</td>\n      <td>AZ Quest Multi FIC FIM</td>\n      <td>1,481.69</td>\n      <td>11.58</td>\n      <td>17,164.88</td>\n      <td>2018/11</td>\n      <td>11</td>\n      <td>2018</td>\n      <td>2018-11-30 00:00:00</td>\n      <td>0.00</td>\n      <td>0.00</td>\n      <td>0.00</td>\n      <td>0.00</td>\n      <td>0.00</td>\n    </tr>\n    <tr>\n      <th>718</th>\n      <td>718.00</td>\n      <td>AZ Quest Multi FIC FIM</td>\n      <td>1,481.69</td>\n      <td>11.61</td>\n      <td>17,207.34</td>\n      <td>2018/12</td>\n      <td>12</td>\n      <td>2018</td>\n      <td>2018-12-28 00:00:00</td>\n      <td>0.00</td>\n      <td>0.00</td>\n      <td>0.00</td>\n      <td>0.00</td>\n      <td>0.00</td>\n    </tr>\n    <tr>\n      <th>694</th>\n      <td>694.00</td>\n      <td>AZ Quest Multi FIC FIM</td>\n      <td>1,481.69</td>\n      <td>11.81</td>\n      <td>17,497.00</td>\n      <td>2019/1</td>\n      <td>1</td>\n      <td>2019</td>\n      <td>2019-01-31 00:00:00</td>\n      <td>0.00</td>\n      <td>0.00</td>\n      <td>0.00</td>\n      <td>0.00</td>\n      <td>0.00</td>\n    </tr>\n    <tr>\n      <th>651</th>\n      <td>651.00</td>\n      <td>AZ Quest Multi FIC FIM</td>\n      <td>1,481.69</td>\n      <td>11.75</td>\n      <td>17,413.09</td>\n      <td>2019/2</td>\n      <td>2</td>\n      <td>2019</td>\n      <td>2019-02-28 00:00:00</td>\n      <td>0.00</td>\n      <td>0.00</td>\n      <td>0.00</td>\n      <td>0.00</td>\n      <td>0.00</td>\n    </tr>\n    <tr>\n      <th>618</th>\n      <td>618.00</td>\n      <td>AZ Quest Multi FIC FIM</td>\n      <td>1,481.69</td>\n      <td>11.72</td>\n      <td>17,370.50</td>\n      <td>2019/3</td>\n      <td>3</td>\n      <td>2019</td>\n      <td>2019-03-29 00:00:00</td>\n      <td>0.00</td>\n      <td>0.00</td>\n      <td>0.00</td>\n      <td>0.00</td>\n      <td>0.00</td>\n    </tr>\n  </tbody>\n</table>\n</div>"
     },
     "metadata": {},
     "execution_count": 9
    }
   ],
   "source": [
    "#df2[df2['Papel'] == 'BCFF11'].sort_values(['ano', 'mes']).tail()\n",
    "df3.sort_values(['Papel', 'ano', 'mes']).head(30)"
   ]
  },
  {
   "cell_type": "code",
   "execution_count": 10,
   "metadata": {},
   "outputs": [
    {
     "output_type": "execute_result",
     "data": {
      "text/plain": [
       "     index   Papel  Qtd Disponivel  Cotacao  Financeiro   period  mes   ano  \\\n",
       "270 270.00  BCFF11          354.00    87.25   30,886.50  2020/10   10  2020   \n",
       "391 391.00  BCFF11          354.00    89.94   31,838.76  2020/11   11  2020   \n",
       "397 397.00  BCFF11          412.00    92.92   38,283.04  2020/12   12  2020   \n",
       "404 404.00  BCFF11          492.00    92.00   49,864.00   2021/1    1  2021   \n",
       "412 412.00  BCFF11          542.00    92.35   50,053.70   2021/2    2  2021   \n",
       "\n",
       "            data_posicao  dividendo    aporte  retirada  \\\n",
       "270  2020-10-30 00:00:00      24.30 27,180.00      0.00   \n",
       "391  2020-11-30 00:00:00     177.00      0.00      0.00   \n",
       "397  2020-12-30 00:00:00     187.62  5,138.80      0.00   \n",
       "404  2021-01-29 00:00:00     218.36 23,985.00      0.00   \n",
       "412  2021-02-26 00:00:00     303.52      0.00      0.00   \n",
       "\n",
       "     rendimento_resgatado_x  rendimento_resgatado_y  \n",
       "270                    0.00                    0.00  \n",
       "391                    0.00                    0.00  \n",
       "397                    0.00                    0.00  \n",
       "404                    0.00                    0.00  \n",
       "412                    0.00                    0.00  "
      ],
      "text/html": "<div>\n<style scoped>\n    .dataframe tbody tr th:only-of-type {\n        vertical-align: middle;\n    }\n\n    .dataframe tbody tr th {\n        vertical-align: top;\n    }\n\n    .dataframe thead th {\n        text-align: right;\n    }\n</style>\n<table border=\"1\" class=\"dataframe\">\n  <thead>\n    <tr style=\"text-align: right;\">\n      <th></th>\n      <th>index</th>\n      <th>Papel</th>\n      <th>Qtd Disponivel</th>\n      <th>Cotacao</th>\n      <th>Financeiro</th>\n      <th>period</th>\n      <th>mes</th>\n      <th>ano</th>\n      <th>data_posicao</th>\n      <th>dividendo</th>\n      <th>aporte</th>\n      <th>retirada</th>\n      <th>rendimento_resgatado_x</th>\n      <th>rendimento_resgatado_y</th>\n    </tr>\n  </thead>\n  <tbody>\n    <tr>\n      <th>270</th>\n      <td>270.00</td>\n      <td>BCFF11</td>\n      <td>354.00</td>\n      <td>87.25</td>\n      <td>30,886.50</td>\n      <td>2020/10</td>\n      <td>10</td>\n      <td>2020</td>\n      <td>2020-10-30 00:00:00</td>\n      <td>24.30</td>\n      <td>27,180.00</td>\n      <td>0.00</td>\n      <td>0.00</td>\n      <td>0.00</td>\n    </tr>\n    <tr>\n      <th>391</th>\n      <td>391.00</td>\n      <td>BCFF11</td>\n      <td>354.00</td>\n      <td>89.94</td>\n      <td>31,838.76</td>\n      <td>2020/11</td>\n      <td>11</td>\n      <td>2020</td>\n      <td>2020-11-30 00:00:00</td>\n      <td>177.00</td>\n      <td>0.00</td>\n      <td>0.00</td>\n      <td>0.00</td>\n      <td>0.00</td>\n    </tr>\n    <tr>\n      <th>397</th>\n      <td>397.00</td>\n      <td>BCFF11</td>\n      <td>412.00</td>\n      <td>92.92</td>\n      <td>38,283.04</td>\n      <td>2020/12</td>\n      <td>12</td>\n      <td>2020</td>\n      <td>2020-12-30 00:00:00</td>\n      <td>187.62</td>\n      <td>5,138.80</td>\n      <td>0.00</td>\n      <td>0.00</td>\n      <td>0.00</td>\n    </tr>\n    <tr>\n      <th>404</th>\n      <td>404.00</td>\n      <td>BCFF11</td>\n      <td>492.00</td>\n      <td>92.00</td>\n      <td>49,864.00</td>\n      <td>2021/1</td>\n      <td>1</td>\n      <td>2021</td>\n      <td>2021-01-29 00:00:00</td>\n      <td>218.36</td>\n      <td>23,985.00</td>\n      <td>0.00</td>\n      <td>0.00</td>\n      <td>0.00</td>\n    </tr>\n    <tr>\n      <th>412</th>\n      <td>412.00</td>\n      <td>BCFF11</td>\n      <td>542.00</td>\n      <td>92.35</td>\n      <td>50,053.70</td>\n      <td>2021/2</td>\n      <td>2</td>\n      <td>2021</td>\n      <td>2021-02-26 00:00:00</td>\n      <td>303.52</td>\n      <td>0.00</td>\n      <td>0.00</td>\n      <td>0.00</td>\n      <td>0.00</td>\n    </tr>\n  </tbody>\n</table>\n</div>"
     },
     "metadata": {},
     "execution_count": 10
    }
   ],
   "source": [
    "df3[df3['Papel'] == 'BCFF11'].sort_values(['ano', 'mes']).tail()"
   ]
  },
  {
   "cell_type": "code",
   "execution_count": 11,
   "metadata": {},
   "outputs": [
    {
     "output_type": "execute_result",
     "data": {
      "text/plain": [
       "                    Papel  mes   ano  cont\n",
       "0                  AAPL34    1  2021     1\n",
       "535  Polo Norte I FIC FIM    5  2019     1\n",
       "513                 PETR4    3  2020     1\n",
       "514                 PETR4    4  2020     1\n",
       "515                 PETR4    5  2020     1"
      ],
      "text/html": "<div>\n<style scoped>\n    .dataframe tbody tr th:only-of-type {\n        vertical-align: middle;\n    }\n\n    .dataframe tbody tr th {\n        vertical-align: top;\n    }\n\n    .dataframe thead th {\n        text-align: right;\n    }\n</style>\n<table border=\"1\" class=\"dataframe\">\n  <thead>\n    <tr style=\"text-align: right;\">\n      <th></th>\n      <th>Papel</th>\n      <th>mes</th>\n      <th>ano</th>\n      <th>cont</th>\n    </tr>\n  </thead>\n  <tbody>\n    <tr>\n      <th>0</th>\n      <td>AAPL34</td>\n      <td>1</td>\n      <td>2021</td>\n      <td>1</td>\n    </tr>\n    <tr>\n      <th>535</th>\n      <td>Polo Norte I FIC FIM</td>\n      <td>5</td>\n      <td>2019</td>\n      <td>1</td>\n    </tr>\n    <tr>\n      <th>513</th>\n      <td>PETR4</td>\n      <td>3</td>\n      <td>2020</td>\n      <td>1</td>\n    </tr>\n    <tr>\n      <th>514</th>\n      <td>PETR4</td>\n      <td>4</td>\n      <td>2020</td>\n      <td>1</td>\n    </tr>\n    <tr>\n      <th>515</th>\n      <td>PETR4</td>\n      <td>5</td>\n      <td>2020</td>\n      <td>1</td>\n    </tr>\n  </tbody>\n</table>\n</div>"
     },
     "metadata": {},
     "execution_count": 11
    }
   ],
   "source": [
    "df3.groupby(['Papel', 'mes', 'ano']).agg(cont=('Papel', 'count')).reset_index().sort_values('cont', ascending=False).head()"
   ]
  },
  {
   "cell_type": "code",
   "execution_count": 12,
   "metadata": {},
   "outputs": [
    {
     "output_type": "execute_result",
     "data": {
      "text/plain": [
       "                         Nome   ano  mes  Vlr Aporte  Vlr Resgate  Vlr IR  \\\n",
       "0      AZ Quest Multi FIC FIM  2017    3   15,000.00         0.00    0.00   \n",
       "1       Azul Quantitativo FIM  2013    6    5,000.00         0.00    0.00   \n",
       "2       Azul Quantitativo FIM  2013    8   10,200.00         0.00    0.00   \n",
       "3  BNP Paribas Inflação FI RF  2015    1    5,000.00         0.00    0.00   \n",
       "4  BNP Paribas Inflação FI RF  2015    2    5,300.00         0.00    0.00   \n",
       "\n",
       "   Rendimento Resgatado  \n",
       "0                  0.00  \n",
       "1                  0.00  \n",
       "2                  0.00  \n",
       "3                  0.00  \n",
       "4                  0.00  "
      ],
      "text/html": "<div>\n<style scoped>\n    .dataframe tbody tr th:only-of-type {\n        vertical-align: middle;\n    }\n\n    .dataframe tbody tr th {\n        vertical-align: top;\n    }\n\n    .dataframe thead th {\n        text-align: right;\n    }\n</style>\n<table border=\"1\" class=\"dataframe\">\n  <thead>\n    <tr style=\"text-align: right;\">\n      <th></th>\n      <th>Nome</th>\n      <th>ano</th>\n      <th>mes</th>\n      <th>Vlr Aporte</th>\n      <th>Vlr Resgate</th>\n      <th>Vlr IR</th>\n      <th>Rendimento Resgatado</th>\n    </tr>\n  </thead>\n  <tbody>\n    <tr>\n      <th>0</th>\n      <td>AZ Quest Multi FIC FIM</td>\n      <td>2017</td>\n      <td>3</td>\n      <td>15,000.00</td>\n      <td>0.00</td>\n      <td>0.00</td>\n      <td>0.00</td>\n    </tr>\n    <tr>\n      <th>1</th>\n      <td>Azul Quantitativo FIM</td>\n      <td>2013</td>\n      <td>6</td>\n      <td>5,000.00</td>\n      <td>0.00</td>\n      <td>0.00</td>\n      <td>0.00</td>\n    </tr>\n    <tr>\n      <th>2</th>\n      <td>Azul Quantitativo FIM</td>\n      <td>2013</td>\n      <td>8</td>\n      <td>10,200.00</td>\n      <td>0.00</td>\n      <td>0.00</td>\n      <td>0.00</td>\n    </tr>\n    <tr>\n      <th>3</th>\n      <td>BNP Paribas Inflação FI RF</td>\n      <td>2015</td>\n      <td>1</td>\n      <td>5,000.00</td>\n      <td>0.00</td>\n      <td>0.00</td>\n      <td>0.00</td>\n    </tr>\n    <tr>\n      <th>4</th>\n      <td>BNP Paribas Inflação FI RF</td>\n      <td>2015</td>\n      <td>2</td>\n      <td>5,300.00</td>\n      <td>0.00</td>\n      <td>0.00</td>\n      <td>0.00</td>\n    </tr>\n  </tbody>\n</table>\n</div>"
     },
     "metadata": {},
     "execution_count": 12
    }
   ],
   "source": [
    "extract.extract_fis.head()"
   ]
  },
  {
   "cell_type": "code",
   "execution_count": 13,
   "metadata": {},
   "outputs": [
    {
     "output_type": "execute_result",
     "data": {
      "text/plain": [
       "     index   Papel  Qtd Disponivel  Cotacao  Financeiro   period  mes   ano  \\\n",
       "82   82.00  AAPL34           16.00    72.02    1,152.32   2021/1    1  2021   \n",
       "100 100.00  AAPL34           16.00    69.69    1,115.04   2021/2    2  2021   \n",
       "68   68.00  AMZO34           48.00   109.30    5,246.40  2020/12   12  2020   \n",
       "83   83.00  AMZO34           48.00   112.00    5,376.00   2021/1    1  2021   \n",
       "101 101.00  AMZO34           48.00   110.22    5,290.56   2021/2    2  2021   \n",
       "\n",
       "            data_posicao  dividendo   aporte  retirada  rendimento_resgatado  \n",
       "82   2021-01-29 00:00:00       0.00 1,126.88      0.00                  0.00  \n",
       "100  2021-02-26 00:00:00       0.00     0.00      0.00                  0.00  \n",
       "68   2020-12-30 00:00:00       0.00 5,011.20      0.00                  0.00  \n",
       "83   2021-01-29 00:00:00       0.00     0.00      0.00                  0.00  \n",
       "101  2021-02-26 00:00:00       0.00     0.00      0.00                  0.00  "
      ],
      "text/html": "<div>\n<style scoped>\n    .dataframe tbody tr th:only-of-type {\n        vertical-align: middle;\n    }\n\n    .dataframe tbody tr th {\n        vertical-align: top;\n    }\n\n    .dataframe thead th {\n        text-align: right;\n    }\n</style>\n<table border=\"1\" class=\"dataframe\">\n  <thead>\n    <tr style=\"text-align: right;\">\n      <th></th>\n      <th>index</th>\n      <th>Papel</th>\n      <th>Qtd Disponivel</th>\n      <th>Cotacao</th>\n      <th>Financeiro</th>\n      <th>period</th>\n      <th>mes</th>\n      <th>ano</th>\n      <th>data_posicao</th>\n      <th>dividendo</th>\n      <th>aporte</th>\n      <th>retirada</th>\n      <th>rendimento_resgatado</th>\n    </tr>\n  </thead>\n  <tbody>\n    <tr>\n      <th>82</th>\n      <td>82.00</td>\n      <td>AAPL34</td>\n      <td>16.00</td>\n      <td>72.02</td>\n      <td>1,152.32</td>\n      <td>2021/1</td>\n      <td>1</td>\n      <td>2021</td>\n      <td>2021-01-29 00:00:00</td>\n      <td>0.00</td>\n      <td>1,126.88</td>\n      <td>0.00</td>\n      <td>0.00</td>\n    </tr>\n    <tr>\n      <th>100</th>\n      <td>100.00</td>\n      <td>AAPL34</td>\n      <td>16.00</td>\n      <td>69.69</td>\n      <td>1,115.04</td>\n      <td>2021/2</td>\n      <td>2</td>\n      <td>2021</td>\n      <td>2021-02-26 00:00:00</td>\n      <td>0.00</td>\n      <td>0.00</td>\n      <td>0.00</td>\n      <td>0.00</td>\n    </tr>\n    <tr>\n      <th>68</th>\n      <td>68.00</td>\n      <td>AMZO34</td>\n      <td>48.00</td>\n      <td>109.30</td>\n      <td>5,246.40</td>\n      <td>2020/12</td>\n      <td>12</td>\n      <td>2020</td>\n      <td>2020-12-30 00:00:00</td>\n      <td>0.00</td>\n      <td>5,011.20</td>\n      <td>0.00</td>\n      <td>0.00</td>\n    </tr>\n    <tr>\n      <th>83</th>\n      <td>83.00</td>\n      <td>AMZO34</td>\n      <td>48.00</td>\n      <td>112.00</td>\n      <td>5,376.00</td>\n      <td>2021/1</td>\n      <td>1</td>\n      <td>2021</td>\n      <td>2021-01-29 00:00:00</td>\n      <td>0.00</td>\n      <td>0.00</td>\n      <td>0.00</td>\n      <td>0.00</td>\n    </tr>\n    <tr>\n      <th>101</th>\n      <td>101.00</td>\n      <td>AMZO34</td>\n      <td>48.00</td>\n      <td>110.22</td>\n      <td>5,290.56</td>\n      <td>2021/2</td>\n      <td>2</td>\n      <td>2021</td>\n      <td>2021-02-26 00:00:00</td>\n      <td>0.00</td>\n      <td>0.00</td>\n      <td>0.00</td>\n      <td>0.00</td>\n    </tr>\n  </tbody>\n</table>\n</div>"
     },
     "metadata": {},
     "execution_count": 13
    }
   ],
   "source": [
    "## Estou aqui!!! Falta dar o merge do extrato, começando com o de ações e fiis. \n",
    "\n",
    "df.sort_values(['Papel', 'ano', 'mes']).head()"
   ]
  },
  {
   "cell_type": "code",
   "execution_count": 14,
   "metadata": {},
   "outputs": [
    {
     "output_type": "execute_result",
     "data": {
      "text/plain": [
       "     index   Papel  Qtd Disponivel  Cotacao  Financeiro   period  mes   ano  \\\n",
       "270 270.00  BCFF11          354.00    87.25   30,886.50  2020/10   10  2020   \n",
       "391 391.00  BCFF11          354.00    89.94   31,838.76  2020/11   11  2020   \n",
       "397 397.00  BCFF11          412.00    92.92   38,283.04  2020/12   12  2020   \n",
       "404 404.00  BCFF11          492.00    92.00   49,864.00   2021/1    1  2021   \n",
       "412 412.00  BCFF11          542.00    92.35   50,053.70   2021/2    2  2021   \n",
       "\n",
       "            data_posicao  dividendo    aporte  retirada  rendimento_resgatado  \n",
       "270  2020-10-30 00:00:00      24.30 27,180.00      0.00                  0.00  \n",
       "391  2020-11-30 00:00:00     177.00      0.00      0.00                  0.00  \n",
       "397  2020-12-30 00:00:00     187.62  5,138.80      0.00                  0.00  \n",
       "404  2021-01-29 00:00:00     218.36 23,985.00      0.00                  0.00  \n",
       "412  2021-02-26 00:00:00     303.52      0.00      0.00                  0.00  "
      ],
      "text/html": "<div>\n<style scoped>\n    .dataframe tbody tr th:only-of-type {\n        vertical-align: middle;\n    }\n\n    .dataframe tbody tr th {\n        vertical-align: top;\n    }\n\n    .dataframe thead th {\n        text-align: right;\n    }\n</style>\n<table border=\"1\" class=\"dataframe\">\n  <thead>\n    <tr style=\"text-align: right;\">\n      <th></th>\n      <th>index</th>\n      <th>Papel</th>\n      <th>Qtd Disponivel</th>\n      <th>Cotacao</th>\n      <th>Financeiro</th>\n      <th>period</th>\n      <th>mes</th>\n      <th>ano</th>\n      <th>data_posicao</th>\n      <th>dividendo</th>\n      <th>aporte</th>\n      <th>retirada</th>\n      <th>rendimento_resgatado</th>\n    </tr>\n  </thead>\n  <tbody>\n    <tr>\n      <th>270</th>\n      <td>270.00</td>\n      <td>BCFF11</td>\n      <td>354.00</td>\n      <td>87.25</td>\n      <td>30,886.50</td>\n      <td>2020/10</td>\n      <td>10</td>\n      <td>2020</td>\n      <td>2020-10-30 00:00:00</td>\n      <td>24.30</td>\n      <td>27,180.00</td>\n      <td>0.00</td>\n      <td>0.00</td>\n    </tr>\n    <tr>\n      <th>391</th>\n      <td>391.00</td>\n      <td>BCFF11</td>\n      <td>354.00</td>\n      <td>89.94</td>\n      <td>31,838.76</td>\n      <td>2020/11</td>\n      <td>11</td>\n      <td>2020</td>\n      <td>2020-11-30 00:00:00</td>\n      <td>177.00</td>\n      <td>0.00</td>\n      <td>0.00</td>\n      <td>0.00</td>\n    </tr>\n    <tr>\n      <th>397</th>\n      <td>397.00</td>\n      <td>BCFF11</td>\n      <td>412.00</td>\n      <td>92.92</td>\n      <td>38,283.04</td>\n      <td>2020/12</td>\n      <td>12</td>\n      <td>2020</td>\n      <td>2020-12-30 00:00:00</td>\n      <td>187.62</td>\n      <td>5,138.80</td>\n      <td>0.00</td>\n      <td>0.00</td>\n    </tr>\n    <tr>\n      <th>404</th>\n      <td>404.00</td>\n      <td>BCFF11</td>\n      <td>492.00</td>\n      <td>92.00</td>\n      <td>49,864.00</td>\n      <td>2021/1</td>\n      <td>1</td>\n      <td>2021</td>\n      <td>2021-01-29 00:00:00</td>\n      <td>218.36</td>\n      <td>23,985.00</td>\n      <td>0.00</td>\n      <td>0.00</td>\n    </tr>\n    <tr>\n      <th>412</th>\n      <td>412.00</td>\n      <td>BCFF11</td>\n      <td>542.00</td>\n      <td>92.35</td>\n      <td>50,053.70</td>\n      <td>2021/2</td>\n      <td>2</td>\n      <td>2021</td>\n      <td>2021-02-26 00:00:00</td>\n      <td>303.52</td>\n      <td>0.00</td>\n      <td>0.00</td>\n      <td>0.00</td>\n    </tr>\n  </tbody>\n</table>\n</div>"
     },
     "metadata": {},
     "execution_count": 14
    }
   ],
   "source": [
    "df[df['Papel'] == 'BCFF11'].sort_values('data_posicao').tail()"
   ]
  },
  {
   "cell_type": "code",
   "execution_count": 15,
   "metadata": {},
   "outputs": [
    {
     "output_type": "error",
     "ename": "NameError",
     "evalue": "name 'df_ext' is not defined",
     "traceback": [
      "\u001b[0;31m---------------------------------------------------------------------------\u001b[0m",
      "\u001b[0;31mNameError\u001b[0m                                 Traceback (most recent call last)",
      "\u001b[0;32m<ipython-input-15-f29f5314d83f>\u001b[0m in \u001b[0;36m<module>\u001b[0;34m\u001b[0m\n\u001b[0;32m----> 1\u001b[0;31m \u001b[0mdf_ext\u001b[0m\u001b[0;34m[\u001b[0m\u001b[0mdf_ext\u001b[0m\u001b[0;34m[\u001b[0m\u001b[0;34m'Papel'\u001b[0m\u001b[0;34m]\u001b[0m\u001b[0;34m.\u001b[0m\u001b[0mstr\u001b[0m\u001b[0;34m.\u001b[0m\u001b[0mcontains\u001b[0m\u001b[0;34m(\u001b[0m\u001b[0;34m'OGXP3'\u001b[0m\u001b[0;34m)\u001b[0m\u001b[0;34m]\u001b[0m\u001b[0;34m.\u001b[0m\u001b[0msort_values\u001b[0m\u001b[0;34m(\u001b[0m\u001b[0;34m'Data'\u001b[0m\u001b[0;34m)\u001b[0m\u001b[0;34m\u001b[0m\u001b[0;34m\u001b[0m\u001b[0m\n\u001b[0m",
      "\u001b[0;31mNameError\u001b[0m: name 'df_ext' is not defined"
     ]
    }
   ],
   "source": [
    "df_ext[df_ext['Papel'].str.contains('OGXP3')].sort_values('Data')"
   ]
  },
  {
   "cell_type": "code",
   "execution_count": 9,
   "metadata": {},
   "outputs": [
    {
     "output_type": "execute_result",
     "data": {
      "text/plain": [
       "     Papel Categoria    Tipo  Qtde  Preco       Data   ano  mes\n",
       "0    OGXP3      ACAO  COMPRA   500   9.91 2012-06-04  2012    6\n",
       "1    OGXP3      ACAO   VENDA   500   1.85 2013-04-26  2013    4\n",
       "6    MGLU3      ACAO  COMPRA   800  34.50 2019-09-12  2019    9\n",
       "9    JHSF3      ACAO  COMPRA  1600   8.09 2020-01-31  2020    1\n",
       "10  BPAC11      ACAO  COMPRA   200  35.95 2020-03-13  2020    3"
      ],
      "text/html": "<div>\n<style scoped>\n    .dataframe tbody tr th:only-of-type {\n        vertical-align: middle;\n    }\n\n    .dataframe tbody tr th {\n        vertical-align: top;\n    }\n\n    .dataframe thead th {\n        text-align: right;\n    }\n</style>\n<table border=\"1\" class=\"dataframe\">\n  <thead>\n    <tr style=\"text-align: right;\">\n      <th></th>\n      <th>Papel</th>\n      <th>Categoria</th>\n      <th>Tipo</th>\n      <th>Qtde</th>\n      <th>Preco</th>\n      <th>Data</th>\n      <th>ano</th>\n      <th>mes</th>\n    </tr>\n  </thead>\n  <tbody>\n    <tr>\n      <th>0</th>\n      <td>OGXP3</td>\n      <td>ACAO</td>\n      <td>COMPRA</td>\n      <td>500</td>\n      <td>9.91</td>\n      <td>2012-06-04</td>\n      <td>2012</td>\n      <td>6</td>\n    </tr>\n    <tr>\n      <th>1</th>\n      <td>OGXP3</td>\n      <td>ACAO</td>\n      <td>VENDA</td>\n      <td>500</td>\n      <td>1.85</td>\n      <td>2013-04-26</td>\n      <td>2013</td>\n      <td>4</td>\n    </tr>\n    <tr>\n      <th>6</th>\n      <td>MGLU3</td>\n      <td>ACAO</td>\n      <td>COMPRA</td>\n      <td>800</td>\n      <td>34.50</td>\n      <td>2019-09-12</td>\n      <td>2019</td>\n      <td>9</td>\n    </tr>\n    <tr>\n      <th>9</th>\n      <td>JHSF3</td>\n      <td>ACAO</td>\n      <td>COMPRA</td>\n      <td>1600</td>\n      <td>8.09</td>\n      <td>2020-01-31</td>\n      <td>2020</td>\n      <td>1</td>\n    </tr>\n    <tr>\n      <th>10</th>\n      <td>BPAC11</td>\n      <td>ACAO</td>\n      <td>COMPRA</td>\n      <td>200</td>\n      <td>35.95</td>\n      <td>2020-03-13</td>\n      <td>2020</td>\n      <td>3</td>\n    </tr>\n  </tbody>\n</table>\n</div>"
     },
     "metadata": {},
     "execution_count": 9
    }
   ],
   "source": [
    "extract.extrato_acoes.head()"
   ]
  },
  {
   "cell_type": "code",
   "execution_count": 10,
   "metadata": {},
   "outputs": [
    {
     "output_type": "execute_result",
     "data": {
      "text/plain": [
       "    Papel Categoria    Tipo  Qtde  Preco       Data   ano  mes\n",
       "2  CNES11       FII  COMPRA    11  80.47 2014-04-30  2014    4\n",
       "3  TBOF11       FII  COMPRA   100  52.00 2014-07-31  2014    7\n",
       "4  RNGO11       FII  COMPRA    49  83.89 2014-07-31  2014    7\n",
       "5  TBOF11       FII   VENDA   100  51.99 2015-09-30  2015    9\n",
       "7  OULG11       FII  COMPRA    50 113.55 2020-01-20  2020    1"
      ],
      "text/html": "<div>\n<style scoped>\n    .dataframe tbody tr th:only-of-type {\n        vertical-align: middle;\n    }\n\n    .dataframe tbody tr th {\n        vertical-align: top;\n    }\n\n    .dataframe thead th {\n        text-align: right;\n    }\n</style>\n<table border=\"1\" class=\"dataframe\">\n  <thead>\n    <tr style=\"text-align: right;\">\n      <th></th>\n      <th>Papel</th>\n      <th>Categoria</th>\n      <th>Tipo</th>\n      <th>Qtde</th>\n      <th>Preco</th>\n      <th>Data</th>\n      <th>ano</th>\n      <th>mes</th>\n    </tr>\n  </thead>\n  <tbody>\n    <tr>\n      <th>2</th>\n      <td>CNES11</td>\n      <td>FII</td>\n      <td>COMPRA</td>\n      <td>11</td>\n      <td>80.47</td>\n      <td>2014-04-30</td>\n      <td>2014</td>\n      <td>4</td>\n    </tr>\n    <tr>\n      <th>3</th>\n      <td>TBOF11</td>\n      <td>FII</td>\n      <td>COMPRA</td>\n      <td>100</td>\n      <td>52.00</td>\n      <td>2014-07-31</td>\n      <td>2014</td>\n      <td>7</td>\n    </tr>\n    <tr>\n      <th>4</th>\n      <td>RNGO11</td>\n      <td>FII</td>\n      <td>COMPRA</td>\n      <td>49</td>\n      <td>83.89</td>\n      <td>2014-07-31</td>\n      <td>2014</td>\n      <td>7</td>\n    </tr>\n    <tr>\n      <th>5</th>\n      <td>TBOF11</td>\n      <td>FII</td>\n      <td>VENDA</td>\n      <td>100</td>\n      <td>51.99</td>\n      <td>2015-09-30</td>\n      <td>2015</td>\n      <td>9</td>\n    </tr>\n    <tr>\n      <th>7</th>\n      <td>OULG11</td>\n      <td>FII</td>\n      <td>COMPRA</td>\n      <td>50</td>\n      <td>113.55</td>\n      <td>2020-01-20</td>\n      <td>2020</td>\n      <td>1</td>\n    </tr>\n  </tbody>\n</table>\n</div>"
     },
     "metadata": {},
     "execution_count": 10
    }
   ],
   "source": [
    "extract.extrato_fiis.head()"
   ]
  },
  {
   "cell_type": "code",
   "execution_count": 11,
   "metadata": {},
   "outputs": [
    {
     "output_type": "execute_result",
     "data": {
      "text/plain": [
       "    Papel  Qtd Disponivel  Qtd Projetada  Qtd Dia  Qtde Total  Ult Cotacao  \\\n",
       "0  BCFF11               8              0        0        8.00        85.87   \n",
       "1  CNES11              11              0        0       11.00        76.00   \n",
       "2  RNGO11              49              0        0       49.00        84.30   \n",
       "3  BCFF11               8              0        0        8.00        85.13   \n",
       "4  CNES11              11              0        0       11.00        70.00   \n",
       "\n",
       "   Financeiro  period  mes   ano data_posicao  \n",
       "0      686.96  2019/5    5  2019   2019-05-31  \n",
       "1      836.00  2019/5    5  2019   2019-05-31  \n",
       "2    4,130.70  2019/5    5  2019   2019-05-31  \n",
       "3      681.04  2020/4    4  2020   2020-04-30  \n",
       "4      770.00  2020/4    4  2020   2020-04-30  "
      ],
      "text/html": "<div>\n<style scoped>\n    .dataframe tbody tr th:only-of-type {\n        vertical-align: middle;\n    }\n\n    .dataframe tbody tr th {\n        vertical-align: top;\n    }\n\n    .dataframe thead th {\n        text-align: right;\n    }\n</style>\n<table border=\"1\" class=\"dataframe\">\n  <thead>\n    <tr style=\"text-align: right;\">\n      <th></th>\n      <th>Papel</th>\n      <th>Qtd Disponivel</th>\n      <th>Qtd Projetada</th>\n      <th>Qtd Dia</th>\n      <th>Qtde Total</th>\n      <th>Ult Cotacao</th>\n      <th>Financeiro</th>\n      <th>period</th>\n      <th>mes</th>\n      <th>ano</th>\n      <th>data_posicao</th>\n    </tr>\n  </thead>\n  <tbody>\n    <tr>\n      <th>0</th>\n      <td>BCFF11</td>\n      <td>8</td>\n      <td>0</td>\n      <td>0</td>\n      <td>8.00</td>\n      <td>85.87</td>\n      <td>686.96</td>\n      <td>2019/5</td>\n      <td>5</td>\n      <td>2019</td>\n      <td>2019-05-31</td>\n    </tr>\n    <tr>\n      <th>1</th>\n      <td>CNES11</td>\n      <td>11</td>\n      <td>0</td>\n      <td>0</td>\n      <td>11.00</td>\n      <td>76.00</td>\n      <td>836.00</td>\n      <td>2019/5</td>\n      <td>5</td>\n      <td>2019</td>\n      <td>2019-05-31</td>\n    </tr>\n    <tr>\n      <th>2</th>\n      <td>RNGO11</td>\n      <td>49</td>\n      <td>0</td>\n      <td>0</td>\n      <td>49.00</td>\n      <td>84.30</td>\n      <td>4,130.70</td>\n      <td>2019/5</td>\n      <td>5</td>\n      <td>2019</td>\n      <td>2019-05-31</td>\n    </tr>\n    <tr>\n      <th>3</th>\n      <td>BCFF11</td>\n      <td>8</td>\n      <td>0</td>\n      <td>0</td>\n      <td>8.00</td>\n      <td>85.13</td>\n      <td>681.04</td>\n      <td>2020/4</td>\n      <td>4</td>\n      <td>2020</td>\n      <td>2020-04-30</td>\n    </tr>\n    <tr>\n      <th>4</th>\n      <td>CNES11</td>\n      <td>11</td>\n      <td>0</td>\n      <td>0</td>\n      <td>11.00</td>\n      <td>70.00</td>\n      <td>770.00</td>\n      <td>2020/4</td>\n      <td>4</td>\n      <td>2020</td>\n      <td>2020-04-30</td>\n    </tr>\n  </tbody>\n</table>\n</div>"
     },
     "metadata": {},
     "execution_count": 11
    }
   ],
   "source": [
    "position.fiis.head()"
   ]
  },
  {
   "cell_type": "code",
   "execution_count": 12,
   "metadata": {},
   "outputs": [
    {
     "output_type": "execute_result",
     "data": {
      "text/plain": [
       "Empty DataFrame\n",
       "Columns: [Nome, Data, Qtd Cotas, Valor Cota, Valor Bruto, IR, IOF, Valor Liquido, Aplicacao Pendente, Total Bruto, period, mes, ano, data_posicao]\n",
       "Index: []"
      ],
      "text/html": "<div>\n<style scoped>\n    .dataframe tbody tr th:only-of-type {\n        vertical-align: middle;\n    }\n\n    .dataframe tbody tr th {\n        vertical-align: top;\n    }\n\n    .dataframe thead th {\n        text-align: right;\n    }\n</style>\n<table border=\"1\" class=\"dataframe\">\n  <thead>\n    <tr style=\"text-align: right;\">\n      <th></th>\n      <th>Nome</th>\n      <th>Data</th>\n      <th>Qtd Cotas</th>\n      <th>Valor Cota</th>\n      <th>Valor Bruto</th>\n      <th>IR</th>\n      <th>IOF</th>\n      <th>Valor Liquido</th>\n      <th>Aplicacao Pendente</th>\n      <th>Total Bruto</th>\n      <th>period</th>\n      <th>mes</th>\n      <th>ano</th>\n      <th>data_posicao</th>\n    </tr>\n  </thead>\n  <tbody>\n  </tbody>\n</table>\n</div>"
     },
     "metadata": {},
     "execution_count": 12
    }
   ],
   "source": [
    "position.fis[(position.fis['Valor Bruto'] != position.fis['Total Bruto']) & (~position.fis['Total Bruto'].isnull())].head(100)"
   ]
  },
  {
   "cell_type": "code",
   "execution_count": 13,
   "metadata": {},
   "outputs": [
    {
     "output_type": "execute_result",
     "data": {
      "text/plain": [
       "      Papel  Qtd Disponivel  Cotacao  Financeiro  period  mes   ano  \\\n",
       "417  RBRF11          119.00    94.46   11,240.74  2021/2    2  2021   \n",
       "418  RNGO11           49.00    64.49    3,160.01  2021/2    2  2021   \n",
       "116  TSLA34           50.00   118.00    5,900.00  2021/2    2  2021   \n",
       "117   WEGE3          300.00    77.70   23,310.00  2021/2    2  2021   \n",
       "419  XPLG11           79.00   120.50    9,519.50  2021/2    2  2021   \n",
       "\n",
       "    data_posicao  dividendo  \n",
       "417   2021-02-26       5.54  \n",
       "418   2021-02-26      19.11  \n",
       "116   2021-02-26       0.00  \n",
       "117   2021-02-26      21.40  \n",
       "419   2021-02-26      31.46  "
      ],
      "text/html": "<div>\n<style scoped>\n    .dataframe tbody tr th:only-of-type {\n        vertical-align: middle;\n    }\n\n    .dataframe tbody tr th {\n        vertical-align: top;\n    }\n\n    .dataframe thead th {\n        text-align: right;\n    }\n</style>\n<table border=\"1\" class=\"dataframe\">\n  <thead>\n    <tr style=\"text-align: right;\">\n      <th></th>\n      <th>Papel</th>\n      <th>Qtd Disponivel</th>\n      <th>Cotacao</th>\n      <th>Financeiro</th>\n      <th>period</th>\n      <th>mes</th>\n      <th>ano</th>\n      <th>data_posicao</th>\n      <th>dividendo</th>\n    </tr>\n  </thead>\n  <tbody>\n    <tr>\n      <th>417</th>\n      <td>RBRF11</td>\n      <td>119.00</td>\n      <td>94.46</td>\n      <td>11,240.74</td>\n      <td>2021/2</td>\n      <td>2</td>\n      <td>2021</td>\n      <td>2021-02-26</td>\n      <td>5.54</td>\n    </tr>\n    <tr>\n      <th>418</th>\n      <td>RNGO11</td>\n      <td>49.00</td>\n      <td>64.49</td>\n      <td>3,160.01</td>\n      <td>2021/2</td>\n      <td>2</td>\n      <td>2021</td>\n      <td>2021-02-26</td>\n      <td>19.11</td>\n    </tr>\n    <tr>\n      <th>116</th>\n      <td>TSLA34</td>\n      <td>50.00</td>\n      <td>118.00</td>\n      <td>5,900.00</td>\n      <td>2021/2</td>\n      <td>2</td>\n      <td>2021</td>\n      <td>2021-02-26</td>\n      <td>0.00</td>\n    </tr>\n    <tr>\n      <th>117</th>\n      <td>WEGE3</td>\n      <td>300.00</td>\n      <td>77.70</td>\n      <td>23,310.00</td>\n      <td>2021/2</td>\n      <td>2</td>\n      <td>2021</td>\n      <td>2021-02-26</td>\n      <td>21.40</td>\n    </tr>\n    <tr>\n      <th>419</th>\n      <td>XPLG11</td>\n      <td>79.00</td>\n      <td>120.50</td>\n      <td>9,519.50</td>\n      <td>2021/2</td>\n      <td>2</td>\n      <td>2021</td>\n      <td>2021-02-26</td>\n      <td>31.46</td>\n    </tr>\n  </tbody>\n</table>\n</div>"
     },
     "metadata": {},
     "execution_count": 13
    }
   ],
   "source": [
    "## Estou aqui!! Juntei os datasets de posição, falta agora os de dividendos. \n",
    "\n",
    "#print(position.stocks.columns)\n",
    "#print(position.fiis.columns)\n",
    "#print(position.fis.columns)\n",
    "\n",
    "df1 = position.stocks[['Papel', 'Qtd Disponivel',\n",
    "       'Cotacao', 'Financeiro', 'period', 'mes', 'ano',\n",
    "       'data_posicao']]\n",
    "\n",
    "df2 = position.fiis[['Papel', 'Qtd Disponivel', \n",
    "            'Ult Cotacao', 'Financeiro', 'period', 'mes', 'ano', \n",
    "            'data_posicao']]\\\n",
    "           .rename(columns={'Ult Cotacao': 'Cotacao'})\n",
    "\n",
    "df2['Financeiro'] = np.where(df2['Financeiro'] == 0, \n",
    "        df2['Qtd Disponivel'] * df2['Cotacao'], \n",
    "        df2['Financeiro']) # trata os valores vazios de Financeiro. \n",
    "\n",
    "# ToDo: Depois acrescentar esses campos: 'IR', 'IOF', 'Valor Liquido'\n",
    "df3 = position.fis[['Nome', 'Qtd Cotas', 'Valor Cota', 'Valor Bruto', \n",
    "                    'period', 'mes',\n",
    "                    'ano', 'data_posicao']]\\\n",
    "            .rename(columns={'Nome': 'Papel',\n",
    "                            'Qtd Cotas': 'Qtd Disponivel', \n",
    "                            'Valor Cota': 'Cotacao', \n",
    "                            'Valor Bruto': 'Financeiro'})                            \n",
    "\n",
    "df4 = position.stocks_profits\\\n",
    "        .groupby(['Papel', 'data_posicao'])\\\n",
    "            .agg(Valor=('Valor', 'sum'))\\\n",
    "        .reset_index()\n",
    "\n",
    "df5 = extract.fiis_profits\\\n",
    "            .groupby(['Descricao', 'ano', 'mes'])\\\n",
    "                .agg(Valor=('Valor', 'sum'))\\\n",
    "            .reset_index()\\\n",
    "            .rename(columns={'Descricao': 'Papel'})\n",
    "\n",
    "df_result = df1.append(df2, ignore_index=True).append(df3, ignore_index=True)   \n",
    "\n",
    "\n",
    "df_result = df_result.merge(df4, \n",
    "                        how='outer', \n",
    "                        left_on=['Papel', 'data_posicao'], \n",
    "                        right_on=['Papel', 'data_posicao'])\\\n",
    "                    .fillna(0)\n",
    "                    \n",
    "df_result = df_result.merge(df5, \n",
    "                        how='left', # existem dividendos de periodos sem posicao ex.: BCFF11\n",
    "                        left_on=['Papel', 'ano', 'mes'], \n",
    "                        right_on=['Papel', 'ano', 'mes'])\\\n",
    "                    .fillna(0)\n",
    "df_result['dividendo'] = df_result['Valor_x'] + df_result['Valor_y']\n",
    "df_result.drop(columns=['Valor_x', 'Valor_y'], inplace=True)\n",
    "\n",
    "\n",
    "df_result.sort_values(by=['data_posicao', 'Papel']).tail()"
   ]
  },
  {
   "cell_type": "code",
   "execution_count": 14,
   "metadata": {},
   "outputs": [
    {
     "output_type": "execute_result",
     "data": {
      "text/plain": [
       "      Papel  Qtd Disponivel  Cotacao  Financeiro   period  mes   ano  \\\n",
       "258  BCFF11               8    81.10      648.80   2014/5    5  2014   \n",
       "254  BCFF11               8    81.06      648.48   2014/6    6  2014   \n",
       "250  BCFF11               8    72.50      580.00   2014/7    7  2014   \n",
       "246  BCFF11               8    72.90      583.20   2014/8    8  2014   \n",
       "242  BCFF11               8    70.00      560.00   2014/9    9  2014   \n",
       "238  BCFF11               8    66.80      534.40  2014/10   10  2014   \n",
       "228  BCFF11               8    63.49      507.92  2014/11   11  2014   \n",
       "224  BCFF11               8    67.00      536.00  2014/12   12  2014   \n",
       "220  BCFF11               8    66.84      534.72   2015/1    1  2015   \n",
       "216  BCFF11               8    65.29      522.32   2015/2    2  2015   \n",
       "\n",
       "    data_posicao  \n",
       "258   2014-05-30  \n",
       "254   2014-06-30  \n",
       "250   2014-07-31  \n",
       "246   2014-08-29  \n",
       "242   2014-09-30  \n",
       "238   2014-10-31  \n",
       "228   2014-11-28  \n",
       "224   2014-12-30  \n",
       "220   2015-01-30  \n",
       "216   2015-02-27  "
      ],
      "text/html": "<div>\n<style scoped>\n    .dataframe tbody tr th:only-of-type {\n        vertical-align: middle;\n    }\n\n    .dataframe tbody tr th {\n        vertical-align: top;\n    }\n\n    .dataframe thead th {\n        text-align: right;\n    }\n</style>\n<table border=\"1\" class=\"dataframe\">\n  <thead>\n    <tr style=\"text-align: right;\">\n      <th></th>\n      <th>Papel</th>\n      <th>Qtd Disponivel</th>\n      <th>Cotacao</th>\n      <th>Financeiro</th>\n      <th>period</th>\n      <th>mes</th>\n      <th>ano</th>\n      <th>data_posicao</th>\n    </tr>\n  </thead>\n  <tbody>\n    <tr>\n      <th>258</th>\n      <td>BCFF11</td>\n      <td>8</td>\n      <td>81.10</td>\n      <td>648.80</td>\n      <td>2014/5</td>\n      <td>5</td>\n      <td>2014</td>\n      <td>2014-05-30</td>\n    </tr>\n    <tr>\n      <th>254</th>\n      <td>BCFF11</td>\n      <td>8</td>\n      <td>81.06</td>\n      <td>648.48</td>\n      <td>2014/6</td>\n      <td>6</td>\n      <td>2014</td>\n      <td>2014-06-30</td>\n    </tr>\n    <tr>\n      <th>250</th>\n      <td>BCFF11</td>\n      <td>8</td>\n      <td>72.50</td>\n      <td>580.00</td>\n      <td>2014/7</td>\n      <td>7</td>\n      <td>2014</td>\n      <td>2014-07-31</td>\n    </tr>\n    <tr>\n      <th>246</th>\n      <td>BCFF11</td>\n      <td>8</td>\n      <td>72.90</td>\n      <td>583.20</td>\n      <td>2014/8</td>\n      <td>8</td>\n      <td>2014</td>\n      <td>2014-08-29</td>\n    </tr>\n    <tr>\n      <th>242</th>\n      <td>BCFF11</td>\n      <td>8</td>\n      <td>70.00</td>\n      <td>560.00</td>\n      <td>2014/9</td>\n      <td>9</td>\n      <td>2014</td>\n      <td>2014-09-30</td>\n    </tr>\n    <tr>\n      <th>238</th>\n      <td>BCFF11</td>\n      <td>8</td>\n      <td>66.80</td>\n      <td>534.40</td>\n      <td>2014/10</td>\n      <td>10</td>\n      <td>2014</td>\n      <td>2014-10-31</td>\n    </tr>\n    <tr>\n      <th>228</th>\n      <td>BCFF11</td>\n      <td>8</td>\n      <td>63.49</td>\n      <td>507.92</td>\n      <td>2014/11</td>\n      <td>11</td>\n      <td>2014</td>\n      <td>2014-11-28</td>\n    </tr>\n    <tr>\n      <th>224</th>\n      <td>BCFF11</td>\n      <td>8</td>\n      <td>67.00</td>\n      <td>536.00</td>\n      <td>2014/12</td>\n      <td>12</td>\n      <td>2014</td>\n      <td>2014-12-30</td>\n    </tr>\n    <tr>\n      <th>220</th>\n      <td>BCFF11</td>\n      <td>8</td>\n      <td>66.84</td>\n      <td>534.72</td>\n      <td>2015/1</td>\n      <td>1</td>\n      <td>2015</td>\n      <td>2015-01-30</td>\n    </tr>\n    <tr>\n      <th>216</th>\n      <td>BCFF11</td>\n      <td>8</td>\n      <td>65.29</td>\n      <td>522.32</td>\n      <td>2015/2</td>\n      <td>2</td>\n      <td>2015</td>\n      <td>2015-02-27</td>\n    </tr>\n  </tbody>\n</table>\n</div>"
     },
     "metadata": {},
     "execution_count": 14
    }
   ],
   "source": [
    "df2[df2['Papel'] == 'BCFF11'].sort_values('data_posicao').head(10)"
   ]
  },
  {
   "cell_type": "code",
   "execution_count": 15,
   "metadata": {},
   "outputs": [
    {
     "output_type": "execute_result",
     "data": {
      "text/plain": [
       "Empty DataFrame\n",
       "Columns: [Papel, ano, mes, Valor]\n",
       "Index: []"
      ],
      "text/html": "<div>\n<style scoped>\n    .dataframe tbody tr th:only-of-type {\n        vertical-align: middle;\n    }\n\n    .dataframe tbody tr th {\n        vertical-align: top;\n    }\n\n    .dataframe thead th {\n        text-align: right;\n    }\n</style>\n<table border=\"1\" class=\"dataframe\">\n  <thead>\n    <tr style=\"text-align: right;\">\n      <th></th>\n      <th>Papel</th>\n      <th>ano</th>\n      <th>mes</th>\n      <th>Valor</th>\n    </tr>\n  </thead>\n  <tbody>\n  </tbody>\n</table>\n</div>"
     },
     "metadata": {},
     "execution_count": 15
    }
   ],
   "source": [
    "df5[df5['Valor'] == 0].head()"
   ]
  },
  {
   "cell_type": "code",
   "execution_count": 16,
   "metadata": {},
   "outputs": [
    {
     "output_type": "stream",
     "name": "stdout",
     "text": [
      "<class 'pandas.core.frame.DataFrame'>\nRangeIndex: 302 entries, 0 to 301\nData columns (total 8 columns):\n #   Column          Non-Null Count  Dtype         \n---  ------          --------------  -----         \n 0   Papel           302 non-null    object        \n 1   Qtd Disponivel  302 non-null    int64         \n 2   Cotacao         302 non-null    float64       \n 3   Financeiro      302 non-null    float64       \n 4   period          302 non-null    object        \n 5   mes             302 non-null    int64         \n 6   ano             302 non-null    int64         \n 7   data_posicao    302 non-null    datetime64[ns]\ndtypes: datetime64[ns](1), float64(2), int64(3), object(2)\nmemory usage: 19.0+ KB\nNone\n<class 'pandas.core.frame.DataFrame'>\nRangeIndex: 395 entries, 0 to 394\nData columns (total 4 columns):\n #   Column  Non-Null Count  Dtype  \n---  ------  --------------  -----  \n 0   Papel   395 non-null    object \n 1   ano     395 non-null    int64  \n 2   mes     395 non-null    int64  \n 3   Valor   395 non-null    float64\ndtypes: float64(1), int64(2), object(1)\nmemory usage: 12.5+ KB\nNone\n"
     ]
    }
   ],
   "source": [
    "print(df2.info())\n",
    "print(df5.info())"
   ]
  },
  {
   "cell_type": "code",
   "execution_count": 17,
   "metadata": {},
   "outputs": [
    {
     "output_type": "error",
     "ename": "KeyError",
     "evalue": "'Valor_y'",
     "traceback": [
      "\u001b[0;31m---------------------------------------------------------------------------\u001b[0m",
      "\u001b[0;31mKeyError\u001b[0m                                  Traceback (most recent call last)",
      "\u001b[0;32m~/opt/anaconda3/lib/python3.8/site-packages/pandas/core/indexes/base.py\u001b[0m in \u001b[0;36mget_loc\u001b[0;34m(self, key, method, tolerance)\u001b[0m\n\u001b[1;32m   3079\u001b[0m             \u001b[0;32mtry\u001b[0m\u001b[0;34m:\u001b[0m\u001b[0;34m\u001b[0m\u001b[0;34m\u001b[0m\u001b[0m\n\u001b[0;32m-> 3080\u001b[0;31m                 \u001b[0;32mreturn\u001b[0m \u001b[0mself\u001b[0m\u001b[0;34m.\u001b[0m\u001b[0m_engine\u001b[0m\u001b[0;34m.\u001b[0m\u001b[0mget_loc\u001b[0m\u001b[0;34m(\u001b[0m\u001b[0mcasted_key\u001b[0m\u001b[0;34m)\u001b[0m\u001b[0;34m\u001b[0m\u001b[0;34m\u001b[0m\u001b[0m\n\u001b[0m\u001b[1;32m   3081\u001b[0m             \u001b[0;32mexcept\u001b[0m \u001b[0mKeyError\u001b[0m \u001b[0;32mas\u001b[0m \u001b[0merr\u001b[0m\u001b[0;34m:\u001b[0m\u001b[0;34m\u001b[0m\u001b[0;34m\u001b[0m\u001b[0m\n",
      "\u001b[0;32mpandas/_libs/index.pyx\u001b[0m in \u001b[0;36mpandas._libs.index.IndexEngine.get_loc\u001b[0;34m()\u001b[0m\n",
      "\u001b[0;32mpandas/_libs/index.pyx\u001b[0m in \u001b[0;36mpandas._libs.index.IndexEngine.get_loc\u001b[0;34m()\u001b[0m\n",
      "\u001b[0;32mpandas/_libs/hashtable_class_helper.pxi\u001b[0m in \u001b[0;36mpandas._libs.hashtable.PyObjectHashTable.get_item\u001b[0;34m()\u001b[0m\n",
      "\u001b[0;32mpandas/_libs/hashtable_class_helper.pxi\u001b[0m in \u001b[0;36mpandas._libs.hashtable.PyObjectHashTable.get_item\u001b[0;34m()\u001b[0m\n",
      "\u001b[0;31mKeyError\u001b[0m: 'Valor_y'",
      "\nThe above exception was the direct cause of the following exception:\n",
      "\u001b[0;31mKeyError\u001b[0m                                  Traceback (most recent call last)",
      "\u001b[0;32m<ipython-input-17-026e1ec14b57>\u001b[0m in \u001b[0;36m<module>\u001b[0;34m\u001b[0m\n\u001b[0;32m----> 1\u001b[0;31m \u001b[0mdf_result\u001b[0m\u001b[0;34m[\u001b[0m\u001b[0mdf_result\u001b[0m\u001b[0;34m[\u001b[0m\u001b[0;34m'Valor_y'\u001b[0m\u001b[0;34m]\u001b[0m \u001b[0;34m>\u001b[0m \u001b[0;36m0\u001b[0m\u001b[0;34m]\u001b[0m\u001b[0;34m.\u001b[0m\u001b[0mhead\u001b[0m\u001b[0;34m(\u001b[0m\u001b[0;34m)\u001b[0m\u001b[0;34m\u001b[0m\u001b[0;34m\u001b[0m\u001b[0m\n\u001b[0m",
      "\u001b[0;32m~/opt/anaconda3/lib/python3.8/site-packages/pandas/core/frame.py\u001b[0m in \u001b[0;36m__getitem__\u001b[0;34m(self, key)\u001b[0m\n\u001b[1;32m   3022\u001b[0m             \u001b[0;32mif\u001b[0m \u001b[0mself\u001b[0m\u001b[0;34m.\u001b[0m\u001b[0mcolumns\u001b[0m\u001b[0;34m.\u001b[0m\u001b[0mnlevels\u001b[0m \u001b[0;34m>\u001b[0m \u001b[0;36m1\u001b[0m\u001b[0;34m:\u001b[0m\u001b[0;34m\u001b[0m\u001b[0;34m\u001b[0m\u001b[0m\n\u001b[1;32m   3023\u001b[0m                 \u001b[0;32mreturn\u001b[0m \u001b[0mself\u001b[0m\u001b[0;34m.\u001b[0m\u001b[0m_getitem_multilevel\u001b[0m\u001b[0;34m(\u001b[0m\u001b[0mkey\u001b[0m\u001b[0;34m)\u001b[0m\u001b[0;34m\u001b[0m\u001b[0;34m\u001b[0m\u001b[0m\n\u001b[0;32m-> 3024\u001b[0;31m             \u001b[0mindexer\u001b[0m \u001b[0;34m=\u001b[0m \u001b[0mself\u001b[0m\u001b[0;34m.\u001b[0m\u001b[0mcolumns\u001b[0m\u001b[0;34m.\u001b[0m\u001b[0mget_loc\u001b[0m\u001b[0;34m(\u001b[0m\u001b[0mkey\u001b[0m\u001b[0;34m)\u001b[0m\u001b[0;34m\u001b[0m\u001b[0;34m\u001b[0m\u001b[0m\n\u001b[0m\u001b[1;32m   3025\u001b[0m             \u001b[0;32mif\u001b[0m \u001b[0mis_integer\u001b[0m\u001b[0;34m(\u001b[0m\u001b[0mindexer\u001b[0m\u001b[0;34m)\u001b[0m\u001b[0;34m:\u001b[0m\u001b[0;34m\u001b[0m\u001b[0;34m\u001b[0m\u001b[0m\n\u001b[1;32m   3026\u001b[0m                 \u001b[0mindexer\u001b[0m \u001b[0;34m=\u001b[0m \u001b[0;34m[\u001b[0m\u001b[0mindexer\u001b[0m\u001b[0;34m]\u001b[0m\u001b[0;34m\u001b[0m\u001b[0;34m\u001b[0m\u001b[0m\n",
      "\u001b[0;32m~/opt/anaconda3/lib/python3.8/site-packages/pandas/core/indexes/base.py\u001b[0m in \u001b[0;36mget_loc\u001b[0;34m(self, key, method, tolerance)\u001b[0m\n\u001b[1;32m   3080\u001b[0m                 \u001b[0;32mreturn\u001b[0m \u001b[0mself\u001b[0m\u001b[0;34m.\u001b[0m\u001b[0m_engine\u001b[0m\u001b[0;34m.\u001b[0m\u001b[0mget_loc\u001b[0m\u001b[0;34m(\u001b[0m\u001b[0mcasted_key\u001b[0m\u001b[0;34m)\u001b[0m\u001b[0;34m\u001b[0m\u001b[0;34m\u001b[0m\u001b[0m\n\u001b[1;32m   3081\u001b[0m             \u001b[0;32mexcept\u001b[0m \u001b[0mKeyError\u001b[0m \u001b[0;32mas\u001b[0m \u001b[0merr\u001b[0m\u001b[0;34m:\u001b[0m\u001b[0;34m\u001b[0m\u001b[0;34m\u001b[0m\u001b[0m\n\u001b[0;32m-> 3082\u001b[0;31m                 \u001b[0;32mraise\u001b[0m \u001b[0mKeyError\u001b[0m\u001b[0;34m(\u001b[0m\u001b[0mkey\u001b[0m\u001b[0;34m)\u001b[0m \u001b[0;32mfrom\u001b[0m \u001b[0merr\u001b[0m\u001b[0;34m\u001b[0m\u001b[0;34m\u001b[0m\u001b[0m\n\u001b[0m\u001b[1;32m   3083\u001b[0m \u001b[0;34m\u001b[0m\u001b[0m\n\u001b[1;32m   3084\u001b[0m         \u001b[0;32mif\u001b[0m \u001b[0mtolerance\u001b[0m \u001b[0;32mis\u001b[0m \u001b[0;32mnot\u001b[0m \u001b[0;32mNone\u001b[0m\u001b[0;34m:\u001b[0m\u001b[0;34m\u001b[0m\u001b[0;34m\u001b[0m\u001b[0m\n",
      "\u001b[0;31mKeyError\u001b[0m: 'Valor_y'"
     ]
    }
   ],
   "source": [
    "df_result[df_result['Valor_y'] > 0].head()"
   ]
  },
  {
   "cell_type": "code",
   "execution_count": 18,
   "metadata": {},
   "outputs": [],
   "source": [
    "df5 = extract.fiis_profits\\\n",
    "            .groupby(['Descricao', 'Mov'])\\\n",
    "                .agg(Valor=('Valor', 'sum'))\\\n",
    "            .reset_index()\\\n",
    "            .rename(columns={'Descricao': 'Papel', \n",
    "                            'Mov': 'Data'})\n",
    "\n",
    "df2 = position.stocks_profits\\\n",
    "        .groupby(['Papel', 'data_posicao'])\\\n",
    "            .agg(Valor=('Valor', 'sum'))\\\n",
    "        .reset_index().sort_values('Papel')\\\n",
    "        .rename(columns={'data_posicao': 'Data'})                            \n",
    "\n",
    "df3 = df1.append(df2, ignore_index=True)"
   ]
  },
  {
   "cell_type": "code",
   "execution_count": 56,
   "metadata": {},
   "outputs": [
    {
     "output_type": "execute_result",
     "data": {
      "text/plain": [
       "                       Papel  Qtd Disponivel  Cotacao  Financeiro  period  \\\n",
       "0      XP Long Short FIC FIM        6,914.97     2.84   19,638.20  2019/5   \n",
       "1     AZ Quest Multi FIC FIM        1,476.76    11.85   17,496.02  2019/5   \n",
       "2         Mauá Macro FIC FIM           37.37   706.87   26,413.30  2019/5   \n",
       "3  Bahia AM Maraú FIC de FIM       33,993.07     2.45   83,382.14  2019/5   \n",
       "4               XP Macro FIM        7,128.20     1.45   10,353.74  2019/5   \n",
       "\n",
       "   mes   ano data_posicao  \n",
       "0    5  2019   2019-05-31  \n",
       "1    5  2019   2019-05-31  \n",
       "2    5  2019   2019-05-31  \n",
       "3    5  2019   2019-05-31  \n",
       "4    5  2019   2019-05-31  "
      ],
      "text/html": "<div>\n<style scoped>\n    .dataframe tbody tr th:only-of-type {\n        vertical-align: middle;\n    }\n\n    .dataframe tbody tr th {\n        vertical-align: top;\n    }\n\n    .dataframe thead th {\n        text-align: right;\n    }\n</style>\n<table border=\"1\" class=\"dataframe\">\n  <thead>\n    <tr style=\"text-align: right;\">\n      <th></th>\n      <th>Papel</th>\n      <th>Qtd Disponivel</th>\n      <th>Cotacao</th>\n      <th>Financeiro</th>\n      <th>period</th>\n      <th>mes</th>\n      <th>ano</th>\n      <th>data_posicao</th>\n    </tr>\n  </thead>\n  <tbody>\n    <tr>\n      <th>0</th>\n      <td>XP Long Short FIC FIM</td>\n      <td>6,914.97</td>\n      <td>2.84</td>\n      <td>19,638.20</td>\n      <td>2019/5</td>\n      <td>5</td>\n      <td>2019</td>\n      <td>2019-05-31</td>\n    </tr>\n    <tr>\n      <th>1</th>\n      <td>AZ Quest Multi FIC FIM</td>\n      <td>1,476.76</td>\n      <td>11.85</td>\n      <td>17,496.02</td>\n      <td>2019/5</td>\n      <td>5</td>\n      <td>2019</td>\n      <td>2019-05-31</td>\n    </tr>\n    <tr>\n      <th>2</th>\n      <td>Mauá Macro FIC FIM</td>\n      <td>37.37</td>\n      <td>706.87</td>\n      <td>26,413.30</td>\n      <td>2019/5</td>\n      <td>5</td>\n      <td>2019</td>\n      <td>2019-05-31</td>\n    </tr>\n    <tr>\n      <th>3</th>\n      <td>Bahia AM Maraú FIC de FIM</td>\n      <td>33,993.07</td>\n      <td>2.45</td>\n      <td>83,382.14</td>\n      <td>2019/5</td>\n      <td>5</td>\n      <td>2019</td>\n      <td>2019-05-31</td>\n    </tr>\n    <tr>\n      <th>4</th>\n      <td>XP Macro FIM</td>\n      <td>7,128.20</td>\n      <td>1.45</td>\n      <td>10,353.74</td>\n      <td>2019/5</td>\n      <td>5</td>\n      <td>2019</td>\n      <td>2019-05-31</td>\n    </tr>\n  </tbody>\n</table>\n</div>"
     },
     "metadata": {},
     "execution_count": 56
    }
   ],
   "source": [
    "df3.head()"
   ]
  },
  {
   "cell_type": "code",
   "execution_count": 57,
   "metadata": {},
   "outputs": [
    {
     "output_type": "execute_result",
     "data": {
      "text/plain": [
       "         Liq        Mov Descricao  Valor    Saldo   ano  mes\n",
       "4 2020-05-28 2020-05-28    CNES11   1.81 1,478.00  2020    5\n",
       "5 2020-05-22 2020-05-22    OULG11  32.80 1,476.19  2020    5\n",
       "6 2020-05-19 2020-05-19    IBFF11  11.91 1,443.39  2020    5\n",
       "7 2020-05-15 2020-05-15    RNGO11  20.58 1,431.48  2020    5\n",
       "8 2020-05-15 2020-05-15    BCFF11   3.20 1,410.90  2020    5"
      ],
      "text/html": "<div>\n<style scoped>\n    .dataframe tbody tr th:only-of-type {\n        vertical-align: middle;\n    }\n\n    .dataframe tbody tr th {\n        vertical-align: top;\n    }\n\n    .dataframe thead th {\n        text-align: right;\n    }\n</style>\n<table border=\"1\" class=\"dataframe\">\n  <thead>\n    <tr style=\"text-align: right;\">\n      <th></th>\n      <th>Liq</th>\n      <th>Mov</th>\n      <th>Descricao</th>\n      <th>Valor</th>\n      <th>Saldo</th>\n      <th>ano</th>\n      <th>mes</th>\n    </tr>\n  </thead>\n  <tbody>\n    <tr>\n      <th>4</th>\n      <td>2020-05-28</td>\n      <td>2020-05-28</td>\n      <td>CNES11</td>\n      <td>1.81</td>\n      <td>1,478.00</td>\n      <td>2020</td>\n      <td>5</td>\n    </tr>\n    <tr>\n      <th>5</th>\n      <td>2020-05-22</td>\n      <td>2020-05-22</td>\n      <td>OULG11</td>\n      <td>32.80</td>\n      <td>1,476.19</td>\n      <td>2020</td>\n      <td>5</td>\n    </tr>\n    <tr>\n      <th>6</th>\n      <td>2020-05-19</td>\n      <td>2020-05-19</td>\n      <td>IBFF11</td>\n      <td>11.91</td>\n      <td>1,443.39</td>\n      <td>2020</td>\n      <td>5</td>\n    </tr>\n    <tr>\n      <th>7</th>\n      <td>2020-05-15</td>\n      <td>2020-05-15</td>\n      <td>RNGO11</td>\n      <td>20.58</td>\n      <td>1,431.48</td>\n      <td>2020</td>\n      <td>5</td>\n    </tr>\n    <tr>\n      <th>8</th>\n      <td>2020-05-15</td>\n      <td>2020-05-15</td>\n      <td>BCFF11</td>\n      <td>3.20</td>\n      <td>1,410.90</td>\n      <td>2020</td>\n      <td>5</td>\n    </tr>\n  </tbody>\n</table>\n</div>"
     },
     "metadata": {},
     "execution_count": 57
    }
   ],
   "source": [
    "extract.fiis_profits.head()"
   ]
  },
  {
   "cell_type": "code",
   "execution_count": null,
   "metadata": {},
   "outputs": [],
   "source": []
  }
 ]
}