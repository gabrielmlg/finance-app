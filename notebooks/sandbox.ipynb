{
 "cells": [
  {
   "cell_type": "markdown",
   "metadata": {},
   "source": [
    "# Gestor de investimento\n",
    "---"
   ]
  },
  {
   "cell_type": "code",
   "execution_count": 1,
   "metadata": {},
   "outputs": [],
   "source": [
    "import pandas as pd\n",
    "import numpy as np\n",
    "import os\n",
    "import xlrd\n",
    "\n",
    "# Profile \n",
    "from pandas_profiling import ProfileReport\n",
    "\n",
    "import plotly.graph_objs as go\n",
    "\n",
    "# Config\n",
    "pd.options.display.float_format = '{:,.2f}'.format\n",
    "pd.set_option('display.max_columns', None)\n",
    "pd.set_option('display.max_rows', None)\n",
    "pd.set_option('display.max_colwidth', -1)"
   ]
  },
  {
   "cell_type": "code",
   "execution_count": 93,
   "metadata": {},
   "outputs": [],
   "source": [
    "# Função para pegar os dados de Papel (ações)\n",
    "def get_stocks(df):\n",
    "    stocks = []\n",
    "\n",
    "    for index, row in df[~df['Unnamed: 2'].isnull()].iterrows():\n",
    "        if row['Unnamed: 2'] == 'Papel' or row['Unnamed: 2'] == 'Ações':\n",
    "            continue\n",
    "        elif row['Unnamed: 2'] == 'Opções':\n",
    "            break\n",
    "        else:\n",
    "            stocks.append(row[['Unnamed: 2', 'Unnamed: 10', 'Unnamed: 18', \n",
    "                                'Unnamed: 28', 'Unnamed: 35', 'Unnamed: 43', \n",
    "                                'Unnamed: 51', 'Unnamed: 61', 'Unnamed: 68', \n",
    "                                'Unnamed: 76', 'Unnamed: 83']].values)\n",
    "\n",
    "    pd_stock = pd.DataFrame(columns=['Papel', 'Qtd Disponivel', \n",
    "                                    'Qtd Projetado', 'Qtd Dia', \n",
    "                                    'Qtd Garantia BOV', 'Qtd Garantia BMF', \n",
    "                                    'Qtd Estruturados', 'Liq Termo', \n",
    "                                    'Qtd Total', 'Cotacao', 'Financeiro'], data=stocks)\n",
    "\n",
    "    return pd_stock\n",
    "\n",
    "\n",
    "def get_picking(df):\n",
    "    picking = []\n",
    "    start = False\n",
    "\n",
    "    for index, row in df[~df['Unnamed: 2'].isnull()].iterrows():\n",
    "        if row['Unnamed: 2'] == 'Proventos de Ação':\n",
    "                start = True\n",
    "                continue\n",
    "        elif row['Unnamed: 2'] == 'Papel':\n",
    "            continue\n",
    "        elif row['Unnamed: 2'] == 'Renda Fixa':\n",
    "            break\n",
    "        elif start == True:\n",
    "            picking.append(row[['Unnamed: 2', 'Unnamed: 11', \n",
    "                            'Unnamed: 22', 'Unnamed: 60', \n",
    "                            'Unnamed: 77']].values)\n",
    "\n",
    "    pd_picking = pd.DataFrame(columns=['Papel', 'Qtd Provisionada', \n",
    "                                    'Tipo', 'Data Pagamento', 'Valor'], data=picking)\n",
    "  \n",
    "    return pd_picking\n",
    "\n",
    "\n",
    "def get_fi(df):\n",
    "    x = []\n",
    "    start = False\n",
    "\n",
    "    for index, row in df[~df.isnull()].iterrows():\n",
    "        if row['Unnamed: 2'] == 'Fundos de Investimentos':\n",
    "                start = True\n",
    "                continue\n",
    "        elif row['Unnamed: 2'] == 'Nome Fundo':\n",
    "            continue\n",
    "        elif row['Unnamed: 2'] == 'Posição de Fundos Imobiliários':\n",
    "            break\n",
    "        elif (start == True) and ((type(row['Unnamed: 2']) == str)):\n",
    "            if type(row['Unnamed: 2']) == str: \n",
    "                fi_name = np.array([row['Unnamed: 2']])\n",
    "                data = df[df.index == index +1][['Unnamed: 13', 'Unnamed: 19', \n",
    "                                                    'Unnamed: 33', 'Unnamed: 40', \n",
    "                                                    'Unnamed: 48', 'Unnamed: 54', \n",
    "                                                    'Unnamed: 60', 'Unnamed: 70', \n",
    "                                                    'Unnamed: 81']]\n",
    "                \n",
    "                data.insert(0, 'Nome FI', row['Unnamed: 2'])\n",
    "                # print(data.values[0])\n",
    "                x.append(data.values[0])\n",
    "                #display(data.head())\n",
    "    \n",
    "    pd_fi = pd.DataFrame(columns=['Nome', 'Data', 'Qtd Cotas', \n",
    "                                    'Valor Cota', 'Valor Bruto', \n",
    "                                    'IR', 'IOF', 'Valor Liquido', \n",
    "                                    'Aplicacao Pendente', 'Total Bruto'], data=x)\n",
    "    return pd_fi\n",
    "\n",
    "\n",
    "def get_fii(df):\n",
    "    fii = []\n",
    "    start = False\n",
    "\n",
    "    for index, row in df[~df['Unnamed: 2'].isnull()].iterrows():\n",
    "        if row['Unnamed: 2'] == 'Posição de Fundos Imobiliários':\n",
    "                start = True\n",
    "                continue\n",
    "        elif row['Unnamed: 2'] == 'Nome':\n",
    "            continue\n",
    "        elif row['Unnamed: 2'] == 'Proventos de Fundo Imobiliário':\n",
    "            break\n",
    "        elif start == True:\n",
    "            fii.append(row[['Unnamed: 2', 'Unnamed: 14', \n",
    "                            'Unnamed: 26', 'Unnamed: 38', \n",
    "                            'Unnamed: 45', 'Unnamed: 55', \n",
    "                            'Unnamed: 74']].values)\n",
    "\n",
    "    df_result = pd.DataFrame(columns=['Papel', 'Qtd Disponivel', \n",
    "                                    'Qtd Projetada', 'Qtd Dia', 'Qtde Total', \n",
    "                                    'Ult Cotacao', 'Financeiro'], data=fii)\n",
    "  \n",
    "    return df_result\n",
    "\n",
    "\n",
    "def get_picking_fii(df):\n",
    "    p_fii = []\n",
    "    start = False\n",
    "\n",
    "    for index, row in df[~df['Unnamed: 2'].isnull()].iterrows():\n",
    "        if row['Unnamed: 2'] == 'Proventos de Fundo Imobiliário':\n",
    "                start = True\n",
    "                continue\n",
    "        elif row['Unnamed: 2'] == 'Papel':\n",
    "            continue\n",
    "        elif row['Unnamed: 2'] == 'Clubes de Investimentos':\n",
    "            break\n",
    "        elif start == True:\n",
    "            p_fii.append(row[['Unnamed: 2', 'Unnamed: 11', \n",
    "                            'Unnamed: 22', 'Unnamed: 60', \n",
    "                            'Unnamed: 77']].values)\n",
    "\n",
    "    df_result = pd.DataFrame(columns=['Papel', 'Tipo', \n",
    "                                    'Qtd Provisionada', 'Dt Pagamento', \n",
    "                                    'Valor Provisionado'], data=p_fii)\n",
    "  \n",
    "    return df_result"
   ]
  },
  {
   "cell_type": "code",
   "execution_count": 94,
   "metadata": {
    "tags": [
     "outputPrepend",
     "outputPrepend"
    ]
   },
   "outputs": [],
   "source": [
    "files = os.listdir('../datasets/posicao/')\n",
    "\n",
    "stocks = pd.DataFrame()\n",
    "pickings = pd.DataFrame()\n",
    "fis = pd.DataFrame()\n",
    "fiis = pd.DataFrame()\n",
    "picking_fii = pd.DataFrame()\n",
    "\n",
    "for file_name in files:\n",
    "    if file_name == '.DS_Store':\n",
    "        continue\n",
    "    \n",
    "    wb = xlrd.open_workbook('../datasets/posicao/' + file_name, logfile=open(os.devnull, 'w'))\n",
    "    df = pd.read_excel(wb)\n",
    "    \n",
    "    #df = pd.read_excel('../datasets/' + file_name)\n",
    "    date_position = df[df['Unnamed: 56'].str.contains('Data de referência', na=False)]['Unnamed: 56']\n",
    "    \n",
    "    # position date\n",
    "    date_position = pd.to_datetime(date_position.str.replace('Data de referência: ', ''), format='%d/%m/%Y')\n",
    "    \n",
    "    #month = int(date_position.dt.month.values)\n",
    "    #year = int(date_position.dt.year.values)\n",
    "    #period = str(year) + '/' + str(month)\n",
    "    period = date_position.values[0]\n",
    "\n",
    "    \n",
    "    # get stocks\n",
    "    df_stocks = get_stocks(df)\n",
    "    #display(df_stocks.head())\n",
    "    df_stocks['period'] = period\n",
    "    stocks = stocks.append(df_stocks, ignore_index=True)\n",
    "\n",
    "    df_pickings = get_picking(df)\n",
    "    df_pickings['period'] = period\n",
    "    pickings = pickings.append(df_pickings, ignore_index=True)\n",
    "\n",
    "    df_fi = get_fi(df)\n",
    "    df_fi['period'] = period\n",
    "    fis = fis.append(df_fi, ignore_index=True)\n",
    "\n",
    "    df_fii = get_fii(df)\n",
    "    df_fii['period'] = period\n",
    "    fiis = fiis.append(df_fii, ignore_index=True)\n",
    "\n",
    "    df_picking_fii = get_picking_fii(df)\n",
    "    df_picking_fii['period'] = period\n",
    "\n",
    "    picking_fii = picking_fii.append(df_picking_fii, ignore_index=True)\n",
    "\n",
    "# display(stocks.sort_values('period', ascending=False))\n",
    "# display(fi)"
   ]
  },
  {
   "cell_type": "code",
   "execution_count": 95,
   "metadata": {},
   "outputs": [
    {
     "output_type": "execute_result",
     "data": {
      "text/plain": "     Papel        Tipo Qtd Provisionada Dt Pagamento  Valor Provisionado  \\\n17  RNGO11  RENDIMENTO  49               14/02/2017  30.38                 \n16  RNGO11  RENDIMENTO  49               14/03/2017  29.40                 \n23  RNGO11  RENDIMENTO  49               17/04/2017  29.40                 \n21  RNGO11  RENDIMENTO  49               15/05/2017  24.99                 \n12  RNGO11  RENDIMENTO  49               14/06/2017  26.46                 \n\n       period  \n17 2017-01-31  \n16 2017-02-24  \n23 2017-03-31  \n21 2017-04-28  \n12 2017-05-31  ",
      "text/html": "<div>\n<style scoped>\n    .dataframe tbody tr th:only-of-type {\n        vertical-align: middle;\n    }\n\n    .dataframe tbody tr th {\n        vertical-align: top;\n    }\n\n    .dataframe thead th {\n        text-align: right;\n    }\n</style>\n<table border=\"1\" class=\"dataframe\">\n  <thead>\n    <tr style=\"text-align: right;\">\n      <th></th>\n      <th>Papel</th>\n      <th>Tipo</th>\n      <th>Qtd Provisionada</th>\n      <th>Dt Pagamento</th>\n      <th>Valor Provisionado</th>\n      <th>period</th>\n    </tr>\n  </thead>\n  <tbody>\n    <tr>\n      <th>17</th>\n      <td>RNGO11</td>\n      <td>RENDIMENTO</td>\n      <td>49</td>\n      <td>14/02/2017</td>\n      <td>30.38</td>\n      <td>2017-01-31</td>\n    </tr>\n    <tr>\n      <th>16</th>\n      <td>RNGO11</td>\n      <td>RENDIMENTO</td>\n      <td>49</td>\n      <td>14/03/2017</td>\n      <td>29.40</td>\n      <td>2017-02-24</td>\n    </tr>\n    <tr>\n      <th>23</th>\n      <td>RNGO11</td>\n      <td>RENDIMENTO</td>\n      <td>49</td>\n      <td>17/04/2017</td>\n      <td>29.40</td>\n      <td>2017-03-31</td>\n    </tr>\n    <tr>\n      <th>21</th>\n      <td>RNGO11</td>\n      <td>RENDIMENTO</td>\n      <td>49</td>\n      <td>15/05/2017</td>\n      <td>24.99</td>\n      <td>2017-04-28</td>\n    </tr>\n    <tr>\n      <th>12</th>\n      <td>RNGO11</td>\n      <td>RENDIMENTO</td>\n      <td>49</td>\n      <td>14/06/2017</td>\n      <td>26.46</td>\n      <td>2017-05-31</td>\n    </tr>\n  </tbody>\n</table>\n</div>"
     },
     "metadata": {},
     "execution_count": 95
    }
   ],
   "source": [
    "picking_fii.sort_values(by='period').head()"
   ]
  },
  {
   "cell_type": "code",
   "execution_count": 96,
   "metadata": {},
   "outputs": [
    {
     "output_type": "execute_result",
     "data": {
      "text/plain": "array(['2016-04-29T00:00:00.000000000', '2016-05-31T00:00:00.000000000',\n       '2016-06-30T00:00:00.000000000', '2016-07-29T00:00:00.000000000',\n       '2016-08-31T00:00:00.000000000', '2016-09-30T00:00:00.000000000',\n       '2016-10-31T00:00:00.000000000', '2016-11-30T00:00:00.000000000',\n       '2016-12-29T00:00:00.000000000', '2017-01-31T00:00:00.000000000',\n       '2017-02-24T00:00:00.000000000', '2017-03-31T00:00:00.000000000',\n       '2017-04-28T00:00:00.000000000', '2017-05-31T00:00:00.000000000',\n       '2017-06-30T00:00:00.000000000', '2017-07-31T00:00:00.000000000',\n       '2017-08-31T00:00:00.000000000', '2017-09-29T00:00:00.000000000',\n       '2017-10-31T00:00:00.000000000', '2017-11-30T00:00:00.000000000',\n       '2017-12-28T00:00:00.000000000', '2018-01-31T00:00:00.000000000',\n       '2018-02-28T00:00:00.000000000', '2018-03-29T00:00:00.000000000',\n       '2018-04-30T00:00:00.000000000', '2018-05-30T00:00:00.000000000',\n       '2018-06-29T00:00:00.000000000', '2018-07-31T00:00:00.000000000',\n       '2018-08-31T00:00:00.000000000', '2018-09-28T00:00:00.000000000',\n       '2018-10-31T00:00:00.000000000', '2018-11-30T00:00:00.000000000',\n       '2018-12-28T00:00:00.000000000', '2019-01-31T00:00:00.000000000',\n       '2019-02-28T00:00:00.000000000', '2019-03-29T00:00:00.000000000',\n       '2019-04-30T00:00:00.000000000', '2019-05-31T00:00:00.000000000',\n       '2019-06-28T00:00:00.000000000', '2019-07-31T00:00:00.000000000',\n       '2019-08-30T00:00:00.000000000', '2019-09-30T00:00:00.000000000',\n       '2019-10-31T00:00:00.000000000', '2019-11-29T00:00:00.000000000',\n       '2019-12-31T00:00:00.000000000', '2020-01-31T00:00:00.000000000',\n       '2020-02-28T00:00:00.000000000', '2020-03-31T00:00:00.000000000',\n       '2020-04-30T00:00:00.000000000', '2020-05-29T00:00:00.000000000'],\n      dtype='datetime64[ns]')"
     },
     "metadata": {},
     "execution_count": 96
    }
   ],
   "source": [
    "fis['period'].sort_values().unique()"
   ]
  },
  {
   "cell_type": "code",
   "execution_count": 97,
   "metadata": {},
   "outputs": [
    {
     "output_type": "display_data",
     "data": {
      "text/plain": "    Papel Qtd Disponivel Qtd Projetado Qtd Dia Qtd Garantia BOV  \\\n0  JHSF3   1600           0             0       0                 \n1  MGLU3   800            0             0       0                 \n2  MGLU3   800            0             0       0                 \n3  BPAC11  200            0             0       0                 \n4  ITSA4   0              500           0       0                 \n\n  Qtd Garantia BMF Qtd Estruturados Liq Termo Qtd Total  Cotacao  Financeiro  \\\n0  0                0                0         1600     7.01     11,216.00     \n1  0                0                0         800      50.52    40,416.00     \n2  0                0                0         800      37.04    29,632.00     \n3  0                0                0         200      48.84    9,768.00      \n4  0                0                0         500      8.84     4,420.00      \n\n      period  \n0 2020-02-28  \n1 2020-02-28  \n2 2019-09-30  \n3 2020-05-29  \n4 2020-05-29  ",
      "text/html": "<div>\n<style scoped>\n    .dataframe tbody tr th:only-of-type {\n        vertical-align: middle;\n    }\n\n    .dataframe tbody tr th {\n        vertical-align: top;\n    }\n\n    .dataframe thead th {\n        text-align: right;\n    }\n</style>\n<table border=\"1\" class=\"dataframe\">\n  <thead>\n    <tr style=\"text-align: right;\">\n      <th></th>\n      <th>Papel</th>\n      <th>Qtd Disponivel</th>\n      <th>Qtd Projetado</th>\n      <th>Qtd Dia</th>\n      <th>Qtd Garantia BOV</th>\n      <th>Qtd Garantia BMF</th>\n      <th>Qtd Estruturados</th>\n      <th>Liq Termo</th>\n      <th>Qtd Total</th>\n      <th>Cotacao</th>\n      <th>Financeiro</th>\n      <th>period</th>\n    </tr>\n  </thead>\n  <tbody>\n    <tr>\n      <th>0</th>\n      <td>JHSF3</td>\n      <td>1600</td>\n      <td>0</td>\n      <td>0</td>\n      <td>0</td>\n      <td>0</td>\n      <td>0</td>\n      <td>0</td>\n      <td>1600</td>\n      <td>7.01</td>\n      <td>11,216.00</td>\n      <td>2020-02-28</td>\n    </tr>\n    <tr>\n      <th>1</th>\n      <td>MGLU3</td>\n      <td>800</td>\n      <td>0</td>\n      <td>0</td>\n      <td>0</td>\n      <td>0</td>\n      <td>0</td>\n      <td>0</td>\n      <td>800</td>\n      <td>50.52</td>\n      <td>40,416.00</td>\n      <td>2020-02-28</td>\n    </tr>\n    <tr>\n      <th>2</th>\n      <td>MGLU3</td>\n      <td>800</td>\n      <td>0</td>\n      <td>0</td>\n      <td>0</td>\n      <td>0</td>\n      <td>0</td>\n      <td>0</td>\n      <td>800</td>\n      <td>37.04</td>\n      <td>29,632.00</td>\n      <td>2019-09-30</td>\n    </tr>\n    <tr>\n      <th>3</th>\n      <td>BPAC11</td>\n      <td>200</td>\n      <td>0</td>\n      <td>0</td>\n      <td>0</td>\n      <td>0</td>\n      <td>0</td>\n      <td>0</td>\n      <td>200</td>\n      <td>48.84</td>\n      <td>9,768.00</td>\n      <td>2020-05-29</td>\n    </tr>\n    <tr>\n      <th>4</th>\n      <td>ITSA4</td>\n      <td>0</td>\n      <td>500</td>\n      <td>0</td>\n      <td>0</td>\n      <td>0</td>\n      <td>0</td>\n      <td>0</td>\n      <td>500</td>\n      <td>8.84</td>\n      <td>4,420.00</td>\n      <td>2020-05-29</td>\n    </tr>\n  </tbody>\n</table>\n</div>"
     },
     "metadata": {}
    },
    {
     "output_type": "display_data",
     "data": {
      "text/plain": "   Papel Qtd Provisionada                         Tipo Data Pagamento  Valor  \\\n0  MGLU3  800              JUROS SOBRE CAPITAL PROPRIO  Indeterminado 28.63    \n1  MGLU3  800              JUROS SOBRE CAPITAL PROPRIO  Indeterminado 58.88    \n2  MGLU3 800.00            JUROS SOBRE CAPITAL PROPRIO  Indeterminado 28.63    \n3  WEGE3 300.00            JUROS SOBRE CAPITAL PROPRIO  12/08/2020    9.07     \n4  MGLU3 800.00            JUROS SOBRE CAPITAL PROPRIO  Indeterminado 58.88    \n\n      period  \n0 2020-02-28  \n1 2020-02-28  \n2 2020-05-29  \n3 2020-05-29  \n4 2020-05-29  ",
      "text/html": "<div>\n<style scoped>\n    .dataframe tbody tr th:only-of-type {\n        vertical-align: middle;\n    }\n\n    .dataframe tbody tr th {\n        vertical-align: top;\n    }\n\n    .dataframe thead th {\n        text-align: right;\n    }\n</style>\n<table border=\"1\" class=\"dataframe\">\n  <thead>\n    <tr style=\"text-align: right;\">\n      <th></th>\n      <th>Papel</th>\n      <th>Qtd Provisionada</th>\n      <th>Tipo</th>\n      <th>Data Pagamento</th>\n      <th>Valor</th>\n      <th>period</th>\n    </tr>\n  </thead>\n  <tbody>\n    <tr>\n      <th>0</th>\n      <td>MGLU3</td>\n      <td>800</td>\n      <td>JUROS SOBRE CAPITAL PROPRIO</td>\n      <td>Indeterminado</td>\n      <td>28.63</td>\n      <td>2020-02-28</td>\n    </tr>\n    <tr>\n      <th>1</th>\n      <td>MGLU3</td>\n      <td>800</td>\n      <td>JUROS SOBRE CAPITAL PROPRIO</td>\n      <td>Indeterminado</td>\n      <td>58.88</td>\n      <td>2020-02-28</td>\n    </tr>\n    <tr>\n      <th>2</th>\n      <td>MGLU3</td>\n      <td>800.00</td>\n      <td>JUROS SOBRE CAPITAL PROPRIO</td>\n      <td>Indeterminado</td>\n      <td>28.63</td>\n      <td>2020-05-29</td>\n    </tr>\n    <tr>\n      <th>3</th>\n      <td>WEGE3</td>\n      <td>300.00</td>\n      <td>JUROS SOBRE CAPITAL PROPRIO</td>\n      <td>12/08/2020</td>\n      <td>9.07</td>\n      <td>2020-05-29</td>\n    </tr>\n    <tr>\n      <th>4</th>\n      <td>MGLU3</td>\n      <td>800.00</td>\n      <td>JUROS SOBRE CAPITAL PROPRIO</td>\n      <td>Indeterminado</td>\n      <td>58.88</td>\n      <td>2020-05-29</td>\n    </tr>\n  </tbody>\n</table>\n</div>"
     },
     "metadata": {}
    },
    {
     "output_type": "display_data",
     "data": {
      "text/plain": "                        Nome       Data  Qtd Cotas  Valor Cota  Valor Bruto  \\\n0  XP Long Short FIC FIM     2020-02-28 6,902.02   2.91        20,105.88      \n1  Equitas Selection FIC FIA 2020-02-28 3,018.52   7.23        21,812.68      \n2  AZ Quest Multi FIC FIM    2020-02-28 1,464.80   12.95       18,967.40      \n3  Mauá Macro FIC FIM        2020-02-28 37.17      787.62      29,278.24      \n4  Bahia AM Maraú FIC de FIM 2020-02-28 33,810.43  2.56        86,466.95      \n\n      IR IOF  Valor Liquido Aplicacao Pendente  Total Bruto     period  \n0 38.48   0  20,067.40       0                 20,105.88    2020-02-28  \n1 286.90  0  21,525.78       0                 21,812.68    2020-02-28  \n2 93.33   0  18,874.07       0                 18,967.40    2020-02-28  \n3 186.19  0  29,092.05       0                 29,278.24    2020-02-28  \n4 67.77   0  86,399.18       0                 86,466.95    2020-02-28  ",
      "text/html": "<div>\n<style scoped>\n    .dataframe tbody tr th:only-of-type {\n        vertical-align: middle;\n    }\n\n    .dataframe tbody tr th {\n        vertical-align: top;\n    }\n\n    .dataframe thead th {\n        text-align: right;\n    }\n</style>\n<table border=\"1\" class=\"dataframe\">\n  <thead>\n    <tr style=\"text-align: right;\">\n      <th></th>\n      <th>Nome</th>\n      <th>Data</th>\n      <th>Qtd Cotas</th>\n      <th>Valor Cota</th>\n      <th>Valor Bruto</th>\n      <th>IR</th>\n      <th>IOF</th>\n      <th>Valor Liquido</th>\n      <th>Aplicacao Pendente</th>\n      <th>Total Bruto</th>\n      <th>period</th>\n    </tr>\n  </thead>\n  <tbody>\n    <tr>\n      <th>0</th>\n      <td>XP Long Short FIC FIM</td>\n      <td>2020-02-28</td>\n      <td>6,902.02</td>\n      <td>2.91</td>\n      <td>20,105.88</td>\n      <td>38.48</td>\n      <td>0</td>\n      <td>20,067.40</td>\n      <td>0</td>\n      <td>20,105.88</td>\n      <td>2020-02-28</td>\n    </tr>\n    <tr>\n      <th>1</th>\n      <td>Equitas Selection FIC FIA</td>\n      <td>2020-02-28</td>\n      <td>3,018.52</td>\n      <td>7.23</td>\n      <td>21,812.68</td>\n      <td>286.90</td>\n      <td>0</td>\n      <td>21,525.78</td>\n      <td>0</td>\n      <td>21,812.68</td>\n      <td>2020-02-28</td>\n    </tr>\n    <tr>\n      <th>2</th>\n      <td>AZ Quest Multi FIC FIM</td>\n      <td>2020-02-28</td>\n      <td>1,464.80</td>\n      <td>12.95</td>\n      <td>18,967.40</td>\n      <td>93.33</td>\n      <td>0</td>\n      <td>18,874.07</td>\n      <td>0</td>\n      <td>18,967.40</td>\n      <td>2020-02-28</td>\n    </tr>\n    <tr>\n      <th>3</th>\n      <td>Mauá Macro FIC FIM</td>\n      <td>2020-02-28</td>\n      <td>37.17</td>\n      <td>787.62</td>\n      <td>29,278.24</td>\n      <td>186.19</td>\n      <td>0</td>\n      <td>29,092.05</td>\n      <td>0</td>\n      <td>29,278.24</td>\n      <td>2020-02-28</td>\n    </tr>\n    <tr>\n      <th>4</th>\n      <td>Bahia AM Maraú FIC de FIM</td>\n      <td>2020-02-28</td>\n      <td>33,810.43</td>\n      <td>2.56</td>\n      <td>86,466.95</td>\n      <td>67.77</td>\n      <td>0</td>\n      <td>86,399.18</td>\n      <td>0</td>\n      <td>86,466.95</td>\n      <td>2020-02-28</td>\n    </tr>\n  </tbody>\n</table>\n</div>"
     },
     "metadata": {}
    },
    {
     "output_type": "display_data",
     "data": {
      "text/plain": "     Papel  Qtd Disponivel  Qtd Projetada  Qtd Dia  Qtde Total  Ult Cotacao  \\\n0  IBFF11   50              0              0       50.00       100.10         \n1  BCFF11   8               0              0       8.00        98.17          \n2  CNES11   11              0              0       11.00       83.50          \n3  OULG11B  50              0              0       50.00       105.00         \n4  RNGO11   49              0              0       49.00       96.61          \n\n   Financeiro     period  \n0 5,005.00    2020-02-28  \n1 785.36      2020-02-28  \n2 918.50      2020-02-28  \n3 5,250.00    2020-02-28  \n4 4,733.89    2020-02-28  ",
      "text/html": "<div>\n<style scoped>\n    .dataframe tbody tr th:only-of-type {\n        vertical-align: middle;\n    }\n\n    .dataframe tbody tr th {\n        vertical-align: top;\n    }\n\n    .dataframe thead th {\n        text-align: right;\n    }\n</style>\n<table border=\"1\" class=\"dataframe\">\n  <thead>\n    <tr style=\"text-align: right;\">\n      <th></th>\n      <th>Papel</th>\n      <th>Qtd Disponivel</th>\n      <th>Qtd Projetada</th>\n      <th>Qtd Dia</th>\n      <th>Qtde Total</th>\n      <th>Ult Cotacao</th>\n      <th>Financeiro</th>\n      <th>period</th>\n    </tr>\n  </thead>\n  <tbody>\n    <tr>\n      <th>0</th>\n      <td>IBFF11</td>\n      <td>50</td>\n      <td>0</td>\n      <td>0</td>\n      <td>50.00</td>\n      <td>100.10</td>\n      <td>5,005.00</td>\n      <td>2020-02-28</td>\n    </tr>\n    <tr>\n      <th>1</th>\n      <td>BCFF11</td>\n      <td>8</td>\n      <td>0</td>\n      <td>0</td>\n      <td>8.00</td>\n      <td>98.17</td>\n      <td>785.36</td>\n      <td>2020-02-28</td>\n    </tr>\n    <tr>\n      <th>2</th>\n      <td>CNES11</td>\n      <td>11</td>\n      <td>0</td>\n      <td>0</td>\n      <td>11.00</td>\n      <td>83.50</td>\n      <td>918.50</td>\n      <td>2020-02-28</td>\n    </tr>\n    <tr>\n      <th>3</th>\n      <td>OULG11B</td>\n      <td>50</td>\n      <td>0</td>\n      <td>0</td>\n      <td>50.00</td>\n      <td>105.00</td>\n      <td>5,250.00</td>\n      <td>2020-02-28</td>\n    </tr>\n    <tr>\n      <th>4</th>\n      <td>RNGO11</td>\n      <td>49</td>\n      <td>0</td>\n      <td>0</td>\n      <td>49.00</td>\n      <td>96.61</td>\n      <td>4,733.89</td>\n      <td>2020-02-28</td>\n    </tr>\n  </tbody>\n</table>\n</div>"
     },
     "metadata": {}
    },
    {
     "output_type": "display_data",
     "data": {
      "text/plain": "    Papel        Tipo Qtd Provisionada Dt Pagamento  Valor Provisionado  \\\n0  RNGO11  RENDIMENTO  49               13/03/2020  23.03                 \n1  RNGO11  RENDIMENTO  49               14/10/2019  24.01                 \n2  RNGO11  RENDIMENTO  49               14/08/2019  24.01                 \n3  RNGO11  RENDIMENTO  49               15/07/2019  26.95                 \n4  RNGO11  RENDIMENTO  49               15/05/2020  20.58                 \n\n      period  \n0 2020-02-28  \n1 2019-09-30  \n2 2019-07-31  \n3 2019-06-28  \n4 2020-04-30  ",
      "text/html": "<div>\n<style scoped>\n    .dataframe tbody tr th:only-of-type {\n        vertical-align: middle;\n    }\n\n    .dataframe tbody tr th {\n        vertical-align: top;\n    }\n\n    .dataframe thead th {\n        text-align: right;\n    }\n</style>\n<table border=\"1\" class=\"dataframe\">\n  <thead>\n    <tr style=\"text-align: right;\">\n      <th></th>\n      <th>Papel</th>\n      <th>Tipo</th>\n      <th>Qtd Provisionada</th>\n      <th>Dt Pagamento</th>\n      <th>Valor Provisionado</th>\n      <th>period</th>\n    </tr>\n  </thead>\n  <tbody>\n    <tr>\n      <th>0</th>\n      <td>RNGO11</td>\n      <td>RENDIMENTO</td>\n      <td>49</td>\n      <td>13/03/2020</td>\n      <td>23.03</td>\n      <td>2020-02-28</td>\n    </tr>\n    <tr>\n      <th>1</th>\n      <td>RNGO11</td>\n      <td>RENDIMENTO</td>\n      <td>49</td>\n      <td>14/10/2019</td>\n      <td>24.01</td>\n      <td>2019-09-30</td>\n    </tr>\n    <tr>\n      <th>2</th>\n      <td>RNGO11</td>\n      <td>RENDIMENTO</td>\n      <td>49</td>\n      <td>14/08/2019</td>\n      <td>24.01</td>\n      <td>2019-07-31</td>\n    </tr>\n    <tr>\n      <th>3</th>\n      <td>RNGO11</td>\n      <td>RENDIMENTO</td>\n      <td>49</td>\n      <td>15/07/2019</td>\n      <td>26.95</td>\n      <td>2019-06-28</td>\n    </tr>\n    <tr>\n      <th>4</th>\n      <td>RNGO11</td>\n      <td>RENDIMENTO</td>\n      <td>49</td>\n      <td>15/05/2020</td>\n      <td>20.58</td>\n      <td>2020-04-30</td>\n    </tr>\n  </tbody>\n</table>\n</div>"
     },
     "metadata": {}
    }
   ],
   "source": [
    "display(stocks.head())\n",
    "display(pickings.head())\n",
    "display(fis.head())\n",
    "display(fiis.head())\n",
    "display(picking_fii.head())"
   ]
  },
  {
   "cell_type": "markdown",
   "metadata": {},
   "source": [
    "# Analise de fundo imobiliario"
   ]
  },
  {
   "cell_type": "code",
   "execution_count": 98,
   "metadata": {},
   "outputs": [
    {
     "output_type": "stream",
     "name": "stderr",
     "text": "Summarize dataset: 100%|██████████| 25/25 [00:13<00:00,  1.81it/s, Completed]\nGenerate report structure: 100%|██████████| 1/1 [00:04<00:00,  4.36s/it]\nRender HTML: 100%|██████████| 1/1 [00:01<00:00,  1.14s/it]\nExport report to file: 100%|██████████| 1/1 [00:00<00:00, 74.44it/s]\n"
    }
   ],
   "source": [
    "report = ProfileReport(fis)\n",
    "\n",
    "report.to_file(output_file='profile_teste.html')"
   ]
  },
  {
   "cell_type": "code",
   "execution_count": 99,
   "metadata": {},
   "outputs": [
    {
     "output_type": "execute_result",
     "data": {
      "text/plain": "                       Nome       Data  Qtd Cotas  Valor Cota  Valor Bruto  \\\n139  AZ Quest Multi FIC FIM 2017-03-31 1,516.42   9.95        15,094.10      \n128  AZ Quest Multi FIC FIM 2017-04-28 1,516.42   10.00       15,160.90      \n88   AZ Quest Multi FIC FIM 2017-05-31 1,516.42   9.73        14,749.34      \n92   AZ Quest Multi FIC FIM 2017-06-30 1,516.42   9.80        14,853.49      \n114  AZ Quest Multi FIC FIM 2017-07-31 1,516.42   10.15       15,389.53      \n\n       IR  IOF  Valor Liquido  Aplicacao Pendente  Total Bruto     period  \n139 9.94   0   15,034.29       0                  15,094.10    2017-03-31  \n128 36.20  0   15,124.70       0                  15,160.90    2017-04-28  \n88  0.00   0   14,749.34       0                  14,749.34    2017-05-31  \n92  0.00   0   14,853.49       0                  14,853.49    2017-06-30  \n114 87.64  0   15,301.89       0                  15,389.53    2017-07-31  ",
      "text/html": "<div>\n<style scoped>\n    .dataframe tbody tr th:only-of-type {\n        vertical-align: middle;\n    }\n\n    .dataframe tbody tr th {\n        vertical-align: top;\n    }\n\n    .dataframe thead th {\n        text-align: right;\n    }\n</style>\n<table border=\"1\" class=\"dataframe\">\n  <thead>\n    <tr style=\"text-align: right;\">\n      <th></th>\n      <th>Nome</th>\n      <th>Data</th>\n      <th>Qtd Cotas</th>\n      <th>Valor Cota</th>\n      <th>Valor Bruto</th>\n      <th>IR</th>\n      <th>IOF</th>\n      <th>Valor Liquido</th>\n      <th>Aplicacao Pendente</th>\n      <th>Total Bruto</th>\n      <th>period</th>\n    </tr>\n  </thead>\n  <tbody>\n    <tr>\n      <th>139</th>\n      <td>AZ Quest Multi FIC FIM</td>\n      <td>2017-03-31</td>\n      <td>1,516.42</td>\n      <td>9.95</td>\n      <td>15,094.10</td>\n      <td>9.94</td>\n      <td>0</td>\n      <td>15,034.29</td>\n      <td>0</td>\n      <td>15,094.10</td>\n      <td>2017-03-31</td>\n    </tr>\n    <tr>\n      <th>128</th>\n      <td>AZ Quest Multi FIC FIM</td>\n      <td>2017-04-28</td>\n      <td>1,516.42</td>\n      <td>10.00</td>\n      <td>15,160.90</td>\n      <td>36.20</td>\n      <td>0</td>\n      <td>15,124.70</td>\n      <td>0</td>\n      <td>15,160.90</td>\n      <td>2017-04-28</td>\n    </tr>\n    <tr>\n      <th>88</th>\n      <td>AZ Quest Multi FIC FIM</td>\n      <td>2017-05-31</td>\n      <td>1,516.42</td>\n      <td>9.73</td>\n      <td>14,749.34</td>\n      <td>0.00</td>\n      <td>0</td>\n      <td>14,749.34</td>\n      <td>0</td>\n      <td>14,749.34</td>\n      <td>2017-05-31</td>\n    </tr>\n    <tr>\n      <th>92</th>\n      <td>AZ Quest Multi FIC FIM</td>\n      <td>2017-06-30</td>\n      <td>1,516.42</td>\n      <td>9.80</td>\n      <td>14,853.49</td>\n      <td>0.00</td>\n      <td>0</td>\n      <td>14,853.49</td>\n      <td>0</td>\n      <td>14,853.49</td>\n      <td>2017-06-30</td>\n    </tr>\n    <tr>\n      <th>114</th>\n      <td>AZ Quest Multi FIC FIM</td>\n      <td>2017-07-31</td>\n      <td>1,516.42</td>\n      <td>10.15</td>\n      <td>15,389.53</td>\n      <td>87.64</td>\n      <td>0</td>\n      <td>15,301.89</td>\n      <td>0</td>\n      <td>15,389.53</td>\n      <td>2017-07-31</td>\n    </tr>\n  </tbody>\n</table>\n</div>"
     },
     "metadata": {},
     "execution_count": 99
    }
   ],
   "source": [
    "fis.sort_values(['Nome', 'period']).head()"
   ]
  },
  {
   "cell_type": "code",
   "execution_count": null,
   "metadata": {},
   "outputs": [],
   "source": []
  },
  {
   "cell_type": "code",
   "execution_count": 100,
   "metadata": {},
   "outputs": [
    {
     "output_type": "execute_result",
     "data": {
      "text/plain": "                       Nome       Data  Qtd Cotas  Valor Cota  Valor Bruto  \\\n139  AZ Quest Multi FIC FIM 2017-03-31 1,516.42   9.95        15,094.10      \n128  AZ Quest Multi FIC FIM 2017-04-28 1,516.42   10.00       15,160.90      \n88   AZ Quest Multi FIC FIM 2017-05-31 1,516.42   9.73        14,749.34      \n92   AZ Quest Multi FIC FIM 2017-06-30 1,516.42   9.80        14,853.49      \n114  AZ Quest Multi FIC FIM 2017-07-31 1,516.42   10.15       15,389.53      \n104  AZ Quest Multi FIC FIM 2017-08-31 1,516.42   10.32       15,644.93      \n73   AZ Quest Multi FIC FIM 2017-09-29 1,516.42   10.55       16,004.66      \n57   AZ Quest Multi FIC FIM 2017-10-31 1,516.42   10.51       15,934.88      \n41   AZ Quest Multi FIC FIM 2017-11-30 1,503.23   10.50       15,784.72      \n50   AZ Quest Multi FIC FIM 2017-12-29 1,503.23   10.62       15,969.51      \n118  AZ Quest Multi FIC FIM 2018-01-31 1,503.23   10.87       16,347.11      \n99   AZ Quest Multi FIC FIM 2018-02-28 1,503.23   11.03       16,582.00      \n148  AZ Quest Multi FIC FIM 2018-03-29 1,503.23   11.12       16,712.40      \n167  AZ Quest Multi FIC FIM 2018-04-30 1,503.23   11.13       16,735.42      \n143  AZ Quest Multi FIC FIM 2018-05-30 1,491.67   11.07       16,509.69      \n123  AZ Quest Multi FIC FIM 2018-06-29 1,491.67   11.21       16,716.87      \n190  AZ Quest Multi FIC FIM 2018-07-31 1,491.67   11.29       16,837.61      \n172  AZ Quest Multi FIC FIM 2018-08-31 1,491.67   11.28       16,823.70      \n203  AZ Quest Multi FIC FIM 2018-09-28 1,491.67   11.25       16,786.05      \n226  AZ Quest Multi FIC FIM 2018-10-31 1,491.67   11.53       17,205.80      \n62   AZ Quest Multi FIC FIM 2018-11-30 1,481.69   11.58       17,164.88      \n67   AZ Quest Multi FIC FIM 2018-12-31 1,481.69   11.61       17,207.34      \n220  AZ Quest Multi FIC FIM 2019-01-31 1,481.69   11.81       17,497.00      \n208  AZ Quest Multi FIC FIM 2019-02-28 1,481.69   11.75       17,413.09      \n177  AZ Quest Multi FIC FIM 2019-03-29 1,481.69   11.72       17,370.50      \n195  AZ Quest Multi FIC FIM 2019-04-30 1,481.69   11.72       17,367.77      \n214  AZ Quest Multi FIC FIM 2019-05-31 1,476.76   11.85       17,496.02      \n27   AZ Quest Multi FIC FIM 2019-06-28 1,476.76   12.10       17,872.39      \n21   AZ Quest Multi FIC FIM 2019-07-31 1,476.76   12.13       17,914.04      \n233  AZ Quest Multi FIC FIM 2019-08-30 1,476.76   12.16       17,956.62      \n9    AZ Quest Multi FIC FIM 2019-09-30 1,476.76   12.33       18,214.14      \n155  AZ Quest Multi FIC FIM 2019-10-31 1,476.76   12.54       18,525.29      \n185  AZ Quest Multi FIC FIM 2019-11-29 1,464.80   12.52       18,345.13      \n134  AZ Quest Multi FIC FIM 2019-12-31 1,464.80   12.74       18,661.13      \n162  AZ Quest Multi FIC FIM 2020-01-31 1,464.80   12.84       18,801.04      \n2    AZ Quest Multi FIC FIM 2020-02-28 1,464.80   12.95       18,967.40      \n\n        IR  IOF  Valor Liquido  Aplicacao Pendente  Total Bruto     period  \n139 9.94    0   15,034.29       0                  15,094.10    2017-03-31  \n128 36.20   0   15,124.70       0                  15,160.90    2017-04-28  \n88  0.00    0   14,749.34       0                  14,749.34    2017-05-31  \n92  0.00    0   14,853.49       0                  14,853.49    2017-06-30  \n114 87.64   0   15,301.89       0                  15,389.53    2017-07-31  \n104 145.10  0   15,499.83       0                  15,644.93    2017-08-31  \n73  200.93  0   15,803.73       0                  16,004.66    2017-09-29  \n57  186.97  0   15,747.91       0                  15,934.88    2017-10-31  \n41  46.16   0   15,738.56       0                  15,784.72    2017-11-30  \n50  83.11   0   15,886.40       0                  15,969.51    2017-12-28  \n118 158.63  0   16,188.48       0                  16,347.11    2018-01-31  \n99  205.61  0   16,376.39       0                  16,582.00    2018-02-28  \n148 185.42  0   16,526.98       0                  16,712.40    2018-03-29  \n167 189.45  0   16,545.97       0                  16,735.42    2018-04-30  \n143 44.40   0   16,465.29       0                  16,509.69    2018-05-30  \n123 80.65   0   16,636.22       0                  16,716.87    2018-06-29  \n190 101.78  0   16,735.83       0                  16,837.61    2018-07-31  \n172 99.35   0   16,724.35       0                  16,823.70    2018-08-31  \n203 92.76   0   16,693.29       0                  16,786.05    2018-09-28  \n226 166.21  0   17,039.59       0                  17,205.80    2018-10-31  \n62  63.67   0   17,101.21       0                  17,164.88    2018-11-30  \n67  71.10   0   17,136.24       0                  17,207.34    2018-12-28  \n220 121.78  0   17,375.22       0                  17,497.00    2019-01-31  \n208 107.11  0   17,305.98       0                  17,413.09    2019-02-28  \n177 30.84   0   17,339.66       0                  17,370.50    2019-03-29  \n195 30.43   0   17,337.34       0                  17,367.77    2019-04-30  \n214 0.00    0   17,496.02       0                  17,496.02    2019-05-31  \n27  56.45   0   17,815.94       0                  17,872.39    2019-06-28  \n21  62.70   0   17,851.34       0                  17,914.04    2019-07-31  \n233 69.08   0   17,887.54       0                  17,956.62    2019-08-30  \n9   107.71  0   18,106.43       0                  18,214.14    2019-09-30  \n155 154.39  0   18,370.90       0                  18,525.29    2019-10-31  \n185 0.00    0   18,345.13       0                  18,345.13    2019-11-29  \n134 47.40   0   18,613.73       0                  18,661.13    2019-12-31  \n162 68.38   0   18,732.66       0                  18,801.04    2020-01-31  \n2   93.33   0   18,874.07       0                  18,967.40    2020-02-28  ",
      "text/html": "<div>\n<style scoped>\n    .dataframe tbody tr th:only-of-type {\n        vertical-align: middle;\n    }\n\n    .dataframe tbody tr th {\n        vertical-align: top;\n    }\n\n    .dataframe thead th {\n        text-align: right;\n    }\n</style>\n<table border=\"1\" class=\"dataframe\">\n  <thead>\n    <tr style=\"text-align: right;\">\n      <th></th>\n      <th>Nome</th>\n      <th>Data</th>\n      <th>Qtd Cotas</th>\n      <th>Valor Cota</th>\n      <th>Valor Bruto</th>\n      <th>IR</th>\n      <th>IOF</th>\n      <th>Valor Liquido</th>\n      <th>Aplicacao Pendente</th>\n      <th>Total Bruto</th>\n      <th>period</th>\n    </tr>\n  </thead>\n  <tbody>\n    <tr>\n      <th>139</th>\n      <td>AZ Quest Multi FIC FIM</td>\n      <td>2017-03-31</td>\n      <td>1,516.42</td>\n      <td>9.95</td>\n      <td>15,094.10</td>\n      <td>9.94</td>\n      <td>0</td>\n      <td>15,034.29</td>\n      <td>0</td>\n      <td>15,094.10</td>\n      <td>2017-03-31</td>\n    </tr>\n    <tr>\n      <th>128</th>\n      <td>AZ Quest Multi FIC FIM</td>\n      <td>2017-04-28</td>\n      <td>1,516.42</td>\n      <td>10.00</td>\n      <td>15,160.90</td>\n      <td>36.20</td>\n      <td>0</td>\n      <td>15,124.70</td>\n      <td>0</td>\n      <td>15,160.90</td>\n      <td>2017-04-28</td>\n    </tr>\n    <tr>\n      <th>88</th>\n      <td>AZ Quest Multi FIC FIM</td>\n      <td>2017-05-31</td>\n      <td>1,516.42</td>\n      <td>9.73</td>\n      <td>14,749.34</td>\n      <td>0.00</td>\n      <td>0</td>\n      <td>14,749.34</td>\n      <td>0</td>\n      <td>14,749.34</td>\n      <td>2017-05-31</td>\n    </tr>\n    <tr>\n      <th>92</th>\n      <td>AZ Quest Multi FIC FIM</td>\n      <td>2017-06-30</td>\n      <td>1,516.42</td>\n      <td>9.80</td>\n      <td>14,853.49</td>\n      <td>0.00</td>\n      <td>0</td>\n      <td>14,853.49</td>\n      <td>0</td>\n      <td>14,853.49</td>\n      <td>2017-06-30</td>\n    </tr>\n    <tr>\n      <th>114</th>\n      <td>AZ Quest Multi FIC FIM</td>\n      <td>2017-07-31</td>\n      <td>1,516.42</td>\n      <td>10.15</td>\n      <td>15,389.53</td>\n      <td>87.64</td>\n      <td>0</td>\n      <td>15,301.89</td>\n      <td>0</td>\n      <td>15,389.53</td>\n      <td>2017-07-31</td>\n    </tr>\n    <tr>\n      <th>104</th>\n      <td>AZ Quest Multi FIC FIM</td>\n      <td>2017-08-31</td>\n      <td>1,516.42</td>\n      <td>10.32</td>\n      <td>15,644.93</td>\n      <td>145.10</td>\n      <td>0</td>\n      <td>15,499.83</td>\n      <td>0</td>\n      <td>15,644.93</td>\n      <td>2017-08-31</td>\n    </tr>\n    <tr>\n      <th>73</th>\n      <td>AZ Quest Multi FIC FIM</td>\n      <td>2017-09-29</td>\n      <td>1,516.42</td>\n      <td>10.55</td>\n      <td>16,004.66</td>\n      <td>200.93</td>\n      <td>0</td>\n      <td>15,803.73</td>\n      <td>0</td>\n      <td>16,004.66</td>\n      <td>2017-09-29</td>\n    </tr>\n    <tr>\n      <th>57</th>\n      <td>AZ Quest Multi FIC FIM</td>\n      <td>2017-10-31</td>\n      <td>1,516.42</td>\n      <td>10.51</td>\n      <td>15,934.88</td>\n      <td>186.97</td>\n      <td>0</td>\n      <td>15,747.91</td>\n      <td>0</td>\n      <td>15,934.88</td>\n      <td>2017-10-31</td>\n    </tr>\n    <tr>\n      <th>41</th>\n      <td>AZ Quest Multi FIC FIM</td>\n      <td>2017-11-30</td>\n      <td>1,503.23</td>\n      <td>10.50</td>\n      <td>15,784.72</td>\n      <td>46.16</td>\n      <td>0</td>\n      <td>15,738.56</td>\n      <td>0</td>\n      <td>15,784.72</td>\n      <td>2017-11-30</td>\n    </tr>\n    <tr>\n      <th>50</th>\n      <td>AZ Quest Multi FIC FIM</td>\n      <td>2017-12-29</td>\n      <td>1,503.23</td>\n      <td>10.62</td>\n      <td>15,969.51</td>\n      <td>83.11</td>\n      <td>0</td>\n      <td>15,886.40</td>\n      <td>0</td>\n      <td>15,969.51</td>\n      <td>2017-12-28</td>\n    </tr>\n    <tr>\n      <th>118</th>\n      <td>AZ Quest Multi FIC FIM</td>\n      <td>2018-01-31</td>\n      <td>1,503.23</td>\n      <td>10.87</td>\n      <td>16,347.11</td>\n      <td>158.63</td>\n      <td>0</td>\n      <td>16,188.48</td>\n      <td>0</td>\n      <td>16,347.11</td>\n      <td>2018-01-31</td>\n    </tr>\n    <tr>\n      <th>99</th>\n      <td>AZ Quest Multi FIC FIM</td>\n      <td>2018-02-28</td>\n      <td>1,503.23</td>\n      <td>11.03</td>\n      <td>16,582.00</td>\n      <td>205.61</td>\n      <td>0</td>\n      <td>16,376.39</td>\n      <td>0</td>\n      <td>16,582.00</td>\n      <td>2018-02-28</td>\n    </tr>\n    <tr>\n      <th>148</th>\n      <td>AZ Quest Multi FIC FIM</td>\n      <td>2018-03-29</td>\n      <td>1,503.23</td>\n      <td>11.12</td>\n      <td>16,712.40</td>\n      <td>185.42</td>\n      <td>0</td>\n      <td>16,526.98</td>\n      <td>0</td>\n      <td>16,712.40</td>\n      <td>2018-03-29</td>\n    </tr>\n    <tr>\n      <th>167</th>\n      <td>AZ Quest Multi FIC FIM</td>\n      <td>2018-04-30</td>\n      <td>1,503.23</td>\n      <td>11.13</td>\n      <td>16,735.42</td>\n      <td>189.45</td>\n      <td>0</td>\n      <td>16,545.97</td>\n      <td>0</td>\n      <td>16,735.42</td>\n      <td>2018-04-30</td>\n    </tr>\n    <tr>\n      <th>143</th>\n      <td>AZ Quest Multi FIC FIM</td>\n      <td>2018-05-30</td>\n      <td>1,491.67</td>\n      <td>11.07</td>\n      <td>16,509.69</td>\n      <td>44.40</td>\n      <td>0</td>\n      <td>16,465.29</td>\n      <td>0</td>\n      <td>16,509.69</td>\n      <td>2018-05-30</td>\n    </tr>\n    <tr>\n      <th>123</th>\n      <td>AZ Quest Multi FIC FIM</td>\n      <td>2018-06-29</td>\n      <td>1,491.67</td>\n      <td>11.21</td>\n      <td>16,716.87</td>\n      <td>80.65</td>\n      <td>0</td>\n      <td>16,636.22</td>\n      <td>0</td>\n      <td>16,716.87</td>\n      <td>2018-06-29</td>\n    </tr>\n    <tr>\n      <th>190</th>\n      <td>AZ Quest Multi FIC FIM</td>\n      <td>2018-07-31</td>\n      <td>1,491.67</td>\n      <td>11.29</td>\n      <td>16,837.61</td>\n      <td>101.78</td>\n      <td>0</td>\n      <td>16,735.83</td>\n      <td>0</td>\n      <td>16,837.61</td>\n      <td>2018-07-31</td>\n    </tr>\n    <tr>\n      <th>172</th>\n      <td>AZ Quest Multi FIC FIM</td>\n      <td>2018-08-31</td>\n      <td>1,491.67</td>\n      <td>11.28</td>\n      <td>16,823.70</td>\n      <td>99.35</td>\n      <td>0</td>\n      <td>16,724.35</td>\n      <td>0</td>\n      <td>16,823.70</td>\n      <td>2018-08-31</td>\n    </tr>\n    <tr>\n      <th>203</th>\n      <td>AZ Quest Multi FIC FIM</td>\n      <td>2018-09-28</td>\n      <td>1,491.67</td>\n      <td>11.25</td>\n      <td>16,786.05</td>\n      <td>92.76</td>\n      <td>0</td>\n      <td>16,693.29</td>\n      <td>0</td>\n      <td>16,786.05</td>\n      <td>2018-09-28</td>\n    </tr>\n    <tr>\n      <th>226</th>\n      <td>AZ Quest Multi FIC FIM</td>\n      <td>2018-10-31</td>\n      <td>1,491.67</td>\n      <td>11.53</td>\n      <td>17,205.80</td>\n      <td>166.21</td>\n      <td>0</td>\n      <td>17,039.59</td>\n      <td>0</td>\n      <td>17,205.80</td>\n      <td>2018-10-31</td>\n    </tr>\n    <tr>\n      <th>62</th>\n      <td>AZ Quest Multi FIC FIM</td>\n      <td>2018-11-30</td>\n      <td>1,481.69</td>\n      <td>11.58</td>\n      <td>17,164.88</td>\n      <td>63.67</td>\n      <td>0</td>\n      <td>17,101.21</td>\n      <td>0</td>\n      <td>17,164.88</td>\n      <td>2018-11-30</td>\n    </tr>\n    <tr>\n      <th>67</th>\n      <td>AZ Quest Multi FIC FIM</td>\n      <td>2018-12-31</td>\n      <td>1,481.69</td>\n      <td>11.61</td>\n      <td>17,207.34</td>\n      <td>71.10</td>\n      <td>0</td>\n      <td>17,136.24</td>\n      <td>0</td>\n      <td>17,207.34</td>\n      <td>2018-12-28</td>\n    </tr>\n    <tr>\n      <th>220</th>\n      <td>AZ Quest Multi FIC FIM</td>\n      <td>2019-01-31</td>\n      <td>1,481.69</td>\n      <td>11.81</td>\n      <td>17,497.00</td>\n      <td>121.78</td>\n      <td>0</td>\n      <td>17,375.22</td>\n      <td>0</td>\n      <td>17,497.00</td>\n      <td>2019-01-31</td>\n    </tr>\n    <tr>\n      <th>208</th>\n      <td>AZ Quest Multi FIC FIM</td>\n      <td>2019-02-28</td>\n      <td>1,481.69</td>\n      <td>11.75</td>\n      <td>17,413.09</td>\n      <td>107.11</td>\n      <td>0</td>\n      <td>17,305.98</td>\n      <td>0</td>\n      <td>17,413.09</td>\n      <td>2019-02-28</td>\n    </tr>\n    <tr>\n      <th>177</th>\n      <td>AZ Quest Multi FIC FIM</td>\n      <td>2019-03-29</td>\n      <td>1,481.69</td>\n      <td>11.72</td>\n      <td>17,370.50</td>\n      <td>30.84</td>\n      <td>0</td>\n      <td>17,339.66</td>\n      <td>0</td>\n      <td>17,370.50</td>\n      <td>2019-03-29</td>\n    </tr>\n    <tr>\n      <th>195</th>\n      <td>AZ Quest Multi FIC FIM</td>\n      <td>2019-04-30</td>\n      <td>1,481.69</td>\n      <td>11.72</td>\n      <td>17,367.77</td>\n      <td>30.43</td>\n      <td>0</td>\n      <td>17,337.34</td>\n      <td>0</td>\n      <td>17,367.77</td>\n      <td>2019-04-30</td>\n    </tr>\n    <tr>\n      <th>214</th>\n      <td>AZ Quest Multi FIC FIM</td>\n      <td>2019-05-31</td>\n      <td>1,476.76</td>\n      <td>11.85</td>\n      <td>17,496.02</td>\n      <td>0.00</td>\n      <td>0</td>\n      <td>17,496.02</td>\n      <td>0</td>\n      <td>17,496.02</td>\n      <td>2019-05-31</td>\n    </tr>\n    <tr>\n      <th>27</th>\n      <td>AZ Quest Multi FIC FIM</td>\n      <td>2019-06-28</td>\n      <td>1,476.76</td>\n      <td>12.10</td>\n      <td>17,872.39</td>\n      <td>56.45</td>\n      <td>0</td>\n      <td>17,815.94</td>\n      <td>0</td>\n      <td>17,872.39</td>\n      <td>2019-06-28</td>\n    </tr>\n    <tr>\n      <th>21</th>\n      <td>AZ Quest Multi FIC FIM</td>\n      <td>2019-07-31</td>\n      <td>1,476.76</td>\n      <td>12.13</td>\n      <td>17,914.04</td>\n      <td>62.70</td>\n      <td>0</td>\n      <td>17,851.34</td>\n      <td>0</td>\n      <td>17,914.04</td>\n      <td>2019-07-31</td>\n    </tr>\n    <tr>\n      <th>233</th>\n      <td>AZ Quest Multi FIC FIM</td>\n      <td>2019-08-30</td>\n      <td>1,476.76</td>\n      <td>12.16</td>\n      <td>17,956.62</td>\n      <td>69.08</td>\n      <td>0</td>\n      <td>17,887.54</td>\n      <td>0</td>\n      <td>17,956.62</td>\n      <td>2019-08-30</td>\n    </tr>\n    <tr>\n      <th>9</th>\n      <td>AZ Quest Multi FIC FIM</td>\n      <td>2019-09-30</td>\n      <td>1,476.76</td>\n      <td>12.33</td>\n      <td>18,214.14</td>\n      <td>107.71</td>\n      <td>0</td>\n      <td>18,106.43</td>\n      <td>0</td>\n      <td>18,214.14</td>\n      <td>2019-09-30</td>\n    </tr>\n    <tr>\n      <th>155</th>\n      <td>AZ Quest Multi FIC FIM</td>\n      <td>2019-10-31</td>\n      <td>1,476.76</td>\n      <td>12.54</td>\n      <td>18,525.29</td>\n      <td>154.39</td>\n      <td>0</td>\n      <td>18,370.90</td>\n      <td>0</td>\n      <td>18,525.29</td>\n      <td>2019-10-31</td>\n    </tr>\n    <tr>\n      <th>185</th>\n      <td>AZ Quest Multi FIC FIM</td>\n      <td>2019-11-29</td>\n      <td>1,464.80</td>\n      <td>12.52</td>\n      <td>18,345.13</td>\n      <td>0.00</td>\n      <td>0</td>\n      <td>18,345.13</td>\n      <td>0</td>\n      <td>18,345.13</td>\n      <td>2019-11-29</td>\n    </tr>\n    <tr>\n      <th>134</th>\n      <td>AZ Quest Multi FIC FIM</td>\n      <td>2019-12-31</td>\n      <td>1,464.80</td>\n      <td>12.74</td>\n      <td>18,661.13</td>\n      <td>47.40</td>\n      <td>0</td>\n      <td>18,613.73</td>\n      <td>0</td>\n      <td>18,661.13</td>\n      <td>2019-12-31</td>\n    </tr>\n    <tr>\n      <th>162</th>\n      <td>AZ Quest Multi FIC FIM</td>\n      <td>2020-01-31</td>\n      <td>1,464.80</td>\n      <td>12.84</td>\n      <td>18,801.04</td>\n      <td>68.38</td>\n      <td>0</td>\n      <td>18,732.66</td>\n      <td>0</td>\n      <td>18,801.04</td>\n      <td>2020-01-31</td>\n    </tr>\n    <tr>\n      <th>2</th>\n      <td>AZ Quest Multi FIC FIM</td>\n      <td>2020-02-28</td>\n      <td>1,464.80</td>\n      <td>12.95</td>\n      <td>18,967.40</td>\n      <td>93.33</td>\n      <td>0</td>\n      <td>18,874.07</td>\n      <td>0</td>\n      <td>18,967.40</td>\n      <td>2020-02-28</td>\n    </tr>\n  </tbody>\n</table>\n</div>"
     },
     "metadata": {},
     "execution_count": 100
    }
   ],
   "source": [
    "fis[fis['Nome'] == 'AZ Quest Multi FIC FIM'].sort_values('period')"
   ]
  },
  {
   "cell_type": "code",
   "execution_count": 101,
   "metadata": {
    "tags": [
     "outputPrepend"
    ]
   },
   "outputs": [
    {
     "output_type": "display_data",
     "data": {
      "application/vnd.plotly.v1+json": {
       "config": {
        "plotlyServerURL": "https://plot.ly"
       },
       "data": [
        {
         "connectgaps": true,
         "marker": {
          "size": 3
         },
         "mode": "lines+markers",
         "name": "XP Long Short FIC FIM",
         "opacity": 0.8,
         "textfont": {
          "color": "rgb(100,100,100)",
          "size": 9
         },
         "textposition": "top center",
         "type": "scatter",
         "x": [
          "2016-04-29T00:00:00",
          "2016-05-31T00:00:00",
          "2016-06-30T00:00:00",
          "2016-07-29T00:00:00",
          "2016-08-31T00:00:00",
          "2016-09-30T00:00:00",
          "2016-10-31T00:00:00",
          "2016-11-30T00:00:00",
          "2016-12-29T00:00:00",
          "2017-01-31T00:00:00",
          "2017-02-24T00:00:00",
          "2017-03-31T00:00:00",
          "2017-04-28T00:00:00",
          "2017-05-31T00:00:00",
          "2017-06-30T00:00:00",
          "2017-07-31T00:00:00",
          "2017-08-31T00:00:00",
          "2017-09-29T00:00:00",
          "2017-10-31T00:00:00",
          "2017-11-30T00:00:00",
          "2017-12-28T00:00:00",
          "2018-01-31T00:00:00",
          "2018-02-28T00:00:00",
          "2018-03-29T00:00:00",
          "2018-04-30T00:00:00",
          "2018-05-30T00:00:00",
          "2018-06-29T00:00:00",
          "2018-07-31T00:00:00",
          "2018-08-31T00:00:00",
          "2018-09-28T00:00:00",
          "2018-10-31T00:00:00",
          "2018-11-30T00:00:00",
          "2018-12-28T00:00:00",
          "2019-01-31T00:00:00",
          "2019-02-28T00:00:00",
          "2019-03-29T00:00:00",
          "2019-04-30T00:00:00",
          "2019-05-31T00:00:00",
          "2019-06-28T00:00:00",
          "2019-07-31T00:00:00",
          "2019-08-30T00:00:00",
          "2019-09-30T00:00:00",
          "2019-10-31T00:00:00",
          "2019-11-29T00:00:00",
          "2019-12-31T00:00:00",
          "2020-01-31T00:00:00",
          "2020-02-28T00:00:00",
          "2020-03-31T00:00:00",
          "2020-04-30T00:00:00",
          "2020-05-29T00:00:00"
         ],
         "y": [
          15434.434694344429,
          15854.05491604877,
          16015.509661350216,
          16321.216227626783,
          16661.15697006765,
          16761.743988503797,
          17252.141804816147,
          17297.941793495782,
          17205.100527167375,
          17572.65608779457,
          17615.09756546425,
          17357.655436064248,
          17129.899101002396,
          17302.4538470028,
          17662.65649152347,
          17688.983762960994,
          17858.666521958774,
          17861.00656055689,
          17904.666765557842,
          17564.714925980614,
          17616.830893146198,
          18073.65232952519,
          18375.73885367225,
          18885.204828872622,
          19246.943131043827,
          19023.348389397997,
          19260.534044594002,
          19341.85439166148,
          18945.938571674604,
          19099.09353070157,
          19502.85725002399,
          19314.054699593038,
          19310.487553712865,
          19432.21782857247,
          19675.657850350533,
          19665.79188604422,
          19668.524044048252,
          19638.200875145252,
          19929.633287184246,
          19719.67441350039,
          19873.951495719844,
          19870.882077029,
          19842.65418477289,
          19849.301269968706,
          19769.439774187686,
          20058.755396752094,
          20105.879500427793,
          19276.18977846161,
          19586.09972167676,
          19968.527040985035
         ]
        }
       ],
       "layout": {
        "height": 300,
        "legend": {
         "font": {
          "size": 9
         },
         "orientation": "h"
        },
        "template": {
         "data": {
          "bar": [
           {
            "error_x": {
             "color": "#2a3f5f"
            },
            "error_y": {
             "color": "#2a3f5f"
            },
            "marker": {
             "line": {
              "color": "white",
              "width": 0.5
             }
            },
            "type": "bar"
           }
          ],
          "barpolar": [
           {
            "marker": {
             "line": {
              "color": "white",
              "width": 0.5
             }
            },
            "type": "barpolar"
           }
          ],
          "carpet": [
           {
            "aaxis": {
             "endlinecolor": "#2a3f5f",
             "gridcolor": "#C8D4E3",
             "linecolor": "#C8D4E3",
             "minorgridcolor": "#C8D4E3",
             "startlinecolor": "#2a3f5f"
            },
            "baxis": {
             "endlinecolor": "#2a3f5f",
             "gridcolor": "#C8D4E3",
             "linecolor": "#C8D4E3",
             "minorgridcolor": "#C8D4E3",
             "startlinecolor": "#2a3f5f"
            },
            "type": "carpet"
           }
          ],
          "choropleth": [
           {
            "colorbar": {
             "outlinewidth": 0,
             "ticks": ""
            },
            "type": "choropleth"
           }
          ],
          "contour": [
           {
            "colorbar": {
             "outlinewidth": 0,
             "ticks": ""
            },
            "colorscale": [
             [
              0,
              "#0d0887"
             ],
             [
              0.1111111111111111,
              "#46039f"
             ],
             [
              0.2222222222222222,
              "#7201a8"
             ],
             [
              0.3333333333333333,
              "#9c179e"
             ],
             [
              0.4444444444444444,
              "#bd3786"
             ],
             [
              0.5555555555555556,
              "#d8576b"
             ],
             [
              0.6666666666666666,
              "#ed7953"
             ],
             [
              0.7777777777777778,
              "#fb9f3a"
             ],
             [
              0.8888888888888888,
              "#fdca26"
             ],
             [
              1,
              "#f0f921"
             ]
            ],
            "type": "contour"
           }
          ],
          "contourcarpet": [
           {
            "colorbar": {
             "outlinewidth": 0,
             "ticks": ""
            },
            "type": "contourcarpet"
           }
          ],
          "heatmap": [
           {
            "colorbar": {
             "outlinewidth": 0,
             "ticks": ""
            },
            "colorscale": [
             [
              0,
              "#0d0887"
             ],
             [
              0.1111111111111111,
              "#46039f"
             ],
             [
              0.2222222222222222,
              "#7201a8"
             ],
             [
              0.3333333333333333,
              "#9c179e"
             ],
             [
              0.4444444444444444,
              "#bd3786"
             ],
             [
              0.5555555555555556,
              "#d8576b"
             ],
             [
              0.6666666666666666,
              "#ed7953"
             ],
             [
              0.7777777777777778,
              "#fb9f3a"
             ],
             [
              0.8888888888888888,
              "#fdca26"
             ],
             [
              1,
              "#f0f921"
             ]
            ],
            "type": "heatmap"
           }
          ],
          "heatmapgl": [
           {
            "colorbar": {
             "outlinewidth": 0,
             "ticks": ""
            },
            "colorscale": [
             [
              0,
              "#0d0887"
             ],
             [
              0.1111111111111111,
              "#46039f"
             ],
             [
              0.2222222222222222,
              "#7201a8"
             ],
             [
              0.3333333333333333,
              "#9c179e"
             ],
             [
              0.4444444444444444,
              "#bd3786"
             ],
             [
              0.5555555555555556,
              "#d8576b"
             ],
             [
              0.6666666666666666,
              "#ed7953"
             ],
             [
              0.7777777777777778,
              "#fb9f3a"
             ],
             [
              0.8888888888888888,
              "#fdca26"
             ],
             [
              1,
              "#f0f921"
             ]
            ],
            "type": "heatmapgl"
           }
          ],
          "histogram": [
           {
            "marker": {
             "colorbar": {
              "outlinewidth": 0,
              "ticks": ""
             }
            },
            "type": "histogram"
           }
          ],
          "histogram2d": [
           {
            "colorbar": {
             "outlinewidth": 0,
             "ticks": ""
            },
            "colorscale": [
             [
              0,
              "#0d0887"
             ],
             [
              0.1111111111111111,
              "#46039f"
             ],
             [
              0.2222222222222222,
              "#7201a8"
             ],
             [
              0.3333333333333333,
              "#9c179e"
             ],
             [
              0.4444444444444444,
              "#bd3786"
             ],
             [
              0.5555555555555556,
              "#d8576b"
             ],
             [
              0.6666666666666666,
              "#ed7953"
             ],
             [
              0.7777777777777778,
              "#fb9f3a"
             ],
             [
              0.8888888888888888,
              "#fdca26"
             ],
             [
              1,
              "#f0f921"
             ]
            ],
            "type": "histogram2d"
           }
          ],
          "histogram2dcontour": [
           {
            "colorbar": {
             "outlinewidth": 0,
             "ticks": ""
            },
            "colorscale": [
             [
              0,
              "#0d0887"
             ],
             [
              0.1111111111111111,
              "#46039f"
             ],
             [
              0.2222222222222222,
              "#7201a8"
             ],
             [
              0.3333333333333333,
              "#9c179e"
             ],
             [
              0.4444444444444444,
              "#bd3786"
             ],
             [
              0.5555555555555556,
              "#d8576b"
             ],
             [
              0.6666666666666666,
              "#ed7953"
             ],
             [
              0.7777777777777778,
              "#fb9f3a"
             ],
             [
              0.8888888888888888,
              "#fdca26"
             ],
             [
              1,
              "#f0f921"
             ]
            ],
            "type": "histogram2dcontour"
           }
          ],
          "mesh3d": [
           {
            "colorbar": {
             "outlinewidth": 0,
             "ticks": ""
            },
            "type": "mesh3d"
           }
          ],
          "parcoords": [
           {
            "line": {
             "colorbar": {
              "outlinewidth": 0,
              "ticks": ""
             }
            },
            "type": "parcoords"
           }
          ],
          "pie": [
           {
            "automargin": true,
            "type": "pie"
           }
          ],
          "scatter": [
           {
            "marker": {
             "colorbar": {
              "outlinewidth": 0,
              "ticks": ""
             }
            },
            "type": "scatter"
           }
          ],
          "scatter3d": [
           {
            "line": {
             "colorbar": {
              "outlinewidth": 0,
              "ticks": ""
             }
            },
            "marker": {
             "colorbar": {
              "outlinewidth": 0,
              "ticks": ""
             }
            },
            "type": "scatter3d"
           }
          ],
          "scattercarpet": [
           {
            "marker": {
             "colorbar": {
              "outlinewidth": 0,
              "ticks": ""
             }
            },
            "type": "scattercarpet"
           }
          ],
          "scattergeo": [
           {
            "marker": {
             "colorbar": {
              "outlinewidth": 0,
              "ticks": ""
             }
            },
            "type": "scattergeo"
           }
          ],
          "scattergl": [
           {
            "marker": {
             "colorbar": {
              "outlinewidth": 0,
              "ticks": ""
             }
            },
            "type": "scattergl"
           }
          ],
          "scattermapbox": [
           {
            "marker": {
             "colorbar": {
              "outlinewidth": 0,
              "ticks": ""
             }
            },
            "type": "scattermapbox"
           }
          ],
          "scatterpolar": [
           {
            "marker": {
             "colorbar": {
              "outlinewidth": 0,
              "ticks": ""
             }
            },
            "type": "scatterpolar"
           }
          ],
          "scatterpolargl": [
           {
            "marker": {
             "colorbar": {
              "outlinewidth": 0,
              "ticks": ""
             }
            },
            "type": "scatterpolargl"
           }
          ],
          "scatterternary": [
           {
            "marker": {
             "colorbar": {
              "outlinewidth": 0,
              "ticks": ""
             }
            },
            "type": "scatterternary"
           }
          ],
          "surface": [
           {
            "colorbar": {
             "outlinewidth": 0,
             "ticks": ""
            },
            "colorscale": [
             [
              0,
              "#0d0887"
             ],
             [
              0.1111111111111111,
              "#46039f"
             ],
             [
              0.2222222222222222,
              "#7201a8"
             ],
             [
              0.3333333333333333,
              "#9c179e"
             ],
             [
              0.4444444444444444,
              "#bd3786"
             ],
             [
              0.5555555555555556,
              "#d8576b"
             ],
             [
              0.6666666666666666,
              "#ed7953"
             ],
             [
              0.7777777777777778,
              "#fb9f3a"
             ],
             [
              0.8888888888888888,
              "#fdca26"
             ],
             [
              1,
              "#f0f921"
             ]
            ],
            "type": "surface"
           }
          ],
          "table": [
           {
            "cells": {
             "fill": {
              "color": "#EBF0F8"
             },
             "line": {
              "color": "white"
             }
            },
            "header": {
             "fill": {
              "color": "#C8D4E3"
             },
             "line": {
              "color": "white"
             }
            },
            "type": "table"
           }
          ]
         },
         "layout": {
          "annotationdefaults": {
           "arrowcolor": "#2a3f5f",
           "arrowhead": 0,
           "arrowwidth": 1
          },
          "coloraxis": {
           "colorbar": {
            "outlinewidth": 0,
            "ticks": ""
           }
          },
          "colorscale": {
           "diverging": [
            [
             0,
             "#8e0152"
            ],
            [
             0.1,
             "#c51b7d"
            ],
            [
             0.2,
             "#de77ae"
            ],
            [
             0.3,
             "#f1b6da"
            ],
            [
             0.4,
             "#fde0ef"
            ],
            [
             0.5,
             "#f7f7f7"
            ],
            [
             0.6,
             "#e6f5d0"
            ],
            [
             0.7,
             "#b8e186"
            ],
            [
             0.8,
             "#7fbc41"
            ],
            [
             0.9,
             "#4d9221"
            ],
            [
             1,
             "#276419"
            ]
           ],
           "sequential": [
            [
             0,
             "#0d0887"
            ],
            [
             0.1111111111111111,
             "#46039f"
            ],
            [
             0.2222222222222222,
             "#7201a8"
            ],
            [
             0.3333333333333333,
             "#9c179e"
            ],
            [
             0.4444444444444444,
             "#bd3786"
            ],
            [
             0.5555555555555556,
             "#d8576b"
            ],
            [
             0.6666666666666666,
             "#ed7953"
            ],
            [
             0.7777777777777778,
             "#fb9f3a"
            ],
            [
             0.8888888888888888,
             "#fdca26"
            ],
            [
             1,
             "#f0f921"
            ]
           ],
           "sequentialminus": [
            [
             0,
             "#0d0887"
            ],
            [
             0.1111111111111111,
             "#46039f"
            ],
            [
             0.2222222222222222,
             "#7201a8"
            ],
            [
             0.3333333333333333,
             "#9c179e"
            ],
            [
             0.4444444444444444,
             "#bd3786"
            ],
            [
             0.5555555555555556,
             "#d8576b"
            ],
            [
             0.6666666666666666,
             "#ed7953"
            ],
            [
             0.7777777777777778,
             "#fb9f3a"
            ],
            [
             0.8888888888888888,
             "#fdca26"
            ],
            [
             1,
             "#f0f921"
            ]
           ]
          },
          "colorway": [
           "#636efa",
           "#EF553B",
           "#00cc96",
           "#ab63fa",
           "#FFA15A",
           "#19d3f3",
           "#FF6692",
           "#B6E880",
           "#FF97FF",
           "#FECB52"
          ],
          "font": {
           "color": "#2a3f5f"
          },
          "geo": {
           "bgcolor": "white",
           "lakecolor": "white",
           "landcolor": "white",
           "showlakes": true,
           "showland": true,
           "subunitcolor": "#C8D4E3"
          },
          "hoverlabel": {
           "align": "left"
          },
          "hovermode": "closest",
          "mapbox": {
           "style": "light"
          },
          "paper_bgcolor": "white",
          "plot_bgcolor": "white",
          "polar": {
           "angularaxis": {
            "gridcolor": "#EBF0F8",
            "linecolor": "#EBF0F8",
            "ticks": ""
           },
           "bgcolor": "white",
           "radialaxis": {
            "gridcolor": "#EBF0F8",
            "linecolor": "#EBF0F8",
            "ticks": ""
           }
          },
          "scene": {
           "xaxis": {
            "backgroundcolor": "white",
            "gridcolor": "#DFE8F3",
            "gridwidth": 2,
            "linecolor": "#EBF0F8",
            "showbackground": true,
            "ticks": "",
            "zerolinecolor": "#EBF0F8"
           },
           "yaxis": {
            "backgroundcolor": "white",
            "gridcolor": "#DFE8F3",
            "gridwidth": 2,
            "linecolor": "#EBF0F8",
            "showbackground": true,
            "ticks": "",
            "zerolinecolor": "#EBF0F8"
           },
           "zaxis": {
            "backgroundcolor": "white",
            "gridcolor": "#DFE8F3",
            "gridwidth": 2,
            "linecolor": "#EBF0F8",
            "showbackground": true,
            "ticks": "",
            "zerolinecolor": "#EBF0F8"
           }
          },
          "shapedefaults": {
           "line": {
            "color": "#2a3f5f"
           }
          },
          "ternary": {
           "aaxis": {
            "gridcolor": "#DFE8F3",
            "linecolor": "#A2B1C6",
            "ticks": ""
           },
           "baxis": {
            "gridcolor": "#DFE8F3",
            "linecolor": "#A2B1C6",
            "ticks": ""
           },
           "bgcolor": "white",
           "caxis": {
            "gridcolor": "#DFE8F3",
            "linecolor": "#A2B1C6",
            "ticks": ""
           }
          },
          "title": {
           "x": 0.05
          },
          "xaxis": {
           "automargin": true,
           "gridcolor": "#EBF0F8",
           "linecolor": "#EBF0F8",
           "ticks": "",
           "title": {
            "standoff": 15
           },
           "zerolinecolor": "#EBF0F8",
           "zerolinewidth": 2
          },
          "yaxis": {
           "automargin": true,
           "gridcolor": "#EBF0F8",
           "linecolor": "#EBF0F8",
           "ticks": "",
           "title": {
            "standoff": 15
           },
           "zerolinecolor": "#EBF0F8",
           "zerolinewidth": 2
          }
         }
        },
        "title": {
         "text": "XP Long Short FIC FIM"
        },
        "width": 600
       }
      }
     },
     "metadata": {}
    },
    {
     "output_type": "display_data",
     "data": {
      "application/vnd.plotly.v1+json": {
       "config": {
        "plotlyServerURL": "https://plot.ly"
       },
       "data": [
        {
         "connectgaps": true,
         "marker": {
          "size": 3
         },
         "mode": "lines+markers",
         "name": "Equitas Selection FIC FIA",
         "opacity": 0.8,
         "textfont": {
          "color": "rgb(100,100,100)",
          "size": 9
         },
         "textposition": "top center",
         "type": "scatter",
         "x": [
          "2019-09-30T00:00:00",
          "2019-10-31T00:00:00",
          "2019-11-29T00:00:00",
          "2019-12-31T00:00:00",
          "2020-01-31T00:00:00",
          "2020-02-28T00:00:00",
          "2020-03-31T00:00:00",
          "2020-04-30T00:00:00",
          "2020-05-29T00:00:00"
         ],
         "y": [
          20220.03220560761,
          20996.353852604967,
          20946.057300426557,
          23305.871624117746,
          23813.485272419653,
          21812.676729398478,
          13531.98957766801,
          14640.052143875799,
          15354.04418523452
         ]
        }
       ],
       "layout": {
        "height": 300,
        "legend": {
         "font": {
          "size": 9
         },
         "orientation": "h"
        },
        "template": {
         "data": {
          "bar": [
           {
            "error_x": {
             "color": "#2a3f5f"
            },
            "error_y": {
             "color": "#2a3f5f"
            },
            "marker": {
             "line": {
              "color": "white",
              "width": 0.5
             }
            },
            "type": "bar"
           }
          ],
          "barpolar": [
           {
            "marker": {
             "line": {
              "color": "white",
              "width": 0.5
             }
            },
            "type": "barpolar"
           }
          ],
          "carpet": [
           {
            "aaxis": {
             "endlinecolor": "#2a3f5f",
             "gridcolor": "#C8D4E3",
             "linecolor": "#C8D4E3",
             "minorgridcolor": "#C8D4E3",
             "startlinecolor": "#2a3f5f"
            },
            "baxis": {
             "endlinecolor": "#2a3f5f",
             "gridcolor": "#C8D4E3",
             "linecolor": "#C8D4E3",
             "minorgridcolor": "#C8D4E3",
             "startlinecolor": "#2a3f5f"
            },
            "type": "carpet"
           }
          ],
          "choropleth": [
           {
            "colorbar": {
             "outlinewidth": 0,
             "ticks": ""
            },
            "type": "choropleth"
           }
          ],
          "contour": [
           {
            "colorbar": {
             "outlinewidth": 0,
             "ticks": ""
            },
            "colorscale": [
             [
              0,
              "#0d0887"
             ],
             [
              0.1111111111111111,
              "#46039f"
             ],
             [
              0.2222222222222222,
              "#7201a8"
             ],
             [
              0.3333333333333333,
              "#9c179e"
             ],
             [
              0.4444444444444444,
              "#bd3786"
             ],
             [
              0.5555555555555556,
              "#d8576b"
             ],
             [
              0.6666666666666666,
              "#ed7953"
             ],
             [
              0.7777777777777778,
              "#fb9f3a"
             ],
             [
              0.8888888888888888,
              "#fdca26"
             ],
             [
              1,
              "#f0f921"
             ]
            ],
            "type": "contour"
           }
          ],
          "contourcarpet": [
           {
            "colorbar": {
             "outlinewidth": 0,
             "ticks": ""
            },
            "type": "contourcarpet"
           }
          ],
          "heatmap": [
           {
            "colorbar": {
             "outlinewidth": 0,
             "ticks": ""
            },
            "colorscale": [
             [
              0,
              "#0d0887"
             ],
             [
              0.1111111111111111,
              "#46039f"
             ],
             [
              0.2222222222222222,
              "#7201a8"
             ],
             [
              0.3333333333333333,
              "#9c179e"
             ],
             [
              0.4444444444444444,
              "#bd3786"
             ],
             [
              0.5555555555555556,
              "#d8576b"
             ],
             [
              0.6666666666666666,
              "#ed7953"
             ],
             [
              0.7777777777777778,
              "#fb9f3a"
             ],
             [
              0.8888888888888888,
              "#fdca26"
             ],
             [
              1,
              "#f0f921"
             ]
            ],
            "type": "heatmap"
           }
          ],
          "heatmapgl": [
           {
            "colorbar": {
             "outlinewidth": 0,
             "ticks": ""
            },
            "colorscale": [
             [
              0,
              "#0d0887"
             ],
             [
              0.1111111111111111,
              "#46039f"
             ],
             [
              0.2222222222222222,
              "#7201a8"
             ],
             [
              0.3333333333333333,
              "#9c179e"
             ],
             [
              0.4444444444444444,
              "#bd3786"
             ],
             [
              0.5555555555555556,
              "#d8576b"
             ],
             [
              0.6666666666666666,
              "#ed7953"
             ],
             [
              0.7777777777777778,
              "#fb9f3a"
             ],
             [
              0.8888888888888888,
              "#fdca26"
             ],
             [
              1,
              "#f0f921"
             ]
            ],
            "type": "heatmapgl"
           }
          ],
          "histogram": [
           {
            "marker": {
             "colorbar": {
              "outlinewidth": 0,
              "ticks": ""
             }
            },
            "type": "histogram"
           }
          ],
          "histogram2d": [
           {
            "colorbar": {
             "outlinewidth": 0,
             "ticks": ""
            },
            "colorscale": [
             [
              0,
              "#0d0887"
             ],
             [
              0.1111111111111111,
              "#46039f"
             ],
             [
              0.2222222222222222,
              "#7201a8"
             ],
             [
              0.3333333333333333,
              "#9c179e"
             ],
             [
              0.4444444444444444,
              "#bd3786"
             ],
             [
              0.5555555555555556,
              "#d8576b"
             ],
             [
              0.6666666666666666,
              "#ed7953"
             ],
             [
              0.7777777777777778,
              "#fb9f3a"
             ],
             [
              0.8888888888888888,
              "#fdca26"
             ],
             [
              1,
              "#f0f921"
             ]
            ],
            "type": "histogram2d"
           }
          ],
          "histogram2dcontour": [
           {
            "colorbar": {
             "outlinewidth": 0,
             "ticks": ""
            },
            "colorscale": [
             [
              0,
              "#0d0887"
             ],
             [
              0.1111111111111111,
              "#46039f"
             ],
             [
              0.2222222222222222,
              "#7201a8"
             ],
             [
              0.3333333333333333,
              "#9c179e"
             ],
             [
              0.4444444444444444,
              "#bd3786"
             ],
             [
              0.5555555555555556,
              "#d8576b"
             ],
             [
              0.6666666666666666,
              "#ed7953"
             ],
             [
              0.7777777777777778,
              "#fb9f3a"
             ],
             [
              0.8888888888888888,
              "#fdca26"
             ],
             [
              1,
              "#f0f921"
             ]
            ],
            "type": "histogram2dcontour"
           }
          ],
          "mesh3d": [
           {
            "colorbar": {
             "outlinewidth": 0,
             "ticks": ""
            },
            "type": "mesh3d"
           }
          ],
          "parcoords": [
           {
            "line": {
             "colorbar": {
              "outlinewidth": 0,
              "ticks": ""
             }
            },
            "type": "parcoords"
           }
          ],
          "pie": [
           {
            "automargin": true,
            "type": "pie"
           }
          ],
          "scatter": [
           {
            "marker": {
             "colorbar": {
              "outlinewidth": 0,
              "ticks": ""
             }
            },
            "type": "scatter"
           }
          ],
          "scatter3d": [
           {
            "line": {
             "colorbar": {
              "outlinewidth": 0,
              "ticks": ""
             }
            },
            "marker": {
             "colorbar": {
              "outlinewidth": 0,
              "ticks": ""
             }
            },
            "type": "scatter3d"
           }
          ],
          "scattercarpet": [
           {
            "marker": {
             "colorbar": {
              "outlinewidth": 0,
              "ticks": ""
             }
            },
            "type": "scattercarpet"
           }
          ],
          "scattergeo": [
           {
            "marker": {
             "colorbar": {
              "outlinewidth": 0,
              "ticks": ""
             }
            },
            "type": "scattergeo"
           }
          ],
          "scattergl": [
           {
            "marker": {
             "colorbar": {
              "outlinewidth": 0,
              "ticks": ""
             }
            },
            "type": "scattergl"
           }
          ],
          "scattermapbox": [
           {
            "marker": {
             "colorbar": {
              "outlinewidth": 0,
              "ticks": ""
             }
            },
            "type": "scattermapbox"
           }
          ],
          "scatterpolar": [
           {
            "marker": {
             "colorbar": {
              "outlinewidth": 0,
              "ticks": ""
             }
            },
            "type": "scatterpolar"
           }
          ],
          "scatterpolargl": [
           {
            "marker": {
             "colorbar": {
              "outlinewidth": 0,
              "ticks": ""
             }
            },
            "type": "scatterpolargl"
           }
          ],
          "scatterternary": [
           {
            "marker": {
             "colorbar": {
              "outlinewidth": 0,
              "ticks": ""
             }
            },
            "type": "scatterternary"
           }
          ],
          "surface": [
           {
            "colorbar": {
             "outlinewidth": 0,
             "ticks": ""
            },
            "colorscale": [
             [
              0,
              "#0d0887"
             ],
             [
              0.1111111111111111,
              "#46039f"
             ],
             [
              0.2222222222222222,
              "#7201a8"
             ],
             [
              0.3333333333333333,
              "#9c179e"
             ],
             [
              0.4444444444444444,
              "#bd3786"
             ],
             [
              0.5555555555555556,
              "#d8576b"
             ],
             [
              0.6666666666666666,
              "#ed7953"
             ],
             [
              0.7777777777777778,
              "#fb9f3a"
             ],
             [
              0.8888888888888888,
              "#fdca26"
             ],
             [
              1,
              "#f0f921"
             ]
            ],
            "type": "surface"
           }
          ],
          "table": [
           {
            "cells": {
             "fill": {
              "color": "#EBF0F8"
             },
             "line": {
              "color": "white"
             }
            },
            "header": {
             "fill": {
              "color": "#C8D4E3"
             },
             "line": {
              "color": "white"
             }
            },
            "type": "table"
           }
          ]
         },
         "layout": {
          "annotationdefaults": {
           "arrowcolor": "#2a3f5f",
           "arrowhead": 0,
           "arrowwidth": 1
          },
          "coloraxis": {
           "colorbar": {
            "outlinewidth": 0,
            "ticks": ""
           }
          },
          "colorscale": {
           "diverging": [
            [
             0,
             "#8e0152"
            ],
            [
             0.1,
             "#c51b7d"
            ],
            [
             0.2,
             "#de77ae"
            ],
            [
             0.3,
             "#f1b6da"
            ],
            [
             0.4,
             "#fde0ef"
            ],
            [
             0.5,
             "#f7f7f7"
            ],
            [
             0.6,
             "#e6f5d0"
            ],
            [
             0.7,
             "#b8e186"
            ],
            [
             0.8,
             "#7fbc41"
            ],
            [
             0.9,
             "#4d9221"
            ],
            [
             1,
             "#276419"
            ]
           ],
           "sequential": [
            [
             0,
             "#0d0887"
            ],
            [
             0.1111111111111111,
             "#46039f"
            ],
            [
             0.2222222222222222,
             "#7201a8"
            ],
            [
             0.3333333333333333,
             "#9c179e"
            ],
            [
             0.4444444444444444,
             "#bd3786"
            ],
            [
             0.5555555555555556,
             "#d8576b"
            ],
            [
             0.6666666666666666,
             "#ed7953"
            ],
            [
             0.7777777777777778,
             "#fb9f3a"
            ],
            [
             0.8888888888888888,
             "#fdca26"
            ],
            [
             1,
             "#f0f921"
            ]
           ],
           "sequentialminus": [
            [
             0,
             "#0d0887"
            ],
            [
             0.1111111111111111,
             "#46039f"
            ],
            [
             0.2222222222222222,
             "#7201a8"
            ],
            [
             0.3333333333333333,
             "#9c179e"
            ],
            [
             0.4444444444444444,
             "#bd3786"
            ],
            [
             0.5555555555555556,
             "#d8576b"
            ],
            [
             0.6666666666666666,
             "#ed7953"
            ],
            [
             0.7777777777777778,
             "#fb9f3a"
            ],
            [
             0.8888888888888888,
             "#fdca26"
            ],
            [
             1,
             "#f0f921"
            ]
           ]
          },
          "colorway": [
           "#636efa",
           "#EF553B",
           "#00cc96",
           "#ab63fa",
           "#FFA15A",
           "#19d3f3",
           "#FF6692",
           "#B6E880",
           "#FF97FF",
           "#FECB52"
          ],
          "font": {
           "color": "#2a3f5f"
          },
          "geo": {
           "bgcolor": "white",
           "lakecolor": "white",
           "landcolor": "white",
           "showlakes": true,
           "showland": true,
           "subunitcolor": "#C8D4E3"
          },
          "hoverlabel": {
           "align": "left"
          },
          "hovermode": "closest",
          "mapbox": {
           "style": "light"
          },
          "paper_bgcolor": "white",
          "plot_bgcolor": "white",
          "polar": {
           "angularaxis": {
            "gridcolor": "#EBF0F8",
            "linecolor": "#EBF0F8",
            "ticks": ""
           },
           "bgcolor": "white",
           "radialaxis": {
            "gridcolor": "#EBF0F8",
            "linecolor": "#EBF0F8",
            "ticks": ""
           }
          },
          "scene": {
           "xaxis": {
            "backgroundcolor": "white",
            "gridcolor": "#DFE8F3",
            "gridwidth": 2,
            "linecolor": "#EBF0F8",
            "showbackground": true,
            "ticks": "",
            "zerolinecolor": "#EBF0F8"
           },
           "yaxis": {
            "backgroundcolor": "white",
            "gridcolor": "#DFE8F3",
            "gridwidth": 2,
            "linecolor": "#EBF0F8",
            "showbackground": true,
            "ticks": "",
            "zerolinecolor": "#EBF0F8"
           },
           "zaxis": {
            "backgroundcolor": "white",
            "gridcolor": "#DFE8F3",
            "gridwidth": 2,
            "linecolor": "#EBF0F8",
            "showbackground": true,
            "ticks": "",
            "zerolinecolor": "#EBF0F8"
           }
          },
          "shapedefaults": {
           "line": {
            "color": "#2a3f5f"
           }
          },
          "ternary": {
           "aaxis": {
            "gridcolor": "#DFE8F3",
            "linecolor": "#A2B1C6",
            "ticks": ""
           },
           "baxis": {
            "gridcolor": "#DFE8F3",
            "linecolor": "#A2B1C6",
            "ticks": ""
           },
           "bgcolor": "white",
           "caxis": {
            "gridcolor": "#DFE8F3",
            "linecolor": "#A2B1C6",
            "ticks": ""
           }
          },
          "title": {
           "x": 0.05
          },
          "xaxis": {
           "automargin": true,
           "gridcolor": "#EBF0F8",
           "linecolor": "#EBF0F8",
           "ticks": "",
           "title": {
            "standoff": 15
           },
           "zerolinecolor": "#EBF0F8",
           "zerolinewidth": 2
          },
          "yaxis": {
           "automargin": true,
           "gridcolor": "#EBF0F8",
           "linecolor": "#EBF0F8",
           "ticks": "",
           "title": {
            "standoff": 15
           },
           "zerolinecolor": "#EBF0F8",
           "zerolinewidth": 2
          }
         }
        },
        "title": {
         "text": "Equitas Selection FIC FIA"
        },
        "width": 600
       }
      }
     },
     "metadata": {}
    },
    {
     "output_type": "display_data",
     "data": {
      "application/vnd.plotly.v1+json": {
       "config": {
        "plotlyServerURL": "https://plot.ly"
       },
       "data": [
        {
         "connectgaps": true,
         "marker": {
          "size": 3
         },
         "mode": "lines+markers",
         "name": "AZ Quest Multi FIC FIM",
         "opacity": 0.8,
         "textfont": {
          "color": "rgb(100,100,100)",
          "size": 9
         },
         "textposition": "top center",
         "type": "scatter",
         "x": [
          "2017-03-31T00:00:00",
          "2017-04-28T00:00:00",
          "2017-05-31T00:00:00",
          "2017-06-30T00:00:00",
          "2017-07-31T00:00:00",
          "2017-08-31T00:00:00",
          "2017-09-29T00:00:00",
          "2017-10-31T00:00:00",
          "2017-11-30T00:00:00",
          "2017-12-28T00:00:00",
          "2018-01-31T00:00:00",
          "2018-02-28T00:00:00",
          "2018-03-29T00:00:00",
          "2018-04-30T00:00:00",
          "2018-05-30T00:00:00",
          "2018-06-29T00:00:00",
          "2018-07-31T00:00:00",
          "2018-08-31T00:00:00",
          "2018-09-28T00:00:00",
          "2018-10-31T00:00:00",
          "2018-11-30T00:00:00",
          "2018-12-28T00:00:00",
          "2019-01-31T00:00:00",
          "2019-02-28T00:00:00",
          "2019-03-29T00:00:00",
          "2019-04-30T00:00:00",
          "2019-05-31T00:00:00",
          "2019-06-28T00:00:00",
          "2019-07-31T00:00:00",
          "2019-08-30T00:00:00",
          "2019-09-30T00:00:00",
          "2019-10-31T00:00:00",
          "2019-11-29T00:00:00",
          "2019-12-31T00:00:00",
          "2020-01-31T00:00:00",
          "2020-02-28T00:00:00"
         ],
         "y": [
          15094.097415209082,
          15160.903007950068,
          14749.33829587092,
          14853.486798041964,
          15389.52770808182,
          15644.93181736191,
          16004.655905541977,
          15934.883013246395,
          15784.719188917094,
          15969.505533701886,
          16347.113076865411,
          16581.99986541782,
          16712.396788178732,
          16735.424057292927,
          16509.691081406156,
          16716.86709960626,
          16837.612409925907,
          16823.703907504932,
          16786.050327116784,
          17205.80325257218,
          17164.876998054217,
          17207.344240544277,
          17496.997043425567,
          17413.08649815905,
          17370.50483922949,
          17367.771127927725,
          17496.02199496101,
          17872.394365790806,
          17914.043352397093,
          17956.61574386015,
          18214.142163076842,
          18525.2939212256,
          18345.128264869105,
          18661.132307002637,
          18801.038536737626,
          18967.39502489443
         ]
        }
       ],
       "layout": {
        "height": 300,
        "legend": {
         "font": {
          "size": 9
         },
         "orientation": "h"
        },
        "template": {
         "data": {
          "bar": [
           {
            "error_x": {
             "color": "#2a3f5f"
            },
            "error_y": {
             "color": "#2a3f5f"
            },
            "marker": {
             "line": {
              "color": "white",
              "width": 0.5
             }
            },
            "type": "bar"
           }
          ],
          "barpolar": [
           {
            "marker": {
             "line": {
              "color": "white",
              "width": 0.5
             }
            },
            "type": "barpolar"
           }
          ],
          "carpet": [
           {
            "aaxis": {
             "endlinecolor": "#2a3f5f",
             "gridcolor": "#C8D4E3",
             "linecolor": "#C8D4E3",
             "minorgridcolor": "#C8D4E3",
             "startlinecolor": "#2a3f5f"
            },
            "baxis": {
             "endlinecolor": "#2a3f5f",
             "gridcolor": "#C8D4E3",
             "linecolor": "#C8D4E3",
             "minorgridcolor": "#C8D4E3",
             "startlinecolor": "#2a3f5f"
            },
            "type": "carpet"
           }
          ],
          "choropleth": [
           {
            "colorbar": {
             "outlinewidth": 0,
             "ticks": ""
            },
            "type": "choropleth"
           }
          ],
          "contour": [
           {
            "colorbar": {
             "outlinewidth": 0,
             "ticks": ""
            },
            "colorscale": [
             [
              0,
              "#0d0887"
             ],
             [
              0.1111111111111111,
              "#46039f"
             ],
             [
              0.2222222222222222,
              "#7201a8"
             ],
             [
              0.3333333333333333,
              "#9c179e"
             ],
             [
              0.4444444444444444,
              "#bd3786"
             ],
             [
              0.5555555555555556,
              "#d8576b"
             ],
             [
              0.6666666666666666,
              "#ed7953"
             ],
             [
              0.7777777777777778,
              "#fb9f3a"
             ],
             [
              0.8888888888888888,
              "#fdca26"
             ],
             [
              1,
              "#f0f921"
             ]
            ],
            "type": "contour"
           }
          ],
          "contourcarpet": [
           {
            "colorbar": {
             "outlinewidth": 0,
             "ticks": ""
            },
            "type": "contourcarpet"
           }
          ],
          "heatmap": [
           {
            "colorbar": {
             "outlinewidth": 0,
             "ticks": ""
            },
            "colorscale": [
             [
              0,
              "#0d0887"
             ],
             [
              0.1111111111111111,
              "#46039f"
             ],
             [
              0.2222222222222222,
              "#7201a8"
             ],
             [
              0.3333333333333333,
              "#9c179e"
             ],
             [
              0.4444444444444444,
              "#bd3786"
             ],
             [
              0.5555555555555556,
              "#d8576b"
             ],
             [
              0.6666666666666666,
              "#ed7953"
             ],
             [
              0.7777777777777778,
              "#fb9f3a"
             ],
             [
              0.8888888888888888,
              "#fdca26"
             ],
             [
              1,
              "#f0f921"
             ]
            ],
            "type": "heatmap"
           }
          ],
          "heatmapgl": [
           {
            "colorbar": {
             "outlinewidth": 0,
             "ticks": ""
            },
            "colorscale": [
             [
              0,
              "#0d0887"
             ],
             [
              0.1111111111111111,
              "#46039f"
             ],
             [
              0.2222222222222222,
              "#7201a8"
             ],
             [
              0.3333333333333333,
              "#9c179e"
             ],
             [
              0.4444444444444444,
              "#bd3786"
             ],
             [
              0.5555555555555556,
              "#d8576b"
             ],
             [
              0.6666666666666666,
              "#ed7953"
             ],
             [
              0.7777777777777778,
              "#fb9f3a"
             ],
             [
              0.8888888888888888,
              "#fdca26"
             ],
             [
              1,
              "#f0f921"
             ]
            ],
            "type": "heatmapgl"
           }
          ],
          "histogram": [
           {
            "marker": {
             "colorbar": {
              "outlinewidth": 0,
              "ticks": ""
             }
            },
            "type": "histogram"
           }
          ],
          "histogram2d": [
           {
            "colorbar": {
             "outlinewidth": 0,
             "ticks": ""
            },
            "colorscale": [
             [
              0,
              "#0d0887"
             ],
             [
              0.1111111111111111,
              "#46039f"
             ],
             [
              0.2222222222222222,
              "#7201a8"
             ],
             [
              0.3333333333333333,
              "#9c179e"
             ],
             [
              0.4444444444444444,
              "#bd3786"
             ],
             [
              0.5555555555555556,
              "#d8576b"
             ],
             [
              0.6666666666666666,
              "#ed7953"
             ],
             [
              0.7777777777777778,
              "#fb9f3a"
             ],
             [
              0.8888888888888888,
              "#fdca26"
             ],
             [
              1,
              "#f0f921"
             ]
            ],
            "type": "histogram2d"
           }
          ],
          "histogram2dcontour": [
           {
            "colorbar": {
             "outlinewidth": 0,
             "ticks": ""
            },
            "colorscale": [
             [
              0,
              "#0d0887"
             ],
             [
              0.1111111111111111,
              "#46039f"
             ],
             [
              0.2222222222222222,
              "#7201a8"
             ],
             [
              0.3333333333333333,
              "#9c179e"
             ],
             [
              0.4444444444444444,
              "#bd3786"
             ],
             [
              0.5555555555555556,
              "#d8576b"
             ],
             [
              0.6666666666666666,
              "#ed7953"
             ],
             [
              0.7777777777777778,
              "#fb9f3a"
             ],
             [
              0.8888888888888888,
              "#fdca26"
             ],
             [
              1,
              "#f0f921"
             ]
            ],
            "type": "histogram2dcontour"
           }
          ],
          "mesh3d": [
           {
            "colorbar": {
             "outlinewidth": 0,
             "ticks": ""
            },
            "type": "mesh3d"
           }
          ],
          "parcoords": [
           {
            "line": {
             "colorbar": {
              "outlinewidth": 0,
              "ticks": ""
             }
            },
            "type": "parcoords"
           }
          ],
          "pie": [
           {
            "automargin": true,
            "type": "pie"
           }
          ],
          "scatter": [
           {
            "marker": {
             "colorbar": {
              "outlinewidth": 0,
              "ticks": ""
             }
            },
            "type": "scatter"
           }
          ],
          "scatter3d": [
           {
            "line": {
             "colorbar": {
              "outlinewidth": 0,
              "ticks": ""
             }
            },
            "marker": {
             "colorbar": {
              "outlinewidth": 0,
              "ticks": ""
             }
            },
            "type": "scatter3d"
           }
          ],
          "scattercarpet": [
           {
            "marker": {
             "colorbar": {
              "outlinewidth": 0,
              "ticks": ""
             }
            },
            "type": "scattercarpet"
           }
          ],
          "scattergeo": [
           {
            "marker": {
             "colorbar": {
              "outlinewidth": 0,
              "ticks": ""
             }
            },
            "type": "scattergeo"
           }
          ],
          "scattergl": [
           {
            "marker": {
             "colorbar": {
              "outlinewidth": 0,
              "ticks": ""
             }
            },
            "type": "scattergl"
           }
          ],
          "scattermapbox": [
           {
            "marker": {
             "colorbar": {
              "outlinewidth": 0,
              "ticks": ""
             }
            },
            "type": "scattermapbox"
           }
          ],
          "scatterpolar": [
           {
            "marker": {
             "colorbar": {
              "outlinewidth": 0,
              "ticks": ""
             }
            },
            "type": "scatterpolar"
           }
          ],
          "scatterpolargl": [
           {
            "marker": {
             "colorbar": {
              "outlinewidth": 0,
              "ticks": ""
             }
            },
            "type": "scatterpolargl"
           }
          ],
          "scatterternary": [
           {
            "marker": {
             "colorbar": {
              "outlinewidth": 0,
              "ticks": ""
             }
            },
            "type": "scatterternary"
           }
          ],
          "surface": [
           {
            "colorbar": {
             "outlinewidth": 0,
             "ticks": ""
            },
            "colorscale": [
             [
              0,
              "#0d0887"
             ],
             [
              0.1111111111111111,
              "#46039f"
             ],
             [
              0.2222222222222222,
              "#7201a8"
             ],
             [
              0.3333333333333333,
              "#9c179e"
             ],
             [
              0.4444444444444444,
              "#bd3786"
             ],
             [
              0.5555555555555556,
              "#d8576b"
             ],
             [
              0.6666666666666666,
              "#ed7953"
             ],
             [
              0.7777777777777778,
              "#fb9f3a"
             ],
             [
              0.8888888888888888,
              "#fdca26"
             ],
             [
              1,
              "#f0f921"
             ]
            ],
            "type": "surface"
           }
          ],
          "table": [
           {
            "cells": {
             "fill": {
              "color": "#EBF0F8"
             },
             "line": {
              "color": "white"
             }
            },
            "header": {
             "fill": {
              "color": "#C8D4E3"
             },
             "line": {
              "color": "white"
             }
            },
            "type": "table"
           }
          ]
         },
         "layout": {
          "annotationdefaults": {
           "arrowcolor": "#2a3f5f",
           "arrowhead": 0,
           "arrowwidth": 1
          },
          "coloraxis": {
           "colorbar": {
            "outlinewidth": 0,
            "ticks": ""
           }
          },
          "colorscale": {
           "diverging": [
            [
             0,
             "#8e0152"
            ],
            [
             0.1,
             "#c51b7d"
            ],
            [
             0.2,
             "#de77ae"
            ],
            [
             0.3,
             "#f1b6da"
            ],
            [
             0.4,
             "#fde0ef"
            ],
            [
             0.5,
             "#f7f7f7"
            ],
            [
             0.6,
             "#e6f5d0"
            ],
            [
             0.7,
             "#b8e186"
            ],
            [
             0.8,
             "#7fbc41"
            ],
            [
             0.9,
             "#4d9221"
            ],
            [
             1,
             "#276419"
            ]
           ],
           "sequential": [
            [
             0,
             "#0d0887"
            ],
            [
             0.1111111111111111,
             "#46039f"
            ],
            [
             0.2222222222222222,
             "#7201a8"
            ],
            [
             0.3333333333333333,
             "#9c179e"
            ],
            [
             0.4444444444444444,
             "#bd3786"
            ],
            [
             0.5555555555555556,
             "#d8576b"
            ],
            [
             0.6666666666666666,
             "#ed7953"
            ],
            [
             0.7777777777777778,
             "#fb9f3a"
            ],
            [
             0.8888888888888888,
             "#fdca26"
            ],
            [
             1,
             "#f0f921"
            ]
           ],
           "sequentialminus": [
            [
             0,
             "#0d0887"
            ],
            [
             0.1111111111111111,
             "#46039f"
            ],
            [
             0.2222222222222222,
             "#7201a8"
            ],
            [
             0.3333333333333333,
             "#9c179e"
            ],
            [
             0.4444444444444444,
             "#bd3786"
            ],
            [
             0.5555555555555556,
             "#d8576b"
            ],
            [
             0.6666666666666666,
             "#ed7953"
            ],
            [
             0.7777777777777778,
             "#fb9f3a"
            ],
            [
             0.8888888888888888,
             "#fdca26"
            ],
            [
             1,
             "#f0f921"
            ]
           ]
          },
          "colorway": [
           "#636efa",
           "#EF553B",
           "#00cc96",
           "#ab63fa",
           "#FFA15A",
           "#19d3f3",
           "#FF6692",
           "#B6E880",
           "#FF97FF",
           "#FECB52"
          ],
          "font": {
           "color": "#2a3f5f"
          },
          "geo": {
           "bgcolor": "white",
           "lakecolor": "white",
           "landcolor": "white",
           "showlakes": true,
           "showland": true,
           "subunitcolor": "#C8D4E3"
          },
          "hoverlabel": {
           "align": "left"
          },
          "hovermode": "closest",
          "mapbox": {
           "style": "light"
          },
          "paper_bgcolor": "white",
          "plot_bgcolor": "white",
          "polar": {
           "angularaxis": {
            "gridcolor": "#EBF0F8",
            "linecolor": "#EBF0F8",
            "ticks": ""
           },
           "bgcolor": "white",
           "radialaxis": {
            "gridcolor": "#EBF0F8",
            "linecolor": "#EBF0F8",
            "ticks": ""
           }
          },
          "scene": {
           "xaxis": {
            "backgroundcolor": "white",
            "gridcolor": "#DFE8F3",
            "gridwidth": 2,
            "linecolor": "#EBF0F8",
            "showbackground": true,
            "ticks": "",
            "zerolinecolor": "#EBF0F8"
           },
           "yaxis": {
            "backgroundcolor": "white",
            "gridcolor": "#DFE8F3",
            "gridwidth": 2,
            "linecolor": "#EBF0F8",
            "showbackground": true,
            "ticks": "",
            "zerolinecolor": "#EBF0F8"
           },
           "zaxis": {
            "backgroundcolor": "white",
            "gridcolor": "#DFE8F3",
            "gridwidth": 2,
            "linecolor": "#EBF0F8",
            "showbackground": true,
            "ticks": "",
            "zerolinecolor": "#EBF0F8"
           }
          },
          "shapedefaults": {
           "line": {
            "color": "#2a3f5f"
           }
          },
          "ternary": {
           "aaxis": {
            "gridcolor": "#DFE8F3",
            "linecolor": "#A2B1C6",
            "ticks": ""
           },
           "baxis": {
            "gridcolor": "#DFE8F3",
            "linecolor": "#A2B1C6",
            "ticks": ""
           },
           "bgcolor": "white",
           "caxis": {
            "gridcolor": "#DFE8F3",
            "linecolor": "#A2B1C6",
            "ticks": ""
           }
          },
          "title": {
           "x": 0.05
          },
          "xaxis": {
           "automargin": true,
           "gridcolor": "#EBF0F8",
           "linecolor": "#EBF0F8",
           "ticks": "",
           "title": {
            "standoff": 15
           },
           "zerolinecolor": "#EBF0F8",
           "zerolinewidth": 2
          },
          "yaxis": {
           "automargin": true,
           "gridcolor": "#EBF0F8",
           "linecolor": "#EBF0F8",
           "ticks": "",
           "title": {
            "standoff": 15
           },
           "zerolinecolor": "#EBF0F8",
           "zerolinewidth": 2
          }
         }
        },
        "title": {
         "text": "AZ Quest Multi FIC FIM"
        },
        "width": 600
       }
      }
     },
     "metadata": {}
    },
    {
     "output_type": "display_data",
     "data": {
      "application/vnd.plotly.v1+json": {
       "config": {
        "plotlyServerURL": "https://plot.ly"
       },
       "data": [
        {
         "connectgaps": true,
         "marker": {
          "size": 3
         },
         "mode": "lines+markers",
         "name": "Mauá Macro FIC FIM",
         "opacity": 0.8,
         "textfont": {
          "color": "rgb(100,100,100)",
          "size": 9
         },
         "textposition": "top center",
         "type": "scatter",
         "x": [
          "2016-11-30T00:00:00",
          "2016-12-29T00:00:00",
          "2017-01-31T00:00:00",
          "2017-02-24T00:00:00",
          "2017-03-31T00:00:00",
          "2017-04-28T00:00:00",
          "2017-05-31T00:00:00",
          "2017-06-30T00:00:00",
          "2017-07-31T00:00:00",
          "2017-08-31T00:00:00",
          "2017-09-29T00:00:00",
          "2017-10-31T00:00:00",
          "2017-11-30T00:00:00",
          "2017-12-28T00:00:00",
          "2018-01-31T00:00:00",
          "2018-02-28T00:00:00",
          "2018-03-29T00:00:00",
          "2018-04-30T00:00:00",
          "2018-05-30T00:00:00",
          "2018-06-29T00:00:00",
          "2018-07-31T00:00:00",
          "2018-08-31T00:00:00",
          "2018-09-28T00:00:00",
          "2018-10-31T00:00:00",
          "2018-11-30T00:00:00",
          "2018-12-28T00:00:00",
          "2019-01-31T00:00:00",
          "2019-02-28T00:00:00",
          "2019-03-29T00:00:00",
          "2019-04-30T00:00:00",
          "2019-05-31T00:00:00",
          "2019-06-28T00:00:00",
          "2019-07-31T00:00:00",
          "2019-08-30T00:00:00",
          "2019-09-30T00:00:00",
          "2019-10-31T00:00:00",
          "2019-11-29T00:00:00",
          "2019-12-31T00:00:00",
          "2020-01-31T00:00:00",
          "2020-02-28T00:00:00",
          "2020-03-31T00:00:00",
          "2020-04-30T00:00:00",
          "2020-05-29T00:00:00"
         ],
         "y": [
          8414.779129100476,
          8833.040029945152,
          9006.934869791454,
          9363.445609285263,
          24474.10738265355,
          24887.240446906497,
          23757.671499086544,
          23720.212337638626,
          24415.357053748263,
          25036.942519991597,
          25907.837277105715,
          26116.60223187318,
          25855.590985937248,
          26083.534353068353,
          27084.414198689057,
          27458.29649267892,
          27632.573400477366,
          27410.14421442563,
          26373.225628177108,
          26717.111192358312,
          26823.224748852255,
          27079.516711461372,
          27228.424372691465,
          26921.0748250147,
          27209.93245832856,
          26789.922182153427,
          27452.670687713675,
          26851.917424822524,
          26418.341949165126,
          26403.993231213124,
          26413.299970352542,
          27189.244431945626,
          27622.04885458201,
          27059.77550520394,
          27610.677353612533,
          28335.879244448814,
          28036.902027449785,
          29045.161799956335,
          29523.049625170814,
          29278.240228466286,
          28788.353685495276,
          28816.88663755445,
          28930.641673405535
         ]
        }
       ],
       "layout": {
        "height": 300,
        "legend": {
         "font": {
          "size": 9
         },
         "orientation": "h"
        },
        "template": {
         "data": {
          "bar": [
           {
            "error_x": {
             "color": "#2a3f5f"
            },
            "error_y": {
             "color": "#2a3f5f"
            },
            "marker": {
             "line": {
              "color": "white",
              "width": 0.5
             }
            },
            "type": "bar"
           }
          ],
          "barpolar": [
           {
            "marker": {
             "line": {
              "color": "white",
              "width": 0.5
             }
            },
            "type": "barpolar"
           }
          ],
          "carpet": [
           {
            "aaxis": {
             "endlinecolor": "#2a3f5f",
             "gridcolor": "#C8D4E3",
             "linecolor": "#C8D4E3",
             "minorgridcolor": "#C8D4E3",
             "startlinecolor": "#2a3f5f"
            },
            "baxis": {
             "endlinecolor": "#2a3f5f",
             "gridcolor": "#C8D4E3",
             "linecolor": "#C8D4E3",
             "minorgridcolor": "#C8D4E3",
             "startlinecolor": "#2a3f5f"
            },
            "type": "carpet"
           }
          ],
          "choropleth": [
           {
            "colorbar": {
             "outlinewidth": 0,
             "ticks": ""
            },
            "type": "choropleth"
           }
          ],
          "contour": [
           {
            "colorbar": {
             "outlinewidth": 0,
             "ticks": ""
            },
            "colorscale": [
             [
              0,
              "#0d0887"
             ],
             [
              0.1111111111111111,
              "#46039f"
             ],
             [
              0.2222222222222222,
              "#7201a8"
             ],
             [
              0.3333333333333333,
              "#9c179e"
             ],
             [
              0.4444444444444444,
              "#bd3786"
             ],
             [
              0.5555555555555556,
              "#d8576b"
             ],
             [
              0.6666666666666666,
              "#ed7953"
             ],
             [
              0.7777777777777778,
              "#fb9f3a"
             ],
             [
              0.8888888888888888,
              "#fdca26"
             ],
             [
              1,
              "#f0f921"
             ]
            ],
            "type": "contour"
           }
          ],
          "contourcarpet": [
           {
            "colorbar": {
             "outlinewidth": 0,
             "ticks": ""
            },
            "type": "contourcarpet"
           }
          ],
          "heatmap": [
           {
            "colorbar": {
             "outlinewidth": 0,
             "ticks": ""
            },
            "colorscale": [
             [
              0,
              "#0d0887"
             ],
             [
              0.1111111111111111,
              "#46039f"
             ],
             [
              0.2222222222222222,
              "#7201a8"
             ],
             [
              0.3333333333333333,
              "#9c179e"
             ],
             [
              0.4444444444444444,
              "#bd3786"
             ],
             [
              0.5555555555555556,
              "#d8576b"
             ],
             [
              0.6666666666666666,
              "#ed7953"
             ],
             [
              0.7777777777777778,
              "#fb9f3a"
             ],
             [
              0.8888888888888888,
              "#fdca26"
             ],
             [
              1,
              "#f0f921"
             ]
            ],
            "type": "heatmap"
           }
          ],
          "heatmapgl": [
           {
            "colorbar": {
             "outlinewidth": 0,
             "ticks": ""
            },
            "colorscale": [
             [
              0,
              "#0d0887"
             ],
             [
              0.1111111111111111,
              "#46039f"
             ],
             [
              0.2222222222222222,
              "#7201a8"
             ],
             [
              0.3333333333333333,
              "#9c179e"
             ],
             [
              0.4444444444444444,
              "#bd3786"
             ],
             [
              0.5555555555555556,
              "#d8576b"
             ],
             [
              0.6666666666666666,
              "#ed7953"
             ],
             [
              0.7777777777777778,
              "#fb9f3a"
             ],
             [
              0.8888888888888888,
              "#fdca26"
             ],
             [
              1,
              "#f0f921"
             ]
            ],
            "type": "heatmapgl"
           }
          ],
          "histogram": [
           {
            "marker": {
             "colorbar": {
              "outlinewidth": 0,
              "ticks": ""
             }
            },
            "type": "histogram"
           }
          ],
          "histogram2d": [
           {
            "colorbar": {
             "outlinewidth": 0,
             "ticks": ""
            },
            "colorscale": [
             [
              0,
              "#0d0887"
             ],
             [
              0.1111111111111111,
              "#46039f"
             ],
             [
              0.2222222222222222,
              "#7201a8"
             ],
             [
              0.3333333333333333,
              "#9c179e"
             ],
             [
              0.4444444444444444,
              "#bd3786"
             ],
             [
              0.5555555555555556,
              "#d8576b"
             ],
             [
              0.6666666666666666,
              "#ed7953"
             ],
             [
              0.7777777777777778,
              "#fb9f3a"
             ],
             [
              0.8888888888888888,
              "#fdca26"
             ],
             [
              1,
              "#f0f921"
             ]
            ],
            "type": "histogram2d"
           }
          ],
          "histogram2dcontour": [
           {
            "colorbar": {
             "outlinewidth": 0,
             "ticks": ""
            },
            "colorscale": [
             [
              0,
              "#0d0887"
             ],
             [
              0.1111111111111111,
              "#46039f"
             ],
             [
              0.2222222222222222,
              "#7201a8"
             ],
             [
              0.3333333333333333,
              "#9c179e"
             ],
             [
              0.4444444444444444,
              "#bd3786"
             ],
             [
              0.5555555555555556,
              "#d8576b"
             ],
             [
              0.6666666666666666,
              "#ed7953"
             ],
             [
              0.7777777777777778,
              "#fb9f3a"
             ],
             [
              0.8888888888888888,
              "#fdca26"
             ],
             [
              1,
              "#f0f921"
             ]
            ],
            "type": "histogram2dcontour"
           }
          ],
          "mesh3d": [
           {
            "colorbar": {
             "outlinewidth": 0,
             "ticks": ""
            },
            "type": "mesh3d"
           }
          ],
          "parcoords": [
           {
            "line": {
             "colorbar": {
              "outlinewidth": 0,
              "ticks": ""
             }
            },
            "type": "parcoords"
           }
          ],
          "pie": [
           {
            "automargin": true,
            "type": "pie"
           }
          ],
          "scatter": [
           {
            "marker": {
             "colorbar": {
              "outlinewidth": 0,
              "ticks": ""
             }
            },
            "type": "scatter"
           }
          ],
          "scatter3d": [
           {
            "line": {
             "colorbar": {
              "outlinewidth": 0,
              "ticks": ""
             }
            },
            "marker": {
             "colorbar": {
              "outlinewidth": 0,
              "ticks": ""
             }
            },
            "type": "scatter3d"
           }
          ],
          "scattercarpet": [
           {
            "marker": {
             "colorbar": {
              "outlinewidth": 0,
              "ticks": ""
             }
            },
            "type": "scattercarpet"
           }
          ],
          "scattergeo": [
           {
            "marker": {
             "colorbar": {
              "outlinewidth": 0,
              "ticks": ""
             }
            },
            "type": "scattergeo"
           }
          ],
          "scattergl": [
           {
            "marker": {
             "colorbar": {
              "outlinewidth": 0,
              "ticks": ""
             }
            },
            "type": "scattergl"
           }
          ],
          "scattermapbox": [
           {
            "marker": {
             "colorbar": {
              "outlinewidth": 0,
              "ticks": ""
             }
            },
            "type": "scattermapbox"
           }
          ],
          "scatterpolar": [
           {
            "marker": {
             "colorbar": {
              "outlinewidth": 0,
              "ticks": ""
             }
            },
            "type": "scatterpolar"
           }
          ],
          "scatterpolargl": [
           {
            "marker": {
             "colorbar": {
              "outlinewidth": 0,
              "ticks": ""
             }
            },
            "type": "scatterpolargl"
           }
          ],
          "scatterternary": [
           {
            "marker": {
             "colorbar": {
              "outlinewidth": 0,
              "ticks": ""
             }
            },
            "type": "scatterternary"
           }
          ],
          "surface": [
           {
            "colorbar": {
             "outlinewidth": 0,
             "ticks": ""
            },
            "colorscale": [
             [
              0,
              "#0d0887"
             ],
             [
              0.1111111111111111,
              "#46039f"
             ],
             [
              0.2222222222222222,
              "#7201a8"
             ],
             [
              0.3333333333333333,
              "#9c179e"
             ],
             [
              0.4444444444444444,
              "#bd3786"
             ],
             [
              0.5555555555555556,
              "#d8576b"
             ],
             [
              0.6666666666666666,
              "#ed7953"
             ],
             [
              0.7777777777777778,
              "#fb9f3a"
             ],
             [
              0.8888888888888888,
              "#fdca26"
             ],
             [
              1,
              "#f0f921"
             ]
            ],
            "type": "surface"
           }
          ],
          "table": [
           {
            "cells": {
             "fill": {
              "color": "#EBF0F8"
             },
             "line": {
              "color": "white"
             }
            },
            "header": {
             "fill": {
              "color": "#C8D4E3"
             },
             "line": {
              "color": "white"
             }
            },
            "type": "table"
           }
          ]
         },
         "layout": {
          "annotationdefaults": {
           "arrowcolor": "#2a3f5f",
           "arrowhead": 0,
           "arrowwidth": 1
          },
          "coloraxis": {
           "colorbar": {
            "outlinewidth": 0,
            "ticks": ""
           }
          },
          "colorscale": {
           "diverging": [
            [
             0,
             "#8e0152"
            ],
            [
             0.1,
             "#c51b7d"
            ],
            [
             0.2,
             "#de77ae"
            ],
            [
             0.3,
             "#f1b6da"
            ],
            [
             0.4,
             "#fde0ef"
            ],
            [
             0.5,
             "#f7f7f7"
            ],
            [
             0.6,
             "#e6f5d0"
            ],
            [
             0.7,
             "#b8e186"
            ],
            [
             0.8,
             "#7fbc41"
            ],
            [
             0.9,
             "#4d9221"
            ],
            [
             1,
             "#276419"
            ]
           ],
           "sequential": [
            [
             0,
             "#0d0887"
            ],
            [
             0.1111111111111111,
             "#46039f"
            ],
            [
             0.2222222222222222,
             "#7201a8"
            ],
            [
             0.3333333333333333,
             "#9c179e"
            ],
            [
             0.4444444444444444,
             "#bd3786"
            ],
            [
             0.5555555555555556,
             "#d8576b"
            ],
            [
             0.6666666666666666,
             "#ed7953"
            ],
            [
             0.7777777777777778,
             "#fb9f3a"
            ],
            [
             0.8888888888888888,
             "#fdca26"
            ],
            [
             1,
             "#f0f921"
            ]
           ],
           "sequentialminus": [
            [
             0,
             "#0d0887"
            ],
            [
             0.1111111111111111,
             "#46039f"
            ],
            [
             0.2222222222222222,
             "#7201a8"
            ],
            [
             0.3333333333333333,
             "#9c179e"
            ],
            [
             0.4444444444444444,
             "#bd3786"
            ],
            [
             0.5555555555555556,
             "#d8576b"
            ],
            [
             0.6666666666666666,
             "#ed7953"
            ],
            [
             0.7777777777777778,
             "#fb9f3a"
            ],
            [
             0.8888888888888888,
             "#fdca26"
            ],
            [
             1,
             "#f0f921"
            ]
           ]
          },
          "colorway": [
           "#636efa",
           "#EF553B",
           "#00cc96",
           "#ab63fa",
           "#FFA15A",
           "#19d3f3",
           "#FF6692",
           "#B6E880",
           "#FF97FF",
           "#FECB52"
          ],
          "font": {
           "color": "#2a3f5f"
          },
          "geo": {
           "bgcolor": "white",
           "lakecolor": "white",
           "landcolor": "white",
           "showlakes": true,
           "showland": true,
           "subunitcolor": "#C8D4E3"
          },
          "hoverlabel": {
           "align": "left"
          },
          "hovermode": "closest",
          "mapbox": {
           "style": "light"
          },
          "paper_bgcolor": "white",
          "plot_bgcolor": "white",
          "polar": {
           "angularaxis": {
            "gridcolor": "#EBF0F8",
            "linecolor": "#EBF0F8",
            "ticks": ""
           },
           "bgcolor": "white",
           "radialaxis": {
            "gridcolor": "#EBF0F8",
            "linecolor": "#EBF0F8",
            "ticks": ""
           }
          },
          "scene": {
           "xaxis": {
            "backgroundcolor": "white",
            "gridcolor": "#DFE8F3",
            "gridwidth": 2,
            "linecolor": "#EBF0F8",
            "showbackground": true,
            "ticks": "",
            "zerolinecolor": "#EBF0F8"
           },
           "yaxis": {
            "backgroundcolor": "white",
            "gridcolor": "#DFE8F3",
            "gridwidth": 2,
            "linecolor": "#EBF0F8",
            "showbackground": true,
            "ticks": "",
            "zerolinecolor": "#EBF0F8"
           },
           "zaxis": {
            "backgroundcolor": "white",
            "gridcolor": "#DFE8F3",
            "gridwidth": 2,
            "linecolor": "#EBF0F8",
            "showbackground": true,
            "ticks": "",
            "zerolinecolor": "#EBF0F8"
           }
          },
          "shapedefaults": {
           "line": {
            "color": "#2a3f5f"
           }
          },
          "ternary": {
           "aaxis": {
            "gridcolor": "#DFE8F3",
            "linecolor": "#A2B1C6",
            "ticks": ""
           },
           "baxis": {
            "gridcolor": "#DFE8F3",
            "linecolor": "#A2B1C6",
            "ticks": ""
           },
           "bgcolor": "white",
           "caxis": {
            "gridcolor": "#DFE8F3",
            "linecolor": "#A2B1C6",
            "ticks": ""
           }
          },
          "title": {
           "x": 0.05
          },
          "xaxis": {
           "automargin": true,
           "gridcolor": "#EBF0F8",
           "linecolor": "#EBF0F8",
           "ticks": "",
           "title": {
            "standoff": 15
           },
           "zerolinecolor": "#EBF0F8",
           "zerolinewidth": 2
          },
          "yaxis": {
           "automargin": true,
           "gridcolor": "#EBF0F8",
           "linecolor": "#EBF0F8",
           "ticks": "",
           "title": {
            "standoff": 15
           },
           "zerolinecolor": "#EBF0F8",
           "zerolinewidth": 2
          }
         }
        },
        "title": {
         "text": "Mauá Macro FIC FIM"
        },
        "width": 600
       }
      }
     },
     "metadata": {}
    },
    {
     "output_type": "display_data",
     "data": {
      "application/vnd.plotly.v1+json": {
       "config": {
        "plotlyServerURL": "https://plot.ly"
       },
       "data": [
        {
         "connectgaps": true,
         "marker": {
          "size": 3
         },
         "mode": "lines+markers",
         "name": "Bahia AM Maraú FIC de FIM",
         "opacity": 0.8,
         "textfont": {
          "color": "rgb(100,100,100)",
          "size": 9
         },
         "textposition": "top center",
         "type": "scatter",
         "x": [
          "2017-10-31T00:00:00",
          "2017-11-30T00:00:00",
          "2017-12-28T00:00:00",
          "2018-01-31T00:00:00",
          "2018-02-28T00:00:00",
          "2018-03-29T00:00:00",
          "2018-04-30T00:00:00",
          "2018-05-30T00:00:00",
          "2018-06-29T00:00:00",
          "2018-07-31T00:00:00",
          "2018-08-31T00:00:00",
          "2018-09-28T00:00:00",
          "2018-10-31T00:00:00",
          "2018-11-30T00:00:00",
          "2018-12-28T00:00:00",
          "2019-01-31T00:00:00",
          "2019-02-28T00:00:00",
          "2019-03-29T00:00:00",
          "2019-04-30T00:00:00",
          "2019-05-31T00:00:00",
          "2019-06-28T00:00:00",
          "2019-07-31T00:00:00",
          "2019-08-30T00:00:00",
          "2019-09-30T00:00:00",
          "2019-10-31T00:00:00",
          "2019-11-29T00:00:00",
          "2019-12-31T00:00:00",
          "2020-01-31T00:00:00",
          "2020-02-28T00:00:00",
          "2020-03-31T00:00:00",
          "2020-04-30T00:00:00",
          "2020-05-29T00:00:00"
         ],
         "y": [
          72862.10769151412,
          73107.48911597003,
          74127.79456133986,
          75332.64359963297,
          76729.75770554662,
          78513.45660295815,
          79075.61889857045,
          77833.42252247344,
          78112.39011069735,
          78811.36564726662,
          79174.14356533613,
          79513.7123102211,
          80050.65706503383,
          79551.2449512211,
          80329.6680271874,
          82176.39969611577,
          82696.89964180157,
          83151.14797149441,
          83430.33481031658,
          83382.13765129316,
          84488.14622829415,
          84926.22506130171,
          85542.34937347435,
          86089.03265144528,
          87436.13704549918,
          86015.08495322832,
          87457.91803863356,
          87297.57545167879,
          86466.9512175406,
          80810.3545727885,
          80837.40967950267,
          81537.05230477975
         ]
        }
       ],
       "layout": {
        "height": 300,
        "legend": {
         "font": {
          "size": 9
         },
         "orientation": "h"
        },
        "template": {
         "data": {
          "bar": [
           {
            "error_x": {
             "color": "#2a3f5f"
            },
            "error_y": {
             "color": "#2a3f5f"
            },
            "marker": {
             "line": {
              "color": "white",
              "width": 0.5
             }
            },
            "type": "bar"
           }
          ],
          "barpolar": [
           {
            "marker": {
             "line": {
              "color": "white",
              "width": 0.5
             }
            },
            "type": "barpolar"
           }
          ],
          "carpet": [
           {
            "aaxis": {
             "endlinecolor": "#2a3f5f",
             "gridcolor": "#C8D4E3",
             "linecolor": "#C8D4E3",
             "minorgridcolor": "#C8D4E3",
             "startlinecolor": "#2a3f5f"
            },
            "baxis": {
             "endlinecolor": "#2a3f5f",
             "gridcolor": "#C8D4E3",
             "linecolor": "#C8D4E3",
             "minorgridcolor": "#C8D4E3",
             "startlinecolor": "#2a3f5f"
            },
            "type": "carpet"
           }
          ],
          "choropleth": [
           {
            "colorbar": {
             "outlinewidth": 0,
             "ticks": ""
            },
            "type": "choropleth"
           }
          ],
          "contour": [
           {
            "colorbar": {
             "outlinewidth": 0,
             "ticks": ""
            },
            "colorscale": [
             [
              0,
              "#0d0887"
             ],
             [
              0.1111111111111111,
              "#46039f"
             ],
             [
              0.2222222222222222,
              "#7201a8"
             ],
             [
              0.3333333333333333,
              "#9c179e"
             ],
             [
              0.4444444444444444,
              "#bd3786"
             ],
             [
              0.5555555555555556,
              "#d8576b"
             ],
             [
              0.6666666666666666,
              "#ed7953"
             ],
             [
              0.7777777777777778,
              "#fb9f3a"
             ],
             [
              0.8888888888888888,
              "#fdca26"
             ],
             [
              1,
              "#f0f921"
             ]
            ],
            "type": "contour"
           }
          ],
          "contourcarpet": [
           {
            "colorbar": {
             "outlinewidth": 0,
             "ticks": ""
            },
            "type": "contourcarpet"
           }
          ],
          "heatmap": [
           {
            "colorbar": {
             "outlinewidth": 0,
             "ticks": ""
            },
            "colorscale": [
             [
              0,
              "#0d0887"
             ],
             [
              0.1111111111111111,
              "#46039f"
             ],
             [
              0.2222222222222222,
              "#7201a8"
             ],
             [
              0.3333333333333333,
              "#9c179e"
             ],
             [
              0.4444444444444444,
              "#bd3786"
             ],
             [
              0.5555555555555556,
              "#d8576b"
             ],
             [
              0.6666666666666666,
              "#ed7953"
             ],
             [
              0.7777777777777778,
              "#fb9f3a"
             ],
             [
              0.8888888888888888,
              "#fdca26"
             ],
             [
              1,
              "#f0f921"
             ]
            ],
            "type": "heatmap"
           }
          ],
          "heatmapgl": [
           {
            "colorbar": {
             "outlinewidth": 0,
             "ticks": ""
            },
            "colorscale": [
             [
              0,
              "#0d0887"
             ],
             [
              0.1111111111111111,
              "#46039f"
             ],
             [
              0.2222222222222222,
              "#7201a8"
             ],
             [
              0.3333333333333333,
              "#9c179e"
             ],
             [
              0.4444444444444444,
              "#bd3786"
             ],
             [
              0.5555555555555556,
              "#d8576b"
             ],
             [
              0.6666666666666666,
              "#ed7953"
             ],
             [
              0.7777777777777778,
              "#fb9f3a"
             ],
             [
              0.8888888888888888,
              "#fdca26"
             ],
             [
              1,
              "#f0f921"
             ]
            ],
            "type": "heatmapgl"
           }
          ],
          "histogram": [
           {
            "marker": {
             "colorbar": {
              "outlinewidth": 0,
              "ticks": ""
             }
            },
            "type": "histogram"
           }
          ],
          "histogram2d": [
           {
            "colorbar": {
             "outlinewidth": 0,
             "ticks": ""
            },
            "colorscale": [
             [
              0,
              "#0d0887"
             ],
             [
              0.1111111111111111,
              "#46039f"
             ],
             [
              0.2222222222222222,
              "#7201a8"
             ],
             [
              0.3333333333333333,
              "#9c179e"
             ],
             [
              0.4444444444444444,
              "#bd3786"
             ],
             [
              0.5555555555555556,
              "#d8576b"
             ],
             [
              0.6666666666666666,
              "#ed7953"
             ],
             [
              0.7777777777777778,
              "#fb9f3a"
             ],
             [
              0.8888888888888888,
              "#fdca26"
             ],
             [
              1,
              "#f0f921"
             ]
            ],
            "type": "histogram2d"
           }
          ],
          "histogram2dcontour": [
           {
            "colorbar": {
             "outlinewidth": 0,
             "ticks": ""
            },
            "colorscale": [
             [
              0,
              "#0d0887"
             ],
             [
              0.1111111111111111,
              "#46039f"
             ],
             [
              0.2222222222222222,
              "#7201a8"
             ],
             [
              0.3333333333333333,
              "#9c179e"
             ],
             [
              0.4444444444444444,
              "#bd3786"
             ],
             [
              0.5555555555555556,
              "#d8576b"
             ],
             [
              0.6666666666666666,
              "#ed7953"
             ],
             [
              0.7777777777777778,
              "#fb9f3a"
             ],
             [
              0.8888888888888888,
              "#fdca26"
             ],
             [
              1,
              "#f0f921"
             ]
            ],
            "type": "histogram2dcontour"
           }
          ],
          "mesh3d": [
           {
            "colorbar": {
             "outlinewidth": 0,
             "ticks": ""
            },
            "type": "mesh3d"
           }
          ],
          "parcoords": [
           {
            "line": {
             "colorbar": {
              "outlinewidth": 0,
              "ticks": ""
             }
            },
            "type": "parcoords"
           }
          ],
          "pie": [
           {
            "automargin": true,
            "type": "pie"
           }
          ],
          "scatter": [
           {
            "marker": {
             "colorbar": {
              "outlinewidth": 0,
              "ticks": ""
             }
            },
            "type": "scatter"
           }
          ],
          "scatter3d": [
           {
            "line": {
             "colorbar": {
              "outlinewidth": 0,
              "ticks": ""
             }
            },
            "marker": {
             "colorbar": {
              "outlinewidth": 0,
              "ticks": ""
             }
            },
            "type": "scatter3d"
           }
          ],
          "scattercarpet": [
           {
            "marker": {
             "colorbar": {
              "outlinewidth": 0,
              "ticks": ""
             }
            },
            "type": "scattercarpet"
           }
          ],
          "scattergeo": [
           {
            "marker": {
             "colorbar": {
              "outlinewidth": 0,
              "ticks": ""
             }
            },
            "type": "scattergeo"
           }
          ],
          "scattergl": [
           {
            "marker": {
             "colorbar": {
              "outlinewidth": 0,
              "ticks": ""
             }
            },
            "type": "scattergl"
           }
          ],
          "scattermapbox": [
           {
            "marker": {
             "colorbar": {
              "outlinewidth": 0,
              "ticks": ""
             }
            },
            "type": "scattermapbox"
           }
          ],
          "scatterpolar": [
           {
            "marker": {
             "colorbar": {
              "outlinewidth": 0,
              "ticks": ""
             }
            },
            "type": "scatterpolar"
           }
          ],
          "scatterpolargl": [
           {
            "marker": {
             "colorbar": {
              "outlinewidth": 0,
              "ticks": ""
             }
            },
            "type": "scatterpolargl"
           }
          ],
          "scatterternary": [
           {
            "marker": {
             "colorbar": {
              "outlinewidth": 0,
              "ticks": ""
             }
            },
            "type": "scatterternary"
           }
          ],
          "surface": [
           {
            "colorbar": {
             "outlinewidth": 0,
             "ticks": ""
            },
            "colorscale": [
             [
              0,
              "#0d0887"
             ],
             [
              0.1111111111111111,
              "#46039f"
             ],
             [
              0.2222222222222222,
              "#7201a8"
             ],
             [
              0.3333333333333333,
              "#9c179e"
             ],
             [
              0.4444444444444444,
              "#bd3786"
             ],
             [
              0.5555555555555556,
              "#d8576b"
             ],
             [
              0.6666666666666666,
              "#ed7953"
             ],
             [
              0.7777777777777778,
              "#fb9f3a"
             ],
             [
              0.8888888888888888,
              "#fdca26"
             ],
             [
              1,
              "#f0f921"
             ]
            ],
            "type": "surface"
           }
          ],
          "table": [
           {
            "cells": {
             "fill": {
              "color": "#EBF0F8"
             },
             "line": {
              "color": "white"
             }
            },
            "header": {
             "fill": {
              "color": "#C8D4E3"
             },
             "line": {
              "color": "white"
             }
            },
            "type": "table"
           }
          ]
         },
         "layout": {
          "annotationdefaults": {
           "arrowcolor": "#2a3f5f",
           "arrowhead": 0,
           "arrowwidth": 1
          },
          "coloraxis": {
           "colorbar": {
            "outlinewidth": 0,
            "ticks": ""
           }
          },
          "colorscale": {
           "diverging": [
            [
             0,
             "#8e0152"
            ],
            [
             0.1,
             "#c51b7d"
            ],
            [
             0.2,
             "#de77ae"
            ],
            [
             0.3,
             "#f1b6da"
            ],
            [
             0.4,
             "#fde0ef"
            ],
            [
             0.5,
             "#f7f7f7"
            ],
            [
             0.6,
             "#e6f5d0"
            ],
            [
             0.7,
             "#b8e186"
            ],
            [
             0.8,
             "#7fbc41"
            ],
            [
             0.9,
             "#4d9221"
            ],
            [
             1,
             "#276419"
            ]
           ],
           "sequential": [
            [
             0,
             "#0d0887"
            ],
            [
             0.1111111111111111,
             "#46039f"
            ],
            [
             0.2222222222222222,
             "#7201a8"
            ],
            [
             0.3333333333333333,
             "#9c179e"
            ],
            [
             0.4444444444444444,
             "#bd3786"
            ],
            [
             0.5555555555555556,
             "#d8576b"
            ],
            [
             0.6666666666666666,
             "#ed7953"
            ],
            [
             0.7777777777777778,
             "#fb9f3a"
            ],
            [
             0.8888888888888888,
             "#fdca26"
            ],
            [
             1,
             "#f0f921"
            ]
           ],
           "sequentialminus": [
            [
             0,
             "#0d0887"
            ],
            [
             0.1111111111111111,
             "#46039f"
            ],
            [
             0.2222222222222222,
             "#7201a8"
            ],
            [
             0.3333333333333333,
             "#9c179e"
            ],
            [
             0.4444444444444444,
             "#bd3786"
            ],
            [
             0.5555555555555556,
             "#d8576b"
            ],
            [
             0.6666666666666666,
             "#ed7953"
            ],
            [
             0.7777777777777778,
             "#fb9f3a"
            ],
            [
             0.8888888888888888,
             "#fdca26"
            ],
            [
             1,
             "#f0f921"
            ]
           ]
          },
          "colorway": [
           "#636efa",
           "#EF553B",
           "#00cc96",
           "#ab63fa",
           "#FFA15A",
           "#19d3f3",
           "#FF6692",
           "#B6E880",
           "#FF97FF",
           "#FECB52"
          ],
          "font": {
           "color": "#2a3f5f"
          },
          "geo": {
           "bgcolor": "white",
           "lakecolor": "white",
           "landcolor": "white",
           "showlakes": true,
           "showland": true,
           "subunitcolor": "#C8D4E3"
          },
          "hoverlabel": {
           "align": "left"
          },
          "hovermode": "closest",
          "mapbox": {
           "style": "light"
          },
          "paper_bgcolor": "white",
          "plot_bgcolor": "white",
          "polar": {
           "angularaxis": {
            "gridcolor": "#EBF0F8",
            "linecolor": "#EBF0F8",
            "ticks": ""
           },
           "bgcolor": "white",
           "radialaxis": {
            "gridcolor": "#EBF0F8",
            "linecolor": "#EBF0F8",
            "ticks": ""
           }
          },
          "scene": {
           "xaxis": {
            "backgroundcolor": "white",
            "gridcolor": "#DFE8F3",
            "gridwidth": 2,
            "linecolor": "#EBF0F8",
            "showbackground": true,
            "ticks": "",
            "zerolinecolor": "#EBF0F8"
           },
           "yaxis": {
            "backgroundcolor": "white",
            "gridcolor": "#DFE8F3",
            "gridwidth": 2,
            "linecolor": "#EBF0F8",
            "showbackground": true,
            "ticks": "",
            "zerolinecolor": "#EBF0F8"
           },
           "zaxis": {
            "backgroundcolor": "white",
            "gridcolor": "#DFE8F3",
            "gridwidth": 2,
            "linecolor": "#EBF0F8",
            "showbackground": true,
            "ticks": "",
            "zerolinecolor": "#EBF0F8"
           }
          },
          "shapedefaults": {
           "line": {
            "color": "#2a3f5f"
           }
          },
          "ternary": {
           "aaxis": {
            "gridcolor": "#DFE8F3",
            "linecolor": "#A2B1C6",
            "ticks": ""
           },
           "baxis": {
            "gridcolor": "#DFE8F3",
            "linecolor": "#A2B1C6",
            "ticks": ""
           },
           "bgcolor": "white",
           "caxis": {
            "gridcolor": "#DFE8F3",
            "linecolor": "#A2B1C6",
            "ticks": ""
           }
          },
          "title": {
           "x": 0.05
          },
          "xaxis": {
           "automargin": true,
           "gridcolor": "#EBF0F8",
           "linecolor": "#EBF0F8",
           "ticks": "",
           "title": {
            "standoff": 15
           },
           "zerolinecolor": "#EBF0F8",
           "zerolinewidth": 2
          },
          "yaxis": {
           "automargin": true,
           "gridcolor": "#EBF0F8",
           "linecolor": "#EBF0F8",
           "ticks": "",
           "title": {
            "standoff": 15
           },
           "zerolinecolor": "#EBF0F8",
           "zerolinewidth": 2
          }
         }
        },
        "title": {
         "text": "Bahia AM Maraú FIC de FIM"
        },
        "width": 600
       }
      }
     },
     "metadata": {}
    },
    {
     "output_type": "display_data",
     "data": {
      "application/vnd.plotly.v1+json": {
       "config": {
        "plotlyServerURL": "https://plot.ly"
       },
       "data": [
        {
         "connectgaps": true,
         "marker": {
          "size": 3
         },
         "mode": "lines+markers",
         "name": "XP Macro FIM",
         "opacity": 0.8,
         "textfont": {
          "color": "rgb(100,100,100)",
          "size": 9
         },
         "textposition": "top center",
         "type": "scatter",
         "x": [
          "2018-04-30T00:00:00",
          "2018-05-30T00:00:00",
          "2018-06-29T00:00:00",
          "2018-07-31T00:00:00",
          "2018-08-31T00:00:00",
          "2018-09-28T00:00:00",
          "2018-10-31T00:00:00",
          "2018-11-30T00:00:00",
          "2018-12-28T00:00:00",
          "2019-01-31T00:00:00",
          "2019-02-28T00:00:00",
          "2019-03-29T00:00:00",
          "2019-04-30T00:00:00",
          "2019-05-31T00:00:00",
          "2019-06-28T00:00:00",
          "2019-07-31T00:00:00",
          "2019-08-30T00:00:00",
          "2019-09-30T00:00:00",
          "2019-10-31T00:00:00",
          "2019-11-29T00:00:00",
          "2019-12-31T00:00:00",
          "2020-01-31T00:00:00",
          "2020-02-28T00:00:00",
          "2020-03-31T00:00:00",
          "2020-04-30T00:00:00",
          "2020-05-29T00:00:00"
         ],
         "y": [
          19500.00000000551,
          18965.239136457923,
          10078.767288453142,
          10048.96864603108,
          10147.950328112884,
          10166.662357771178,
          10250.14514281648,
          10104.32461225856,
          10124.22100506436,
          10485.684918950112,
          10428.898725041847,
          10434.12206414569,
          10497.72214317926,
          10353.74418892236,
          10531.437847514679,
          10620.800972026225,
          10627.477667821404,
          10814.060400311897,
          11019.054406941836,
          10781.921376802571,
          10984.584275446081,
          10969.104109669777,
          10788.582895120173,
          9755.113748461734,
          9931.16561284924,
          10448.030361425897
         ]
        }
       ],
       "layout": {
        "height": 300,
        "legend": {
         "font": {
          "size": 9
         },
         "orientation": "h"
        },
        "template": {
         "data": {
          "bar": [
           {
            "error_x": {
             "color": "#2a3f5f"
            },
            "error_y": {
             "color": "#2a3f5f"
            },
            "marker": {
             "line": {
              "color": "white",
              "width": 0.5
             }
            },
            "type": "bar"
           }
          ],
          "barpolar": [
           {
            "marker": {
             "line": {
              "color": "white",
              "width": 0.5
             }
            },
            "type": "barpolar"
           }
          ],
          "carpet": [
           {
            "aaxis": {
             "endlinecolor": "#2a3f5f",
             "gridcolor": "#C8D4E3",
             "linecolor": "#C8D4E3",
             "minorgridcolor": "#C8D4E3",
             "startlinecolor": "#2a3f5f"
            },
            "baxis": {
             "endlinecolor": "#2a3f5f",
             "gridcolor": "#C8D4E3",
             "linecolor": "#C8D4E3",
             "minorgridcolor": "#C8D4E3",
             "startlinecolor": "#2a3f5f"
            },
            "type": "carpet"
           }
          ],
          "choropleth": [
           {
            "colorbar": {
             "outlinewidth": 0,
             "ticks": ""
            },
            "type": "choropleth"
           }
          ],
          "contour": [
           {
            "colorbar": {
             "outlinewidth": 0,
             "ticks": ""
            },
            "colorscale": [
             [
              0,
              "#0d0887"
             ],
             [
              0.1111111111111111,
              "#46039f"
             ],
             [
              0.2222222222222222,
              "#7201a8"
             ],
             [
              0.3333333333333333,
              "#9c179e"
             ],
             [
              0.4444444444444444,
              "#bd3786"
             ],
             [
              0.5555555555555556,
              "#d8576b"
             ],
             [
              0.6666666666666666,
              "#ed7953"
             ],
             [
              0.7777777777777778,
              "#fb9f3a"
             ],
             [
              0.8888888888888888,
              "#fdca26"
             ],
             [
              1,
              "#f0f921"
             ]
            ],
            "type": "contour"
           }
          ],
          "contourcarpet": [
           {
            "colorbar": {
             "outlinewidth": 0,
             "ticks": ""
            },
            "type": "contourcarpet"
           }
          ],
          "heatmap": [
           {
            "colorbar": {
             "outlinewidth": 0,
             "ticks": ""
            },
            "colorscale": [
             [
              0,
              "#0d0887"
             ],
             [
              0.1111111111111111,
              "#46039f"
             ],
             [
              0.2222222222222222,
              "#7201a8"
             ],
             [
              0.3333333333333333,
              "#9c179e"
             ],
             [
              0.4444444444444444,
              "#bd3786"
             ],
             [
              0.5555555555555556,
              "#d8576b"
             ],
             [
              0.6666666666666666,
              "#ed7953"
             ],
             [
              0.7777777777777778,
              "#fb9f3a"
             ],
             [
              0.8888888888888888,
              "#fdca26"
             ],
             [
              1,
              "#f0f921"
             ]
            ],
            "type": "heatmap"
           }
          ],
          "heatmapgl": [
           {
            "colorbar": {
             "outlinewidth": 0,
             "ticks": ""
            },
            "colorscale": [
             [
              0,
              "#0d0887"
             ],
             [
              0.1111111111111111,
              "#46039f"
             ],
             [
              0.2222222222222222,
              "#7201a8"
             ],
             [
              0.3333333333333333,
              "#9c179e"
             ],
             [
              0.4444444444444444,
              "#bd3786"
             ],
             [
              0.5555555555555556,
              "#d8576b"
             ],
             [
              0.6666666666666666,
              "#ed7953"
             ],
             [
              0.7777777777777778,
              "#fb9f3a"
             ],
             [
              0.8888888888888888,
              "#fdca26"
             ],
             [
              1,
              "#f0f921"
             ]
            ],
            "type": "heatmapgl"
           }
          ],
          "histogram": [
           {
            "marker": {
             "colorbar": {
              "outlinewidth": 0,
              "ticks": ""
             }
            },
            "type": "histogram"
           }
          ],
          "histogram2d": [
           {
            "colorbar": {
             "outlinewidth": 0,
             "ticks": ""
            },
            "colorscale": [
             [
              0,
              "#0d0887"
             ],
             [
              0.1111111111111111,
              "#46039f"
             ],
             [
              0.2222222222222222,
              "#7201a8"
             ],
             [
              0.3333333333333333,
              "#9c179e"
             ],
             [
              0.4444444444444444,
              "#bd3786"
             ],
             [
              0.5555555555555556,
              "#d8576b"
             ],
             [
              0.6666666666666666,
              "#ed7953"
             ],
             [
              0.7777777777777778,
              "#fb9f3a"
             ],
             [
              0.8888888888888888,
              "#fdca26"
             ],
             [
              1,
              "#f0f921"
             ]
            ],
            "type": "histogram2d"
           }
          ],
          "histogram2dcontour": [
           {
            "colorbar": {
             "outlinewidth": 0,
             "ticks": ""
            },
            "colorscale": [
             [
              0,
              "#0d0887"
             ],
             [
              0.1111111111111111,
              "#46039f"
             ],
             [
              0.2222222222222222,
              "#7201a8"
             ],
             [
              0.3333333333333333,
              "#9c179e"
             ],
             [
              0.4444444444444444,
              "#bd3786"
             ],
             [
              0.5555555555555556,
              "#d8576b"
             ],
             [
              0.6666666666666666,
              "#ed7953"
             ],
             [
              0.7777777777777778,
              "#fb9f3a"
             ],
             [
              0.8888888888888888,
              "#fdca26"
             ],
             [
              1,
              "#f0f921"
             ]
            ],
            "type": "histogram2dcontour"
           }
          ],
          "mesh3d": [
           {
            "colorbar": {
             "outlinewidth": 0,
             "ticks": ""
            },
            "type": "mesh3d"
           }
          ],
          "parcoords": [
           {
            "line": {
             "colorbar": {
              "outlinewidth": 0,
              "ticks": ""
             }
            },
            "type": "parcoords"
           }
          ],
          "pie": [
           {
            "automargin": true,
            "type": "pie"
           }
          ],
          "scatter": [
           {
            "marker": {
             "colorbar": {
              "outlinewidth": 0,
              "ticks": ""
             }
            },
            "type": "scatter"
           }
          ],
          "scatter3d": [
           {
            "line": {
             "colorbar": {
              "outlinewidth": 0,
              "ticks": ""
             }
            },
            "marker": {
             "colorbar": {
              "outlinewidth": 0,
              "ticks": ""
             }
            },
            "type": "scatter3d"
           }
          ],
          "scattercarpet": [
           {
            "marker": {
             "colorbar": {
              "outlinewidth": 0,
              "ticks": ""
             }
            },
            "type": "scattercarpet"
           }
          ],
          "scattergeo": [
           {
            "marker": {
             "colorbar": {
              "outlinewidth": 0,
              "ticks": ""
             }
            },
            "type": "scattergeo"
           }
          ],
          "scattergl": [
           {
            "marker": {
             "colorbar": {
              "outlinewidth": 0,
              "ticks": ""
             }
            },
            "type": "scattergl"
           }
          ],
          "scattermapbox": [
           {
            "marker": {
             "colorbar": {
              "outlinewidth": 0,
              "ticks": ""
             }
            },
            "type": "scattermapbox"
           }
          ],
          "scatterpolar": [
           {
            "marker": {
             "colorbar": {
              "outlinewidth": 0,
              "ticks": ""
             }
            },
            "type": "scatterpolar"
           }
          ],
          "scatterpolargl": [
           {
            "marker": {
             "colorbar": {
              "outlinewidth": 0,
              "ticks": ""
             }
            },
            "type": "scatterpolargl"
           }
          ],
          "scatterternary": [
           {
            "marker": {
             "colorbar": {
              "outlinewidth": 0,
              "ticks": ""
             }
            },
            "type": "scatterternary"
           }
          ],
          "surface": [
           {
            "colorbar": {
             "outlinewidth": 0,
             "ticks": ""
            },
            "colorscale": [
             [
              0,
              "#0d0887"
             ],
             [
              0.1111111111111111,
              "#46039f"
             ],
             [
              0.2222222222222222,
              "#7201a8"
             ],
             [
              0.3333333333333333,
              "#9c179e"
             ],
             [
              0.4444444444444444,
              "#bd3786"
             ],
             [
              0.5555555555555556,
              "#d8576b"
             ],
             [
              0.6666666666666666,
              "#ed7953"
             ],
             [
              0.7777777777777778,
              "#fb9f3a"
             ],
             [
              0.8888888888888888,
              "#fdca26"
             ],
             [
              1,
              "#f0f921"
             ]
            ],
            "type": "surface"
           }
          ],
          "table": [
           {
            "cells": {
             "fill": {
              "color": "#EBF0F8"
             },
             "line": {
              "color": "white"
             }
            },
            "header": {
             "fill": {
              "color": "#C8D4E3"
             },
             "line": {
              "color": "white"
             }
            },
            "type": "table"
           }
          ]
         },
         "layout": {
          "annotationdefaults": {
           "arrowcolor": "#2a3f5f",
           "arrowhead": 0,
           "arrowwidth": 1
          },
          "coloraxis": {
           "colorbar": {
            "outlinewidth": 0,
            "ticks": ""
           }
          },
          "colorscale": {
           "diverging": [
            [
             0,
             "#8e0152"
            ],
            [
             0.1,
             "#c51b7d"
            ],
            [
             0.2,
             "#de77ae"
            ],
            [
             0.3,
             "#f1b6da"
            ],
            [
             0.4,
             "#fde0ef"
            ],
            [
             0.5,
             "#f7f7f7"
            ],
            [
             0.6,
             "#e6f5d0"
            ],
            [
             0.7,
             "#b8e186"
            ],
            [
             0.8,
             "#7fbc41"
            ],
            [
             0.9,
             "#4d9221"
            ],
            [
             1,
             "#276419"
            ]
           ],
           "sequential": [
            [
             0,
             "#0d0887"
            ],
            [
             0.1111111111111111,
             "#46039f"
            ],
            [
             0.2222222222222222,
             "#7201a8"
            ],
            [
             0.3333333333333333,
             "#9c179e"
            ],
            [
             0.4444444444444444,
             "#bd3786"
            ],
            [
             0.5555555555555556,
             "#d8576b"
            ],
            [
             0.6666666666666666,
             "#ed7953"
            ],
            [
             0.7777777777777778,
             "#fb9f3a"
            ],
            [
             0.8888888888888888,
             "#fdca26"
            ],
            [
             1,
             "#f0f921"
            ]
           ],
           "sequentialminus": [
            [
             0,
             "#0d0887"
            ],
            [
             0.1111111111111111,
             "#46039f"
            ],
            [
             0.2222222222222222,
             "#7201a8"
            ],
            [
             0.3333333333333333,
             "#9c179e"
            ],
            [
             0.4444444444444444,
             "#bd3786"
            ],
            [
             0.5555555555555556,
             "#d8576b"
            ],
            [
             0.6666666666666666,
             "#ed7953"
            ],
            [
             0.7777777777777778,
             "#fb9f3a"
            ],
            [
             0.8888888888888888,
             "#fdca26"
            ],
            [
             1,
             "#f0f921"
            ]
           ]
          },
          "colorway": [
           "#636efa",
           "#EF553B",
           "#00cc96",
           "#ab63fa",
           "#FFA15A",
           "#19d3f3",
           "#FF6692",
           "#B6E880",
           "#FF97FF",
           "#FECB52"
          ],
          "font": {
           "color": "#2a3f5f"
          },
          "geo": {
           "bgcolor": "white",
           "lakecolor": "white",
           "landcolor": "white",
           "showlakes": true,
           "showland": true,
           "subunitcolor": "#C8D4E3"
          },
          "hoverlabel": {
           "align": "left"
          },
          "hovermode": "closest",
          "mapbox": {
           "style": "light"
          },
          "paper_bgcolor": "white",
          "plot_bgcolor": "white",
          "polar": {
           "angularaxis": {
            "gridcolor": "#EBF0F8",
            "linecolor": "#EBF0F8",
            "ticks": ""
           },
           "bgcolor": "white",
           "radialaxis": {
            "gridcolor": "#EBF0F8",
            "linecolor": "#EBF0F8",
            "ticks": ""
           }
          },
          "scene": {
           "xaxis": {
            "backgroundcolor": "white",
            "gridcolor": "#DFE8F3",
            "gridwidth": 2,
            "linecolor": "#EBF0F8",
            "showbackground": true,
            "ticks": "",
            "zerolinecolor": "#EBF0F8"
           },
           "yaxis": {
            "backgroundcolor": "white",
            "gridcolor": "#DFE8F3",
            "gridwidth": 2,
            "linecolor": "#EBF0F8",
            "showbackground": true,
            "ticks": "",
            "zerolinecolor": "#EBF0F8"
           },
           "zaxis": {
            "backgroundcolor": "white",
            "gridcolor": "#DFE8F3",
            "gridwidth": 2,
            "linecolor": "#EBF0F8",
            "showbackground": true,
            "ticks": "",
            "zerolinecolor": "#EBF0F8"
           }
          },
          "shapedefaults": {
           "line": {
            "color": "#2a3f5f"
           }
          },
          "ternary": {
           "aaxis": {
            "gridcolor": "#DFE8F3",
            "linecolor": "#A2B1C6",
            "ticks": ""
           },
           "baxis": {
            "gridcolor": "#DFE8F3",
            "linecolor": "#A2B1C6",
            "ticks": ""
           },
           "bgcolor": "white",
           "caxis": {
            "gridcolor": "#DFE8F3",
            "linecolor": "#A2B1C6",
            "ticks": ""
           }
          },
          "title": {
           "x": 0.05
          },
          "xaxis": {
           "automargin": true,
           "gridcolor": "#EBF0F8",
           "linecolor": "#EBF0F8",
           "ticks": "",
           "title": {
            "standoff": 15
           },
           "zerolinecolor": "#EBF0F8",
           "zerolinewidth": 2
          },
          "yaxis": {
           "automargin": true,
           "gridcolor": "#EBF0F8",
           "linecolor": "#EBF0F8",
           "ticks": "",
           "title": {
            "standoff": 15
           },
           "zerolinecolor": "#EBF0F8",
           "zerolinewidth": 2
          }
         }
        },
        "title": {
         "text": "XP Macro FIM"
        },
        "width": 600
       }
      }
     },
     "metadata": {}
    },
    {
     "output_type": "display_data",
     "data": {
      "application/vnd.plotly.v1+json": {
       "config": {
        "plotlyServerURL": "https://plot.ly"
       },
       "data": [
        {
         "connectgaps": true,
         "marker": {
          "size": 3
         },
         "mode": "lines+markers",
         "name": "Polo Norte I FIC FIM",
         "opacity": 0.8,
         "textfont": {
          "color": "rgb(100,100,100)",
          "size": 9
         },
         "textposition": "top center",
         "type": "scatter",
         "x": [
          "2018-12-28T00:00:00",
          "2019-01-31T00:00:00",
          "2019-02-28T00:00:00",
          "2019-03-29T00:00:00",
          "2019-04-30T00:00:00",
          "2019-05-31T00:00:00",
          "2019-06-28T00:00:00",
          "2019-07-31T00:00:00",
          "2019-08-30T00:00:00",
          "2019-09-30T00:00:00",
          "2019-10-31T00:00:00",
          "2019-11-29T00:00:00",
          "2019-12-31T00:00:00",
          "2020-01-31T00:00:00",
          "2020-02-28T00:00:00",
          "2020-03-31T00:00:00",
          "2020-04-30T00:00:00",
          "2020-05-29T00:00:00"
         ],
         "y": [
          30017.35529115074,
          31278.609331385956,
          30997.26492172474,
          30596.822366753553,
          30366.141975250423,
          30281.739295694642,
          30568.302950372334,
          29651.0304171398,
          29417.3707574226,
          29687.81232579049,
          30253.921991049152,
          31125.561760910314,
          32700.152256282174,
          33473.72423692967,
          32963.44668318952,
          30016.263029630998,
          31975.506242615356,
          32378.596645695772
         ]
        }
       ],
       "layout": {
        "height": 300,
        "legend": {
         "font": {
          "size": 9
         },
         "orientation": "h"
        },
        "template": {
         "data": {
          "bar": [
           {
            "error_x": {
             "color": "#2a3f5f"
            },
            "error_y": {
             "color": "#2a3f5f"
            },
            "marker": {
             "line": {
              "color": "white",
              "width": 0.5
             }
            },
            "type": "bar"
           }
          ],
          "barpolar": [
           {
            "marker": {
             "line": {
              "color": "white",
              "width": 0.5
             }
            },
            "type": "barpolar"
           }
          ],
          "carpet": [
           {
            "aaxis": {
             "endlinecolor": "#2a3f5f",
             "gridcolor": "#C8D4E3",
             "linecolor": "#C8D4E3",
             "minorgridcolor": "#C8D4E3",
             "startlinecolor": "#2a3f5f"
            },
            "baxis": {
             "endlinecolor": "#2a3f5f",
             "gridcolor": "#C8D4E3",
             "linecolor": "#C8D4E3",
             "minorgridcolor": "#C8D4E3",
             "startlinecolor": "#2a3f5f"
            },
            "type": "carpet"
           }
          ],
          "choropleth": [
           {
            "colorbar": {
             "outlinewidth": 0,
             "ticks": ""
            },
            "type": "choropleth"
           }
          ],
          "contour": [
           {
            "colorbar": {
             "outlinewidth": 0,
             "ticks": ""
            },
            "colorscale": [
             [
              0,
              "#0d0887"
             ],
             [
              0.1111111111111111,
              "#46039f"
             ],
             [
              0.2222222222222222,
              "#7201a8"
             ],
             [
              0.3333333333333333,
              "#9c179e"
             ],
             [
              0.4444444444444444,
              "#bd3786"
             ],
             [
              0.5555555555555556,
              "#d8576b"
             ],
             [
              0.6666666666666666,
              "#ed7953"
             ],
             [
              0.7777777777777778,
              "#fb9f3a"
             ],
             [
              0.8888888888888888,
              "#fdca26"
             ],
             [
              1,
              "#f0f921"
             ]
            ],
            "type": "contour"
           }
          ],
          "contourcarpet": [
           {
            "colorbar": {
             "outlinewidth": 0,
             "ticks": ""
            },
            "type": "contourcarpet"
           }
          ],
          "heatmap": [
           {
            "colorbar": {
             "outlinewidth": 0,
             "ticks": ""
            },
            "colorscale": [
             [
              0,
              "#0d0887"
             ],
             [
              0.1111111111111111,
              "#46039f"
             ],
             [
              0.2222222222222222,
              "#7201a8"
             ],
             [
              0.3333333333333333,
              "#9c179e"
             ],
             [
              0.4444444444444444,
              "#bd3786"
             ],
             [
              0.5555555555555556,
              "#d8576b"
             ],
             [
              0.6666666666666666,
              "#ed7953"
             ],
             [
              0.7777777777777778,
              "#fb9f3a"
             ],
             [
              0.8888888888888888,
              "#fdca26"
             ],
             [
              1,
              "#f0f921"
             ]
            ],
            "type": "heatmap"
           }
          ],
          "heatmapgl": [
           {
            "colorbar": {
             "outlinewidth": 0,
             "ticks": ""
            },
            "colorscale": [
             [
              0,
              "#0d0887"
             ],
             [
              0.1111111111111111,
              "#46039f"
             ],
             [
              0.2222222222222222,
              "#7201a8"
             ],
             [
              0.3333333333333333,
              "#9c179e"
             ],
             [
              0.4444444444444444,
              "#bd3786"
             ],
             [
              0.5555555555555556,
              "#d8576b"
             ],
             [
              0.6666666666666666,
              "#ed7953"
             ],
             [
              0.7777777777777778,
              "#fb9f3a"
             ],
             [
              0.8888888888888888,
              "#fdca26"
             ],
             [
              1,
              "#f0f921"
             ]
            ],
            "type": "heatmapgl"
           }
          ],
          "histogram": [
           {
            "marker": {
             "colorbar": {
              "outlinewidth": 0,
              "ticks": ""
             }
            },
            "type": "histogram"
           }
          ],
          "histogram2d": [
           {
            "colorbar": {
             "outlinewidth": 0,
             "ticks": ""
            },
            "colorscale": [
             [
              0,
              "#0d0887"
             ],
             [
              0.1111111111111111,
              "#46039f"
             ],
             [
              0.2222222222222222,
              "#7201a8"
             ],
             [
              0.3333333333333333,
              "#9c179e"
             ],
             [
              0.4444444444444444,
              "#bd3786"
             ],
             [
              0.5555555555555556,
              "#d8576b"
             ],
             [
              0.6666666666666666,
              "#ed7953"
             ],
             [
              0.7777777777777778,
              "#fb9f3a"
             ],
             [
              0.8888888888888888,
              "#fdca26"
             ],
             [
              1,
              "#f0f921"
             ]
            ],
            "type": "histogram2d"
           }
          ],
          "histogram2dcontour": [
           {
            "colorbar": {
             "outlinewidth": 0,
             "ticks": ""
            },
            "colorscale": [
             [
              0,
              "#0d0887"
             ],
             [
              0.1111111111111111,
              "#46039f"
             ],
             [
              0.2222222222222222,
              "#7201a8"
             ],
             [
              0.3333333333333333,
              "#9c179e"
             ],
             [
              0.4444444444444444,
              "#bd3786"
             ],
             [
              0.5555555555555556,
              "#d8576b"
             ],
             [
              0.6666666666666666,
              "#ed7953"
             ],
             [
              0.7777777777777778,
              "#fb9f3a"
             ],
             [
              0.8888888888888888,
              "#fdca26"
             ],
             [
              1,
              "#f0f921"
             ]
            ],
            "type": "histogram2dcontour"
           }
          ],
          "mesh3d": [
           {
            "colorbar": {
             "outlinewidth": 0,
             "ticks": ""
            },
            "type": "mesh3d"
           }
          ],
          "parcoords": [
           {
            "line": {
             "colorbar": {
              "outlinewidth": 0,
              "ticks": ""
             }
            },
            "type": "parcoords"
           }
          ],
          "pie": [
           {
            "automargin": true,
            "type": "pie"
           }
          ],
          "scatter": [
           {
            "marker": {
             "colorbar": {
              "outlinewidth": 0,
              "ticks": ""
             }
            },
            "type": "scatter"
           }
          ],
          "scatter3d": [
           {
            "line": {
             "colorbar": {
              "outlinewidth": 0,
              "ticks": ""
             }
            },
            "marker": {
             "colorbar": {
              "outlinewidth": 0,
              "ticks": ""
             }
            },
            "type": "scatter3d"
           }
          ],
          "scattercarpet": [
           {
            "marker": {
             "colorbar": {
              "outlinewidth": 0,
              "ticks": ""
             }
            },
            "type": "scattercarpet"
           }
          ],
          "scattergeo": [
           {
            "marker": {
             "colorbar": {
              "outlinewidth": 0,
              "ticks": ""
             }
            },
            "type": "scattergeo"
           }
          ],
          "scattergl": [
           {
            "marker": {
             "colorbar": {
              "outlinewidth": 0,
              "ticks": ""
             }
            },
            "type": "scattergl"
           }
          ],
          "scattermapbox": [
           {
            "marker": {
             "colorbar": {
              "outlinewidth": 0,
              "ticks": ""
             }
            },
            "type": "scattermapbox"
           }
          ],
          "scatterpolar": [
           {
            "marker": {
             "colorbar": {
              "outlinewidth": 0,
              "ticks": ""
             }
            },
            "type": "scatterpolar"
           }
          ],
          "scatterpolargl": [
           {
            "marker": {
             "colorbar": {
              "outlinewidth": 0,
              "ticks": ""
             }
            },
            "type": "scatterpolargl"
           }
          ],
          "scatterternary": [
           {
            "marker": {
             "colorbar": {
              "outlinewidth": 0,
              "ticks": ""
             }
            },
            "type": "scatterternary"
           }
          ],
          "surface": [
           {
            "colorbar": {
             "outlinewidth": 0,
             "ticks": ""
            },
            "colorscale": [
             [
              0,
              "#0d0887"
             ],
             [
              0.1111111111111111,
              "#46039f"
             ],
             [
              0.2222222222222222,
              "#7201a8"
             ],
             [
              0.3333333333333333,
              "#9c179e"
             ],
             [
              0.4444444444444444,
              "#bd3786"
             ],
             [
              0.5555555555555556,
              "#d8576b"
             ],
             [
              0.6666666666666666,
              "#ed7953"
             ],
             [
              0.7777777777777778,
              "#fb9f3a"
             ],
             [
              0.8888888888888888,
              "#fdca26"
             ],
             [
              1,
              "#f0f921"
             ]
            ],
            "type": "surface"
           }
          ],
          "table": [
           {
            "cells": {
             "fill": {
              "color": "#EBF0F8"
             },
             "line": {
              "color": "white"
             }
            },
            "header": {
             "fill": {
              "color": "#C8D4E3"
             },
             "line": {
              "color": "white"
             }
            },
            "type": "table"
           }
          ]
         },
         "layout": {
          "annotationdefaults": {
           "arrowcolor": "#2a3f5f",
           "arrowhead": 0,
           "arrowwidth": 1
          },
          "coloraxis": {
           "colorbar": {
            "outlinewidth": 0,
            "ticks": ""
           }
          },
          "colorscale": {
           "diverging": [
            [
             0,
             "#8e0152"
            ],
            [
             0.1,
             "#c51b7d"
            ],
            [
             0.2,
             "#de77ae"
            ],
            [
             0.3,
             "#f1b6da"
            ],
            [
             0.4,
             "#fde0ef"
            ],
            [
             0.5,
             "#f7f7f7"
            ],
            [
             0.6,
             "#e6f5d0"
            ],
            [
             0.7,
             "#b8e186"
            ],
            [
             0.8,
             "#7fbc41"
            ],
            [
             0.9,
             "#4d9221"
            ],
            [
             1,
             "#276419"
            ]
           ],
           "sequential": [
            [
             0,
             "#0d0887"
            ],
            [
             0.1111111111111111,
             "#46039f"
            ],
            [
             0.2222222222222222,
             "#7201a8"
            ],
            [
             0.3333333333333333,
             "#9c179e"
            ],
            [
             0.4444444444444444,
             "#bd3786"
            ],
            [
             0.5555555555555556,
             "#d8576b"
            ],
            [
             0.6666666666666666,
             "#ed7953"
            ],
            [
             0.7777777777777778,
             "#fb9f3a"
            ],
            [
             0.8888888888888888,
             "#fdca26"
            ],
            [
             1,
             "#f0f921"
            ]
           ],
           "sequentialminus": [
            [
             0,
             "#0d0887"
            ],
            [
             0.1111111111111111,
             "#46039f"
            ],
            [
             0.2222222222222222,
             "#7201a8"
            ],
            [
             0.3333333333333333,
             "#9c179e"
            ],
            [
             0.4444444444444444,
             "#bd3786"
            ],
            [
             0.5555555555555556,
             "#d8576b"
            ],
            [
             0.6666666666666666,
             "#ed7953"
            ],
            [
             0.7777777777777778,
             "#fb9f3a"
            ],
            [
             0.8888888888888888,
             "#fdca26"
            ],
            [
             1,
             "#f0f921"
            ]
           ]
          },
          "colorway": [
           "#636efa",
           "#EF553B",
           "#00cc96",
           "#ab63fa",
           "#FFA15A",
           "#19d3f3",
           "#FF6692",
           "#B6E880",
           "#FF97FF",
           "#FECB52"
          ],
          "font": {
           "color": "#2a3f5f"
          },
          "geo": {
           "bgcolor": "white",
           "lakecolor": "white",
           "landcolor": "white",
           "showlakes": true,
           "showland": true,
           "subunitcolor": "#C8D4E3"
          },
          "hoverlabel": {
           "align": "left"
          },
          "hovermode": "closest",
          "mapbox": {
           "style": "light"
          },
          "paper_bgcolor": "white",
          "plot_bgcolor": "white",
          "polar": {
           "angularaxis": {
            "gridcolor": "#EBF0F8",
            "linecolor": "#EBF0F8",
            "ticks": ""
           },
           "bgcolor": "white",
           "radialaxis": {
            "gridcolor": "#EBF0F8",
            "linecolor": "#EBF0F8",
            "ticks": ""
           }
          },
          "scene": {
           "xaxis": {
            "backgroundcolor": "white",
            "gridcolor": "#DFE8F3",
            "gridwidth": 2,
            "linecolor": "#EBF0F8",
            "showbackground": true,
            "ticks": "",
            "zerolinecolor": "#EBF0F8"
           },
           "yaxis": {
            "backgroundcolor": "white",
            "gridcolor": "#DFE8F3",
            "gridwidth": 2,
            "linecolor": "#EBF0F8",
            "showbackground": true,
            "ticks": "",
            "zerolinecolor": "#EBF0F8"
           },
           "zaxis": {
            "backgroundcolor": "white",
            "gridcolor": "#DFE8F3",
            "gridwidth": 2,
            "linecolor": "#EBF0F8",
            "showbackground": true,
            "ticks": "",
            "zerolinecolor": "#EBF0F8"
           }
          },
          "shapedefaults": {
           "line": {
            "color": "#2a3f5f"
           }
          },
          "ternary": {
           "aaxis": {
            "gridcolor": "#DFE8F3",
            "linecolor": "#A2B1C6",
            "ticks": ""
           },
           "baxis": {
            "gridcolor": "#DFE8F3",
            "linecolor": "#A2B1C6",
            "ticks": ""
           },
           "bgcolor": "white",
           "caxis": {
            "gridcolor": "#DFE8F3",
            "linecolor": "#A2B1C6",
            "ticks": ""
           }
          },
          "title": {
           "x": 0.05
          },
          "xaxis": {
           "automargin": true,
           "gridcolor": "#EBF0F8",
           "linecolor": "#EBF0F8",
           "ticks": "",
           "title": {
            "standoff": 15
           },
           "zerolinecolor": "#EBF0F8",
           "zerolinewidth": 2
          },
          "yaxis": {
           "automargin": true,
           "gridcolor": "#EBF0F8",
           "linecolor": "#EBF0F8",
           "ticks": "",
           "title": {
            "standoff": 15
           },
           "zerolinecolor": "#EBF0F8",
           "zerolinewidth": 2
          }
         }
        },
        "title": {
         "text": "Polo Norte I FIC FIM"
        },
        "width": 600
       }
      }
     },
     "metadata": {}
    },
    {
     "output_type": "display_data",
     "data": {
      "application/vnd.plotly.v1+json": {
       "config": {
        "plotlyServerURL": "https://plot.ly"
       },
       "data": [
        {
         "connectgaps": true,
         "marker": {
          "size": 3
         },
         "mode": "lines+markers",
         "name": "Mirae Asset Multimercado ",
         "opacity": 0.8,
         "textfont": {
          "color": "rgb(100,100,100)",
          "size": 9
         },
         "textposition": "top center",
         "type": "scatter",
         "x": [
          "2016-04-29T00:00:00",
          "2016-05-31T00:00:00",
          "2016-06-30T00:00:00",
          "2016-07-29T00:00:00",
          "2016-08-31T00:00:00",
          "2016-09-30T00:00:00",
          "2016-10-31T00:00:00",
          "2016-11-30T00:00:00",
          "2016-12-29T00:00:00",
          "2017-01-31T00:00:00",
          "2017-02-24T00:00:00",
          "2017-03-31T00:00:00",
          "2017-04-28T00:00:00",
          "2017-05-31T00:00:00",
          "2017-06-30T00:00:00",
          "2017-07-31T00:00:00",
          "2017-08-31T00:00:00",
          "2017-09-29T00:00:00",
          "2017-10-31T00:00:00",
          "2017-11-30T00:00:00",
          "2017-12-28T00:00:00",
          "2018-01-31T00:00:00",
          "2018-02-28T00:00:00",
          "2018-03-29T00:00:00"
         ],
         "y": [
          16173.5924911592,
          16348.628053345017,
          16512.30355639006,
          16795.185414116393,
          16940.25108636552,
          17166.91626967096,
          17377.102376393992,
          17510.252391319544,
          17509.05006197964,
          17664.967137461055,
          18120.11109300334,
          18368.42450906298,
          18446.690858055055,
          18462.31303528046,
          18521.399658028502,
          18716.84064510832,
          18928.945423665573,
          19118.368403371718,
          19029.51632581652,
          18757.27082636684,
          18877.180074569118,
          19403.642416061542,
          19259.221101606596,
          19203.353178815294
         ]
        }
       ],
       "layout": {
        "height": 300,
        "legend": {
         "font": {
          "size": 9
         },
         "orientation": "h"
        },
        "template": {
         "data": {
          "bar": [
           {
            "error_x": {
             "color": "#2a3f5f"
            },
            "error_y": {
             "color": "#2a3f5f"
            },
            "marker": {
             "line": {
              "color": "white",
              "width": 0.5
             }
            },
            "type": "bar"
           }
          ],
          "barpolar": [
           {
            "marker": {
             "line": {
              "color": "white",
              "width": 0.5
             }
            },
            "type": "barpolar"
           }
          ],
          "carpet": [
           {
            "aaxis": {
             "endlinecolor": "#2a3f5f",
             "gridcolor": "#C8D4E3",
             "linecolor": "#C8D4E3",
             "minorgridcolor": "#C8D4E3",
             "startlinecolor": "#2a3f5f"
            },
            "baxis": {
             "endlinecolor": "#2a3f5f",
             "gridcolor": "#C8D4E3",
             "linecolor": "#C8D4E3",
             "minorgridcolor": "#C8D4E3",
             "startlinecolor": "#2a3f5f"
            },
            "type": "carpet"
           }
          ],
          "choropleth": [
           {
            "colorbar": {
             "outlinewidth": 0,
             "ticks": ""
            },
            "type": "choropleth"
           }
          ],
          "contour": [
           {
            "colorbar": {
             "outlinewidth": 0,
             "ticks": ""
            },
            "colorscale": [
             [
              0,
              "#0d0887"
             ],
             [
              0.1111111111111111,
              "#46039f"
             ],
             [
              0.2222222222222222,
              "#7201a8"
             ],
             [
              0.3333333333333333,
              "#9c179e"
             ],
             [
              0.4444444444444444,
              "#bd3786"
             ],
             [
              0.5555555555555556,
              "#d8576b"
             ],
             [
              0.6666666666666666,
              "#ed7953"
             ],
             [
              0.7777777777777778,
              "#fb9f3a"
             ],
             [
              0.8888888888888888,
              "#fdca26"
             ],
             [
              1,
              "#f0f921"
             ]
            ],
            "type": "contour"
           }
          ],
          "contourcarpet": [
           {
            "colorbar": {
             "outlinewidth": 0,
             "ticks": ""
            },
            "type": "contourcarpet"
           }
          ],
          "heatmap": [
           {
            "colorbar": {
             "outlinewidth": 0,
             "ticks": ""
            },
            "colorscale": [
             [
              0,
              "#0d0887"
             ],
             [
              0.1111111111111111,
              "#46039f"
             ],
             [
              0.2222222222222222,
              "#7201a8"
             ],
             [
              0.3333333333333333,
              "#9c179e"
             ],
             [
              0.4444444444444444,
              "#bd3786"
             ],
             [
              0.5555555555555556,
              "#d8576b"
             ],
             [
              0.6666666666666666,
              "#ed7953"
             ],
             [
              0.7777777777777778,
              "#fb9f3a"
             ],
             [
              0.8888888888888888,
              "#fdca26"
             ],
             [
              1,
              "#f0f921"
             ]
            ],
            "type": "heatmap"
           }
          ],
          "heatmapgl": [
           {
            "colorbar": {
             "outlinewidth": 0,
             "ticks": ""
            },
            "colorscale": [
             [
              0,
              "#0d0887"
             ],
             [
              0.1111111111111111,
              "#46039f"
             ],
             [
              0.2222222222222222,
              "#7201a8"
             ],
             [
              0.3333333333333333,
              "#9c179e"
             ],
             [
              0.4444444444444444,
              "#bd3786"
             ],
             [
              0.5555555555555556,
              "#d8576b"
             ],
             [
              0.6666666666666666,
              "#ed7953"
             ],
             [
              0.7777777777777778,
              "#fb9f3a"
             ],
             [
              0.8888888888888888,
              "#fdca26"
             ],
             [
              1,
              "#f0f921"
             ]
            ],
            "type": "heatmapgl"
           }
          ],
          "histogram": [
           {
            "marker": {
             "colorbar": {
              "outlinewidth": 0,
              "ticks": ""
             }
            },
            "type": "histogram"
           }
          ],
          "histogram2d": [
           {
            "colorbar": {
             "outlinewidth": 0,
             "ticks": ""
            },
            "colorscale": [
             [
              0,
              "#0d0887"
             ],
             [
              0.1111111111111111,
              "#46039f"
             ],
             [
              0.2222222222222222,
              "#7201a8"
             ],
             [
              0.3333333333333333,
              "#9c179e"
             ],
             [
              0.4444444444444444,
              "#bd3786"
             ],
             [
              0.5555555555555556,
              "#d8576b"
             ],
             [
              0.6666666666666666,
              "#ed7953"
             ],
             [
              0.7777777777777778,
              "#fb9f3a"
             ],
             [
              0.8888888888888888,
              "#fdca26"
             ],
             [
              1,
              "#f0f921"
             ]
            ],
            "type": "histogram2d"
           }
          ],
          "histogram2dcontour": [
           {
            "colorbar": {
             "outlinewidth": 0,
             "ticks": ""
            },
            "colorscale": [
             [
              0,
              "#0d0887"
             ],
             [
              0.1111111111111111,
              "#46039f"
             ],
             [
              0.2222222222222222,
              "#7201a8"
             ],
             [
              0.3333333333333333,
              "#9c179e"
             ],
             [
              0.4444444444444444,
              "#bd3786"
             ],
             [
              0.5555555555555556,
              "#d8576b"
             ],
             [
              0.6666666666666666,
              "#ed7953"
             ],
             [
              0.7777777777777778,
              "#fb9f3a"
             ],
             [
              0.8888888888888888,
              "#fdca26"
             ],
             [
              1,
              "#f0f921"
             ]
            ],
            "type": "histogram2dcontour"
           }
          ],
          "mesh3d": [
           {
            "colorbar": {
             "outlinewidth": 0,
             "ticks": ""
            },
            "type": "mesh3d"
           }
          ],
          "parcoords": [
           {
            "line": {
             "colorbar": {
              "outlinewidth": 0,
              "ticks": ""
             }
            },
            "type": "parcoords"
           }
          ],
          "pie": [
           {
            "automargin": true,
            "type": "pie"
           }
          ],
          "scatter": [
           {
            "marker": {
             "colorbar": {
              "outlinewidth": 0,
              "ticks": ""
             }
            },
            "type": "scatter"
           }
          ],
          "scatter3d": [
           {
            "line": {
             "colorbar": {
              "outlinewidth": 0,
              "ticks": ""
             }
            },
            "marker": {
             "colorbar": {
              "outlinewidth": 0,
              "ticks": ""
             }
            },
            "type": "scatter3d"
           }
          ],
          "scattercarpet": [
           {
            "marker": {
             "colorbar": {
              "outlinewidth": 0,
              "ticks": ""
             }
            },
            "type": "scattercarpet"
           }
          ],
          "scattergeo": [
           {
            "marker": {
             "colorbar": {
              "outlinewidth": 0,
              "ticks": ""
             }
            },
            "type": "scattergeo"
           }
          ],
          "scattergl": [
           {
            "marker": {
             "colorbar": {
              "outlinewidth": 0,
              "ticks": ""
             }
            },
            "type": "scattergl"
           }
          ],
          "scattermapbox": [
           {
            "marker": {
             "colorbar": {
              "outlinewidth": 0,
              "ticks": ""
             }
            },
            "type": "scattermapbox"
           }
          ],
          "scatterpolar": [
           {
            "marker": {
             "colorbar": {
              "outlinewidth": 0,
              "ticks": ""
             }
            },
            "type": "scatterpolar"
           }
          ],
          "scatterpolargl": [
           {
            "marker": {
             "colorbar": {
              "outlinewidth": 0,
              "ticks": ""
             }
            },
            "type": "scatterpolargl"
           }
          ],
          "scatterternary": [
           {
            "marker": {
             "colorbar": {
              "outlinewidth": 0,
              "ticks": ""
             }
            },
            "type": "scatterternary"
           }
          ],
          "surface": [
           {
            "colorbar": {
             "outlinewidth": 0,
             "ticks": ""
            },
            "colorscale": [
             [
              0,
              "#0d0887"
             ],
             [
              0.1111111111111111,
              "#46039f"
             ],
             [
              0.2222222222222222,
              "#7201a8"
             ],
             [
              0.3333333333333333,
              "#9c179e"
             ],
             [
              0.4444444444444444,
              "#bd3786"
             ],
             [
              0.5555555555555556,
              "#d8576b"
             ],
             [
              0.6666666666666666,
              "#ed7953"
             ],
             [
              0.7777777777777778,
              "#fb9f3a"
             ],
             [
              0.8888888888888888,
              "#fdca26"
             ],
             [
              1,
              "#f0f921"
             ]
            ],
            "type": "surface"
           }
          ],
          "table": [
           {
            "cells": {
             "fill": {
              "color": "#EBF0F8"
             },
             "line": {
              "color": "white"
             }
            },
            "header": {
             "fill": {
              "color": "#C8D4E3"
             },
             "line": {
              "color": "white"
             }
            },
            "type": "table"
           }
          ]
         },
         "layout": {
          "annotationdefaults": {
           "arrowcolor": "#2a3f5f",
           "arrowhead": 0,
           "arrowwidth": 1
          },
          "coloraxis": {
           "colorbar": {
            "outlinewidth": 0,
            "ticks": ""
           }
          },
          "colorscale": {
           "diverging": [
            [
             0,
             "#8e0152"
            ],
            [
             0.1,
             "#c51b7d"
            ],
            [
             0.2,
             "#de77ae"
            ],
            [
             0.3,
             "#f1b6da"
            ],
            [
             0.4,
             "#fde0ef"
            ],
            [
             0.5,
             "#f7f7f7"
            ],
            [
             0.6,
             "#e6f5d0"
            ],
            [
             0.7,
             "#b8e186"
            ],
            [
             0.8,
             "#7fbc41"
            ],
            [
             0.9,
             "#4d9221"
            ],
            [
             1,
             "#276419"
            ]
           ],
           "sequential": [
            [
             0,
             "#0d0887"
            ],
            [
             0.1111111111111111,
             "#46039f"
            ],
            [
             0.2222222222222222,
             "#7201a8"
            ],
            [
             0.3333333333333333,
             "#9c179e"
            ],
            [
             0.4444444444444444,
             "#bd3786"
            ],
            [
             0.5555555555555556,
             "#d8576b"
            ],
            [
             0.6666666666666666,
             "#ed7953"
            ],
            [
             0.7777777777777778,
             "#fb9f3a"
            ],
            [
             0.8888888888888888,
             "#fdca26"
            ],
            [
             1,
             "#f0f921"
            ]
           ],
           "sequentialminus": [
            [
             0,
             "#0d0887"
            ],
            [
             0.1111111111111111,
             "#46039f"
            ],
            [
             0.2222222222222222,
             "#7201a8"
            ],
            [
             0.3333333333333333,
             "#9c179e"
            ],
            [
             0.4444444444444444,
             "#bd3786"
            ],
            [
             0.5555555555555556,
             "#d8576b"
            ],
            [
             0.6666666666666666,
             "#ed7953"
            ],
            [
             0.7777777777777778,
             "#fb9f3a"
            ],
            [
             0.8888888888888888,
             "#fdca26"
            ],
            [
             1,
             "#f0f921"
            ]
           ]
          },
          "colorway": [
           "#636efa",
           "#EF553B",
           "#00cc96",
           "#ab63fa",
           "#FFA15A",
           "#19d3f3",
           "#FF6692",
           "#B6E880",
           "#FF97FF",
           "#FECB52"
          ],
          "font": {
           "color": "#2a3f5f"
          },
          "geo": {
           "bgcolor": "white",
           "lakecolor": "white",
           "landcolor": "white",
           "showlakes": true,
           "showland": true,
           "subunitcolor": "#C8D4E3"
          },
          "hoverlabel": {
           "align": "left"
          },
          "hovermode": "closest",
          "mapbox": {
           "style": "light"
          },
          "paper_bgcolor": "white",
          "plot_bgcolor": "white",
          "polar": {
           "angularaxis": {
            "gridcolor": "#EBF0F8",
            "linecolor": "#EBF0F8",
            "ticks": ""
           },
           "bgcolor": "white",
           "radialaxis": {
            "gridcolor": "#EBF0F8",
            "linecolor": "#EBF0F8",
            "ticks": ""
           }
          },
          "scene": {
           "xaxis": {
            "backgroundcolor": "white",
            "gridcolor": "#DFE8F3",
            "gridwidth": 2,
            "linecolor": "#EBF0F8",
            "showbackground": true,
            "ticks": "",
            "zerolinecolor": "#EBF0F8"
           },
           "yaxis": {
            "backgroundcolor": "white",
            "gridcolor": "#DFE8F3",
            "gridwidth": 2,
            "linecolor": "#EBF0F8",
            "showbackground": true,
            "ticks": "",
            "zerolinecolor": "#EBF0F8"
           },
           "zaxis": {
            "backgroundcolor": "white",
            "gridcolor": "#DFE8F3",
            "gridwidth": 2,
            "linecolor": "#EBF0F8",
            "showbackground": true,
            "ticks": "",
            "zerolinecolor": "#EBF0F8"
           }
          },
          "shapedefaults": {
           "line": {
            "color": "#2a3f5f"
           }
          },
          "ternary": {
           "aaxis": {
            "gridcolor": "#DFE8F3",
            "linecolor": "#A2B1C6",
            "ticks": ""
           },
           "baxis": {
            "gridcolor": "#DFE8F3",
            "linecolor": "#A2B1C6",
            "ticks": ""
           },
           "bgcolor": "white",
           "caxis": {
            "gridcolor": "#DFE8F3",
            "linecolor": "#A2B1C6",
            "ticks": ""
           }
          },
          "title": {
           "x": 0.05
          },
          "xaxis": {
           "automargin": true,
           "gridcolor": "#EBF0F8",
           "linecolor": "#EBF0F8",
           "ticks": "",
           "title": {
            "standoff": 15
           },
           "zerolinecolor": "#EBF0F8",
           "zerolinewidth": 2
          },
          "yaxis": {
           "automargin": true,
           "gridcolor": "#EBF0F8",
           "linecolor": "#EBF0F8",
           "ticks": "",
           "title": {
            "standoff": 15
           },
           "zerolinecolor": "#EBF0F8",
           "zerolinewidth": 2
          }
         }
        },
        "title": {
         "text": "Mirae Asset Multimercado "
        },
        "width": 600
       }
      }
     },
     "metadata": {}
    }
   ],
   "source": [
    "# Estou aqui!! Criar grafico comparando fundos por valor bruto\n",
    "\n",
    "def plot_fis(df):\n",
    "\n",
    "    for fi in df['Nome'].unique():\n",
    "        fig = go.Figure()\n",
    "        df_ = df[df['Nome'] == fi].sort_values('period')\n",
    "\n",
    "        fig.add_trace(go.Scatter(x=df_['period'], y=df_['Qtd Cotas'] * df_['Valor Cota'], \n",
    "                                connectgaps=True,\n",
    "                                mode='lines+markers',\n",
    "                                name=fi, \n",
    "                                #text=round(df[mkt].astype(float)/1000000, 2).astype(str) + 'M', \n",
    "                                textposition=\"top center\",\n",
    "                                textfont={'color': 'rgb(100,100,100)', 'size':9}, \n",
    "                                # fill='tonexty', \n",
    "                                # df_offplatformByWeek['2020 10'].map('{:,.0f}'.format), \n",
    "                                marker=dict(size=3), \n",
    "                                opacity=.8))\n",
    "\n",
    "        fig.update_layout(legend_orientation=\"h\",\n",
    "                        title=fi, \n",
    "                        height=300, \n",
    "                        width=600, \n",
    "                        legend=dict(font=dict(size=9)), \n",
    "                        template='plotly_white'                \n",
    "        )\n",
    "\n",
    "        fig.show()\n",
    "\n",
    "plot_fis(fis)"
   ]
  },
  {
   "cell_type": "markdown",
   "metadata": {},
   "source": [
    "# Analise aportes"
   ]
  },
  {
   "cell_type": "code",
   "execution_count": 102,
   "metadata": {},
   "outputs": [],
   "source": [
    "def load_csv_extrato():\n",
    "        df = pd.read_csv('../datasets/extrato/Extrato 200091 JAN 2010 a JUN 2020.csv', \n",
    "                            sep=';', encoding='iso-8859-1', decimal=',')\n",
    "                \n",
    "        df['Mov'] = pd.to_datetime(df['Mov'], format='%d/%m/%Y')\n",
    "        df['Liq'] = pd.to_datetime(df['Liq'], format='%d/%m/%Y')\n",
    "        df.rename(columns={'Hist__o': 'Descricao'}, inplace=True)\n",
    "\n",
    "        return df\n",
    "\n",
    "extract = load_csv_extrato()"
   ]
  },
  {
   "cell_type": "code",
   "execution_count": 103,
   "metadata": {},
   "outputs": [
    {
     "output_type": "execute_result",
     "data": {
      "text/plain": "                         Nome  Vlr Aporte        Mov  Vlr Resgate  Vlr IR  \\\n0   ABSOLUTO CONSUMO          2,400.00    2013-05-28 2,306.74     0.00      \n1   AZ Quest Multi FIC FIM    15,000.00   2017-03-17 18,591.84    -37.00    \n2   Azul Quantitativo         15,200.00   2013-08-23 17,824.47    -522.50   \n3   BNP Inflacao Firf         15,300.00   2015-02-26 15,524.86    -179.53   \n4   Bahia AM Maraú FIC de FIM 73,000.00   2017-10-10 0.00         0.00      \n5   Equitas Selection FIC FIA 19,900.00   2019-09-12 0.00         0.00      \n6   FICFIVot. CambDola        8,000.00    2015-09-10 7,778.70     0.00      \n7   Hedge Fic Fim             5,000.00    2014-01-23 5,144.33     -29.40    \n8   Legan Low Vol FIM         10,000.00   2012-01-31 10,333.81    -75.10    \n9   Mauá Macro FIC FIM        23,500.00   2017-03-17 0.00         -111.82   \n10  Mirae Asset Multimercado  16,000.00   2016-04-04 19,122.71    -489.31   \n11  Polo Norte I FIC FIM      30,000.00   2018-12-27 0.00         0.00      \n12  XP GlobCredit FICFIM      33,000.00   2015-09-16 31,029.08    0.00      \n13  XP Long Short FIC FIM     15,000.00   2016-04-04 0.00         -406.29   \n14  XP MULT-INV FIC FIA       6,000.00    2010-11-18 5,343.58     0.00      \n15  XP Macro FIM              29,500.00   2018-06-15 18,995.54    0.00      \n\n    Rendimento Resgatado  \n0  -93.26                 \n1  3,591.84               \n2  2,624.47               \n3  224.86                 \n4  0.00                   \n5  0.00                   \n6  -221.30                \n7  144.33                 \n8  333.81                 \n9  0.00                   \n10 3,122.71               \n11 0.00                   \n12 -1,970.92              \n13 0.00                   \n14 -656.42                \n15 -10,504.46             ",
      "text/html": "<div>\n<style scoped>\n    .dataframe tbody tr th:only-of-type {\n        vertical-align: middle;\n    }\n\n    .dataframe tbody tr th {\n        vertical-align: top;\n    }\n\n    .dataframe thead th {\n        text-align: right;\n    }\n</style>\n<table border=\"1\" class=\"dataframe\">\n  <thead>\n    <tr style=\"text-align: right;\">\n      <th></th>\n      <th>Nome</th>\n      <th>Vlr Aporte</th>\n      <th>Mov</th>\n      <th>Vlr Resgate</th>\n      <th>Vlr IR</th>\n      <th>Rendimento Resgatado</th>\n    </tr>\n  </thead>\n  <tbody>\n    <tr>\n      <th>0</th>\n      <td>ABSOLUTO CONSUMO</td>\n      <td>2,400.00</td>\n      <td>2013-05-28</td>\n      <td>2,306.74</td>\n      <td>0.00</td>\n      <td>-93.26</td>\n    </tr>\n    <tr>\n      <th>1</th>\n      <td>AZ Quest Multi FIC FIM</td>\n      <td>15,000.00</td>\n      <td>2017-03-17</td>\n      <td>18,591.84</td>\n      <td>-37.00</td>\n      <td>3,591.84</td>\n    </tr>\n    <tr>\n      <th>2</th>\n      <td>Azul Quantitativo</td>\n      <td>15,200.00</td>\n      <td>2013-08-23</td>\n      <td>17,824.47</td>\n      <td>-522.50</td>\n      <td>2,624.47</td>\n    </tr>\n    <tr>\n      <th>3</th>\n      <td>BNP Inflacao Firf</td>\n      <td>15,300.00</td>\n      <td>2015-02-26</td>\n      <td>15,524.86</td>\n      <td>-179.53</td>\n      <td>224.86</td>\n    </tr>\n    <tr>\n      <th>4</th>\n      <td>Bahia AM Maraú FIC de FIM</td>\n      <td>73,000.00</td>\n      <td>2017-10-10</td>\n      <td>0.00</td>\n      <td>0.00</td>\n      <td>0.00</td>\n    </tr>\n    <tr>\n      <th>5</th>\n      <td>Equitas Selection FIC FIA</td>\n      <td>19,900.00</td>\n      <td>2019-09-12</td>\n      <td>0.00</td>\n      <td>0.00</td>\n      <td>0.00</td>\n    </tr>\n    <tr>\n      <th>6</th>\n      <td>FICFIVot. CambDola</td>\n      <td>8,000.00</td>\n      <td>2015-09-10</td>\n      <td>7,778.70</td>\n      <td>0.00</td>\n      <td>-221.30</td>\n    </tr>\n    <tr>\n      <th>7</th>\n      <td>Hedge Fic Fim</td>\n      <td>5,000.00</td>\n      <td>2014-01-23</td>\n      <td>5,144.33</td>\n      <td>-29.40</td>\n      <td>144.33</td>\n    </tr>\n    <tr>\n      <th>8</th>\n      <td>Legan Low Vol FIM</td>\n      <td>10,000.00</td>\n      <td>2012-01-31</td>\n      <td>10,333.81</td>\n      <td>-75.10</td>\n      <td>333.81</td>\n    </tr>\n    <tr>\n      <th>9</th>\n      <td>Mauá Macro FIC FIM</td>\n      <td>23,500.00</td>\n      <td>2017-03-17</td>\n      <td>0.00</td>\n      <td>-111.82</td>\n      <td>0.00</td>\n    </tr>\n    <tr>\n      <th>10</th>\n      <td>Mirae Asset Multimercado</td>\n      <td>16,000.00</td>\n      <td>2016-04-04</td>\n      <td>19,122.71</td>\n      <td>-489.31</td>\n      <td>3,122.71</td>\n    </tr>\n    <tr>\n      <th>11</th>\n      <td>Polo Norte I FIC FIM</td>\n      <td>30,000.00</td>\n      <td>2018-12-27</td>\n      <td>0.00</td>\n      <td>0.00</td>\n      <td>0.00</td>\n    </tr>\n    <tr>\n      <th>12</th>\n      <td>XP GlobCredit FICFIM</td>\n      <td>33,000.00</td>\n      <td>2015-09-16</td>\n      <td>31,029.08</td>\n      <td>0.00</td>\n      <td>-1,970.92</td>\n    </tr>\n    <tr>\n      <th>13</th>\n      <td>XP Long Short FIC FIM</td>\n      <td>15,000.00</td>\n      <td>2016-04-04</td>\n      <td>0.00</td>\n      <td>-406.29</td>\n      <td>0.00</td>\n    </tr>\n    <tr>\n      <th>14</th>\n      <td>XP MULT-INV FIC FIA</td>\n      <td>6,000.00</td>\n      <td>2010-11-18</td>\n      <td>5,343.58</td>\n      <td>0.00</td>\n      <td>-656.42</td>\n    </tr>\n    <tr>\n      <th>15</th>\n      <td>XP Macro FIM</td>\n      <td>29,500.00</td>\n      <td>2018-06-15</td>\n      <td>18,995.54</td>\n      <td>0.00</td>\n      <td>-10,504.46</td>\n    </tr>\n  </tbody>\n</table>\n</div>"
     },
     "metadata": {},
     "execution_count": 103
    }
   ],
   "source": [
    "fi_map = {\n",
    "    'Equitas': 'Equitas Selection FIC FIA', \n",
    "    'Polo Norte': 'Polo Norte I FIC FIM', \n",
    "    'XP Macro': 'XP Macro FIM', \n",
    "    'Bahia AM Mara': 'Bahia AM Maraú FIC de FIM', \n",
    "    'QuestMult': 'AZ Quest Multi FIC FIM', \n",
    "    'Mau Macro FIC FIM': 'Mauá Macro FIC FIM', \n",
    "    'MiraeMacroStrategy': 'Mirae Asset Multimercado ', \n",
    "    'XP LONG SHORT': 'XP Long Short FIC FIM', \n",
    "    'XP GlobCredit': 'XP GlobCredit FICFIM', # Falta posicao deste periodo\n",
    "    'Vot.FicFi CambialD': 'FICFIVot. CambDola',  # idem\n",
    "    'FICFIVot. CambDola': 'FICFIVot. CambDola', \n",
    "    'Vot.FicFi CambialDol': 'FICFIVot. CambDola',\n",
    "    'Inflacao Firf': 'BNP Inflacao Firf', # idem\n",
    "    'Azul QuantitativoFIM': 'Azul Quantitativo',\n",
    "    'QuantitativoFI': 'Azul Quantitativo', \n",
    "    'ABSOLUTO CONSUMO': 'ABSOLUTO CONSUMO', \n",
    "    'Hedge Fic Fim': 'Hedge Fic Fim',  \n",
    "    'Legan Low Vol FIM': 'Legan Low Vol FIM', \n",
    "    'XP MULT-INV FIC FIA': 'XP MULT-INV FIC FIA'\n",
    "}\n",
    "\n",
    "\n",
    "def map_fi(x):\n",
    "    group = \"unknown\"\n",
    "    for key in fi_map:\n",
    "        if key in x:\n",
    "            group = fi_map[key]\n",
    "            break\n",
    "    return group\n",
    "\n",
    "\n",
    "def get_fi_extract(df):\n",
    "    df_aportes  = df[df['Descricao'].str.contains('TED APLICA')]\n",
    "    df_aportes['Nome'] = df_aportes['Descricao'].apply(map_fi)\n",
    "\n",
    "    # display(df_[df_['Nome'] == 'unknown'])\n",
    "\n",
    "    df_resgates = df[df['Descricao'].str.contains('RESGATE')]\\\n",
    "                                .drop(df[df['Descricao'].str.contains('IRRF S/RESGATE FUNDOS|IRRF S/ RESGATE FUNDOS')].index)\n",
    "\n",
    "    df_resgates_ir = df[df['Descricao'].str.contains('IRRF S/RESGATE FUNDOS|IRRF S/ RESGATE FUNDOS')]\n",
    "\n",
    "    df_resgates['Nome'] = df_resgates['Descricao'].apply(map_fi)\n",
    "    df_resgates_ir['Nome'] = df_resgates_ir['Descricao'].apply(map_fi)\n",
    "    #df_['Nome'] = df_['Descricao'].map(lambda x: x.str.contains(fi_dict[0]))\n",
    "    return df_aportes, df_resgates, df_resgates_ir\n",
    "\n",
    "def extrato_fis(df):\n",
    "    df_fi_aportes, df_fi_resgates, df_fi_ir = get_fi_extract(df)\n",
    "    df_fi_aportes = df_fi_aportes.groupby('Nome')\\\n",
    "                                    .agg({'Valor': 'sum', \n",
    "                                        'Mov': 'max'})\\\n",
    "                                    .reset_index()\\\n",
    "                                    .rename(columns={'Valor': 'Vlr Aporte'})\n",
    "\n",
    "    df_fi_resgates = df_fi_resgates.groupby('Nome')\\\n",
    "                                    .agg({'Valor': 'sum'})\\\n",
    "                                    .reset_index()\\\n",
    "                                    .rename(columns={'Valor': 'Vlr Resgate'})\n",
    "\n",
    "    df_fi_ir = df_fi_ir.groupby('Nome')\\\n",
    "                                    .agg({'Valor': 'sum'})\\\n",
    "                                    .reset_index()\\\n",
    "                                    .rename(columns={'Valor': 'Vlr IR'})\n",
    "\n",
    "    df_group = df_fi_aportes.merge(\n",
    "                                df_fi_resgates, \n",
    "                                how='outer', \n",
    "                                left_on='Nome', \n",
    "                                right_on='Nome')\\\n",
    "                            .merge(df_fi_ir, \n",
    "                                    how='left', \n",
    "                                    left_on='Nome', \n",
    "                                    right_on='Nome'\n",
    "                            ).fillna(0)\n",
    "\n",
    "    #display(df_fi_aportes)\n",
    "    #display(df_fi_resgates)\n",
    "\n",
    "    df_group['Vlr Aporte'] = df_group['Vlr Aporte'].abs()\n",
    "    df_group['Rendimento Resgatado'] = np.where(df_group['Vlr Resgate'] > 0, \n",
    "                                                df_group['Vlr Resgate'] - df_group['Vlr Aporte'],\n",
    "                                                0)\n",
    "    \n",
    "    #df_group['Vlr Resgate'] - df_group['Vlr Aporte'] - df_group['Vlr IR'].abs()\n",
    "    #df_group['Rendimento Resgatado'] = df_group['Rendimento Resgatado'].fillna(0)\n",
    "    # df_group[df_group['Vlr Aporte'].isnull()]['Vlr Aporte'] = df_group[df_group['Vlr Aporte'].isnull()]['Vlr Resgate']\n",
    "\n",
    "    return df_group\n",
    "\n",
    "extrato_fi = extrato_fis(extract)\n",
    "\n",
    "\n",
    "extrato_fi"
   ]
  },
  {
   "cell_type": "code",
   "execution_count": 104,
   "metadata": {},
   "outputs": [
    {
     "output_type": "display_data",
     "data": {
      "text/plain": "         Liq        Mov                                            Descricao  \\\n0 2020-06-04 2020-06-04  * PROV * DEBITO CBLC IRRF S/ RENDIMENTO DE BTC JHSF   \n1 2020-06-04 2020-06-04  * PROV * Crdito Ref. Taxa de Remunerao BTC JHSF    \n2 2020-06-01 2020-05-28  OPERAÍES EM BOLSA PR 28/05/2020 NOTA N¼ 22035030     \n3 2020-05-28 2020-05-28  TED - RECEBIMENTO DE TED - SPB                        \n4 2020-05-28 2020-05-28  RENDIMENTOS DE CLIENTES CNES11 S/ 11                  \n\n      Valor    Saldo  \n0 -0.01     58.23     \n1 0.06      58.24     \n2 -8,419.82 58.18     \n3 7,000.00  8,478.00  \n4 1.81      1,478.00  ",
      "text/html": "<div>\n<style scoped>\n    .dataframe tbody tr th:only-of-type {\n        vertical-align: middle;\n    }\n\n    .dataframe tbody tr th {\n        vertical-align: top;\n    }\n\n    .dataframe thead th {\n        text-align: right;\n    }\n</style>\n<table border=\"1\" class=\"dataframe\">\n  <thead>\n    <tr style=\"text-align: right;\">\n      <th></th>\n      <th>Liq</th>\n      <th>Mov</th>\n      <th>Descricao</th>\n      <th>Valor</th>\n      <th>Saldo</th>\n    </tr>\n  </thead>\n  <tbody>\n    <tr>\n      <th>0</th>\n      <td>2020-06-04</td>\n      <td>2020-06-04</td>\n      <td>* PROV * DEBITO CBLC IRRF S/ RENDIMENTO DE BTC JHSF</td>\n      <td>-0.01</td>\n      <td>58.23</td>\n    </tr>\n    <tr>\n      <th>1</th>\n      <td>2020-06-04</td>\n      <td>2020-06-04</td>\n      <td>* PROV * Crdito Ref. Taxa de Remunerao BTC JHSF</td>\n      <td>0.06</td>\n      <td>58.24</td>\n    </tr>\n    <tr>\n      <th>2</th>\n      <td>2020-06-01</td>\n      <td>2020-05-28</td>\n      <td>OPERAÍES EM BOLSA PR 28/05/2020 NOTA N¼ 22035030</td>\n      <td>-8,419.82</td>\n      <td>58.18</td>\n    </tr>\n    <tr>\n      <th>3</th>\n      <td>2020-05-28</td>\n      <td>2020-05-28</td>\n      <td>TED - RECEBIMENTO DE TED - SPB</td>\n      <td>7,000.00</td>\n      <td>8,478.00</td>\n    </tr>\n    <tr>\n      <th>4</th>\n      <td>2020-05-28</td>\n      <td>2020-05-28</td>\n      <td>RENDIMENTOS DE CLIENTES CNES11 S/ 11</td>\n      <td>1.81</td>\n      <td>1,478.00</td>\n    </tr>\n  </tbody>\n</table>\n</div>"
     },
     "metadata": {}
    }
   ],
   "source": [
    "display(extract.head())"
   ]
  },
  {
   "cell_type": "code",
   "execution_count": 105,
   "metadata": {},
   "outputs": [
    {
     "output_type": "execute_result",
     "data": {
      "text/plain": "                                                                            Descricao  \\\n177  DEPOSITO DE MARGEM DE GARANTIA                                                     \n594  TED TER BCO 237 AGE 2856 CTA 4563 2 - TED APLICAÌO FUNDOS Bahia AM Mara FIC FI   \n155  CHAMADA DE MARGEM BM&F                                                             \n593  TED TER BCO 208 AGE 0001 CTA 183448 - TED APLICAÌO FUNDOS XP GlobCredit FICFIM    \n586  TED TER BCO 017 AGE 0001 CTA 1310 2 - TED APLICAÌO FUNDOS Polo Norte I FIC FIM    \n\n          Valor  \n177 -115,383.42  \n594 -73,000.00   \n155 -57,617.05   \n593 -33,000.00   \n586 -30,000.00   ",
      "text/html": "<div>\n<style scoped>\n    .dataframe tbody tr th:only-of-type {\n        vertical-align: middle;\n    }\n\n    .dataframe tbody tr th {\n        vertical-align: top;\n    }\n\n    .dataframe thead th {\n        text-align: right;\n    }\n</style>\n<table border=\"1\" class=\"dataframe\">\n  <thead>\n    <tr style=\"text-align: right;\">\n      <th></th>\n      <th>Descricao</th>\n      <th>Valor</th>\n    </tr>\n  </thead>\n  <tbody>\n    <tr>\n      <th>177</th>\n      <td>DEPOSITO DE MARGEM DE GARANTIA</td>\n      <td>-115,383.42</td>\n    </tr>\n    <tr>\n      <th>594</th>\n      <td>TED TER BCO 237 AGE 2856 CTA 4563 2 - TED APLICAÌO FUNDOS Bahia AM Mara FIC FI</td>\n      <td>-73,000.00</td>\n    </tr>\n    <tr>\n      <th>155</th>\n      <td>CHAMADA DE MARGEM BM&amp;F</td>\n      <td>-57,617.05</td>\n    </tr>\n    <tr>\n      <th>593</th>\n      <td>TED TER BCO 208 AGE 0001 CTA 183448 - TED APLICAÌO FUNDOS XP GlobCredit FICFIM</td>\n      <td>-33,000.00</td>\n    </tr>\n    <tr>\n      <th>586</th>\n      <td>TED TER BCO 017 AGE 0001 CTA 1310 2 - TED APLICAÌO FUNDOS Polo Norte I FIC FIM</td>\n      <td>-30,000.00</td>\n    </tr>\n  </tbody>\n</table>\n</div>"
     },
     "metadata": {},
     "execution_count": 105
    }
   ],
   "source": [
    "extract.groupby('Descricao').agg({'Valor': 'sum'}).reset_index().sort_values(by='Valor').head()"
   ]
  },
  {
   "cell_type": "code",
   "execution_count": 106,
   "metadata": {},
   "outputs": [
    {
     "output_type": "execute_result",
     "data": {
      "text/plain": "13364.520000000004"
     },
     "metadata": {},
     "execution_count": 106
    }
   ],
   "source": [
    "fis_ultima_posicao = fis.groupby(['Nome']).agg({'Data': 'max'}).reset_index()\\\n",
    "                            .merge(fis, \n",
    "                                    how='inner', \n",
    "                                    left_on=['Nome', 'Data'], \n",
    "                                    right_on=['Nome', 'Data']).reset_index()\n",
    "\n",
    "\n",
    "df_rendimento = fis_ultima_posicao[['Nome', \n",
    "                                    'Valor Bruto']].merge(extrato_fi, \n",
    "                                        how='outer', \n",
    "                                        left_on='Nome', \n",
    "                                        right_on='Nome').reset_index()\n",
    "\n",
    "df_rendimento['rendimento'] = np.where(df_rendimento['Vlr Resgate'] > 0, \n",
    "                                        df_rendimento['Vlr Resgate'], \n",
    "                                        df_rendimento['Valor Bruto']) - df_rendimento['Vlr Aporte'] \n",
    "\n",
    "\n",
    "df_rendimento['rendimento'].sum()"
   ]
  },
  {
   "cell_type": "code",
   "execution_count": 107,
   "metadata": {},
   "outputs": [
    {
     "output_type": "error",
     "ename": "ValueError",
     "evalue": "too many values to unpack (expected 2)",
     "traceback": [
      "\u001b[0;31m---------------------------------------------------------------------------\u001b[0m",
      "\u001b[0;31mValueError\u001b[0m                                Traceback (most recent call last)",
      "\u001b[0;32m<ipython-input-107-22449e1635ae>\u001b[0m in \u001b[0;36m<module>\u001b[0;34m\u001b[0m\n\u001b[0;32m----> 1\u001b[0;31m \u001b[0mdf_fi_stock\u001b[0m\u001b[0;34m,\u001b[0m \u001b[0mdf_fi_draw\u001b[0m \u001b[0;34m=\u001b[0m \u001b[0mget_fi_extract\u001b[0m\u001b[0;34m(\u001b[0m\u001b[0mextract\u001b[0m\u001b[0;34m)\u001b[0m\u001b[0;34m\u001b[0m\u001b[0;34m\u001b[0m\u001b[0m\n\u001b[0m\u001b[1;32m      2\u001b[0m \u001b[0;34m\u001b[0m\u001b[0m\n\u001b[1;32m      3\u001b[0m \u001b[0mprint\u001b[0m\u001b[0;34m(\u001b[0m\u001b[0;34m'-- APORTE -- '\u001b[0m\u001b[0;34m)\u001b[0m\u001b[0;34m\u001b[0m\u001b[0;34m\u001b[0m\u001b[0m\n\u001b[1;32m      4\u001b[0m \u001b[0;31m# display(df_fi_stock.head())\u001b[0m\u001b[0;34m\u001b[0m\u001b[0;34m\u001b[0m\u001b[0;34m\u001b[0m\u001b[0m\n\u001b[1;32m      5\u001b[0m \u001b[0mdisplay\u001b[0m\u001b[0;34m(\u001b[0m\u001b[0mdf_fi_stock\u001b[0m\u001b[0;34m.\u001b[0m\u001b[0mgroupby\u001b[0m\u001b[0;34m(\u001b[0m\u001b[0;34m'Nome'\u001b[0m\u001b[0;34m)\u001b[0m\u001b[0;34m.\u001b[0m\u001b[0magg\u001b[0m\u001b[0;34m(\u001b[0m\u001b[0;34m{\u001b[0m\u001b[0;34m'Valor'\u001b[0m\u001b[0;34m:\u001b[0m \u001b[0;34m'sum'\u001b[0m\u001b[0;34m}\u001b[0m\u001b[0;34m)\u001b[0m\u001b[0;34m.\u001b[0m\u001b[0mreset_index\u001b[0m\u001b[0;34m(\u001b[0m\u001b[0;34m)\u001b[0m\u001b[0;34m)\u001b[0m\u001b[0;34m\u001b[0m\u001b[0;34m\u001b[0m\u001b[0m\n",
      "\u001b[0;31mValueError\u001b[0m: too many values to unpack (expected 2)"
     ]
    }
   ],
   "source": [
    "df_fi_stock, df_fi_draw = get_fi_extract(extract)\n",
    "\n",
    "print('-- APORTE -- ')\n",
    "# display(df_fi_stock.head())\n",
    "display(df_fi_stock.groupby('Nome').agg({'Valor': 'sum'}).reset_index())\n",
    "display(df_fi_stock['Valor'].sum())\n",
    "\n",
    "\n",
    "print('-- RESGATE -- ')\n",
    "# display(df_fi_draw)\n",
    "display(df_fi_draw.groupby('Nome').agg({'Valor': 'sum'}).reset_index())\n",
    "display(df_fi_draw['Valor'].sum())\n"
   ]
  },
  {
   "cell_type": "code",
   "execution_count": 108,
   "metadata": {},
   "outputs": [
    {
     "output_type": "stream",
     "name": "stdout",
     "text": "<class 'pandas.core.frame.DataFrame'>\nRangeIndex: 1168 entries, 0 to 1167\nData columns (total 5 columns):\n #   Column     Non-Null Count  Dtype         \n---  ------     --------------  -----         \n 0   Liq        1168 non-null   datetime64[ns]\n 1   Mov        1168 non-null   datetime64[ns]\n 2   Descricao  1168 non-null   object        \n 3   Valor      1168 non-null   float64       \n 4   Saldo      1168 non-null   float64       \ndtypes: datetime64[ns](2), float64(2), object(1)\nmemory usage: 45.8+ KB\n"
    }
   ],
   "source": [
    "extract.info()"
   ]
  },
  {
   "cell_type": "code",
   "execution_count": 109,
   "metadata": {},
   "outputs": [
    {
     "output_type": "execute_result",
     "data": {
      "text/plain": "           Liq        Mov  \\\n196 2017-03-17 2017-03-17   \n23  2020-03-16 2020-03-16   \n24  2020-03-16 2020-03-16   \n\n                                                                           Descricao  \\\n196  TED TER BCO 017 AGE 0001 CTA 1518 0 - TED APLICAÌO FUNDOS QuestMult FI CotasFI   \n23   IRRF S/RESGATE FUNDOS QuestMult FI CotasFI                                        \n24   RESGATE QuestMult FI CotasFI                                                      \n\n         Valor     Saldo  \n196 -15,000.00 80.67      \n23  -37.00     24,064.50  \n24  18,591.84  24,101.50  ",
      "text/html": "<div>\n<style scoped>\n    .dataframe tbody tr th:only-of-type {\n        vertical-align: middle;\n    }\n\n    .dataframe tbody tr th {\n        vertical-align: top;\n    }\n\n    .dataframe thead th {\n        text-align: right;\n    }\n</style>\n<table border=\"1\" class=\"dataframe\">\n  <thead>\n    <tr style=\"text-align: right;\">\n      <th></th>\n      <th>Liq</th>\n      <th>Mov</th>\n      <th>Descricao</th>\n      <th>Valor</th>\n      <th>Saldo</th>\n    </tr>\n  </thead>\n  <tbody>\n    <tr>\n      <th>196</th>\n      <td>2017-03-17</td>\n      <td>2017-03-17</td>\n      <td>TED TER BCO 017 AGE 0001 CTA 1518 0 - TED APLICAÌO FUNDOS QuestMult FI CotasFI</td>\n      <td>-15,000.00</td>\n      <td>80.67</td>\n    </tr>\n    <tr>\n      <th>23</th>\n      <td>2020-03-16</td>\n      <td>2020-03-16</td>\n      <td>IRRF S/RESGATE FUNDOS QuestMult FI CotasFI</td>\n      <td>-37.00</td>\n      <td>24,064.50</td>\n    </tr>\n    <tr>\n      <th>24</th>\n      <td>2020-03-16</td>\n      <td>2020-03-16</td>\n      <td>RESGATE QuestMult FI CotasFI</td>\n      <td>18,591.84</td>\n      <td>24,101.50</td>\n    </tr>\n  </tbody>\n</table>\n</div>"
     },
     "metadata": {},
     "execution_count": 109
    }
   ],
   "source": [
    "extract[extract['Descricao'].str.contains('QuestMult')].sort_values('Mov')\n",
    "\n",
    "\n"
   ]
  },
  {
   "cell_type": "code",
   "execution_count": 110,
   "metadata": {},
   "outputs": [
    {
     "output_type": "display_data",
     "data": {
      "text/plain": "                            Descricao      Valor\n582  TED - RECEBIMENTO DE TED - SPB   253,400.00\n180  DEVOLUÌO DE MARGEM BM&F         61,053.65 \n515  RETIRADA DE MARGEM DE GARANTIA   58,543.73 \n179  DEVOLUÌO DE MARGEM - NÌO NETADA 47,568.07 \n512  RESGATE XP GlobCredit FICFIM     31,029.08 ",
      "text/html": "<div>\n<style scoped>\n    .dataframe tbody tr th:only-of-type {\n        vertical-align: middle;\n    }\n\n    .dataframe tbody tr th {\n        vertical-align: top;\n    }\n\n    .dataframe thead th {\n        text-align: right;\n    }\n</style>\n<table border=\"1\" class=\"dataframe\">\n  <thead>\n    <tr style=\"text-align: right;\">\n      <th></th>\n      <th>Descricao</th>\n      <th>Valor</th>\n    </tr>\n  </thead>\n  <tbody>\n    <tr>\n      <th>582</th>\n      <td>TED - RECEBIMENTO DE TED - SPB</td>\n      <td>253,400.00</td>\n    </tr>\n    <tr>\n      <th>180</th>\n      <td>DEVOLUÌO DE MARGEM BM&amp;F</td>\n      <td>61,053.65</td>\n    </tr>\n    <tr>\n      <th>515</th>\n      <td>RETIRADA DE MARGEM DE GARANTIA</td>\n      <td>58,543.73</td>\n    </tr>\n    <tr>\n      <th>179</th>\n      <td>DEVOLUÌO DE MARGEM - NÌO NETADA</td>\n      <td>47,568.07</td>\n    </tr>\n    <tr>\n      <th>512</th>\n      <td>RESGATE XP GlobCredit FICFIM</td>\n      <td>31,029.08</td>\n    </tr>\n  </tbody>\n</table>\n</div>"
     },
     "metadata": {}
    },
    {
     "output_type": "display_data",
     "data": {
      "text/plain": "                                                                            Descricao  \\\n586  TED TER BCO 017 AGE 0001 CTA 1310 2 - TED APLICAÌO FUNDOS Polo Norte I FIC FIM    \n593  TED TER BCO 208 AGE 0001 CTA 183448 - TED APLICAÌO FUNDOS XP GlobCredit FICFIM    \n155  CHAMADA DE MARGEM BM&F                                                             \n594  TED TER BCO 237 AGE 2856 CTA 4563 2 - TED APLICAÌO FUNDOS Bahia AM Mara FIC FI   \n177  DEPOSITO DE MARGEM DE GARANTIA                                                     \n\n          Valor  \n586 -30,000.00   \n593 -33,000.00   \n155 -57,617.05   \n594 -73,000.00   \n177 -115,383.42  ",
      "text/html": "<div>\n<style scoped>\n    .dataframe tbody tr th:only-of-type {\n        vertical-align: middle;\n    }\n\n    .dataframe tbody tr th {\n        vertical-align: top;\n    }\n\n    .dataframe thead th {\n        text-align: right;\n    }\n</style>\n<table border=\"1\" class=\"dataframe\">\n  <thead>\n    <tr style=\"text-align: right;\">\n      <th></th>\n      <th>Descricao</th>\n      <th>Valor</th>\n    </tr>\n  </thead>\n  <tbody>\n    <tr>\n      <th>586</th>\n      <td>TED TER BCO 017 AGE 0001 CTA 1310 2 - TED APLICAÌO FUNDOS Polo Norte I FIC FIM</td>\n      <td>-30,000.00</td>\n    </tr>\n    <tr>\n      <th>593</th>\n      <td>TED TER BCO 208 AGE 0001 CTA 183448 - TED APLICAÌO FUNDOS XP GlobCredit FICFIM</td>\n      <td>-33,000.00</td>\n    </tr>\n    <tr>\n      <th>155</th>\n      <td>CHAMADA DE MARGEM BM&amp;F</td>\n      <td>-57,617.05</td>\n    </tr>\n    <tr>\n      <th>594</th>\n      <td>TED TER BCO 237 AGE 2856 CTA 4563 2 - TED APLICAÌO FUNDOS Bahia AM Mara FIC FI</td>\n      <td>-73,000.00</td>\n    </tr>\n    <tr>\n      <th>177</th>\n      <td>DEPOSITO DE MARGEM DE GARANTIA</td>\n      <td>-115,383.42</td>\n    </tr>\n  </tbody>\n</table>\n</div>"
     },
     "metadata": {}
    }
   ],
   "source": [
    "display(extract.groupby('Descricao').agg({'Valor':'sum'}).reset_index().sort_values('Valor', ascending=False).head())\n",
    "display(extract.groupby('Descricao').agg({'Valor':'sum'}).reset_index().sort_values('Valor', ascending=False).tail(5)) # Aportes para fundos"
   ]
  },
  {
   "cell_type": "code",
   "execution_count": 111,
   "metadata": {},
   "outputs": [
    {
     "output_type": "error",
     "ename": "SyntaxError",
     "evalue": "unexpected EOF while parsing (<ipython-input-111-98c495828340>, line 1)",
     "traceback": [
      "\u001b[0;36m  File \u001b[0;32m\"<ipython-input-111-98c495828340>\"\u001b[0;36m, line \u001b[0;32m1\u001b[0m\n\u001b[0;31m    display(extract.groupby(['Descricao', 'Mov']).agg({'Valor':'sum'}).reset_index().sort_values('Valor', ascending=False)\u001b[0m\n\u001b[0m                                                                                                                          ^\u001b[0m\n\u001b[0;31mSyntaxError\u001b[0m\u001b[0;31m:\u001b[0m unexpected EOF while parsing\n"
     ]
    }
   ],
   "source": [
    "display(extract.groupby(['Descricao', 'Mov']).agg({'Valor':'sum'}).reset_index().sort_values('Valor', ascending=False)"
   ]
  },
  {
   "cell_type": "code",
   "execution_count": null,
   "metadata": {},
   "outputs": [],
   "source": []
  }
 ],
 "metadata": {
  "kernelspec": {
   "display_name": "Python 3",
   "language": "python",
   "name": "python3"
  },
  "language_info": {
   "codemirror_mode": {
    "name": "ipython",
    "version": 3
   },
   "file_extension": ".py",
   "mimetype": "text/x-python",
   "name": "python",
   "nbconvert_exporter": "python",
   "pygments_lexer": "ipython3",
   "version": "3.7.7-final"
  }
 },
 "nbformat": 4,
 "nbformat_minor": 2
}