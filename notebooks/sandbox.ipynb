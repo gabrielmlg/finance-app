{
 "cells": [
  {
   "cell_type": "markdown",
   "metadata": {},
   "source": [
    "# Gestor de investimento\n",
    "---"
   ]
  },
  {
   "cell_type": "code",
   "execution_count": 2,
   "metadata": {},
   "outputs": [],
   "source": [
    "import pandas as pd\n",
    "import numpy as np\n",
    "import os\n",
    "import xlrd\n",
    "\n",
    "\n",
    "# Config\n",
    "pd.options.display.float_format = '{:,.2f}'.format\n",
    "pd.set_option('display.max_columns', None)\n",
    "pd.set_option('display.max_rows', None)"
   ]
  },
  {
   "cell_type": "code",
   "execution_count": 3,
   "metadata": {},
   "outputs": [],
   "source": [
    "# Função para pegar os dados de Papel (ações)\n",
    "def get_stocks(df):\n",
    "    stocks = []\n",
    "\n",
    "    for index, row in df[~df['Unnamed: 2'].isnull()].iterrows():\n",
    "        if row['Unnamed: 2'] == 'Papel' or row['Unnamed: 2'] == 'Ações':\n",
    "            continue\n",
    "        elif row['Unnamed: 2'] == 'Opções':\n",
    "            break\n",
    "        else:\n",
    "            stocks.append(row[['Unnamed: 2', 'Unnamed: 10', 'Unnamed: 18', \n",
    "                                'Unnamed: 28', 'Unnamed: 35', 'Unnamed: 43', \n",
    "                                'Unnamed: 51', 'Unnamed: 61', 'Unnamed: 68', \n",
    "                                'Unnamed: 76', 'Unnamed: 83']].values)\n",
    "\n",
    "    pd_stock = pd.DataFrame(columns=['Papel', 'Qtd Disponivel', \n",
    "                                    'Qtd Projetado', 'Qtd Dia', \n",
    "                                    'Qtd Garantia BOV', 'Qtd Garantia BMF', \n",
    "                                    'Qtd Estruturados', 'Liq Termo', \n",
    "                                    'Qtd Total', 'Cotacao', 'Financeiro'], data=stocks)\n",
    "\n",
    "    return pd_stock\n",
    "\n",
    "\n",
    "def get_picking(df):\n",
    "    picking = []\n",
    "    start = False\n",
    "\n",
    "    for index, row in df[~df['Unnamed: 2'].isnull()].iterrows():\n",
    "        if row['Unnamed: 2'] == 'Proventos de Ação':\n",
    "                start = True\n",
    "                continue\n",
    "        elif row['Unnamed: 2'] == 'Papel':\n",
    "            continue\n",
    "        elif row['Unnamed: 2'] == 'Renda Fixa':\n",
    "            break\n",
    "        elif start == True:\n",
    "            picking.append(row[['Unnamed: 2', 'Unnamed: 11', \n",
    "                            'Unnamed: 22', 'Unnamed: 60', \n",
    "                            'Unnamed: 77']].values)\n",
    "\n",
    "    pd_picking = pd.DataFrame(columns=['Papel', 'Qtd Provisionada', \n",
    "                                    'Tipo', 'Data Pagamento', 'Valor'], data=picking)\n",
    "  \n",
    "    return pd_picking\n",
    "\n",
    "\n",
    "def get_fi(df):\n",
    "    x = []\n",
    "    start = False\n",
    "\n",
    "    for index, row in df[~df.isnull()].iterrows():\n",
    "        if row['Unnamed: 2'] == 'Fundos de Investimentos':\n",
    "                start = True\n",
    "                continue\n",
    "        elif row['Unnamed: 2'] == 'Nome Fundo':\n",
    "            continue\n",
    "        elif row['Unnamed: 2'] == 'Posição de Fundos Imobiliários':\n",
    "            break\n",
    "        elif (start == True) and ((type(row['Unnamed: 2']) == str)):\n",
    "            if type(row['Unnamed: 2']) == str: \n",
    "                fi_name = np.array([row['Unnamed: 2']])\n",
    "                data = df[df.index == index +1][['Unnamed: 13', 'Unnamed: 19', \n",
    "                                                    'Unnamed: 33', 'Unnamed: 40', \n",
    "                                                    'Unnamed: 48', 'Unnamed: 54', \n",
    "                                                    'Unnamed: 60', 'Unnamed: 70', \n",
    "                                                    'Unnamed: 81']]\n",
    "                \n",
    "                data.insert(0, 'Nome FI', row['Unnamed: 2'])\n",
    "                # print(data.values[0])\n",
    "                x.append(data.values[0])\n",
    "                #display(data.head())\n",
    "    \n",
    "    pd_fi = pd.DataFrame(columns=['Nome', 'Data', 'Qtd Cotas', \n",
    "                                    'Valor Cota', 'Valor Bruto', \n",
    "                                    'IR', 'IOF', 'Valor Liquido', \n",
    "                                    'Aplicacao Pendente', 'Total Bruto'], data=x)\n",
    "    return pd_fi\n",
    "\n",
    "\n",
    "def get_fii(df):\n",
    "    fii = []\n",
    "    start = False\n",
    "\n",
    "    for index, row in df[~df['Unnamed: 2'].isnull()].iterrows():\n",
    "        if row['Unnamed: 2'] == 'Posição de Fundos Imobiliários':\n",
    "                start = True\n",
    "                continue\n",
    "        elif row['Unnamed: 2'] == 'Nome':\n",
    "            continue\n",
    "        elif row['Unnamed: 2'] == 'Proventos de Fundo Imobiliário':\n",
    "            break\n",
    "        elif start == True:\n",
    "            fii.append(row[['Unnamed: 2', 'Unnamed: 14', \n",
    "                            'Unnamed: 26', 'Unnamed: 38', \n",
    "                            'Unnamed: 45', 'Unnamed: 55', \n",
    "                            'Unnamed: 74']].values)\n",
    "\n",
    "    df_result = pd.DataFrame(columns=['Papel', 'Qtd Disponivel', \n",
    "                                    'Qtd Projetada', 'Qtd Dia', 'Qtde Total', \n",
    "                                    'Ult Cotacao', 'Financeiro'], data=fii)\n",
    "  \n",
    "    return df_result\n",
    "\n",
    "\n",
    "def get_picking_fii(df):\n",
    "    p_fii = []\n",
    "    start = False\n",
    "\n",
    "    for index, row in df[~df['Unnamed: 2'].isnull()].iterrows():\n",
    "        if row['Unnamed: 2'] == 'Proventos de Fundo Imobiliário':\n",
    "                start = True\n",
    "                continue\n",
    "        elif row['Unnamed: 2'] == 'Papel':\n",
    "            continue\n",
    "        elif row['Unnamed: 2'] == 'Clubes de Investimentos':\n",
    "            break\n",
    "        elif start == True:\n",
    "            p_fii.append(row[['Unnamed: 2', 'Unnamed: 11', \n",
    "                            'Unnamed: 22', 'Unnamed: 60', \n",
    "                            'Unnamed: 77']].values)\n",
    "\n",
    "    df_result = pd.DataFrame(columns=['Papel', 'Tipo', \n",
    "                                    'Qtd Provisionada', 'Dt Pagamento', \n",
    "                                    'Valor Provisionado'], data=p_fii)\n",
    "  \n",
    "    return df_result"
   ]
  },
  {
   "cell_type": "code",
   "execution_count": 4,
   "metadata": {
    "tags": [
     "outputPrepend",
     "outputPrepend"
    ]
   },
   "outputs": [],
   "source": [
    "files = os.listdir('../datasets/')\n",
    "\n",
    "stocks = pd.DataFrame()\n",
    "pickings = pd.DataFrame()\n",
    "fis = pd.DataFrame()\n",
    "fiis = pd.DataFrame()\n",
    "picking_fii = pd.DataFrame()\n",
    "\n",
    "for file_name in files:\n",
    "    if file_name == '.DS_Store':\n",
    "        continue\n",
    "    \n",
    "    wb = xlrd.open_workbook('../datasets/' + file_name, logfile=open(os.devnull, 'w'))\n",
    "    df = pd.read_excel(wb)\n",
    "    \n",
    "    #df = pd.read_excel('../datasets/' + file_name)\n",
    "    date_position = df[df['Unnamed: 56'].str.contains('Data de referência', na=False)]['Unnamed: 56']\n",
    "    \n",
    "    # position date\n",
    "    date_position = pd.to_datetime(date_position.str.replace('Data de referência: ', ''), format='%d/%m/%Y')\n",
    "    month = int(date_position.dt.month.values)\n",
    "    year = int(date_position.dt.year.values)\n",
    "    period = str(year) + '/' + str(month)\n",
    "\n",
    "    # get stocks\n",
    "    df_stocks = get_stocks(df)\n",
    "    #display(df_stocks.head())\n",
    "    df_stocks['period'] = period\n",
    "    stocks = stocks.append(df_stocks, ignore_index=True)\n",
    "\n",
    "    df_pickings = get_picking(df)\n",
    "    df_pickings['period'] = period\n",
    "    pickings = pickings.append(df_pickings, ignore_index=True)\n",
    "\n",
    "    df_fi = get_fi(df)\n",
    "    df_fi['period'] = period\n",
    "    fis = fis.append(df_fi, ignore_index=True)\n",
    "\n",
    "    df_fii = get_fii(df)\n",
    "    df_fii['period'] = period\n",
    "    fiis = fiis.append(df_fii, ignore_index=True)\n",
    "\n",
    "    df_picking_fii = get_picking_fii(df)\n",
    "    df_picking_fii['period'] = period\n",
    "\n",
    "    picking_fii = picking_fii.append(df_picking_fii, ignore_index=True)\n",
    "\n",
    "# display(stocks.sort_values('period', ascending=False))\n",
    "# display(fi)"
   ]
  },
  {
   "cell_type": "code",
   "execution_count": 5,
   "metadata": {},
   "outputs": [
    {
     "output_type": "execute_result",
     "data": {
      "text/plain": "     Papel        Tipo  Qtd Provisionada Dt Pagamento  Valor Provisionado  \\\n9   RNGO11  RENDIMENTO                49   15/02/2018               26.46   \n27  RNGO11  RENDIMENTO                49   16/11/2018               23.52   \n5   RNGO11  RENDIMENTO                49   14/12/2018               23.52   \n6   RNGO11  RENDIMENTO                49   15/01/2019               23.52   \n8   RNGO11  RENDIMENTO                49   14/03/2018               26.46   \n13  RNGO11  RENDIMENTO                49   13/04/2018               26.46   \n16  RNGO11  RENDIMENTO                49   15/05/2018               26.46   \n12  RNGO11  RENDIMENTO                49   14/06/2018               26.46   \n10  RNGO11  RENDIMENTO                49   16/07/2018               26.46   \n21  RNGO11  RENDIMENTO                49   14/08/2018               21.56   \n17  RNGO11  RENDIMENTO                49   17/09/2018               25.48   \n23  RNGO11  RENDIMENTO                49   15/10/2018               23.52   \n26  RNGO11  RENDIMENTO                49   14/02/2019               23.52   \n14  RNGO11  RENDIMENTO                49   14/11/2019               24.50   \n20  RNGO11  RENDIMENTO                49   13/12/2019               24.01   \n19  BCFF11  RENDIMENTO                 8   12/12/2019                4.24   \n11  RNGO11  RENDIMENTO                49   15/01/2020               24.01   \n24  RNGO11  RENDIMENTO                49   18/03/2019               23.52   \n18  RNGO11  RENDIMENTO                49   12/04/2019               23.52   \n22  RNGO11  RENDIMENTO                49   15/05/2019               24.01   \n25  RNGO11  RENDIMENTO                49   14/06/2019               24.01   \n3   RNGO11  RENDIMENTO                49   15/07/2019               26.95   \n2   RNGO11  RENDIMENTO                49   14/08/2019               24.01   \n28  RNGO11  RENDIMENTO                49   13/09/2019               24.01   \n1   RNGO11  RENDIMENTO                49   14/10/2019               24.01   \n15  RNGO11  RENDIMENTO                49   14/02/2020               23.03   \n0   RNGO11  RENDIMENTO                49   13/03/2020               23.03   \n7   RNGO11  RENDIMENTO                49   15/04/2020               20.58   \n4   RNGO11  RENDIMENTO                49   15/05/2020               20.58   \n\n     period  \n9    2018/1  \n27  2018/10  \n5   2018/11  \n6   2018/12  \n8    2018/2  \n13   2018/3  \n16   2018/4  \n12   2018/5  \n10   2018/6  \n21   2018/7  \n17   2018/8  \n23   2018/9  \n26   2019/1  \n14  2019/10  \n20  2019/11  \n19  2019/11  \n11  2019/12  \n24   2019/2  \n18   2019/3  \n22   2019/4  \n25   2019/5  \n3    2019/6  \n2    2019/7  \n28   2019/8  \n1    2019/9  \n15   2020/1  \n0    2020/2  \n7    2020/3  \n4    2020/4  ",
      "text/html": "<div>\n<style scoped>\n    .dataframe tbody tr th:only-of-type {\n        vertical-align: middle;\n    }\n\n    .dataframe tbody tr th {\n        vertical-align: top;\n    }\n\n    .dataframe thead th {\n        text-align: right;\n    }\n</style>\n<table border=\"1\" class=\"dataframe\">\n  <thead>\n    <tr style=\"text-align: right;\">\n      <th></th>\n      <th>Papel</th>\n      <th>Tipo</th>\n      <th>Qtd Provisionada</th>\n      <th>Dt Pagamento</th>\n      <th>Valor Provisionado</th>\n      <th>period</th>\n    </tr>\n  </thead>\n  <tbody>\n    <tr>\n      <th>9</th>\n      <td>RNGO11</td>\n      <td>RENDIMENTO</td>\n      <td>49</td>\n      <td>15/02/2018</td>\n      <td>26.46</td>\n      <td>2018/1</td>\n    </tr>\n    <tr>\n      <th>27</th>\n      <td>RNGO11</td>\n      <td>RENDIMENTO</td>\n      <td>49</td>\n      <td>16/11/2018</td>\n      <td>23.52</td>\n      <td>2018/10</td>\n    </tr>\n    <tr>\n      <th>5</th>\n      <td>RNGO11</td>\n      <td>RENDIMENTO</td>\n      <td>49</td>\n      <td>14/12/2018</td>\n      <td>23.52</td>\n      <td>2018/11</td>\n    </tr>\n    <tr>\n      <th>6</th>\n      <td>RNGO11</td>\n      <td>RENDIMENTO</td>\n      <td>49</td>\n      <td>15/01/2019</td>\n      <td>23.52</td>\n      <td>2018/12</td>\n    </tr>\n    <tr>\n      <th>8</th>\n      <td>RNGO11</td>\n      <td>RENDIMENTO</td>\n      <td>49</td>\n      <td>14/03/2018</td>\n      <td>26.46</td>\n      <td>2018/2</td>\n    </tr>\n    <tr>\n      <th>13</th>\n      <td>RNGO11</td>\n      <td>RENDIMENTO</td>\n      <td>49</td>\n      <td>13/04/2018</td>\n      <td>26.46</td>\n      <td>2018/3</td>\n    </tr>\n    <tr>\n      <th>16</th>\n      <td>RNGO11</td>\n      <td>RENDIMENTO</td>\n      <td>49</td>\n      <td>15/05/2018</td>\n      <td>26.46</td>\n      <td>2018/4</td>\n    </tr>\n    <tr>\n      <th>12</th>\n      <td>RNGO11</td>\n      <td>RENDIMENTO</td>\n      <td>49</td>\n      <td>14/06/2018</td>\n      <td>26.46</td>\n      <td>2018/5</td>\n    </tr>\n    <tr>\n      <th>10</th>\n      <td>RNGO11</td>\n      <td>RENDIMENTO</td>\n      <td>49</td>\n      <td>16/07/2018</td>\n      <td>26.46</td>\n      <td>2018/6</td>\n    </tr>\n    <tr>\n      <th>21</th>\n      <td>RNGO11</td>\n      <td>RENDIMENTO</td>\n      <td>49</td>\n      <td>14/08/2018</td>\n      <td>21.56</td>\n      <td>2018/7</td>\n    </tr>\n    <tr>\n      <th>17</th>\n      <td>RNGO11</td>\n      <td>RENDIMENTO</td>\n      <td>49</td>\n      <td>17/09/2018</td>\n      <td>25.48</td>\n      <td>2018/8</td>\n    </tr>\n    <tr>\n      <th>23</th>\n      <td>RNGO11</td>\n      <td>RENDIMENTO</td>\n      <td>49</td>\n      <td>15/10/2018</td>\n      <td>23.52</td>\n      <td>2018/9</td>\n    </tr>\n    <tr>\n      <th>26</th>\n      <td>RNGO11</td>\n      <td>RENDIMENTO</td>\n      <td>49</td>\n      <td>14/02/2019</td>\n      <td>23.52</td>\n      <td>2019/1</td>\n    </tr>\n    <tr>\n      <th>14</th>\n      <td>RNGO11</td>\n      <td>RENDIMENTO</td>\n      <td>49</td>\n      <td>14/11/2019</td>\n      <td>24.50</td>\n      <td>2019/10</td>\n    </tr>\n    <tr>\n      <th>20</th>\n      <td>RNGO11</td>\n      <td>RENDIMENTO</td>\n      <td>49</td>\n      <td>13/12/2019</td>\n      <td>24.01</td>\n      <td>2019/11</td>\n    </tr>\n    <tr>\n      <th>19</th>\n      <td>BCFF11</td>\n      <td>RENDIMENTO</td>\n      <td>8</td>\n      <td>12/12/2019</td>\n      <td>4.24</td>\n      <td>2019/11</td>\n    </tr>\n    <tr>\n      <th>11</th>\n      <td>RNGO11</td>\n      <td>RENDIMENTO</td>\n      <td>49</td>\n      <td>15/01/2020</td>\n      <td>24.01</td>\n      <td>2019/12</td>\n    </tr>\n    <tr>\n      <th>24</th>\n      <td>RNGO11</td>\n      <td>RENDIMENTO</td>\n      <td>49</td>\n      <td>18/03/2019</td>\n      <td>23.52</td>\n      <td>2019/2</td>\n    </tr>\n    <tr>\n      <th>18</th>\n      <td>RNGO11</td>\n      <td>RENDIMENTO</td>\n      <td>49</td>\n      <td>12/04/2019</td>\n      <td>23.52</td>\n      <td>2019/3</td>\n    </tr>\n    <tr>\n      <th>22</th>\n      <td>RNGO11</td>\n      <td>RENDIMENTO</td>\n      <td>49</td>\n      <td>15/05/2019</td>\n      <td>24.01</td>\n      <td>2019/4</td>\n    </tr>\n    <tr>\n      <th>25</th>\n      <td>RNGO11</td>\n      <td>RENDIMENTO</td>\n      <td>49</td>\n      <td>14/06/2019</td>\n      <td>24.01</td>\n      <td>2019/5</td>\n    </tr>\n    <tr>\n      <th>3</th>\n      <td>RNGO11</td>\n      <td>RENDIMENTO</td>\n      <td>49</td>\n      <td>15/07/2019</td>\n      <td>26.95</td>\n      <td>2019/6</td>\n    </tr>\n    <tr>\n      <th>2</th>\n      <td>RNGO11</td>\n      <td>RENDIMENTO</td>\n      <td>49</td>\n      <td>14/08/2019</td>\n      <td>24.01</td>\n      <td>2019/7</td>\n    </tr>\n    <tr>\n      <th>28</th>\n      <td>RNGO11</td>\n      <td>RENDIMENTO</td>\n      <td>49</td>\n      <td>13/09/2019</td>\n      <td>24.01</td>\n      <td>2019/8</td>\n    </tr>\n    <tr>\n      <th>1</th>\n      <td>RNGO11</td>\n      <td>RENDIMENTO</td>\n      <td>49</td>\n      <td>14/10/2019</td>\n      <td>24.01</td>\n      <td>2019/9</td>\n    </tr>\n    <tr>\n      <th>15</th>\n      <td>RNGO11</td>\n      <td>RENDIMENTO</td>\n      <td>49</td>\n      <td>14/02/2020</td>\n      <td>23.03</td>\n      <td>2020/1</td>\n    </tr>\n    <tr>\n      <th>0</th>\n      <td>RNGO11</td>\n      <td>RENDIMENTO</td>\n      <td>49</td>\n      <td>13/03/2020</td>\n      <td>23.03</td>\n      <td>2020/2</td>\n    </tr>\n    <tr>\n      <th>7</th>\n      <td>RNGO11</td>\n      <td>RENDIMENTO</td>\n      <td>49</td>\n      <td>15/04/2020</td>\n      <td>20.58</td>\n      <td>2020/3</td>\n    </tr>\n    <tr>\n      <th>4</th>\n      <td>RNGO11</td>\n      <td>RENDIMENTO</td>\n      <td>49</td>\n      <td>15/05/2020</td>\n      <td>20.58</td>\n      <td>2020/4</td>\n    </tr>\n  </tbody>\n</table>\n</div>"
     },
     "metadata": {},
     "execution_count": 5
    }
   ],
   "source": [
    "picking_fii.sort_values(by='period')"
   ]
  },
  {
   "cell_type": "code",
   "execution_count": 6,
   "metadata": {},
   "outputs": [
    {
     "output_type": "execute_result",
     "data": {
      "text/plain": "array(['2018/1', '2018/10', '2018/11', '2018/12', '2018/2', '2018/3',\n       '2018/4', '2018/5', '2018/6', '2018/7', '2018/8', '2018/9',\n       '2019/1', '2019/10', '2019/11', '2019/12', '2019/2', '2019/3',\n       '2019/4', '2019/5', '2019/6', '2019/7', '2019/8', '2019/9',\n       '2020/1', '2020/2', '2020/3', '2020/4'], dtype=object)"
     },
     "metadata": {},
     "execution_count": 6
    }
   ],
   "source": [
    "fis['period'].sort_values().unique()"
   ]
  },
  {
   "cell_type": "code",
   "execution_count": 7,
   "metadata": {},
   "outputs": [
    {
     "output_type": "display_data",
     "data": {
      "text/plain": "    Papel Qtd Disponivel Qtd Projetado Qtd Dia Qtd Garantia BOV  \\\n0   JHSF3           1600             0       0                0   \n1   MGLU3            800             0       0                0   \n2   MGLU3            800             0       0                0   \n3  BPAC11            200             0       0                0   \n4   JHSF3           1600             0       0                0   \n\n  Qtd Garantia BMF Qtd Estruturados Liq Termo Qtd Total  Cotacao  Financeiro  \\\n0                0                0         0      1600     7.01   11,216.00   \n1                0                0         0       800    50.52   40,416.00   \n2                0                0         0       800    37.04   29,632.00   \n3                0                0         0       200    42.30    8,460.00   \n4                0                0         0      1600     4.16    6,656.00   \n\n   period  \n0  2020/2  \n1  2020/2  \n2  2019/9  \n3  2020/4  \n4  2020/4  ",
      "text/html": "<div>\n<style scoped>\n    .dataframe tbody tr th:only-of-type {\n        vertical-align: middle;\n    }\n\n    .dataframe tbody tr th {\n        vertical-align: top;\n    }\n\n    .dataframe thead th {\n        text-align: right;\n    }\n</style>\n<table border=\"1\" class=\"dataframe\">\n  <thead>\n    <tr style=\"text-align: right;\">\n      <th></th>\n      <th>Papel</th>\n      <th>Qtd Disponivel</th>\n      <th>Qtd Projetado</th>\n      <th>Qtd Dia</th>\n      <th>Qtd Garantia BOV</th>\n      <th>Qtd Garantia BMF</th>\n      <th>Qtd Estruturados</th>\n      <th>Liq Termo</th>\n      <th>Qtd Total</th>\n      <th>Cotacao</th>\n      <th>Financeiro</th>\n      <th>period</th>\n    </tr>\n  </thead>\n  <tbody>\n    <tr>\n      <th>0</th>\n      <td>JHSF3</td>\n      <td>1600</td>\n      <td>0</td>\n      <td>0</td>\n      <td>0</td>\n      <td>0</td>\n      <td>0</td>\n      <td>0</td>\n      <td>1600</td>\n      <td>7.01</td>\n      <td>11,216.00</td>\n      <td>2020/2</td>\n    </tr>\n    <tr>\n      <th>1</th>\n      <td>MGLU3</td>\n      <td>800</td>\n      <td>0</td>\n      <td>0</td>\n      <td>0</td>\n      <td>0</td>\n      <td>0</td>\n      <td>0</td>\n      <td>800</td>\n      <td>50.52</td>\n      <td>40,416.00</td>\n      <td>2020/2</td>\n    </tr>\n    <tr>\n      <th>2</th>\n      <td>MGLU3</td>\n      <td>800</td>\n      <td>0</td>\n      <td>0</td>\n      <td>0</td>\n      <td>0</td>\n      <td>0</td>\n      <td>0</td>\n      <td>800</td>\n      <td>37.04</td>\n      <td>29,632.00</td>\n      <td>2019/9</td>\n    </tr>\n    <tr>\n      <th>3</th>\n      <td>BPAC11</td>\n      <td>200</td>\n      <td>0</td>\n      <td>0</td>\n      <td>0</td>\n      <td>0</td>\n      <td>0</td>\n      <td>0</td>\n      <td>200</td>\n      <td>42.30</td>\n      <td>8,460.00</td>\n      <td>2020/4</td>\n    </tr>\n    <tr>\n      <th>4</th>\n      <td>JHSF3</td>\n      <td>1600</td>\n      <td>0</td>\n      <td>0</td>\n      <td>0</td>\n      <td>0</td>\n      <td>0</td>\n      <td>0</td>\n      <td>1600</td>\n      <td>4.16</td>\n      <td>6,656.00</td>\n      <td>2020/4</td>\n    </tr>\n  </tbody>\n</table>\n</div>"
     },
     "metadata": {}
    },
    {
     "output_type": "display_data",
     "data": {
      "text/plain": "   Papel Qtd Provisionada                         Tipo Data Pagamento  Valor  \\\n0  MGLU3              800  JUROS SOBRE CAPITAL PROPRIO  Indeterminado  28.63   \n1  MGLU3              800  JUROS SOBRE CAPITAL PROPRIO  Indeterminado  58.88   \n2  MGLU3              800  JUROS SOBRE CAPITAL PROPRIO  Indeterminado  28.63   \n3  MGLU3              800  JUROS SOBRE CAPITAL PROPRIO  Indeterminado  58.88   \n4  WEGE3              300  JUROS SOBRE CAPITAL PROPRIO     12/08/2020   9.07   \n\n   period  \n0  2020/2  \n1  2020/2  \n2  2020/4  \n3  2020/4  \n4  2020/4  ",
      "text/html": "<div>\n<style scoped>\n    .dataframe tbody tr th:only-of-type {\n        vertical-align: middle;\n    }\n\n    .dataframe tbody tr th {\n        vertical-align: top;\n    }\n\n    .dataframe thead th {\n        text-align: right;\n    }\n</style>\n<table border=\"1\" class=\"dataframe\">\n  <thead>\n    <tr style=\"text-align: right;\">\n      <th></th>\n      <th>Papel</th>\n      <th>Qtd Provisionada</th>\n      <th>Tipo</th>\n      <th>Data Pagamento</th>\n      <th>Valor</th>\n      <th>period</th>\n    </tr>\n  </thead>\n  <tbody>\n    <tr>\n      <th>0</th>\n      <td>MGLU3</td>\n      <td>800</td>\n      <td>JUROS SOBRE CAPITAL PROPRIO</td>\n      <td>Indeterminado</td>\n      <td>28.63</td>\n      <td>2020/2</td>\n    </tr>\n    <tr>\n      <th>1</th>\n      <td>MGLU3</td>\n      <td>800</td>\n      <td>JUROS SOBRE CAPITAL PROPRIO</td>\n      <td>Indeterminado</td>\n      <td>58.88</td>\n      <td>2020/2</td>\n    </tr>\n    <tr>\n      <th>2</th>\n      <td>MGLU3</td>\n      <td>800</td>\n      <td>JUROS SOBRE CAPITAL PROPRIO</td>\n      <td>Indeterminado</td>\n      <td>28.63</td>\n      <td>2020/4</td>\n    </tr>\n    <tr>\n      <th>3</th>\n      <td>MGLU3</td>\n      <td>800</td>\n      <td>JUROS SOBRE CAPITAL PROPRIO</td>\n      <td>Indeterminado</td>\n      <td>58.88</td>\n      <td>2020/4</td>\n    </tr>\n    <tr>\n      <th>4</th>\n      <td>WEGE3</td>\n      <td>300</td>\n      <td>JUROS SOBRE CAPITAL PROPRIO</td>\n      <td>12/08/2020</td>\n      <td>9.07</td>\n      <td>2020/4</td>\n    </tr>\n  </tbody>\n</table>\n</div>"
     },
     "metadata": {}
    },
    {
     "output_type": "display_data",
     "data": {
      "text/plain": "                        Nome       Data  Qtd Cotas  Valor Cota  Valor Bruto  \\\n0      XP Long Short FIC FIM 2020-02-28   6,902.02        2.91    20,105.88   \n1  Equitas Selection FIC FIA 2020-02-28   3,018.52        7.23    21,812.68   \n2     AZ Quest Multi FIC FIM 2020-02-28   1,464.80       12.95    18,967.40   \n3         Mauá Macro FIC FIM 2020-02-28      37.17      787.62    29,278.24   \n4  Bahia AM Maraú FIC de FIM 2020-02-28  33,810.43        2.56    86,466.95   \n\n      IR  IOF  Valor Liquido  Aplicacao Pendente  Total Bruto  period  \n0  38.48    0      20,067.40                   0    20,105.88  2020/2  \n1 286.90    0      21,525.78                   0    21,812.68  2020/2  \n2  93.33    0      18,874.07                   0    18,967.40  2020/2  \n3 186.19    0      29,092.05                   0    29,278.24  2020/2  \n4  67.77    0      86,399.18                   0    86,466.95  2020/2  ",
      "text/html": "<div>\n<style scoped>\n    .dataframe tbody tr th:only-of-type {\n        vertical-align: middle;\n    }\n\n    .dataframe tbody tr th {\n        vertical-align: top;\n    }\n\n    .dataframe thead th {\n        text-align: right;\n    }\n</style>\n<table border=\"1\" class=\"dataframe\">\n  <thead>\n    <tr style=\"text-align: right;\">\n      <th></th>\n      <th>Nome</th>\n      <th>Data</th>\n      <th>Qtd Cotas</th>\n      <th>Valor Cota</th>\n      <th>Valor Bruto</th>\n      <th>IR</th>\n      <th>IOF</th>\n      <th>Valor Liquido</th>\n      <th>Aplicacao Pendente</th>\n      <th>Total Bruto</th>\n      <th>period</th>\n    </tr>\n  </thead>\n  <tbody>\n    <tr>\n      <th>0</th>\n      <td>XP Long Short FIC FIM</td>\n      <td>2020-02-28</td>\n      <td>6,902.02</td>\n      <td>2.91</td>\n      <td>20,105.88</td>\n      <td>38.48</td>\n      <td>0</td>\n      <td>20,067.40</td>\n      <td>0</td>\n      <td>20,105.88</td>\n      <td>2020/2</td>\n    </tr>\n    <tr>\n      <th>1</th>\n      <td>Equitas Selection FIC FIA</td>\n      <td>2020-02-28</td>\n      <td>3,018.52</td>\n      <td>7.23</td>\n      <td>21,812.68</td>\n      <td>286.90</td>\n      <td>0</td>\n      <td>21,525.78</td>\n      <td>0</td>\n      <td>21,812.68</td>\n      <td>2020/2</td>\n    </tr>\n    <tr>\n      <th>2</th>\n      <td>AZ Quest Multi FIC FIM</td>\n      <td>2020-02-28</td>\n      <td>1,464.80</td>\n      <td>12.95</td>\n      <td>18,967.40</td>\n      <td>93.33</td>\n      <td>0</td>\n      <td>18,874.07</td>\n      <td>0</td>\n      <td>18,967.40</td>\n      <td>2020/2</td>\n    </tr>\n    <tr>\n      <th>3</th>\n      <td>Mauá Macro FIC FIM</td>\n      <td>2020-02-28</td>\n      <td>37.17</td>\n      <td>787.62</td>\n      <td>29,278.24</td>\n      <td>186.19</td>\n      <td>0</td>\n      <td>29,092.05</td>\n      <td>0</td>\n      <td>29,278.24</td>\n      <td>2020/2</td>\n    </tr>\n    <tr>\n      <th>4</th>\n      <td>Bahia AM Maraú FIC de FIM</td>\n      <td>2020-02-28</td>\n      <td>33,810.43</td>\n      <td>2.56</td>\n      <td>86,466.95</td>\n      <td>67.77</td>\n      <td>0</td>\n      <td>86,399.18</td>\n      <td>0</td>\n      <td>86,466.95</td>\n      <td>2020/2</td>\n    </tr>\n  </tbody>\n</table>\n</div>"
     },
     "metadata": {}
    },
    {
     "output_type": "display_data",
     "data": {
      "text/plain": "     Papel  Qtd Disponivel  Qtd Projetada  Qtd Dia  Qtde Total  Ult Cotacao  \\\n0   IBFF11              50              0        0       50.00       100.10   \n1   BCFF11               8              0        0        8.00        98.17   \n2   CNES11              11              0        0       11.00        83.50   \n3  OULG11B              50              0        0       50.00       105.00   \n4   RNGO11              49              0        0       49.00        96.61   \n\n   Financeiro  period  \n0    5,005.00  2020/2  \n1      785.36  2020/2  \n2      918.50  2020/2  \n3    5,250.00  2020/2  \n4    4,733.89  2020/2  ",
      "text/html": "<div>\n<style scoped>\n    .dataframe tbody tr th:only-of-type {\n        vertical-align: middle;\n    }\n\n    .dataframe tbody tr th {\n        vertical-align: top;\n    }\n\n    .dataframe thead th {\n        text-align: right;\n    }\n</style>\n<table border=\"1\" class=\"dataframe\">\n  <thead>\n    <tr style=\"text-align: right;\">\n      <th></th>\n      <th>Papel</th>\n      <th>Qtd Disponivel</th>\n      <th>Qtd Projetada</th>\n      <th>Qtd Dia</th>\n      <th>Qtde Total</th>\n      <th>Ult Cotacao</th>\n      <th>Financeiro</th>\n      <th>period</th>\n    </tr>\n  </thead>\n  <tbody>\n    <tr>\n      <th>0</th>\n      <td>IBFF11</td>\n      <td>50</td>\n      <td>0</td>\n      <td>0</td>\n      <td>50.00</td>\n      <td>100.10</td>\n      <td>5,005.00</td>\n      <td>2020/2</td>\n    </tr>\n    <tr>\n      <th>1</th>\n      <td>BCFF11</td>\n      <td>8</td>\n      <td>0</td>\n      <td>0</td>\n      <td>8.00</td>\n      <td>98.17</td>\n      <td>785.36</td>\n      <td>2020/2</td>\n    </tr>\n    <tr>\n      <th>2</th>\n      <td>CNES11</td>\n      <td>11</td>\n      <td>0</td>\n      <td>0</td>\n      <td>11.00</td>\n      <td>83.50</td>\n      <td>918.50</td>\n      <td>2020/2</td>\n    </tr>\n    <tr>\n      <th>3</th>\n      <td>OULG11B</td>\n      <td>50</td>\n      <td>0</td>\n      <td>0</td>\n      <td>50.00</td>\n      <td>105.00</td>\n      <td>5,250.00</td>\n      <td>2020/2</td>\n    </tr>\n    <tr>\n      <th>4</th>\n      <td>RNGO11</td>\n      <td>49</td>\n      <td>0</td>\n      <td>0</td>\n      <td>49.00</td>\n      <td>96.61</td>\n      <td>4,733.89</td>\n      <td>2020/2</td>\n    </tr>\n  </tbody>\n</table>\n</div>"
     },
     "metadata": {}
    },
    {
     "output_type": "display_data",
     "data": {
      "text/plain": "    Papel        Tipo  Qtd Provisionada Dt Pagamento  Valor Provisionado  \\\n0  RNGO11  RENDIMENTO                49   13/03/2020               23.03   \n1  RNGO11  RENDIMENTO                49   14/10/2019               24.01   \n2  RNGO11  RENDIMENTO                49   14/08/2019               24.01   \n3  RNGO11  RENDIMENTO                49   15/07/2019               26.95   \n4  RNGO11  RENDIMENTO                49   15/05/2020               20.58   \n\n   period  \n0  2020/2  \n1  2019/9  \n2  2019/7  \n3  2019/6  \n4  2020/4  ",
      "text/html": "<div>\n<style scoped>\n    .dataframe tbody tr th:only-of-type {\n        vertical-align: middle;\n    }\n\n    .dataframe tbody tr th {\n        vertical-align: top;\n    }\n\n    .dataframe thead th {\n        text-align: right;\n    }\n</style>\n<table border=\"1\" class=\"dataframe\">\n  <thead>\n    <tr style=\"text-align: right;\">\n      <th></th>\n      <th>Papel</th>\n      <th>Tipo</th>\n      <th>Qtd Provisionada</th>\n      <th>Dt Pagamento</th>\n      <th>Valor Provisionado</th>\n      <th>period</th>\n    </tr>\n  </thead>\n  <tbody>\n    <tr>\n      <th>0</th>\n      <td>RNGO11</td>\n      <td>RENDIMENTO</td>\n      <td>49</td>\n      <td>13/03/2020</td>\n      <td>23.03</td>\n      <td>2020/2</td>\n    </tr>\n    <tr>\n      <th>1</th>\n      <td>RNGO11</td>\n      <td>RENDIMENTO</td>\n      <td>49</td>\n      <td>14/10/2019</td>\n      <td>24.01</td>\n      <td>2019/9</td>\n    </tr>\n    <tr>\n      <th>2</th>\n      <td>RNGO11</td>\n      <td>RENDIMENTO</td>\n      <td>49</td>\n      <td>14/08/2019</td>\n      <td>24.01</td>\n      <td>2019/7</td>\n    </tr>\n    <tr>\n      <th>3</th>\n      <td>RNGO11</td>\n      <td>RENDIMENTO</td>\n      <td>49</td>\n      <td>15/07/2019</td>\n      <td>26.95</td>\n      <td>2019/6</td>\n    </tr>\n    <tr>\n      <th>4</th>\n      <td>RNGO11</td>\n      <td>RENDIMENTO</td>\n      <td>49</td>\n      <td>15/05/2020</td>\n      <td>20.58</td>\n      <td>2020/4</td>\n    </tr>\n  </tbody>\n</table>\n</div>"
     },
     "metadata": {}
    }
   ],
   "source": [
    "display(stocks.head())\n",
    "display(pickings.head())\n",
    "display(fis.head())\n",
    "display(fiis.head())\n",
    "display(picking_fii.head())"
   ]
  },
  {
   "cell_type": "code",
   "execution_count": 8,
   "metadata": {},
   "outputs": [
    {
     "output_type": "execute_result",
     "data": {
      "text/plain": "                        Nome       Data  Qtd Cotas  Valor Cota  Valor Bruto  \\\n0      XP Long Short FIC FIM 2020-02-28   6,902.02        2.91    20,105.88   \n1  Equitas Selection FIC FIA 2020-02-28   3,018.52        7.23    21,812.68   \n2     AZ Quest Multi FIC FIM 2020-02-28   1,464.80       12.95    18,967.40   \n3         Mauá Macro FIC FIM 2020-02-28      37.17      787.62    29,278.24   \n4  Bahia AM Maraú FIC de FIM 2020-02-28  33,810.43        2.56    86,466.95   \n\n      IR  IOF  Valor Liquido  Aplicacao Pendente  Total Bruto  period  \n0  38.48    0      20,067.40                   0    20,105.88  2020/2  \n1 286.90    0      21,525.78                   0    21,812.68  2020/2  \n2  93.33    0      18,874.07                   0    18,967.40  2020/2  \n3 186.19    0      29,092.05                   0    29,278.24  2020/2  \n4  67.77    0      86,399.18                   0    86,466.95  2020/2  ",
      "text/html": "<div>\n<style scoped>\n    .dataframe tbody tr th:only-of-type {\n        vertical-align: middle;\n    }\n\n    .dataframe tbody tr th {\n        vertical-align: top;\n    }\n\n    .dataframe thead th {\n        text-align: right;\n    }\n</style>\n<table border=\"1\" class=\"dataframe\">\n  <thead>\n    <tr style=\"text-align: right;\">\n      <th></th>\n      <th>Nome</th>\n      <th>Data</th>\n      <th>Qtd Cotas</th>\n      <th>Valor Cota</th>\n      <th>Valor Bruto</th>\n      <th>IR</th>\n      <th>IOF</th>\n      <th>Valor Liquido</th>\n      <th>Aplicacao Pendente</th>\n      <th>Total Bruto</th>\n      <th>period</th>\n    </tr>\n  </thead>\n  <tbody>\n    <tr>\n      <th>0</th>\n      <td>XP Long Short FIC FIM</td>\n      <td>2020-02-28</td>\n      <td>6,902.02</td>\n      <td>2.91</td>\n      <td>20,105.88</td>\n      <td>38.48</td>\n      <td>0</td>\n      <td>20,067.40</td>\n      <td>0</td>\n      <td>20,105.88</td>\n      <td>2020/2</td>\n    </tr>\n    <tr>\n      <th>1</th>\n      <td>Equitas Selection FIC FIA</td>\n      <td>2020-02-28</td>\n      <td>3,018.52</td>\n      <td>7.23</td>\n      <td>21,812.68</td>\n      <td>286.90</td>\n      <td>0</td>\n      <td>21,525.78</td>\n      <td>0</td>\n      <td>21,812.68</td>\n      <td>2020/2</td>\n    </tr>\n    <tr>\n      <th>2</th>\n      <td>AZ Quest Multi FIC FIM</td>\n      <td>2020-02-28</td>\n      <td>1,464.80</td>\n      <td>12.95</td>\n      <td>18,967.40</td>\n      <td>93.33</td>\n      <td>0</td>\n      <td>18,874.07</td>\n      <td>0</td>\n      <td>18,967.40</td>\n      <td>2020/2</td>\n    </tr>\n    <tr>\n      <th>3</th>\n      <td>Mauá Macro FIC FIM</td>\n      <td>2020-02-28</td>\n      <td>37.17</td>\n      <td>787.62</td>\n      <td>29,278.24</td>\n      <td>186.19</td>\n      <td>0</td>\n      <td>29,092.05</td>\n      <td>0</td>\n      <td>29,278.24</td>\n      <td>2020/2</td>\n    </tr>\n    <tr>\n      <th>4</th>\n      <td>Bahia AM Maraú FIC de FIM</td>\n      <td>2020-02-28</td>\n      <td>33,810.43</td>\n      <td>2.56</td>\n      <td>86,466.95</td>\n      <td>67.77</td>\n      <td>0</td>\n      <td>86,399.18</td>\n      <td>0</td>\n      <td>86,466.95</td>\n      <td>2020/2</td>\n    </tr>\n  </tbody>\n</table>\n</div>"
     },
     "metadata": {},
     "execution_count": 8
    }
   ],
   "source": [
    "fis.head()"
   ]
  },
  {
   "cell_type": "code",
   "execution_count": 9,
   "metadata": {},
   "outputs": [
    {
     "output_type": "execute_result",
     "data": {
      "text/plain": "                    Nome       Data  Qtd Cotas  Valor Cota  Valor Bruto   IR  \\\n42  Polo Norte I FIC FIM 2018-12-31   3,946.89        7.61    30,017.36 2.60   \n\n    IOF  Valor Liquido  Aplicacao Pendente  Total Bruto   period  \n42    0      30,014.76               30000    30,017.36  2018/12  ",
      "text/html": "<div>\n<style scoped>\n    .dataframe tbody tr th:only-of-type {\n        vertical-align: middle;\n    }\n\n    .dataframe tbody tr th {\n        vertical-align: top;\n    }\n\n    .dataframe thead th {\n        text-align: right;\n    }\n</style>\n<table border=\"1\" class=\"dataframe\">\n  <thead>\n    <tr style=\"text-align: right;\">\n      <th></th>\n      <th>Nome</th>\n      <th>Data</th>\n      <th>Qtd Cotas</th>\n      <th>Valor Cota</th>\n      <th>Valor Bruto</th>\n      <th>IR</th>\n      <th>IOF</th>\n      <th>Valor Liquido</th>\n      <th>Aplicacao Pendente</th>\n      <th>Total Bruto</th>\n      <th>period</th>\n    </tr>\n  </thead>\n  <tbody>\n    <tr>\n      <th>42</th>\n      <td>Polo Norte I FIC FIM</td>\n      <td>2018-12-31</td>\n      <td>3,946.89</td>\n      <td>7.61</td>\n      <td>30,017.36</td>\n      <td>2.60</td>\n      <td>0</td>\n      <td>30,014.76</td>\n      <td>30000</td>\n      <td>30,017.36</td>\n      <td>2018/12</td>\n    </tr>\n  </tbody>\n</table>\n</div>"
     },
     "metadata": {},
     "execution_count": 9
    }
   ],
   "source": [
    "fis[fis['Aplicacao Pendente'] > 0]"
   ]
  },
  {
   "cell_type": "code",
   "execution_count": null,
   "metadata": {},
   "outputs": [],
   "source": []
  }
 ],
 "metadata": {
  "kernelspec": {
   "display_name": "Python 3",
   "language": "python",
   "name": "python3"
  },
  "language_info": {
   "codemirror_mode": {
    "name": "ipython",
    "version": 3
   },
   "file_extension": ".py",
   "mimetype": "text/x-python",
   "name": "python",
   "nbconvert_exporter": "python",
   "pygments_lexer": "ipython3",
   "version": "3.7.7-final"
  }
 },
 "nbformat": 4,
 "nbformat_minor": 2
}