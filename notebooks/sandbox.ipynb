{
 "cells": [
  {
   "cell_type": "markdown",
   "metadata": {},
   "source": [
    "# Gestor de investimento\n",
    "---"
   ]
  },
  {
   "cell_type": "code",
   "execution_count": 62,
   "metadata": {},
   "outputs": [],
   "source": [
    "import pandas as pd\n",
    "import numpy as np\n",
    "import os\n",
    "import xlrd\n",
    "\n",
    "\n",
    "# Config\n",
    "pd.options.display.float_format = '{:,.2f}'.format\n",
    "pd.set_option('display.max_columns', None)\n",
    "pd.set_option('display.max_rows', None)"
   ]
  },
  {
   "cell_type": "code",
   "execution_count": 145,
   "metadata": {},
   "outputs": [
    {
     "output_type": "execute_result",
     "data": {
      "text/plain": "            Liq         Mov                         Hist__o     Valor  \\\n61   12/09/2019  12/09/2019  TED - RECEBIMENTO DE TED - SPB 47,000.00   \n88   17/12/2018  17/12/2018  TED - RECEBIMENTO DE TED - SPB 30,000.00   \n141  05/10/2017  05/10/2017  TED - RECEBIMENTO DE TED - SPB 73,000.00   \n195  17/03/2017  17/03/2017  TED - RECEBIMENTO DE TED - SPB 30,000.00   \n251  31/03/2016  31/03/2016    RESGATE XP GlobCredit FICFIM 31,029.08   \n\n        Saldo  \n61  47,547.52  \n88  30,305.18  \n141 73,259.50  \n195 30,180.67  \n251 31,185.91  ",
      "text/html": "<div>\n<style scoped>\n    .dataframe tbody tr th:only-of-type {\n        vertical-align: middle;\n    }\n\n    .dataframe tbody tr th {\n        vertical-align: top;\n    }\n\n    .dataframe thead th {\n        text-align: right;\n    }\n</style>\n<table border=\"1\" class=\"dataframe\">\n  <thead>\n    <tr style=\"text-align: right;\">\n      <th></th>\n      <th>Liq</th>\n      <th>Mov</th>\n      <th>Hist__o</th>\n      <th>Valor</th>\n      <th>Saldo</th>\n    </tr>\n  </thead>\n  <tbody>\n    <tr>\n      <th>61</th>\n      <td>12/09/2019</td>\n      <td>12/09/2019</td>\n      <td>TED - RECEBIMENTO DE TED - SPB</td>\n      <td>47,000.00</td>\n      <td>47,547.52</td>\n    </tr>\n    <tr>\n      <th>88</th>\n      <td>17/12/2018</td>\n      <td>17/12/2018</td>\n      <td>TED - RECEBIMENTO DE TED - SPB</td>\n      <td>30,000.00</td>\n      <td>30,305.18</td>\n    </tr>\n    <tr>\n      <th>141</th>\n      <td>05/10/2017</td>\n      <td>05/10/2017</td>\n      <td>TED - RECEBIMENTO DE TED - SPB</td>\n      <td>73,000.00</td>\n      <td>73,259.50</td>\n    </tr>\n    <tr>\n      <th>195</th>\n      <td>17/03/2017</td>\n      <td>17/03/2017</td>\n      <td>TED - RECEBIMENTO DE TED - SPB</td>\n      <td>30,000.00</td>\n      <td>30,180.67</td>\n    </tr>\n    <tr>\n      <th>251</th>\n      <td>31/03/2016</td>\n      <td>31/03/2016</td>\n      <td>RESGATE XP GlobCredit FICFIM</td>\n      <td>31,029.08</td>\n      <td>31,185.91</td>\n    </tr>\n  </tbody>\n</table>\n</div>"
     },
     "metadata": {},
     "execution_count": 145
    }
   ],
   "source": [
    "# Função para pegar os dados de Papel (ações)\n",
    "def get_stocks(df):\n",
    "    stocks = []\n",
    "\n",
    "    for index, row in df[~df['Unnamed: 2'].isnull()].iterrows():\n",
    "        if row['Unnamed: 2'] == 'Papel' or row['Unnamed: 2'] == 'Ações':\n",
    "            continue\n",
    "        elif row['Unnamed: 2'] == 'Opções':\n",
    "            break\n",
    "        else:\n",
    "            stocks.append(row[['Unnamed: 2', 'Unnamed: 10', 'Unnamed: 18', \n",
    "                                'Unnamed: 28', 'Unnamed: 35', 'Unnamed: 43', \n",
    "                                'Unnamed: 51', 'Unnamed: 61', 'Unnamed: 68', \n",
    "                                'Unnamed: 76', 'Unnamed: 83']].values)\n",
    "\n",
    "    pd_stock = pd.DataFrame(columns=['Papel', 'Qtd Disponivel', \n",
    "                                    'Qtd Projetado', 'Qtd Dia', \n",
    "                                    'Qtd Garantia BOV', 'Qtd Garantia BMF', \n",
    "                                    'Qtd Estruturados', 'Liq Termo', \n",
    "                                    'Qtd Total', 'Cotacao', 'Financeiro'], data=stocks)\n",
    "\n",
    "    return pd_stock\n",
    "\n",
    "\n",
    "def get_picking(df):\n",
    "    picking = []\n",
    "    start = False\n",
    "\n",
    "    for index, row in df[~df['Unnamed: 2'].isnull()].iterrows():\n",
    "        if row['Unnamed: 2'] == 'Proventos de Ação':\n",
    "                start = True\n",
    "                continue\n",
    "        elif row['Unnamed: 2'] == 'Papel':\n",
    "            continue\n",
    "        elif row['Unnamed: 2'] == 'Renda Fixa':\n",
    "            break\n",
    "        elif start == True:\n",
    "            picking.append(row[['Unnamed: 2', 'Unnamed: 11', \n",
    "                            'Unnamed: 22', 'Unnamed: 60', \n",
    "                            'Unnamed: 77']].values)\n",
    "\n",
    "    pd_picking = pd.DataFrame(columns=['Papel', 'Qtd Provisionada', \n",
    "                                    'Tipo', 'Data Pagamento', 'Valor'], data=picking)\n",
    "  \n",
    "    return pd_picking\n",
    "\n",
    "\n",
    "def get_fi(df):\n",
    "    x = []\n",
    "    start = False\n",
    "\n",
    "    for index, row in df[~df.isnull()].iterrows():\n",
    "        if row['Unnamed: 2'] == 'Fundos de Investimentos':\n",
    "                start = True\n",
    "                continue\n",
    "        elif row['Unnamed: 2'] == 'Nome Fundo':\n",
    "            continue\n",
    "        elif row['Unnamed: 2'] == 'Posição de Fundos Imobiliários':\n",
    "            break\n",
    "        elif (start == True) and ((type(row['Unnamed: 2']) == str)):\n",
    "            if type(row['Unnamed: 2']) == str: \n",
    "                fi_name = np.array([row['Unnamed: 2']])\n",
    "                data = df[df.index == index +1][['Unnamed: 13', 'Unnamed: 19', \n",
    "                                                    'Unnamed: 33', 'Unnamed: 40', \n",
    "                                                    'Unnamed: 48', 'Unnamed: 54', \n",
    "                                                    'Unnamed: 60', 'Unnamed: 70', \n",
    "                                                    'Unnamed: 81']]\n",
    "                \n",
    "                data.insert(0, 'Nome FI', row['Unnamed: 2'])\n",
    "                # print(data.values[0])\n",
    "                x.append(data.values[0])\n",
    "                #display(data.head())\n",
    "    \n",
    "    pd_fi = pd.DataFrame(columns=['Nome', 'Data', 'Qtd Cotas', \n",
    "                                    'Valor Cota', 'Valor Bruto', \n",
    "                                    'IR', 'IOF', 'Valor Liquido', \n",
    "                                    'Aplicacao Pendente', 'Total Bruto'], data=x)\n",
    "    return pd_fi\n",
    "\n",
    "\n",
    "def get_fii(df):\n",
    "    fii = []\n",
    "    start = False\n",
    "\n",
    "    for index, row in df[~df['Unnamed: 2'].isnull()].iterrows():\n",
    "        if row['Unnamed: 2'] == 'Posição de Fundos Imobiliários':\n",
    "                start = True\n",
    "                continue\n",
    "        elif row['Unnamed: 2'] == 'Nome':\n",
    "            continue\n",
    "        elif row['Unnamed: 2'] == 'Proventos de Fundo Imobiliário':\n",
    "            break\n",
    "        elif start == True:\n",
    "            fii.append(row[['Unnamed: 2', 'Unnamed: 14', \n",
    "                            'Unnamed: 26', 'Unnamed: 38', \n",
    "                            'Unnamed: 45', 'Unnamed: 55', \n",
    "                            'Unnamed: 74']].values)\n",
    "\n",
    "    df_result = pd.DataFrame(columns=['Papel', 'Qtd Disponivel', \n",
    "                                    'Qtd Projetada', 'Qtd Dia', 'Qtde Total', \n",
    "                                    'Ult Cotacao', 'Financeiro'], data=fii)\n",
    "  \n",
    "    return df_result\n",
    "\n",
    "\n",
    "def get_picking_fii(df):\n",
    "    p_fii = []\n",
    "    start = False\n",
    "\n",
    "    for index, row in df[~df['Unnamed: 2'].isnull()].iterrows():\n",
    "        if row['Unnamed: 2'] == 'Proventos de Fundo Imobiliário':\n",
    "                start = True\n",
    "                continue\n",
    "        elif row['Unnamed: 2'] == 'Papel':\n",
    "            continue\n",
    "        elif row['Unnamed: 2'] == 'Clubes de Investimentos':\n",
    "            break\n",
    "        elif start == True:\n",
    "            p_fii.append(row[['Unnamed: 2', 'Unnamed: 11', \n",
    "                            'Unnamed: 22', 'Unnamed: 60', \n",
    "                            'Unnamed: 77']].values)\n",
    "\n",
    "    df_result = pd.DataFrame(columns=['Papel', 'Tipo', \n",
    "                                    'Qtd Provisionada', 'Dt Pagamento', \n",
    "                                    'Valor Provisionado'], data=p_fii)\n",
    "  \n",
    "    return df_result\n",
    "\n",
    "\n",
    "def get_extract():\n",
    "    df = pd.read_csv('../datasets/extrato/Extrato2.csv', sep=';', encoding='iso-8859-1', decimal=',')\n",
    "    \n",
    "\n",
    "    return df\n",
    "\n",
    "extract = get_extract()\n",
    "extract[extract['Valor'] > 22840]"
   ]
  },
  {
   "cell_type": "code",
   "execution_count": 70,
   "metadata": {
    "tags": [
     "outputPrepend",
     "outputPrepend"
    ]
   },
   "outputs": [],
   "source": [
    "files = os.listdir('../datasets/posicao/')\n",
    "\n",
    "stocks = pd.DataFrame()\n",
    "pickings = pd.DataFrame()\n",
    "fis = pd.DataFrame()\n",
    "fiis = pd.DataFrame()\n",
    "picking_fii = pd.DataFrame()\n",
    "\n",
    "for file_name in files:\n",
    "    if file_name == '.DS_Store':\n",
    "        continue\n",
    "    \n",
    "    wb = xlrd.open_workbook('../datasets/posicao/' + file_name, logfile=open(os.devnull, 'w'))\n",
    "    df = pd.read_excel(wb)\n",
    "    \n",
    "    #df = pd.read_excel('../datasets/' + file_name)\n",
    "    date_position = df[df['Unnamed: 56'].str.contains('Data de referência', na=False)]['Unnamed: 56']\n",
    "    \n",
    "    # position date\n",
    "    date_position = pd.to_datetime(date_position.str.replace('Data de referência: ', ''), format='%d/%m/%Y')\n",
    "    \n",
    "    #month = int(date_position.dt.month.values)\n",
    "    #year = int(date_position.dt.year.values)\n",
    "    #period = str(year) + '/' + str(month)\n",
    "    period = date_position.values[0]\n",
    "\n",
    "    \n",
    "    # get stocks\n",
    "    df_stocks = get_stocks(df)\n",
    "    #display(df_stocks.head())\n",
    "    df_stocks['period'] = period\n",
    "    stocks = stocks.append(df_stocks, ignore_index=True)\n",
    "\n",
    "    df_pickings = get_picking(df)\n",
    "    df_pickings['period'] = period\n",
    "    pickings = pickings.append(df_pickings, ignore_index=True)\n",
    "\n",
    "    df_fi = get_fi(df)\n",
    "    df_fi['period'] = period\n",
    "    fis = fis.append(df_fi, ignore_index=True)\n",
    "\n",
    "    df_fii = get_fii(df)\n",
    "    df_fii['period'] = period\n",
    "    fiis = fiis.append(df_fii, ignore_index=True)\n",
    "\n",
    "    df_picking_fii = get_picking_fii(df)\n",
    "    df_picking_fii['period'] = period\n",
    "\n",
    "    picking_fii = picking_fii.append(df_picking_fii, ignore_index=True)\n",
    "\n",
    "# display(stocks.sort_values('period', ascending=False))\n",
    "# display(fi)"
   ]
  },
  {
   "cell_type": "code",
   "execution_count": 71,
   "metadata": {},
   "outputs": [
    {
     "output_type": "execute_result",
     "data": {
      "text/plain": "     Papel        Tipo Qtd Provisionada Dt Pagamento  Valor Provisionado  \\\n17  RNGO11  RENDIMENTO               49   14/02/2017               30.38   \n16  RNGO11  RENDIMENTO               49   14/03/2017               29.40   \n23  RNGO11  RENDIMENTO               49   17/04/2017               29.40   \n21  RNGO11  RENDIMENTO               49   15/05/2017               24.99   \n12  RNGO11  RENDIMENTO               49   14/06/2017               26.46   \n\n       period  \n17 2017-01-31  \n16 2017-02-24  \n23 2017-03-31  \n21 2017-04-28  \n12 2017-05-31  ",
      "text/html": "<div>\n<style scoped>\n    .dataframe tbody tr th:only-of-type {\n        vertical-align: middle;\n    }\n\n    .dataframe tbody tr th {\n        vertical-align: top;\n    }\n\n    .dataframe thead th {\n        text-align: right;\n    }\n</style>\n<table border=\"1\" class=\"dataframe\">\n  <thead>\n    <tr style=\"text-align: right;\">\n      <th></th>\n      <th>Papel</th>\n      <th>Tipo</th>\n      <th>Qtd Provisionada</th>\n      <th>Dt Pagamento</th>\n      <th>Valor Provisionado</th>\n      <th>period</th>\n    </tr>\n  </thead>\n  <tbody>\n    <tr>\n      <th>17</th>\n      <td>RNGO11</td>\n      <td>RENDIMENTO</td>\n      <td>49</td>\n      <td>14/02/2017</td>\n      <td>30.38</td>\n      <td>2017-01-31</td>\n    </tr>\n    <tr>\n      <th>16</th>\n      <td>RNGO11</td>\n      <td>RENDIMENTO</td>\n      <td>49</td>\n      <td>14/03/2017</td>\n      <td>29.40</td>\n      <td>2017-02-24</td>\n    </tr>\n    <tr>\n      <th>23</th>\n      <td>RNGO11</td>\n      <td>RENDIMENTO</td>\n      <td>49</td>\n      <td>17/04/2017</td>\n      <td>29.40</td>\n      <td>2017-03-31</td>\n    </tr>\n    <tr>\n      <th>21</th>\n      <td>RNGO11</td>\n      <td>RENDIMENTO</td>\n      <td>49</td>\n      <td>15/05/2017</td>\n      <td>24.99</td>\n      <td>2017-04-28</td>\n    </tr>\n    <tr>\n      <th>12</th>\n      <td>RNGO11</td>\n      <td>RENDIMENTO</td>\n      <td>49</td>\n      <td>14/06/2017</td>\n      <td>26.46</td>\n      <td>2017-05-31</td>\n    </tr>\n  </tbody>\n</table>\n</div>"
     },
     "metadata": {},
     "execution_count": 71
    }
   ],
   "source": [
    "picking_fii.sort_values(by='period').head()"
   ]
  },
  {
   "cell_type": "code",
   "execution_count": 56,
   "metadata": {},
   "outputs": [
    {
     "output_type": "execute_result",
     "data": {
      "text/plain": "array(['2016-04-29T00:00:00.000000000', '2016-05-31T00:00:00.000000000',\n       '2016-06-30T00:00:00.000000000', '2016-07-29T00:00:00.000000000',\n       '2016-08-31T00:00:00.000000000', '2016-09-30T00:00:00.000000000',\n       '2016-10-31T00:00:00.000000000', '2016-11-30T00:00:00.000000000',\n       '2016-12-29T00:00:00.000000000', '2017-01-31T00:00:00.000000000',\n       '2017-02-24T00:00:00.000000000', '2017-03-31T00:00:00.000000000',\n       '2017-04-28T00:00:00.000000000', '2017-05-31T00:00:00.000000000',\n       '2017-06-30T00:00:00.000000000', '2017-07-31T00:00:00.000000000',\n       '2017-08-31T00:00:00.000000000', '2017-09-29T00:00:00.000000000',\n       '2017-10-31T00:00:00.000000000', '2017-11-30T00:00:00.000000000',\n       '2017-12-28T00:00:00.000000000', '2018-01-31T00:00:00.000000000',\n       '2018-02-28T00:00:00.000000000', '2018-03-29T00:00:00.000000000',\n       '2018-04-30T00:00:00.000000000', '2018-05-30T00:00:00.000000000',\n       '2018-06-29T00:00:00.000000000', '2018-07-31T00:00:00.000000000',\n       '2018-08-31T00:00:00.000000000', '2018-09-28T00:00:00.000000000',\n       '2018-10-31T00:00:00.000000000', '2018-11-30T00:00:00.000000000',\n       '2018-12-28T00:00:00.000000000', '2019-01-31T00:00:00.000000000',\n       '2019-02-28T00:00:00.000000000', '2019-03-29T00:00:00.000000000',\n       '2019-04-30T00:00:00.000000000', '2019-05-31T00:00:00.000000000',\n       '2019-06-28T00:00:00.000000000', '2019-07-31T00:00:00.000000000',\n       '2019-08-30T00:00:00.000000000', '2019-09-30T00:00:00.000000000',\n       '2019-10-31T00:00:00.000000000', '2019-11-29T00:00:00.000000000',\n       '2019-12-31T00:00:00.000000000', '2020-01-31T00:00:00.000000000',\n       '2020-02-28T00:00:00.000000000', '2020-03-31T00:00:00.000000000',\n       '2020-04-30T00:00:00.000000000'], dtype='datetime64[ns]')"
     },
     "metadata": {},
     "execution_count": 56
    }
   ],
   "source": [
    "fis['period'].sort_values().unique()"
   ]
  },
  {
   "cell_type": "code",
   "execution_count": 57,
   "metadata": {},
   "outputs": [
    {
     "output_type": "display_data",
     "data": {
      "text/plain": "    Papel Qtd Disponivel Qtd Projetado Qtd Dia Qtd Garantia BOV  \\\n0   JHSF3           1600             0       0                0   \n1   MGLU3            800             0       0                0   \n2   MGLU3            800             0       0                0   \n3  BPAC11            200             0       0                0   \n4   JHSF3           1600             0       0                0   \n\n  Qtd Garantia BMF Qtd Estruturados Liq Termo Qtd Total  Cotacao  Financeiro  \\\n0                0                0         0      1600     7.01   11,216.00   \n1                0                0         0       800    50.52   40,416.00   \n2                0                0         0       800    37.04   29,632.00   \n3                0                0         0       200    42.30    8,460.00   \n4                0                0         0      1600     4.16    6,656.00   \n\n      period  \n0 2020-02-28  \n1 2020-02-28  \n2 2019-09-30  \n3 2020-04-30  \n4 2020-04-30  ",
      "text/html": "<div>\n<style scoped>\n    .dataframe tbody tr th:only-of-type {\n        vertical-align: middle;\n    }\n\n    .dataframe tbody tr th {\n        vertical-align: top;\n    }\n\n    .dataframe thead th {\n        text-align: right;\n    }\n</style>\n<table border=\"1\" class=\"dataframe\">\n  <thead>\n    <tr style=\"text-align: right;\">\n      <th></th>\n      <th>Papel</th>\n      <th>Qtd Disponivel</th>\n      <th>Qtd Projetado</th>\n      <th>Qtd Dia</th>\n      <th>Qtd Garantia BOV</th>\n      <th>Qtd Garantia BMF</th>\n      <th>Qtd Estruturados</th>\n      <th>Liq Termo</th>\n      <th>Qtd Total</th>\n      <th>Cotacao</th>\n      <th>Financeiro</th>\n      <th>period</th>\n    </tr>\n  </thead>\n  <tbody>\n    <tr>\n      <th>0</th>\n      <td>JHSF3</td>\n      <td>1600</td>\n      <td>0</td>\n      <td>0</td>\n      <td>0</td>\n      <td>0</td>\n      <td>0</td>\n      <td>0</td>\n      <td>1600</td>\n      <td>7.01</td>\n      <td>11,216.00</td>\n      <td>2020-02-28</td>\n    </tr>\n    <tr>\n      <th>1</th>\n      <td>MGLU3</td>\n      <td>800</td>\n      <td>0</td>\n      <td>0</td>\n      <td>0</td>\n      <td>0</td>\n      <td>0</td>\n      <td>0</td>\n      <td>800</td>\n      <td>50.52</td>\n      <td>40,416.00</td>\n      <td>2020-02-28</td>\n    </tr>\n    <tr>\n      <th>2</th>\n      <td>MGLU3</td>\n      <td>800</td>\n      <td>0</td>\n      <td>0</td>\n      <td>0</td>\n      <td>0</td>\n      <td>0</td>\n      <td>0</td>\n      <td>800</td>\n      <td>37.04</td>\n      <td>29,632.00</td>\n      <td>2019-09-30</td>\n    </tr>\n    <tr>\n      <th>3</th>\n      <td>BPAC11</td>\n      <td>200</td>\n      <td>0</td>\n      <td>0</td>\n      <td>0</td>\n      <td>0</td>\n      <td>0</td>\n      <td>0</td>\n      <td>200</td>\n      <td>42.30</td>\n      <td>8,460.00</td>\n      <td>2020-04-30</td>\n    </tr>\n    <tr>\n      <th>4</th>\n      <td>JHSF3</td>\n      <td>1600</td>\n      <td>0</td>\n      <td>0</td>\n      <td>0</td>\n      <td>0</td>\n      <td>0</td>\n      <td>0</td>\n      <td>1600</td>\n      <td>4.16</td>\n      <td>6,656.00</td>\n      <td>2020-04-30</td>\n    </tr>\n  </tbody>\n</table>\n</div>"
     },
     "metadata": {}
    },
    {
     "output_type": "display_data",
     "data": {
      "text/plain": "   Papel Qtd Provisionada                         Tipo Data Pagamento  Valor  \\\n0  MGLU3              800  JUROS SOBRE CAPITAL PROPRIO  Indeterminado  28.63   \n1  MGLU3              800  JUROS SOBRE CAPITAL PROPRIO  Indeterminado  58.88   \n2  MGLU3              800  JUROS SOBRE CAPITAL PROPRIO  Indeterminado  28.63   \n3  MGLU3              800  JUROS SOBRE CAPITAL PROPRIO  Indeterminado  58.88   \n4  WEGE3              300  JUROS SOBRE CAPITAL PROPRIO     12/08/2020   9.07   \n\n      period  \n0 2020-02-28  \n1 2020-02-28  \n2 2020-04-30  \n3 2020-04-30  \n4 2020-04-30  ",
      "text/html": "<div>\n<style scoped>\n    .dataframe tbody tr th:only-of-type {\n        vertical-align: middle;\n    }\n\n    .dataframe tbody tr th {\n        vertical-align: top;\n    }\n\n    .dataframe thead th {\n        text-align: right;\n    }\n</style>\n<table border=\"1\" class=\"dataframe\">\n  <thead>\n    <tr style=\"text-align: right;\">\n      <th></th>\n      <th>Papel</th>\n      <th>Qtd Provisionada</th>\n      <th>Tipo</th>\n      <th>Data Pagamento</th>\n      <th>Valor</th>\n      <th>period</th>\n    </tr>\n  </thead>\n  <tbody>\n    <tr>\n      <th>0</th>\n      <td>MGLU3</td>\n      <td>800</td>\n      <td>JUROS SOBRE CAPITAL PROPRIO</td>\n      <td>Indeterminado</td>\n      <td>28.63</td>\n      <td>2020-02-28</td>\n    </tr>\n    <tr>\n      <th>1</th>\n      <td>MGLU3</td>\n      <td>800</td>\n      <td>JUROS SOBRE CAPITAL PROPRIO</td>\n      <td>Indeterminado</td>\n      <td>58.88</td>\n      <td>2020-02-28</td>\n    </tr>\n    <tr>\n      <th>2</th>\n      <td>MGLU3</td>\n      <td>800</td>\n      <td>JUROS SOBRE CAPITAL PROPRIO</td>\n      <td>Indeterminado</td>\n      <td>28.63</td>\n      <td>2020-04-30</td>\n    </tr>\n    <tr>\n      <th>3</th>\n      <td>MGLU3</td>\n      <td>800</td>\n      <td>JUROS SOBRE CAPITAL PROPRIO</td>\n      <td>Indeterminado</td>\n      <td>58.88</td>\n      <td>2020-04-30</td>\n    </tr>\n    <tr>\n      <th>4</th>\n      <td>WEGE3</td>\n      <td>300</td>\n      <td>JUROS SOBRE CAPITAL PROPRIO</td>\n      <td>12/08/2020</td>\n      <td>9.07</td>\n      <td>2020-04-30</td>\n    </tr>\n  </tbody>\n</table>\n</div>"
     },
     "metadata": {}
    },
    {
     "output_type": "display_data",
     "data": {
      "text/plain": "                        Nome       Data  Qtd Cotas  Valor Cota  Valor Bruto  \\\n0      XP Long Short FIC FIM 2020-02-28   6,902.02        2.91    20,105.88   \n1  Equitas Selection FIC FIA 2020-02-28   3,018.52        7.23    21,812.68   \n2     AZ Quest Multi FIC FIM 2020-02-28   1,464.80       12.95    18,967.40   \n3         Mauá Macro FIC FIM 2020-02-28      37.17      787.62    29,278.24   \n4  Bahia AM Maraú FIC de FIM 2020-02-28  33,810.43        2.56    86,466.95   \n\n      IR IOF  Valor Liquido Aplicacao Pendente  Total Bruto     period  \n0  38.48   0      20,067.40                  0    20,105.88 2020-02-28  \n1 286.90   0      21,525.78                  0    21,812.68 2020-02-28  \n2  93.33   0      18,874.07                  0    18,967.40 2020-02-28  \n3 186.19   0      29,092.05                  0    29,278.24 2020-02-28  \n4  67.77   0      86,399.18                  0    86,466.95 2020-02-28  ",
      "text/html": "<div>\n<style scoped>\n    .dataframe tbody tr th:only-of-type {\n        vertical-align: middle;\n    }\n\n    .dataframe tbody tr th {\n        vertical-align: top;\n    }\n\n    .dataframe thead th {\n        text-align: right;\n    }\n</style>\n<table border=\"1\" class=\"dataframe\">\n  <thead>\n    <tr style=\"text-align: right;\">\n      <th></th>\n      <th>Nome</th>\n      <th>Data</th>\n      <th>Qtd Cotas</th>\n      <th>Valor Cota</th>\n      <th>Valor Bruto</th>\n      <th>IR</th>\n      <th>IOF</th>\n      <th>Valor Liquido</th>\n      <th>Aplicacao Pendente</th>\n      <th>Total Bruto</th>\n      <th>period</th>\n    </tr>\n  </thead>\n  <tbody>\n    <tr>\n      <th>0</th>\n      <td>XP Long Short FIC FIM</td>\n      <td>2020-02-28</td>\n      <td>6,902.02</td>\n      <td>2.91</td>\n      <td>20,105.88</td>\n      <td>38.48</td>\n      <td>0</td>\n      <td>20,067.40</td>\n      <td>0</td>\n      <td>20,105.88</td>\n      <td>2020-02-28</td>\n    </tr>\n    <tr>\n      <th>1</th>\n      <td>Equitas Selection FIC FIA</td>\n      <td>2020-02-28</td>\n      <td>3,018.52</td>\n      <td>7.23</td>\n      <td>21,812.68</td>\n      <td>286.90</td>\n      <td>0</td>\n      <td>21,525.78</td>\n      <td>0</td>\n      <td>21,812.68</td>\n      <td>2020-02-28</td>\n    </tr>\n    <tr>\n      <th>2</th>\n      <td>AZ Quest Multi FIC FIM</td>\n      <td>2020-02-28</td>\n      <td>1,464.80</td>\n      <td>12.95</td>\n      <td>18,967.40</td>\n      <td>93.33</td>\n      <td>0</td>\n      <td>18,874.07</td>\n      <td>0</td>\n      <td>18,967.40</td>\n      <td>2020-02-28</td>\n    </tr>\n    <tr>\n      <th>3</th>\n      <td>Mauá Macro FIC FIM</td>\n      <td>2020-02-28</td>\n      <td>37.17</td>\n      <td>787.62</td>\n      <td>29,278.24</td>\n      <td>186.19</td>\n      <td>0</td>\n      <td>29,092.05</td>\n      <td>0</td>\n      <td>29,278.24</td>\n      <td>2020-02-28</td>\n    </tr>\n    <tr>\n      <th>4</th>\n      <td>Bahia AM Maraú FIC de FIM</td>\n      <td>2020-02-28</td>\n      <td>33,810.43</td>\n      <td>2.56</td>\n      <td>86,466.95</td>\n      <td>67.77</td>\n      <td>0</td>\n      <td>86,399.18</td>\n      <td>0</td>\n      <td>86,466.95</td>\n      <td>2020-02-28</td>\n    </tr>\n  </tbody>\n</table>\n</div>"
     },
     "metadata": {}
    },
    {
     "output_type": "display_data",
     "data": {
      "text/plain": "     Papel  Qtd Disponivel  Qtd Projetada  Qtd Dia  Qtde Total  Ult Cotacao  \\\n0   IBFF11              50              0        0       50.00       100.10   \n1   BCFF11               8              0        0        8.00        98.17   \n2   CNES11              11              0        0       11.00        83.50   \n3  OULG11B              50              0        0       50.00       105.00   \n4   RNGO11              49              0        0       49.00        96.61   \n\n   Financeiro     period  \n0    5,005.00 2020-02-28  \n1      785.36 2020-02-28  \n2      918.50 2020-02-28  \n3    5,250.00 2020-02-28  \n4    4,733.89 2020-02-28  ",
      "text/html": "<div>\n<style scoped>\n    .dataframe tbody tr th:only-of-type {\n        vertical-align: middle;\n    }\n\n    .dataframe tbody tr th {\n        vertical-align: top;\n    }\n\n    .dataframe thead th {\n        text-align: right;\n    }\n</style>\n<table border=\"1\" class=\"dataframe\">\n  <thead>\n    <tr style=\"text-align: right;\">\n      <th></th>\n      <th>Papel</th>\n      <th>Qtd Disponivel</th>\n      <th>Qtd Projetada</th>\n      <th>Qtd Dia</th>\n      <th>Qtde Total</th>\n      <th>Ult Cotacao</th>\n      <th>Financeiro</th>\n      <th>period</th>\n    </tr>\n  </thead>\n  <tbody>\n    <tr>\n      <th>0</th>\n      <td>IBFF11</td>\n      <td>50</td>\n      <td>0</td>\n      <td>0</td>\n      <td>50.00</td>\n      <td>100.10</td>\n      <td>5,005.00</td>\n      <td>2020-02-28</td>\n    </tr>\n    <tr>\n      <th>1</th>\n      <td>BCFF11</td>\n      <td>8</td>\n      <td>0</td>\n      <td>0</td>\n      <td>8.00</td>\n      <td>98.17</td>\n      <td>785.36</td>\n      <td>2020-02-28</td>\n    </tr>\n    <tr>\n      <th>2</th>\n      <td>CNES11</td>\n      <td>11</td>\n      <td>0</td>\n      <td>0</td>\n      <td>11.00</td>\n      <td>83.50</td>\n      <td>918.50</td>\n      <td>2020-02-28</td>\n    </tr>\n    <tr>\n      <th>3</th>\n      <td>OULG11B</td>\n      <td>50</td>\n      <td>0</td>\n      <td>0</td>\n      <td>50.00</td>\n      <td>105.00</td>\n      <td>5,250.00</td>\n      <td>2020-02-28</td>\n    </tr>\n    <tr>\n      <th>4</th>\n      <td>RNGO11</td>\n      <td>49</td>\n      <td>0</td>\n      <td>0</td>\n      <td>49.00</td>\n      <td>96.61</td>\n      <td>4,733.89</td>\n      <td>2020-02-28</td>\n    </tr>\n  </tbody>\n</table>\n</div>"
     },
     "metadata": {}
    },
    {
     "output_type": "display_data",
     "data": {
      "text/plain": "    Papel        Tipo Qtd Provisionada Dt Pagamento  Valor Provisionado  \\\n0  RNGO11  RENDIMENTO               49   13/03/2020               23.03   \n1  RNGO11  RENDIMENTO               49   14/10/2019               24.01   \n2  RNGO11  RENDIMENTO               49   14/08/2019               24.01   \n3  RNGO11  RENDIMENTO               49   15/07/2019               26.95   \n4  RNGO11  RENDIMENTO               49   15/05/2020               20.58   \n\n      period  \n0 2020-02-28  \n1 2019-09-30  \n2 2019-07-31  \n3 2019-06-28  \n4 2020-04-30  ",
      "text/html": "<div>\n<style scoped>\n    .dataframe tbody tr th:only-of-type {\n        vertical-align: middle;\n    }\n\n    .dataframe tbody tr th {\n        vertical-align: top;\n    }\n\n    .dataframe thead th {\n        text-align: right;\n    }\n</style>\n<table border=\"1\" class=\"dataframe\">\n  <thead>\n    <tr style=\"text-align: right;\">\n      <th></th>\n      <th>Papel</th>\n      <th>Tipo</th>\n      <th>Qtd Provisionada</th>\n      <th>Dt Pagamento</th>\n      <th>Valor Provisionado</th>\n      <th>period</th>\n    </tr>\n  </thead>\n  <tbody>\n    <tr>\n      <th>0</th>\n      <td>RNGO11</td>\n      <td>RENDIMENTO</td>\n      <td>49</td>\n      <td>13/03/2020</td>\n      <td>23.03</td>\n      <td>2020-02-28</td>\n    </tr>\n    <tr>\n      <th>1</th>\n      <td>RNGO11</td>\n      <td>RENDIMENTO</td>\n      <td>49</td>\n      <td>14/10/2019</td>\n      <td>24.01</td>\n      <td>2019-09-30</td>\n    </tr>\n    <tr>\n      <th>2</th>\n      <td>RNGO11</td>\n      <td>RENDIMENTO</td>\n      <td>49</td>\n      <td>14/08/2019</td>\n      <td>24.01</td>\n      <td>2019-07-31</td>\n    </tr>\n    <tr>\n      <th>3</th>\n      <td>RNGO11</td>\n      <td>RENDIMENTO</td>\n      <td>49</td>\n      <td>15/07/2019</td>\n      <td>26.95</td>\n      <td>2019-06-28</td>\n    </tr>\n    <tr>\n      <th>4</th>\n      <td>RNGO11</td>\n      <td>RENDIMENTO</td>\n      <td>49</td>\n      <td>15/05/2020</td>\n      <td>20.58</td>\n      <td>2020-04-30</td>\n    </tr>\n  </tbody>\n</table>\n</div>"
     },
     "metadata": {}
    }
   ],
   "source": [
    "display(stocks.head())\n",
    "display(pickings.head())\n",
    "display(fis.head())\n",
    "display(fiis.head())\n",
    "display(picking_fii.head())"
   ]
  },
  {
   "cell_type": "markdown",
   "metadata": {},
   "source": [
    "# Analise de fundo imobiliario"
   ]
  },
  {
   "cell_type": "code",
   "execution_count": 58,
   "metadata": {},
   "outputs": [
    {
     "output_type": "execute_result",
     "data": {
      "text/plain": "                        Nome       Data  Qtd Cotas  Valor Cota  Valor Bruto  \\\n0      XP Long Short FIC FIM 2020-02-28   6,902.02        2.91    20,105.88   \n1  Equitas Selection FIC FIA 2020-02-28   3,018.52        7.23    21,812.68   \n2     AZ Quest Multi FIC FIM 2020-02-28   1,464.80       12.95    18,967.40   \n3         Mauá Macro FIC FIM 2020-02-28      37.17      787.62    29,278.24   \n4  Bahia AM Maraú FIC de FIM 2020-02-28  33,810.43        2.56    86,466.95   \n\n      IR IOF  Valor Liquido Aplicacao Pendente  Total Bruto     period  \n0  38.48   0      20,067.40                  0    20,105.88 2020-02-28  \n1 286.90   0      21,525.78                  0    21,812.68 2020-02-28  \n2  93.33   0      18,874.07                  0    18,967.40 2020-02-28  \n3 186.19   0      29,092.05                  0    29,278.24 2020-02-28  \n4  67.77   0      86,399.18                  0    86,466.95 2020-02-28  ",
      "text/html": "<div>\n<style scoped>\n    .dataframe tbody tr th:only-of-type {\n        vertical-align: middle;\n    }\n\n    .dataframe tbody tr th {\n        vertical-align: top;\n    }\n\n    .dataframe thead th {\n        text-align: right;\n    }\n</style>\n<table border=\"1\" class=\"dataframe\">\n  <thead>\n    <tr style=\"text-align: right;\">\n      <th></th>\n      <th>Nome</th>\n      <th>Data</th>\n      <th>Qtd Cotas</th>\n      <th>Valor Cota</th>\n      <th>Valor Bruto</th>\n      <th>IR</th>\n      <th>IOF</th>\n      <th>Valor Liquido</th>\n      <th>Aplicacao Pendente</th>\n      <th>Total Bruto</th>\n      <th>period</th>\n    </tr>\n  </thead>\n  <tbody>\n    <tr>\n      <th>0</th>\n      <td>XP Long Short FIC FIM</td>\n      <td>2020-02-28</td>\n      <td>6,902.02</td>\n      <td>2.91</td>\n      <td>20,105.88</td>\n      <td>38.48</td>\n      <td>0</td>\n      <td>20,067.40</td>\n      <td>0</td>\n      <td>20,105.88</td>\n      <td>2020-02-28</td>\n    </tr>\n    <tr>\n      <th>1</th>\n      <td>Equitas Selection FIC FIA</td>\n      <td>2020-02-28</td>\n      <td>3,018.52</td>\n      <td>7.23</td>\n      <td>21,812.68</td>\n      <td>286.90</td>\n      <td>0</td>\n      <td>21,525.78</td>\n      <td>0</td>\n      <td>21,812.68</td>\n      <td>2020-02-28</td>\n    </tr>\n    <tr>\n      <th>2</th>\n      <td>AZ Quest Multi FIC FIM</td>\n      <td>2020-02-28</td>\n      <td>1,464.80</td>\n      <td>12.95</td>\n      <td>18,967.40</td>\n      <td>93.33</td>\n      <td>0</td>\n      <td>18,874.07</td>\n      <td>0</td>\n      <td>18,967.40</td>\n      <td>2020-02-28</td>\n    </tr>\n    <tr>\n      <th>3</th>\n      <td>Mauá Macro FIC FIM</td>\n      <td>2020-02-28</td>\n      <td>37.17</td>\n      <td>787.62</td>\n      <td>29,278.24</td>\n      <td>186.19</td>\n      <td>0</td>\n      <td>29,092.05</td>\n      <td>0</td>\n      <td>29,278.24</td>\n      <td>2020-02-28</td>\n    </tr>\n    <tr>\n      <th>4</th>\n      <td>Bahia AM Maraú FIC de FIM</td>\n      <td>2020-02-28</td>\n      <td>33,810.43</td>\n      <td>2.56</td>\n      <td>86,466.95</td>\n      <td>67.77</td>\n      <td>0</td>\n      <td>86,399.18</td>\n      <td>0</td>\n      <td>86,466.95</td>\n      <td>2020-02-28</td>\n    </tr>\n  </tbody>\n</table>\n</div>"
     },
     "metadata": {},
     "execution_count": 58
    }
   ],
   "source": [
    "fis.head()"
   ]
  },
  {
   "cell_type": "code",
   "execution_count": 86,
   "metadata": {},
   "outputs": [
    {
     "output_type": "execute_result",
     "data": {
      "text/plain": "                       Nome       Data  Qtd Cotas  Valor Cota  Valor Bruto  \\\n133  AZ Quest Multi FIC FIM 2017-03-31   1,516.42        9.95    15,094.10   \n122  AZ Quest Multi FIC FIM 2017-04-28   1,516.42       10.00    15,160.90   \n82   AZ Quest Multi FIC FIM 2017-05-31   1,516.42        9.73    14,749.34   \n86   AZ Quest Multi FIC FIM 2017-06-30   1,516.42        9.80    14,853.49   \n108  AZ Quest Multi FIC FIM 2017-07-31   1,516.42       10.15    15,389.53   \n\n       IR IOF  Valor Liquido Aplicacao Pendente  Total Bruto     period  \n133  9.94   0      15,034.29                  0    15,094.10 2017-03-31  \n122 36.20   0      15,124.70                  0    15,160.90 2017-04-28  \n82   0.00   0      14,749.34                  0    14,749.34 2017-05-31  \n86   0.00   0      14,853.49                  0    14,853.49 2017-06-30  \n108 87.64   0      15,301.89                  0    15,389.53 2017-07-31  ",
      "text/html": "<div>\n<style scoped>\n    .dataframe tbody tr th:only-of-type {\n        vertical-align: middle;\n    }\n\n    .dataframe tbody tr th {\n        vertical-align: top;\n    }\n\n    .dataframe thead th {\n        text-align: right;\n    }\n</style>\n<table border=\"1\" class=\"dataframe\">\n  <thead>\n    <tr style=\"text-align: right;\">\n      <th></th>\n      <th>Nome</th>\n      <th>Data</th>\n      <th>Qtd Cotas</th>\n      <th>Valor Cota</th>\n      <th>Valor Bruto</th>\n      <th>IR</th>\n      <th>IOF</th>\n      <th>Valor Liquido</th>\n      <th>Aplicacao Pendente</th>\n      <th>Total Bruto</th>\n      <th>period</th>\n    </tr>\n  </thead>\n  <tbody>\n    <tr>\n      <th>133</th>\n      <td>AZ Quest Multi FIC FIM</td>\n      <td>2017-03-31</td>\n      <td>1,516.42</td>\n      <td>9.95</td>\n      <td>15,094.10</td>\n      <td>9.94</td>\n      <td>0</td>\n      <td>15,034.29</td>\n      <td>0</td>\n      <td>15,094.10</td>\n      <td>2017-03-31</td>\n    </tr>\n    <tr>\n      <th>122</th>\n      <td>AZ Quest Multi FIC FIM</td>\n      <td>2017-04-28</td>\n      <td>1,516.42</td>\n      <td>10.00</td>\n      <td>15,160.90</td>\n      <td>36.20</td>\n      <td>0</td>\n      <td>15,124.70</td>\n      <td>0</td>\n      <td>15,160.90</td>\n      <td>2017-04-28</td>\n    </tr>\n    <tr>\n      <th>82</th>\n      <td>AZ Quest Multi FIC FIM</td>\n      <td>2017-05-31</td>\n      <td>1,516.42</td>\n      <td>9.73</td>\n      <td>14,749.34</td>\n      <td>0.00</td>\n      <td>0</td>\n      <td>14,749.34</td>\n      <td>0</td>\n      <td>14,749.34</td>\n      <td>2017-05-31</td>\n    </tr>\n    <tr>\n      <th>86</th>\n      <td>AZ Quest Multi FIC FIM</td>\n      <td>2017-06-30</td>\n      <td>1,516.42</td>\n      <td>9.80</td>\n      <td>14,853.49</td>\n      <td>0.00</td>\n      <td>0</td>\n      <td>14,853.49</td>\n      <td>0</td>\n      <td>14,853.49</td>\n      <td>2017-06-30</td>\n    </tr>\n    <tr>\n      <th>108</th>\n      <td>AZ Quest Multi FIC FIM</td>\n      <td>2017-07-31</td>\n      <td>1,516.42</td>\n      <td>10.15</td>\n      <td>15,389.53</td>\n      <td>87.64</td>\n      <td>0</td>\n      <td>15,301.89</td>\n      <td>0</td>\n      <td>15,389.53</td>\n      <td>2017-07-31</td>\n    </tr>\n  </tbody>\n</table>\n</div>"
     },
     "metadata": {},
     "execution_count": 86
    }
   ],
   "source": [
    "fis.sort_values(['Nome', 'period']).head()"
   ]
  },
  {
   "cell_type": "code",
   "execution_count": 8,
   "metadata": {},
   "outputs": [
    {
     "output_type": "execute_result",
     "data": {
      "text/plain": "                    Nome       Data  Qtd Cotas  Valor Cota  Valor Bruto   IR  \\\n65  Polo Norte I FIC FIM 2018-12-31   3,946.89        7.61    30,017.36 2.60   \n\n   IOF  Valor Liquido Aplicacao Pendente  Total Bruto   period  \n65   0      30,014.76              30000    30,017.36  2018/12  ",
      "text/html": "<div>\n<style scoped>\n    .dataframe tbody tr th:only-of-type {\n        vertical-align: middle;\n    }\n\n    .dataframe tbody tr th {\n        vertical-align: top;\n    }\n\n    .dataframe thead th {\n        text-align: right;\n    }\n</style>\n<table border=\"1\" class=\"dataframe\">\n  <thead>\n    <tr style=\"text-align: right;\">\n      <th></th>\n      <th>Nome</th>\n      <th>Data</th>\n      <th>Qtd Cotas</th>\n      <th>Valor Cota</th>\n      <th>Valor Bruto</th>\n      <th>IR</th>\n      <th>IOF</th>\n      <th>Valor Liquido</th>\n      <th>Aplicacao Pendente</th>\n      <th>Total Bruto</th>\n      <th>period</th>\n    </tr>\n  </thead>\n  <tbody>\n    <tr>\n      <th>65</th>\n      <td>Polo Norte I FIC FIM</td>\n      <td>2018-12-31</td>\n      <td>3,946.89</td>\n      <td>7.61</td>\n      <td>30,017.36</td>\n      <td>2.60</td>\n      <td>0</td>\n      <td>30,014.76</td>\n      <td>30000</td>\n      <td>30,017.36</td>\n      <td>2018/12</td>\n    </tr>\n  </tbody>\n</table>\n</div>"
     },
     "metadata": {},
     "execution_count": 8
    }
   ],
   "source": [
    "fis[fis['Aplicacao Pendente'] > 0]"
   ]
  },
  {
   "cell_type": "markdown",
   "metadata": {},
   "source": [
    "# Analise aportes"
   ]
  },
  {
   "cell_type": "code",
   "execution_count": 135,
   "metadata": {},
   "outputs": [],
   "source": [
    "extract = get_extract()"
   ]
  },
  {
   "cell_type": "code",
   "execution_count": 136,
   "metadata": {},
   "outputs": [
    {
     "output_type": "stream",
     "name": "stdout",
     "text": "<class 'pandas.core.frame.DataFrame'>\nRangeIndex: 340 entries, 0 to 339\nData columns (total 5 columns):\n #   Column   Non-Null Count  Dtype  \n---  ------   --------------  -----  \n 0   Liq      340 non-null    object \n 1   Mov      340 non-null    object \n 2   Hist__o  340 non-null    object \n 3   Valor    340 non-null    float64\n 4   Saldo    340 non-null    float64\ndtypes: float64(2), object(3)\nmemory usage: 13.4+ KB\n"
    }
   ],
   "source": [
    "extract.info()"
   ]
  },
  {
   "cell_type": "code",
   "execution_count": 144,
   "metadata": {},
   "outputs": [
    {
     "output_type": "execute_result",
     "data": {
      "text/plain": "            Liq         Mov                         Hist__o     Valor  \\\n61   12/09/2019  12/09/2019  TED - RECEBIMENTO DE TED - SPB 47,000.00   \n88   17/12/2018  17/12/2018  TED - RECEBIMENTO DE TED - SPB 30,000.00   \n141  05/10/2017  05/10/2017  TED - RECEBIMENTO DE TED - SPB 73,000.00   \n195  17/03/2017  17/03/2017  TED - RECEBIMENTO DE TED - SPB 30,000.00   \n251  31/03/2016  31/03/2016    RESGATE XP GlobCredit FICFIM 31,029.08   \n\n        Saldo  \n61  47,547.52  \n88  30,305.18  \n141 73,259.50  \n195 30,180.67  \n251 31,185.91  ",
      "text/html": "<div>\n<style scoped>\n    .dataframe tbody tr th:only-of-type {\n        vertical-align: middle;\n    }\n\n    .dataframe tbody tr th {\n        vertical-align: top;\n    }\n\n    .dataframe thead th {\n        text-align: right;\n    }\n</style>\n<table border=\"1\" class=\"dataframe\">\n  <thead>\n    <tr style=\"text-align: right;\">\n      <th></th>\n      <th>Liq</th>\n      <th>Mov</th>\n      <th>Hist__o</th>\n      <th>Valor</th>\n      <th>Saldo</th>\n    </tr>\n  </thead>\n  <tbody>\n    <tr>\n      <th>61</th>\n      <td>12/09/2019</td>\n      <td>12/09/2019</td>\n      <td>TED - RECEBIMENTO DE TED - SPB</td>\n      <td>47,000.00</td>\n      <td>47,547.52</td>\n    </tr>\n    <tr>\n      <th>88</th>\n      <td>17/12/2018</td>\n      <td>17/12/2018</td>\n      <td>TED - RECEBIMENTO DE TED - SPB</td>\n      <td>30,000.00</td>\n      <td>30,305.18</td>\n    </tr>\n    <tr>\n      <th>141</th>\n      <td>05/10/2017</td>\n      <td>05/10/2017</td>\n      <td>TED - RECEBIMENTO DE TED - SPB</td>\n      <td>73,000.00</td>\n      <td>73,259.50</td>\n    </tr>\n    <tr>\n      <th>195</th>\n      <td>17/03/2017</td>\n      <td>17/03/2017</td>\n      <td>TED - RECEBIMENTO DE TED - SPB</td>\n      <td>30,000.00</td>\n      <td>30,180.67</td>\n    </tr>\n    <tr>\n      <th>251</th>\n      <td>31/03/2016</td>\n      <td>31/03/2016</td>\n      <td>RESGATE XP GlobCredit FICFIM</td>\n      <td>31,029.08</td>\n      <td>31,185.91</td>\n    </tr>\n  </tbody>\n</table>\n</div>"
     },
     "metadata": {},
     "execution_count": 144
    }
   ],
   "source": [
    "extract[extract['Valor'] > 22840]"
   ]
  },
  {
   "cell_type": "code",
   "execution_count": 148,
   "metadata": {},
   "outputs": [
    {
     "output_type": "display_data",
     "data": {
      "text/plain": "                           Hist__o      Valor\n74  TED - RECEBIMENTO DE TED - SPB 228,400.00\n52    RESGATE XP GlobCredit FICFIM  31,029.08\n47      RESGATE MiraeMacroStrategy  19,122.71\n53            RESGATE XP Macro FIM  18,995.54\n49    RESGATE QuestMult FI CotasFI  18,591.84",
      "text/html": "<div>\n<style scoped>\n    .dataframe tbody tr th:only-of-type {\n        vertical-align: middle;\n    }\n\n    .dataframe tbody tr th {\n        vertical-align: top;\n    }\n\n    .dataframe thead th {\n        text-align: right;\n    }\n</style>\n<table border=\"1\" class=\"dataframe\">\n  <thead>\n    <tr style=\"text-align: right;\">\n      <th></th>\n      <th>Hist__o</th>\n      <th>Valor</th>\n    </tr>\n  </thead>\n  <tbody>\n    <tr>\n      <th>74</th>\n      <td>TED - RECEBIMENTO DE TED - SPB</td>\n      <td>228,400.00</td>\n    </tr>\n    <tr>\n      <th>52</th>\n      <td>RESGATE XP GlobCredit FICFIM</td>\n      <td>31,029.08</td>\n    </tr>\n    <tr>\n      <th>47</th>\n      <td>RESGATE MiraeMacroStrategy</td>\n      <td>19,122.71</td>\n    </tr>\n    <tr>\n      <th>53</th>\n      <td>RESGATE XP Macro FIM</td>\n      <td>18,995.54</td>\n    </tr>\n    <tr>\n      <th>49</th>\n      <td>RESGATE QuestMult FI CotasFI</td>\n      <td>18,591.84</td>\n    </tr>\n  </tbody>\n</table>\n</div>"
     },
     "metadata": {}
    },
    {
     "output_type": "display_data",
     "data": {
      "text/plain": "                                              Hist__o      Valor\n24  OPERAÍES EM BOLSA PR 12/09/2019 NOTA N¼ 16418593 -27,630.26\n81  TED TER BCO 017 AGE 0001 CTA 1603 9 - TED APLI... -29,500.00\n78  TED TER BCO 017 AGE 0001 CTA 1310 2 - TED APLI... -30,000.00\n84  TED TER BCO 208 AGE 0001 CTA 183448 - TED APLI... -33,000.00\n85  TED TER BCO 237 AGE 2856 CTA 4563 2 - TED APLI... -73,000.00",
      "text/html": "<div>\n<style scoped>\n    .dataframe tbody tr th:only-of-type {\n        vertical-align: middle;\n    }\n\n    .dataframe tbody tr th {\n        vertical-align: top;\n    }\n\n    .dataframe thead th {\n        text-align: right;\n    }\n</style>\n<table border=\"1\" class=\"dataframe\">\n  <thead>\n    <tr style=\"text-align: right;\">\n      <th></th>\n      <th>Hist__o</th>\n      <th>Valor</th>\n    </tr>\n  </thead>\n  <tbody>\n    <tr>\n      <th>24</th>\n      <td>OPERAÍES EM BOLSA PR 12/09/2019 NOTA N¼ 16418593</td>\n      <td>-27,630.26</td>\n    </tr>\n    <tr>\n      <th>81</th>\n      <td>TED TER BCO 017 AGE 0001 CTA 1603 9 - TED APLI...</td>\n      <td>-29,500.00</td>\n    </tr>\n    <tr>\n      <th>78</th>\n      <td>TED TER BCO 017 AGE 0001 CTA 1310 2 - TED APLI...</td>\n      <td>-30,000.00</td>\n    </tr>\n    <tr>\n      <th>84</th>\n      <td>TED TER BCO 208 AGE 0001 CTA 183448 - TED APLI...</td>\n      <td>-33,000.00</td>\n    </tr>\n    <tr>\n      <th>85</th>\n      <td>TED TER BCO 237 AGE 2856 CTA 4563 2 - TED APLI...</td>\n      <td>-73,000.00</td>\n    </tr>\n  </tbody>\n</table>\n</div>"
     },
     "metadata": {}
    }
   ],
   "source": [
    "display(extract.groupby('Hist__o').agg({'Valor':'sum'}).reset_index().sort_values('Valor', ascending=False).head())\n",
    "display(extract.groupby('Hist__o').agg({'Valor':'sum'}).reset_index().sort_values('Valor', ascending=False).tail(5)) # Aportes para fundos"
   ]
  },
  {
   "cell_type": "code",
   "execution_count": 157,
   "metadata": {},
   "outputs": [
    {
     "output_type": "display_data",
     "data": {
      "text/plain": "array([['IRRF S/ RESGATE FUNDOS - COME COTAS Mau\\x87 Macro FIC FIM',\n        '01/06/2017', -109.38],\n       ['IRRF S/ RESGATE FUNDOS - COME COTAS XP LONG SHORT',\n        '01/06/2016', -132.97],\n       ['IRRF S/ RESGATE FUNDOS - COME COTAS MiraeMacroStrategy',\n        '05/12/2016', -180.48],\n       ['OPERA\\x82ÍES EM BOLSA LIQ. D+1 PR 24/05/2017 NOTA N¼ 8920878',\n        '24/05/2017', -193.66],\n       ['IRRF S/ RESGATE FUNDOS - COME COTAS MiraeMacroStrategy',\n        '01/06/2017', -197.23],\n       ['IRRF S/ RESGATE FUNDOS - COME COTAS XP LONG SHORT',\n        '05/12/2016', -242.19],\n       ['IRRF S/ RESGATE FUNDOS - COME COTAS Azul QuantitativoFIM',\n        '01/06/2015', -251.79],\n       ['DEPOSITO DE MARGEM DE GARANTIA', '19/06/2017', -578.89],\n       ['TED BCO 341 AGE 0407 CTA 03400 8 - RETIRADA EM C/C',\n        '03/12/2015', -3000.0],\n       ['TED TER BCO 655 AGE 0001 CTA 1296001 5 - TED APLICA\\x82ÌO FUNDOS Vot.FicFi CambialD',\n        '10/09/2015', -3000.0],\n       ['TED TER BCO 752 AGE 001 CTA 6241001 - TED APLICA\\x82ÌO FUNDOS BNP Inflacao Firf',\n        '13/01/2015', -5000.0],\n       ['OPERA\\x82ÍES EM BOLSA PR 21/01/2020 NOTA N¼ 18675354',\n        '21/01/2020', -5156.59],\n       ['TED TER BCO 752 AGE 001 CTA 6241001 - TED APLICA\\x82ÌO FUNDOS BNP Inflacao Firf',\n        '26/02/2015', -5300.0],\n       ['OPERA\\x82ÍES EM BOLSA PR 20/01/2020 NOTA N¼ 18641437',\n        '20/01/2020', -5679.45],\n       ['TED TER BCO 208 AGE 0001 CTA 122709 - TED APLICA\\x82ÌO FUNDOS Mau\\x87 Macro FIC FIM',\n        '16/11/2016', -8400.0],\n       ['TED BCO 341 AGE 407 CTA 34008 - RETIRADA EM C/C', '03/09/2018',\n        -9000.0],\n       ['TED TER BCO 017 AGE 0001 CTA 1603 9 - TED APLICA\\x82ÌO FUNDOS XP Macro FIM',\n        '15/06/2018', -10000.0],\n       ['OPERA\\x82ÍES EM BOLSA PR 31/01/2020 NOTA N¼ 18930812',\n        '31/01/2020', -12969.66],\n       ['TED TER BCO 017 AGE 0001 CTA 1518 0 - TED APLICA\\x82ÌO FUNDOS QuestMult FI CotasFI',\n        '17/03/2017', -15000.0],\n       ['TED TER BCO 017 AGE 0001 CTA 1221 1 - TED APLICA\\x82ÌO FUNDOS XP LONG SHORT',\n        '04/04/2016', -15000.0],\n       ['TED TER BCO 208 AGE 0001 CTA 122709 - TED APLICA\\x82ÌO FUNDOS Mau\\x87 Macro FIC FIM',\n        '17/03/2017', -15100.0],\n       ['TED TER BCO 017 AGE 0001 CTA 664 5 - TED APLICA\\x82ÌO FUNDOS MiraeMacroStrategy',\n        '04/04/2016', -16000.0],\n       ['TED TER BCO 017 AGE 0001 CTA 1603 9 - TED APLICA\\x82ÌO FUNDOS XP Macro FIM',\n        '30/04/2018', -19500.0],\n       ['TED TER BCO 017 AGE 0001 CTA 1540 7 - TED APLICA\\x82ÌO FUNDOS Equitas Selection FIC',\n        '12/09/2019', -19900.0],\n       ['OPERA\\x82ÍES EM BOLSA PR 13/03/2020 NOTA N¼ 19945320',\n        '13/03/2020', -22800.94],\n       ['TED TER BCO 237 AGE 2856 CTA 4563 2 - TED APLICA\\x82ÌO FUNDOS Bahia AM Mara\\x9c FIC FI',\n        '10/10/2017', -23000.0],\n       ['OPERA\\x82ÍES EM BOLSA PR 12/09/2019 NOTA N¼ 16418593',\n        '12/09/2019', -27630.26],\n       ['TED TER BCO 017 AGE 0001 CTA 1310 2 - TED APLICA\\x82ÌO FUNDOS Polo Norte I FIC FIM',\n        '27/12/2018', -30000.0],\n       ['TED TER BCO 208 AGE 0001 CTA 183448 - TED APLICA\\x82ÌO FUNDOS XP GlobCredit FICFIM',\n        '16/09/2015', -33000.0],\n       ['TED TER BCO 237 AGE 2856 CTA 4563 2 - TED APLICA\\x82ÌO FUNDOS Bahia AM Mara\\x9c FIC FI',\n        '05/10/2017', -50000.0]], dtype=object)"
     },
     "metadata": {}
    }
   ],
   "source": [
    "display(extract.groupby(['Hist__o', 'Mov']).agg({'Valor':'sum'}).reset_index().sort_values('Valor', ascending=False).tail(30).values)"
   ]
  },
  {
   "cell_type": "code",
   "execution_count": null,
   "metadata": {},
   "outputs": [],
   "source": []
  }
 ],
 "metadata": {
  "kernelspec": {
   "display_name": "Python 3",
   "language": "python",
   "name": "python3"
  },
  "language_info": {
   "codemirror_mode": {
    "name": "ipython",
    "version": 3
   },
   "file_extension": ".py",
   "mimetype": "text/x-python",
   "name": "python",
   "nbconvert_exporter": "python",
   "pygments_lexer": "ipython3",
   "version": "3.7.7-final"
  }
 },
 "nbformat": 4,
 "nbformat_minor": 2
}